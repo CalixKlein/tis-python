{
 "cells": [
  {
   "cell_type": "code",
   "execution_count": 1,
   "id": "6a57fd85",
   "metadata": {},
   "outputs": [],
   "source": [
    "import pandas as pd"
   ]
  },
  {
   "cell_type": "code",
<<<<<<< HEAD
   "execution_count": 2,
=======
   "execution_count": 3,
>>>>>>> 94677759afae943ac4282fb427e20b22d1464f2a
   "id": "7d5f373c",
   "metadata": {},
   "outputs": [
    {
     "data": {
      "text/html": [
       "<div>\n",
       "<style scoped>\n",
       "    .dataframe tbody tr th:only-of-type {\n",
       "        vertical-align: middle;\n",
       "    }\n",
       "\n",
       "    .dataframe tbody tr th {\n",
       "        vertical-align: top;\n",
       "    }\n",
       "\n",
       "    .dataframe thead th {\n",
       "        text-align: right;\n",
       "    }\n",
       "</style>\n",
       "<table border=\"1\" class=\"dataframe\">\n",
       "  <thead>\n",
       "    <tr style=\"text-align: right;\">\n",
       "      <th></th>\n",
       "      <th>국적코드</th>\n",
       "      <th>성별</th>\n",
       "      <th>입국객수</th>\n",
       "    </tr>\n",
       "  </thead>\n",
       "  <tbody>\n",
       "    <tr>\n",
       "      <th>0</th>\n",
       "      <td>A01</td>\n",
       "      <td>남성</td>\n",
       "      <td>106320</td>\n",
       "    </tr>\n",
       "    <tr>\n",
       "      <th>1</th>\n",
       "      <td>A01</td>\n",
       "      <td>여성</td>\n",
       "      <td>191436</td>\n",
       "    </tr>\n",
       "    <tr>\n",
       "      <th>2</th>\n",
       "      <td>A31</td>\n",
       "      <td>남성</td>\n",
       "      <td>319</td>\n",
       "    </tr>\n",
       "  </tbody>\n",
       "</table>\n",
       "</div>"
      ],
      "text/plain": [
       "  국적코드  성별    입국객수\n",
       "0  A01  남성  106320\n",
       "1  A01  여성  191436\n",
       "2  A31  남성     319"
      ]
     },
<<<<<<< HEAD
     "execution_count": 2,
=======
     "execution_count": 3,
>>>>>>> 94677759afae943ac4282fb427e20b22d1464f2a
     "metadata": {},
     "output_type": "execute_result"
    }
   ],
   "source": [
    "sample_1 = pd.read_excel('./files/sample_1.xlsx',\n",
    "                         header=1, #위쪽 컬럼\n",
    "                        skipfooter = 2, #아래쪽 2줄 제외\n",
    "                        usecols = 'A:C') \n",
    "sample_1.head(3)"
   ]
  },
  {
   "cell_type": "code",
<<<<<<< HEAD
   "execution_count": 3,
=======
   "execution_count": 5,
>>>>>>> 94677759afae943ac4282fb427e20b22d1464f2a
   "id": "ed68c9ce",
   "metadata": {},
   "outputs": [
    {
     "data": {
      "text/html": [
       "<div>\n",
       "<style scoped>\n",
       "    .dataframe tbody tr th:only-of-type {\n",
       "        vertical-align: middle;\n",
       "    }\n",
       "\n",
       "    .dataframe tbody tr th {\n",
       "        vertical-align: top;\n",
       "    }\n",
       "\n",
       "    .dataframe thead th {\n",
       "        text-align: right;\n",
       "    }\n",
       "</style>\n",
       "<table border=\"1\" class=\"dataframe\">\n",
       "  <thead>\n",
       "    <tr style=\"text-align: right;\">\n",
       "      <th></th>\n",
       "      <th>국적코드</th>\n",
       "      <th>성별</th>\n",
       "      <th>입국객수</th>\n",
       "    </tr>\n",
       "  </thead>\n",
       "  <tbody>\n",
       "    <tr>\n",
       "      <th>3</th>\n",
       "      <td>A31</td>\n",
       "      <td>여성</td>\n",
       "      <td>42</td>\n",
       "    </tr>\n",
       "    <tr>\n",
       "      <th>4</th>\n",
       "      <td>A18</td>\n",
       "      <td>남성</td>\n",
       "      <td>158912</td>\n",
       "    </tr>\n",
       "    <tr>\n",
       "      <th>5</th>\n",
       "      <td>A18</td>\n",
       "      <td>여성</td>\n",
       "      <td>232943</td>\n",
       "    </tr>\n",
       "  </tbody>\n",
       "</table>\n",
       "</div>"
      ],
      "text/plain": [
       "  국적코드  성별    입국객수\n",
       "3  A31  여성      42\n",
       "4  A18  남성  158912\n",
       "5  A18  여성  232943"
      ]
     },
<<<<<<< HEAD
     "execution_count": 3,
=======
     "execution_count": 5,
>>>>>>> 94677759afae943ac4282fb427e20b22d1464f2a
     "metadata": {},
     "output_type": "execute_result"
    }
   ],
   "source": [
    "sample_1.tail(3)"
   ]
  },
  {
   "cell_type": "code",
<<<<<<< HEAD
   "execution_count": 4,
=======
   "execution_count": 7,
>>>>>>> 94677759afae943ac4282fb427e20b22d1464f2a
   "id": "562ca93f",
   "metadata": {},
   "outputs": [
    {
     "name": "stdout",
     "output_type": "stream",
     "text": [
      "<class 'pandas.core.frame.DataFrame'>\n",
      "RangeIndex: 6 entries, 0 to 5\n",
      "Data columns (total 3 columns):\n",
      " #   Column  Non-Null Count  Dtype \n",
      "---  ------  --------------  ----- \n",
      " 0   국적코드    6 non-null      object\n",
      " 1   성별      6 non-null      object\n",
      " 2   입국객수    6 non-null      int64 \n",
      "dtypes: int64(1), object(2)\n",
      "memory usage: 272.0+ bytes\n"
     ]
    }
   ],
   "source": [
    "sample_1.info()"
   ]
  },
  {
   "cell_type": "code",
<<<<<<< HEAD
   "execution_count": 5,
=======
   "execution_count": 9,
>>>>>>> 94677759afae943ac4282fb427e20b22d1464f2a
   "id": "d1466b0a",
   "metadata": {},
   "outputs": [
    {
     "data": {
      "text/html": [
       "<div>\n",
       "<style scoped>\n",
       "    .dataframe tbody tr th:only-of-type {\n",
       "        vertical-align: middle;\n",
       "    }\n",
       "\n",
       "    .dataframe tbody tr th {\n",
       "        vertical-align: top;\n",
       "    }\n",
       "\n",
       "    .dataframe thead th {\n",
       "        text-align: right;\n",
       "    }\n",
       "</style>\n",
       "<table border=\"1\" class=\"dataframe\">\n",
       "  <thead>\n",
       "    <tr style=\"text-align: right;\">\n",
       "      <th></th>\n",
       "      <th>입국객수</th>\n",
       "    </tr>\n",
       "  </thead>\n",
       "  <tbody>\n",
       "    <tr>\n",
       "      <th>count</th>\n",
       "      <td>6.000000</td>\n",
       "    </tr>\n",
       "    <tr>\n",
       "      <th>mean</th>\n",
       "      <td>114995.333333</td>\n",
       "    </tr>\n",
       "    <tr>\n",
       "      <th>std</th>\n",
       "      <td>98105.752006</td>\n",
       "    </tr>\n",
       "    <tr>\n",
       "      <th>min</th>\n",
       "      <td>42.000000</td>\n",
       "    </tr>\n",
       "    <tr>\n",
       "      <th>25%</th>\n",
       "      <td>26819.250000</td>\n",
       "    </tr>\n",
       "    <tr>\n",
       "      <th>50%</th>\n",
       "      <td>132616.000000</td>\n",
       "    </tr>\n",
       "    <tr>\n",
       "      <th>75%</th>\n",
       "      <td>183305.000000</td>\n",
       "    </tr>\n",
       "    <tr>\n",
       "      <th>max</th>\n",
       "      <td>232943.000000</td>\n",
       "    </tr>\n",
       "  </tbody>\n",
       "</table>\n",
       "</div>"
      ],
      "text/plain": [
       "                입국객수\n",
       "count       6.000000\n",
       "mean   114995.333333\n",
       "std     98105.752006\n",
       "min        42.000000\n",
       "25%     26819.250000\n",
       "50%    132616.000000\n",
       "75%    183305.000000\n",
       "max    232943.000000"
      ]
     },
<<<<<<< HEAD
     "execution_count": 5,
=======
     "execution_count": 9,
>>>>>>> 94677759afae943ac4282fb427e20b22d1464f2a
     "metadata": {},
     "output_type": "execute_result"
    }
   ],
   "source": [
    "sample_1.describe()"
   ]
  },
  {
   "cell_type": "code",
<<<<<<< HEAD
   "execution_count": 6,
=======
   "execution_count": 11,
>>>>>>> 94677759afae943ac4282fb427e20b22d1464f2a
   "id": "558cbfc9",
   "metadata": {},
   "outputs": [
    {
     "data": {
      "text/html": [
       "<div>\n",
       "<style scoped>\n",
       "    .dataframe tbody tr th:only-of-type {\n",
       "        vertical-align: middle;\n",
       "    }\n",
       "\n",
       "    .dataframe tbody tr th {\n",
       "        vertical-align: top;\n",
       "    }\n",
       "\n",
       "    .dataframe thead th {\n",
       "        text-align: right;\n",
       "    }\n",
       "</style>\n",
       "<table border=\"1\" class=\"dataframe\">\n",
       "  <thead>\n",
       "    <tr style=\"text-align: right;\">\n",
       "      <th></th>\n",
       "      <th>국적코드</th>\n",
       "      <th>성별</th>\n",
       "      <th>입국객수</th>\n",
       "    </tr>\n",
       "  </thead>\n",
       "  <tbody>\n",
       "    <tr>\n",
       "      <th>0</th>\n",
       "      <td>A01</td>\n",
       "      <td>남성</td>\n",
       "      <td>106320</td>\n",
       "    </tr>\n",
       "    <tr>\n",
       "      <th>1</th>\n",
       "      <td>A01</td>\n",
       "      <td>여성</td>\n",
       "      <td>191436</td>\n",
       "    </tr>\n",
       "    <tr>\n",
       "      <th>2</th>\n",
       "      <td>A31</td>\n",
       "      <td>남성</td>\n",
       "      <td>319</td>\n",
       "    </tr>\n",
       "    <tr>\n",
       "      <th>3</th>\n",
       "      <td>A31</td>\n",
       "      <td>여성</td>\n",
       "      <td>42</td>\n",
       "    </tr>\n",
       "    <tr>\n",
       "      <th>4</th>\n",
       "      <td>A18</td>\n",
       "      <td>남성</td>\n",
       "      <td>158912</td>\n",
       "    </tr>\n",
       "    <tr>\n",
       "      <th>5</th>\n",
       "      <td>A18</td>\n",
       "      <td>여성</td>\n",
       "      <td>232943</td>\n",
       "    </tr>\n",
       "  </tbody>\n",
       "</table>\n",
       "</div>"
      ],
      "text/plain": [
       "  국적코드  성별    입국객수\n",
       "0  A01  남성  106320\n",
       "1  A01  여성  191436\n",
       "2  A31  남성     319\n",
       "3  A31  여성      42\n",
       "4  A18  남성  158912\n",
       "5  A18  여성  232943"
      ]
     },
<<<<<<< HEAD
     "execution_count": 6,
=======
     "execution_count": 11,
>>>>>>> 94677759afae943ac4282fb427e20b22d1464f2a
     "metadata": {},
     "output_type": "execute_result"
    }
   ],
   "source": [
    "sample_1"
   ]
  },
  {
   "cell_type": "code",
<<<<<<< HEAD
   "execution_count": 7,
=======
   "execution_count": 13,
>>>>>>> 94677759afae943ac4282fb427e20b22d1464f2a
   "id": "6371afff",
   "metadata": {},
   "outputs": [
    {
     "data": {
      "text/html": [
       "<div>\n",
       "<style scoped>\n",
       "    .dataframe tbody tr th:only-of-type {\n",
       "        vertical-align: middle;\n",
       "    }\n",
       "\n",
       "    .dataframe tbody tr th {\n",
       "        vertical-align: top;\n",
       "    }\n",
       "\n",
       "    .dataframe thead th {\n",
       "        text-align: right;\n",
       "    }\n",
       "</style>\n",
       "<table border=\"1\" class=\"dataframe\">\n",
       "  <thead>\n",
       "    <tr style=\"text-align: right;\">\n",
       "      <th></th>\n",
       "      <th>국적코드</th>\n",
       "      <th>입국객수</th>\n",
       "    </tr>\n",
       "  </thead>\n",
       "  <tbody>\n",
       "    <tr>\n",
       "      <th>0</th>\n",
       "      <td>A01</td>\n",
       "      <td>106320</td>\n",
       "    </tr>\n",
       "    <tr>\n",
       "      <th>1</th>\n",
       "      <td>A01</td>\n",
       "      <td>191436</td>\n",
       "    </tr>\n",
       "    <tr>\n",
       "      <th>2</th>\n",
       "      <td>A31</td>\n",
       "      <td>319</td>\n",
       "    </tr>\n",
       "    <tr>\n",
       "      <th>3</th>\n",
       "      <td>A31</td>\n",
       "      <td>42</td>\n",
       "    </tr>\n",
       "    <tr>\n",
       "      <th>4</th>\n",
       "      <td>A18</td>\n",
       "      <td>158912</td>\n",
       "    </tr>\n",
       "    <tr>\n",
       "      <th>5</th>\n",
       "      <td>A18</td>\n",
       "      <td>232943</td>\n",
       "    </tr>\n",
       "  </tbody>\n",
       "</table>\n",
       "</div>"
      ],
      "text/plain": [
       "  국적코드    입국객수\n",
       "0  A01  106320\n",
       "1  A01  191436\n",
       "2  A31     319\n",
       "3  A31      42\n",
       "4  A18  158912\n",
       "5  A18  232943"
      ]
     },
<<<<<<< HEAD
     "execution_count": 7,
=======
     "execution_count": 13,
>>>>>>> 94677759afae943ac4282fb427e20b22d1464f2a
     "metadata": {},
     "output_type": "execute_result"
    }
   ],
   "source": [
    "sample_1[['국적코드','입국객수']]"
   ]
  },
  {
   "cell_type": "code",
<<<<<<< HEAD
   "execution_count": 8,
=======
   "execution_count": 15,
>>>>>>> 94677759afae943ac4282fb427e20b22d1464f2a
   "id": "152e633f",
   "metadata": {},
   "outputs": [],
   "source": [
    "sample_1['기준년월'] = '2019-11'"
   ]
  },
  {
   "cell_type": "code",
<<<<<<< HEAD
   "execution_count": 9,
=======
   "execution_count": 17,
>>>>>>> 94677759afae943ac4282fb427e20b22d1464f2a
   "id": "28607d8d",
   "metadata": {},
   "outputs": [
    {
     "data": {
      "text/html": [
       "<div>\n",
       "<style scoped>\n",
       "    .dataframe tbody tr th:only-of-type {\n",
       "        vertical-align: middle;\n",
       "    }\n",
       "\n",
       "    .dataframe tbody tr th {\n",
       "        vertical-align: top;\n",
       "    }\n",
       "\n",
       "    .dataframe thead th {\n",
       "        text-align: right;\n",
       "    }\n",
       "</style>\n",
       "<table border=\"1\" class=\"dataframe\">\n",
       "  <thead>\n",
       "    <tr style=\"text-align: right;\">\n",
       "      <th></th>\n",
       "      <th>국적코드</th>\n",
       "      <th>성별</th>\n",
       "      <th>입국객수</th>\n",
       "      <th>기준년월</th>\n",
       "    </tr>\n",
       "  </thead>\n",
       "  <tbody>\n",
       "    <tr>\n",
       "      <th>0</th>\n",
       "      <td>A01</td>\n",
       "      <td>남성</td>\n",
       "      <td>106320</td>\n",
       "      <td>2019-11</td>\n",
       "    </tr>\n",
       "    <tr>\n",
       "      <th>1</th>\n",
       "      <td>A01</td>\n",
       "      <td>여성</td>\n",
       "      <td>191436</td>\n",
       "      <td>2019-11</td>\n",
       "    </tr>\n",
       "    <tr>\n",
       "      <th>2</th>\n",
       "      <td>A31</td>\n",
       "      <td>남성</td>\n",
       "      <td>319</td>\n",
       "      <td>2019-11</td>\n",
       "    </tr>\n",
       "    <tr>\n",
       "      <th>3</th>\n",
       "      <td>A31</td>\n",
       "      <td>여성</td>\n",
       "      <td>42</td>\n",
       "      <td>2019-11</td>\n",
       "    </tr>\n",
       "    <tr>\n",
       "      <th>4</th>\n",
       "      <td>A18</td>\n",
       "      <td>남성</td>\n",
       "      <td>158912</td>\n",
       "      <td>2019-11</td>\n",
       "    </tr>\n",
       "    <tr>\n",
       "      <th>5</th>\n",
       "      <td>A18</td>\n",
       "      <td>여성</td>\n",
       "      <td>232943</td>\n",
       "      <td>2019-11</td>\n",
       "    </tr>\n",
       "  </tbody>\n",
       "</table>\n",
       "</div>"
      ],
      "text/plain": [
       "  국적코드  성별    입국객수     기준년월\n",
       "0  A01  남성  106320  2019-11\n",
       "1  A01  여성  191436  2019-11\n",
       "2  A31  남성     319  2019-11\n",
       "3  A31  여성      42  2019-11\n",
       "4  A18  남성  158912  2019-11\n",
       "5  A18  여성  232943  2019-11"
      ]
     },
<<<<<<< HEAD
     "execution_count": 9,
=======
     "execution_count": 17,
>>>>>>> 94677759afae943ac4282fb427e20b22d1464f2a
     "metadata": {},
     "output_type": "execute_result"
    }
   ],
   "source": [
    "sample_1"
   ]
  },
  {
   "cell_type": "code",
<<<<<<< HEAD
   "execution_count": 10,
=======
   "execution_count": 19,
>>>>>>> 94677759afae943ac4282fb427e20b22d1464f2a
   "id": "5ddc0552",
   "metadata": {},
   "outputs": [
    {
     "data": {
      "text/plain": [
       "0     True\n",
       "1    False\n",
       "2     True\n",
       "3    False\n",
       "4     True\n",
       "5    False\n",
       "Name: 성별, dtype: bool"
      ]
     },
<<<<<<< HEAD
     "execution_count": 10,
=======
     "execution_count": 19,
>>>>>>> 94677759afae943ac4282fb427e20b22d1464f2a
     "metadata": {},
     "output_type": "execute_result"
    }
   ],
   "source": [
    "condition = (sample_1['성별'] == '남성')\n",
    "condition"
   ]
  },
  {
   "cell_type": "code",
<<<<<<< HEAD
   "execution_count": 11,
=======
   "execution_count": 20,
>>>>>>> 94677759afae943ac4282fb427e20b22d1464f2a
   "id": "e722d8af",
   "metadata": {},
   "outputs": [],
   "source": [
    "#블리언 인덱싱"
   ]
  },
  {
   "cell_type": "code",
<<<<<<< HEAD
   "execution_count": 12,
=======
   "execution_count": 22,
>>>>>>> 94677759afae943ac4282fb427e20b22d1464f2a
   "id": "caaf4157",
   "metadata": {},
   "outputs": [
    {
     "data": {
      "text/html": [
       "<div>\n",
       "<style scoped>\n",
       "    .dataframe tbody tr th:only-of-type {\n",
       "        vertical-align: middle;\n",
       "    }\n",
       "\n",
       "    .dataframe tbody tr th {\n",
       "        vertical-align: top;\n",
       "    }\n",
       "\n",
       "    .dataframe thead th {\n",
       "        text-align: right;\n",
       "    }\n",
       "</style>\n",
       "<table border=\"1\" class=\"dataframe\">\n",
       "  <thead>\n",
       "    <tr style=\"text-align: right;\">\n",
       "      <th></th>\n",
       "      <th>국적코드</th>\n",
       "      <th>성별</th>\n",
       "      <th>입국객수</th>\n",
       "      <th>기준년월</th>\n",
       "    </tr>\n",
       "  </thead>\n",
       "  <tbody>\n",
       "    <tr>\n",
       "      <th>0</th>\n",
       "      <td>A01</td>\n",
       "      <td>남성</td>\n",
       "      <td>106320</td>\n",
       "      <td>2019-11</td>\n",
       "    </tr>\n",
       "    <tr>\n",
       "      <th>2</th>\n",
       "      <td>A31</td>\n",
       "      <td>남성</td>\n",
       "      <td>319</td>\n",
       "      <td>2019-11</td>\n",
       "    </tr>\n",
       "    <tr>\n",
       "      <th>4</th>\n",
       "      <td>A18</td>\n",
       "      <td>남성</td>\n",
       "      <td>158912</td>\n",
       "      <td>2019-11</td>\n",
       "    </tr>\n",
       "  </tbody>\n",
       "</table>\n",
       "</div>"
      ],
      "text/plain": [
       "  국적코드  성별    입국객수     기준년월\n",
       "0  A01  남성  106320  2019-11\n",
       "2  A31  남성     319  2019-11\n",
       "4  A18  남성  158912  2019-11"
      ]
     },
<<<<<<< HEAD
     "execution_count": 12,
=======
     "execution_count": 22,
>>>>>>> 94677759afae943ac4282fb427e20b22d1464f2a
     "metadata": {},
     "output_type": "execute_result"
    }
   ],
   "source": [
    "sample_1[condition]"
   ]
  },
  {
   "cell_type": "code",
<<<<<<< HEAD
   "execution_count": 13,
=======
   "execution_count": 25,
>>>>>>> 94677759afae943ac4282fb427e20b22d1464f2a
   "id": "d7d3f26f",
   "metadata": {},
   "outputs": [],
   "source": [
    "conditions = (sample_1['성별']=='남성') &(sample_1['입국객수'] >= 15000)"
   ]
  },
  {
   "cell_type": "code",
<<<<<<< HEAD
   "execution_count": 14,
=======
   "execution_count": 27,
>>>>>>> 94677759afae943ac4282fb427e20b22d1464f2a
   "id": "d7ca197d",
   "metadata": {},
   "outputs": [
    {
     "data": {
      "text/plain": [
       "0     True\n",
       "1    False\n",
       "2    False\n",
       "3    False\n",
       "4     True\n",
       "5    False\n",
       "dtype: bool"
      ]
     },
<<<<<<< HEAD
     "execution_count": 14,
=======
     "execution_count": 27,
>>>>>>> 94677759afae943ac4282fb427e20b22d1464f2a
     "metadata": {},
     "output_type": "execute_result"
    }
   ],
   "source": [
    "conditions "
   ]
  },
  {
   "cell_type": "code",
<<<<<<< HEAD
   "execution_count": 15,
=======
   "execution_count": 30,
>>>>>>> 94677759afae943ac4282fb427e20b22d1464f2a
   "id": "eb745256",
   "metadata": {},
   "outputs": [
    {
     "data": {
      "text/html": [
       "<div>\n",
       "<style scoped>\n",
       "    .dataframe tbody tr th:only-of-type {\n",
       "        vertical-align: middle;\n",
       "    }\n",
       "\n",
       "    .dataframe tbody tr th {\n",
       "        vertical-align: top;\n",
       "    }\n",
       "\n",
       "    .dataframe thead th {\n",
       "        text-align: right;\n",
       "    }\n",
       "</style>\n",
       "<table border=\"1\" class=\"dataframe\">\n",
       "  <thead>\n",
       "    <tr style=\"text-align: right;\">\n",
       "      <th></th>\n",
       "      <th>국적코드</th>\n",
       "      <th>성별</th>\n",
       "      <th>입국객수</th>\n",
       "      <th>기준년월</th>\n",
       "    </tr>\n",
       "  </thead>\n",
       "  <tbody>\n",
       "    <tr>\n",
       "      <th>0</th>\n",
       "      <td>A01</td>\n",
       "      <td>남성</td>\n",
       "      <td>106320</td>\n",
       "      <td>2019-11</td>\n",
       "    </tr>\n",
       "    <tr>\n",
       "      <th>4</th>\n",
       "      <td>A18</td>\n",
       "      <td>남성</td>\n",
       "      <td>158912</td>\n",
       "      <td>2019-11</td>\n",
       "    </tr>\n",
       "  </tbody>\n",
       "</table>\n",
       "</div>"
      ],
      "text/plain": [
       "  국적코드  성별    입국객수     기준년월\n",
       "0  A01  남성  106320  2019-11\n",
       "4  A18  남성  158912  2019-11"
      ]
     },
<<<<<<< HEAD
     "execution_count": 15,
=======
     "execution_count": 30,
>>>>>>> 94677759afae943ac4282fb427e20b22d1464f2a
     "metadata": {},
     "output_type": "execute_result"
    }
   ],
   "source": [
    "sample_1[conditions]"
   ]
  },
  {
   "cell_type": "code",
<<<<<<< HEAD
   "execution_count": 16,
=======
   "execution_count": 33,
>>>>>>> 94677759afae943ac4282fb427e20b22d1464f2a
   "id": "320dd4d1",
   "metadata": {},
   "outputs": [
    {
     "data": {
      "text/html": [
       "<div>\n",
       "<style scoped>\n",
       "    .dataframe tbody tr th:only-of-type {\n",
       "        vertical-align: middle;\n",
       "    }\n",
       "\n",
       "    .dataframe tbody tr th {\n",
       "        vertical-align: top;\n",
       "    }\n",
       "\n",
       "    .dataframe thead th {\n",
       "        text-align: right;\n",
       "    }\n",
       "</style>\n",
       "<table border=\"1\" class=\"dataframe\">\n",
       "  <thead>\n",
       "    <tr style=\"text-align: right;\">\n",
       "      <th></th>\n",
       "      <th>국적코드</th>\n",
       "      <th>성별</th>\n",
       "      <th>입국객수</th>\n",
       "      <th>기준년월</th>\n",
       "    </tr>\n",
       "  </thead>\n",
       "  <tbody>\n",
       "    <tr>\n",
       "      <th>0</th>\n",
       "      <td>A01</td>\n",
       "      <td>남성</td>\n",
       "      <td>106320</td>\n",
       "      <td>2019-11</td>\n",
       "    </tr>\n",
       "    <tr>\n",
       "      <th>1</th>\n",
       "      <td>A01</td>\n",
       "      <td>여성</td>\n",
       "      <td>191436</td>\n",
       "      <td>2019-11</td>\n",
       "    </tr>\n",
       "    <tr>\n",
       "      <th>4</th>\n",
       "      <td>A18</td>\n",
       "      <td>남성</td>\n",
       "      <td>158912</td>\n",
       "      <td>2019-11</td>\n",
       "    </tr>\n",
       "    <tr>\n",
       "      <th>5</th>\n",
       "      <td>A18</td>\n",
       "      <td>여성</td>\n",
       "      <td>232943</td>\n",
       "      <td>2019-11</td>\n",
       "    </tr>\n",
       "  </tbody>\n",
       "</table>\n",
       "</div>"
      ],
      "text/plain": [
       "  국적코드  성별    입국객수     기준년월\n",
       "0  A01  남성  106320  2019-11\n",
       "1  A01  여성  191436  2019-11\n",
       "4  A18  남성  158912  2019-11\n",
       "5  A18  여성  232943  2019-11"
      ]
     },
<<<<<<< HEAD
     "execution_count": 16,
=======
     "execution_count": 33,
>>>>>>> 94677759afae943ac4282fb427e20b22d1464f2a
     "metadata": {},
     "output_type": "execute_result"
    }
   ],
   "source": [
    "conditions = (sample_1['국적코드'] == 'A01') | (sample_1['국적코드']=='A18')\n",
    "sample_1[conditions]"
   ]
  },
  {
   "cell_type": "code",
<<<<<<< HEAD
   "execution_count": 17,
=======
   "execution_count": 38,
>>>>>>> 94677759afae943ac4282fb427e20b22d1464f2a
   "id": "7b450e3c",
   "metadata": {},
   "outputs": [
    {
     "data": {
      "text/plain": [
       "0     True\n",
       "1     True\n",
       "2    False\n",
       "3    False\n",
       "4     True\n",
       "5     True\n",
       "Name: 국적코드, dtype: bool"
      ]
     },
<<<<<<< HEAD
     "execution_count": 17,
=======
     "execution_count": 38,
>>>>>>> 94677759afae943ac4282fb427e20b22d1464f2a
     "metadata": {},
     "output_type": "execute_result"
    }
   ],
   "source": [
    "conditions = (sample_1['국적코드'].isin(['A01','A18']))\n",
    "conditions"
   ]
  },
  {
   "cell_type": "markdown",
   "id": "ce5b80dc",
   "metadata": {},
   "source": [
    "데이터 통합하기(옆으로 통합)"
   ]
  },
  {
   "cell_type": "code",
<<<<<<< HEAD
   "execution_count": 18,
=======
   "execution_count": 40,
>>>>>>> 94677759afae943ac4282fb427e20b22d1464f2a
   "id": "b9018f55",
   "metadata": {},
   "outputs": [
    {
     "data": {
      "text/html": [
       "<div>\n",
       "<style scoped>\n",
       "    .dataframe tbody tr th:only-of-type {\n",
       "        vertical-align: middle;\n",
       "    }\n",
       "\n",
       "    .dataframe tbody tr th {\n",
       "        vertical-align: top;\n",
       "    }\n",
       "\n",
       "    .dataframe thead th {\n",
       "        text-align: right;\n",
       "    }\n",
       "</style>\n",
       "<table border=\"1\" class=\"dataframe\">\n",
       "  <thead>\n",
       "    <tr style=\"text-align: right;\">\n",
       "      <th></th>\n",
       "      <th>국적코드</th>\n",
       "      <th>성별</th>\n",
       "      <th>입국객수</th>\n",
       "      <th>기준년월</th>\n",
       "    </tr>\n",
       "  </thead>\n",
       "  <tbody>\n",
       "    <tr>\n",
       "      <th>0</th>\n",
       "      <td>A01</td>\n",
       "      <td>남성</td>\n",
       "      <td>106320</td>\n",
       "      <td>2019-11</td>\n",
       "    </tr>\n",
       "    <tr>\n",
       "      <th>1</th>\n",
       "      <td>A01</td>\n",
       "      <td>여성</td>\n",
       "      <td>191436</td>\n",
       "      <td>2019-11</td>\n",
       "    </tr>\n",
       "    <tr>\n",
       "      <th>2</th>\n",
       "      <td>A31</td>\n",
       "      <td>남성</td>\n",
       "      <td>319</td>\n",
       "      <td>2019-11</td>\n",
       "    </tr>\n",
       "    <tr>\n",
       "      <th>3</th>\n",
       "      <td>A31</td>\n",
       "      <td>여성</td>\n",
       "      <td>42</td>\n",
       "      <td>2019-11</td>\n",
       "    </tr>\n",
       "    <tr>\n",
       "      <th>4</th>\n",
       "      <td>A18</td>\n",
       "      <td>남성</td>\n",
       "      <td>158912</td>\n",
       "      <td>2019-11</td>\n",
       "    </tr>\n",
       "    <tr>\n",
       "      <th>5</th>\n",
       "      <td>A18</td>\n",
       "      <td>여성</td>\n",
       "      <td>232943</td>\n",
       "      <td>2019-11</td>\n",
       "    </tr>\n",
       "  </tbody>\n",
       "</table>\n",
       "</div>"
      ],
      "text/plain": [
       "  국적코드  성별    입국객수     기준년월\n",
       "0  A01  남성  106320  2019-11\n",
       "1  A01  여성  191436  2019-11\n",
       "2  A31  남성     319  2019-11\n",
       "3  A31  여성      42  2019-11\n",
       "4  A18  남성  158912  2019-11\n",
       "5  A18  여성  232943  2019-11"
      ]
     },
<<<<<<< HEAD
     "execution_count": 18,
=======
     "execution_count": 40,
>>>>>>> 94677759afae943ac4282fb427e20b22d1464f2a
     "metadata": {},
     "output_type": "execute_result"
    }
   ],
   "source": [
    "sample_1"
   ]
  },
  {
   "cell_type": "code",
<<<<<<< HEAD
   "execution_count": 19,
=======
   "execution_count": 43,
>>>>>>> 94677759afae943ac4282fb427e20b22d1464f2a
   "id": "1fe5db12",
   "metadata": {},
   "outputs": [
    {
     "data": {
      "text/html": [
       "<div>\n",
       "<style scoped>\n",
       "    .dataframe tbody tr th:only-of-type {\n",
       "        vertical-align: middle;\n",
       "    }\n",
       "\n",
       "    .dataframe tbody tr th {\n",
       "        vertical-align: top;\n",
       "    }\n",
       "\n",
       "    .dataframe thead th {\n",
       "        text-align: right;\n",
       "    }\n",
       "</style>\n",
       "<table border=\"1\" class=\"dataframe\">\n",
       "  <thead>\n",
       "    <tr style=\"text-align: right;\">\n",
       "      <th></th>\n",
       "      <th>국적코드</th>\n",
       "      <th>국적명</th>\n",
       "    </tr>\n",
       "  </thead>\n",
       "  <tbody>\n",
       "    <tr>\n",
       "      <th>0</th>\n",
       "      <td>A01</td>\n",
       "      <td>일본</td>\n",
       "    </tr>\n",
       "    <tr>\n",
       "      <th>1</th>\n",
       "      <td>A02</td>\n",
       "      <td>대만</td>\n",
       "    </tr>\n",
       "    <tr>\n",
       "      <th>2</th>\n",
       "      <td>A03</td>\n",
       "      <td>홍콩</td>\n",
       "    </tr>\n",
       "    <tr>\n",
       "      <th>3</th>\n",
       "      <td>A18</td>\n",
       "      <td>중국</td>\n",
       "    </tr>\n",
       "    <tr>\n",
       "      <th>4</th>\n",
       "      <td>A19</td>\n",
       "      <td>이란</td>\n",
       "    </tr>\n",
       "    <tr>\n",
       "      <th>5</th>\n",
       "      <td>A22</td>\n",
       "      <td>우즈베키스탄</td>\n",
       "    </tr>\n",
       "    <tr>\n",
       "      <th>6</th>\n",
       "      <td>A23</td>\n",
       "      <td>카자흐스탄</td>\n",
       "    </tr>\n",
       "    <tr>\n",
       "      <th>7</th>\n",
       "      <td>A99</td>\n",
       "      <td>아시아 기타</td>\n",
       "    </tr>\n",
       "  </tbody>\n",
       "</table>\n",
       "</div>"
      ],
      "text/plain": [
       "  국적코드     국적명\n",
       "0  A01      일본\n",
       "1  A02      대만\n",
       "2  A03      홍콩\n",
       "3  A18      중국\n",
       "4  A19      이란\n",
       "5  A22  우즈베키스탄\n",
       "6  A23   카자흐스탄\n",
       "7  A99  아시아 기타"
      ]
     },
<<<<<<< HEAD
     "execution_count": 19,
=======
     "execution_count": 43,
>>>>>>> 94677759afae943ac4282fb427e20b22d1464f2a
     "metadata": {},
     "output_type": "execute_result"
    }
   ],
   "source": [
    "code_master = pd.read_excel('./files/sample_codemaster.xlsx')\n",
    "code_master"
   ]
  },
  {
   "cell_type": "code",
<<<<<<< HEAD
   "execution_count": 20,
=======
   "execution_count": 50,
>>>>>>> 94677759afae943ac4282fb427e20b22d1464f2a
   "id": "1f80fa27",
   "metadata": {},
   "outputs": [],
   "source": [
    "sample_1_code = pd.merge(left=sample_1,\n",
    "                        right = code_master,\n",
    "                        how = 'left',\n",
    "                        left_on='국적코드',\n",
    "                        right_on=\"국적코드\")"
   ]
  },
  {
   "cell_type": "code",
<<<<<<< HEAD
   "execution_count": 21,
=======
   "execution_count": 51,
>>>>>>> 94677759afae943ac4282fb427e20b22d1464f2a
   "id": "7d7e80d0",
   "metadata": {},
   "outputs": [
    {
     "data": {
      "text/html": [
       "<div>\n",
       "<style scoped>\n",
       "    .dataframe tbody tr th:only-of-type {\n",
       "        vertical-align: middle;\n",
       "    }\n",
       "\n",
       "    .dataframe tbody tr th {\n",
       "        vertical-align: top;\n",
       "    }\n",
       "\n",
       "    .dataframe thead th {\n",
       "        text-align: right;\n",
       "    }\n",
       "</style>\n",
       "<table border=\"1\" class=\"dataframe\">\n",
       "  <thead>\n",
       "    <tr style=\"text-align: right;\">\n",
       "      <th></th>\n",
       "      <th>국적코드</th>\n",
       "      <th>성별</th>\n",
       "      <th>입국객수</th>\n",
       "      <th>기준년월</th>\n",
       "      <th>국적명</th>\n",
       "    </tr>\n",
       "  </thead>\n",
       "  <tbody>\n",
       "    <tr>\n",
       "      <th>0</th>\n",
       "      <td>A01</td>\n",
       "      <td>남성</td>\n",
       "      <td>106320</td>\n",
       "      <td>2019-11</td>\n",
       "      <td>일본</td>\n",
       "    </tr>\n",
       "    <tr>\n",
       "      <th>1</th>\n",
       "      <td>A01</td>\n",
       "      <td>여성</td>\n",
       "      <td>191436</td>\n",
       "      <td>2019-11</td>\n",
       "      <td>일본</td>\n",
       "    </tr>\n",
       "    <tr>\n",
       "      <th>2</th>\n",
       "      <td>A31</td>\n",
       "      <td>남성</td>\n",
       "      <td>319</td>\n",
       "      <td>2019-11</td>\n",
       "      <td>NaN</td>\n",
       "    </tr>\n",
       "    <tr>\n",
       "      <th>3</th>\n",
       "      <td>A31</td>\n",
       "      <td>여성</td>\n",
       "      <td>42</td>\n",
       "      <td>2019-11</td>\n",
       "      <td>NaN</td>\n",
       "    </tr>\n",
       "    <tr>\n",
       "      <th>4</th>\n",
       "      <td>A18</td>\n",
       "      <td>남성</td>\n",
       "      <td>158912</td>\n",
       "      <td>2019-11</td>\n",
       "      <td>중국</td>\n",
       "    </tr>\n",
       "    <tr>\n",
       "      <th>5</th>\n",
       "      <td>A18</td>\n",
       "      <td>여성</td>\n",
       "      <td>232943</td>\n",
       "      <td>2019-11</td>\n",
       "      <td>중국</td>\n",
       "    </tr>\n",
       "  </tbody>\n",
       "</table>\n",
       "</div>"
      ],
      "text/plain": [
       "  국적코드  성별    입국객수     기준년월  국적명\n",
       "0  A01  남성  106320  2019-11   일본\n",
       "1  A01  여성  191436  2019-11   일본\n",
       "2  A31  남성     319  2019-11  NaN\n",
       "3  A31  여성      42  2019-11  NaN\n",
       "4  A18  남성  158912  2019-11   중국\n",
       "5  A18  여성  232943  2019-11   중국"
      ]
     },
<<<<<<< HEAD
     "execution_count": 21,
=======
     "execution_count": 51,
>>>>>>> 94677759afae943ac4282fb427e20b22d1464f2a
     "metadata": {},
     "output_type": "execute_result"
    }
   ],
   "source": [
    "sample_1_code"
   ]
  },
  {
   "cell_type": "code",
<<<<<<< HEAD
   "execution_count": 22,
=======
   "execution_count": 52,
>>>>>>> 94677759afae943ac4282fb427e20b22d1464f2a
   "id": "d9cc7cf0",
   "metadata": {},
   "outputs": [
    {
     "data": {
      "text/html": [
       "<div>\n",
       "<style scoped>\n",
       "    .dataframe tbody tr th:only-of-type {\n",
       "        vertical-align: middle;\n",
       "    }\n",
       "\n",
       "    .dataframe tbody tr th {\n",
       "        vertical-align: top;\n",
       "    }\n",
       "\n",
       "    .dataframe thead th {\n",
       "        text-align: right;\n",
       "    }\n",
       "</style>\n",
       "<table border=\"1\" class=\"dataframe\">\n",
       "  <thead>\n",
       "    <tr style=\"text-align: right;\">\n",
       "      <th></th>\n",
       "      <th>국적코드</th>\n",
       "      <th>성별</th>\n",
       "      <th>입국객수</th>\n",
       "      <th>기준년월</th>\n",
       "      <th>국적명</th>\n",
       "    </tr>\n",
       "  </thead>\n",
       "  <tbody>\n",
       "    <tr>\n",
       "      <th>0</th>\n",
       "      <td>A01</td>\n",
       "      <td>남성</td>\n",
       "      <td>106320</td>\n",
       "      <td>2019-11</td>\n",
       "      <td>일본</td>\n",
       "    </tr>\n",
       "    <tr>\n",
       "      <th>1</th>\n",
       "      <td>A01</td>\n",
       "      <td>여성</td>\n",
       "      <td>191436</td>\n",
       "      <td>2019-11</td>\n",
       "      <td>일본</td>\n",
       "    </tr>\n",
       "    <tr>\n",
       "      <th>2</th>\n",
       "      <td>A18</td>\n",
       "      <td>남성</td>\n",
       "      <td>158912</td>\n",
       "      <td>2019-11</td>\n",
       "      <td>중국</td>\n",
       "    </tr>\n",
       "    <tr>\n",
       "      <th>3</th>\n",
       "      <td>A18</td>\n",
       "      <td>여성</td>\n",
       "      <td>232943</td>\n",
       "      <td>2019-11</td>\n",
       "      <td>중국</td>\n",
       "    </tr>\n",
       "  </tbody>\n",
       "</table>\n",
       "</div>"
      ],
      "text/plain": [
       "  국적코드  성별    입국객수     기준년월 국적명\n",
       "0  A01  남성  106320  2019-11  일본\n",
       "1  A01  여성  191436  2019-11  일본\n",
       "2  A18  남성  158912  2019-11  중국\n",
       "3  A18  여성  232943  2019-11  중국"
      ]
     },
<<<<<<< HEAD
     "execution_count": 22,
=======
     "execution_count": 52,
>>>>>>> 94677759afae943ac4282fb427e20b22d1464f2a
     "metadata": {},
     "output_type": "execute_result"
    }
   ],
   "source": [
    "sample_1_inner = pd.merge(left=sample_1,\n",
    "                        right = code_master,\n",
    "                        how = 'inner',\n",
    "                        left_on='국적코드',\n",
    "                        right_on=\"국적코드\")\n",
    "sample_1_inner"
   ]
  },
  {
   "cell_type": "markdown",
   "id": "b6062912",
   "metadata": {},
   "source": [
    "데이터 통합하기 (아래로 통합)"
   ]
  },
  {
   "cell_type": "code",
<<<<<<< HEAD
   "execution_count": 23,
=======
   "execution_count": 53,
>>>>>>> 94677759afae943ac4282fb427e20b22d1464f2a
   "id": "ebc14dc9",
   "metadata": {},
   "outputs": [
    {
     "data": {
      "text/html": [
       "<div>\n",
       "<style scoped>\n",
       "    .dataframe tbody tr th:only-of-type {\n",
       "        vertical-align: middle;\n",
       "    }\n",
       "\n",
       "    .dataframe tbody tr th {\n",
       "        vertical-align: top;\n",
       "    }\n",
       "\n",
       "    .dataframe thead th {\n",
       "        text-align: right;\n",
       "    }\n",
       "</style>\n",
       "<table border=\"1\" class=\"dataframe\">\n",
       "  <thead>\n",
       "    <tr style=\"text-align: right;\">\n",
       "      <th></th>\n",
       "      <th>국적코드</th>\n",
       "      <th>성별</th>\n",
       "      <th>입국객수</th>\n",
       "    </tr>\n",
       "  </thead>\n",
       "  <tbody>\n",
       "    <tr>\n",
       "      <th>0</th>\n",
       "      <td>A01</td>\n",
       "      <td>남성</td>\n",
       "      <td>92556</td>\n",
       "    </tr>\n",
       "    <tr>\n",
       "      <th>1</th>\n",
       "      <td>A01</td>\n",
       "      <td>여성</td>\n",
       "      <td>163737</td>\n",
       "    </tr>\n",
       "    <tr>\n",
       "      <th>2</th>\n",
       "      <td>A18</td>\n",
       "      <td>남성</td>\n",
       "      <td>155540</td>\n",
       "    </tr>\n",
       "  </tbody>\n",
       "</table>\n",
       "</div>"
      ],
      "text/plain": [
       "  국적코드  성별    입국객수\n",
       "0  A01  남성   92556\n",
       "1  A01  여성  163737\n",
       "2  A18  남성  155540"
      ]
     },
<<<<<<< HEAD
     "execution_count": 23,
=======
     "execution_count": 53,
>>>>>>> 94677759afae943ac4282fb427e20b22d1464f2a
     "metadata": {},
     "output_type": "execute_result"
    }
   ],
   "source": [
    "sample_2 = pd.read_excel('./files/sample_2.xlsx',\n",
    "                         header=1, #위쪽 컬럼\n",
    "                        skipfooter = 2, #아래쪽 2줄 제외\n",
    "                        usecols = 'A:C') \n",
    "sample_2.head(3)"
   ]
  },
  {
   "cell_type": "code",
<<<<<<< HEAD
   "execution_count": 24,
=======
   "execution_count": 54,
>>>>>>> 94677759afae943ac4282fb427e20b22d1464f2a
   "id": "c76a7cfb",
   "metadata": {},
   "outputs": [],
   "source": [
    "sample_2['기준년월'] = '2019-12'"
   ]
  },
  {
   "cell_type": "code",
<<<<<<< HEAD
   "execution_count": 25,
=======
   "execution_count": 55,
>>>>>>> 94677759afae943ac4282fb427e20b22d1464f2a
   "id": "59afcdad",
   "metadata": {},
   "outputs": [
    {
     "data": {
      "text/html": [
       "<div>\n",
       "<style scoped>\n",
       "    .dataframe tbody tr th:only-of-type {\n",
       "        vertical-align: middle;\n",
       "    }\n",
       "\n",
       "    .dataframe tbody tr th {\n",
       "        vertical-align: top;\n",
       "    }\n",
       "\n",
       "    .dataframe thead th {\n",
       "        text-align: right;\n",
       "    }\n",
       "</style>\n",
       "<table border=\"1\" class=\"dataframe\">\n",
       "  <thead>\n",
       "    <tr style=\"text-align: right;\">\n",
       "      <th></th>\n",
       "      <th>국적코드</th>\n",
       "      <th>성별</th>\n",
       "      <th>입국객수</th>\n",
       "      <th>기준년월</th>\n",
       "      <th>국적명</th>\n",
       "    </tr>\n",
       "  </thead>\n",
       "  <tbody>\n",
       "    <tr>\n",
       "      <th>0</th>\n",
       "      <td>A01</td>\n",
       "      <td>남성</td>\n",
       "      <td>92556</td>\n",
       "      <td>2019-12</td>\n",
       "      <td>일본</td>\n",
       "    </tr>\n",
       "    <tr>\n",
       "      <th>1</th>\n",
       "      <td>A01</td>\n",
       "      <td>여성</td>\n",
       "      <td>163737</td>\n",
       "      <td>2019-12</td>\n",
       "      <td>일본</td>\n",
       "    </tr>\n",
       "    <tr>\n",
       "      <th>2</th>\n",
       "      <td>A18</td>\n",
       "      <td>남성</td>\n",
       "      <td>155540</td>\n",
       "      <td>2019-12</td>\n",
       "      <td>중국</td>\n",
       "    </tr>\n",
       "    <tr>\n",
       "      <th>3</th>\n",
       "      <td>A18</td>\n",
       "      <td>여성</td>\n",
       "      <td>249023</td>\n",
       "      <td>2019-12</td>\n",
       "      <td>중국</td>\n",
       "    </tr>\n",
       "  </tbody>\n",
       "</table>\n",
       "</div>"
      ],
      "text/plain": [
       "  국적코드  성별    입국객수     기준년월 국적명\n",
       "0  A01  남성   92556  2019-12  일본\n",
       "1  A01  여성  163737  2019-12  일본\n",
       "2  A18  남성  155540  2019-12  중국\n",
       "3  A18  여성  249023  2019-12  중국"
      ]
     },
<<<<<<< HEAD
     "execution_count": 25,
=======
     "execution_count": 55,
>>>>>>> 94677759afae943ac4282fb427e20b22d1464f2a
     "metadata": {},
     "output_type": "execute_result"
    }
   ],
   "source": [
    "sample_2_code = pd.merge(left=sample_2,\n",
    "                        right = code_master,\n",
    "                        how = 'left',\n",
    "                        left_on='국적코드',\n",
    "                        right_on=\"국적코드\")\n",
    "\n",
    "sample_2_code"
   ]
  },
  {
   "cell_type": "code",
<<<<<<< HEAD
   "execution_count": 26,
=======
   "execution_count": 57,
>>>>>>> 94677759afae943ac4282fb427e20b22d1464f2a
   "id": "8cecdf66",
   "metadata": {},
   "outputs": [
    {
     "data": {
      "text/html": [
       "<div>\n",
       "<style scoped>\n",
       "    .dataframe tbody tr th:only-of-type {\n",
       "        vertical-align: middle;\n",
       "    }\n",
       "\n",
       "    .dataframe tbody tr th {\n",
       "        vertical-align: top;\n",
       "    }\n",
       "\n",
       "    .dataframe thead th {\n",
       "        text-align: right;\n",
       "    }\n",
       "</style>\n",
       "<table border=\"1\" class=\"dataframe\">\n",
       "  <thead>\n",
       "    <tr style=\"text-align: right;\">\n",
       "      <th></th>\n",
       "      <th>국적코드</th>\n",
       "      <th>성별</th>\n",
       "      <th>입국객수</th>\n",
       "      <th>기준년월</th>\n",
       "      <th>국적명</th>\n",
       "    </tr>\n",
       "  </thead>\n",
       "  <tbody>\n",
       "    <tr>\n",
       "      <th>0</th>\n",
       "      <td>A01</td>\n",
       "      <td>남성</td>\n",
       "      <td>106320</td>\n",
       "      <td>2019-11</td>\n",
       "      <td>일본</td>\n",
       "    </tr>\n",
       "    <tr>\n",
       "      <th>1</th>\n",
       "      <td>A01</td>\n",
       "      <td>여성</td>\n",
       "      <td>191436</td>\n",
       "      <td>2019-11</td>\n",
       "      <td>일본</td>\n",
       "    </tr>\n",
       "    <tr>\n",
       "      <th>2</th>\n",
       "      <td>A31</td>\n",
       "      <td>남성</td>\n",
       "      <td>319</td>\n",
       "      <td>2019-11</td>\n",
       "      <td>NaN</td>\n",
       "    </tr>\n",
       "    <tr>\n",
       "      <th>3</th>\n",
       "      <td>A31</td>\n",
       "      <td>여성</td>\n",
       "      <td>42</td>\n",
       "      <td>2019-11</td>\n",
       "      <td>NaN</td>\n",
       "    </tr>\n",
       "    <tr>\n",
       "      <th>4</th>\n",
       "      <td>A18</td>\n",
       "      <td>남성</td>\n",
       "      <td>158912</td>\n",
       "      <td>2019-11</td>\n",
       "      <td>중국</td>\n",
       "    </tr>\n",
       "    <tr>\n",
       "      <th>5</th>\n",
       "      <td>A18</td>\n",
       "      <td>여성</td>\n",
       "      <td>232943</td>\n",
       "      <td>2019-11</td>\n",
       "      <td>중국</td>\n",
       "    </tr>\n",
       "    <tr>\n",
       "      <th>6</th>\n",
       "      <td>A01</td>\n",
       "      <td>남성</td>\n",
       "      <td>92556</td>\n",
       "      <td>2019-12</td>\n",
       "      <td>일본</td>\n",
       "    </tr>\n",
       "    <tr>\n",
       "      <th>7</th>\n",
       "      <td>A01</td>\n",
       "      <td>여성</td>\n",
       "      <td>163737</td>\n",
       "      <td>2019-12</td>\n",
       "      <td>일본</td>\n",
       "    </tr>\n",
       "    <tr>\n",
       "      <th>8</th>\n",
       "      <td>A18</td>\n",
       "      <td>남성</td>\n",
       "      <td>155540</td>\n",
       "      <td>2019-12</td>\n",
       "      <td>중국</td>\n",
       "    </tr>\n",
       "    <tr>\n",
       "      <th>9</th>\n",
       "      <td>A18</td>\n",
       "      <td>여성</td>\n",
       "      <td>249023</td>\n",
       "      <td>2019-12</td>\n",
       "      <td>중국</td>\n",
       "    </tr>\n",
       "  </tbody>\n",
       "</table>\n",
       "</div>"
      ],
      "text/plain": [
       "  국적코드  성별    입국객수     기준년월  국적명\n",
       "0  A01  남성  106320  2019-11   일본\n",
       "1  A01  여성  191436  2019-11   일본\n",
       "2  A31  남성     319  2019-11  NaN\n",
       "3  A31  여성      42  2019-11  NaN\n",
       "4  A18  남성  158912  2019-11   중국\n",
       "5  A18  여성  232943  2019-11   중국\n",
       "6  A01  남성   92556  2019-12   일본\n",
       "7  A01  여성  163737  2019-12   일본\n",
       "8  A18  남성  155540  2019-12   중국\n",
       "9  A18  여성  249023  2019-12   중국"
      ]
     },
<<<<<<< HEAD
     "execution_count": 26,
=======
     "execution_count": 57,
>>>>>>> 94677759afae943ac4282fb427e20b22d1464f2a
     "metadata": {},
     "output_type": "execute_result"
    }
   ],
   "source": [
    "sample = sample_1_code.append(sample_2_code, ignore_index=True)\n",
    "sample"
   ]
  },
  {
   "cell_type": "code",
<<<<<<< HEAD
   "execution_count": 27,
=======
   "execution_count": 59,
>>>>>>> 94677759afae943ac4282fb427e20b22d1464f2a
   "id": "2743f5af",
   "metadata": {},
   "outputs": [],
   "source": [
    "sample.to_excel('./files/sample_index_false.xlsx', index = False)"
   ]
  },
  {
   "cell_type": "code",
<<<<<<< HEAD
   "execution_count": 28,
=======
   "execution_count": 62,
>>>>>>> 94677759afae943ac4282fb427e20b22d1464f2a
   "id": "a111cf6e",
   "metadata": {},
   "outputs": [
    {
     "data": {
      "text/html": [
       "<div>\n",
       "<style scoped>\n",
       "    .dataframe tbody tr th:only-of-type {\n",
       "        vertical-align: middle;\n",
       "    }\n",
       "\n",
       "    .dataframe tbody tr th {\n",
       "        vertical-align: top;\n",
       "    }\n",
       "\n",
       "    .dataframe thead th {\n",
       "        text-align: right;\n",
       "    }\n",
       "</style>\n",
       "<table border=\"1\" class=\"dataframe\">\n",
       "  <thead>\n",
       "    <tr style=\"text-align: right;\">\n",
       "      <th>기준년월</th>\n",
       "      <th>2019-11</th>\n",
       "      <th>2019-12</th>\n",
       "    </tr>\n",
       "    <tr>\n",
       "      <th>국적명</th>\n",
       "      <th></th>\n",
       "      <th></th>\n",
       "    </tr>\n",
       "  </thead>\n",
       "  <tbody>\n",
       "    <tr>\n",
       "      <th>일본</th>\n",
       "      <td>148878.0</td>\n",
       "      <td>128146.5</td>\n",
       "    </tr>\n",
       "    <tr>\n",
       "      <th>중국</th>\n",
       "      <td>195927.5</td>\n",
       "      <td>202281.5</td>\n",
       "    </tr>\n",
       "  </tbody>\n",
       "</table>\n",
       "</div>"
      ],
      "text/plain": [
       "기준년월   2019-11   2019-12\n",
       "국적명                     \n",
       "일본    148878.0  128146.5\n",
       "중국    195927.5  202281.5"
      ]
     },
<<<<<<< HEAD
     "execution_count": 28,
=======
     "execution_count": 62,
>>>>>>> 94677759afae943ac4282fb427e20b22d1464f2a
     "metadata": {},
     "output_type": "execute_result"
    }
   ],
   "source": [
    "sample_pivot = sample.pivot_table(values = '입국객수',\n",
    "                                 index = '국적명',\n",
    "                                 columns = '기준년월',\n",
    "                                 aggfunc='mean')\n",
    "\n",
    "sample_pivot"
   ]
  },
  {
   "cell_type": "code",
<<<<<<< HEAD
   "execution_count": 29,
=======
   "execution_count": null,
>>>>>>> 94677759afae943ac4282fb427e20b22d1464f2a
   "id": "b4f7f21a",
   "metadata": {},
   "outputs": [],
   "source": [
    "#v = 입국객수, i = 국적명, a = max"
   ]
  },
  {
   "cell_type": "code",
<<<<<<< HEAD
   "execution_count": 30,
=======
   "execution_count": 64,
>>>>>>> 94677759afae943ac4282fb427e20b22d1464f2a
   "id": "a20d7006",
   "metadata": {},
   "outputs": [
    {
     "data": {
      "text/html": [
       "<div>\n",
       "<style scoped>\n",
       "    .dataframe tbody tr th:only-of-type {\n",
       "        vertical-align: middle;\n",
       "    }\n",
       "\n",
       "    .dataframe tbody tr th {\n",
       "        vertical-align: top;\n",
       "    }\n",
       "\n",
       "    .dataframe thead th {\n",
       "        text-align: right;\n",
       "    }\n",
       "</style>\n",
       "<table border=\"1\" class=\"dataframe\">\n",
       "  <thead>\n",
       "    <tr style=\"text-align: right;\">\n",
       "      <th></th>\n",
       "      <th>입국객수</th>\n",
       "    </tr>\n",
       "    <tr>\n",
       "      <th>국적명</th>\n",
       "      <th></th>\n",
       "    </tr>\n",
       "  </thead>\n",
       "  <tbody>\n",
       "    <tr>\n",
       "      <th>일본</th>\n",
       "      <td>191436</td>\n",
       "    </tr>\n",
       "    <tr>\n",
       "      <th>중국</th>\n",
       "      <td>249023</td>\n",
       "    </tr>\n",
       "  </tbody>\n",
       "</table>\n",
       "</div>"
      ],
      "text/plain": [
       "       입국객수\n",
       "국적명        \n",
       "일본   191436\n",
       "중국   249023"
      ]
     },
<<<<<<< HEAD
     "execution_count": 30,
=======
     "execution_count": 64,
>>>>>>> 94677759afae943ac4282fb427e20b22d1464f2a
     "metadata": {},
     "output_type": "execute_result"
    }
   ],
   "source": [
    "sample_pivot_2 = sample.pivot_table(values = '입국객수',\n",
    "                                 index = '국적명',\n",
    "                                 aggfunc='max')\n",
    "\n",
    "sample_pivot_2"
   ]
  },
  {
   "cell_type": "markdown",
   "id": "b11bdc0a",
   "metadata": {},
   "source": [
    "selenium과 크롬드라이버 설치"
   ]
  },
  {
   "cell_type": "code",
<<<<<<< HEAD
   "execution_count": 31,
=======
   "execution_count": 68,
>>>>>>> 94677759afae943ac4282fb427e20b22d1464f2a
   "id": "f1233e2d",
   "metadata": {},
   "outputs": [
    {
     "name": "stdout",
     "output_type": "stream",
     "text": [
<<<<<<< HEAD
      "Requirement already satisfied: selenium in c:\\programdata\\anaconda3\\lib\\site-packages (4.1.2)\n",
      "Requirement already satisfied: trio~=0.17 in c:\\programdata\\anaconda3\\lib\\site-packages (from selenium) (0.20.0)\n",
      "Requirement already satisfied: trio-websocket~=0.9 in c:\\programdata\\anaconda3\\lib\\site-packages (from selenium) (0.9.2)\n",
      "Requirement already satisfied: urllib3[secure,socks]~=1.26 in c:\\programdata\\anaconda3\\lib\\site-packages (from selenium) (1.26.7)\n",
      "Requirement already satisfied: outcome in c:\\programdata\\anaconda3\\lib\\site-packages (from trio~=0.17->selenium) (1.1.0)\n",
      "Requirement already satisfied: async-generator>=1.9 in c:\\programdata\\anaconda3\\lib\\site-packages (from trio~=0.17->selenium) (1.10)\n",
      "Requirement already satisfied: sortedcontainers in c:\\programdata\\anaconda3\\lib\\site-packages (from trio~=0.17->selenium) (2.4.0)\n",
      "Requirement already satisfied: idna in c:\\programdata\\anaconda3\\lib\\site-packages (from trio~=0.17->selenium) (3.2)\n",
      "Requirement already satisfied: cffi>=1.14 in c:\\programdata\\anaconda3\\lib\\site-packages (from trio~=0.17->selenium) (1.14.6)\n",
      "Requirement already satisfied: attrs>=19.2.0 in c:\\programdata\\anaconda3\\lib\\site-packages (from trio~=0.17->selenium) (21.2.0)\n",
      "Requirement already satisfied: sniffio in c:\\programdata\\anaconda3\\lib\\site-packages (from trio~=0.17->selenium) (1.2.0)\n",
      "Requirement already satisfied: pycparser in c:\\programdata\\anaconda3\\lib\\site-packages (from cffi>=1.14->trio~=0.17->selenium) (2.20)\n",
      "Requirement already satisfied: wsproto>=0.14 in c:\\programdata\\anaconda3\\lib\\site-packages (from trio-websocket~=0.9->selenium) (1.0.0)\n",
=======
      "Collecting selenium\n",
      "  Downloading selenium-4.1.1-py3-none-any.whl (963 kB)\n",
      "Requirement already satisfied: urllib3[secure,socks]~=1.26 in c:\\programdata\\anaconda3\\lib\\site-packages (from selenium) (1.26.7)\n",
      "Collecting trio-websocket~=0.9\n",
      "  Downloading trio_websocket-0.9.2-py3-none-any.whl (16 kB)\n",
      "Collecting trio~=0.17\n",
      "  Downloading trio-0.20.0-py3-none-any.whl (359 kB)\n",
      "Requirement already satisfied: async-generator>=1.9 in c:\\programdata\\anaconda3\\lib\\site-packages (from trio~=0.17->selenium) (1.10)\n",
      "Collecting outcome\n",
      "  Downloading outcome-1.1.0-py2.py3-none-any.whl (9.7 kB)\n",
      "Requirement already satisfied: attrs>=19.2.0 in c:\\programdata\\anaconda3\\lib\\site-packages (from trio~=0.17->selenium) (21.2.0)\n",
      "Requirement already satisfied: cffi>=1.14 in c:\\programdata\\anaconda3\\lib\\site-packages (from trio~=0.17->selenium) (1.14.6)\n",
      "Requirement already satisfied: sniffio in c:\\programdata\\anaconda3\\lib\\site-packages (from trio~=0.17->selenium) (1.2.0)\n",
      "Requirement already satisfied: idna in c:\\programdata\\anaconda3\\lib\\site-packages (from trio~=0.17->selenium) (3.2)\n",
      "Requirement already satisfied: sortedcontainers in c:\\programdata\\anaconda3\\lib\\site-packages (from trio~=0.17->selenium) (2.4.0)\n",
      "Requirement already satisfied: pycparser in c:\\programdata\\anaconda3\\lib\\site-packages (from cffi>=1.14->trio~=0.17->selenium) (2.20)\n",
      "Collecting wsproto>=0.14\n",
      "  Downloading wsproto-1.0.0-py3-none-any.whl (24 kB)\n",
>>>>>>> 94677759afae943ac4282fb427e20b22d1464f2a
      "Requirement already satisfied: pyOpenSSL>=0.14 in c:\\programdata\\anaconda3\\lib\\site-packages (from urllib3[secure,socks]~=1.26->selenium) (21.0.0)\n",
      "Requirement already satisfied: cryptography>=1.3.4 in c:\\programdata\\anaconda3\\lib\\site-packages (from urllib3[secure,socks]~=1.26->selenium) (3.4.8)\n",
      "Requirement already satisfied: certifi in c:\\programdata\\anaconda3\\lib\\site-packages (from urllib3[secure,socks]~=1.26->selenium) (2021.10.8)\n",
      "Requirement already satisfied: PySocks!=1.5.7,<2.0,>=1.5.6 in c:\\programdata\\anaconda3\\lib\\site-packages (from urllib3[secure,socks]~=1.26->selenium) (1.7.1)\n",
      "Requirement already satisfied: six>=1.5.2 in c:\\programdata\\anaconda3\\lib\\site-packages (from pyOpenSSL>=0.14->urllib3[secure,socks]~=1.26->selenium) (1.16.0)\n",
<<<<<<< HEAD
      "Requirement already satisfied: h11<1,>=0.9.0 in c:\\programdata\\anaconda3\\lib\\site-packages (from wsproto>=0.14->trio-websocket~=0.9->selenium) (0.13.0)\n"
=======
      "Collecting h11<1,>=0.9.0\n",
      "  Downloading h11-0.13.0-py3-none-any.whl (58 kB)\n",
      "Installing collected packages: outcome, h11, wsproto, trio, trio-websocket, selenium\n",
      "Successfully installed h11-0.13.0 outcome-1.1.0 selenium-4.1.1 trio-0.20.0 trio-websocket-0.9.2 wsproto-1.0.0\n"
>>>>>>> 94677759afae943ac4282fb427e20b22d1464f2a
     ]
    }
   ],
   "source": [
    "!pip install selenium"
   ]
  },
  {
   "cell_type": "code",
<<<<<<< HEAD
   "execution_count": 32,
=======
   "execution_count": 70,
>>>>>>> 94677759afae943ac4282fb427e20b22d1464f2a
   "id": "91cdf72d",
   "metadata": {},
   "outputs": [],
   "source": [
    "from selenium import webdriver"
   ]
  },
  {
   "cell_type": "code",
<<<<<<< HEAD
   "execution_count": 33,
=======
   "execution_count": 71,
>>>>>>> 94677759afae943ac4282fb427e20b22d1464f2a
   "id": "5d33194d",
   "metadata": {},
   "outputs": [
    {
     "name": "stdout",
     "output_type": "stream",
     "text": [
<<<<<<< HEAD
      "Requirement already satisfied: webdriver-manager in c:\\programdata\\anaconda3\\lib\\site-packages (3.5.3)\n",
      "Requirement already satisfied: crayons in c:\\programdata\\anaconda3\\lib\\site-packages (from webdriver-manager) (0.4.0)\n",
      "Requirement already satisfied: requests in c:\\programdata\\anaconda3\\lib\\site-packages (from webdriver-manager) (2.26.0)\n",
      "Requirement already satisfied: configparser in c:\\programdata\\anaconda3\\lib\\site-packages (from webdriver-manager) (5.2.0)\n",
      "Requirement already satisfied: colorama in c:\\programdata\\anaconda3\\lib\\site-packages (from crayons->webdriver-manager) (0.4.4)\n",
      "Requirement already satisfied: idna<4,>=2.5 in c:\\programdata\\anaconda3\\lib\\site-packages (from requests->webdriver-manager) (3.2)\n",
      "Requirement already satisfied: certifi>=2017.4.17 in c:\\programdata\\anaconda3\\lib\\site-packages (from requests->webdriver-manager) (2021.10.8)\n",
      "Requirement already satisfied: charset-normalizer~=2.0.0 in c:\\programdata\\anaconda3\\lib\\site-packages (from requests->webdriver-manager) (2.0.4)\n",
      "Requirement already satisfied: urllib3<1.27,>=1.21.1 in c:\\programdata\\anaconda3\\lib\\site-packages (from requests->webdriver-manager) (1.26.7)\n"
=======
      "Collecting webdriver-manager\n",
      "  Downloading webdriver_manager-3.5.3-py2.py3-none-any.whl (18 kB)\n",
      "Collecting crayons\n",
      "  Downloading crayons-0.4.0-py2.py3-none-any.whl (4.6 kB)\n",
      "Collecting configparser\n",
      "  Downloading configparser-5.2.0-py3-none-any.whl (19 kB)\n",
      "Requirement already satisfied: requests in c:\\programdata\\anaconda3\\lib\\site-packages (from webdriver-manager) (2.26.0)\n",
      "Requirement already satisfied: colorama in c:\\programdata\\anaconda3\\lib\\site-packages (from crayons->webdriver-manager) (0.4.4)\n",
      "Requirement already satisfied: charset-normalizer~=2.0.0 in c:\\programdata\\anaconda3\\lib\\site-packages (from requests->webdriver-manager) (2.0.4)\n",
      "Requirement already satisfied: idna<4,>=2.5 in c:\\programdata\\anaconda3\\lib\\site-packages (from requests->webdriver-manager) (3.2)\n",
      "Requirement already satisfied: urllib3<1.27,>=1.21.1 in c:\\programdata\\anaconda3\\lib\\site-packages (from requests->webdriver-manager) (1.26.7)\n",
      "Requirement already satisfied: certifi>=2017.4.17 in c:\\programdata\\anaconda3\\lib\\site-packages (from requests->webdriver-manager) (2021.10.8)\n",
      "Installing collected packages: crayons, configparser, webdriver-manager\n",
      "Successfully installed configparser-5.2.0 crayons-0.4.0 webdriver-manager-3.5.3\n"
>>>>>>> 94677759afae943ac4282fb427e20b22d1464f2a
     ]
    }
   ],
   "source": [
    "!pip install webdriver-manager"
   ]
  },
  {
   "cell_type": "code",
<<<<<<< HEAD
   "execution_count": 34,
=======
   "execution_count": 72,
>>>>>>> 94677759afae943ac4282fb427e20b22d1464f2a
   "id": "5c1e5227",
   "metadata": {},
   "outputs": [],
   "source": [
    "from webdriver_manager.chrome import ChromeDriverManager"
   ]
  },
  {
   "cell_type": "code",
<<<<<<< HEAD
   "execution_count": 35,
=======
   "execution_count": 73,
>>>>>>> 94677759afae943ac4282fb427e20b22d1464f2a
   "id": "f7ab17d0",
   "metadata": {},
   "outputs": [
    {
     "name": "stderr",
     "output_type": "stream",
     "text": [
      "\n",
      "\n",
      "====== WebDriver manager ======\n",
      "Current google-chrome version is 98.0.4758\n",
      "Get LATEST chromedriver version for 98.0.4758 google-chrome\n",
<<<<<<< HEAD
      "Trying to download new driver from https://chromedriver.storage.googleapis.com/98.0.4758.102/chromedriver_win32.zip\n",
      "Driver has been saved in cache [C:\\Users\\SindongIn\\.wdm\\drivers\\chromedriver\\win32\\98.0.4758.102]\n",
      "C:\\Users\\SINDON~1\\AppData\\Local\\Temp/ipykernel_17852/1503906442.py:1: DeprecationWarning: executable_path has been deprecated, please pass in a Service object\n",
=======
      "There is no [win32] chromedriver for browser  in cache\n",
      "Trying to download new driver from https://chromedriver.storage.googleapis.com/98.0.4758.102/chromedriver_win32.zip\n",
      "Driver has been saved in cache [C:\\Users\\user\\.wdm\\drivers\\chromedriver\\win32\\98.0.4758.102]\n",
      "C:\\Users\\user\\AppData\\Local\\Temp/ipykernel_19948/1503906442.py:1: DeprecationWarning: executable_path has been deprecated, please pass in a Service object\n",
>>>>>>> 94677759afae943ac4282fb427e20b22d1464f2a
      "  driver = webdriver.Chrome(ChromeDriverManager().install())\n"
     ]
    }
   ],
   "source": [
    "driver = webdriver.Chrome(ChromeDriverManager().install())"
   ]
  },
  {
   "cell_type": "code",
<<<<<<< HEAD
   "execution_count": 36,
=======
   "execution_count": 74,
>>>>>>> 94677759afae943ac4282fb427e20b22d1464f2a
   "id": "89a4dbc0",
   "metadata": {},
   "outputs": [],
   "source": [
    "url = \"http://www.naver.com\"\n",
    "driver.get(url)"
   ]
  },
  {
   "cell_type": "code",
<<<<<<< HEAD
   "execution_count": 37,
   "id": "02b345cf",
   "metadata": {},
   "outputs": [],
=======
   "execution_count": 75,
   "id": "02b345cf",
   "metadata": {},
   "outputs": [
    {
     "data": {
      "text/plain": [
       "'<html lang=\"ko\" data-dark=\"false\" data-useragent=\"Mozilla/5.0 (Windows NT 10.0; Win64; x64) AppleWebKit/537.36 (KHTML, like Gecko) Chrome/98.0.4758.102 Safari/537.36\"><head><script async=\"\" type=\"text/javascript\" src=\"https://ssl.pstatic.net/tveta/libs/ndpsdk/prod/ndp-core.js\"></script> <meta charset=\"utf-8\"> <title>NAVER</title> <meta http-equiv=\"X-UA-Compatible\" content=\"IE=edge\"> <meta name=\"viewport\" content=\"width=1190\"> <meta name=\"apple-mobile-web-app-title\" content=\"NAVER\"> <meta name=\"robots\" content=\"index,nofollow\"> <meta name=\"description\" content=\"네이버 메인에서 다양한 정보와 유용한 컨텐츠를 만나 보세요\"> <meta property=\"og:title\" content=\"네이버\"> <meta property=\"og:url\" content=\"https://www.naver.com/\"> <meta property=\"og:image\" content=\"https://s.pstatic.net/static/www/mobile/edit/2016/0705/mobile_212852414260.png\"> <meta property=\"og:description\" content=\"네이버 메인에서 다양한 정보와 유용한 컨텐츠를 만나 보세요\"> <meta name=\"twitter:card\" content=\"summary\"> <meta name=\"twitter:title\" content=\"\"> <meta name=\"twitter:url\" content=\"https://www.naver.com/\"> <meta name=\"twitter:image\" content=\"https://s.pstatic.net/static/www/mobile/edit/2016/0705/mobile_212852414260.png\"> <meta name=\"twitter:description\" content=\"네이버 메인에서 다양한 정보와 유용한 컨텐츠를 만나 보세요\">  <link rel=\"stylesheet\" href=\"https://pm.pstatic.net/dist/css/nmain.20220222.css\"> <link rel=\"stylesheet\" href=\"https://ssl.pstatic.net/sstatic/search/pc/css/sp_autocomplete_210318.css\"> <link rel=\"shortcut icon\" type=\"image/x-icon\" href=\"/favicon.ico?1\">  <link rel=\"apple-touch-icon\" sizes=\"114x114\" href=\"https://s.pstatic.net/static/www/u/2014/0328/mma_204243574.png\"> <link rel=\"apple-touch-icon\" href=\"https://s.pstatic.net/static/www/u/2014/0328/mma_20432863.png\"> <script>window.nmain=window.nmain||{},window.nmain.supportFlicking=!1;var nsc=\"navertop.v4\",ua=navigator.userAgent,useIeJSFlag=\"1\";window.nmain.isIE=\"0\"===useIeJSFlag,document.getElementsByTagName(\"html\")[0].setAttribute(\"data-useragent\",ua),window.nmain.isIE&&(Object.create=function(n){function e(){}return e.prototype=n,new e})</script> <script>var darkmode= false;window.naver_corp_da=window.naver_corp_da||{main:{}},window.naver_corp_da.main=window.naver_corp_da.main||{},window.naver_corp_da.main.darkmode=darkmode,window.gladsdk=window.gladsdk||{cmd:[]},window.gladsdk.cmd.push((function(){window.gladsdk.setHostMeta(\"theme\",darkmode?\"dark\":\"light\")})),window.ndpsdk=window.ndpsdk||{cmd:[],polyfill:{cmd:[]}},window.ndpsdk.cmd.push((function(){window.ndpsdk.setHostMeta(\"theme\",darkmode?\"dark\":\"light\")}))</script>  <script async=\"\" src=\"https://ssl.pstatic.net/tveta/libs/glad/prod/gfp-core.js\"></script> <script async=\"\" src=\"https://ssl.pstatic.net/tveta/libs/ndpsdk/prod/ndp-loader.js\"></script>  <script> window.nmain.gv = {  isLogin: false,\\nuseId: null,   daInfo: {\"BEAUTY\":{\"menu\":\"BEAUTY\",\"childMenu\":\"\",\"adType\":\"singleDom\",\"multiDomAdUrl\":\"\",\"multiDomUnit\":\"\",\"infoList\":[{\"adposId\":\"1000163\",\"singleDomAdUrl\":\"https://siape.veta.naver.com/fxshow\",\"param\":{\"da_dom_id\":\"p_main_beauty_1\",\"tb\":\"BEAUTY_1\",\"unit\":\"SU10595\",\"calp\":\"-\"},\"type\":{\"position\":\"abs\",\"positionIndex\":4,\"subject\":\"contents\"},\"dom\":null},{\"adposId\":\"1000164\",\"singleDomAdUrl\":\"https://siape.veta.naver.com/fxshow\",\"param\":{\"da_dom_id\":\"p_main_beauty_2\",\"tb\":\"BEAUTY_1\",\"unit\":\"SU10596\",\"calp\":\"-\"},\"type\":{\"position\":\"abs\",\"positionIndex\":8,\"subject\":\"contents\"},\"dom\":null}]},\"LIVING\":{\"menu\":\"LIVING\",\"childMenu\":\"\",\"adType\":\"singleDom\",\"multiDomAdUrl\":\"\",\"multiDomUnit\":\"\",\"infoList\":[{\"adposId\":\"1000183\",\"singleDomAdUrl\":\"https://siape.veta.naver.com/fxshow\",\"param\":{\"da_dom_id\":\"p_main_living_1\",\"tb\":\"LIVING_1\",\"unit\":\"SU10597\",\"calp\":\"-\"},\"type\":{\"position\":\"abs\",\"positionIndex\":4,\"subject\":\"contents\"},\"dom\":null},{\"adposId\":\"1000184\",\"singleDomAdUrl\":\"https://siape.veta.naver.com/fxshow\",\"param\":{\"da_dom_id\":\"p_main_living_2\",\"tb\":\"LIVING_1\",\"unit\":\"SU10606\",\"calp\":\"-\"},\"type\":{\"position\":\"abs\",\"positionIndex\":8,\"subject\":\"contents\"},\"dom\":null}]},\"LIVINGHOME\":{\"menu\":\"LIVINGHOME\",\"childMenu\":\"\",\"adType\":\"singleDom\",\"multiDomAdUrl\":\"\",\"multiDomUnit\":\"\",\"infoList\":[{\"adposId\":\"1000185\",\"singleDomAdUrl\":\"https://siape.veta.naver.com/fxshow\",\"param\":{\"da_dom_id\":\"p_main_livinghome_1\",\"tb\":\"LIVINGHOME_1\",\"unit\":\"SU10571\",\"calp\":\"-\"},\"type\":{\"position\":\"abs\",\"positionIndex\":4,\"subject\":\"contents\"},\"dom\":null},{\"adposId\":\"1000186\",\"singleDomAdUrl\":\"https://siape.veta.naver.com/fxshow\",\"param\":{\"da_dom_id\":\"p_main_livinghome_2\",\"tb\":\"LIVINGHOME_1\",\"unit\":\"SU10572\",\"calp\":\"-\"},\"type\":{\"position\":\"abs\",\"positionIndex\":8,\"subject\":\"contents\"},\"dom\":null}]}},\\nsvt: 20220224134109,\\n}; </script> <script> window.nmain.newsstand = {\\nrcode: \\'(none)\\',\\nnewsCastSubsInfo: \\'\\',\\nnewsStandSubsInfo: \\'\\'\\n};\\nwindow.etc = {  };\\nwindow.svr = \"<!--cweb21-->\"; </script> <script src=\"https://ssl.pstatic.net/tveta/libs/assets/js/pc/main/min/pc.veta.core.min.js\" defer=\"defer\"></script>   <script src=\"https://pm.pstatic.net/dist/js/external.771440e2.js?o=www\" type=\"text/javascript\" crossorigin=\"anonymous\" defer=\"defer\"></script> <script src=\"https://pm.pstatic.net/dist/js/preload.2486dc42.js?o=www\" type=\"text/javascript\" crossorigin=\"anonymous\" defer=\"defer\"></script> <script src=\"https://pm.pstatic.net/dist/js/polyfill.96bec361.js?o=www\" type=\"text/javascript\" crossorigin=\"anonymous\" defer=\"defer\"></script>  <script src=\"https://pm.pstatic.net/dist/js/vendors~more~nmain~notice~search~sidebar_notice.dd1cea46.js?o=www\" type=\"text/javascript\" crossorigin=\"anonymous\" defer=\"defer\"></script>   <script src=\"https://pm.pstatic.net/dist/js/search.809731de.js?o=www\" type=\"text/javascript\" crossorigin=\"anonymous\" defer=\"defer\"></script>  <script src=\"https://pm.pstatic.net/dist/js/vendors~more~nmain~sidebar_notice.57cda46a.js?o=www\" type=\"text/javascript\" crossorigin=\"anonymous\" defer=\"defer\"></script> <script src=\"https://pm.pstatic.net/dist/js/nmain.3eb3f307.js?o=www\" type=\"text/javascript\" crossorigin=\"anonymous\" defer=\"defer\"></script> <style>:root{color-scheme:light}#_nx_kbd .setkorhelp a{display:none}</style> <style>.ly_inputko {\\n\\tposition: absolute;\\n\\ttop: 38px;\\n\\tleft: 404px;\\n\\tz-index: 900;\\n\\twidth: 313px;\\n\\tpadding: 0 10px;\\n\\tborder: 1px solid #b8b8b8;\\n\\tline-height: 14px;\\n\\tbackground-color: #f6f6f6;\\n}\\n\\n.ly_inputko.ly_inputko_over {\\n\\tborder: 1px solid #72747f;\\n\\tcursor: move;\\n}\\n\\n.ly_inputko button {\\n\\tborder: 0;\\n\\tbackground: none;\\n\\tcursor: pointer;\\n}\\n\\n.ly_inputko .tab_inkey {\\n\\tdisplay: inline-block;\\n\\tposition: absolute;\\n\\ttop: 15px;\\n\\tleft: 10px;\\n\\twidth: 78px;\\n\\theight: 11px;\\n\\tbackground: url(https://ssl.pstatic.net/sstatic/search/img3/btn_sp_v3.png) no-repeat -80px -660px;\\n}\\n\\n.ly_inputko .tab_inkey button {\\n\\tdisplay: block;\\n\\twidth: 78px;\\n\\theight: 11px;\\n}\\n\\n.ly_inputko .inkeyon {\\n\\tbackground-position: -80px -640px;\\n}\\n\\n.ly_inputko .tab_inms {\\n\\tdisplay: inline-block;\\n\\tposition: absolute;\\n\\ttop: 15px;\\n\\tleft: 108px;\\n\\twidth: 78px;\\n\\theight: 11px;\\n\\tbackground: url(https://ssl.pstatic.net/sstatic/search/img3/btn_sp_v3.png) no-repeat -174px -660px;\\n}\\n\\n.ly_inputko .tab_inms button {\\n\\tdisplay: block;\\n\\twidth: 78px;\\n\\theight: 11px;\\n}\\n\\n.ly_inputko .inmson {\\n\\tbackground-position: -174px -640px;\\n}\\n\\n.ly_inputko .bar {\\n\\tposition: absolute;\\n\\ttop: 16px;\\n\\tleft: 93px;\\n}\\n\\n.ly_inputko .inputko_info {\\n\\tclear: both;\\n\\tposition: relative;\\n\\tz-index: 2;\\n\\twidth: 100%;\\n\\tpadding: 9px 0 0;\\n\\tbackground: #f6f6f6 url(https://ssl.pstatic.net/sstatic/search/img3/bg_sp_x.gif) repeat-x;\\n}\\n\\n.ly_inputko .inputko_info li {\\n\\tpadding: 2px 0 0 8px;\\n\\tbackground: url(https://ssl.pstatic.net/sstatic/search/img3/bu_sp.gif) no-repeat 0 -393px;\\n\\tfont-size: 11px;\\n\\tcolor: #333;\\n\\tletter-spacing: -1px;\\n\\ttext-align: left;\\n}\\n\\n.ly_inputko .inputko_info li span {\\n\\tdisplay: inline-block;\\n\\twidth: 9px;\\n\\theight: 9px;\\n\\t*height: 11px;\\n\\tmargin: 0 1px 0 2px;\\n\\tbackground: url(https://ssl.pstatic.net/sstatic/search/img3/bu_sp.gif) no-repeat 0 -60px;\\n}\\n\\n.ly_inputko .inputko_info li em {\\n\\tcolor: #666;\\n}\\n\\n.ly_inputko .btn_ly_cl {\\n\\tposition: absolute;\\n\\ttop: 12px;\\n\\tright: 12px;\\n\\twidth: 12px;\\n\\theight: 12px;\\n\\tbackground: url(https://ssl.pstatic.net/sstatic/search/img3/btn_sp_v3.png) no-repeat -60px -80px;\\n}\\n\\n.ly_inputko .btn_ly_cl button {\\n\\twidth: 12px;\\n\\theight: 12px;\\n}\\n\\n.ly_inputko .setkorhelp {\\n\\tmargin: 4px 0 12px 5px;\\n\\ttext-align: left;\\n}\\n\\n.ly_inputko .setkorhelp a {\\n\\tfont-size: 11px;\\n\\tcolor: #666;\\n\\tletter-spacing: -1px;\\n\\ttext-decoration: underline;\\n}\\n\\n/* keyboard */\\n.ly_inputko .inputko_keyboard {\\n\\twidth: 313px;\\n\\tmargin-top: 39px;\\n\\tbackground-color: #f6f6f6;\\n}\\n\\n.ly_inputko .keyboard {\\n\\tposition: relative;\\n\\tz-index: 2;\\n\\theight: 105px;\\n\\tpadding-bottom: 14px;\\n\\tbackground-color: #f6f6f6;\\n}\\n\\n.ly_inputko .keyboard_info {\\n\\toverflow: auto;\\n\\twidth: 313px;\\n\\theight: 105px;\\n}\\n\\n.ly_inputko .keyboard_info h3 {\\n\\tfont-size: 12px;\\n}\\n\\n.ly_inputko .keyboard_info h4 {\\n\\tclear: both;\\n\\tfont-size: 11px;\\n}\\n\\n.ly_inputko .keyboard_info li {\\n\\tfloat: left;\\n\\tmargin-right: 5px;\\n\\tfont-size: 11px;\\n}\\n\\n.ly_inputko .keyboard_img {\\n\\tposition: absolute;\\n\\ttop: 0;\\n\\tleft: 0;\\n\\twidth: 313px;\\n\\theight: 105px;\\n\\tbackground: url(https://ssl.pstatic.net/sstatic/search/img3/bg_sp.gif) no-repeat;\\n}\\n\\n.ly_inputko .inputko_keyboard .setkorhelp {\\n\\tposition: relative;\\n\\tz-index: 2;\\n\\tmargin: 0 0 0 8px;\\n\\tpadding: 4px 0 12px;\\n\\tbackground-color: #f6f6f6;\\n}\\n\\n/* mouse */\\n.ly_inputko .inputko_mouse {\\n\\twidth: 313px;\\n\\tmargin-top: 57px;\\n}\\n\\n.ly_inputko .inputko_mouse .btn_inko {\\n\\tposition: absolute;\\n\\tz-index: 1;\\n\\twidth: 25px;\\n\\theight: 25px;\\n\\tbackground: url(https://ssl.pstatic.net/sstatic/search/img3/btn_sp_v3.png) no-repeat 0 -280px;\\n}\\n\\n.ly_inputko .inputko_mouse .btn_inko button {\\n\\twidth: 25px;\\n\\theight: 25px;\\n}\\n\\n.ly_inputko .inputko_mouse .inputko_info {\\n\\tz-index: 1;\\n\\tmargin-top: 10px;\\n}\\n\\n.ly_inputko .inputko_mouse .bar2 {\\n\\tposition: absolute;\\n\\ttop: 39px;\\n\\tleft: 34px;\\n\\tcolor: #ddd;\\n}\\n\\n.ly_inputko .inputko_mouse .inputko_info li {\\n\\tpadding: 2px 0 0 4px;\\n\\tbackground: none;\\n}\\n\\n.ly_inputko .mouse_kor, .mouse_eng {\\n\\tdisplay: none;\\n}\\n\\n.ly_inputko .btn_kor {\\n\\tposition: absolute;\\n\\ttop: 40px;\\n\\tleft: 11px;\\n\\tz-index: 1;\\n\\twidth: 22px;\\n\\theight: 10px;\\n\\tbackground: url(https://ssl.pstatic.net/sstatic/search/img3/btn_sp_v3.png) no-repeat -380px -40px;\\n}\\n\\n.ly_inputko .btn_kor_on {\\n\\tposition: absolute;\\n\\ttop: 40px;\\n\\tleft: 11px;\\n\\tz-index: 1;\\n\\twidth: 22px;\\n\\theight: 10px;\\n\\tbackground: url(https://ssl.pstatic.net/sstatic/search/img3/btn_sp_v3.png) no-repeat -420px -40px;\\n}\\n\\n.ly_inputko .btn_eng {\\n\\tposition: absolute;\\n\\ttop: 40px;\\n\\tleft: 43px;\\n\\twidth: 22px;\\n\\theight: 10px;\\n\\tbackground: url(https://ssl.pstatic.net/sstatic/search/img3/btn_sp_v3.png) no-repeat -380px -60px;\\n}\\n\\n.ly_inputko .btn_eng_on {\\n\\tposition: absolute;\\n\\ttop: 40px;\\n\\tleft: 43px;\\n\\twidth: 22px;\\n\\theight: 10px;\\n\\tbackground: url(https://ssl.pstatic.net/sstatic/search/img3/btn_sp_v3.png) no-repeat -420px -60px;\\n}\\n\\n.ly_inputko .btn_kor button, .ly_inputko .btn_kor_on button, .ly_inputko .btn_eng button, .ly_inputko .btn_eng_on button {\\n\\tdisplay: block;\\n\\twidth: 22px;\\n\\theight: 11px;\\n}\\n\\n.ly_inputko .btn_mouse {\\n\\toverflow: hidden;\\n\\tclear: both;\\n\\twidth: 131px;\\n\\theight: 20px;\\n\\t_height: 27px;\\n\\tmargin: 0 auto;\\n\\tpadding-top: 7px;\\n}\\n\\n.ly_inputko .btn_space {\\n\\tdisplay: inline-block;\\n\\twidth: 47px;\\n\\theight: 20px;\\n\\tbackground: url(https://ssl.pstatic.net/sstatic/search/img3/btn_sp_v3.png) no-repeat -160px -40px;\\n}\\n\\n.ly_inputko .btn_space button {\\n\\twidth: 47px;\\n\\theight: 20px;\\n}\\n\\n.ly_inputko .btn_space_over {\\n\\tbackground-position: -160px -60px;\\n}\\n\\n.ly_inputko .btn_del {\\n\\tdisplay: inline-block;\\n\\twidth: 39px;\\n\\theight: 20px;\\n\\tmargin-left: 3px;\\n\\tbackground: url(https://ssl.pstatic.net/sstatic/search/img3/btn_sp_v3.png) no-repeat -220px -40px;\\n}\\n\\n.ly_inputko .btn_del button {\\n\\twidth: 39px;\\n\\theight: 20px;\\n}\\n\\n.ly_inputko .btn_del_over {\\n\\tbackground-position: -220px -60px;\\n}\\n\\n.ly_inputko .btn_reset {\\n\\tdisplay: inline-block;\\n\\twidth: 39px;\\n\\theight: 20px;\\n\\tmargin-left: 3px;\\n\\tbackground: url(https://ssl.pstatic.net/sstatic/search/img3/btn_sp_v3.png) no-repeat -260px -40px;\\n}\\n\\n.ly_inputko .btn_reset button {\\n\\twidth: 39px;\\n\\theight: 20px;\\n}\\n\\n.ly_inputko .btn_reset_over {\\n\\tbackground-position: -260px -60px;\\n}\\n\\n.ly_inputko .number {\\n\\toverflow: hidden;\\n\\tfloat: left;\\n\\t_float: none;\\n\\tposition: relative;\\n\\twidth: 313px;\\n\\theight: 28px;\\n\\tbackground: url(https://ssl.pstatic.net/sstatic/search/img3/bg_sp.gif) no-repeat 0 -202px;\\n}\\n\\n.ly_inputko .number .num {\\n\\ttop: 1px;\\n\\tleft: 1px;\\n\\tbackground-position: 0 -400px;\\n}\\n\\n.ly_inputko .number .num2 {\\n\\ttop: 1px;\\n\\tleft: 27px;\\n\\tbackground-position: -40px -400px;\\n}\\n\\n.ly_inputko .number .num3 {\\n\\ttop: 1px;\\n\\tleft: 53px;\\n\\tbackground-position: -80px -400px;\\n}\\n\\n.ly_inputko .number .num4 {\\n\\ttop: 1px;\\n\\tleft: 79px;\\n\\tbackground-position: -120px -400px;\\n}\\n\\n.ly_inputko .number .num5 {\\n\\ttop: 1px;\\n\\tleft: 105px;\\n\\tbackground-position: -160px -400px;\\n}\\n\\n.ly_inputko .number .num6 {\\n\\ttop: 1px;\\n\\tleft: 131px;\\n\\tbackground-position: -200px -400px;\\n}\\n\\n.ly_inputko .number .num7 {\\n\\ttop: 1px;\\n\\tleft: 157px;\\n\\tbackground-position: -240px -400px;\\n}\\n\\n.ly_inputko .number .num8 {\\n\\ttop: 1px;\\n\\tleft: 183px;\\n\\tbackground-position: -280px -400px;\\n}\\n\\n.ly_inputko .number .num9 {\\n\\ttop: 1px;\\n\\tleft: 209px;\\n\\tbackground-position: -320px -400px;\\n}\\n\\n.ly_inputko .number .num0 {\\n\\ttop: 1px;\\n\\tleft: 235px;\\n\\tbackground-position: -360px -400px;\\n}\\n\\n.ly_inputko .number .period {\\n\\ttop: 1px;\\n\\tleft: 261px;\\n\\tbackground-position: -400px -400px;\\n}\\n\\n.ly_inputko .number .num_over {\\n\\ttop: 0;\\n\\tleft: 0;\\n\\twidth: 27px;\\n\\theight: 27px;\\n\\tbackground-position: 0 -240px;\\n}\\n\\n.ly_inputko .number .num2_over {\\n\\ttop: 0;\\n\\tleft: 26px;\\n\\twidth: 27px;\\n\\theight: 27px;\\n\\tbackground-position: -40px -240px;\\n}\\n\\n.ly_inputko .number .num3_over {\\n\\ttop: 0;\\n\\tleft: 52px;\\n\\twidth: 27px;\\n\\theight: 27px;\\n\\tbackground-position: -80px -240px;\\n}\\n\\n.ly_inputko .number .num4_over {\\n\\ttop: 0;\\n\\tleft: 78px;\\n\\twidth: 27px;\\n\\theight: 27px;\\n\\tbackground-position: -120px -240px;\\n}\\n\\n.ly_inputko .number .num5_over {\\n\\ttop: 0;\\n\\tleft: 104px;\\n\\twidth: 27px;\\n\\theight: 27px;\\n\\tbackground-position: -160px -240px;\\n}\\n\\n.ly_inputko .number .num6_over {\\n\\ttop: 0;\\n\\tleft: 130px;\\n\\twidth: 27px;\\n\\theight: 27px;\\n\\tbackground-position: -200px -240px;\\n}\\n\\n.ly_inputko .number .num7_over {\\n\\ttop: 0;\\n\\tleft: 156px;\\n\\twidth: 27px;\\n\\theight: 27px;\\n\\tbackground-position: -240px -240px;\\n}\\n\\n.ly_inputko .number .num8_over {\\n\\ttop: 0;\\n\\tleft: 182px;\\n\\twidth: 27px;\\n\\theight: 27px;\\n\\tbackground-position: -280px -240px;\\n}\\n\\n.ly_inputko .number .num9_over {\\n\\ttop: 0;\\n\\tleft: 208px;\\n\\twidth: 27px;\\n\\theight: 27px;\\n\\tbackground-position: -320px -240px;\\n}\\n\\n.ly_inputko .number .num0_over {\\n\\ttop: 0;\\n\\tleft: 234px;\\n\\twidth: 27px;\\n\\theight: 27px;\\n\\tbackground-position: -360px -240px;\\n}\\n\\n.ly_inputko .number .period_over {\\n\\ttop: 0;\\n\\tleft: 260px;\\n\\twidth: 27px;\\n\\theight: 27px;\\n\\tbackground-position: -400px -240px;\\n}\\n\\n/* mouse korean */\\n.ly_inputko .consonantal {\\n\\tfloat: left;\\n\\tposition: relative;\\n\\twidth: 181px;\\n\\theight: 79px;\\n\\tmargin-bottom: 3px;\\n\\tbackground: url(https://ssl.pstatic.net/sstatic/search/img3/bg_sp.gif) no-repeat 0 -120px;\\n}\\n\\n.ly_inputko .vowel {\\n\\tposition: absolute;\\n\\ttop: 57px;\\n\\tleft: 194px;\\n\\twidth: 129px;\\n\\theight: 79px;\\n\\tbackground: url(https://ssl.pstatic.net/sstatic/search/img3/bg_sp.gif) no-repeat -184px -120px;\\n}\\n\\n.ly_inputko .consonantal .con {\\n\\ttop: 1px;\\n\\tleft: 1px;\\n\\twidth: 24px;\\n\\tbackground-position: 0 -280px;\\n}\\n\\n.ly_inputko .consonantal .con2 {\\n\\ttop: 1px;\\n\\tleft: 26px;\\n\\tbackground-position: -40px -280px;\\n}\\n\\n.ly_inputko .consonantal .con3 {\\n\\ttop: 1px;\\n\\tleft: 52px;\\n\\tbackground-position: -80px -280px;\\n}\\n\\n.ly_inputko .consonantal .con4 {\\n\\ttop: 1px;\\n\\tleft: 78px;\\n\\tbackground-position: -120px -280px;\\n}\\n\\n.ly_inputko .consonantal .con5 {\\n\\ttop: 1px;\\n\\tleft: 104px;\\n\\tbackground-position: -160px -280px;\\n}\\n\\n.ly_inputko .consonantal .con6 {\\n\\ttop: 1px;\\n\\tleft: 130px;\\n\\tbackground-position: -200px -280px;\\n}\\n\\n.ly_inputko .consonantal .con7 {\\n\\ttop: 1px;\\n\\tleft: 156px;\\n\\tbackground-position: -240px -280px;\\n}\\n\\n.ly_inputko .consonantal .con8 {\\n\\ttop: 27px;\\n\\tleft: 1px;\\n\\twidth: 24px;\\n\\tbackground-position: 0 -320px;\\n}\\n\\n.ly_inputko .consonantal .con9 {\\n\\ttop: 27px;\\n\\tleft: 26px;\\n\\tbackground-position: -40px -320px;\\n}\\n\\n.ly_inputko .consonantal .con10 {\\n\\ttop: 27px;\\n\\tleft: 52px;\\n\\tbackground-position: -80px -320px;\\n}\\n\\n.ly_inputko .consonantal .con11 {\\n\\ttop: 27px;\\n\\tleft: 78px;\\n\\tbackground-position: -120px -320px;\\n}\\n\\n.ly_inputko .consonantal .con12 {\\n\\ttop: 27px;\\n\\tleft: 104px;\\n\\tbackground-position: -160px -320px;\\n}\\n\\n.ly_inputko .consonantal .con13 {\\n\\ttop: 27px;\\n\\tleft: 130px;\\n\\tbackground-position: -200px -320px;\\n}\\n\\n.ly_inputko .consonantal .con14 {\\n\\ttop: 27px;\\n\\tleft: 156px;\\n\\tbackground-position: -240px -320px;\\n}\\n\\n.ly_inputko .consonantal .con15 {\\n\\ttop: 53px;\\n\\tleft: 1px;\\n\\twidth: 24px;\\n\\tbackground-position: 0 -360px;\\n}\\n\\n.ly_inputko .consonantal .con16 {\\n\\ttop: 53px;\\n\\tleft: 26px;\\n\\tbackground-position: -40px -360px;\\n}\\n\\n.ly_inputko .consonantal .con17 {\\n\\ttop: 53px;\\n\\tleft: 52px;\\n\\tbackground-position: -80px -360px;\\n}\\n\\n.ly_inputko .consonantal .con18 {\\n\\ttop: 53px;\\n\\tleft: 78px;\\n\\tbackground-position: -120px -360px;\\n}\\n\\n.ly_inputko .consonantal .con19 {\\n\\ttop: 53px;\\n\\tleft: 104px;\\n\\tbackground-position: -160px -360px;\\n}\\n\\n.ly_inputko .consonantal .con_over {\\n\\ttop: 0;\\n\\tleft: 0;\\n\\twidth: 26px;\\n\\theight: 27px;\\n\\tbackground-position: 0 -120px;\\n}\\n\\n.ly_inputko .consonantal .con2_over {\\n\\ttop: 0;\\n\\tleft: 25px;\\n\\twidth: 27px;\\n\\theight: 27px;\\n\\tbackground-position: -40px -120px;\\n}\\n\\n.ly_inputko .consonantal .con3_over {\\n\\ttop: 0;\\n\\tleft: 51px;\\n\\twidth: 27px;\\n\\theight: 27px;\\n\\tbackground-position: -80px -120px;\\n}\\n\\n.ly_inputko .consonantal .con4_over {\\n\\ttop: 0;\\n\\tleft: 77px;\\n\\twidth: 27px;\\n\\theight: 27px;\\n\\tbackground-position: -120px -120px;\\n}\\n\\n.ly_inputko .consonantal .con5_over {\\n\\ttop: 0;\\n\\tleft: 103px;\\n\\twidth: 27px;\\n\\theight: 27px;\\n\\tbackground-position: -160px -120px;\\n}\\n\\n.ly_inputko .consonantal .con6_over {\\n\\ttop: 0;\\n\\tleft: 129px;\\n\\twidth: 27px;\\n\\theight: 27px;\\n\\tbackground-position: -200px -120px;\\n}\\n\\n.ly_inputko .consonantal .con7_over {\\n\\ttop: 0;\\n\\tleft: 155px;\\n\\twidth: 27px;\\n\\theight: 27px;\\n\\tbackground-position: -240px -120px;\\n}\\n\\n.ly_inputko .consonantal .con8_over {\\n\\ttop: 26px;\\n\\tleft: 0;\\n\\twidth: 26px;\\n\\theight: 27px;\\n\\tbackground-position: 0 -160px;\\n}\\n\\n.ly_inputko .consonantal .con9_over {\\n\\ttop: 26px;\\n\\tleft: 25px;\\n\\twidth: 27px;\\n\\theight: 27px;\\n\\tbackground-position: -40px -160px;\\n}\\n\\n.ly_inputko .consonantal .con10_over {\\n\\ttop: 26px;\\n\\tleft: 51px;\\n\\twidth: 27px;\\n\\theight: 27px;\\n\\tbackground-position: -80px -160px;\\n}\\n\\n.ly_inputko .consonantal .con11_over {\\n\\ttop: 26px;\\n\\tleft: 77px;\\n\\twidth: 27px;\\n\\theight: 27px;\\n\\tbackground-position: -120px -160px;\\n}\\n\\n.ly_inputko .consonantal .con12_over {\\n\\ttop: 26px;\\n\\tleft: 103px;\\n\\twidth: 27px;\\n\\theight: 27px;\\n\\tbackground-position: -160px -160px;\\n}\\n\\n.ly_inputko .consonantal .con13_over {\\n\\ttop: 26px;\\n\\tleft: 129px;\\n\\twidth: 27px;\\n\\theight: 27px;\\n\\tbackground-position: -200px -160px;\\n}\\n\\n.ly_inputko .consonantal .con14_over {\\n\\ttop: 26px;\\n\\tleft: 155px;\\n\\twidth: 27px;\\n\\theight: 27px;\\n\\tbackground-position: -240px -160px;\\n}\\n\\n.ly_inputko .consonantal .con15_over {\\n\\ttop: 52px;\\n\\tleft: 0;\\n\\twidth: 26px;\\n\\theight: 27px;\\n\\tbackground-position: 0 -200px;\\n}\\n\\n.ly_inputko .consonantal .con16_over {\\n\\ttop: 52px;\\n\\tleft: 25px;\\n\\twidth: 27px;\\n\\theight: 27px;\\n\\tbackground-position: -40px -200px;\\n}\\n\\n.ly_inputko .consonantal .con17_over {\\n\\ttop: 52px;\\n\\tleft: 51px;\\n\\twidth: 27px;\\n\\theight: 27px;\\n\\tbackground-position: -80px -200px;\\n}\\n\\n.ly_inputko .consonantal .con18_over {\\n\\ttop: 52px;\\n\\tleft: 77px;\\n\\twidth: 27px;\\n\\theight: 27px;\\n\\tbackground-position: -120px -200px;\\n}\\n\\n.ly_inputko .consonantal .con19_over {\\n\\ttop: 52px;\\n\\tleft: 103px;\\n\\twidth: 27px;\\n\\theight: 27px;\\n\\tbackground-position: -160px -200px;\\n}\\n\\n.ly_inputko .vowel .vow {\\n\\ttop: 1px;\\n\\tleft: 1px;\\n\\twidth: 24px;\\n\\tbackground-position: -280px -280px;\\n}\\n\\n.ly_inputko .vowel .vow2 {\\n\\ttop: 1px;\\n\\tleft: 26px;\\n\\tbackground-position: -320px -280px;\\n}\\n\\n.ly_inputko .vowel .vow3 {\\n\\ttop: 1px;\\n\\tleft: 52px;\\n\\tbackground-position: -360px -280px;\\n}\\n\\n.ly_inputko .vowel .vow4 {\\n\\ttop: 1px;\\n\\tleft: 78px;\\n\\tbackground-position: -400px -280px;\\n}\\n\\n.ly_inputko .vowel .vow5 {\\n\\ttop: 1px;\\n\\tleft: 104px;\\n\\twidth: 24px;\\n\\tbackground-position: -440px -280px;\\n}\\n\\n.ly_inputko .vowel .vow6 {\\n\\ttop: 27px;\\n\\tleft: 1px;\\n\\twidth: 24px;\\n\\tbackground-position: -280px -320px;\\n}\\n\\n.ly_inputko .vowel .vow7 {\\n\\ttop: 27px;\\n\\tleft: 26px;\\n\\tbackground-position: -320px -320px;\\n}\\n\\n.ly_inputko .vowel .vow8 {\\n\\ttop: 27px;\\n\\tleft: 52px;\\n\\tbackground-position: -360px -320px;\\n}\\n\\n.ly_inputko .vowel .vow9 {\\n\\ttop: 27px;\\n\\tleft: 78px;\\n\\tbackground-position: -400px -320px;\\n}\\n\\n.ly_inputko .vowel .vow10 {\\n\\ttop: 27px;\\n\\tleft: 104px;\\n\\twidth: 24px;\\n\\tbackground-position: -440px -320px;\\n}\\n\\n.ly_inputko .vowel .vow11 {\\n\\ttop: 53px;\\n\\tleft: 1px;\\n\\twidth: 24px;\\n\\tbackground-position: -280px -360px;\\n}\\n\\n.ly_inputko .vowel .vow12 {\\n\\ttop: 53px;\\n\\tleft: 26px;\\n\\tbackground-position: -320px -360px;\\n}\\n\\n.ly_inputko .vowel .vow13 {\\n\\ttop: 53px;\\n\\tleft: 52px;\\n\\tbackground-position: -360px -360px;\\n}\\n\\n.ly_inputko .vowel .vow14 {\\n\\ttop: 53px;\\n\\tleft: 78px;\\n\\tbackground-position: -400px -360px;\\n}\\n\\n.ly_inputko .vowel .vow_over {\\n\\ttop: 0;\\n\\tleft: 0;\\n\\twidth: 26px;\\n\\theight: 27px;\\n\\tbackground-position: -280px -120px;\\n}\\n\\n.ly_inputko .vowel .vow2_over {\\n\\ttop: 0;\\n\\tleft: 25px;\\n\\twidth: 27px;\\n\\theight: 27px;\\n\\tbackground-position: -320px -120px;\\n}\\n\\n.ly_inputko .vowel .vow3_over {\\n\\ttop: 0;\\n\\tleft: 51px;\\n\\twidth: 27px;\\n\\theight: 27px;\\n\\tbackground-position: -360px -120px;\\n}\\n\\n.ly_inputko .vowel .vow4_over {\\n\\ttop: 0;\\n\\tleft: 77px;\\n\\twidth: 27px;\\n\\theight: 27px;\\n\\tbackground-position: -400px -120px;\\n}\\n\\n.ly_inputko .vowel .vow5_over {\\n\\ttop: 0;\\n\\tleft: 103px;\\n\\twidth: 26px;\\n\\theight: 27px;\\n\\tbackground-position: -440px -120px;\\n}\\n\\n.ly_inputko .vowel .vow6_over {\\n\\ttop: 26px;\\n\\tleft: 0;\\n\\twidth: 26px;\\n\\theight: 27px;\\n\\tbackground-position: -280px -160px;\\n}\\n\\n.ly_inputko .vowel .vow7_over {\\n\\ttop: 26px;\\n\\tleft: 25px;\\n\\twidth: 27px;\\n\\theight: 27px;\\n\\tbackground-position: -320px -160px;\\n}\\n\\n.ly_inputko .vowel .vow8_over {\\n\\ttop: 26px;\\n\\tleft: 51px;\\n\\twidth: 27px;\\n\\theight: 27px;\\n\\tbackground-position: -360px -160px;\\n}\\n\\n.ly_inputko .vowel .vow9_over {\\n\\ttop: 26px;\\n\\tleft: 77px;\\n\\twidth: 27px;\\n\\theight: 27px;\\n\\tbackground-position: -400px -160px;\\n}\\n\\n.ly_inputko .vowel .vow10_over {\\n\\ttop: 26px;\\n\\tleft: 103px;\\n\\twidth: 26px;\\n\\theight: 27px;\\n\\tbackground-position: -440px -160px;\\n}\\n\\n.ly_inputko .vowel .vow11_over {\\n\\ttop: 52px;\\n\\tleft: 0;\\n\\twidth: 26px;\\n\\theight: 27px;\\n\\tbackground-position: -280px -200px;\\n}\\n\\n.ly_inputko .vowel .vow12_over {\\n\\ttop: 52px;\\n\\tleft: 25px;\\n\\twidth: 27px;\\n\\theight: 27px;\\n\\tbackground-position: -320px -200px;\\n}\\n\\n.ly_inputko .vowel .vow13_over {\\n\\ttop: 52px;\\n\\tleft: 51px;\\n\\twidth: 27px;\\n\\theight: 27px;\\n\\tbackground-position: -360px -200px;\\n}\\n\\n.ly_inputko .vowel .vow14_over {\\n\\ttop: 52px;\\n\\tleft: 77px;\\n\\twidth: 27px;\\n\\theight: 27px;\\n\\tbackground-position: -400px -200px;\\n}\\n\\n.ly_inputko .consonantal .con button, .ly_inputko .consonantal .con8 button, .ly_inputko .consonantal .con15 button, .ly_inputko .vowel .vow button, .ly_inputko .vowel .vow5 button, .ly_inputko .vowel .vow6 button, .ly_inputko .vowel .vow10 button, .ly_inputko .vowel .vow11 button {\\n\\twidth: 24px;\\n}\\n\\n/* mouse english */\\n.ly_inputko .alphabet {\\n\\tposition: relative;\\n\\twidth: 313px;\\n\\theight: 79px;\\n\\tmargin-bottom: 3px;\\n\\tbackground: url(https://ssl.pstatic.net/sstatic/search/img3/bg_sp.gif) no-repeat 0 -240px;\\n}\\n\\n.ly_inputko .alphabet .alp {\\n\\ttop: 1px;\\n\\tleft: 1px;\\n\\tbackground-position: 0 -560px;\\n}\\n\\n.ly_inputko .alphabet .alp2 {\\n\\ttop: 1px;\\n\\tleft: 27px;\\n\\tbackground-position: -40px -560px;\\n}\\n\\n.ly_inputko .alphabet .alp3 {\\n\\ttop: 1px;\\n\\tleft: 53px;\\n\\tbackground-position: -80px -560px;\\n}\\n\\n.ly_inputko .alphabet .alp4 {\\n\\ttop: 1px;\\n\\tleft: 79px;\\n\\tbackground-position: -120px -560px;\\n}\\n\\n.ly_inputko .alphabet .alp5 {\\n\\ttop: 1px;\\n\\tleft: 105px;\\n\\tbackground-position: -160px -560px;\\n}\\n\\n.ly_inputko .alphabet .alp6 {\\n\\ttop: 1px;\\n\\tleft: 131px;\\n\\tbackground-position: -200px -560px;\\n}\\n\\n.ly_inputko .alphabet .alp7 {\\n\\ttop: 1px;\\n\\tleft: 157px;\\n\\tbackground-position: -240px -560px;\\n}\\n\\n.ly_inputko .alphabet .alp8 {\\n\\ttop: 1px;\\n\\tleft: 183px;\\n\\tbackground-position: -280px -560px;\\n}\\n\\n.ly_inputko .alphabet .alp9 {\\n\\ttop: 1px;\\n\\tleft: 209px;\\n\\tbackground-position: -320px -560px;\\n}\\n\\n.ly_inputko .alphabet .alp10 {\\n\\ttop: 1px;\\n\\tleft: 235px;\\n\\tbackground-position: -360px -560px;\\n}\\n\\n.ly_inputko .alphabet .alp11 {\\n\\ttop: 1px;\\n\\tleft: 261px;\\n\\tbackground-position: -400px -560px;\\n}\\n\\n.ly_inputko .alphabet .alp12 {\\n\\ttop: 1px;\\n\\tleft: 287px;\\n\\tbackground-position: -440px -560px;\\n}\\n\\n.ly_inputko .alphabet .alp13 {\\n\\ttop: 27px;\\n\\tleft: 1px;\\n\\tbackground-position: 0 -600px;\\n}\\n\\n.ly_inputko .alphabet .alp14 {\\n\\ttop: 27px;\\n\\tleft: 27px;\\n\\tbackground-position: -40px -600px;\\n}\\n\\n.ly_inputko .alphabet .alp15 {\\n\\ttop: 27px;\\n\\tleft: 53px;\\n\\tbackground-position: -80px -600px;\\n}\\n\\n.ly_inputko .alphabet .alp16 {\\n\\ttop: 27px;\\n\\tleft: 79px;\\n\\tbackground-position: -120px -600px;\\n}\\n\\n.ly_inputko .alphabet .alp17 {\\n\\ttop: 27px;\\n\\tleft: 105px;\\n\\tbackground-position: -160px -600px;\\n}\\n\\n.ly_inputko .alphabet .alp18 {\\n\\ttop: 27px;\\n\\tleft: 131px;\\n\\tbackground-position: -200px -600px;\\n}\\n\\n.ly_inputko .alphabet .alp19 {\\n\\ttop: 27px;\\n\\tleft: 157px;\\n\\tbackground-position: -240px -600px;\\n}\\n\\n.ly_inputko .alphabet .alp20 {\\n\\ttop: 27px;\\n\\tleft: 183px;\\n\\tbackground-position: -280px -600px;\\n}\\n\\n.ly_inputko .alphabet .alp21 {\\n\\ttop: 27px;\\n\\tleft: 209px;\\n\\tbackground-position: -320px -600px;\\n}\\n\\n.ly_inputko .alphabet .alp22 {\\n\\ttop: 27px;\\n\\tleft: 235px;\\n\\tbackground-position: -360px -600px;\\n}\\n\\n.ly_inputko .alphabet .alp23 {\\n\\ttop: 27px;\\n\\tleft: 261px;\\n\\tbackground-position: -400px -600px;\\n}\\n\\n.ly_inputko .alphabet .alp24 {\\n\\ttop: 27px;\\n\\tleft: 287px;\\n\\tbackground-position: -440px -600px;\\n}\\n\\n.ly_inputko .alphabet .alp25 {\\n\\ttop: 53px;\\n\\tleft: 1px;\\n\\tbackground-position: 0 -640px;\\n}\\n\\n.ly_inputko .alphabet .alp26 {\\n\\ttop: 53px;\\n\\tleft: 27px;\\n\\tbackground-position: -40px -640px;\\n}\\n\\n.ly_inputko .alphabet .alp_over {\\n\\ttop: 0;\\n\\tleft: 0;\\n\\twidth: 27px;\\n\\theight: 27px;\\n\\tbackground-position: 0 -440px;\\n}\\n\\n.ly_inputko .alphabet .alp2_over {\\n\\ttop: 0;\\n\\tleft: 26px;\\n\\twidth: 27px;\\n\\theight: 27px;\\n\\tbackground-position: -40px -440px;\\n}\\n\\n.ly_inputko .alphabet .alp3_over {\\n\\ttop: 0;\\n\\tleft: 52px;\\n\\twidth: 27px;\\n\\theight: 27px;\\n\\tbackground-position: -80px -440px;\\n}\\n\\n.ly_inputko .alphabet .alp4_over {\\n\\ttop: 0;\\n\\tleft: 78px;\\n\\twidth: 27px;\\n\\theight: 27px;\\n\\tbackground-position: -120px -440px;\\n}\\n\\n.ly_inputko .alphabet .alp5_over {\\n\\ttop: 0;\\n\\tleft: 104px;\\n\\twidth: 27px;\\n\\theight: 27px;\\n\\tbackground-position: -160px -440px;\\n}\\n\\n.ly_inputko .alphabet .alp6_over {\\n\\ttop: 0;\\n\\tleft: 130px;\\n\\twidth: 27px;\\n\\theight: 27px;\\n\\tbackground-position: -200px -440px;\\n}\\n\\n.ly_inputko .alphabet .alp7_over {\\n\\ttop: 0;\\n\\tleft: 156px;\\n\\twidth: 27px;\\n\\theight: 27px;\\n\\tbackground-position: -240px -440px;\\n}\\n\\n.ly_inputko .alphabet .alp8_over {\\n\\ttop: 0;\\n\\tleft: 182px;\\n\\twidth: 27px;\\n\\theight: 27px;\\n\\tbackground-position: -280px -440px;\\n}\\n\\n.ly_inputko .alphabet .alp9_over {\\n\\ttop: 0;\\n\\tleft: 208px;\\n\\twidth: 27px;\\n\\theight: 27px;\\n\\tbackground-position: -320px -440px;\\n}\\n\\n.ly_inputko .alphabet .alp10_over {\\n\\ttop: 0;\\n\\tleft: 234px;\\n\\twidth: 27px;\\n\\theight: 27px;\\n\\tbackground-position: -360px -440px;\\n}\\n\\n.ly_inputko .alphabet .alp11_over {\\n\\ttop: 0;\\n\\tleft: 260px;\\n\\twidth: 27px;\\n\\theight: 27px;\\n\\tbackground-position: -400px -440px;\\n}\\n\\n.ly_inputko .alphabet .alp12_over {\\n\\ttop: 0;\\n\\tleft: 286px;\\n\\twidth: 27px;\\n\\theight: 27px;\\n\\tbackground-position: -440px -440px;\\n}\\n\\n.ly_inputko .alphabet .alp13_over {\\n\\ttop: 26px;\\n\\tleft: 0;\\n\\twidth: 27px;\\n\\theight: 27px;\\n\\tbackground-position: 0 -480px;\\n}\\n\\n.ly_inputko .alphabet .alp14_over {\\n\\ttop: 26px;\\n\\tleft: 26px;\\n\\twidth: 27px;\\n\\theight: 27px;\\n\\tbackground-position: -40px -480px;\\n}\\n\\n.ly_inputko .alphabet .alp15_over {\\n\\ttop: 26px;\\n\\tleft: 52px;\\n\\twidth: 27px;\\n\\theight: 27px;\\n\\tbackground-position: -80px -480px;\\n}\\n\\n.ly_inputko .alphabet .alp16_over {\\n\\ttop: 26px;\\n\\tleft: 78px;\\n\\twidth: 27px;\\n\\theight: 27px;\\n\\tbackground-position: -120px -480px;\\n}\\n\\n.ly_inputko .alphabet .alp17_over {\\n\\ttop: 26px;\\n\\tleft: 104px;\\n\\twidth: 27px;\\n\\theight: 27px;\\n\\tbackground-position: -160px -480px;\\n}\\n\\n.ly_inputko .alphabet .alp18_over {\\n\\ttop: 26px;\\n\\tleft: 130px;\\n\\twidth: 27px;\\n\\theight: 27px;\\n\\tbackground-position: -200px -480px;\\n}\\n\\n.ly_inputko .alphabet .alp19_over {\\n\\ttop: 26px;\\n\\tleft: 156px;\\n\\twidth: 27px;\\n\\theight: 27px;\\n\\tbackground-position: -240px -480px;\\n}\\n\\n.ly_inputko .alphabet .alp20_over {\\n\\ttop: 26px;\\n\\tleft: 182px;\\n\\twidth: 27px;\\n\\theight: 27px;\\n\\tbackground-position: -280px -480px;\\n}\\n\\n.ly_inputko .alphabet .alp21_over {\\n\\ttop: 26px;\\n\\tleft: 208px;\\n\\twidth: 27px;\\n\\theight: 27px;\\n\\tbackground-position: -320px -480px;\\n}\\n\\n.ly_inputko .alphabet .alp22_over {\\n\\ttop: 26px;\\n\\tleft: 234px;\\n\\twidth: 27px;\\n\\theight: 27px;\\n\\tbackground-position: -360px -480px;\\n}\\n\\n.ly_inputko .alphabet .alp23_over {\\n\\ttop: 26px;\\n\\tleft: 260px;\\n\\twidth: 27px;\\n\\theight: 27px;\\n\\tbackground-position: -400px -480px;\\n}\\n\\n.ly_inputko .alphabet .alp24_over {\\n\\ttop: 26px;\\n\\tleft: 286px;\\n\\twidth: 27px;\\n\\theight: 27px;\\n\\tbackground-position: -440px -480px;\\n}\\n\\n.ly_inputko .alphabet .alp25_over {\\n\\ttop: 52px;\\n\\tleft: 0;\\n\\twidth: 27px;\\n\\theight: 27px;\\n\\tbackground-position: 0 -520px;\\n}\\n\\n.ly_inputko .alphabet .alp26_over {\\n\\ttop: 52px;\\n\\tleft: 26px;\\n\\twidth: 27px;\\n\\theight: 27px;\\n\\tbackground-position: -40px -520px;\\n}\\n\\n/*# sourceMappingURL=api_setkr_https.css.map */\\n/*# sourceMappingURL=data:application/json;base64,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 */</style><script type=\"text/javascript\" src=\"https://ssl.pstatic.net/tveta/libs/glad/prod/0.4.1/gfp-ext-nda.js\" async=\"\"></script><script type=\"text/javascript\" src=\"https://ssl.pstatic.net/tveta/libs/glad/prod/0.4.1/gfp-ext-nda.js\" async=\"\"></script><link rel=\"stylesheet\" type=\"text/css\" href=\"https://ssl.pstatic.net/tveta/libs/assets/css/pc/main/min/rollingboard_expand_videoplayer.min.css?20191205\"><link rel=\"stylesheet\" type=\"text/css\" href=\"https://ssl.pstatic.net/tveta/libs/assets/css/pc/main/min/rollingboard_autoplay_350.min.css?20191205\"></head> <body> <div id=\"u_skip\"> <a href=\"#newsstand\"><span>뉴스스탠드 바로가기</span></a> <a href=\"#themecast\"><span>주제별캐스트 바로가기</span></a> <a href=\"#timesquare\"><span>타임스퀘어 바로가기</span></a> <a href=\"#shopcast\"><span>쇼핑캐스트 바로가기</span></a> <a href=\"#account\"><span>로그인 바로가기</span></a> </div> <div id=\"wrap\">         \\n<style>._1syGnXOL{padding-right:18px;font-size:14px;line-height:0;letter-spacing:-.25px;color:#000}._1syGnXOL span,._1syGnXOL strong{line-height:49px}._1syGnXOL:before{display:inline-block;content:\"\";vertical-align:top;background-image:url(https://static-whale.pstatic.net/main/sprite-20211123@2x.png);background-repeat:no-repeat;background-size:116px 112px;width:18px;height:18px;margin:16px 8px 0 0;background-position:-98px 0}[data-useragent*=\"MSIE 8\"] ._1syGnXOL:before{background-image:url(https://static-whale.pstatic.net/main/sprite-20211123.png)}._1syGnXOL._3dsvmZg2:before{background-position:-47px -85px}._1syGnXOL._1NBFx1WK:before{width:20px;height:20px;margin:15px 8px 0 0;background-position:-21px -89px}._1syGnXOL._2mcQEKCd:before{width:22px;height:22px;margin:14px 7px 0 0;background-position:-47px -63px}._1syGnXOL._36slsKuJ:before{width:21px;height:49px;margin:0 14px 0 0;background-position:0 -63px}._1syGnXOL._3di88A4c{padding-right:12px;font-size:17px}._1syGnXOL._3di88A4c:before{content:none}._1syGnXOL ._19K4X1CD{text-decoration:underline}._2aeXMlrb{display:inline-block;position:relative;font-size:12px;height:49px;width:78px;text-decoration:none;color:#fff;font-weight:700;letter-spacing:-.5px;vertical-align:top}._2aeXMlrb span{text-align:center;margin:9px 0;height:31px;display:block;line-height:31px;border-radius:15px}._2aeXMlrb span:before{display:inline-block;content:\"\";vertical-align:top;background-image:url(https://static-whale.pstatic.net/main/sprite-20211123@2x.png);background-repeat:no-repeat;background-size:116px 112px}[data-useragent*=\"MSIE 8\"] ._2aeXMlrb span:before{background-image:url(https://static-whale.pstatic.net/main/sprite-20211123.png)}._2aeXMlrb.BMgpjddw{font-size:11px;width:94px}._2aeXMlrb.BMgpjddw span:before{margin:9px 3px 0 0;width:17px;height:13px;background-position:-89px -63px}._3h-N8T9V{position:absolute;top:0;left:0;right:0;bottom:0;background:rgba(0,0,0,0)}._1KncATpM{display:inline-block;content:\"\";vertical-align:top;background-image:url(https://static-whale.pstatic.net/main/sprite-20211123@2x.png);background-repeat:no-repeat;background-size:116px 112px;margin-top:14px;float:left;width:98px;height:21px;background-position:0 -21px}[data-useragent*=\"MSIE 8\"] ._1KncATpM{background-image:url(https://static-whale.pstatic.net/main/sprite-20211123.png)}._1KncATpM._2v3uxv2x{background-position:0 0}._1KncATpM._1yl_Ow6o{background-position:0 -42px}._20PYt6lT{font-size:11px;height:49px;cursor:pointer;position:absolute;top:0;right:0;color:#666;opacity:.7}._20PYt6lT:after{width:15px;height:15px;margin-left:4px;background-position:-98px -33px;display:inline-block;content:\"\";vertical-align:top;background-image:url(https://static-whale.pstatic.net/main/sprite-20211123@2x.png);background-repeat:no-repeat;background-size:116px 112px}[data-useragent*=\"MSIE 8\"] ._20PYt6lT:after{background-image:url(https://static-whale.pstatic.net/main/sprite-20211123.png)}._20PYt6lT._39oMCV2N:after{background-position:-98px -18px}._20PYt6lT._3MOWOORv{color:#c3c2c2}._20PYt6lT._3MOWOORv:after{background-position:-80px -85px}._20PYt6lT._3wm5EzmJ{color:#fff}._20PYt6lT._3wm5EzmJ:after{background-position:-65px -85px}._1hiMWemA{height:49px}._1hiMWemA .tY_u8r23{position:relative;width:1130px;margin:0 auto}._1hiMWemA .tY_u8r23 a{text-decoration:none}._1hiMWemA._23U_6TM_{position:relative}._1hiMWemA._23U_6TM_:after{position:absolute;z-index:1;content:\"\";display:block;width:100%;height:1px;bottom:0;background-color:rgba(0,0,0,.050980392156862744)}</style>\\n<div id=\"NM_TOP_BANNER\" data-clk-prefix=\"top\" class=\"_1hiMWemA\" style=\"background-color: #eff9fa\">\\n<div class=\"tY_u8r23\">\\n<a class=\"_3h-N8T9V\" href=\"https://whale.naver.com/banner/details/incognito?=main&amp;wpid=RydDy7\" data-clk=\"dropbanner1b\"></a><i class=\"_1KncATpM\"><span class=\"blind\">NAVER whale</span></i><img src=\"https://static-whale.pstatic.net/main/img_incognito_v2@2x.png\" width=\"240\" height=\"49\" alt=\"\" style=\"padding-left: 100px\"><span class=\"_1syGnXOL _3di88A4c\" data-clk=\"dropbanner1b\" style=\"padding-right: 20px; color: black; padding-left: 20px\"><span>로그아웃, 쿠키 삭제⋯ </span><strong style=\"color: #00c4a7\">공용PC 설정</strong><span>하면 걱정 끝!</span></span><a href=\"https://installer-whale.pstatic.net/downloads/banner/RydDy7/WhaleSetup.exe\" class=\"_2aeXMlrb BMgpjddw\" id=\"NM_whale_download_btn\" data-clk=\"dropdownload1b\"><span style=\"background-color: #00c4a7\">다운로드</span></a><button type=\"button\" data-ui-cookie-exp-days=\"3\" data-ui-cookie-key=\"NM_TOP_PROMOTION\" data-ui-cookie-value=\"1\" data-ui-hide-target=\"#NM_TOP_BANNER\" data-clk=\"dropclose1b\" class=\"_20PYt6lT _39oMCV2N\">\\n3일 동안 보지 않기\\n</button>\\n</div>\\n</div>  <div id=\"header\" role=\"banner\">\\n\\n\\n\\n\\n\\n\\n\\n\\n<div class=\"special_bg\">\\n<div class=\"group_flex\">\\n<div class=\"logo_area\">\\n<h1 class=\"logo_default\">\\n<a href=\"/\" class=\"logo_naver\" data-clk=\"top.logo\"><span class=\"blind\">네이버</span></a>\\n</h1>\\n</div>\\n<div class=\"service_area\">\\n<a id=\"NM_set_home_btn\" href=\"https://help.naver.com/support/welcomePage/guide.help\" class=\"link_set\" data-clk=\"top.mkhome\">네이버를 시작페이지로</a>\\n<i class=\"sa_bar\"></i>\\n<a href=\"https://jr.naver.com\" class=\"link_jrnaver\" data-clk=\"top.jrnaver\"><i class=\"ico_jrnaver\"></i><span class=\"blind\">쥬니어네이버</span></a>\\n<a href=\"https://happybean.naver.com\" class=\"link_happybin\" data-clk=\"top.happybean\"><i class=\"ico_happybin\"></i><span class=\"blind\">해피빈</span></a>\\n</div>\\n\\n<div id=\"search\" class=\"search_area\" data-clk-prefix=\"sch\">\\n<form id=\"sform\" name=\"sform\" action=\"https://search.naver.com/search.naver\" method=\"get\" role=\"search\">\\n<fieldset>\\n<legend class=\"blind\">검색</legend>\\n<select id=\"where\" name=\"where\" title=\"검색 범위 선택\" class=\"blind\">\\n<option value=\"nexearch\" selected=\"selected\">통합검색</option><option value=\"post\">블로그</option><option value=\"cafeblog\">카페</option><option value=\"cafe\">- 카페명</option><option value=\"article\">- 카페글</option><option value=\"kin\">지식iN</option><option value=\"news\">뉴스</option><option value=\"web\">사이트</option><option value=\"category\">- 카테고리</option><option value=\"site\">- 사이트</option><option value=\"movie\">영화</option><option value=\"webkr\">웹문서</option><option value=\"dic\">사전</option><option value=\"100\">- 백과사전</option><option value=\"endic\">- 영어사전</option><option value=\"eedic\">- 영영사전</option><option value=\"krdic\">- 국어사전</option><option value=\"jpdic\">- 일본어사전</option><option value=\"hanja\">- 한자사전</option><option value=\"terms\">- 용어사전</option><option value=\"book\">책</option><option value=\"music\">음악</option><option value=\"doc\">전문자료</option><option value=\"shop\">쇼핑</option><option value=\"local\">지역</option><option value=\"video\">동영상</option><option value=\"image\">이미지</option><option value=\"mypc\">내PC</option><optgroup label=\"스마트 파인더\"><option value=\"movie\">영화</option><option value=\"auto\">자동차</option><option value=\"game\">게임</option><option value=\"health\">건강</option><option value=\"people\">인물</option></optgroup><optgroup label=\"네이버 랩\"><option>긍정부정검색</option></optgroup>\\n</select>\\n<input type=\"hidden\" id=\"sm\" name=\"sm\" value=\"top_hty\">\\n<input type=\"hidden\" id=\"fbm\" name=\"fbm\" value=\"0\">\\n<input type=\"hidden\" id=\"acr\" name=\"acr\" value=\"\" disabled=\"disabled\">\\n<input type=\"hidden\" id=\"acq\" name=\"acq\" value=\"\" disabled=\"disabled\">\\n<input type=\"hidden\" id=\"qdt\" name=\"qdt\" value=\"\" disabled=\"disabled\">\\n<input type=\"hidden\" id=\"ie\" name=\"ie\" value=\"utf8\">\\n<input type=\"hidden\" id=\"acir\" name=\"acir\" value=\"\" disabled=\"disabled\">\\n<input type=\"hidden\" id=\"os\" name=\"os\" value=\"\" disabled=\"disabled\">\\n<input type=\"hidden\" id=\"bid\" name=\"bid\" value=\"\" disabled=\"disabled\">\\n<input type=\"hidden\" id=\"pkid\" name=\"pkid\" value=\"\" disabled=\"disabled\">\\n<input type=\"hidden\" id=\"eid\" name=\"eid\" value=\"\" disabled=\"disabled\">\\n<input type=\"hidden\" id=\"mra\" name=\"mra\" value=\"\" disabled=\"disabled\">\\n\\n\\n\\n<div class=\"green_window\" style=\"\">\\n<!-- [AU] data-atcmp-element 에 해당하는 attribute를 추가해주세요. -->\\n<input id=\"query\" name=\"query\" type=\"text\" title=\"검색어 입력\" maxlength=\"255\" class=\"input_text\" tabindex=\"1\" accesskey=\"s\" style=\"ime-mode:active;\" autocomplete=\"off\" placeholder=\"검색어를 입력해 주세요.\" onclick=\"document.getElementById(\\'fbm\\').value=1;\" value=\"\" data-atcmp-element=\"\">\\n</div>\\n<button id=\"search_btn\" type=\"submit\" title=\"검색\" tabindex=\"3\" class=\"btn_submit\" onclick=\"window.nclick(this,\\'sch.action\\',\\'\\',\\'\\',event);\" style=\"\">\\n<span class=\"blind\">검색</span>\\n<span class=\"ico_search_submit\"></span>\\n</button>\\n</fieldset>\\n</form>\\n<!-- 한글입력기 -->\\n<a href=\"#\" id=\"ke_kbd_btn\" role=\"button\" class=\"btn_keyboard\" onclick=\"return false;\"><span class=\"blind\">한글 입력기</span><span class=\"ico_keyboard\"></span></a>\\n<div id=\"_nx_kbd\" style=\"display:none;\"></div>\\n<div class=\"autocomplete\">\\n<!-- 자동완성 열린 경우 fold 클래스 추가, 딤드인 경우 dim 추가 -->\\n<a href=\"#\" role=\"button\" id=\"nautocomplete\" tabindex=\"2\" class=\"btn_arw _btn_arw fold\" aria-pressed=\"false\" data-atcmp-element=\"\"><span class=\"blind\">자동완성 레이어</span><span class=\"ico_arr\"></span></a>\\n</div>\\n<!-- 자동완성레이어 -->\\n<div id=\"autoFrame\" class=\"reatcmp\" style=\"display: none;\">\\n<!-- [AU] data-atcmp-element attribute를 추가해주세요. -->\\n<div class=\"ly_atcmp\" data-atcmp-element=\"\">\\n<div class=\"api_atcmp_wrap\">\\n<!-- 최근검색어 -->\\n<!-- [AU] _recent_layer 클래스를 추가해주세요. -->\\n<div class=\"atcmp_fixer _recent_layer\" style=\"display:none;\">\\n<!-- [AU] _recent_header 클래스를 추가해주세요. -->\\n<div class=\"atcmp_header _recent_header\">\\n<strong class=\"tit\">최근검색어</strong>\\n<div class=\"option\">\\n<!-- [AU] _delAll 클래스를 추가해주세요. -->\\n<a role=\"button\" href=\"#\" class=\"item _delAll\" aria-pressed=\"false\">전체삭제</a>\\n</div>\\n</div>\\n<div class=\"atcmp_container\">\\n<!-- [AU] _recent 클래스를 추가해주세요. -->\\n<ul class=\"kwd_lst _recent\">\\n<!-- 최근검색어 템플릿 -->\\n<!-- [AU] _item 클래스를 추가해주세요. -->\\n<!-- [AU] data-template-type=\"history\" data-keyword=\"@in_txt@\" attribute를 추가해주세요. -->\\n<li class=\"item _item\" data-rank=\"@rank@\" data-template-type=\"history\" data-keyword=\"@in_txt@\">\\n<a href=\"#\" class=\"kwd\">\\n<span class=\"fix\"><span class=\"common_ico_kwd\"><i class=\"imsc ico_search\"></i></span><span>@txt@</span></span>\\n</a>\\n<span class=\"etc\">\\n<em class=\"date\">@date@.</em>\\n<!-- [AU] _del 클래스를 추가해주세요. -->\\n<a href=\"#\" role=\"button\" class=\"bt_item _del\" aria-pressed=\"false\"><i class=\"imsc ico_del\">삭제</i></a>\\n</span>\\n</li>\\n</ul>\\n<!-- [D] 검색어 저장 꺼진 경우 atcmp_fixer에 type_off 추가 -->\\n<!-- [AU] _offMsg 클래스를 추가해주세요. -->\\n<div class=\"kwd_info kwd_off _offMsg\" style=\"display: none;\">검색어 저장 기능이 꺼져 있습니다.<br><span class=\"kwd_dsc\">설정이 초기화 된다면 <a href=\"https://help.naver.com/support/alias/search/word/word_29.naver\" class=\"kwd_help\" data-clk=\"sly.help\" target=\"_blank\">도움말</a>을 확인해주세요.</span></div>\\n<!-- [D] 검색어 내역 없는 경우 atcmp_fixer에 type_off 추가 -->\\n<!-- [AU] _recentNone 클래스를 추가해주세요. -->\\n<div class=\"kwd_info kwd_none _recentNone\" style=\"display: none;\">최근 검색어 내역이 없습니다.<br><span class=\"kwd_dsc\">설정이 초기화 된다면 <a href=\"https://help.naver.com/support/alias/search/word/word_29.naver\" class=\"kwd_help\" data-clk=\"sly.help\" target=\"_blank\">도움말</a>을 확인해주세요.</span></div>\\n</div>\\n<div class=\"atcmp_footer\">\\n<span class=\"side_opt_area\">\\n<span class=\"opt_item\"><a href=\"https://help.naver.com/support/service/main.help?serviceNo=605&amp;categoryNo=1991\" data-clk=\"sly.help\" target=\"_blank\">도움말</a></span>\\n</span>\\n<span class=\"rside_opt_area\">\\n<span class=\"opt_item\">\\n<!-- [AU] _keywordOnOff 클래스를 추가해주세요. -->\\n<a href=\"#\" class=\"close _keywordOnOff\">자동저장 끄기</a>\\n</span>\\n</span>\\n</div>\\n</div>\\n<!-- 자동완성 -->\\n<!-- [AU] _atcmp_layer 클래스를 추가해주세요. -->\\n<div class=\"atcmp_fixer _atcmp_layer\" style=\"display:none;\">\\n<!-- [AU] _words 클래스를 추가해주세요. -->\\n<div class=\"atcmp_container _words\">\\n<!-- 정답형 템플릿 : 로또당첨번호 -->\\n<!-- [AU] _answer 클래스를 추가해주세요. -->\\n<!-- [AU] data-template-type=\"answer_3\" data-code=\"@code@\" data-keyword=\"@1@\" attribute를 추가해주세요. -->\\n\\n<!-- 정답형 템플릿 : 환율 -->\\n<!-- [AU] _answer 클래스를 추가해주세요. -->\\n<!-- [AU] data-template-type=\"answer_9\" data-code=\"@code@\" data-keyword=\"@1@\" attribute를 추가해주세요. -->\\n\\n<!-- 정답형 템플릿 : 날씨(국내11, 해외12) -->\\n<!-- [AU] _answer 클래스를 추가해주세요. -->\\n<!-- [AU] data-template-type=\"answer_11\" data-code=\"@code@\" data-keyword=\"@1@\" attribute를 추가해주세요. -->\\n\\n<!-- 정답형 템플릿 : 사이트 바로가기 -->\\n<!-- [AU] _answer 클래스를 추가해주세요. -->\\n<!-- [AU] data-template-type=\"answer_17\" data-code=\"@code@\" data-keyword=\"@1@\" attribute를 추가해주세요. -->\\n\\n<!-- [AU] _kwd_list 클래스를 추가해주세요. -->\\n<ul class=\"kwd_lst _kwd_list\">\\n<!-- [AU] 자동완성 검색어 템플릿 -->\\n<!-- [AU] _item 클래스를 추가해주세요. -->\\n<!-- [AU] data-rank=\"@rank@\" data-template-type=\"suggestion\" data-keyword=\"@in_txt@\" attribute를 추가해주세요. -->\\n\\n<!-- [AU] 최근검색어 템플릿 -->\\n<!-- [AU] _item 클래스를 추가해주세요. -->\\n<!-- [AU] data-rank=\"@rank@\" data-template-type=\"history\" data-keyword=\"@in_txt@\" attribute를 추가해주세요. -->\\n\\n</ul>\\n<!-- [AU] 문맥검색 템플릿 -->\\n<!-- [AU] _item 클래스를 추가해주세요. -->\\n<!-- [AU] data-rank=\"@rank@\" data-template-type=\"intend\" data-keyword=\"@transQuery@\" attribute를 추가해주세요. -->\\n\\n<!-- [D] 선거안내문구 -->\\n<!-- [AU] _alert 클래스를 추가해주세요. -->\\n<div class=\"atcmp_alert _alert\">\\n<div class=\"dsc_election\">\\n<p class=\"dsc\">\\n<i class=\"imsc ico_election\"></i><span class=\"_alert_passage\"></span>\\n</p>\\n<span class=\"dsc_inner\">\\n<!-- [AU] _alert_passage2 클래스를 추가해주세요. -->\\n<span class=\"_alert_passage2\"></span>\\n<!-- [AU] _alert_link 클래스를 추가해주세요. -->\\n<a href=\"#\" class=\"link _alert_link\" target=\"_blank\">자세히보기</a>\\n</span>\\n</div>\\n</div>\\n<!-- [AU] _plus 클래스를 추가해주세요. -->\\n<div class=\"atcmp_plus _plus\">\\n<div class=\"dsc_plus\">\\n<a href=\"https://help.naver.com/support/alias/search/word/word_16.naver\" class=\"link_dsc\" data-clk=\"sug.cxhelp\" target=\"_blank\">관심사를 반영한 컨텍스트 자동완성<i class=\"imsc ico_help\">도움말</i></a>\\n</div>\\n<div class=\"switch\">\\n<!-- [D] 선택시 aria-pressed=\"ture/false\" -->\\n<!-- [AU] _plus_btn 클래스를 추가해주세요. -->\\n<a role=\"button\" href=\"#\" class=\"bt_switch active _plus_btn\" aria-pressed=\"false\"><i class=\"imsc ico_option\">컨텍스트 자동완성</i></a>\\n</div>\\n<!-- [AU] _plus_layer 클래스를 추가해주세요. -->\\n<div class=\"layer_plus _plus_layer\">\\n<strong class=\"tit\">컨텍스트 자동완성</strong>\\n<!-- [AU] _plus_layer_isloggedin 클래스를 추가해주세요. -->\\n<!-- [AU] style=\"display:none\" 추가해주세요. -->\\n<div class=\"_plus_layer_isloggedin\" style=\"display:none\">\\n<p class=\"dsc\">ON/OFF 설정은<br>해당기기(브라우저)에 저장됩니다.</p>\\n<div class=\"btn_area\">\\n<a href=\"https://help.naver.com/support/alias/search/word/word_16.naver\" class=\"btn btn_view\" data-clk=\"sug.cxlink\" target=\"_blank\">자세히</a>\\n</div>\\n</div>\\n<!-- [AU] _plus_layer_isnotloggedin 클래스를 추가해주세요. -->\\n<!-- [AU] style=\"display:none\" 추가해주세요. -->\\n<div class=\"_plus_layer_isnotloggedin\" style=\"display:none\">\\n<p class=\"dsc\"><em class=\"txt\">동일한 시간대/연령/남녀별</em> 사용자 그룹의<br>관심사에 맞춰 자동완성을 제공합니다.</p>\\n<div class=\"btn_area\">\\n<a href=\"https://nid.naver.com/nidlogin.login\" class=\"btn btn_login\" data-clk=\"sug.cxlogin\">로그인</a>\\n<a href=\"https://help.naver.com/support/alias/search/word/word_16.naver\" class=\"btn btn_view\" data-clk=\"sug.cxlink\" target=\"_blank\">자세히</a>\\n</div>\\n</div>\\n<!-- [AU] _plus_layer_close 클래스를 추가해주세요. -->\\n<a href=\"#\" role=\"button\" class=\"btn_close _plus_layer_close\"><i class=\"imsc ico_close\">컨텍스트 자동완성 레이어 닫기</i></a>\\n</div>\\n</div>\\n</div>\\n<div class=\"atcmp_footer\">\\n<span class=\"side_opt_area\">\\n<span class=\"opt_item\"><a href=\"https://help.naver.com/support/service/main.help?serviceNo=605&amp;categoryNo=1987\" data-clk=\"sug.help\" target=\"_blank\">도움말</a></span>\\n<span class=\"opt_item\"><a href=\"https://help.naver.com/support/contents/contents.help?serviceNo=605&amp;categoryNo=18215\" class=\"report\" data-clk=\"sug.report\" target=\"_blank\">신고</a></span>\\n</span>\\n<span class=\"rside_opt_area\">\\n<span class=\"opt_item\">\\n<!-- [AU] _suggestOnOff 클래스를 추가해주세요. -->\\n<a href=\"#\" class=\"close _suggestOnOff\">자동완성 끄기</a>\\n</span>\\n</span>\\n</div>\\n</div>\\n</div>\\n</div>\\n</div>\\n</div>\\n\\n</div>\\n</div>\\n\\n<!--EMPTY-->\\n<div id=\"gnb\">\\n<div id=\"NM_FAVORITE\" class=\"gnb_inner\">\\n<div class=\"group_nav\">\\n<ul class=\"list_nav type_fix\">\\n<li class=\"nav_item\">\\n<a href=\"https://mail.naver.com/\" class=\"nav\" data-clk=\"svc.mail\"><i class=\"ico_mail\"></i>메일</a>\\n</li>\\n<li class=\"nav_item\"><a href=\"https://section.cafe.naver.com/\" class=\"nav\" data-clk=\"svc.cafe\">카페</a></li>\\n<li class=\"nav_item\"><a href=\"https://section.blog.naver.com/\" class=\"nav\" data-clk=\"svc.blog\">블로그</a></li>\\n<li class=\"nav_item\"><a href=\"https://kin.naver.com/\" class=\"nav\" data-clk=\"svc.kin\">지식iN</a></li>\\n<li class=\"nav_item\"><a href=\"https://shopping.naver.com/\" class=\"nav shop\" data-clk=\"svc.shopping\"><span class=\"blind\">쇼핑</span></a></li>\\n<li class=\"nav_item\"><a href=\"https://shoppinglive.naver.com/home\" class=\"nav shoplive\" data-clk=\"svc.shoppinglive\"><span class=\"blind\">쇼핑LIVE</span></a></li>\\n<li class=\"nav_item\"><a href=\"https://order.pay.naver.com/home\" class=\"nav\" data-clk=\"svc.pay\">Pay</a></li>\\n<li class=\"nav_item\">\\n<a href=\"https://tv.naver.com/\" class=\"nav\" data-clk=\"svc.tvcast\"><i class=\"ico_tv\"></i>TV</a>\\n</li>\\n</ul>\\n<ul class=\"list_nav NM_FAVORITE_LIST\">\\n<li class=\"nav_item\"><a href=\"https://dict.naver.com/\" class=\"nav\" data-clk=\"svc.dic\">사전</a></li>\\n<li class=\"nav_item\"><a href=\"https://news.naver.com/\" class=\"nav\" data-clk=\"svc.news\">뉴스</a></li>\\n<li class=\"nav_item\"><a href=\"https://finance.naver.com/\" class=\"nav\" data-clk=\"svc.stock\">증권</a></li>\\n<li class=\"nav_item\"><a href=\"https://land.naver.com/\" class=\"nav\" data-clk=\"svc.land\">부동산</a></li>\\n<li class=\"nav_item\"><a href=\"https://map.naver.com/\" class=\"nav\" data-clk=\"svc.map\">지도</a></li>\\n<li class=\"nav_item\"><a href=\"https://vibe.naver.com/\" class=\"nav\" data-clk=\"svc.vibe\">VIBE</a></li>\\n<li class=\"nav_item\"><a href=\"https://book.naver.com/\" class=\"nav\" data-clk=\"svc.book\">책</a></li>\\n<li class=\"nav_item\"><a href=\"https://comic.naver.com/\" class=\"nav\" data-clk=\"svc.webtoon\">웹툰</a></li>\\n\\n</ul>\\n<ul class=\"list_nav type_empty\" style=\"display: none;\"></ul>\\n<a href=\"#\" role=\"button\" class=\"btn_more\" data-clk=\"svc.more\">더보기</a>\\n<div class=\"ly_btn_area\">\\n<a href=\"more.html\" class=\"btn NM_FAVORITE_ALL\" data-clk=\"map.svcmore\">서비스 전체보기</a>\\n<a href=\"#\" role=\"button\" class=\"btn btn_set\" data-clk=\"map.edit\">메뉴설정</a>\\n<a href=\"#\" role=\"button\" class=\"btn btn_reset\" data-clk=\"edt.reset\" style=\"display: none;\">초기화</a>\\n<a href=\"#\" role=\"button\" class=\"btn btn_save\" data-clk=\"edt.save\" style=\"display: none;\">저장</a>\\n</div>\\n</div>\\n<div id=\"NM_WEATHER\" class=\"group_weather\" data-nm-ui=\"rolling\">\\n\\n\\n<div class=\"eg-flick-viewport\" style=\"position: relative; z-index: 0; overflow: hidden; min-width: 100%; height: 100%; touch-action: pan-x; user-select: none; -webkit-user-drag: none; width: 270px;\"><div class=\"eg-flick-camera\" style=\"width: 100%; height: 100%; will-change: transform; transform: translate3d(0px, 0px, 0px);\"><div style=\"width: 270px; position: absolute; top: 0px;\" class=\"eg-flick-panel\">\\n<a data-clk=\"squ.weat\" href=\"https://weather.naver.com/today/09140104\" class=\"weather_area ico_w01\">\\n<div class=\"current_box\">\\n<strong class=\"current\" aria-label=\"현재기온\">2.4°</strong><strong class=\"state\">맑음</strong>\\n</div>\\n<div class=\"degree_box\">\\n<span class=\"min\" aria-label=\"최저기온\">-8.0°</span><span class=\"max\" aria-label=\"최고기온\">4.0°</span>\\n</div>\\n<span class=\"location\">을지로1가</span>\\n</a>\\n</div></div></div></div>\\n</div>\\n<div class=\"ly_service\">\\n<div class=\"group_service NM_FAVORITE_ALL_LY\">  <dl class=\"list_service\">\\n    <dt class=\"service_title\">ㄱ-ㅁ</dt>\\n      <dd class=\"service_data\"><a href=\"https://weather.naver.com/\" name=\"weather\" data-clk=\"map.weather\">날씨</a></dd>\\n      <dd class=\"service_data\"><a href=\"https://new-m.pay.naver.com/mycar/\" name=\"mycar\" data-clk=\"map.mycar\">네이버 MY CAR</a></dd>\\n      <dd class=\"service_data\"><a href=\"https://game.naver.com/\" name=\"ngame\" data-clk=\"map.ngame\">네이버 게임</a></dd>\\n      <dd class=\"service_data\"><a href=\"https://booking.naver.com/booked/list\" name=\"booking\" data-clk=\"map.booking\">네이버 예약</a></dd>\\n      <dd class=\"service_data\"><a href=\"https://contents.premium.naver.com/\" name=\"premium\" data-clk=\"map.premium\">네이버 프리미엄콘텐츠</a></dd>\\n      <dd class=\"service_data\"><a href=\"http://plus.naver.com\" name=\"plus\" data-clk=\"map.plus\">네이버플러스 멤버십</a></dd>\\n      <dd class=\"service_data\"><a href=\"https://news.naver.com/\" name=\"news\" data-clk=\"map.news\">뉴스</a></dd>\\n      <dd class=\"service_data\"><a href=\"https://datalab.naver.com/\" name=\"datalab\" data-clk=\"map.datalab\">데이터랩</a></dd>\\n      <dd class=\"service_data\"><a href=\"https://memo.naver.com/\" name=\"memo\" data-clk=\"map.memo\">메모</a></dd>\\n  </dl>\\n  <dl class=\"list_service\">\\n    <dt class=\"service_title\">ㅂ-ㅅ</dt>\\n      <dd class=\"service_data\"><a href=\"https://band.us/\" name=\"band\" data-clk=\"map.band\">밴드</a></dd>\\n      <dd class=\"service_data\"><a href=\"https://land.naver.com/\" name=\"land\" data-clk=\"map.land\">부동산</a></dd>\\n      <dd class=\"service_data\"><a href=\"https://sports.news.naver.com/\" name=\"sports\" data-clk=\"map.sports\">스포츠</a></dd>\\n      <dd class=\"service_data\"><a href=\"https://series.naver.com/\" name=\"nstore\" data-clk=\"map.nstore\">시리즈</a></dd>\\n      <dd class=\"service_data\"><a href=\"https://serieson.naver.com/\" name=\"nstoreon\" data-clk=\"map.serieson\">시리즈온</a></dd>\\n  </dl>\\n  <dl class=\"list_service\">\\n    <dt class=\"service_title\">ㅇ</dt>\\n      <dd class=\"service_data\"><a href=\"https://expert.naver.com/\" name=\"expert\" data-clk=\"map.expert\">엑스퍼트</a></dd>\\n      <dd class=\"service_data\"><a href=\"https://movie.naver.com/\" name=\"movie\" data-clk=\"map.movie\">영화</a></dd>\\n      <dd class=\"service_data\"><a href=\"https://audioclip.naver.com/\" name=\"audioclip\" data-clk=\"map.audioclip\">오디오클립</a></dd>\\n      <dd class=\"service_data\"><a href=\"https://office.naver.com/\" name=\"office\" data-clk=\"map.office\">오피스</a></dd>\\n      <dd class=\"service_data\"><a href=\"https://whale.naver.com/\" name=\"whale\" data-clk=\"map.whale\">웨일</a></dd>\\n      <dd class=\"service_data\"><a href=\"https://novel.naver.com/\" name=\"webnovel\" data-clk=\"map.webnovel\">웹소설</a></dd>\\n      <dd class=\"service_data\"><a href=\"https://comic.naver.com/\" name=\"comic\" data-clk=\"map.webtoon\">웹툰</a></dd>\\n      <dd class=\"service_data\"><a href=\"https://in.naver.com/\" name=\"influencer\" data-clk=\"map.influencer\">인플루언서 검색</a></dd>\\n  </dl>\\n  <dl class=\"list_service\">\\n    <dt class=\"service_title\">ㅈ-ㅊ</dt>\\n      <dd class=\"service_data\"><a href=\"https://contact.naver.com/\" name=\"contact\" data-clk=\"map.contact\">주소록</a></dd>\\n      <dd class=\"service_data\"><a href=\"https://finance.naver.com/\" name=\"stock\" data-clk=\"map.stock\">증권</a></dd>\\n      <dd class=\"service_data\"><a href=\"https://map.naver.com/\" name=\"map\" data-clk=\"map.map\">지도</a></dd>\\n      <dd class=\"service_data\"><a href=\"https://terms.naver.com/\" name=\"terms\" data-clk=\"map.terms\">지식백과</a></dd>\\n      <dd class=\"service_data\"><a href=\"https://book.naver.com/\" name=\"book\" data-clk=\"map.book\">책</a></dd>\\n      <dd class=\"service_data\"><a href=\"https://me.naver.com/tab/news.nhn\" name=\"myfeed\" data-clk=\"map.mysub\">추천·구독</a></dd>\\n  </dl>\\n  <dl class=\"list_service\">\\n    <dt class=\"service_title\">ㅋ-ㅎ</dt>\\n      <dd class=\"service_data\"><a href=\"https://calendar.naver.com/\" name=\"calendar\" data-clk=\"map.calendar\">캘린더</a></dd>\\n      <dd class=\"service_data\"><a href=\"https://clovadubbing.naver.com/\" name=\"dubbing\" data-clk=\"map.clovadub\">클로바더빙</a></dd>\\n      <dd class=\"service_data\"><a href=\"https://papago.naver.com/\" name=\"papago\" data-clk=\"map.papago\">파파고</a></dd>\\n      <dd class=\"service_data\"><a href=\"https://post.naver.com/\" name=\"post\" data-clk=\"map.post\">포스트</a></dd>\\n      <dd class=\"service_data\"><a href=\"https://academic.naver.com/\" name=\"academic\" data-clk=\"map.academic\">학술정보</a></dd>\\n      <dd class=\"service_data\"><a href=\"https://flight.naver.com/\" name=\"airticket\" data-clk=\"map.airticket\">항공권</a></dd>\\n      <dd class=\"service_data\"><a href=\"https://hotel.naver.com/hotels/main\" name=\"hotel\" data-clk=\"map.hotel\">호텔</a></dd>\\n  </dl>\\n  <dl class=\"list_service\">\\n    <dt class=\"service_title\">A-Z</dt>\\n      <dd class=\"service_data\"><a href=\"https://keep.naver.com\" name=\"keep\" data-clk=\"map.keep\">Keep</a></dd>\\n      <dd class=\"service_data\"><a href=\"https://www.modoo.at\" name=\"modoo\" data-clk=\"map.modoo\">modoo!</a></dd>\\n      <dd class=\"service_data\"><a href=\"https://mybox.naver.com/\" name=\"ndrive\" data-clk=\"map.ndrive\">MYBOX</a></dd>\\n      <dd class=\"service_data\"><a href=\"https://entertain.naver.com/home\" name=\"entertain\" data-clk=\"map.entertain\">TV연예</a></dd>\\n      <dd class=\"service_data\"><a href=\"https://www.vlive.tv/\" name=\"v\" data-clk=\"map.v\">V LIVE</a></dd>\\n      <dd class=\"service_data\"><a href=\"https://vibe.naver.com/\" name=\"vibe\" data-clk=\"map.vibe\">VIBE</a></dd>\\n  </dl>\\n  <dl class=\"list_service\">\\n    <dt class=\"service_title\">사전</dt>\\n      <dd class=\"service_data\"><a href=\"https://dict.naver.com/\" name=\"dic\" data-clk=\"map.dic\">사전</a></dd>\\n      <dd class=\"service_data\"><a href=\"https://ko.dict.naver.com/\" name=\"krdic\" data-clk=\"map.krdic\">국어사전</a></dd>\\n      <dd class=\"service_data\"><a href=\"https://endic.naver.com/\" name=\"endic\" data-clk=\"map.endic\">영어/영영사전</a></dd>\\n      <dd class=\"service_data\"><a href=\"https://ja.dict.naver.com/\" name=\"jpdic\" data-clk=\"map.jpdic\">일본어사전</a></dd>\\n      <dd class=\"service_data\"><a href=\"https://zh.dict.naver.com/\" name=\"cndic\" data-clk=\"map.cndic\">중국어사전</a></dd>\\n      <dd class=\"service_data\"><a href=\"https://hanja.dict.naver.com/\" name=\"hanja\" data-clk=\"map.hanja\">한자사전</a></dd>\\n      <dd class=\"service_data\"><a href=\"https://dict.naver.com/\" class=\"link_dic\">사전 더보기</a></dd>\\n  </dl>\\n</div>\\n<div class=\"group_service NM_FAVORITE_EDIT_LY\" style=\"display: none;\">  <dl class=\"list_service\">\\n    <dt class=\"service_title\">ㄱ-ㅁ</dt>\\n      <dd class=\"service_data\">\\n        <label><input type=\"checkbox\" name=\"weather\" value=\"weather\"><i class=\"ico_chk\"></i>날씨</label>\\n      </dd>\\n      <dd class=\"service_data\">\\n        <label><input type=\"checkbox\" name=\"mycar\" value=\"mycar\"><i class=\"ico_chk\"></i>네이버 MY CAR</label>\\n      </dd>\\n      <dd class=\"service_data\">\\n        <label><input type=\"checkbox\" name=\"ngame\" value=\"ngame\"><i class=\"ico_chk\"></i>네이버 게임</label>\\n      </dd>\\n      <dd class=\"service_data\">\\n        <label><input type=\"checkbox\" name=\"booking\" value=\"booking\"><i class=\"ico_chk\"></i>네이버 예약</label>\\n      </dd>\\n      <dd class=\"service_data\">\\n        <label><input type=\"checkbox\" name=\"premium\" value=\"premium\"><i class=\"ico_chk\"></i>프리미엄콘텐츠</label>\\n      </dd>\\n      <dd class=\"service_data\">\\n        <label><input type=\"checkbox\" name=\"plus\" value=\"plus\"><i class=\"ico_chk\"></i>네이버플러스</label>\\n      </dd>\\n      <dd class=\"service_data\">\\n        <label><input type=\"checkbox\" name=\"news\" value=\"news\"><i class=\"ico_chk\"></i>뉴스</label>\\n      </dd>\\n      <dd class=\"service_data\">\\n        <label><input type=\"checkbox\" name=\"datalab\" value=\"datalab\"><i class=\"ico_chk\"></i>데이터랩</label>\\n      </dd>\\n      <dd class=\"service_data\">\\n        <label><input type=\"checkbox\" name=\"memo\" value=\"memo\"><i class=\"ico_chk\"></i>메모</label>\\n      </dd>\\n  </dl>\\n  <dl class=\"list_service\">\\n    <dt class=\"service_title\">ㅂ-ㅅ</dt>\\n      <dd class=\"service_data\">\\n        <label><input type=\"checkbox\" name=\"band\" value=\"band\"><i class=\"ico_chk\"></i>밴드</label>\\n      </dd>\\n      <dd class=\"service_data\">\\n        <label><input type=\"checkbox\" name=\"land\" value=\"land\"><i class=\"ico_chk\"></i>부동산</label>\\n      </dd>\\n      <dd class=\"service_data\">\\n        <label><input type=\"checkbox\" name=\"sports\" value=\"sports\"><i class=\"ico_chk\"></i>스포츠</label>\\n      </dd>\\n      <dd class=\"service_data\">\\n        <label><input type=\"checkbox\" name=\"nstore\" value=\"nstore\"><i class=\"ico_chk\"></i>시리즈</label>\\n      </dd>\\n      <dd class=\"service_data\">\\n        <label><input type=\"checkbox\" name=\"nstoreon\" value=\"nstoreon\"><i class=\"ico_chk\"></i>시리즈온</label>\\n      </dd>\\n  </dl>\\n  <dl class=\"list_service\">\\n    <dt class=\"service_title\">ㅇ</dt>\\n      <dd class=\"service_data\">\\n        <label><input type=\"checkbox\" name=\"expert\" value=\"expert\"><i class=\"ico_chk\"></i>엑스퍼트</label>\\n      </dd>\\n      <dd class=\"service_data\">\\n        <label><input type=\"checkbox\" name=\"movie\" value=\"movie\"><i class=\"ico_chk\"></i>영화</label>\\n      </dd>\\n      <dd class=\"service_data\">\\n        <label><input type=\"checkbox\" name=\"audioclip\" value=\"audioclip\"><i class=\"ico_chk\"></i>오디오클립</label>\\n      </dd>\\n      <dd class=\"service_data\">\\n        <label><input type=\"checkbox\" name=\"office\" value=\"office\"><i class=\"ico_chk\"></i>오피스</label>\\n      </dd>\\n      <dd class=\"service_data\">\\n        <label><input type=\"checkbox\" name=\"whale\" value=\"whale\"><i class=\"ico_chk\"></i>웨일</label>\\n      </dd>\\n      <dd class=\"service_data\">\\n        <label><input type=\"checkbox\" name=\"webnovel\" value=\"webnovel\"><i class=\"ico_chk\"></i>웹소설</label>\\n      </dd>\\n      <dd class=\"service_data\">\\n        <label><input type=\"checkbox\" name=\"comic\" value=\"comic\"><i class=\"ico_chk\"></i>웹툰</label>\\n      </dd>\\n      <dd class=\"service_data\">\\n        <label><input type=\"checkbox\" name=\"influencer\" value=\"influencer\"><i class=\"ico_chk\"></i>인플루언서 검색</label>\\n      </dd>\\n  </dl>\\n  <dl class=\"list_service\">\\n    <dt class=\"service_title\">ㅈ-ㅊ</dt>\\n      <dd class=\"service_data\">\\n        <label><input type=\"checkbox\" name=\"contact\" value=\"contact\"><i class=\"ico_chk\"></i>주소록</label>\\n      </dd>\\n      <dd class=\"service_data\">\\n        <label><input type=\"checkbox\" name=\"stock\" value=\"stock\"><i class=\"ico_chk\"></i>증권</label>\\n      </dd>\\n      <dd class=\"service_data\">\\n        <label><input type=\"checkbox\" name=\"map\" value=\"map\"><i class=\"ico_chk\"></i>지도</label>\\n      </dd>\\n      <dd class=\"service_data\">\\n        <label><input type=\"checkbox\" name=\"terms\" value=\"terms\"><i class=\"ico_chk\"></i>지식백과</label>\\n      </dd>\\n      <dd class=\"service_data\">\\n        <label><input type=\"checkbox\" name=\"book\" value=\"book\"><i class=\"ico_chk\"></i>책</label>\\n      </dd>\\n      <dd class=\"service_data\">\\n        <label><input type=\"checkbox\" name=\"myfeed\" value=\"myfeed\"><i class=\"ico_chk\"></i>추천·구독</label>\\n      </dd>\\n  </dl>\\n  <dl class=\"list_service\">\\n    <dt class=\"service_title\">ㅋ-ㅎ</dt>\\n      <dd class=\"service_data\">\\n        <label><input type=\"checkbox\" name=\"calendar\" value=\"calendar\"><i class=\"ico_chk\"></i>캘린더</label>\\n      </dd>\\n      <dd class=\"service_data\">\\n        <label><input type=\"checkbox\" name=\"dubbing\" value=\"dubbing\"><i class=\"ico_chk\"></i>클로바더빙</label>\\n      </dd>\\n      <dd class=\"service_data\">\\n        <label><input type=\"checkbox\" name=\"papago\" value=\"papago\"><i class=\"ico_chk\"></i>파파고</label>\\n      </dd>\\n      <dd class=\"service_data\">\\n        <label><input type=\"checkbox\" name=\"post\" value=\"post\"><i class=\"ico_chk\"></i>포스트</label>\\n      </dd>\\n      <dd class=\"service_data\">\\n        <label><input type=\"checkbox\" name=\"academic\" value=\"academic\"><i class=\"ico_chk\"></i>학술정보</label>\\n      </dd>\\n      <dd class=\"service_data\">\\n        <label><input type=\"checkbox\" name=\"airticket\" value=\"airticket\"><i class=\"ico_chk\"></i>항공권</label>\\n      </dd>\\n      <dd class=\"service_data\">\\n        <label><input type=\"checkbox\" name=\"hotel\" value=\"hotel\"><i class=\"ico_chk\"></i>호텔</label>\\n      </dd>\\n  </dl>\\n  <dl class=\"list_service\">\\n    <dt class=\"service_title\">A-Z</dt>\\n      <dd class=\"service_data\">\\n        <label><input type=\"checkbox\" name=\"keep\" value=\"keep\"><i class=\"ico_chk\"></i>Keep</label>\\n      </dd>\\n      <dd class=\"service_data\">\\n        <label><input type=\"checkbox\" name=\"modoo\" value=\"modoo\"><i class=\"ico_chk\"></i>modoo!</label>\\n      </dd>\\n      <dd class=\"service_data\">\\n        <label><input type=\"checkbox\" name=\"ndrive\" value=\"ndrive\"><i class=\"ico_chk\"></i>MYBOX</label>\\n      </dd>\\n      <dd class=\"service_data\">\\n        <label><input type=\"checkbox\" name=\"entertain\" value=\"entertain\"><i class=\"ico_chk\"></i>TV연예</label>\\n      </dd>\\n      <dd class=\"service_data\">\\n        <label><input type=\"checkbox\" name=\"v\" value=\"v\"><i class=\"ico_chk\"></i>V LIVE</label>\\n      </dd>\\n      <dd class=\"service_data\">\\n        <label><input type=\"checkbox\" name=\"vibe\" value=\"vibe\"><i class=\"ico_chk\"></i>VIBE</label>\\n      </dd>\\n  </dl>\\n  <dl class=\"list_service\">\\n    <dt class=\"service_title\">사전</dt>\\n      <dd class=\"service_data\">\\n        <label><input type=\"checkbox\" name=\"dic\" value=\"dic\"><i class=\"ico_chk\"></i>사전</label>\\n      </dd>\\n      <dd class=\"service_data\">\\n        <label><input type=\"checkbox\" name=\"krdic\" value=\"krdic\"><i class=\"ico_chk\"></i>국어사전</label>\\n      </dd>\\n      <dd class=\"service_data\">\\n        <label><input type=\"checkbox\" name=\"endic\" value=\"endic\"><i class=\"ico_chk\"></i>영어/영영사전</label>\\n      </dd>\\n      <dd class=\"service_data\">\\n        <label><input type=\"checkbox\" name=\"jpdic\" value=\"jpdic\"><i class=\"ico_chk\"></i>일본어사전</label>\\n      </dd>\\n      <dd class=\"service_data\">\\n        <label><input type=\"checkbox\" name=\"cndic\" value=\"cndic\"><i class=\"ico_chk\"></i>중국어사전</label>\\n      </dd>\\n      <dd class=\"service_data\">\\n        <label><input type=\"checkbox\" name=\"hanja\" value=\"hanja\"><i class=\"ico_chk\"></i>한자사전</label>\\n      </dd>\\n  </dl>\\n</div>\\n</div>\\n</div>\\n</div>\\n <div id=\"container\" role=\"main\"> <div style=\"position:relative;width:1130px;margin:0 auto;z-index:11\"> <div id=\"da_top\"></div> <div id=\"da_expwide\"></div> </div> <div id=\"NM_INT_LEFT\" class=\"column_left\"> <div id=\"veta_top\"> <div id=\"veta_top_inner\" style=\"height:135px\"><div style=\"width: 750px; height: 135px; margin: 0px auto; position: relative;\"><iframe id=\"veta_top_inner_tgtLREC\" frameborder=\"no\" scrolling=\"no\" tabindex=\"-1\" name=\"\" style=\"width: 750px; height: 135px; visibility: inherit; border: 0px; vertical-align: bottom; position: absolute;\"></iframe></div></div> <span class=\"veta_bd_t\"></span> <span class=\"veta_bd_b\"></span> <span class=\"veta_bd_l\"></span> <span class=\"veta_bd_r\"></span> </div> <div id=\"newsstand\" class=\"sc_newscast\"> <h2 class=\"blind\">뉴스스탠드</h2> <div id=\"NM_NEWSSTAND_HEADER\" class=\"group_issue\" data-clk-prefix=\"ncy\"> <div class=\"issue_area\"> <a class=\"link_media\" href=\"https://news.naver.com/main/list.naver?mode=LPOD&amp;mid=sec&amp;sid1=001&amp;sid2=140&amp;oid=001&amp;isYeonhapFlash=Y\" data-clk=\"newsflash\">연합뉴스</a> <div id=\"NM_ONELINE_ROLLING\" class=\"list_issue\" data-nm-ui=\"rolling\"> \\n\\n\\n\\n\\n\\n\\n\\n\\n <div class=\"eg-flick-viewport\" style=\"position: relative; z-index: 0; overflow: hidden; min-width: 100%; height: 100%; touch-action: pan-x; user-select: none; -webkit-user-drag: none; width: 310px;\"><div class=\"eg-flick-camera\" style=\"width: 100%; height: 100%; will-change: transform; transform: translate3d(0px, 0px, 0px);\"><div class=\"eg-flick-panel\" style=\"position: absolute; top: 0px;\"><a href=\"https://news.naver.com/main/list.naver?mode=LPOD&amp;mid=sec&amp;sid1=001&amp;sid2=140&amp;oid=001&amp;isYeonhapFlash=Y&amp;aid=0013010284\" class=\"issue\" data-clk=\"quickarticle\">1천55명 3·1절 추가 가석방…최지성·장충기 막판 제외</a></div></div></div></div> </div> <div class=\"direct_area\"> <a href=\"http://news.naver.com/\" class=\"link_news\" data-clk=\"newshome\">뉴스홈</a>\\n<a href=\"http://entertain.naver.com/home\" class=\"link_direct\" data-clk=\"entertainment\">연예</a>\\n<a href=\"http://sports.news.naver.com/\" class=\"link_direct\" data-clk=\"sports\">스포츠</a>\\n<a href=\"http://news.naver.com/election/president2022\" class=\"link_direct\" data-clk=\"elc\">대선</a>\\n<a href=\"http://m.sports.naver.com/beijing2022/index\" class=\"link_direct\" data-clk=\"beijing\">올림픽</a> </div> </div>        <div id=\"NM_NEWSSTAND_TITLE\" class=\"group_title\" data-clk-prefix=\"nsd\"> <a href=\"http://newsstand.naver.com/\" class=\"link_newsstand\" data-clk=\"title\" target=\"_blank\">뉴스스탠드</a> <div id=\"NM_NEWSSTAND_data_buttons\" class=\"sort_area\">  <a href=\"#\" role=\"button\" data-type=\"my\" data-clk=\"my\" class=\"btn_sort\">구독한 언론사</a> <a href=\"#\" role=\"button\" data-type=\"all\" data-clk=\"all\" class=\"btn_sort sort_on\">전체언론사</a>  </div> <div id=\"NM_NEWSSTAND_view_buttons\" class=\"set_area\">  <a href=\"#\" role=\"button\" data-type=\"list\" data-clk=\"articleview\" class=\"btn_set\"> <i class=\"ico_list\"><span class=\"blind\">리스트형</span></i></a> <a href=\"#\" role=\"button\" data-type=\"thumb\" data-clk=\"pressview\" class=\"btn_set set_on\"> <i class=\"ico_tile\"><span class=\"blind\">썸네일형</span></i></a>  <a href=\"http://newsstand.naver.com/config.html\" class=\"btn_set\" data-clk=\"set\" target=\"_blank\"> <i class=\"ico_set\"><span class=\"blind\">설정</span></i></a> </div> </div> <div id=\"NM_NEWSSTAND_VIEW_CONTAINER\" style=\"position:relative\"> <div id=\"NM_NEWSSTAND_DEFAULT_LIST\" class=\"group_news\" style=\"display:none\" data-clk-prefix=\"nsd_all\"> <a href=\"#\" role=\"button\" class=\"pm_btn_prev_l _NM_NEWSSTAND_LIST_prev_btn\" data-clk-custom=\"prev\"><i class=\"ico_btn\"><span class=\"blind\">이전</span></i></a> <a href=\"#\" role=\"button\" class=\"pm_btn_next_l _NM_NEWSSTAND_LIST_next_btn\" data-clk-custom=\"next\"><i class=\"ico_btn\"><span class=\"blind\">다음</span></i></a> <div class=\"list_view\"> <div class=\"option_area\"> <div class=\"list_option_wrap\"> <ul class=\"list_option\"> <li class=\"option_item\" data-cateid=\"ct2\"><a href=\"#\" class=\"option\" data-clk=\"daei\">종합/경제</a></li> <li class=\"option_item\" data-cateid=\"ct3\"><a href=\"#\" class=\"option\" data-clk=\"dtvcom\">방송/통신</a></li> <li class=\"option_item\" data-cateid=\"ct4\"><a href=\"#\" class=\"option\" data-clk=\"dit\">IT</a></li> <li class=\"option_item\" data-cateid=\"ct5\"><a href=\"#\" class=\"option\" data-clk=\"deng\">영자지</a></li> <li class=\"option_item\" data-cateid=\"ct6\"><a href=\"#\" class=\"option\" data-clk=\"dsporent\">스포츠/연예</a></li> <li class=\"option_item\" data-cateid=\"ct7\"><a href=\"#\" class=\"option\" data-clk=\"dmagtec\">매거진/전문지</a></li> <li class=\"option_item\" data-cateid=\"ct8\"><a href=\"#\" class=\"option\" data-clk=\"dloc\">지역</a></li> </ul> </div> </div> <div class=\"_NM_NEWSSTAND_ARTICLE_CONTAINER\" data-clk-sub=\"*a\"></div> </div> <div class=\"ly_popup NM_NEWSSTAND_POPUP NM_NEWSSTAND_invalid\" style=\"display:none\" data-clk-sub=\"*a\"> <a href=\"#\" role=\"button\" class=\"btn_close NM_NEWSSTAND_POPUP_CLOSE\"><i class=\"ico_close\"></i><span class=\"blind\">닫기</span></a> <p class=\"popup_msg\">해당 언론사 사정으로 접근이 제한됩니다.</p> <div class=\"popup_btn\"> <a href=\"#\" role=\"button\" class=\"btn_confirm NM_NEWSSTAND_POPUP_CLOSE\">확인</a> </div> </div> <div class=\"ly_popup NM_NEWSSTAND_POPUP NM_NEWSSTAND_undescribe_confirm\" style=\"display:none\" data-clk-sub=\"*a\"> <a href=\"#\" role=\"button\" class=\"btn_close NM_NEWSSTAND_POPUP_CLOSE\" data-clk=\"usclose\"><i class=\"ico_close\"></i><span class=\"blind\">닫기</span></a> <p class=\"popup_msg\"><strong class=\"NM_NEWSSTAND_POPUP_PNAME\"></strong>을(를)<br>구독해지 하시겠습니까?</p> <div class=\"popup_btn\"> <a href=\"#\" role=\"button\" class=\"btn_confirm NM_NEWSSTAND_POPUP_CONFIRM\" data-clk=\"usdone\">확인</a> <a href=\"#\" role=\"button\" class=\"btn_confirm NM_NEWSSTAND_POPUP_CLOSE\" data-clk=\"uscancel\">취소</a> </div> </div> <div class=\"ly_toast NM_NEWSSTAND_TOAST\" style=\"display:none\"> <p class=\"toast_msg\">구독한 언론사에 추가되었습니다.</p> </div> </div>   <div id=\"NM_NEWSSTAND_DEFAULT_THUMB\" class=\"group_news\" style=\"\" data-clk-prefix=\"nsd_all\" data-nm-ui=\"page_simple\"> <a href=\"#\" role=\"button\" class=\"pm_btn_prev_l _NM_UI_PAGE_PREV\" data-clk-custom=\"prev\" style=\"\"><i class=\"ico_btn\"><span class=\"blind\">이전</span></i></a> <a href=\"#\" role=\"button\" class=\"pm_btn_next_l _NM_UI_PAGE_NEXT\" data-clk-custom=\"next\" style=\"display: none;\"><i class=\"ico_btn\"><span class=\"blind\">다음</span></i></a> <div class=\"_NM_UI_PAGE_CONTAINER\" style=\"height:100%;overflow:hidden\" data-clk-sub=\"*p\">   <div style=\"width: 750px; float: left; display: none;\">\\n<div class=\"tile_view\">\\n<div class=\"frame_area\">\\n<i class=\"line to_right1\"></i>\\n<i class=\"line to_right2\"></i>\\n<i class=\"line to_right3\"></i>\\n<i class=\"line to_bottom1\"></i>\\n<i class=\"line to_bottom2\"></i>\\n<i class=\"line to_bottom3\"></i>\\n<i class=\"line to_bottom4\"></i>\\n<i class=\"line to_bottom5\"></i>\\n</div>\\n<div class=\"thumb_area\">\\n<div class=\"thumb_box _NM_NEWSSTAND_THUMB _NM_NEWSSTAND_THUMB_press_valid\" data-pid=\"214\">\\n<a href=\"#\" class=\"thumb\">\\n<img src=\"https://s.pstatic.net/static/newsstand/2020/logo/light/0604/214.png\" height=\"20\" alt=\"MBC\" class=\"news_logo\">\\n<span class=\"thumb_dim\"></span></a>\\n<div class=\"popup_wrap\">\\n<a href=\"#\" role=\"button\" class=\"btn_popup _NM_NEWSSTAND_THUMB_subscribe_press\" data-pid=\"214\" data-clk=\"sub\">구독</a>\\n<a href=\"#\" role=\"button\" class=\"btn_popup _NM_NEWSSTAND_THUMB_unsubscribe_press\" data-pid=\"214\" data-clk=\"unsub\" style=\"display: none;\">해지</a>\\n<a href=\"http://newsstand.naver.com/?list=&amp;pcode=214\" target=\"_blank\" class=\"btn_popup\" data-clk=\"logo\" data-pid=\"214\">기사보기</a>\\n</div>\\n</div>\\n<div class=\"thumb_box _NM_NEWSSTAND_THUMB _NM_NEWSSTAND_THUMB_press_valid\" data-pid=\"056\">\\n<a href=\"#\" class=\"thumb\">\\n<img src=\"https://s.pstatic.net/static/newsstand/2020/logo/light/0604/056.png\" height=\"20\" alt=\"KBS\" class=\"news_logo\">\\n<span class=\"thumb_dim\"></span></a>\\n<div class=\"popup_wrap\">\\n<a href=\"#\" role=\"button\" class=\"btn_popup _NM_NEWSSTAND_THUMB_subscribe_press\" data-pid=\"056\" data-clk=\"sub\">구독</a>\\n<a href=\"#\" role=\"button\" class=\"btn_popup _NM_NEWSSTAND_THUMB_unsubscribe_press\" data-pid=\"056\" data-clk=\"unsub\" style=\"display: none;\">해지</a>\\n<a href=\"http://newsstand.naver.com/?list=&amp;pcode=056\" target=\"_blank\" class=\"btn_popup\" data-clk=\"logo\" data-pid=\"056\">기사보기</a>\\n</div>\\n</div>\\n<div class=\"thumb_box _NM_NEWSSTAND_THUMB _NM_NEWSSTAND_THUMB_press_valid\" data-pid=\"020\">\\n<a href=\"#\" class=\"thumb\">\\n<img src=\"https://s.pstatic.net/static/newsstand/2020/logo/light/0604/020.png\" height=\"20\" alt=\"동아일보\" class=\"news_logo\">\\n<span class=\"thumb_dim\"></span></a>\\n<div class=\"popup_wrap\">\\n<a href=\"#\" role=\"button\" class=\"btn_popup _NM_NEWSSTAND_THUMB_subscribe_press\" data-pid=\"020\" data-clk=\"sub\">구독</a>\\n<a href=\"#\" role=\"button\" class=\"btn_popup _NM_NEWSSTAND_THUMB_unsubscribe_press\" data-pid=\"020\" data-clk=\"unsub\" style=\"display: none;\">해지</a>\\n<a href=\"http://newsstand.naver.com/?list=&amp;pcode=020\" target=\"_blank\" class=\"btn_popup\" data-clk=\"logo\" data-pid=\"020\">기사보기</a>\\n</div>\\n</div>\\n<div class=\"thumb_box _NM_NEWSSTAND_THUMB _NM_NEWSSTAND_THUMB_press_valid\" data-pid=\"003\">\\n<a href=\"#\" class=\"thumb\">\\n<img src=\"https://s.pstatic.net/static/newsstand/2020/logo/light/0604/003.png\" height=\"20\" alt=\"뉴시스\" class=\"news_logo\">\\n<span class=\"thumb_dim\"></span></a>\\n<div class=\"popup_wrap\">\\n<a href=\"#\" role=\"button\" class=\"btn_popup _NM_NEWSSTAND_THUMB_subscribe_press\" data-pid=\"003\" data-clk=\"sub\">구독</a>\\n<a href=\"#\" role=\"button\" class=\"btn_popup _NM_NEWSSTAND_THUMB_unsubscribe_press\" data-pid=\"003\" data-clk=\"unsub\" style=\"display: none;\">해지</a>\\n<a href=\"http://newsstand.naver.com/?list=&amp;pcode=003\" target=\"_blank\" class=\"btn_popup\" data-clk=\"logo\" data-pid=\"003\">기사보기</a>\\n</div>\\n</div>\\n<div class=\"thumb_box _NM_NEWSSTAND_THUMB _NM_NEWSSTAND_THUMB_press_valid\" data-pid=\"314\">\\n<a href=\"#\" class=\"thumb\">\\n<img src=\"https://s.pstatic.net/static/newsstand/2020/logo/light/0604/314.png\" height=\"20\" alt=\"스포츠동아\" class=\"news_logo\">\\n<span class=\"thumb_dim\"></span></a>\\n<div class=\"popup_wrap\">\\n<a href=\"#\" role=\"button\" class=\"btn_popup _NM_NEWSSTAND_THUMB_subscribe_press\" data-pid=\"314\" data-clk=\"sub\">구독</a>\\n<a href=\"#\" role=\"button\" class=\"btn_popup _NM_NEWSSTAND_THUMB_unsubscribe_press\" data-pid=\"314\" data-clk=\"unsub\" style=\"display: none;\">해지</a>\\n<a href=\"http://newsstand.naver.com/?list=&amp;pcode=314\" target=\"_blank\" class=\"btn_popup\" data-clk=\"logo\" data-pid=\"314\">기사보기</a>\\n</div>\\n</div>\\n<div class=\"thumb_box _NM_NEWSSTAND_THUMB _NM_NEWSSTAND_THUMB_press_valid\" data-pid=\"002\">\\n<a href=\"#\" class=\"thumb\">\\n<img src=\"https://s.pstatic.net/static/newsstand/2020/logo/light/0604/002.png\" height=\"20\" alt=\"프레시안\" class=\"news_logo\">\\n<span class=\"thumb_dim\"></span></a>\\n<div class=\"popup_wrap\">\\n<a href=\"#\" role=\"button\" class=\"btn_popup _NM_NEWSSTAND_THUMB_subscribe_press\" data-pid=\"002\" data-clk=\"sub\">구독</a>\\n<a href=\"#\" role=\"button\" class=\"btn_popup _NM_NEWSSTAND_THUMB_unsubscribe_press\" data-pid=\"002\" data-clk=\"unsub\" style=\"display: none;\">해지</a>\\n<a href=\"http://newsstand.naver.com/?list=&amp;pcode=002\" target=\"_blank\" class=\"btn_popup\" data-clk=\"logo\" data-pid=\"002\">기사보기</a>\\n</div>\\n</div>\\n<div class=\"thumb_box _NM_NEWSSTAND_THUMB _NM_NEWSSTAND_THUMB_press_valid\" data-pid=\"021\">\\n<a href=\"#\" class=\"thumb\">\\n<img src=\"https://s.pstatic.net/static/newsstand/2020/logo/light/0604/021.png\" height=\"20\" alt=\"문화일보\" class=\"news_logo\">\\n<span class=\"thumb_dim\"></span></a>\\n<div class=\"popup_wrap\">\\n<a href=\"#\" role=\"button\" class=\"btn_popup _NM_NEWSSTAND_THUMB_subscribe_press\" data-pid=\"021\" data-clk=\"sub\">구독</a>\\n<a href=\"#\" role=\"button\" class=\"btn_popup _NM_NEWSSTAND_THUMB_unsubscribe_press\" data-pid=\"021\" data-clk=\"unsub\" style=\"display: none;\">해지</a>\\n<a href=\"http://newsstand.naver.com/?list=&amp;pcode=021\" target=\"_blank\" class=\"btn_popup\" data-clk=\"logo\" data-pid=\"021\">기사보기</a>\\n</div>\\n</div>\\n<div class=\"thumb_box _NM_NEWSSTAND_THUMB _NM_NEWSSTAND_THUMB_press_valid\" data-pid=\"368\">\\n<a href=\"#\" class=\"thumb\">\\n<img src=\"https://s.pstatic.net/static/newsstand/2020/logo/light/0604/368.png\" height=\"20\" alt=\"데일리안\" class=\"news_logo\">\\n<span class=\"thumb_dim\"></span></a>\\n<div class=\"popup_wrap\">\\n<a href=\"#\" role=\"button\" class=\"btn_popup _NM_NEWSSTAND_THUMB_subscribe_press\" data-pid=\"368\" data-clk=\"sub\">구독</a>\\n<a href=\"#\" role=\"button\" class=\"btn_popup _NM_NEWSSTAND_THUMB_unsubscribe_press\" data-pid=\"368\" data-clk=\"unsub\" style=\"display: none;\">해지</a>\\n<a href=\"http://newsstand.naver.com/?list=&amp;pcode=368\" target=\"_blank\" class=\"btn_popup\" data-clk=\"logo\" data-pid=\"368\">기사보기</a>\\n</div>\\n</div>\\n<div class=\"thumb_box _NM_NEWSSTAND_THUMB _NM_NEWSSTAND_THUMB_press_valid\" data-pid=\"326\">\\n<a href=\"#\" class=\"thumb\">\\n<img src=\"https://s.pstatic.net/static/newsstand/2020/logo/light/0604/326.png\" height=\"20\" alt=\"KBS World\" class=\"news_logo\">\\n<span class=\"thumb_dim\"></span></a>\\n<div class=\"popup_wrap\">\\n<a href=\"#\" role=\"button\" class=\"btn_popup _NM_NEWSSTAND_THUMB_subscribe_press\" data-pid=\"326\" data-clk=\"sub\">구독</a>\\n<a href=\"#\" role=\"button\" class=\"btn_popup _NM_NEWSSTAND_THUMB_unsubscribe_press\" data-pid=\"326\" data-clk=\"unsub\" style=\"display: none;\">해지</a>\\n<a href=\"http://newsstand.naver.com/?list=&amp;pcode=326\" target=\"_blank\" class=\"btn_popup\" data-clk=\"logo\" data-pid=\"326\">기사보기</a>\\n</div>\\n</div>\\n<div class=\"thumb_box _NM_NEWSSTAND_THUMB _NM_NEWSSTAND_THUMB_press_invalid\" data-pid=\"376\">\\n<a href=\"#\" class=\"thumb\" aria-disabled=\"true\">\\n<img src=\"https://s.pstatic.net/static/newsstand/2020/logo/light/0604/376.png\" height=\"20\" alt=\"지지통신\" class=\"news_logo\">\\n<span class=\"thumb_dim\"></span>\\n</a>\\n</div>\\n<div class=\"thumb_box _NM_NEWSSTAND_THUMB _NM_NEWSSTAND_THUMB_press_valid\" data-pid=\"029\">\\n<a href=\"#\" class=\"thumb\">\\n<img src=\"https://s.pstatic.net/static/newsstand/2020/logo/light/0604/029.png\" height=\"20\" alt=\"디지털타임스\" class=\"news_logo\">\\n<span class=\"thumb_dim\"></span></a>\\n<div class=\"popup_wrap\">\\n<a href=\"#\" role=\"button\" class=\"btn_popup _NM_NEWSSTAND_THUMB_subscribe_press\" data-pid=\"029\" data-clk=\"sub\">구독</a>\\n<a href=\"#\" role=\"button\" class=\"btn_popup _NM_NEWSSTAND_THUMB_unsubscribe_press\" data-pid=\"029\" data-clk=\"unsub\" style=\"display: none;\">해지</a>\\n<a href=\"http://newsstand.naver.com/?list=&amp;pcode=029\" target=\"_blank\" class=\"btn_popup\" data-clk=\"logo\" data-pid=\"029\">기사보기</a>\\n</div>\\n</div>\\n<div class=\"thumb_box _NM_NEWSSTAND_THUMB _NM_NEWSSTAND_THUMB_press_valid\" data-pid=\"930\">\\n<a href=\"#\" class=\"thumb\">\\n<img src=\"https://s.pstatic.net/static/newsstand/2020/logo/light/0604/930.png\" height=\"20\" alt=\"뉴스타파\" class=\"news_logo\">\\n<span class=\"thumb_dim\"></span></a>\\n<div class=\"popup_wrap\">\\n<a href=\"#\" role=\"button\" class=\"btn_popup _NM_NEWSSTAND_THUMB_subscribe_press\" data-pid=\"930\" data-clk=\"sub\">구독</a>\\n<a href=\"#\" role=\"button\" class=\"btn_popup _NM_NEWSSTAND_THUMB_unsubscribe_press\" data-pid=\"930\" data-clk=\"unsub\" style=\"display: none;\">해지</a>\\n<a href=\"http://newsstand.naver.com/?list=&amp;pcode=930\" target=\"_blank\" class=\"btn_popup\" data-clk=\"logo\" data-pid=\"930\">기사보기</a>\\n</div>\\n</div>\\n<div class=\"thumb_box _NM_NEWSSTAND_THUMB _NM_NEWSSTAND_THUMB_press_valid\" data-pid=\"422\">\\n<a href=\"#\" class=\"thumb\">\\n<img src=\"https://s.pstatic.net/static/newsstand/2020/logo/light/0604/422.png\" height=\"20\" alt=\"연합뉴스TV\" class=\"news_logo\">\\n<span class=\"thumb_dim\"></span></a>\\n<div class=\"popup_wrap\">\\n<a href=\"#\" role=\"button\" class=\"btn_popup _NM_NEWSSTAND_THUMB_subscribe_press\" data-pid=\"422\" data-clk=\"sub\">구독</a>\\n<a href=\"#\" role=\"button\" class=\"btn_popup _NM_NEWSSTAND_THUMB_unsubscribe_press\" data-pid=\"422\" data-clk=\"unsub\" style=\"display: none;\">해지</a>\\n<a href=\"http://newsstand.naver.com/?list=&amp;pcode=422\" target=\"_blank\" class=\"btn_popup\" data-clk=\"logo\" data-pid=\"422\">기사보기</a>\\n</div>\\n</div>\\n<div class=\"thumb_box _NM_NEWSSTAND_THUMB _NM_NEWSSTAND_THUMB_press_valid\" data-pid=\"018\">\\n<a href=\"#\" class=\"thumb\">\\n<img src=\"https://s.pstatic.net/static/newsstand/2020/logo/light/0604/018.png\" height=\"20\" alt=\"이데일리\" class=\"news_logo\">\\n<span class=\"thumb_dim\"></span></a>\\n<div class=\"popup_wrap\">\\n<a href=\"#\" role=\"button\" class=\"btn_popup _NM_NEWSSTAND_THUMB_subscribe_press\" data-pid=\"018\" data-clk=\"sub\">구독</a>\\n<a href=\"#\" role=\"button\" class=\"btn_popup _NM_NEWSSTAND_THUMB_unsubscribe_press\" data-pid=\"018\" data-clk=\"unsub\" style=\"display: none;\">해지</a>\\n<a href=\"http://newsstand.naver.com/?list=&amp;pcode=018\" target=\"_blank\" class=\"btn_popup\" data-clk=\"logo\" data-pid=\"018\">기사보기</a>\\n</div>\\n</div>\\n<div class=\"thumb_box _NM_NEWSSTAND_THUMB _NM_NEWSSTAND_THUMB_press_valid\" data-pid=\"015\">\\n<a href=\"#\" class=\"thumb\">\\n<img src=\"https://s.pstatic.net/static/newsstand/2020/logo/light/0604/015.png\" height=\"20\" alt=\"한국경제\" class=\"news_logo\">\\n<span class=\"thumb_dim\"></span></a>\\n<div class=\"popup_wrap\">\\n<a href=\"#\" role=\"button\" class=\"btn_popup _NM_NEWSSTAND_THUMB_subscribe_press\" data-pid=\"015\" data-clk=\"sub\">구독</a>\\n<a href=\"#\" role=\"button\" class=\"btn_popup _NM_NEWSSTAND_THUMB_unsubscribe_press\" data-pid=\"015\" data-clk=\"unsub\" style=\"display: none;\">해지</a>\\n<a href=\"http://newsstand.naver.com/?list=&amp;pcode=015\" target=\"_blank\" class=\"btn_popup\" data-clk=\"logo\" data-pid=\"015\">기사보기</a>\\n</div>\\n</div>\\n<div class=\"thumb_box _NM_NEWSSTAND_THUMB _NM_NEWSSTAND_THUMB_press_valid\" data-pid=\"901\">\\n<a href=\"#\" class=\"thumb\">\\n<img src=\"https://s.pstatic.net/static/newsstand/up/2020/1119/nsd213345745.png\" height=\"20\" alt=\"제민일보\" class=\"news_logo\">\\n<span class=\"thumb_dim\"></span></a>\\n<div class=\"popup_wrap\">\\n<a href=\"#\" role=\"button\" class=\"btn_popup _NM_NEWSSTAND_THUMB_subscribe_press\" data-pid=\"901\" data-clk=\"sub\">구독</a>\\n<a href=\"#\" role=\"button\" class=\"btn_popup _NM_NEWSSTAND_THUMB_unsubscribe_press\" data-pid=\"901\" data-clk=\"unsub\" style=\"display: none;\">해지</a>\\n<a href=\"http://newsstand.naver.com/?list=&amp;pcode=901\" target=\"_blank\" class=\"btn_popup\" data-clk=\"logo\" data-pid=\"901\">기사보기</a>\\n</div>\\n</div>\\n<div class=\"thumb_box _NM_NEWSSTAND_THUMB _NM_NEWSSTAND_THUMB_press_valid\" data-pid=\"088\">\\n<a href=\"#\" class=\"thumb\">\\n<img src=\"https://s.pstatic.net/static/newsstand/2020/logo/light/0604/088.png\" height=\"20\" alt=\"매일신문\" class=\"news_logo\">\\n<span class=\"thumb_dim\"></span></a>\\n<div class=\"popup_wrap\">\\n<a href=\"#\" role=\"button\" class=\"btn_popup _NM_NEWSSTAND_THUMB_subscribe_press\" data-pid=\"088\" data-clk=\"sub\">구독</a>\\n<a href=\"#\" role=\"button\" class=\"btn_popup _NM_NEWSSTAND_THUMB_unsubscribe_press\" data-pid=\"088\" data-clk=\"unsub\" style=\"display: none;\">해지</a>\\n<a href=\"http://newsstand.naver.com/?list=&amp;pcode=088\" target=\"_blank\" class=\"btn_popup\" data-clk=\"logo\" data-pid=\"088\">기사보기</a>\\n</div>\\n</div>\\n<div class=\"thumb_box _NM_NEWSSTAND_THUMB _NM_NEWSSTAND_THUMB_press_valid\" data-pid=\"338\">\\n<a href=\"#\" class=\"thumb\">\\n<img src=\"https://s.pstatic.net/static/newsstand/2020/logo/light/0604/338.png\" height=\"20\" alt=\"경인일보\" class=\"news_logo\">\\n<span class=\"thumb_dim\"></span></a>\\n<div class=\"popup_wrap\">\\n<a href=\"#\" role=\"button\" class=\"btn_popup _NM_NEWSSTAND_THUMB_subscribe_press\" data-pid=\"338\" data-clk=\"sub\">구독</a>\\n<a href=\"#\" role=\"button\" class=\"btn_popup _NM_NEWSSTAND_THUMB_unsubscribe_press\" data-pid=\"338\" data-clk=\"unsub\" style=\"display: none;\">해지</a>\\n<a href=\"http://newsstand.naver.com/?list=&amp;pcode=338\" target=\"_blank\" class=\"btn_popup\" data-clk=\"logo\" data-pid=\"338\">기사보기</a>\\n</div>\\n</div>\\n<div class=\"thumb_box _NM_NEWSSTAND_THUMB _NM_NEWSSTAND_THUMB_press_valid\" data-pid=\"923\">\\n<a href=\"#\" class=\"thumb\">\\n<img src=\"https://s.pstatic.net/static/newsstand/2020/logo/light/0604/923.png\" height=\"20\" alt=\"인민망\" class=\"news_logo\">\\n<span class=\"thumb_dim\"></span></a>\\n<div class=\"popup_wrap\">\\n<a href=\"#\" role=\"button\" class=\"btn_popup _NM_NEWSSTAND_THUMB_subscribe_press\" data-pid=\"923\" data-clk=\"sub\">구독</a>\\n<a href=\"#\" role=\"button\" class=\"btn_popup _NM_NEWSSTAND_THUMB_unsubscribe_press\" data-pid=\"923\" data-clk=\"unsub\" style=\"display: none;\">해지</a>\\n<a href=\"http://newsstand.naver.com/?list=&amp;pcode=923\" target=\"_blank\" class=\"btn_popup\" data-clk=\"logo\" data-pid=\"923\">기사보기</a>\\n</div>\\n</div>\\n<div class=\"thumb_box _NM_NEWSSTAND_THUMB _NM_NEWSSTAND_THUMB_press_valid\" data-pid=\"944\">\\n<a href=\"#\" class=\"thumb\">\\n<img src=\"https://s.pstatic.net/static/newsstand/2020/logo/light/0604/944.png\" height=\"20\" alt=\"나우뉴스\" class=\"news_logo\">\\n<span class=\"thumb_dim\"></span></a>\\n<div class=\"popup_wrap\">\\n<a href=\"#\" role=\"button\" class=\"btn_popup _NM_NEWSSTAND_THUMB_subscribe_press\" data-pid=\"944\" data-clk=\"sub\">구독</a>\\n<a href=\"#\" role=\"button\" class=\"btn_popup _NM_NEWSSTAND_THUMB_unsubscribe_press\" data-pid=\"944\" data-clk=\"unsub\" style=\"display: none;\">해지</a>\\n<a href=\"http://newsstand.naver.com/?list=&amp;pcode=944\" target=\"_blank\" class=\"btn_popup\" data-clk=\"logo\" data-pid=\"944\">기사보기</a>\\n</div>\\n</div>\\n<div class=\"thumb_box _NM_NEWSSTAND_THUMB _NM_NEWSSTAND_THUMB_press_valid\" data-pid=\"917\">\\n<a href=\"#\" class=\"thumb\">\\n<img src=\"https://s.pstatic.net/static/newsstand/2020/logo/light/0604/917.png\" height=\"20\" alt=\"IT조선\" class=\"news_logo\">\\n<span class=\"thumb_dim\"></span></a>\\n<div class=\"popup_wrap\">\\n<a href=\"#\" role=\"button\" class=\"btn_popup _NM_NEWSSTAND_THUMB_subscribe_press\" data-pid=\"917\" data-clk=\"sub\">구독</a>\\n<a href=\"#\" role=\"button\" class=\"btn_popup _NM_NEWSSTAND_THUMB_unsubscribe_press\" data-pid=\"917\" data-clk=\"unsub\" style=\"display: none;\">해지</a>\\n<a href=\"http://newsstand.naver.com/?list=&amp;pcode=917\" target=\"_blank\" class=\"btn_popup\" data-clk=\"logo\" data-pid=\"917\">기사보기</a>\\n</div>\\n</div>\\n<div class=\"thumb_box _NM_NEWSSTAND_THUMB _NM_NEWSSTAND_THUMB_press_valid\" data-pid=\"803\">\\n<a href=\"#\" class=\"thumb\">\\n<img src=\"https://s.pstatic.net/static/newsstand/up/2021/0907/nsd9423633.png\" height=\"20\" alt=\"인더스트리뉴스\" class=\"news_logo\">\\n<span class=\"thumb_dim\"></span></a>\\n<div class=\"popup_wrap\">\\n<a href=\"#\" role=\"button\" class=\"btn_popup _NM_NEWSSTAND_THUMB_subscribe_press\" data-pid=\"803\" data-clk=\"sub\">구독</a>\\n<a href=\"#\" role=\"button\" class=\"btn_popup _NM_NEWSSTAND_THUMB_unsubscribe_press\" data-pid=\"803\" data-clk=\"unsub\" style=\"display: none;\">해지</a>\\n<a href=\"http://newsstand.naver.com/?list=&amp;pcode=803\" target=\"_blank\" class=\"btn_popup\" data-clk=\"logo\" data-pid=\"803\">기사보기</a>\\n</div>\\n</div>\\n<div class=\"thumb_box _NM_NEWSSTAND_THUMB _NM_NEWSSTAND_THUMB_press_valid\" data-pid=\"417\">\\n<a href=\"#\" class=\"thumb\">\\n<img src=\"https://s.pstatic.net/static/newsstand/2020/logo/light/0604/417.png\" height=\"20\" alt=\"머니에스\" class=\"news_logo\">\\n<span class=\"thumb_dim\"></span></a>\\n<div class=\"popup_wrap\">\\n<a href=\"#\" role=\"button\" class=\"btn_popup _NM_NEWSSTAND_THUMB_subscribe_press\" data-pid=\"417\" data-clk=\"sub\">구독</a>\\n<a href=\"#\" role=\"button\" class=\"btn_popup _NM_NEWSSTAND_THUMB_unsubscribe_press\" data-pid=\"417\" data-clk=\"unsub\" style=\"display: none;\">해지</a>\\n<a href=\"http://newsstand.naver.com/?list=&amp;pcode=417\" target=\"_blank\" class=\"btn_popup\" data-clk=\"logo\" data-pid=\"417\">기사보기</a>\\n</div>\\n</div>\\n<div class=\"thumb_box _NM_NEWSSTAND_THUMB _NM_NEWSSTAND_THUMB_press_valid\" data-pid=\"921\">\\n<a href=\"#\" class=\"thumb\">\\n<img src=\"https://s.pstatic.net/static/newsstand/2020/logo/light/0604/921.png\" height=\"20\" alt=\"아주경제\" class=\"news_logo\">\\n<span class=\"thumb_dim\"></span></a>\\n<div class=\"popup_wrap\">\\n<a href=\"#\" role=\"button\" class=\"btn_popup _NM_NEWSSTAND_THUMB_subscribe_press\" data-pid=\"921\" data-clk=\"sub\">구독</a>\\n<a href=\"#\" role=\"button\" class=\"btn_popup _NM_NEWSSTAND_THUMB_unsubscribe_press\" data-pid=\"921\" data-clk=\"unsub\" style=\"display: none;\">해지</a>\\n<a href=\"http://newsstand.naver.com/?list=&amp;pcode=921\" target=\"_blank\" class=\"btn_popup\" data-clk=\"logo\" data-pid=\"921\">기사보기</a>\\n</div>\\n</div>\\n</div>\\n</div>\\n</div>  <div style=\"width: 750px; float: left; display: none;\">  <div class=\"tile_view\">    <div class=\"frame_area\">      <i class=\"line to_right1\"></i>      <i class=\"line to_right2\"></i>      <i class=\"line to_right3\"></i>      <i class=\"line to_bottom1\"></i>      <i class=\"line to_bottom2\"></i>      <i class=\"line to_bottom3\"></i>      <i class=\"line to_bottom4\"></i>      <i class=\"line to_bottom5\"></i>    </div>    <div class=\"thumb_area\">      <div class=\"thumb_box _NM_NEWSSTAND_THUMB _NM_NEWSSTAND_THUMB_press_valid\" data-pid=\"005\">        <a href=\"#\" class=\"thumb\">          <img height=\"20\" alt=\"국민일보\" class=\"news_logo\" loading=\"lazy\" src=\"https://s.pstatic.net/static/newsstand/2020/logo/light/0604/005.png\">        </a>        <div class=\"popup_wrap\">          <a href=\"#\" role=\"button\" class=\"btn_popup _NM_NEWSSTAND_THUMB_subscribe_press\" data-pid=\"005\" data-clk=\"sub\">구독</a>          <a href=\"#\" role=\"button\" class=\"btn_popup _NM_NEWSSTAND_THUMB_unsubscribe_press\" data-pid=\"005\" data-clk=\"unsub\" style=\"display: none;\">해지</a>          <a href=\"http://newsstand.naver.com/?list=&amp;pcode=005\" target=\"_blank\" class=\"btn_popup\" data-pid=\"005\" data-clk=\"logo\">기사보기</a>        </div>      </div>      <div class=\"thumb_box _NM_NEWSSTAND_THUMB _NM_NEWSSTAND_THUMB_press_valid\" data-pid=\"014\">        <a href=\"#\" class=\"thumb\">          <img height=\"20\" alt=\"파이낸셜뉴스\" class=\"news_logo\" loading=\"lazy\" src=\"https://s.pstatic.net/static/newsstand/2020/logo/light/0604/014.png\">        </a>        <div class=\"popup_wrap\">          <a href=\"#\" role=\"button\" class=\"btn_popup _NM_NEWSSTAND_THUMB_subscribe_press\" data-pid=\"014\" data-clk=\"sub\">구독</a>          <a href=\"#\" role=\"button\" class=\"btn_popup _NM_NEWSSTAND_THUMB_unsubscribe_press\" data-pid=\"014\" data-clk=\"unsub\" style=\"display: none;\">해지</a>          <a href=\"http://newsstand.naver.com/?list=&amp;pcode=014\" target=\"_blank\" class=\"btn_popup\" data-pid=\"014\" data-clk=\"logo\">기사보기</a>        </div>      </div>      <div class=\"thumb_box _NM_NEWSSTAND_THUMB _NM_NEWSSTAND_THUMB_press_valid\" data-pid=\"052\">        <a href=\"#\" class=\"thumb\">          <img height=\"20\" alt=\"YTN\" class=\"news_logo\" loading=\"lazy\" src=\"https://s.pstatic.net/static/newsstand/2020/logo/light/0604/052.png\">        </a>        <div class=\"popup_wrap\">          <a href=\"#\" role=\"button\" class=\"btn_popup _NM_NEWSSTAND_THUMB_subscribe_press\" data-pid=\"052\" data-clk=\"sub\">구독</a>          <a href=\"#\" role=\"button\" class=\"btn_popup _NM_NEWSSTAND_THUMB_unsubscribe_press\" data-pid=\"052\" data-clk=\"unsub\" style=\"display: none;\">해지</a>          <a href=\"http://newsstand.naver.com/?list=&amp;pcode=052\" target=\"_blank\" class=\"btn_popup\" data-pid=\"052\" data-clk=\"logo\">기사보기</a>        </div>      </div>      <div class=\"thumb_box _NM_NEWSSTAND_THUMB _NM_NEWSSTAND_THUMB_press_valid\" data-pid=\"008\">        <a href=\"#\" class=\"thumb\">          <img height=\"20\" alt=\"머니투데이\" class=\"news_logo\" loading=\"lazy\" src=\"https://s.pstatic.net/static/newsstand/2020/logo/light/0604/008.png\">        </a>        <div class=\"popup_wrap\">          <a href=\"#\" role=\"button\" class=\"btn_popup _NM_NEWSSTAND_THUMB_subscribe_press\" data-pid=\"008\" data-clk=\"sub\">구독</a>          <a href=\"#\" role=\"button\" class=\"btn_popup _NM_NEWSSTAND_THUMB_unsubscribe_press\" data-pid=\"008\" data-clk=\"unsub\" style=\"display: none;\">해지</a>          <a href=\"http://newsstand.naver.com/?list=&amp;pcode=008\" target=\"_blank\" class=\"btn_popup\" data-pid=\"008\" data-clk=\"logo\">기사보기</a>        </div>      </div>      <div class=\"thumb_box _NM_NEWSSTAND_THUMB _NM_NEWSSTAND_THUMB_press_valid\" data-pid=\"031\">        <a href=\"#\" class=\"thumb\">          <img height=\"20\" alt=\"아이뉴스24\" class=\"news_logo\" loading=\"lazy\" src=\"https://s.pstatic.net/static/newsstand/2020/logo/light/0604/031.png\">        </a>        <div class=\"popup_wrap\">          <a href=\"#\" role=\"button\" class=\"btn_popup _NM_NEWSSTAND_THUMB_subscribe_press\" data-pid=\"031\" data-clk=\"sub\">구독</a>          <a href=\"#\" role=\"button\" class=\"btn_popup _NM_NEWSSTAND_THUMB_unsubscribe_press\" data-pid=\"031\" data-clk=\"unsub\" style=\"display: none;\">해지</a>          <a href=\"http://newsstand.naver.com/?list=&amp;pcode=031\" target=\"_blank\" class=\"btn_popup\" data-pid=\"031\" data-clk=\"logo\">기사보기</a>        </div>      </div>      <div class=\"thumb_box _NM_NEWSSTAND_THUMB _NM_NEWSSTAND_THUMB_press_valid\" data-pid=\"030\">        <a href=\"#\" class=\"thumb\">          <img height=\"20\" alt=\"전자신문\" class=\"news_logo\" loading=\"lazy\" src=\"https://s.pstatic.net/static/newsstand/2020/logo/light/0604/030.png\">        </a>        <div class=\"popup_wrap\">          <a href=\"#\" role=\"button\" class=\"btn_popup _NM_NEWSSTAND_THUMB_subscribe_press\" data-pid=\"030\" data-clk=\"sub\">구독</a>          <a href=\"#\" role=\"button\" class=\"btn_popup _NM_NEWSSTAND_THUMB_unsubscribe_press\" data-pid=\"030\" data-clk=\"unsub\" style=\"display: none;\">해지</a>          <a href=\"http://newsstand.naver.com/?list=&amp;pcode=030\" target=\"_blank\" class=\"btn_popup\" data-pid=\"030\" data-clk=\"logo\">기사보기</a>        </div>      </div>      <div class=\"thumb_box _NM_NEWSSTAND_THUMB _NM_NEWSSTAND_THUMB_press_valid\" data-pid=\"215\">        <a href=\"#\" class=\"thumb\">          <img height=\"20\" alt=\"한국경제TV\" class=\"news_logo\" loading=\"lazy\" src=\"https://s.pstatic.net/static/newsstand/2020/logo/light/0604/215.png\">        </a>        <div class=\"popup_wrap\">          <a href=\"#\" role=\"button\" class=\"btn_popup _NM_NEWSSTAND_THUMB_subscribe_press\" data-pid=\"215\" data-clk=\"sub\">구독</a>          <a href=\"#\" role=\"button\" class=\"btn_popup _NM_NEWSSTAND_THUMB_unsubscribe_press\" data-pid=\"215\" data-clk=\"unsub\" style=\"display: none;\">해지</a>          <a href=\"http://newsstand.naver.com/?list=&amp;pcode=215\" target=\"_blank\" class=\"btn_popup\" data-pid=\"215\" data-clk=\"logo\">기사보기</a>        </div>      </div>      <div class=\"thumb_box _NM_NEWSSTAND_THUMB _NM_NEWSSTAND_THUMB_press_valid\" data-pid=\"047\">        <a href=\"#\" class=\"thumb\">          <img height=\"20\" alt=\"오마이뉴스\" class=\"news_logo\" loading=\"lazy\" src=\"https://s.pstatic.net/static/newsstand/2020/logo/light/0604/047.png\">        </a>        <div class=\"popup_wrap\">          <a href=\"#\" role=\"button\" class=\"btn_popup _NM_NEWSSTAND_THUMB_subscribe_press\" data-pid=\"047\" data-clk=\"sub\">구독</a>          <a href=\"#\" role=\"button\" class=\"btn_popup _NM_NEWSSTAND_THUMB_unsubscribe_press\" data-pid=\"047\" data-clk=\"unsub\" style=\"display: none;\">해지</a>          <a href=\"http://newsstand.naver.com/?list=&amp;pcode=047\" target=\"_blank\" class=\"btn_popup\" data-pid=\"047\" data-clk=\"logo\">기사보기</a>        </div>      </div>      <div class=\"thumb_box _NM_NEWSSTAND_THUMB _NM_NEWSSTAND_THUMB_press_valid\" data-pid=\"330\">        <a href=\"#\" class=\"thumb\">          <img height=\"20\" alt=\"중앙데일리\" class=\"news_logo\" loading=\"lazy\" src=\"https://s.pstatic.net/static/newsstand/2020/logo/light/0604/330.png\">        </a>        <div class=\"popup_wrap\">          <a href=\"#\" role=\"button\" class=\"btn_popup _NM_NEWSSTAND_THUMB_subscribe_press\" data-pid=\"330\" data-clk=\"sub\">구독</a>          <a href=\"#\" role=\"button\" class=\"btn_popup _NM_NEWSSTAND_THUMB_unsubscribe_press\" data-pid=\"330\" data-clk=\"unsub\" style=\"display: none;\">해지</a>          <a href=\"http://newsstand.naver.com/?list=&amp;pcode=330\" target=\"_blank\" class=\"btn_popup\" data-pid=\"330\" data-clk=\"logo\">기사보기</a>        </div>      </div>      <div class=\"thumb_box _NM_NEWSSTAND_THUMB _NM_NEWSSTAND_THUMB_press_valid\" data-pid=\"366\">        <a href=\"#\" class=\"thumb\">          <img height=\"20\" alt=\"조선비즈\" class=\"news_logo\" loading=\"lazy\" src=\"https://s.pstatic.net/static/newsstand/2020/logo/light/0604/366.png\">        </a>        <div class=\"popup_wrap\">          <a href=\"#\" role=\"button\" class=\"btn_popup _NM_NEWSSTAND_THUMB_subscribe_press\" data-pid=\"366\" data-clk=\"sub\">구독</a>          <a href=\"#\" role=\"button\" class=\"btn_popup _NM_NEWSSTAND_THUMB_unsubscribe_press\" data-pid=\"366\" data-clk=\"unsub\" style=\"display: none;\">해지</a>          <a href=\"http://newsstand.naver.com/?list=&amp;pcode=366\" target=\"_blank\" class=\"btn_popup\" data-pid=\"366\" data-clk=\"logo\">기사보기</a>        </div>      </div>      <div class=\"thumb_box _NM_NEWSSTAND_THUMB _NM_NEWSSTAND_THUMB_press_valid\" data-pid=\"076\">        <a href=\"#\" class=\"thumb\">          <img height=\"20\" alt=\"스포츠조선\" class=\"news_logo\" loading=\"lazy\" src=\"https://s.pstatic.net/static/newsstand/2020/logo/light/0604/076.png\">        </a>        <div class=\"popup_wrap\">          <a href=\"#\" role=\"button\" class=\"btn_popup _NM_NEWSSTAND_THUMB_subscribe_press\" data-pid=\"076\" data-clk=\"sub\">구독</a>          <a href=\"#\" role=\"button\" class=\"btn_popup _NM_NEWSSTAND_THUMB_unsubscribe_press\" data-pid=\"076\" data-clk=\"unsub\" style=\"display: none;\">해지</a>          <a href=\"http://newsstand.naver.com/?list=&amp;pcode=076\" target=\"_blank\" class=\"btn_popup\" data-pid=\"076\" data-clk=\"logo\">기사보기</a>        </div>      </div>      <div class=\"thumb_box _NM_NEWSSTAND_THUMB _NM_NEWSSTAND_THUMB_press_valid\" data-pid=\"241\">        <a href=\"#\" class=\"thumb\">          <img height=\"20\" alt=\"일간스포츠\" class=\"news_logo\" loading=\"lazy\" src=\"https://s.pstatic.net/static/newsstand/2020/logo/light/0604/241.png\">        </a>        <div class=\"popup_wrap\">          <a href=\"#\" role=\"button\" class=\"btn_popup _NM_NEWSSTAND_THUMB_subscribe_press\" data-pid=\"241\" data-clk=\"sub\">구독</a>          <a href=\"#\" role=\"button\" class=\"btn_popup _NM_NEWSSTAND_THUMB_unsubscribe_press\" data-pid=\"241\" data-clk=\"unsub\" style=\"display: none;\">해지</a>          <a href=\"http://newsstand.naver.com/?list=&amp;pcode=241\" target=\"_blank\" class=\"btn_popup\" data-pid=\"241\" data-clk=\"logo\">기사보기</a>        </div>      </div>      <div class=\"thumb_box _NM_NEWSSTAND_THUMB _NM_NEWSSTAND_THUMB_press_valid\" data-pid=\"006\">        <a href=\"#\" class=\"thumb\">          <img height=\"20\" alt=\"미디어오늘\" class=\"news_logo\" loading=\"lazy\" src=\"https://s.pstatic.net/static/newsstand/2020/logo/light/0604/006.png\">        </a>        <div class=\"popup_wrap\">          <a href=\"#\" role=\"button\" class=\"btn_popup _NM_NEWSSTAND_THUMB_subscribe_press\" data-pid=\"006\" data-clk=\"sub\">구독</a>          <a href=\"#\" role=\"button\" class=\"btn_popup _NM_NEWSSTAND_THUMB_unsubscribe_press\" data-pid=\"006\" data-clk=\"unsub\" style=\"display: none;\">해지</a>          <a href=\"http://newsstand.naver.com/?list=&amp;pcode=006\" target=\"_blank\" class=\"btn_popup\" data-pid=\"006\" data-clk=\"logo\">기사보기</a>        </div>      </div>      <div class=\"thumb_box _NM_NEWSSTAND_THUMB _NM_NEWSSTAND_THUMB_press_valid\" data-pid=\"025\">        <a href=\"#\" class=\"thumb\">          <img height=\"20\" alt=\"중앙일보\" class=\"news_logo\" loading=\"lazy\" src=\"https://s.pstatic.net/static/newsstand/up/2021/0824/nsd115034872.png\">        </a>        <div class=\"popup_wrap\">          <a href=\"#\" role=\"button\" class=\"btn_popup _NM_NEWSSTAND_THUMB_subscribe_press\" data-pid=\"025\" data-clk=\"sub\">구독</a>          <a href=\"#\" role=\"button\" class=\"btn_popup _NM_NEWSSTAND_THUMB_unsubscribe_press\" data-pid=\"025\" data-clk=\"unsub\" style=\"display: none;\">해지</a>          <a href=\"http://newsstand.naver.com/?list=&amp;pcode=025\" target=\"_blank\" class=\"btn_popup\" data-pid=\"025\" data-clk=\"logo\">기사보기</a>        </div>      </div>      <div class=\"thumb_box _NM_NEWSSTAND_THUMB _NM_NEWSSTAND_THUMB_press_valid\" data-pid=\"904\">        <a href=\"#\" class=\"thumb\">          <img height=\"20\" alt=\"JTBC\" class=\"news_logo\" loading=\"lazy\" src=\"https://s.pstatic.net/static/newsstand/2020/logo/light/0604/904.png\">        </a>        <div class=\"popup_wrap\">          <a href=\"#\" role=\"button\" class=\"btn_popup _NM_NEWSSTAND_THUMB_subscribe_press\" data-pid=\"904\" data-clk=\"sub\">구독</a>          <a href=\"#\" role=\"button\" class=\"btn_popup _NM_NEWSSTAND_THUMB_unsubscribe_press\" data-pid=\"904\" data-clk=\"unsub\" style=\"display: none;\">해지</a>          <a href=\"http://newsstand.naver.com/?list=&amp;pcode=904\" target=\"_blank\" class=\"btn_popup\" data-pid=\"904\" data-clk=\"logo\">기사보기</a>        </div>      </div>      <div class=\"thumb_box _NM_NEWSSTAND_THUMB _NM_NEWSSTAND_THUMB_press_valid\" data-pid=\"950\">        <a href=\"#\" class=\"thumb\">          <img height=\"20\" alt=\"월간중앙\" class=\"news_logo\" loading=\"lazy\" src=\"https://s.pstatic.net/static/newsstand/2020/logo/light/0604/950.png\">        </a>        <div class=\"popup_wrap\">          <a href=\"#\" role=\"button\" class=\"btn_popup _NM_NEWSSTAND_THUMB_subscribe_press\" data-pid=\"950\" data-clk=\"sub\">구독</a>          <a href=\"#\" role=\"button\" class=\"btn_popup _NM_NEWSSTAND_THUMB_unsubscribe_press\" data-pid=\"950\" data-clk=\"unsub\" style=\"display: none;\">해지</a>          <a href=\"http://newsstand.naver.com/?list=&amp;pcode=950\" target=\"_blank\" class=\"btn_popup\" data-pid=\"950\" data-clk=\"logo\">기사보기</a>        </div>      </div>      <div class=\"thumb_box _NM_NEWSSTAND_THUMB _NM_NEWSSTAND_THUMB_press_valid\" data-pid=\"989\">        <a href=\"#\" class=\"thumb\">          <img height=\"20\" alt=\"TBC\" class=\"news_logo\" loading=\"lazy\" src=\"https://s.pstatic.net/static/newsstand/2020/logo/light/0604/989.png\">        </a>        <div class=\"popup_wrap\">          <a href=\"#\" role=\"button\" class=\"btn_popup _NM_NEWSSTAND_THUMB_subscribe_press\" data-pid=\"989\" data-clk=\"sub\">구독</a>          <a href=\"#\" role=\"button\" class=\"btn_popup _NM_NEWSSTAND_THUMB_unsubscribe_press\" data-pid=\"989\" data-clk=\"unsub\" style=\"display: none;\">해지</a>          <a href=\"http://newsstand.naver.com/?list=&amp;pcode=989\" target=\"_blank\" class=\"btn_popup\" data-pid=\"989\" data-clk=\"logo\">기사보기</a>        </div>      </div>      <div class=\"thumb_box _NM_NEWSSTAND_THUMB _NM_NEWSSTAND_THUMB_press_valid\" data-pid=\"951\">        <a href=\"#\" class=\"thumb\">          <img height=\"20\" alt=\"포브스코리아\" class=\"news_logo\" loading=\"lazy\" src=\"https://s.pstatic.net/static/newsstand/2020/logo/light/0604/951.png\">        </a>        <div class=\"popup_wrap\">          <a href=\"#\" role=\"button\" class=\"btn_popup _NM_NEWSSTAND_THUMB_subscribe_press\" data-pid=\"951\" data-clk=\"sub\">구독</a>          <a href=\"#\" role=\"button\" class=\"btn_popup _NM_NEWSSTAND_THUMB_unsubscribe_press\" data-pid=\"951\" data-clk=\"unsub\" style=\"display: none;\">해지</a>          <a href=\"http://newsstand.naver.com/?list=&amp;pcode=951\" target=\"_blank\" class=\"btn_popup\" data-pid=\"951\" data-clk=\"logo\">기사보기</a>        </div>      </div>      <div class=\"thumb_box _NM_NEWSSTAND_THUMB _NM_NEWSSTAND_THUMB_press_valid\" data-pid=\"974\">        <a href=\"#\" class=\"thumb\">          <img height=\"20\" alt=\"BBS NEWS\" class=\"news_logo\" loading=\"lazy\" src=\"https://s.pstatic.net/static/newsstand/2020/logo/light/0604/974.png\">        </a>        <div class=\"popup_wrap\">          <a href=\"#\" role=\"button\" class=\"btn_popup _NM_NEWSSTAND_THUMB_subscribe_press\" data-pid=\"974\" data-clk=\"sub\">구독</a>          <a href=\"#\" role=\"button\" class=\"btn_popup _NM_NEWSSTAND_THUMB_unsubscribe_press\" data-pid=\"974\" data-clk=\"unsub\" style=\"display: none;\">해지</a>          <a href=\"http://newsstand.naver.com/?list=&amp;pcode=974\" target=\"_blank\" class=\"btn_popup\" data-pid=\"974\" data-clk=\"logo\">기사보기</a>        </div>      </div>      <div class=\"thumb_box _NM_NEWSSTAND_THUMB _NM_NEWSSTAND_THUMB_press_valid\" data-pid=\"345\">        <a href=\"#\" class=\"thumb\">          <img height=\"20\" alt=\"디자인정글\" class=\"news_logo\" loading=\"lazy\" src=\"https://s.pstatic.net/static/newsstand/2020/logo/light/0604/345.png\">        </a>        <div class=\"popup_wrap\">          <a href=\"#\" role=\"button\" class=\"btn_popup _NM_NEWSSTAND_THUMB_subscribe_press\" data-pid=\"345\" data-clk=\"sub\">구독</a>          <a href=\"#\" role=\"button\" class=\"btn_popup _NM_NEWSSTAND_THUMB_unsubscribe_press\" data-pid=\"345\" data-clk=\"unsub\" style=\"display: none;\">해지</a>          <a href=\"http://newsstand.naver.com/?list=&amp;pcode=345\" target=\"_blank\" class=\"btn_popup\" data-pid=\"345\" data-clk=\"logo\">기사보기</a>        </div>      </div>      <div class=\"thumb_box _NM_NEWSSTAND_THUMB _NM_NEWSSTAND_THUMB_press_valid\" data-pid=\"816\">        <a href=\"#\" class=\"thumb\">          <img height=\"20\" alt=\"시사오늘\" class=\"news_logo\" loading=\"lazy\" src=\"https://s.pstatic.net/static/newsstand/2020/logo/light/0604/816.png\">        </a>        <div class=\"popup_wrap\">          <a href=\"#\" role=\"button\" class=\"btn_popup _NM_NEWSSTAND_THUMB_subscribe_press\" data-pid=\"816\" data-clk=\"sub\">구독</a>          <a href=\"#\" role=\"button\" class=\"btn_popup _NM_NEWSSTAND_THUMB_unsubscribe_press\" data-pid=\"816\" data-clk=\"unsub\" style=\"display: none;\">해지</a>          <a href=\"http://newsstand.naver.com/?list=&amp;pcode=816\" target=\"_blank\" class=\"btn_popup\" data-pid=\"816\" data-clk=\"logo\">기사보기</a>        </div>      </div>      <div class=\"thumb_box _NM_NEWSSTAND_THUMB _NM_NEWSSTAND_THUMB_press_valid\" data-pid=\"925\">        <a href=\"#\" class=\"thumb\">          <img height=\"20\" alt=\"일요신문\" class=\"news_logo\" loading=\"lazy\" src=\"https://s.pstatic.net/static/newsstand/2020/logo/light/0604/925.png\">        </a>        <div class=\"popup_wrap\">          <a href=\"#\" role=\"button\" class=\"btn_popup _NM_NEWSSTAND_THUMB_subscribe_press\" data-pid=\"925\" data-clk=\"sub\">구독</a>          <a href=\"#\" role=\"button\" class=\"btn_popup _NM_NEWSSTAND_THUMB_unsubscribe_press\" data-pid=\"925\" data-clk=\"unsub\" style=\"display: none;\">해지</a>          <a href=\"http://newsstand.naver.com/?list=&amp;pcode=925\" target=\"_blank\" class=\"btn_popup\" data-pid=\"925\" data-clk=\"logo\">기사보기</a>        </div>      </div>      <div class=\"thumb_box _NM_NEWSSTAND_THUMB _NM_NEWSSTAND_THUMB_press_valid\" data-pid=\"356\">        <a href=\"#\" class=\"thumb\">          <img height=\"20\" alt=\"게임메카\" class=\"news_logo\" loading=\"lazy\" src=\"https://s.pstatic.net/static/newsstand/2020/logo/light/0604/356.png\">        </a>        <div class=\"popup_wrap\">          <a href=\"#\" role=\"button\" class=\"btn_popup _NM_NEWSSTAND_THUMB_subscribe_press\" data-pid=\"356\" data-clk=\"sub\">구독</a>          <a href=\"#\" role=\"button\" class=\"btn_popup _NM_NEWSSTAND_THUMB_unsubscribe_press\" data-pid=\"356\" data-clk=\"unsub\" style=\"display: none;\">해지</a>          <a href=\"http://newsstand.naver.com/?list=&amp;pcode=356\" target=\"_blank\" class=\"btn_popup\" data-pid=\"356\" data-clk=\"logo\">기사보기</a>        </div>      </div>      <div class=\"thumb_box _NM_NEWSSTAND_THUMB _NM_NEWSSTAND_THUMB_press_valid\" data-pid=\"364\">        <a href=\"#\" class=\"thumb\">          <img height=\"20\" alt=\"PC사랑\" class=\"news_logo\" loading=\"lazy\" src=\"https://s.pstatic.net/static/newsstand/2020/logo/light/0604/364.png\">        </a>        <div class=\"popup_wrap\">          <a href=\"#\" role=\"button\" class=\"btn_popup _NM_NEWSSTAND_THUMB_subscribe_press\" data-pid=\"364\" data-clk=\"sub\">구독</a>          <a href=\"#\" role=\"button\" class=\"btn_popup _NM_NEWSSTAND_THUMB_unsubscribe_press\" data-pid=\"364\" data-clk=\"unsub\" style=\"display: none;\">해지</a>          <a href=\"http://newsstand.naver.com/?list=&amp;pcode=364\" target=\"_blank\" class=\"btn_popup\" data-pid=\"364\" data-clk=\"logo\">기사보기</a>        </div>      </div>    </div>  </div></div><div style=\"width: 750px; float: left; display: none;\">  <div class=\"tile_view\">    <div class=\"frame_area\">      <i class=\"line to_right1\"></i>      <i class=\"line to_right2\"></i>      <i class=\"line to_right3\"></i>      <i class=\"line to_bottom1\"></i>      <i class=\"line to_bottom2\"></i>      <i class=\"line to_bottom3\"></i>      <i class=\"line to_bottom4\"></i>      <i class=\"line to_bottom5\"></i>    </div>    <div class=\"thumb_area\">      <div class=\"thumb_box _NM_NEWSSTAND_THUMB _NM_NEWSSTAND_THUMB_press_valid\" data-pid=\"009\">        <a href=\"#\" class=\"thumb\">          <img height=\"20\" alt=\"매일경제\" class=\"news_logo\" loading=\"lazy\" src=\"https://s.pstatic.net/static/newsstand/2020/logo/light/0604/009.png\">        </a>        <div class=\"popup_wrap\">          <a href=\"#\" role=\"button\" class=\"btn_popup _NM_NEWSSTAND_THUMB_subscribe_press\" data-pid=\"009\" data-clk=\"sub\">구독</a>          <a href=\"#\" role=\"button\" class=\"btn_popup _NM_NEWSSTAND_THUMB_unsubscribe_press\" data-pid=\"009\" data-clk=\"unsub\" style=\"display: none;\">해지</a>          <a href=\"http://newsstand.naver.com/?list=&amp;pcode=009\" target=\"_blank\" class=\"btn_popup\" data-pid=\"009\" data-clk=\"logo\">기사보기</a>        </div>      </div>      <div class=\"thumb_box _NM_NEWSSTAND_THUMB _NM_NEWSSTAND_THUMB_press_valid\" data-pid=\"327\">        <a href=\"#\" class=\"thumb\">          <img height=\"20\" alt=\"뉴데일리\" class=\"news_logo\" loading=\"lazy\" src=\"https://s.pstatic.net/static/newsstand/2020/logo/light/0604/327.png\">        </a>        <div class=\"popup_wrap\">          <a href=\"#\" role=\"button\" class=\"btn_popup _NM_NEWSSTAND_THUMB_subscribe_press\" data-pid=\"327\" data-clk=\"sub\">구독</a>          <a href=\"#\" role=\"button\" class=\"btn_popup _NM_NEWSSTAND_THUMB_unsubscribe_press\" data-pid=\"327\" data-clk=\"unsub\" style=\"display: none;\">해지</a>          <a href=\"http://newsstand.naver.com/?list=&amp;pcode=327\" target=\"_blank\" class=\"btn_popup\" data-pid=\"327\" data-clk=\"logo\">기사보기</a>        </div>      </div>      <div class=\"thumb_box _NM_NEWSSTAND_THUMB _NM_NEWSSTAND_THUMB_press_valid\" data-pid=\"092\">        <a href=\"#\" class=\"thumb\">          <img height=\"20\" alt=\"지디넷코리아\" class=\"news_logo\" loading=\"lazy\" src=\"https://s.pstatic.net/static/newsstand/2020/logo/light/0604/092.png\">        </a>        <div class=\"popup_wrap\">          <a href=\"#\" role=\"button\" class=\"btn_popup _NM_NEWSSTAND_THUMB_subscribe_press\" data-pid=\"092\" data-clk=\"sub\">구독</a>          <a href=\"#\" role=\"button\" class=\"btn_popup _NM_NEWSSTAND_THUMB_unsubscribe_press\" data-pid=\"092\" data-clk=\"unsub\" style=\"display: none;\">해지</a>          <a href=\"http://newsstand.naver.com/?list=&amp;pcode=092\" target=\"_blank\" class=\"btn_popup\" data-pid=\"092\" data-clk=\"logo\">기사보기</a>        </div>      </div>      <div class=\"thumb_box _NM_NEWSSTAND_THUMB _NM_NEWSSTAND_THUMB_press_valid\" data-pid=\"023\">        <a href=\"#\" class=\"thumb\">          <img height=\"20\" alt=\"조선일보\" class=\"news_logo\" loading=\"lazy\" src=\"https://s.pstatic.net/static/newsstand/up/2020/0903/nsd185255316.png\">        </a>        <div class=\"popup_wrap\">          <a href=\"#\" role=\"button\" class=\"btn_popup _NM_NEWSSTAND_THUMB_subscribe_press\" data-pid=\"023\" data-clk=\"sub\">구독</a>          <a href=\"#\" role=\"button\" class=\"btn_popup _NM_NEWSSTAND_THUMB_unsubscribe_press\" data-pid=\"023\" data-clk=\"unsub\" style=\"display: none;\">해지</a>          <a href=\"http://newsstand.naver.com/?list=&amp;pcode=023\" target=\"_blank\" class=\"btn_popup\" data-pid=\"023\" data-clk=\"logo\">기사보기</a>        </div>      </div>      <div class=\"thumb_box _NM_NEWSSTAND_THUMB _NM_NEWSSTAND_THUMB_press_valid\" data-pid=\"109\">        <a href=\"#\" class=\"thumb\">          <img height=\"20\" alt=\"OSEN\" class=\"news_logo\" loading=\"lazy\" src=\"https://s.pstatic.net/static/newsstand/up/2020/0610/nsd151458769.png\">        </a>        <div class=\"popup_wrap\">          <a href=\"#\" role=\"button\" class=\"btn_popup _NM_NEWSSTAND_THUMB_subscribe_press\" data-pid=\"109\" data-clk=\"sub\">구독</a>          <a href=\"#\" role=\"button\" class=\"btn_popup _NM_NEWSSTAND_THUMB_unsubscribe_press\" data-pid=\"109\" data-clk=\"unsub\" style=\"display: none;\">해지</a>          <a href=\"http://newsstand.naver.com/?list=&amp;pcode=109\" target=\"_blank\" class=\"btn_popup\" data-pid=\"109\" data-clk=\"logo\">기사보기</a>        </div>      </div>      <div class=\"thumb_box _NM_NEWSSTAND_THUMB _NM_NEWSSTAND_THUMB_press_valid\" data-pid=\"038\">        <a href=\"#\" class=\"thumb\">          <img height=\"20\" alt=\"한국일보\" class=\"news_logo\" loading=\"lazy\" src=\"https://s.pstatic.net/static/newsstand/2020/logo/light/0604/038.png\">        </a>        <div class=\"popup_wrap\">          <a href=\"#\" role=\"button\" class=\"btn_popup _NM_NEWSSTAND_THUMB_subscribe_press\" data-pid=\"038\" data-clk=\"sub\">구독</a>          <a href=\"#\" role=\"button\" class=\"btn_popup _NM_NEWSSTAND_THUMB_unsubscribe_press\" data-pid=\"038\" data-clk=\"unsub\" style=\"display: none;\">해지</a>          <a href=\"http://newsstand.naver.com/?list=&amp;pcode=038\" target=\"_blank\" class=\"btn_popup\" data-pid=\"038\" data-clk=\"logo\">기사보기</a>        </div>      </div>      <div class=\"thumb_box _NM_NEWSSTAND_THUMB _NM_NEWSSTAND_THUMB_press_valid\" data-pid=\"011\">        <a href=\"#\" class=\"thumb\">          <img height=\"20\" alt=\"서울경제\" class=\"news_logo\" loading=\"lazy\" src=\"https://s.pstatic.net/static/newsstand/2019/logo/011.png\">        </a>        <div class=\"popup_wrap\">          <a href=\"#\" role=\"button\" class=\"btn_popup _NM_NEWSSTAND_THUMB_subscribe_press\" data-pid=\"011\" data-clk=\"sub\">구독</a>          <a href=\"#\" role=\"button\" class=\"btn_popup _NM_NEWSSTAND_THUMB_unsubscribe_press\" data-pid=\"011\" data-clk=\"unsub\" style=\"display: none;\">해지</a>          <a href=\"http://newsstand.naver.com/?list=&amp;pcode=011\" target=\"_blank\" class=\"btn_popup\" data-pid=\"011\" data-clk=\"logo\">기사보기</a>        </div>      </div>      <div class=\"thumb_box _NM_NEWSSTAND_THUMB _NM_NEWSSTAND_THUMB_press_valid\" data-pid=\"044\">        <a href=\"#\" class=\"thumb\">          <img height=\"20\" alt=\"코리아헤럴드\" class=\"news_logo\" loading=\"lazy\" src=\"https://s.pstatic.net/static/newsstand/2020/logo/light/0604/044.png\">        </a>        <div class=\"popup_wrap\">          <a href=\"#\" role=\"button\" class=\"btn_popup _NM_NEWSSTAND_THUMB_subscribe_press\" data-pid=\"044\" data-clk=\"sub\">구독</a>          <a href=\"#\" role=\"button\" class=\"btn_popup _NM_NEWSSTAND_THUMB_unsubscribe_press\" data-pid=\"044\" data-clk=\"unsub\" style=\"display: none;\">해지</a>          <a href=\"http://newsstand.naver.com/?list=&amp;pcode=044\" target=\"_blank\" class=\"btn_popup\" data-pid=\"044\" data-clk=\"logo\">기사보기</a>        </div>      </div>      <div class=\"thumb_box _NM_NEWSSTAND_THUMB _NM_NEWSSTAND_THUMB_press_valid\" data-pid=\"277\">        <a href=\"#\" class=\"thumb\">          <img height=\"20\" alt=\"아시아경제\" class=\"news_logo\" loading=\"lazy\" src=\"https://s.pstatic.net/static/newsstand/2020/logo/light/0604/277.png\">        </a>        <div class=\"popup_wrap\">          <a href=\"#\" role=\"button\" class=\"btn_popup _NM_NEWSSTAND_THUMB_subscribe_press\" data-pid=\"277\" data-clk=\"sub\">구독</a>          <a href=\"#\" role=\"button\" class=\"btn_popup _NM_NEWSSTAND_THUMB_unsubscribe_press\" data-pid=\"277\" data-clk=\"unsub\" style=\"display: none;\">해지</a>          <a href=\"http://newsstand.naver.com/?list=&amp;pcode=277\" target=\"_blank\" class=\"btn_popup\" data-pid=\"277\" data-clk=\"logo\">기사보기</a>        </div>      </div>      <div class=\"thumb_box _NM_NEWSSTAND_THUMB _NM_NEWSSTAND_THUMB_press_valid\" data-pid=\"117\">        <a href=\"#\" class=\"thumb\">          <img height=\"20\" alt=\"마이데일리\" class=\"news_logo\" loading=\"lazy\" src=\"https://s.pstatic.net/static/newsstand/2020/logo/light/0604/117.png\">        </a>        <div class=\"popup_wrap\">          <a href=\"#\" role=\"button\" class=\"btn_popup _NM_NEWSSTAND_THUMB_subscribe_press\" data-pid=\"117\" data-clk=\"sub\">구독</a>          <a href=\"#\" role=\"button\" class=\"btn_popup _NM_NEWSSTAND_THUMB_unsubscribe_press\" data-pid=\"117\" data-clk=\"unsub\" style=\"display: none;\">해지</a>          <a href=\"http://newsstand.naver.com/?list=&amp;pcode=117\" target=\"_blank\" class=\"btn_popup\" data-pid=\"117\" data-clk=\"logo\">기사보기</a>        </div>      </div>      <div class=\"thumb_box _NM_NEWSSTAND_THUMB _NM_NEWSSTAND_THUMB_press_valid\" data-pid=\"308\">        <a href=\"#\" class=\"thumb\">          <img height=\"20\" alt=\"시사인\" class=\"news_logo\" loading=\"lazy\" src=\"https://s.pstatic.net/static/newsstand/2020/logo/light/0604/308.png\">        </a>        <div class=\"popup_wrap\">          <a href=\"#\" role=\"button\" class=\"btn_popup _NM_NEWSSTAND_THUMB_subscribe_press\" data-pid=\"308\" data-clk=\"sub\">구독</a>          <a href=\"#\" role=\"button\" class=\"btn_popup _NM_NEWSSTAND_THUMB_unsubscribe_press\" data-pid=\"308\" data-clk=\"unsub\" style=\"display: none;\">해지</a>          <a href=\"http://newsstand.naver.com/?list=&amp;pcode=308\" target=\"_blank\" class=\"btn_popup\" data-pid=\"308\" data-clk=\"logo\">기사보기</a>        </div>      </div>      <div class=\"thumb_box _NM_NEWSSTAND_THUMB _NM_NEWSSTAND_THUMB_press_valid\" data-pid=\"079\">        <a href=\"#\" class=\"thumb\">          <img height=\"20\" alt=\"노컷뉴스\" class=\"news_logo\" loading=\"lazy\" src=\"https://s.pstatic.net/static/newsstand/2020/logo/light/0604/079.png\">        </a>        <div class=\"popup_wrap\">          <a href=\"#\" role=\"button\" class=\"btn_popup _NM_NEWSSTAND_THUMB_subscribe_press\" data-pid=\"079\" data-clk=\"sub\">구독</a>          <a href=\"#\" role=\"button\" class=\"btn_popup _NM_NEWSSTAND_THUMB_unsubscribe_press\" data-pid=\"079\" data-clk=\"unsub\" style=\"display: none;\">해지</a>          <a href=\"http://newsstand.naver.com/?list=&amp;pcode=079\" target=\"_blank\" class=\"btn_popup\" data-pid=\"079\" data-clk=\"logo\">기사보기</a>        </div>      </div>      <div class=\"thumb_box _NM_NEWSSTAND_THUMB _NM_NEWSSTAND_THUMB_press_valid\" data-pid=\"139\">        <a href=\"#\" class=\"thumb\">          <img height=\"20\" alt=\"스포탈코리아\" class=\"news_logo\" loading=\"lazy\" src=\"https://s.pstatic.net/static/newsstand/2020/logo/light/0604/139.png\">        </a>        <div class=\"popup_wrap\">          <a href=\"#\" role=\"button\" class=\"btn_popup _NM_NEWSSTAND_THUMB_subscribe_press\" data-pid=\"139\" data-clk=\"sub\">구독</a>          <a href=\"#\" role=\"button\" class=\"btn_popup _NM_NEWSSTAND_THUMB_unsubscribe_press\" data-pid=\"139\" data-clk=\"unsub\" style=\"display: none;\">해지</a>          <a href=\"http://newsstand.naver.com/?list=&amp;pcode=139\" target=\"_blank\" class=\"btn_popup\" data-pid=\"139\" data-clk=\"logo\">기사보기</a>        </div>      </div>      <div class=\"thumb_box _NM_NEWSSTAND_THUMB _NM_NEWSSTAND_THUMB_press_valid\" data-pid=\"073\">        <a href=\"#\" class=\"thumb\">          <img height=\"20\" alt=\"스포츠서울\" class=\"news_logo\" loading=\"lazy\" src=\"https://s.pstatic.net/static/newsstand/up/2020/0708/nsd94830278.png\">        </a>        <div class=\"popup_wrap\">          <a href=\"#\" role=\"button\" class=\"btn_popup _NM_NEWSSTAND_THUMB_subscribe_press\" data-pid=\"073\" data-clk=\"sub\">구독</a>          <a href=\"#\" role=\"button\" class=\"btn_popup _NM_NEWSSTAND_THUMB_unsubscribe_press\" data-pid=\"073\" data-clk=\"unsub\" style=\"display: none;\">해지</a>          <a href=\"http://newsstand.naver.com/?list=&amp;pcode=073\" target=\"_blank\" class=\"btn_popup\" data-pid=\"073\" data-clk=\"logo\">기사보기</a>        </div>      </div>      <div class=\"thumb_box _NM_NEWSSTAND_THUMB _NM_NEWSSTAND_THUMB_press_valid\" data-pid=\"057\">        <a href=\"#\" class=\"thumb\">          <img height=\"20\" alt=\"MBN\" class=\"news_logo\" loading=\"lazy\" src=\"https://s.pstatic.net/static/newsstand/2020/logo/light/0604/057.png\">        </a>        <div class=\"popup_wrap\">          <a href=\"#\" role=\"button\" class=\"btn_popup _NM_NEWSSTAND_THUMB_subscribe_press\" data-pid=\"057\" data-clk=\"sub\">구독</a>          <a href=\"#\" role=\"button\" class=\"btn_popup _NM_NEWSSTAND_THUMB_unsubscribe_press\" data-pid=\"057\" data-clk=\"unsub\" style=\"display: none;\">해지</a>          <a href=\"http://newsstand.naver.com/?list=&amp;pcode=057\" target=\"_blank\" class=\"btn_popup\" data-pid=\"057\" data-clk=\"logo\">기사보기</a>        </div>      </div>      <div class=\"thumb_box _NM_NEWSSTAND_THUMB _NM_NEWSSTAND_THUMB_press_valid\" data-pid=\"040\">        <a href=\"#\" class=\"thumb\">          <img height=\"20\" alt=\"코리아타임스\" class=\"news_logo\" loading=\"lazy\" src=\"https://s.pstatic.net/static/newsstand/2020/logo/light/0604/040.png\">        </a>        <div class=\"popup_wrap\">          <a href=\"#\" role=\"button\" class=\"btn_popup _NM_NEWSSTAND_THUMB_subscribe_press\" data-pid=\"040\" data-clk=\"sub\">구독</a>          <a href=\"#\" role=\"button\" class=\"btn_popup _NM_NEWSSTAND_THUMB_unsubscribe_press\" data-pid=\"040\" data-clk=\"unsub\" style=\"display: none;\">해지</a>          <a href=\"http://newsstand.naver.com/?list=&amp;pcode=040\" target=\"_blank\" class=\"btn_popup\" data-pid=\"040\" data-clk=\"logo\">기사보기</a>        </div>      </div>      <div class=\"thumb_box _NM_NEWSSTAND_THUMB _NM_NEWSSTAND_THUMB_press_valid\" data-pid=\"123\">        <a href=\"#\" class=\"thumb\">          <img height=\"20\" alt=\"조세일보\" class=\"news_logo\" loading=\"lazy\" src=\"https://s.pstatic.net/static/newsstand/2020/logo/light/0604/123.png\">        </a>        <div class=\"popup_wrap\">          <a href=\"#\" role=\"button\" class=\"btn_popup _NM_NEWSSTAND_THUMB_subscribe_press\" data-pid=\"123\" data-clk=\"sub\">구독</a>          <a href=\"#\" role=\"button\" class=\"btn_popup _NM_NEWSSTAND_THUMB_unsubscribe_press\" data-pid=\"123\" data-clk=\"unsub\" style=\"display: none;\">해지</a>          <a href=\"http://newsstand.naver.com/?list=&amp;pcode=123\" target=\"_blank\" class=\"btn_popup\" data-pid=\"123\" data-clk=\"logo\">기사보기</a>        </div>      </div>      <div class=\"thumb_box _NM_NEWSSTAND_THUMB _NM_NEWSSTAND_THUMB_press_valid\" data-pid=\"050\">        <a href=\"#\" class=\"thumb\">          <img height=\"20\" alt=\"한경비즈니스\" class=\"news_logo\" loading=\"lazy\" src=\"https://s.pstatic.net/static/newsstand/up/2020/0928/nsd125033437.png\">        </a>        <div class=\"popup_wrap\">          <a href=\"#\" role=\"button\" class=\"btn_popup _NM_NEWSSTAND_THUMB_subscribe_press\" data-pid=\"050\" data-clk=\"sub\">구독</a>          <a href=\"#\" role=\"button\" class=\"btn_popup _NM_NEWSSTAND_THUMB_unsubscribe_press\" data-pid=\"050\" data-clk=\"unsub\" style=\"display: none;\">해지</a>          <a href=\"http://newsstand.naver.com/?list=&amp;pcode=050\" target=\"_blank\" class=\"btn_popup\" data-pid=\"050\" data-clk=\"logo\">기사보기</a>        </div>      </div>      <div class=\"thumb_box _NM_NEWSSTAND_THUMB _NM_NEWSSTAND_THUMB_press_valid\" data-pid=\"813\">        <a href=\"#\" class=\"thumb\">          <img height=\"20\" alt=\"이코노믹리뷰\" class=\"news_logo\" loading=\"lazy\" src=\"https://s.pstatic.net/static/newsstand/up/2020/1228/nsd102538785.png\">        </a>        <div class=\"popup_wrap\">          <a href=\"#\" role=\"button\" class=\"btn_popup _NM_NEWSSTAND_THUMB_subscribe_press\" data-pid=\"813\" data-clk=\"sub\">구독</a>          <a href=\"#\" role=\"button\" class=\"btn_popup _NM_NEWSSTAND_THUMB_unsubscribe_press\" data-pid=\"813\" data-clk=\"unsub\" style=\"display: none;\">해지</a>          <a href=\"http://newsstand.naver.com/?list=&amp;pcode=813\" target=\"_blank\" class=\"btn_popup\" data-pid=\"813\" data-clk=\"logo\">기사보기</a>        </div>      </div>      <div class=\"thumb_box _NM_NEWSSTAND_THUMB _NM_NEWSSTAND_THUMB_press_valid\" data-pid=\"915\">        <a href=\"#\" class=\"thumb\">          <img height=\"20\" alt=\"르몽드 디플로마티크\" class=\"news_logo\" loading=\"lazy\" src=\"https://s.pstatic.net/static/newsstand/2020/logo/light/0604/915.png\">        </a>        <div class=\"popup_wrap\">          <a href=\"#\" role=\"button\" class=\"btn_popup _NM_NEWSSTAND_THUMB_subscribe_press\" data-pid=\"915\" data-clk=\"sub\">구독</a>          <a href=\"#\" role=\"button\" class=\"btn_popup _NM_NEWSSTAND_THUMB_unsubscribe_press\" data-pid=\"915\" data-clk=\"unsub\" style=\"display: none;\">해지</a>          <a href=\"http://newsstand.naver.com/?list=&amp;pcode=915\" target=\"_blank\" class=\"btn_popup\" data-pid=\"915\" data-clk=\"logo\">기사보기</a>        </div>      </div>      <div class=\"thumb_box _NM_NEWSSTAND_THUMB _NM_NEWSSTAND_THUMB_press_valid\" data-pid=\"990\">        <a href=\"#\" class=\"thumb\">          <img height=\"20\" alt=\"주간조선\" class=\"news_logo\" loading=\"lazy\" src=\"https://s.pstatic.net/static/newsstand/2020/logo/light/0604/990.png\">        </a>        <div class=\"popup_wrap\">          <a href=\"#\" role=\"button\" class=\"btn_popup _NM_NEWSSTAND_THUMB_subscribe_press\" data-pid=\"990\" data-clk=\"sub\">구독</a>          <a href=\"#\" role=\"button\" class=\"btn_popup _NM_NEWSSTAND_THUMB_unsubscribe_press\" data-pid=\"990\" data-clk=\"unsub\" style=\"display: none;\">해지</a>          <a href=\"http://newsstand.naver.com/?list=&amp;pcode=990\" target=\"_blank\" class=\"btn_popup\" data-pid=\"990\" data-clk=\"logo\">기사보기</a>        </div>      </div>      <div class=\"thumb_box _NM_NEWSSTAND_THUMB _NM_NEWSSTAND_THUMB_press_valid\" data-pid=\"986\">        <a href=\"#\" class=\"thumb\">          <img height=\"20\" alt=\"투데이신문\" class=\"news_logo\" loading=\"lazy\" src=\"https://s.pstatic.net/static/newsstand/up/2020/1019/nsd144531857.png\">        </a>        <div class=\"popup_wrap\">          <a href=\"#\" role=\"button\" class=\"btn_popup _NM_NEWSSTAND_THUMB_subscribe_press\" data-pid=\"986\" data-clk=\"sub\">구독</a>          <a href=\"#\" role=\"button\" class=\"btn_popup _NM_NEWSSTAND_THUMB_unsubscribe_press\" data-pid=\"986\" data-clk=\"unsub\" style=\"display: none;\">해지</a>          <a href=\"http://newsstand.naver.com/?list=&amp;pcode=986\" target=\"_blank\" class=\"btn_popup\" data-pid=\"986\" data-clk=\"logo\">기사보기</a>        </div>      </div>      <div class=\"thumb_box _NM_NEWSSTAND_THUMB _NM_NEWSSTAND_THUMB_press_valid\" data-pid=\"328\">        <a href=\"#\" class=\"thumb\">          <img height=\"20\" alt=\"에이블뉴스\" class=\"news_logo\" loading=\"lazy\" src=\"https://s.pstatic.net/static/newsstand/2020/logo/light/0604/328.png\">        </a>        <div class=\"popup_wrap\">          <a href=\"#\" role=\"button\" class=\"btn_popup _NM_NEWSSTAND_THUMB_subscribe_press\" data-pid=\"328\" data-clk=\"sub\">구독</a>          <a href=\"#\" role=\"button\" class=\"btn_popup _NM_NEWSSTAND_THUMB_unsubscribe_press\" data-pid=\"328\" data-clk=\"unsub\" style=\"display: none;\">해지</a>          <a href=\"http://newsstand.naver.com/?list=&amp;pcode=328\" target=\"_blank\" class=\"btn_popup\" data-pid=\"328\" data-clk=\"logo\">기사보기</a>        </div>      </div>      <div class=\"thumb_box _NM_NEWSSTAND_THUMB _NM_NEWSSTAND_THUMB_press_valid\" data-pid=\"823\">        <a href=\"#\" class=\"thumb\">          <img height=\"20\" alt=\"UPI뉴스\" class=\"news_logo\" loading=\"lazy\" src=\"https://s.pstatic.net/static/newsstand/2020/logo/light/0604/823.png\">        </a>        <div class=\"popup_wrap\">          <a href=\"#\" role=\"button\" class=\"btn_popup _NM_NEWSSTAND_THUMB_subscribe_press\" data-pid=\"823\" data-clk=\"sub\">구독</a>          <a href=\"#\" role=\"button\" class=\"btn_popup _NM_NEWSSTAND_THUMB_unsubscribe_press\" data-pid=\"823\" data-clk=\"unsub\" style=\"display: none;\">해지</a>          <a href=\"http://newsstand.naver.com/?list=&amp;pcode=823\" target=\"_blank\" class=\"btn_popup\" data-pid=\"823\" data-clk=\"logo\">기사보기</a>        </div>      </div>    </div>  </div></div><div style=\"width: 750px; float: left;\">  <div class=\"tile_view\">    <div class=\"frame_area\">      <i class=\"line to_right1\"></i>      <i class=\"line to_right2\"></i>      <i class=\"line to_right3\"></i>      <i class=\"line to_bottom1\"></i>      <i class=\"line to_bottom2\"></i>      <i class=\"line to_bottom3\"></i>      <i class=\"line to_bottom4\"></i>      <i class=\"line to_bottom5\"></i>    </div>    <div class=\"thumb_area\">      <div class=\"thumb_box _NM_NEWSSTAND_THUMB _NM_NEWSSTAND_THUMB_press_valid\" data-pid=\"016\">        <a href=\"#\" class=\"thumb\">          <img height=\"20\" alt=\"헤럴드경제\" class=\"news_logo\" loading=\"lazy\" src=\"https://s.pstatic.net/static/newsstand/2020/logo/light/0604/016.png\">        </a>        <div class=\"popup_wrap\">          <a href=\"#\" role=\"button\" class=\"btn_popup _NM_NEWSSTAND_THUMB_subscribe_press\" data-pid=\"016\" data-clk=\"sub\">구독</a>          <a href=\"#\" role=\"button\" class=\"btn_popup _NM_NEWSSTAND_THUMB_unsubscribe_press\" data-pid=\"016\" data-clk=\"unsub\" style=\"display: none;\">해지</a>          <a href=\"http://newsstand.naver.com/?list=&amp;pcode=016\" target=\"_blank\" class=\"btn_popup\" data-pid=\"016\" data-clk=\"logo\">기사보기</a>        </div>      </div>      <div class=\"thumb_box _NM_NEWSSTAND_THUMB _NM_NEWSSTAND_THUMB_press_valid\" data-pid=\"055\">        <a href=\"#\" class=\"thumb\">          <img height=\"20\" alt=\"SBS\" class=\"news_logo\" loading=\"lazy\" src=\"https://s.pstatic.net/static/newsstand/2020/logo/light/0604/055.png\">        </a>        <div class=\"popup_wrap\">          <a href=\"#\" role=\"button\" class=\"btn_popup _NM_NEWSSTAND_THUMB_subscribe_press\" data-pid=\"055\" data-clk=\"sub\">구독</a>          <a href=\"#\" role=\"button\" class=\"btn_popup _NM_NEWSSTAND_THUMB_unsubscribe_press\" data-pid=\"055\" data-clk=\"unsub\" style=\"display: none;\">해지</a>          <a href=\"http://newsstand.naver.com/?list=&amp;pcode=055\" target=\"_blank\" class=\"btn_popup\" data-pid=\"055\" data-clk=\"logo\">기사보기</a>        </div>      </div>      <div class=\"thumb_box _NM_NEWSSTAND_THUMB _NM_NEWSSTAND_THUMB_press_valid\" data-pid=\"293\">        <a href=\"#\" class=\"thumb\">          <img height=\"20\" alt=\"블로터\" class=\"news_logo\" loading=\"lazy\" src=\"https://s.pstatic.net/static/newsstand/2020/logo/light/0604/293.png\">        </a>        <div class=\"popup_wrap\">          <a href=\"#\" role=\"button\" class=\"btn_popup _NM_NEWSSTAND_THUMB_subscribe_press\" data-pid=\"293\" data-clk=\"sub\">구독</a>          <a href=\"#\" role=\"button\" class=\"btn_popup _NM_NEWSSTAND_THUMB_unsubscribe_press\" data-pid=\"293\" data-clk=\"unsub\" style=\"display: none;\">해지</a>          <a href=\"http://newsstand.naver.com/?list=&amp;pcode=293\" target=\"_blank\" class=\"btn_popup\" data-pid=\"293\" data-clk=\"logo\">기사보기</a>        </div>      </div>      <div class=\"thumb_box _NM_NEWSSTAND_THUMB _NM_NEWSSTAND_THUMB_press_valid\" data-pid=\"032\">        <a href=\"#\" class=\"thumb\">          <img height=\"20\" alt=\"경향신문\" class=\"news_logo\" loading=\"lazy\" src=\"https://s.pstatic.net/static/newsstand/2020/logo/light/0604/032.png\">        </a>        <div class=\"popup_wrap\">          <a href=\"#\" role=\"button\" class=\"btn_popup _NM_NEWSSTAND_THUMB_subscribe_press\" data-pid=\"032\" data-clk=\"sub\">구독</a>          <a href=\"#\" role=\"button\" class=\"btn_popup _NM_NEWSSTAND_THUMB_unsubscribe_press\" data-pid=\"032\" data-clk=\"unsub\" style=\"display: none;\">해지</a>          <a href=\"http://newsstand.naver.com/?list=&amp;pcode=032\" target=\"_blank\" class=\"btn_popup\" data-pid=\"032\" data-clk=\"logo\">기사보기</a>        </div>      </div>      <div class=\"thumb_box _NM_NEWSSTAND_THUMB _NM_NEWSSTAND_THUMB_press_valid\" data-pid=\"028\">        <a href=\"#\" class=\"thumb\">          <img height=\"20\" alt=\"한겨레\" class=\"news_logo\" loading=\"lazy\" src=\"https://s.pstatic.net/static/newsstand/2020/logo/light/0604/028.png\">        </a>        <div class=\"popup_wrap\">          <a href=\"#\" role=\"button\" class=\"btn_popup _NM_NEWSSTAND_THUMB_subscribe_press\" data-pid=\"028\" data-clk=\"sub\">구독</a>          <a href=\"#\" role=\"button\" class=\"btn_popup _NM_NEWSSTAND_THUMB_unsubscribe_press\" data-pid=\"028\" data-clk=\"unsub\" style=\"display: none;\">해지</a>          <a href=\"http://newsstand.naver.com/?list=&amp;pcode=028\" target=\"_blank\" class=\"btn_popup\" data-pid=\"028\" data-clk=\"logo\">기사보기</a>        </div>      </div>      <div class=\"thumb_box _NM_NEWSSTAND_THUMB _NM_NEWSSTAND_THUMB_press_valid\" data-pid=\"022\">        <a href=\"#\" class=\"thumb\">          <img height=\"20\" alt=\"세계일보\" class=\"news_logo\" loading=\"lazy\" src=\"https://s.pstatic.net/static/newsstand/2020/logo/light/0604/022.png\">        </a>        <div class=\"popup_wrap\">          <a href=\"#\" role=\"button\" class=\"btn_popup _NM_NEWSSTAND_THUMB_subscribe_press\" data-pid=\"022\" data-clk=\"sub\">구독</a>          <a href=\"#\" role=\"button\" class=\"btn_popup _NM_NEWSSTAND_THUMB_unsubscribe_press\" data-pid=\"022\" data-clk=\"unsub\" style=\"display: none;\">해지</a>          <a href=\"http://newsstand.naver.com/?list=&amp;pcode=022\" target=\"_blank\" class=\"btn_popup\" data-pid=\"022\" data-clk=\"logo\">기사보기</a>        </div>      </div>      <div class=\"thumb_box _NM_NEWSSTAND_THUMB _NM_NEWSSTAND_THUMB_press_valid\" data-pid=\"081\">        <a href=\"#\" class=\"thumb\">          <img height=\"20\" alt=\"서울신문\" class=\"news_logo\" loading=\"lazy\" src=\"https://s.pstatic.net/static/newsstand/up/2022/0208/nsd16121208.png\">        </a>        <div class=\"popup_wrap\">          <a href=\"#\" role=\"button\" class=\"btn_popup _NM_NEWSSTAND_THUMB_subscribe_press\" data-pid=\"081\" data-clk=\"sub\">구독</a>          <a href=\"#\" role=\"button\" class=\"btn_popup _NM_NEWSSTAND_THUMB_unsubscribe_press\" data-pid=\"081\" data-clk=\"unsub\" style=\"display: none;\">해지</a>          <a href=\"http://newsstand.naver.com/?list=&amp;pcode=081\" target=\"_blank\" class=\"btn_popup\" data-pid=\"081\" data-clk=\"logo\">기사보기</a>        </div>      </div>      <div class=\"thumb_box _NM_NEWSSTAND_THUMB _NM_NEWSSTAND_THUMB_press_valid\" data-pid=\"827\">        <a href=\"#\" class=\"thumb\">          <img height=\"20\" alt=\"베이비뉴스\" class=\"news_logo\" loading=\"lazy\" src=\"https://s.pstatic.net/static/newsstand/up/2021/0222/nsd13325188.png\">        </a>        <div class=\"popup_wrap\">          <a href=\"#\" role=\"button\" class=\"btn_popup _NM_NEWSSTAND_THUMB_subscribe_press\" data-pid=\"827\" data-clk=\"sub\">구독</a>          <a href=\"#\" role=\"button\" class=\"btn_popup _NM_NEWSSTAND_THUMB_unsubscribe_press\" data-pid=\"827\" data-clk=\"unsub\" style=\"display: none;\">해지</a>          <a href=\"http://newsstand.naver.com/?list=&amp;pcode=827\" target=\"_blank\" class=\"btn_popup\" data-pid=\"827\" data-clk=\"logo\">기사보기</a>        </div>      </div>      <div class=\"thumb_box _NM_NEWSSTAND_THUMB _NM_NEWSSTAND_THUMB_press_valid\" data-pid=\"943\">        <a href=\"#\" class=\"thumb\">          <img height=\"20\" alt=\"비즈니스워치\" class=\"news_logo\" loading=\"lazy\" src=\"https://s.pstatic.net/static/newsstand/up/2021/0329/nsd101654480.png\">        </a>        <div class=\"popup_wrap\">          <a href=\"#\" role=\"button\" class=\"btn_popup _NM_NEWSSTAND_THUMB_subscribe_press\" data-pid=\"943\" data-clk=\"sub\">구독</a>          <a href=\"#\" role=\"button\" class=\"btn_popup _NM_NEWSSTAND_THUMB_unsubscribe_press\" data-pid=\"943\" data-clk=\"unsub\" style=\"display: none;\">해지</a>          <a href=\"http://newsstand.naver.com/?list=&amp;pcode=943\" target=\"_blank\" class=\"btn_popup\" data-pid=\"943\" data-clk=\"logo\">기사보기</a>        </div>      </div>      <div class=\"thumb_box _NM_NEWSSTAND_THUMB _NM_NEWSSTAND_THUMB_press_valid\" data-pid=\"971\">        <a href=\"#\" class=\"thumb\">          <img height=\"20\" alt=\"일요시사\" class=\"news_logo\" loading=\"lazy\" src=\"https://s.pstatic.net/static/newsstand/2020/logo/light/0604/971.png\">        </a>        <div class=\"popup_wrap\">          <a href=\"#\" role=\"button\" class=\"btn_popup _NM_NEWSSTAND_THUMB_subscribe_press\" data-pid=\"971\" data-clk=\"sub\">구독</a>          <a href=\"#\" role=\"button\" class=\"btn_popup _NM_NEWSSTAND_THUMB_unsubscribe_press\" data-pid=\"971\" data-clk=\"unsub\" style=\"display: none;\">해지</a>          <a href=\"http://newsstand.naver.com/?list=&amp;pcode=971\" target=\"_blank\" class=\"btn_popup\" data-pid=\"971\" data-clk=\"logo\">기사보기</a>        </div>      </div>      <div class=\"thumb_box _NM_NEWSSTAND_THUMB _NM_NEWSSTAND_THUMB_press_valid\" data-pid=\"826\">        <a href=\"#\" class=\"thumb\">          <img height=\"20\" alt=\"톱데일리\" class=\"news_logo\" loading=\"lazy\" src=\"https://s.pstatic.net/static/newsstand/2020/logo/light/0604/826.png\">        </a>        <div class=\"popup_wrap\">          <a href=\"#\" role=\"button\" class=\"btn_popup _NM_NEWSSTAND_THUMB_subscribe_press\" data-pid=\"826\" data-clk=\"sub\">구독</a>          <a href=\"#\" role=\"button\" class=\"btn_popup _NM_NEWSSTAND_THUMB_unsubscribe_press\" data-pid=\"826\" data-clk=\"unsub\" style=\"display: none;\">해지</a>          <a href=\"http://newsstand.naver.com/?list=&amp;pcode=826\" target=\"_blank\" class=\"btn_popup\" data-pid=\"826\" data-clk=\"logo\">기사보기</a>        </div>      </div>      <div class=\"thumb_box _NM_NEWSSTAND_THUMB _NM_NEWSSTAND_THUMB_press_valid\" data-pid=\"310\">        <a href=\"#\" class=\"thumb\">          <img height=\"20\" alt=\"여성신문\" class=\"news_logo\" loading=\"lazy\" src=\"https://s.pstatic.net/static/newsstand/2020/logo/light/0604/310.png\">        </a>        <div class=\"popup_wrap\">          <a href=\"#\" role=\"button\" class=\"btn_popup _NM_NEWSSTAND_THUMB_subscribe_press\" data-pid=\"310\" data-clk=\"sub\">구독</a>          <a href=\"#\" role=\"button\" class=\"btn_popup _NM_NEWSSTAND_THUMB_unsubscribe_press\" data-pid=\"310\" data-clk=\"unsub\" style=\"display: none;\">해지</a>          <a href=\"http://newsstand.naver.com/?list=&amp;pcode=310\" target=\"_blank\" class=\"btn_popup\" data-pid=\"310\" data-clk=\"logo\">기사보기</a>        </div>      </div>      <div class=\"thumb_box _NM_NEWSSTAND_THUMB _NM_NEWSSTAND_THUMB_press_valid\" data-pid=\"122\">        <a href=\"#\" class=\"thumb\">          <img height=\"20\" alt=\"법률신문\" class=\"news_logo\" loading=\"lazy\" src=\"https://s.pstatic.net/static/newsstand/2020/logo/light/0604/122.png\">        </a>        <div class=\"popup_wrap\">          <a href=\"#\" role=\"button\" class=\"btn_popup _NM_NEWSSTAND_THUMB_subscribe_press\" data-pid=\"122\" data-clk=\"sub\">구독</a>          <a href=\"#\" role=\"button\" class=\"btn_popup _NM_NEWSSTAND_THUMB_unsubscribe_press\" data-pid=\"122\" data-clk=\"unsub\" style=\"display: none;\">해지</a>          <a href=\"http://newsstand.naver.com/?list=&amp;pcode=122\" target=\"_blank\" class=\"btn_popup\" data-pid=\"122\" data-clk=\"logo\">기사보기</a>        </div>      </div>      <div class=\"thumb_box _NM_NEWSSTAND_THUMB _NM_NEWSSTAND_THUMB_press_valid\" data-pid=\"963\">        <a href=\"#\" class=\"thumb\">          <img height=\"20\" alt=\"에너지경제\" class=\"news_logo\" loading=\"lazy\" src=\"https://s.pstatic.net/static/newsstand/2020/logo/light/0604/963.png\">        </a>        <div class=\"popup_wrap\">          <a href=\"#\" role=\"button\" class=\"btn_popup _NM_NEWSSTAND_THUMB_subscribe_press\" data-pid=\"963\" data-clk=\"sub\">구독</a>          <a href=\"#\" role=\"button\" class=\"btn_popup _NM_NEWSSTAND_THUMB_unsubscribe_press\" data-pid=\"963\" data-clk=\"unsub\" style=\"display: none;\">해지</a>          <a href=\"http://newsstand.naver.com/?list=&amp;pcode=963\" target=\"_blank\" class=\"btn_popup\" data-pid=\"963\" data-clk=\"logo\">기사보기</a>        </div>      </div>      <div class=\"thumb_box _NM_NEWSSTAND_THUMB _NM_NEWSSTAND_THUMB_press_valid\" data-pid=\"830\">        <a href=\"#\" class=\"thumb\">          <img height=\"20\" alt=\"게임동아\" class=\"news_logo\" loading=\"lazy\" src=\"https://s.pstatic.net/static/newsstand/up/2021/0211/nsd02321523.png\">        </a>        <div class=\"popup_wrap\">          <a href=\"#\" role=\"button\" class=\"btn_popup _NM_NEWSSTAND_THUMB_subscribe_press\" data-pid=\"830\" data-clk=\"sub\">구독</a>          <a href=\"#\" role=\"button\" class=\"btn_popup _NM_NEWSSTAND_THUMB_unsubscribe_press\" data-pid=\"830\" data-clk=\"unsub\" style=\"display: none;\">해지</a>          <a href=\"http://newsstand.naver.com/?list=&amp;pcode=830\" target=\"_blank\" class=\"btn_popup\" data-pid=\"830\" data-clk=\"logo\">기사보기</a>        </div>      </div>      <div class=\"thumb_box _NM_NEWSSTAND_THUMB _NM_NEWSSTAND_THUMB_press_valid\" data-pid=\"825\">        <a href=\"#\" class=\"thumb\">          <img height=\"20\" alt=\"이로운넷\" class=\"news_logo\" loading=\"lazy\" src=\"https://s.pstatic.net/static/newsstand/2020/logo/light/0604/825.png\">        </a>        <div class=\"popup_wrap\">          <a href=\"#\" role=\"button\" class=\"btn_popup _NM_NEWSSTAND_THUMB_subscribe_press\" data-pid=\"825\" data-clk=\"sub\">구독</a>          <a href=\"#\" role=\"button\" class=\"btn_popup _NM_NEWSSTAND_THUMB_unsubscribe_press\" data-pid=\"825\" data-clk=\"unsub\" style=\"display: none;\">해지</a>          <a href=\"http://newsstand.naver.com/?list=&amp;pcode=825\" target=\"_blank\" class=\"btn_popup\" data-pid=\"825\" data-clk=\"logo\">기사보기</a>        </div>      </div>      <div class=\"thumb_box _NM_NEWSSTAND_THUMB _NM_NEWSSTAND_THUMB_press_valid\" data-pid=\"808\">        <a href=\"#\" class=\"thumb\">          <img height=\"20\" alt=\"산업일보\" class=\"news_logo\" loading=\"lazy\" src=\"https://s.pstatic.net/static/newsstand/2020/logo/light/0604/808.png\">        </a>        <div class=\"popup_wrap\">          <a href=\"#\" role=\"button\" class=\"btn_popup _NM_NEWSSTAND_THUMB_subscribe_press\" data-pid=\"808\" data-clk=\"sub\">구독</a>          <a href=\"#\" role=\"button\" class=\"btn_popup _NM_NEWSSTAND_THUMB_unsubscribe_press\" data-pid=\"808\" data-clk=\"unsub\" style=\"display: none;\">해지</a>          <a href=\"http://newsstand.naver.com/?list=&amp;pcode=808\" target=\"_blank\" class=\"btn_popup\" data-pid=\"808\" data-clk=\"logo\">기사보기</a>        </div>      </div>      <div class=\"thumb_box _NM_NEWSSTAND_THUMB _NM_NEWSSTAND_THUMB_press_valid\" data-pid=\"440\">        <a href=\"#\" class=\"thumb\">          <img height=\"20\" alt=\"티브이데일리\" class=\"news_logo\" loading=\"lazy\" src=\"https://s.pstatic.net/static/newsstand/2020/logo/light/0604/440.png\">        </a>        <div class=\"popup_wrap\">          <a href=\"#\" role=\"button\" class=\"btn_popup _NM_NEWSSTAND_THUMB_subscribe_press\" data-pid=\"440\" data-clk=\"sub\">구독</a>          <a href=\"#\" role=\"button\" class=\"btn_popup _NM_NEWSSTAND_THUMB_unsubscribe_press\" data-pid=\"440\" data-clk=\"unsub\" style=\"display: none;\">해지</a>          <a href=\"http://newsstand.naver.com/?list=&amp;pcode=440\" target=\"_blank\" class=\"btn_popup\" data-pid=\"440\" data-clk=\"logo\">기사보기</a>        </div>      </div>      <div class=\"thumb_box _NM_NEWSSTAND_THUMB _NM_NEWSSTAND_THUMB_press_valid\" data-pid=\"972\">        <a href=\"#\" class=\"thumb\">          <img height=\"20\" alt=\"PD저널\" class=\"news_logo\" loading=\"lazy\" src=\"https://s.pstatic.net/static/newsstand/2020/logo/light/0604/972.png\">        </a>        <div class=\"popup_wrap\">          <a href=\"#\" role=\"button\" class=\"btn_popup _NM_NEWSSTAND_THUMB_subscribe_press\" data-pid=\"972\" data-clk=\"sub\">구독</a>          <a href=\"#\" role=\"button\" class=\"btn_popup _NM_NEWSSTAND_THUMB_unsubscribe_press\" data-pid=\"972\" data-clk=\"unsub\" style=\"display: none;\">해지</a>          <a href=\"http://newsstand.naver.com/?list=&amp;pcode=972\" target=\"_blank\" class=\"btn_popup\" data-pid=\"972\" data-clk=\"logo\">기사보기</a>        </div>      </div>      <div class=\"thumb_box _NM_NEWSSTAND_THUMB _NM_NEWSSTAND_THUMB_press_valid\" data-pid=\"981\">        <a href=\"#\" class=\"thumb\">          <img height=\"20\" alt=\"TBS\" class=\"news_logo\" loading=\"lazy\" src=\"https://s.pstatic.net/static/newsstand/2020/logo/light/0604/981.png\">        </a>        <div class=\"popup_wrap\">          <a href=\"#\" role=\"button\" class=\"btn_popup _NM_NEWSSTAND_THUMB_subscribe_press\" data-pid=\"981\" data-clk=\"sub\">구독</a>          <a href=\"#\" role=\"button\" class=\"btn_popup _NM_NEWSSTAND_THUMB_unsubscribe_press\" data-pid=\"981\" data-clk=\"unsub\" style=\"display: none;\">해지</a>          <a href=\"http://newsstand.naver.com/?list=&amp;pcode=981\" target=\"_blank\" class=\"btn_popup\" data-pid=\"981\" data-clk=\"logo\">기사보기</a>        </div>      </div>      <div class=\"thumb_box _NM_NEWSSTAND_THUMB _NM_NEWSSTAND_THUMB_press_valid\" data-pid=\"809\">        <a href=\"#\" class=\"thumb\">          <img height=\"20\" alt=\"미디어펜\" class=\"news_logo\" loading=\"lazy\" src=\"https://s.pstatic.net/static/newsstand/2020/logo/light/0604/809.png\">        </a>        <div class=\"popup_wrap\">          <a href=\"#\" role=\"button\" class=\"btn_popup _NM_NEWSSTAND_THUMB_subscribe_press\" data-pid=\"809\" data-clk=\"sub\">구독</a>          <a href=\"#\" role=\"button\" class=\"btn_popup _NM_NEWSSTAND_THUMB_unsubscribe_press\" data-pid=\"809\" data-clk=\"unsub\" style=\"display: none;\">해지</a>          <a href=\"http://newsstand.naver.com/?list=&amp;pcode=809\" target=\"_blank\" class=\"btn_popup\" data-pid=\"809\" data-clk=\"logo\">기사보기</a>        </div>      </div>      <div class=\"thumb_box _NM_NEWSSTAND_THUMB _NM_NEWSSTAND_THUMB_press_valid\" data-pid=\"416\">        <a href=\"#\" class=\"thumb\">          <img height=\"20\" alt=\"SBS연예뉴스\" class=\"news_logo\" loading=\"lazy\" src=\"https://s.pstatic.net/static/newsstand/up/2020/1228/nsd1681569.png\">        </a>        <div class=\"popup_wrap\">          <a href=\"#\" role=\"button\" class=\"btn_popup _NM_NEWSSTAND_THUMB_subscribe_press\" data-pid=\"416\" data-clk=\"sub\">구독</a>          <a href=\"#\" role=\"button\" class=\"btn_popup _NM_NEWSSTAND_THUMB_unsubscribe_press\" data-pid=\"416\" data-clk=\"unsub\" style=\"display: none;\">해지</a>          <a href=\"http://newsstand.naver.com/?list=&amp;pcode=416\" target=\"_blank\" class=\"btn_popup\" data-pid=\"416\" data-clk=\"logo\">기사보기</a>        </div>      </div>      <div class=\"thumb_box _NM_NEWSSTAND_THUMB _NM_NEWSSTAND_THUMB_press_valid\" data-pid=\"828\">        <a href=\"#\" class=\"thumb\">          <img height=\"20\" alt=\"식품저널 foodnews\" class=\"news_logo\" loading=\"lazy\" src=\"https://s.pstatic.net/static/newsstand/up/2021/0211/nsd0427277.png\">        </a>        <div class=\"popup_wrap\">          <a href=\"#\" role=\"button\" class=\"btn_popup _NM_NEWSSTAND_THUMB_subscribe_press\" data-pid=\"828\" data-clk=\"sub\">구독</a>          <a href=\"#\" role=\"button\" class=\"btn_popup _NM_NEWSSTAND_THUMB_unsubscribe_press\" data-pid=\"828\" data-clk=\"unsub\" style=\"display: none;\">해지</a>          <a href=\"http://newsstand.naver.com/?list=&amp;pcode=828\" target=\"_blank\" class=\"btn_popup\" data-pid=\"828\" data-clk=\"logo\">기사보기</a>        </div>      </div>      <div class=\"thumb_box _NM_NEWSSTAND_THUMB _NM_NEWSSTAND_THUMB_press_valid\" data-pid=\"384\">        <a href=\"#\" class=\"thumb\">          <img height=\"20\" alt=\"한국대학신문\" class=\"news_logo\" loading=\"lazy\" src=\"https://s.pstatic.net/static/newsstand/2020/logo/light/0604/384.png\">        </a>        <div class=\"popup_wrap\">          <a href=\"#\" role=\"button\" class=\"btn_popup _NM_NEWSSTAND_THUMB_subscribe_press\" data-pid=\"384\" data-clk=\"sub\">구독</a>          <a href=\"#\" role=\"button\" class=\"btn_popup _NM_NEWSSTAND_THUMB_unsubscribe_press\" data-pid=\"384\" data-clk=\"unsub\" style=\"display: none;\">해지</a>          <a href=\"http://newsstand.naver.com/?list=&amp;pcode=384\" target=\"_blank\" class=\"btn_popup\" data-pid=\"384\" data-clk=\"logo\">기사보기</a>        </div>      </div>    </div>  </div></div></div> <div class=\"ly_popup NM_NEWSSTAND_POPUP NM_NEWSSTAND_invalid\" style=\"display:none\"> <a href=\"#\" role=\"button\" class=\"btn_close NM_NEWSSTAND_POPUP_CLOSE\"><i class=\"ico_close\"></i><span class=\"blind\">닫기</span></a> <p class=\"popup_msg\">해당 언론사 사정으로 접근이 제한됩니다.</p> <div class=\"popup_btn\"> <a href=\"#\" role=\"button\" class=\"btn_confirm NM_NEWSSTAND_POPUP_CLOSE\">확인</a> </div> </div> <div class=\"ly_popup NM_NEWSSTAND_POPUP NM_NEWSSTAND_undescribe_confirm\" style=\"display:none\" data-clk-sub=\"*a\"> <a href=\"#\" role=\"button\" class=\"btn_close NM_NEWSSTAND_POPUP_CLOSE\" data-clk=\"usclose\"><i class=\"ico_close\"></i><span class=\"blind\">닫기</span></a> <p class=\"popup_msg\"><strong class=\"NM_NEWSSTAND_POPUP_PNAME\"></strong>을(를)<br>구독해지 하시겠습니까?</p> <div class=\"popup_btn\"> <a href=\"#\" role=\"button\" class=\"btn_confirm NM_NEWSSTAND_POPUP_CONFIRM\" data-clk=\"usdone\">확인</a> <a href=\"#\" role=\"button\" class=\"btn_confirm NM_NEWSSTAND_POPUP_CLOSE\" data-clk=\"uscancel\">취소</a> </div> </div> <div class=\"ly_toast NM_NEWSSTAND_TOAST\" style=\"display:none\"> <p class=\"toast_msg\">구독한 언론사에 추가되었습니다.</p> </div> </div> <div id=\"NM_NEWSSTAND_MY_LIST\" class=\"group_news\" style=\"display:none\" data-clk-prefix=\"nsd_myn\"> <a href=\"#\" role=\"button\" class=\"pm_btn_prev_l _NM_NEWSSTAND_LIST_prev_btn\" data-clk-custom=\"prev\"><i class=\"ico_btn\"></i><span class=\"blind\">이전</span></a> <a href=\"#\" role=\"button\" class=\"pm_btn_next_l _NM_NEWSSTAND_LIST_next_btn\" data-clk-custom=\"next\"><i class=\"ico_btn\"></i><span class=\"blind\">다음</span><span class=\"blind\">다음</span></a> <div class=\"list_view\"> <div class=\"option_area\"> <div class=\"list_option_wrap\"> <ul class=\"list_option _NM_NEWSSTAND_MY_presslist\"> <!-- nvpaperlist:empty --> </ul> </div> </div> <div class=\"_NM_NEWSSTAND_ARTICLE_CONTAINER\" data-clk-sub=\"*a\">  </div> </div> <div class=\"ly_popup NM_NEWSSTAND_POPUP NM_NEWSSTAND_invalid\" style=\"display:none\"> <a href=\"#\" role=\"button\" class=\"btn_close NM_NEWSSTAND_POPUP_CLOSE\"><i class=\"ico_close\"></i><span class=\"blind\">닫기</span></a> <p class=\"popup_msg\">해당 언론사 사정으로 접근이 일시 제한됩니다.</p> <div class=\"popup_btn\"> <a href=\"#\" role=\"button\" class=\"btn_confirm NM_NEWSSTAND_POPUP_CLOSE\">확인</a> </div> </div> <div class=\"ly_popup NM_NEWSSTAND_POPUP NM_NEWSSTAND_undescribe_confirm\" style=\"display:none\" data-clk-sub=\"*a\"> <a href=\"#\" role=\"button\" class=\"btn_close NM_NEWSSTAND_POPUP_CLOSE\" data-clk=\"usclose\"><i class=\"ico_close\"></i><span class=\"blind\">닫기</span></a> <p class=\"popup_msg\"><strong class=\"NM_NEWSSTAND_POPUP_PNAME\"></strong>을(를)<br>구독해지 하시겠습니까?</p> <div class=\"popup_btn\"> <a href=\"#\" role=\"button\" class=\"btn_confirm NM_NEWSSTAND_POPUP_CONFIRM\" data-clk=\"usdone\">확인</a> <a href=\"#\" role=\"button\" class=\"btn_confirm NM_NEWSSTAND_POPUP_CLOSE\" data-clk=\"uscancel\">취소</a> </div> </div> </div> <div id=\"NM_NEWSSTAND_MY_THUMB\" class=\"group_news\" style=\"display:none\" data-clk-prefix=\"nsd_myn\"> <a href=\"#\" role=\"button\" class=\"pm_btn_prev_l _NM_UI_PAGE_PREV\" data-clk-custom=\"prev\"><i class=\"ico_btn\"><span class=\"blind\">이전</span></i></a> <a href=\"#\" role=\"button\" class=\"pm_btn_next_l _NM_UI_PAGE_NEXT\" data-clk-custom=\"next\"><i class=\"ico_btn\"><span class=\"blind\">다음</span></i></a> <div class=\"_NM_UI_PAGE_CONTAINER\" data-clk-sub=\"*p\"></div> <div class=\"ly_popup NM_NEWSSTAND_POPUP NM_NEWSSTAND_invalid\" style=\"display:none\"> <a href=\"#\" role=\"button\" class=\"btn_close NM_NEWSSTAND_POPUP_CLOSE\"><i class=\"ico_close\"></i><span class=\"blind\">닫기</span></a> <p class=\"popup_msg\">해당 언론사 사정으로 접근이 제한됩니다.</p> <div class=\"popup_btn\"> <a href=\"#\" role=\"button\" class=\"btn_confirm NM_NEWSSTAND_POPUP_CLOSE\">확인</a> </div> </div> <div class=\"ly_popup NM_NEWSSTAND_POPUP NM_NEWSSTAND_undescribe_confirm\" style=\"display:none\" data-clk-sub=\"*a\"> <a href=\"#\" role=\"button\" class=\"btn_close NM_NEWSSTAND_POPUP_CLOSE\" data-clk=\"usclose\"><i class=\"ico_close\"></i><span class=\"blind\">닫기</span></a> <p class=\"popup_msg\"><strong class=\"NM_NEWSSTAND_POPUP_PNAME\"></strong>을(를)<br>구독해지 하시겠습니까?</p> <div class=\"popup_btn\"> <a href=\"#\" role=\"button\" class=\"btn_confirm NM_NEWSSTAND_POPUP_CONFIRM\" data-clk=\"usdone\">확인</a> <a href=\"#\" role=\"button\" class=\"btn_confirm NM_NEWSSTAND_POPUP_CLOSE\" data-clk=\"uscancel\">취소</a> </div> </div> </div> <div id=\"NM_NEWSSTAND_MY_EMPTY\" class=\"group_news\" style=\"display:none\"> <div class=\"error_view\"> <div class=\"error_area\"> <strong class=\"error_msg\">구독한 언론사가 없습니다.</strong> <p class=\"dsc_msg\">언론사 구독 설정에서 관심있는 언론사를 구독하시면<br>언론사가 직접 편집한 뉴스들을 네이버 홈에서 바로 보실 수 있습니다.</p> <a href=\"http://newsstand.naver.com/config.html\" class=\"link_redirect\" target=\"_blank\">언론사 구독 설정하기</a> </div> </div> </div> </div> </div> <!-- EMPTY --> <div id=\"NM_THEMECAST_CONTENTS_CONTAINER\"> <div id=\"themecast\" class=\"sc_themecast id_beauty\">\\n\\t<h2 class=\"blind\">주제별 캐스트</h2>\\n\\t<div class=\"theme_head\">\\n\\t\\t<div class=\"group_title\">\\n\\t<div class=\"title_area\">\\n\\t\\t<strong class=\"title\">오늘 읽을만한 글</strong><span class=\"dsc\">주제별로 분류된 다양한 글 모음</span>\\n\\t</div>\\n\\t<div class=\"info_area\">\\n\\t\\t\\n\\t\\t\\t<span class=\"info\"><strong class=\"new\">710</strong> 개의 글</span>\\n\\t\\t\\n\\t\\t<a id=\"NM_THEME_EDIT_SET\" href=\"#\" role=\"button\" class=\"btn_set\" data-clk=\"tca.like\">관심주제 설정</a>\\n\\t</div>\\n</div>\\n<div id=\"NM_THEME_CATE_GROUPS\" class=\"group_category\" data-demo-key=\"default\">\\n\\t<div class=\"main_category\">\\n\\t\\t<a href=\"#\" role=\"button\" class=\"pm_btn_prev NM_THEME_PREV\" data-clk=\"tct.prev\" style=\"\">\\n\\t\\t\\t<i class=\"ico_btn\"><span class=\"blind\">이전</span></i>\\n\\t\\t</a>\\n\\t\\t<a href=\"#\" role=\"button\" class=\"pm_btn_next NM_THEME_NEXT\" data-clk=\"tct.next\" style=\"display: none;\">\\n\\t\\t\\t<i class=\"ico_btn\"><span class=\"blind\">다음</span></i>\\n\\t\\t</a>\\n\\t\\t<div class=\"list_category_wrap\">\\n\\t\\t\\t<ul id=\"NM_THEME_CATE_LIST\" class=\"list_category\" role=\"tablist\" data-index=\"0\" style=\"transform: translateX(-185px);\">\\n\\t\\t\\t\\t\\n\\t\\t\\t\\t\\t<li class=\"category_item\" role=\"presentation\">\\n\\t\\t\\t\\t\\t\\t\\n\\t\\t\\t\\t\\t\\t\\n\\t\\t\\t\\t\\t\\t<a href=\"#\" role=\"tab\" class=\"_NM_THEME_CATE tab id_enter\" aria-selected=\"false\" data-clk=\"tct.tvc\" data-panel-code=\"ENTER\">엔터</a>\\n\\t\\t\\t\\t\\t</li>\\n\\t\\t\\t\\t\\n\\t\\t\\t\\t\\t<li class=\"category_item\" role=\"presentation\">\\n\\t\\t\\t\\t\\t\\t\\n\\t\\t\\t\\t\\t\\t\\n\\t\\t\\t\\t\\t\\t<a href=\"#\" role=\"tab\" class=\"_NM_THEME_CATE tab id_sports\" aria-selected=\"false\" data-clk=\"tct.spo\" data-panel-code=\"SPORTS\">스포츠</a>\\n\\t\\t\\t\\t\\t</li>\\n\\t\\t\\t\\t\\n\\t\\t\\t\\t\\t<li class=\"category_item\" role=\"presentation\">\\n\\t\\t\\t\\t\\t\\t\\n\\t\\t\\t\\t\\t\\t\\n\\t\\t\\t\\t\\t\\t<a href=\"#\" role=\"tab\" class=\"_NM_THEME_CATE tab id_cargame\" aria-selected=\"false\" data-clk=\"tct.aut\" data-panel-code=\"CARGAME\">자동차</a>\\n\\t\\t\\t\\t\\t</li>\\n\\t\\t\\t\\t\\n\\t\\t\\t\\t\\t<li class=\"category_item\" role=\"presentation\">\\n\\t\\t\\t\\t\\t\\t\\n\\t\\t\\t\\t\\t\\t\\n\\t\\t\\t\\t\\t\\t<a href=\"#\" role=\"tab\" class=\"_NM_THEME_CATE tab id_bboom\" aria-selected=\"false\" data-clk=\"tct.web\" data-panel-code=\"BBOOM\">웹툰</a>\\n\\t\\t\\t\\t\\t</li>\\n\\t\\t\\t\\t\\n\\t\\t\\t\\t\\t<li class=\"category_item\" role=\"presentation\">\\n\\t\\t\\t\\t\\t\\t\\n\\t\\t\\t\\t\\t\\t\\n\\t\\t\\t\\t\\t\\t<a href=\"#\" role=\"tab\" class=\"_NM_THEME_CATE tab id_finance\" aria-selected=\"false\" data-clk=\"tct.fin\" data-panel-code=\"FINANCE\">경제M</a>\\n\\t\\t\\t\\t\\t</li>\\n\\t\\t\\t\\t\\n\\t\\t\\t\\t\\t<li class=\"category_item\" role=\"presentation\">\\n\\t\\t\\t\\t\\t\\t\\n\\t\\t\\t\\t\\t\\t\\n\\t\\t\\t\\t\\t\\t<a href=\"#\" role=\"tab\" class=\"_NM_THEME_CATE tab id_myfeed\" aria-selected=\"false\" data-clk=\"tct.sub\" data-panel-code=\"MYFEED\">추천<span class=\"ico_middot\"></span>구독</a>\\n\\t\\t\\t\\t\\t</li>\\n\\t\\t\\t\\t\\n\\t\\t\\t\\t\\t<li class=\"category_item\" role=\"presentation\">\\n\\t\\t\\t\\t\\t\\t\\n\\t\\t\\t\\t\\t\\t\\n\\t\\t\\t\\t\\t\\t<a href=\"#\" role=\"tab\" class=\"_NM_THEME_CATE tab id_living\" aria-selected=\"false\" data-clk=\"tct.fod\" data-panel-code=\"LIVING\">레시피</a>\\n\\t\\t\\t\\t\\t</li>\\n\\t\\t\\t\\t\\n\\t\\t\\t\\t\\t<li class=\"category_item\" role=\"presentation\">\\n\\t\\t\\t\\t\\t\\t\\n\\t\\t\\t\\t\\t\\t\\n\\t\\t\\t\\t\\t\\t<a href=\"#\" role=\"tab\" class=\"_NM_THEME_CATE tab id_livinghome\" aria-selected=\"false\" data-clk=\"tct.lif\" data-panel-code=\"LIVINGHOME\">리빙</a>\\n\\t\\t\\t\\t\\t</li>\\n\\t\\t\\t\\t\\n\\t\\t\\t\\t\\t<li class=\"category_item\" role=\"presentation\">\\n\\t\\t\\t\\t\\t\\t\\n\\t\\t\\t\\t\\t\\t\\n\\t\\t\\t\\t\\t\\t<a href=\"#\" role=\"tab\" class=\"_NM_THEME_CATE tab id_culture\" aria-selected=\"false\" data-clk=\"tct.bok\" data-panel-code=\"CULTURE\">책방</a>\\n\\t\\t\\t\\t\\t</li>\\n\\t\\t\\t\\t\\n\\t\\t\\t\\t\\t<li class=\"category_item\" role=\"presentation\">\\n\\t\\t\\t\\t\\t\\t\\n\\t\\t\\t\\t\\t\\t\\n\\t\\t\\t\\t\\t\\t<a href=\"#\" role=\"tab\" class=\"_NM_THEME_CATE tab id_beauty\" aria-selected=\"true\" data-clk=\"tct.bty\" data-panel-code=\"BEAUTY\">패션뷰티</a>\\n\\t\\t\\t\\t\\t</li>\\n\\t\\t\\t\\t\\n\\t\\t\\t</ul>\\n\\t\\t</div>\\n\\t</div>\\n</div>\\n\\n\\t</div>\\n\\t<div id=\"NM_THEME_CONTAINER\" class=\"theme_cont\" data-panel-code=\"BEAUTY\" data-parent-code=\"\">\\n\\t\\t<div class=\"group_topstory\" data-block-id=\"621633f554a2b339bf07968f\" data-block-code=\"PC-THEME-BEAUTY-EDIT-AREA\" data-block-type=\"BLOCKS\" data-template-code=\"PC-THEMECAST-EDIT-AREA\" data-da=\"margin-top\">\\n\\n\\t<div class=\"topstory_inner\" data-block-id=\"62163349d7bc9811f4c5a8aa\" data-block-code=\"PC-THEME-BEAUTY-EDIT-AREA-ITEM\" data-block-type=\"A-MATERIAL\" data-template-code=\"IMAGE1\">\\n\\n\\t\\n\\t\\t<div class=\"topstory_view \">\\n\\n\\t\\t\\t\\n\\t\\t\\t\\n\\t\\t\\t<a href=\"https://shopping.naver.com/luxury/cosmetic/story/2002608866\" class=\"topstory_thumb\" data-clk=\"tcc_bty.editbigimg1\" target=\"_blank\">\\n\\t\\t\\t\\t<img src=\"https://s.pstatic.net/static/www/mobile/edit/20220223/mobile_22141698371.jpg\" alt=\"NEW 나스 라이트 리플렉팅 파운데이션 출시\" width=\"364\" height=\"180\" onerror=\"this.outerHTML=\\'<span class=\\\\\\'pm_noimg\\\\\\'><span class=\\\\\\'noimg_text\\\\\\'>이미지 준비중</span></span>\\'\" loading=\"lazy\">\\n\\n\\t\\t\\t\\t\\n\\t\\t\\t\\t\\t<span class=\"thumb_bd\"></span>\\n\\t\\t\\t\\t\\n\\t\\t\\t</a>\\n\\t\\t\\t<a href=\"https://shopping.naver.com/luxury/cosmetic/story/2002608866\" class=\"topstory_info\" data-clk=\"tcc_bty.editbigtxt1\" target=\"_blank\">\\n\\t\\t\\t\\t\\n\\t\\t\\t\\t\\t<em class=\"theme_category\">[SKIN IN ITS BEST LIGHT] 아름답게 빛나</em>\\n\\t\\t\\t\\t\\n\\n\\t\\t\\t\\t<strong class=\"title  \">NEW 나스 라이트 리플렉팅 파운데이션 출시</strong>\\n\\t\\t\\t\\t\\n\\t\\t\\t\\t\\t<p class=\"desc\">빛을 반사해 피부 본연의 생기를 찾아 아름답게 빛나는 듯 <br>#빛결파데 네이버 단독 선출시 최대 혜택으로 만나보세요!</p>\\n\\t\\t\\t\\t\\n\\n\\t\\t\\t\\t\\n\\t\\t\\t\\t\\t<div class=\"source_area\">\\n\\t\\t\\t\\t\\t\\t<span class=\"source\"><span class=\"source_inner\">나스</span></span>\\n\\t\\t\\t\\t\\t</div>\\n\\t\\t\\t\\t\\n\\t\\t\\t</a>\\n\\t\\t\\t\\n\\t\\t</div>\\n\\t\\n</div><div class=\"topstory_inner\" data-block-id=\"621633e9d7bc9811f4c5a8ac\" data-block-code=\"PC-THEME-BEAUTY-EDIT-AREA-ITEM\" data-block-type=\"A-MATERIAL\" data-template-code=\"IMAGE1\">\\n\\n\\t\\n\\t\\t<div class=\"topstory_view \">\\n\\n\\t\\t\\t\\n\\t\\t\\t\\n\\t\\t\\t<a href=\"https://smartstore.naver.com/kenneth_lady/shoppingstory/detail?id=2002623871&amp;channelNo=100223403\" class=\"topstory_thumb\" data-clk=\"tcc_bty.editbigimg2\" target=\"_blank\">\\n\\t\\t\\t\\t<img src=\"https://s.pstatic.net/static/www/mobile/edit/20220223/mobile_221628133759.jpg\" alt=\"SPRING IT ITEM 단독 특가 최대 ~75% + 10%\" width=\"364\" height=\"180\" onerror=\"this.outerHTML=\\'<span class=\\\\\\'pm_noimg\\\\\\'><span class=\\\\\\'noimg_text\\\\\\'>이미지 준비중</span></span>\\'\" loading=\"lazy\">\\n\\n\\t\\t\\t\\t\\n\\t\\t\\t\\t\\t<span class=\"thumb_bd\"></span>\\n\\t\\t\\t\\t\\n\\t\\t\\t</a>\\n\\t\\t\\t<a href=\"https://smartstore.naver.com/kenneth_lady/shoppingstory/detail?id=2002623871&amp;channelNo=100223403\" class=\"topstory_info\" data-clk=\"tcc_bty.editbigtxt2\" target=\"_blank\">\\n\\t\\t\\t\\t\\n\\t\\t\\t\\t\\t<em class=\"theme_category\">[린컴퍼니 패밀리데이] 오늘 단 하루만</em>\\n\\t\\t\\t\\t\\n\\n\\t\\t\\t\\t<strong class=\"title  \">SPRING IT ITEM 단독 특가 최대 ~75% + 10%</strong>\\n\\t\\t\\t\\t\\n\\t\\t\\t\\t\\t<p class=\"desc\">봄을 담은 뉴 아이템! 일상룩, 주말룩을 완성해줄 아이템을 <br>모아봤어요 스토어찜 쿠폰 혜택 절대 놓치지 마세요~</p>\\n\\t\\t\\t\\t\\n\\n\\t\\t\\t\\t\\n\\t\\t\\t\\t\\t<div class=\"source_area\">\\n\\t\\t\\t\\t\\t\\t<span class=\"source\"><span class=\"source_inner\">케네스레이디</span></span>\\n\\t\\t\\t\\t\\t</div>\\n\\t\\t\\t\\t\\n\\t\\t\\t</a>\\n\\t\\t\\t\\n\\t\\t</div>\\n\\t\\n</div>\\n</div>\\n<div class=\"group_theme\" data-block-id=\"\" data-block-code=\"PC-THEME-BEAUTY-MOBILE-RANKING-DEFAULT-0\" data-block-type=\"MATERIALS\" data-template-code=\"MOBILE-RANKING-LIST\" data-da=\"container\" data-index=\"\" data-page=\"1\">\\n\\n\\t<div class=\"list_theme_wrap\">\\n\\t\\t<ul class=\"list_theme\">\\n\\t\\t\\t\\n\\t\\t\\t\\t<li class=\"theme_item\" data-gdid=\"620dc470c2e6c6cfb12bbe9b\" data-da-position=\"true\">\\n\\t\\t\\t\\t\\t<a href=\"https://m.blog.naver.com/PostView.naver?blogId=ik0726&amp;logNo=222639916785&amp;proxyReferer=\" class=\"theme_thumb\" data-clk=\"tcc_bty.list1cont1\" target=\"_blank\">\\n\\t\\t\\t\\t\\t\\t<img src=\"https://s.pstatic.net/dthumb.phinf/?src=%22https%3A%2F%2Fs.pstatic.net%2Fshop.phinf%2F20220217_135%2F1645069438907Ank4t_JPEG%2F1-1.jpg%3Ftype%3Df342_342%22&amp;type=nf340_228\" alt=\"삐아 오토 젤 라이너\" width=\"170\" height=\"114\" onerror=\"this.outerHTML=\\'<span class=\\\\\\'pm_noimg\\\\\\'><span class=\\\\\\'noimg_text\\\\\\'>이미지 준비중</span></span>\\'\" loading=\"lazy\">\\n\\t\\t\\t\\t\\t\\t<span class=\"thumb_bd\"></span>\\n                        \\n\\t\\t\\t\\t\\t</a>\\n\\t\\t\\t\\t\\t<a href=\"https://m.blog.naver.com/PostView.naver?blogId=ik0726&amp;logNo=222639916785&amp;proxyReferer=\" class=\"theme_info\" data-clk=\"tcc_bty.list1cont1\" target=\"_blank\">\\n\\t\\t\\t\\t\\t\\t<em class=\"theme_category\"> 패션뷰티</em>\\n\\t\\t\\t\\t\\t\\t<strong class=\"title elss\">삐아 오토 젤 라이너</strong>\\n                        <p class=\"desc\">안녕 민슨이에요. 저는 긴 얼굴을 가지고 있어서 정말 정말 큰 스트레스에요. 얼굴이 맘에 들지 않아서 (?) 없앨까 하구 20살 되자마자 알아보기도 하고 진짜! 대 공사를 하려고 했었거든요. 그런데 요 애교살 하나만으로 중안부가 긴 얼굴을 조금은 커버가 될 수가 있다는 점 알고 계시나요? 시선을 분산을 시키도록 도와준다고 해요. 평소에는 조금...애교살은 </p>\\n\\t\\t\\t\\t\\t\\t<div class=\"source_box\">\\n\\t\\t\\t\\t\\t\\t\\t<span class=\"date\">2주일 전</span>\\n\\t\\t\\t\\t\\t\\t\\t<span class=\"source\">\\n                                \\n                                <span class=\"source_inner\">뷰스타 민슨</span>\\n                            </span>\\n\\t\\t\\t\\t\\t\\t</div>\\n\\t\\t\\t\\t\\t</a>\\n\\t\\t\\t\\t</li>\\n\\t\\t\\t\\n\\t\\t\\t\\t<li class=\"theme_item\" data-gdid=\"620dc470c2e6c6cfb12bbe9c\" data-da-position=\"true\">\\n\\t\\t\\t\\t\\t<a href=\"https://m.blog.naver.com/PostView.naver?blogId=frenchpopp&amp;logNo=222648996145&amp;proxyReferer=\" class=\"theme_thumb\" data-clk=\"tcc_bty.list1cont2\" target=\"_blank\">\\n\\t\\t\\t\\t\\t\\t<img src=\"https://s.pstatic.net/dthumb.phinf/?src=%22https%3A%2F%2Fs.pstatic.net%2Fshop.phinf%2F20220217_148%2F1645069441997b6LqH_JPEG%2F1-2.jpg%3Ftype%3Df342_342%22&amp;type=nf340_228\" alt=\"프리메이 토너 패드\" width=\"170\" height=\"114\" onerror=\"this.outerHTML=\\'<span class=\\\\\\'pm_noimg\\\\\\'><span class=\\\\\\'noimg_text\\\\\\'>이미지 준비중</span></span>\\'\" loading=\"lazy\">\\n\\t\\t\\t\\t\\t\\t<span class=\"thumb_bd\"></span>\\n                        \\n\\t\\t\\t\\t\\t</a>\\n\\t\\t\\t\\t\\t<a href=\"https://m.blog.naver.com/PostView.naver?blogId=frenchpopp&amp;logNo=222648996145&amp;proxyReferer=\" class=\"theme_info\" data-clk=\"tcc_bty.list1cont2\" target=\"_blank\">\\n\\t\\t\\t\\t\\t\\t<em class=\"theme_category\"> 패션뷰티</em>\\n\\t\\t\\t\\t\\t\\t<strong class=\"title elss\">프리메이 토너 패드</strong>\\n                        <p class=\"desc\">오늘은 매끈 매끈한 피부결로 케어하는데 도움을 주는 토너패드 리뷰예요! 많은 분들이 피부결, 모공, 피부 각질 등 매끄러워 보이는 피부결 관리에 진심이잖아요. 그래서 올리브영에서 케어템 많이들 찾아 보실것 같은데요. 저는 요즘 올리브영 토너패드 중에서 프리메이 패드 잘 쓰고 있어요. 지금 계절이 겨울이긴 하지만 실내가 너무 많이 건조해서 노폐물 분비가 많아</p>\\n\\t\\t\\t\\t\\t\\t<div class=\"source_box\">\\n\\t\\t\\t\\t\\t\\t\\t<span class=\"date\">1주일 전</span>\\n\\t\\t\\t\\t\\t\\t\\t<span class=\"source\">\\n                                \\n                                <span class=\"source_inner\">프렌치팝콘</span>\\n                            </span>\\n\\t\\t\\t\\t\\t\\t</div>\\n\\t\\t\\t\\t\\t</a>\\n\\t\\t\\t\\t</li>\\n\\t\\t\\t\\n\\t\\t\\t\\t<div id=\"p_theme_beauty_div\" class=\"theme_item\"></div><li class=\"theme_item\" data-gdid=\"620dc470c2e6c6cfb12bbe9d\" data-da-position=\"true\">\\n\\t\\t\\t\\t\\t<a href=\"https://m.blog.naver.com/PostView.naver?blogId=ghkdalgp1232&amp;logNo=222648983223&amp;navType=by\" class=\"theme_thumb\" data-clk=\"tcc_bty.list1cont3\" target=\"_blank\">\\n\\t\\t\\t\\t\\t\\t<img src=\"https://s.pstatic.net/dthumb.phinf/?src=%22https%3A%2F%2Fs.pstatic.net%2Fshop.phinf%2F20220217_228%2F1645069446558eUvwD_JPEG%2F1-3.jpg%3Ftype%3Df342_342%22&amp;type=nf340_228\" alt=\"헤라 블랙 파운데이션\" width=\"170\" height=\"114\" onerror=\"this.outerHTML=\\'<span class=\\\\\\'pm_noimg\\\\\\'><span class=\\\\\\'noimg_text\\\\\\'>이미지 준비중</span></span>\\'\" loading=\"lazy\">\\n\\t\\t\\t\\t\\t\\t<span class=\"thumb_bd\"></span>\\n                        \\n\\t\\t\\t\\t\\t</a>\\n\\t\\t\\t\\t\\t<a href=\"https://m.blog.naver.com/PostView.naver?blogId=ghkdalgp1232&amp;logNo=222648983223&amp;navType=by\" class=\"theme_info\" data-clk=\"tcc_bty.list1cont3\" target=\"_blank\">\\n\\t\\t\\t\\t\\t\\t<em class=\"theme_category\"> 패션뷰티</em>\\n\\t\\t\\t\\t\\t\\t<strong class=\"title elss\">헤라 블랙 파운데이션</strong>\\n                        <p class=\"desc\">안녕하세요. 여러분! 몌예요! 오늘은 제가 너무 좋아하는 헤라 블랙 파운데이션 리뷰 시작할게요. 헤라 블랙 파운데이션 헤라 블랙 파운데이션은 24시간 무너지지 않는 밀착 커버로 세미 매트 메이크업을 할 수 있어요. 겉보속촉 매트 파운데이션의 대표가 되는 헤라 블랙 파운데이션은 해외 유명 명품 파운데이션과 어깨를 나란히 하고 있을 정도로 뛰어난 제품력을 자랑</p>\\n\\t\\t\\t\\t\\t\\t<div class=\"source_box\">\\n\\t\\t\\t\\t\\t\\t\\t<span class=\"date\">1주일 전</span>\\n\\t\\t\\t\\t\\t\\t\\t<span class=\"source\">\\n                                \\n                                <span class=\"source_inner\">몌</span>\\n                            </span>\\n\\t\\t\\t\\t\\t\\t</div>\\n\\t\\t\\t\\t\\t</a>\\n\\t\\t\\t\\t</li>\\n\\t\\t\\t\\n\\t\\t\\t\\t<li class=\"theme_item\" data-gdid=\"620dc470c2e6c6cfb12bbe9e\" data-da-position=\"true\">\\n\\t\\t\\t\\t\\t<a href=\"https://m.blog.naver.com/PostView.naver?blogId=0226orange&amp;logNo=222646352887&amp;navType=by\" class=\"theme_thumb\" data-clk=\"tcc_bty.list1cont4\" target=\"_blank\">\\n\\t\\t\\t\\t\\t\\t<img src=\"https://s.pstatic.net/dthumb.phinf/?src=%22https%3A%2F%2Fs.pstatic.net%2Fshop.phinf%2F20220217_61%2F1645069449084UMipm_JPEG%2F1-4.jpg%3Ftype%3Df342_342%22&amp;type=nf340_228\" alt=\"라네즈 아쿠아 틴트\" width=\"170\" height=\"114\" onerror=\"this.outerHTML=\\'<span class=\\\\\\'pm_noimg\\\\\\'><span class=\\\\\\'noimg_text\\\\\\'>이미지 준비중</span></span>\\'\" loading=\"lazy\">\\n\\t\\t\\t\\t\\t\\t<span class=\"thumb_bd\"></span>\\n                        \\n\\t\\t\\t\\t\\t</a>\\n\\t\\t\\t\\t\\t<a href=\"https://m.blog.naver.com/PostView.naver?blogId=0226orange&amp;logNo=222646352887&amp;navType=by\" class=\"theme_info\" data-clk=\"tcc_bty.list1cont4\" target=\"_blank\">\\n\\t\\t\\t\\t\\t\\t<em class=\"theme_category\"> 패션뷰티</em>\\n\\t\\t\\t\\t\\t\\t<strong class=\"title elss\">라네즈 아쿠아 틴트</strong>\\n                        <p class=\"desc\">저는 드라마 같은 걸 볼 때도 시즌1 이 재미있으면 아묻따 시즌2 시즌3 계속 달리는 스타일인데요- 이런 성향(?)은 코덕질을 할 때 역시 마찬가지라서 먼젓번 출시된 제품이 마음에 들면 누가 뭐래도 다음 시즌템은 꼭 써보곤 합니다. = 한 번 꽂히면 멈춤 없이 질주하는 타입☆ 오늘 제가 여러분들께 소개해 드릴 #라네즈 #얼티미스틱아쿠아틴트 는 아마도 작년 </p>\\n\\t\\t\\t\\t\\t\\t<div class=\"source_box\">\\n\\t\\t\\t\\t\\t\\t\\t<span class=\"date\">1주일 전</span>\\n\\t\\t\\t\\t\\t\\t\\t<span class=\"source\">\\n                                \\n                                <span class=\"source_inner\">금귤</span>\\n                            </span>\\n\\t\\t\\t\\t\\t\\t</div>\\n\\t\\t\\t\\t\\t</a>\\n\\t\\t\\t\\t</li>\\n\\t\\t\\t\\n\\t\\t</ul>\\n\\t</div>\\n</div>\\n<div class=\"group_theme\" data-block-id=\"\" data-block-code=\"PC-THEME-BEAUTY-MOBILE-RANKING-VIDEO-0\" data-block-type=\"MATERIALS\" data-template-code=\"MOBILE-RANKING-VIDEO-LIST\" data-index=\"\" data-page=\"1\">\\n\\n\\t<div class=\"media_view_wrap type_column\">\\n\\t\\t<div class=\"media_view\">\\n\\t\\t\\t\\n\\t\\t\\t\\t<a href=\"https://tv.naver.com/v/24722620\" class=\"media_area\" data-gdid=\"085e39ae-2734-4efc-a12b-672b3472adac\" data-clk=\"tcc_bty.video1cont1\" target=\"_blank\">\\n\\t\\t\\t\\t\\t<div class=\"media_thumb\">\\n\\t\\t\\t\\t\\t\\t<img src=\"https://s.pstatic.net/dthumb.phinf/?src=%22https%3A%2F%2Fs.pstatic.net%2Fshop.phinf%2F20220128_285%2F1643357704567Kayvl_JPEG%2F1642734069085.jpg%3Ftype%3Df342_264%22&amp;type=nf464_260\" alt=\"탄력 유지를 위한 필수 루틴은\" width=\"232\" height=\"130\" onerror=\"this.outerHTML=\\'<span class=\\\\\\'pm_noimg\\\\\\'><span class=\\\\\\'noimg_text\\\\\\'>이미지 준비중</span></span>\\'\" loading=\"lazy\">\\n\\t\\t\\t\\t\\t\\t<span class=\"thumb_dim\"></span>\\n\\t\\t\\t\\t\\t\\t<span class=\"thumb_bd\"></span>\\n\\t\\t\\t\\t\\t\\t<i class=\"pm_ico_play\"><span class=\"blind\">재생</span></i>\\n\\t\\t\\t\\t\\t\\t<span class=\"theme_runtime\"><span class=\"runtime_bg\">재생시간</span><em class=\"time\">14:43</em></span>\\n\\t\\t\\t\\t\\t</div>\\n\\t\\t\\t\\t\\t<div class=\"media_info\">\\n\\t\\t\\t\\t\\t\\t<div class=\"info_box\">\\n\\t\\t\\t\\t\\t\\t\\t<strong class=\"title\">탄력 유지를 위한 필수 루틴은</strong>\\n\\t\\t\\t\\t\\t\\t\\t<div class=\"source_wrap\">\\n\\t\\t\\t\\t\\t\\t\\t\\t<span class=\"date\">1개월 전</span>\\n\\t\\t\\t\\t\\t\\t\\t\\t<span class=\"source\">\\n                                    \\n                                    <span class=\"source_inner\">디렉터파이</span>\\n                                </span>\\n\\t\\t\\t\\t\\t\\t\\t</div>\\n\\t\\t\\t\\t\\t\\t</div>\\n\\t\\t\\t\\t\\t</div>\\n\\t\\t\\t\\t</a>\\n\\t\\t\\t\\n\\t\\t\\t\\t<a href=\"https://tv.naver.com/v/24848045\" class=\"media_area\" data-gdid=\"61f39b9d36ea0f2c540fad1a\" data-clk=\"tcc_bty.video1cont2\" target=\"_blank\">\\n\\t\\t\\t\\t\\t<div class=\"media_thumb\">\\n\\t\\t\\t\\t\\t\\t<img src=\"https://s.pstatic.net/dthumb.phinf/?src=%22https%3A%2F%2Fs.pstatic.net%2Fshop.phinf%2F20220128_16%2F1643354378942FsNn1_PNG%2F2%25BF%25F93%25C0%25CF_%25C6%25D0%25BC%25C7%25BA%25E4%25C6%25BC%25C6%25C7_1%25B6%25F3%25C0%25CE_1%25B9%25F8%25BF%25B5%25BF%25AA.png%3Ftype%3Df750_372%22&amp;type=nf464_260\" alt=\"NO.1 브로우 브랜드\" width=\"232\" height=\"130\" onerror=\"this.outerHTML=\\'<span class=\\\\\\'pm_noimg\\\\\\'><span class=\\\\\\'noimg_text\\\\\\'>이미지 준비중</span></span>\\'\" loading=\"lazy\">\\n\\t\\t\\t\\t\\t\\t<span class=\"thumb_dim\"></span>\\n\\t\\t\\t\\t\\t\\t<span class=\"thumb_bd\"></span>\\n\\t\\t\\t\\t\\t\\t<i class=\"pm_ico_play\"><span class=\"blind\">재생</span></i>\\n\\t\\t\\t\\t\\t\\t<span class=\"theme_runtime\"><span class=\"runtime_bg\">재생시간</span><em class=\"time\">00:29</em></span>\\n\\t\\t\\t\\t\\t</div>\\n\\t\\t\\t\\t\\t<div class=\"media_info\">\\n\\t\\t\\t\\t\\t\\t<div class=\"info_box\">\\n\\t\\t\\t\\t\\t\\t\\t<strong class=\"title\">NO.1 브로우 브랜드</strong>\\n\\t\\t\\t\\t\\t\\t\\t<div class=\"source_wrap\">\\n\\t\\t\\t\\t\\t\\t\\t\\t<span class=\"date\">3주일 전</span>\\n\\t\\t\\t\\t\\t\\t\\t\\t<span class=\"source\">\\n                                    \\n                                    <span class=\"source_inner\">갓신상</span>\\n                                </span>\\n\\t\\t\\t\\t\\t\\t\\t</div>\\n\\t\\t\\t\\t\\t\\t</div>\\n\\t\\t\\t\\t\\t</div>\\n\\t\\t\\t\\t</a>\\n\\t\\t\\t\\n\\t\\t\\t\\t<a href=\"https://tv.naver.com/v/24832677\" class=\"media_area\" data-gdid=\"4a87161c-c43d-4ca2-8d6c-93ae8f0d3525\" data-clk=\"tcc_bty.video1cont3\" target=\"_blank\">\\n\\t\\t\\t\\t\\t<div class=\"media_thumb\">\\n\\t\\t\\t\\t\\t\\t<img src=\"https://s.pstatic.net/dthumb.phinf/?src=%22https%3A%2F%2Fs.pstatic.net%2Fshop.phinf%2F20220128_284%2F1643356247610STjuu_JPEG%2F1643273879060.jpg%3Ftype%3Df342_264%22&amp;type=nf464_260\" alt=\"목적에 맞게 선택하는 클렌저\" width=\"232\" height=\"130\" onerror=\"this.outerHTML=\\'<span class=\\\\\\'pm_noimg\\\\\\'><span class=\\\\\\'noimg_text\\\\\\'>이미지 준비중</span></span>\\'\" loading=\"lazy\">\\n\\t\\t\\t\\t\\t\\t<span class=\"thumb_dim\"></span>\\n\\t\\t\\t\\t\\t\\t<span class=\"thumb_bd\"></span>\\n\\t\\t\\t\\t\\t\\t<i class=\"pm_ico_play\"><span class=\"blind\">재생</span></i>\\n\\t\\t\\t\\t\\t\\t<span class=\"theme_runtime\"><span class=\"runtime_bg\">재생시간</span><em class=\"time\">21:06</em></span>\\n\\t\\t\\t\\t\\t</div>\\n\\t\\t\\t\\t\\t<div class=\"media_info\">\\n\\t\\t\\t\\t\\t\\t<div class=\"info_box\">\\n\\t\\t\\t\\t\\t\\t\\t<strong class=\"title\">목적에 맞게 선택하는 클렌저</strong>\\n\\t\\t\\t\\t\\t\\t\\t<div class=\"source_wrap\">\\n\\t\\t\\t\\t\\t\\t\\t\\t<span class=\"date\">3주일 전</span>\\n\\t\\t\\t\\t\\t\\t\\t\\t<span class=\"source\">\\n                                    \\n                                    <span class=\"source_inner\">디렉터파이</span>\\n                                </span>\\n\\t\\t\\t\\t\\t\\t\\t</div>\\n\\t\\t\\t\\t\\t\\t</div>\\n\\t\\t\\t\\t\\t</div>\\n\\t\\t\\t\\t</a>\\n\\t\\t\\t\\n\\t\\t</div>\\n\\t</div>\\n</div>\\n<div class=\"group_theme\" data-block-id=\"\" data-block-code=\"PC-THEME-BEAUTY-MOBILE-RANKING-DEFAULT-1\" data-block-type=\"MATERIALS\" data-template-code=\"MOBILE-RANKING-LIST\" data-da=\"container\" data-index=\"\" data-page=\"1\">\\n\\n\\t<div class=\"list_theme_wrap\">\\n\\t\\t<ul class=\"list_theme\">\\n\\t\\t\\t\\n\\t\\t\\t\\t<li class=\"theme_item\" data-gdid=\"620dc13e006934daf7bc1eaa\" data-da-position=\"true\">\\n\\t\\t\\t\\t\\t<a href=\"https://m.blog.naver.com/PostView.naver?blogId=sy_08&amp;logNo=222633250358&amp;navType=by\" class=\"theme_thumb\" data-clk=\"tcc_bty.list2cont1\" target=\"_blank\">\\n\\t\\t\\t\\t\\t\\t<img src=\"https://s.pstatic.net/dthumb.phinf/?src=%22https%3A%2F%2Fs.pstatic.net%2Fshop.phinf%2F20220217_236%2F16450686220423pf2D_JPEG%2F1-1.jpg%3Ftype%3Df342_342%22&amp;type=nf340_228\" alt=\"팻맥그라스 립스틱\" width=\"170\" height=\"114\" onerror=\"this.outerHTML=\\'<span class=\\\\\\'pm_noimg\\\\\\'><span class=\\\\\\'noimg_text\\\\\\'>이미지 준비중</span></span>\\'\" loading=\"lazy\">\\n\\t\\t\\t\\t\\t\\t<span class=\"thumb_bd\"></span>\\n                        \\n\\t\\t\\t\\t\\t</a>\\n\\t\\t\\t\\t\\t<a href=\"https://m.blog.naver.com/PostView.naver?blogId=sy_08&amp;logNo=222633250358&amp;navType=by\" class=\"theme_info\" data-clk=\"tcc_bty.list2cont1\" target=\"_blank\">\\n\\t\\t\\t\\t\\t\\t<em class=\"theme_category\"> 패션뷰티</em>\\n\\t\\t\\t\\t\\t\\t<strong class=\"title elss\">팻맥그라스 립스틱</strong>\\n                        <p class=\"desc\">제가 빠지고 싶지 않았던 늪 여러개가 있는데요.. 그 중 하나 바로 팻맥그라스 입니다 ^_^ 그동안 신상과 세일을 애써 흐린눈으로 외면하고 있었어요 코덕 분들은 아실텝니다.. 이 브랜드 질로 정말 유명하죠 ㅎㄷㄷ 만약 빠지면 섀도우부터 립스틱까지 골고루 모을 것 같았는데 이제 저도 슬슬 빠져야 할 것 같아요 후후 지난 여름 라응님께서 립스틱 선물을 한가득 </p>\\n\\t\\t\\t\\t\\t\\t<div class=\"source_box\">\\n\\t\\t\\t\\t\\t\\t\\t<span class=\"date\">3주일 전</span>\\n\\t\\t\\t\\t\\t\\t\\t<span class=\"source\">\\n                                \\n                                <span class=\"source_inner\">케잌차</span>\\n                            </span>\\n\\t\\t\\t\\t\\t\\t</div>\\n\\t\\t\\t\\t\\t</a>\\n\\t\\t\\t\\t</li>\\n\\t\\t\\t\\n\\t\\t\\t\\t<li class=\"theme_item\" data-gdid=\"620dc13e006934daf7bc1eab\" data-da-position=\"true\">\\n\\t\\t\\t\\t\\t<a href=\"https://m.blog.naver.com/PostView.naver?blogId=chaosmiboy&amp;logNo=222642610492&amp;navType=by\" class=\"theme_thumb\" data-clk=\"tcc_bty.list2cont2\" target=\"_blank\">\\n\\t\\t\\t\\t\\t\\t<img src=\"https://s.pstatic.net/dthumb.phinf/?src=%22https%3A%2F%2Fs.pstatic.net%2Fshop.phinf%2F20220217_68%2F1645068624729OnCjd_JPEG%2F1-2.jpg%3Ftype%3Df342_342%22&amp;type=nf340_228\" alt=\"바비브라운 아이섀도\" width=\"170\" height=\"114\" onerror=\"this.outerHTML=\\'<span class=\\\\\\'pm_noimg\\\\\\'><span class=\\\\\\'noimg_text\\\\\\'>이미지 준비중</span></span>\\'\" loading=\"lazy\">\\n\\t\\t\\t\\t\\t\\t<span class=\"thumb_bd\"></span>\\n                        \\n\\t\\t\\t\\t\\t</a>\\n\\t\\t\\t\\t\\t<a href=\"https://m.blog.naver.com/PostView.naver?blogId=chaosmiboy&amp;logNo=222642610492&amp;navType=by\" class=\"theme_info\" data-clk=\"tcc_bty.list2cont2\" target=\"_blank\">\\n\\t\\t\\t\\t\\t\\t<em class=\"theme_category\"> 패션뷰티</em>\\n\\t\\t\\t\\t\\t\\t<strong class=\"title elss\">바비브라운 아이섀도</strong>\\n                        <p class=\"desc\">그 유명한 바비브라운 썬플레어를 드디어 이번에 구매했다!!!!! 얼마나 예쁘길래 그렇게 유명한걸까 배송 오기전부터 이미 마음은 개봉상태였음 바비브라운 썬플레어는 예전에 한정판으로 나왔던 제품이라 구하고 싶어도 못구했었는데 이번에 클라렛 컬렉션으로 다시 재출시되었길래 사봤다 그렇게 예쁘다면 사줘야지 오늘은 엄청 긴 후기가 될테니 많은 기대바람 오늘도 내돈내.</p>\\n\\t\\t\\t\\t\\t\\t<div class=\"source_box\">\\n\\t\\t\\t\\t\\t\\t\\t<span class=\"date\">2주일 전</span>\\n\\t\\t\\t\\t\\t\\t\\t<span class=\"source\">\\n                                \\n                                <span class=\"source_inner\">다다이즘</span>\\n                            </span>\\n\\t\\t\\t\\t\\t\\t</div>\\n\\t\\t\\t\\t\\t</a>\\n\\t\\t\\t\\t</li>\\n\\t\\t\\t\\n\\t\\t\\t\\t<li class=\"theme_item\" data-gdid=\"620dc13e006934daf7bc1eac\" data-da-position=\"true\">\\n\\t\\t\\t\\t\\t<a href=\"https://m.blog.naver.com/PostView.naver?blogId=bonjour0919&amp;logNo=222644940702&amp;navType=by\" class=\"theme_thumb\" data-clk=\"tcc_bty.list2cont3\" target=\"_blank\">\\n\\t\\t\\t\\t\\t\\t<img src=\"https://s.pstatic.net/dthumb.phinf/?src=%22https%3A%2F%2Fs.pstatic.net%2Fshop.phinf%2F20220217_144%2F1645068641441Hv6Vq_JPEG%2F1-3.jpg%3Ftype%3Df342_342%22&amp;type=nf340_228\" alt=\"에스쁘아 벨벳 파데\" width=\"170\" height=\"114\" onerror=\"this.outerHTML=\\'<span class=\\\\\\'pm_noimg\\\\\\'><span class=\\\\\\'noimg_text\\\\\\'>이미지 준비중</span></span>\\'\" loading=\"lazy\">\\n\\t\\t\\t\\t\\t\\t<span class=\"thumb_bd\"></span>\\n                        \\n\\t\\t\\t\\t\\t</a>\\n\\t\\t\\t\\t\\t<a href=\"https://m.blog.naver.com/PostView.naver?blogId=bonjour0919&amp;logNo=222644940702&amp;navType=by\" class=\"theme_info\" data-clk=\"tcc_bty.list2cont3\" target=\"_blank\">\\n\\t\\t\\t\\t\\t\\t<em class=\"theme_category\"> 패션뷰티</em>\\n\\t\\t\\t\\t\\t\\t<strong class=\"title elss\">에스쁘아 벨벳 파데</strong>\\n                        <p class=\"desc\">안녕하세요! 화장하는 펭귄, 화펭 입니다! 오늘의 펭귄 리뷰는 에스쁘아 프로 테일러 파운데이션 비 벨벳 입니다! 파운데이션 맛집 에스쁘아의 신상 비 벨벳 파운데이션을 만나봤어요! 에스쁘아 파운데이션을 정말 좋아해서 그런지 이번 신상 써보기 전에 너무 기대됐었는데 써본 결과 역시 기대를 저버리지 않는 에스쁘아 입니다😎 디자인도 넘나 유니크한데 제형까지 넘 </p>\\n\\t\\t\\t\\t\\t\\t<div class=\"source_box\">\\n\\t\\t\\t\\t\\t\\t\\t<span class=\"date\">1주일 전</span>\\n\\t\\t\\t\\t\\t\\t\\t<span class=\"source\">\\n                                \\n                                <span class=\"source_inner\">화장하는 펭귄 화펭</span>\\n                            </span>\\n\\t\\t\\t\\t\\t\\t</div>\\n\\t\\t\\t\\t\\t</a>\\n\\t\\t\\t\\t</li>\\n\\t\\t\\t\\n\\t\\t\\t\\t<li class=\"theme_item\" data-gdid=\"620dc13e006934daf7bc1ead\" data-da-position=\"true\">\\n\\t\\t\\t\\t\\t<a href=\"https://m.blog.naver.com/PostView.naver?blogId=isb1201&amp;logNo=222546765437&amp;proxyReferer=\" class=\"theme_thumb\" data-clk=\"tcc_bty.list2cont4\" target=\"_blank\">\\n\\t\\t\\t\\t\\t\\t<img src=\"https://s.pstatic.net/dthumb.phinf/?src=%22https%3A%2F%2Fs.pstatic.net%2Fshop.phinf%2F20220217_155%2F1645068644029I3fAR_JPEG%2F1-4.jpg%3Ftype%3Df342_342%22&amp;type=nf340_228\" alt=\"어퓨 본투비 마스카라\" width=\"170\" height=\"114\" onerror=\"this.outerHTML=\\'<span class=\\\\\\'pm_noimg\\\\\\'><span class=\\\\\\'noimg_text\\\\\\'>이미지 준비중</span></span>\\'\" loading=\"lazy\">\\n\\t\\t\\t\\t\\t\\t<span class=\"thumb_bd\"></span>\\n                        \\n\\t\\t\\t\\t\\t</a>\\n\\t\\t\\t\\t\\t<a href=\"https://m.blog.naver.com/PostView.naver?blogId=isb1201&amp;logNo=222546765437&amp;proxyReferer=\" class=\"theme_info\" data-clk=\"tcc_bty.list2cont4\" target=\"_blank\">\\n\\t\\t\\t\\t\\t\\t<em class=\"theme_category\"> 패션뷰티</em>\\n\\t\\t\\t\\t\\t\\t<strong class=\"title elss\">어퓨 본투비 마스카라</strong>\\n                        <p class=\"desc\">어퓨 본투비 매드프루프 롱앤컬 마스카라 8g / 15,000원 본투비 매드멜팅 마스카라 리무버 8g / 12,000원 안녕하세요 새벽별입니다. 오늘은 어퓨의 짝꿍템, 본투비 매드프루프 롱앤컬 마스카라와 본투비 매드멜팅 마스카라 리무버 리뷰를 준비해 왔어요오🧡 지난번에 #어퓨 #본투비매드프루프롱앤컬마스카라 딥블랙과 딥 브라운 두가지 소개드렸었죠? 이번에는 </p>\\n\\t\\t\\t\\t\\t\\t<div class=\"source_box\">\\n\\t\\t\\t\\t\\t\\t\\t<span class=\"date\">3개월 전</span>\\n\\t\\t\\t\\t\\t\\t\\t<span class=\"source\">\\n                                \\n                                <span class=\"source_inner\">새벽별</span>\\n                            </span>\\n\\t\\t\\t\\t\\t\\t</div>\\n\\t\\t\\t\\t\\t</a>\\n\\t\\t\\t\\t</li>\\n\\t\\t\\t\\n\\t\\t</ul>\\n\\t</div>\\n</div>\\n<div class=\"group_theme\" data-block-id=\"\" data-block-code=\"PC-THEME-BEAUTY-MOBILE-RANKING-VIDEO-1\" data-block-type=\"MATERIALS\" data-template-code=\"MOBILE-RANKING-VIDEO-LIST\" data-index=\"\" data-page=\"1\">\\n\\n\\t<div class=\"media_view_wrap type_column\">\\n\\t\\t<div class=\"media_view\">\\n\\t\\t\\t\\n\\t\\t\\t\\t<a href=\"https://tv.naver.com/v/24357987\" class=\"media_area\" data-gdid=\"19ac92d6-1d9e-4c44-a6e1-dc3af56b0dc3\" data-clk=\"tcc_bty.video2cont1\" target=\"_blank\">\\n\\t\\t\\t\\t\\t<div class=\"media_thumb\">\\n\\t\\t\\t\\t\\t\\t<img src=\"https://s.pstatic.net/dthumb.phinf/?src=%22https%3A%2F%2Fs.pstatic.net%2Fshop.phinf%2F20220103_121%2F1641201628440leXYK_JPEG%2F1640857552632.jpg%3Ftype%3Df342_264%22&amp;type=nf464_260\" alt=\"제가 본 제품 중 최고였어요\" width=\"232\" height=\"130\" onerror=\"this.outerHTML=\\'<span class=\\\\\\'pm_noimg\\\\\\'><span class=\\\\\\'noimg_text\\\\\\'>이미지 준비중</span></span>\\'\" loading=\"lazy\">\\n\\t\\t\\t\\t\\t\\t<span class=\"thumb_dim\"></span>\\n\\t\\t\\t\\t\\t\\t<span class=\"thumb_bd\"></span>\\n\\t\\t\\t\\t\\t\\t<i class=\"pm_ico_play\"><span class=\"blind\">재생</span></i>\\n\\t\\t\\t\\t\\t\\t<span class=\"theme_runtime\"><span class=\"runtime_bg\">재생시간</span><em class=\"time\">11:34</em></span>\\n\\t\\t\\t\\t\\t</div>\\n\\t\\t\\t\\t\\t<div class=\"media_info\">\\n\\t\\t\\t\\t\\t\\t<div class=\"info_box\">\\n\\t\\t\\t\\t\\t\\t\\t<strong class=\"title\">제가 본 제품 중 최고였어요</strong>\\n\\t\\t\\t\\t\\t\\t\\t<div class=\"source_wrap\">\\n\\t\\t\\t\\t\\t\\t\\t\\t<span class=\"date\">1개월 전</span>\\n\\t\\t\\t\\t\\t\\t\\t\\t<span class=\"source\">\\n                                    \\n                                    <span class=\"source_inner\">파우더룸TV</span>\\n                                </span>\\n\\t\\t\\t\\t\\t\\t\\t</div>\\n\\t\\t\\t\\t\\t\\t</div>\\n\\t\\t\\t\\t\\t</div>\\n\\t\\t\\t\\t</a>\\n\\t\\t\\t\\n\\t\\t\\t\\t<a href=\"https://tv.naver.com/v/24132160\" class=\"media_area\" data-gdid=\"2aaafb09-554f-46c7-ac45-2ecd4c424b33\" data-clk=\"tcc_bty.video2cont2\" target=\"_blank\">\\n\\t\\t\\t\\t\\t<div class=\"media_thumb\">\\n\\t\\t\\t\\t\\t\\t<img src=\"https://s.pstatic.net/dthumb.phinf/?src=%22https%3A%2F%2Fs.pstatic.net%2Fshop.phinf%2F20211231_117%2F1640937941359WDXHw_JPEG%2F1639730496796.jpg%3Ftype%3Df342_264%22&amp;type=nf464_260\" alt=\"겨울철 각질 잠재우는 꿀팁\" width=\"232\" height=\"130\" onerror=\"this.outerHTML=\\'<span class=\\\\\\'pm_noimg\\\\\\'><span class=\\\\\\'noimg_text\\\\\\'>이미지 준비중</span></span>\\'\" loading=\"lazy\">\\n\\t\\t\\t\\t\\t\\t<span class=\"thumb_dim\"></span>\\n\\t\\t\\t\\t\\t\\t<span class=\"thumb_bd\"></span>\\n\\t\\t\\t\\t\\t\\t<i class=\"pm_ico_play\"><span class=\"blind\">재생</span></i>\\n\\t\\t\\t\\t\\t\\t<span class=\"theme_runtime\"><span class=\"runtime_bg\">재생시간</span><em class=\"time\">17:03</em></span>\\n\\t\\t\\t\\t\\t</div>\\n\\t\\t\\t\\t\\t<div class=\"media_info\">\\n\\t\\t\\t\\t\\t\\t<div class=\"info_box\">\\n\\t\\t\\t\\t\\t\\t\\t<strong class=\"title\">겨울철 각질 잠재우는 꿀팁</strong>\\n\\t\\t\\t\\t\\t\\t\\t<div class=\"source_wrap\">\\n\\t\\t\\t\\t\\t\\t\\t\\t<span class=\"date\">2개월 전</span>\\n\\t\\t\\t\\t\\t\\t\\t\\t<span class=\"source\">\\n                                    \\n                                    <span class=\"source_inner\">디렉터파이</span>\\n                                </span>\\n\\t\\t\\t\\t\\t\\t\\t</div>\\n\\t\\t\\t\\t\\t\\t</div>\\n\\t\\t\\t\\t\\t</div>\\n\\t\\t\\t\\t</a>\\n\\t\\t\\t\\n\\t\\t\\t\\t<a href=\"https://tv.naver.com/v/24333183\" class=\"media_area\" data-gdid=\"80bd8cb0-4473-48c4-a56b-678f1857505e\" data-clk=\"tcc_bty.video2cont3\" target=\"_blank\">\\n\\t\\t\\t\\t\\t<div class=\"media_thumb\">\\n\\t\\t\\t\\t\\t\\t<img src=\"https://s.pstatic.net/dthumb.phinf/?src=%22https%3A%2F%2Fs.pstatic.net%2Fshop.phinf%2F20211230_158%2F1640864260564Rn78l_JPEG%2F1640759261194.jpg%3Ftype%3Df342_264%22&amp;type=nf464_260\" alt=\"피부 좋아지는 마스크팩 사용법\" width=\"232\" height=\"130\" onerror=\"this.outerHTML=\\'<span class=\\\\\\'pm_noimg\\\\\\'><span class=\\\\\\'noimg_text\\\\\\'>이미지 준비중</span></span>\\'\" loading=\"lazy\">\\n\\t\\t\\t\\t\\t\\t<span class=\"thumb_dim\"></span>\\n\\t\\t\\t\\t\\t\\t<span class=\"thumb_bd\"></span>\\n\\t\\t\\t\\t\\t\\t<i class=\"pm_ico_play\"><span class=\"blind\">재생</span></i>\\n\\t\\t\\t\\t\\t\\t<span class=\"theme_runtime\"><span class=\"runtime_bg\">재생시간</span><em class=\"time\">05:36</em></span>\\n\\t\\t\\t\\t\\t</div>\\n\\t\\t\\t\\t\\t<div class=\"media_info\">\\n\\t\\t\\t\\t\\t\\t<div class=\"info_box\">\\n\\t\\t\\t\\t\\t\\t\\t<strong class=\"title\">피부 좋아지는 마스크팩 사용법</strong>\\n\\t\\t\\t\\t\\t\\t\\t<div class=\"source_wrap\">\\n\\t\\t\\t\\t\\t\\t\\t\\t<span class=\"date\">1개월 전</span>\\n\\t\\t\\t\\t\\t\\t\\t\\t<span class=\"source\">\\n                                    \\n                                    <span class=\"source_inner\">미소정 MisoJeong</span>\\n                                </span>\\n\\t\\t\\t\\t\\t\\t\\t</div>\\n\\t\\t\\t\\t\\t\\t</div>\\n\\t\\t\\t\\t\\t</div>\\n\\t\\t\\t\\t</a>\\n\\t\\t\\t\\n\\t\\t</div>\\n\\t</div>\\n</div>\\n<div class=\"group_theme\" data-block-id=\"\" data-block-code=\"PC-THEME-BEAUTY-MOBILE-RANKING-DEFAULT-2\" data-block-type=\"MATERIALS\" data-template-code=\"MOBILE-RANKING-LIST\" data-da=\"container\" data-index=\"\" data-page=\"2\" style=\"display:none\">\\n\\n\\t<div class=\"list_theme_wrap\">\\n\\t\\t<ul class=\"list_theme\">\\n\\t\\t\\t\\n\\t\\t\\t\\t<li class=\"theme_item\" data-gdid=\"620c5a97a6768d8b35c8e5d4\" data-da-position=\"true\">\\n\\t\\t\\t\\t\\t<a href=\"https://m.blog.naver.com/PostView.naver?blogId=maize210&amp;logNo=222632449461&amp;proxyReferer=\" class=\"theme_thumb\" data-clk=\"tcc_bty.list3cont1\" target=\"_blank\">\\n\\t\\t\\t\\t\\t\\t<img alt=\"올마이띵스 립 틴트\" width=\"170\" height=\"114\" onerror=\"this.outerHTML=\\'<span class=\\\\\\'pm_noimg\\\\\\'><span class=\\\\\\'noimg_text\\\\\\'>이미지 준비중</span></span>\\'\" loading=\"lazy\" src=\"https://s.pstatic.net/dthumb.phinf/?src=%22https%3A%2F%2Fs.pstatic.net%2Fshop.phinf%2F20220216_124%2F1644976812668HkyPr_JPEG%2F1-2.jpg%3Ftype%3Df342_342%22&amp;type=nf340_228\">\\n\\t\\t\\t\\t\\t\\t<span class=\"thumb_bd\"></span>\\n                        \\n\\t\\t\\t\\t\\t</a>\\n\\t\\t\\t\\t\\t<a href=\"https://m.blog.naver.com/PostView.naver?blogId=maize210&amp;logNo=222632449461&amp;proxyReferer=\" class=\"theme_info\" data-clk=\"tcc_bty.list3cont1\" target=\"_blank\">\\n\\t\\t\\t\\t\\t\\t<em class=\"theme_category\"> 패션뷰티</em>\\n\\t\\t\\t\\t\\t\\t<strong class=\"title elss\">올마이띵스 립 틴트</strong>\\n                        <p class=\"desc\">안녕하세요! 뷰스타 살구입니다💖 오늘은 컬러마다 가장 잘 어울리는 글리터 조합을 찾아 만든 펄 립스틱! 올마이띵스 아임 유어 립틴트 라이츠컬렉션 전색상 발색을 보여드릴게요💖 올마이띵스 라이츠 컬렉션은 데일리 펄 립스틱 라인인데요💖 데일리로 바르기 좋은 촉촉한 립스틱이라 부담없이 바르기 좋고 보습력이 정말 좋지만 끈적임이 없어서 정말 마음에 들더라구요.</p>\\n\\t\\t\\t\\t\\t\\t<div class=\"source_box\">\\n\\t\\t\\t\\t\\t\\t\\t<span class=\"date\">3주일 전</span>\\n\\t\\t\\t\\t\\t\\t\\t<span class=\"source\">\\n                                \\n                                <span class=\"source_inner\">살구</span>\\n                            </span>\\n\\t\\t\\t\\t\\t\\t</div>\\n\\t\\t\\t\\t\\t</a>\\n\\t\\t\\t\\t</li>\\n\\t\\t\\t\\n\\t\\t\\t\\t<li class=\"theme_item\" data-gdid=\"620c5a97a6768d8b35c8e5d5\" data-da-position=\"true\">\\n\\t\\t\\t\\t\\t<a href=\"https://m.blog.naver.com/PostView.naver?blogId=1208_sj&amp;logNo=222648312705&amp;categoryNo=1&amp;proxyReferer=\" class=\"theme_thumb\" data-clk=\"tcc_bty.list3cont2\" target=\"_blank\">\\n\\t\\t\\t\\t\\t\\t<img alt=\"헤라 섀도 듀오\" width=\"170\" height=\"114\" onerror=\"this.outerHTML=\\'<span class=\\\\\\'pm_noimg\\\\\\'><span class=\\\\\\'noimg_text\\\\\\'>이미지 준비중</span></span>\\'\" loading=\"lazy\" src=\"https://s.pstatic.net/dthumb.phinf/?src=%22https%3A%2F%2Fs.pstatic.net%2Fshop.phinf%2F20220216_6%2F1644976817008pGu2Y_JPEG%2F1-3.jpg%3Ftype%3Df342_342%22&amp;type=nf340_228\">\\n\\t\\t\\t\\t\\t\\t<span class=\"thumb_bd\"></span>\\n                        \\n\\t\\t\\t\\t\\t</a>\\n\\t\\t\\t\\t\\t<a href=\"https://m.blog.naver.com/PostView.naver?blogId=1208_sj&amp;logNo=222648312705&amp;categoryNo=1&amp;proxyReferer=\" class=\"theme_info\" data-clk=\"tcc_bty.list3cont2\" target=\"_blank\">\\n\\t\\t\\t\\t\\t\\t<em class=\"theme_category\"> 패션뷰티</em>\\n\\t\\t\\t\\t\\t\\t<strong class=\"title elss\">헤라 섀도 듀오</strong>\\n                        <p class=\"desc\">휘뚜루마뚜루 사용하기 좋은 데일리 섀도우를 찾는 사람덜에게 꼭 보여주고픈 리뷰! 5구, 6구, 9구, N구 다 좋은데 저는 딱 두 가지로 심플하면서도 쉽고 빠르게 아이 메이크업을 완성하고 싶은 사람덜에게 보여주고픈 리뷰! 실패없는 듀오 조합으로 컴팩트한 사이즈에 쏘옥 담긴, 헤라 섀도 듀오 5종을 소개해드리러 와보았습니다. 후힣 원래 출시된 색상이 많은데,</p>\\n\\t\\t\\t\\t\\t\\t<div class=\"source_box\">\\n\\t\\t\\t\\t\\t\\t\\t<span class=\"date\">1주일 전</span>\\n\\t\\t\\t\\t\\t\\t\\t<span class=\"source\">\\n                                \\n                                <span class=\"source_inner\">프소</span>\\n                            </span>\\n\\t\\t\\t\\t\\t\\t</div>\\n\\t\\t\\t\\t\\t</a>\\n\\t\\t\\t\\t</li>\\n\\t\\t\\t\\n\\t\\t\\t\\t<li class=\"theme_item\" data-gdid=\"620c5a97a6768d8b35c8e5d6\" data-da-position=\"true\">\\n\\t\\t\\t\\t\\t<a href=\"https://m.blog.naver.com/PostView.naver?blogId=dlcmalsis&amp;logNo=222595485944&amp;proxyReferer=\" class=\"theme_thumb\" data-clk=\"tcc_bty.list3cont3\" target=\"_blank\">\\n\\t\\t\\t\\t\\t\\t<img alt=\"잉글롯 스틱 블러셔\" width=\"170\" height=\"114\" onerror=\"this.outerHTML=\\'<span class=\\\\\\'pm_noimg\\\\\\'><span class=\\\\\\'noimg_text\\\\\\'>이미지 준비중</span></span>\\'\" loading=\"lazy\" src=\"https://s.pstatic.net/dthumb.phinf/?src=%22https%3A%2F%2Fs.pstatic.net%2Fshop.phinf%2F20220216_154%2F1644976819847WSWNy_JPEG%2F1-4.jpg%3Ftype%3Df342_342%22&amp;type=nf340_228\">\\n\\t\\t\\t\\t\\t\\t<span class=\"thumb_bd\"></span>\\n                        \\n\\t\\t\\t\\t\\t</a>\\n\\t\\t\\t\\t\\t<a href=\"https://m.blog.naver.com/PostView.naver?blogId=dlcmalsis&amp;logNo=222595485944&amp;proxyReferer=\" class=\"theme_info\" data-clk=\"tcc_bty.list3cont3\" target=\"_blank\">\\n\\t\\t\\t\\t\\t\\t<em class=\"theme_category\"> 패션뷰티</em>\\n\\t\\t\\t\\t\\t\\t<strong class=\"title elss\">잉글롯 스틱 블러셔</strong>\\n                        <p class=\"desc\">안녕하세요 홍차예요 \\'3\\' 비건뷰티를 지향하는 브랜드 #잉글롯 의 블러셔와 하이라이터는 이미 기존에도 써봐서 좋은 거 알고있는 분들.. 많으시죠?! ㅎㅎㅎㅎ 저도 기존에 고체 파우더 타입, 리퀴드타입 블러셔 &amp; 하이라이터를 사용해봤는데 컬러도 예쁘구 밀착감도 좋아 엄청 애용해왔어요. 이런 잉글롯에서, 이번에 NEW 스틱 블러셔 &amp; 하이라이터 제품이...</p>\\n\\t\\t\\t\\t\\t\\t<div class=\"source_box\">\\n\\t\\t\\t\\t\\t\\t\\t<span class=\"date\">2개월 전</span>\\n\\t\\t\\t\\t\\t\\t\\t<span class=\"source\">\\n                                \\n                                <span class=\"source_inner\">홍차</span>\\n                            </span>\\n\\t\\t\\t\\t\\t\\t</div>\\n\\t\\t\\t\\t\\t</a>\\n\\t\\t\\t\\t</li>\\n\\t\\t\\t\\n\\t\\t\\t\\t<li class=\"theme_item\" data-gdid=\"620b0ddde2a0218b2e002470\" data-da-position=\"true\">\\n\\t\\t\\t\\t\\t<a href=\"https://m.blog.naver.com/PostView.naver?blogId=tls0819&amp;logNo=222632275236&amp;proxyReferer=\" class=\"theme_thumb\" data-clk=\"tcc_bty.list3cont4\" target=\"_blank\">\\n\\t\\t\\t\\t\\t\\t<img alt=\"에스쁘아 립스틱&amp;립밤\" width=\"170\" height=\"114\" onerror=\"this.outerHTML=\\'<span class=\\\\\\'pm_noimg\\\\\\'><span class=\\\\\\'noimg_text\\\\\\'>이미지 준비중</span></span>\\'\" loading=\"lazy\" src=\"https://s.pstatic.net/dthumb.phinf/?src=%22https%3A%2F%2Fs.pstatic.net%2Fshop.phinf%2F20220215_262%2F1644891633151IwHb2_JPEG%2F1-1.jpg%3Ftype%3Df342_342%22&amp;type=nf340_228\">\\n\\t\\t\\t\\t\\t\\t<span class=\"thumb_bd\"></span>\\n                        \\n\\t\\t\\t\\t\\t</a>\\n\\t\\t\\t\\t\\t<a href=\"https://m.blog.naver.com/PostView.naver?blogId=tls0819&amp;logNo=222632275236&amp;proxyReferer=\" class=\"theme_info\" data-clk=\"tcc_bty.list3cont4\" target=\"_blank\">\\n\\t\\t\\t\\t\\t\\t<em class=\"theme_category\"> 패션뷰티</em>\\n\\t\\t\\t\\t\\t\\t<strong class=\"title elss\">에스쁘아 립스틱&amp;립밤</strong>\\n                        <p class=\"desc\">이젠 하나의 트렌드로 자리잡은 RETRO MOOD 이제 에스쁘아에서도 만나볼 수 있어요 이번에 새롭게 출시된 신상, 워시드 핑크 컬렉션이 레트로 재질의 뉴트럴 핑크라인인데 살짝 물빠진듯하면서도 화사함은 제대로 담겨있어서 너어무 이쁜거 있죠 !! Washed Pink 워시드 핑크 강렬하고 쨍~한 색감...? NOPE 살짝 물빠진듯한 뉴트럴한 톤이 매력적인 이</p>\\n\\t\\t\\t\\t\\t\\t<div class=\"source_box\">\\n\\t\\t\\t\\t\\t\\t\\t<span class=\"date\">4주일 전</span>\\n\\t\\t\\t\\t\\t\\t\\t<span class=\"source\">\\n                                \\n                                <span class=\"source_inner\">리뷰하는여자</span>\\n                            </span>\\n\\t\\t\\t\\t\\t\\t</div>\\n\\t\\t\\t\\t\\t</a>\\n\\t\\t\\t\\t</li>\\n\\t\\t\\t\\n\\t\\t\\t\\t<li class=\"theme_item\" data-gdid=\"620b0ddde2a0218b2e002471\" data-da-position=\"true\">\\n\\t\\t\\t\\t\\t<a href=\"https://m.blog.naver.com/PostView.naver?blogId=sunsallyy93&amp;logNo=222642243620&amp;proxyReferer=\" class=\"theme_thumb\" data-clk=\"tcc_bty.list3cont5\" target=\"_blank\">\\n\\t\\t\\t\\t\\t\\t<img alt=\"샤넬 블러쉬 뤼미에르\" width=\"170\" height=\"114\" onerror=\"this.outerHTML=\\'<span class=\\\\\\'pm_noimg\\\\\\'><span class=\\\\\\'noimg_text\\\\\\'>이미지 준비중</span></span>\\'\" loading=\"lazy\" src=\"https://s.pstatic.net/dthumb.phinf/?src=%22https%3A%2F%2Fs.pstatic.net%2Fshop.phinf%2F20220215_294%2F1644891636014dfrma_JPEG%2F1-2.jpg%3Ftype%3Df342_342%22&amp;type=nf340_228\">\\n\\t\\t\\t\\t\\t\\t<span class=\"thumb_bd\"></span>\\n                        \\n\\t\\t\\t\\t\\t</a>\\n\\t\\t\\t\\t\\t<a href=\"https://m.blog.naver.com/PostView.naver?blogId=sunsallyy93&amp;logNo=222642243620&amp;proxyReferer=\" class=\"theme_info\" data-clk=\"tcc_bty.list3cont5\" target=\"_blank\">\\n\\t\\t\\t\\t\\t\\t<em class=\"theme_category\"> 패션뷰티</em>\\n\\t\\t\\t\\t\\t\\t<strong class=\"title elss\">샤넬 블러쉬 뤼미에르</strong>\\n                        <p class=\"desc\">샤넬 2022 스프링 컬렉션 레 꺄트르 옹브르 747 메디테라닌 블러쉬 뤼미에르 피치 로지 루쥬 알뤼르 벨벳 라꼬메뜨 118 브와 드 로즈 애스트랄 128 로즈 에끌라땅뜨 바움 에쌍씨엘 글로우 스틱 앙솔레일 르 베르니 915 리비에라 완전 뒷북인 샤넬 스프링 ㅋㅋㅋㅋㅋ 저는 밍기적 거리는 게 특기인가봐요…ㅎㅎ 다들 샤넬 스프링 겟하셨나요 &gt;_&lt; 이번 스프링</p>\\n\\t\\t\\t\\t\\t\\t<div class=\"source_box\">\\n\\t\\t\\t\\t\\t\\t\\t<span class=\"date\">2주일 전</span>\\n\\t\\t\\t\\t\\t\\t\\t<span class=\"source\">\\n                                \\n                                <span class=\"source_inner\">런민</span>\\n                            </span>\\n\\t\\t\\t\\t\\t\\t</div>\\n\\t\\t\\t\\t\\t</a>\\n\\t\\t\\t\\t</li>\\n\\t\\t\\t\\n\\t\\t</ul>\\n\\t</div>\\n</div>\\n<div class=\"group_theme\" data-block-id=\"\" data-block-code=\"PC-THEME-BEAUTY-MOBILE-RANKING-VIDEO-2\" data-block-type=\"MATERIALS\" data-template-code=\"MOBILE-RANKING-VIDEO-LIST\" data-index=\"\" data-page=\"2\" style=\"display:none\">\\n\\n\\t<div class=\"media_view_wrap type_column\">\\n\\t\\t<div class=\"media_view\">\\n\\t\\t\\t\\n\\t\\t\\t\\t<a href=\"https://tv.naver.com/v/24348531\" class=\"media_area\" data-gdid=\"906c5766-e7ed-4794-8882-15014f766482\" data-clk=\"tcc_bty.video3cont1\" target=\"_blank\">\\n\\t\\t\\t\\t\\t<div class=\"media_thumb\">\\n\\t\\t\\t\\t\\t\\t<img alt=\"고르고 고른 클렌저 &amp; 선크림\" width=\"232\" height=\"130\" onerror=\"this.outerHTML=\\'<span class=\\\\\\'pm_noimg\\\\\\'><span class=\\\\\\'noimg_text\\\\\\'>이미지 준비중</span></span>\\'\" loading=\"lazy\" src=\"https://s.pstatic.net/dthumb.phinf/?src=%22https%3A%2F%2Fs.pstatic.net%2Fshop.phinf%2F20211230_65%2F16408592488816AY8m_JPEG%2F1640826062245.jpg%3Ftype%3Df342_264%22&amp;type=nf464_260\">\\n\\t\\t\\t\\t\\t\\t<span class=\"thumb_dim\"></span>\\n\\t\\t\\t\\t\\t\\t<span class=\"thumb_bd\"></span>\\n\\t\\t\\t\\t\\t\\t<i class=\"pm_ico_play\"><span class=\"blind\">재생</span></i>\\n\\t\\t\\t\\t\\t\\t<span class=\"theme_runtime\"><span class=\"runtime_bg\">재생시간</span><em class=\"time\">07:45</em></span>\\n\\t\\t\\t\\t\\t</div>\\n\\t\\t\\t\\t\\t<div class=\"media_info\">\\n\\t\\t\\t\\t\\t\\t<div class=\"info_box\">\\n\\t\\t\\t\\t\\t\\t\\t<strong class=\"title\">고르고 고른 클렌저 &amp; 선크림</strong>\\n\\t\\t\\t\\t\\t\\t\\t<div class=\"source_wrap\">\\n\\t\\t\\t\\t\\t\\t\\t\\t<span class=\"date\">1개월 전</span>\\n\\t\\t\\t\\t\\t\\t\\t\\t<span class=\"source\">\\n                                    \\n                                    <span class=\"source_inner\">디렉터파이</span>\\n                                </span>\\n\\t\\t\\t\\t\\t\\t\\t</div>\\n\\t\\t\\t\\t\\t\\t</div>\\n\\t\\t\\t\\t\\t</div>\\n\\t\\t\\t\\t</a>\\n\\t\\t\\t\\n\\t\\t\\t\\t<a href=\"https://tv.naver.com/v/24310962\" class=\"media_area\" data-gdid=\"52fd53df-8d90-4e7b-a7e4-aaec1ba780ec\" data-clk=\"tcc_bty.video3cont2\" target=\"_blank\">\\n\\t\\t\\t\\t\\t<div class=\"media_thumb\">\\n\\t\\t\\t\\t\\t\\t<img alt=\"인생 쿠션 4대 천왕 비교 추천\" width=\"232\" height=\"130\" onerror=\"this.outerHTML=\\'<span class=\\\\\\'pm_noimg\\\\\\'><span class=\\\\\\'noimg_text\\\\\\'>이미지 준비중</span></span>\\'\" loading=\"lazy\" src=\"https://s.pstatic.net/dthumb.phinf/?src=%22https%3A%2F%2Fs.pstatic.net%2Fshop.phinf%2F20211228_100%2F1640683085849NRITv_JPEG%2F1640666040457.jpg%3Ftype%3Df342_264%22&amp;type=nf464_260\">\\n\\t\\t\\t\\t\\t\\t<span class=\"thumb_dim\"></span>\\n\\t\\t\\t\\t\\t\\t<span class=\"thumb_bd\"></span>\\n\\t\\t\\t\\t\\t\\t<i class=\"pm_ico_play\"><span class=\"blind\">재생</span></i>\\n\\t\\t\\t\\t\\t\\t<span class=\"theme_runtime\"><span class=\"runtime_bg\">재생시간</span><em class=\"time\">10:44</em></span>\\n\\t\\t\\t\\t\\t</div>\\n\\t\\t\\t\\t\\t<div class=\"media_info\">\\n\\t\\t\\t\\t\\t\\t<div class=\"info_box\">\\n\\t\\t\\t\\t\\t\\t\\t<strong class=\"title\">인생 쿠션 4대 천왕 비교 추천</strong>\\n\\t\\t\\t\\t\\t\\t\\t<div class=\"source_wrap\">\\n\\t\\t\\t\\t\\t\\t\\t\\t<span class=\"date\">1개월 전</span>\\n\\t\\t\\t\\t\\t\\t\\t\\t<span class=\"source\">\\n                                    \\n                                    <span class=\"source_inner\">뷰티+여드름 인씨</span>\\n                                </span>\\n\\t\\t\\t\\t\\t\\t\\t</div>\\n\\t\\t\\t\\t\\t\\t</div>\\n\\t\\t\\t\\t\\t</div>\\n\\t\\t\\t\\t</a>\\n\\t\\t\\t\\n\\t\\t\\t\\t<a href=\"https://tv.naver.com/v/24249622\" class=\"media_area\" data-gdid=\"2e55943c-9bb7-4c25-a8d6-e64d8cef20af\" data-clk=\"tcc_bty.video3cont3\" target=\"_blank\">\\n\\t\\t\\t\\t\\t<div class=\"media_thumb\">\\n\\t\\t\\t\\t\\t\\t<img alt=\"기초 부문 TOP of TOP 제품\" width=\"232\" height=\"130\" onerror=\"this.outerHTML=\\'<span class=\\\\\\'pm_noimg\\\\\\'><span class=\\\\\\'noimg_text\\\\\\'>이미지 준비중</span></span>\\'\" loading=\"lazy\" src=\"https://s.pstatic.net/dthumb.phinf/?src=%22https%3A%2F%2Fs.pstatic.net%2Fshop.phinf%2F20211228_112%2F1640682538703XhrkS_JPEG%2F1640336038796.jpg%3Ftype%3Df342_264%22&amp;type=nf464_260\">\\n\\t\\t\\t\\t\\t\\t<span class=\"thumb_dim\"></span>\\n\\t\\t\\t\\t\\t\\t<span class=\"thumb_bd\"></span>\\n\\t\\t\\t\\t\\t\\t<i class=\"pm_ico_play\"><span class=\"blind\">재생</span></i>\\n\\t\\t\\t\\t\\t\\t<span class=\"theme_runtime\"><span class=\"runtime_bg\">재생시간</span><em class=\"time\">07:11</em></span>\\n\\t\\t\\t\\t\\t</div>\\n\\t\\t\\t\\t\\t<div class=\"media_info\">\\n\\t\\t\\t\\t\\t\\t<div class=\"info_box\">\\n\\t\\t\\t\\t\\t\\t\\t<strong class=\"title\">기초 부문 TOP of TOP 제품</strong>\\n\\t\\t\\t\\t\\t\\t\\t<div class=\"source_wrap\">\\n\\t\\t\\t\\t\\t\\t\\t\\t<span class=\"date\">1개월 전</span>\\n\\t\\t\\t\\t\\t\\t\\t\\t<span class=\"source\">\\n                                    \\n                                    <span class=\"source_inner\">디렉터파이</span>\\n                                </span>\\n\\t\\t\\t\\t\\t\\t\\t</div>\\n\\t\\t\\t\\t\\t\\t</div>\\n\\t\\t\\t\\t\\t</div>\\n\\t\\t\\t\\t</a>\\n\\t\\t\\t\\n\\t\\t</div>\\n\\t</div>\\n</div>\\n<div class=\"group_theme\" data-block-id=\"\" data-block-code=\"PC-THEME-BEAUTY-MOBILE-RANKING-DEFAULT-3\" data-block-type=\"MATERIALS\" data-template-code=\"MOBILE-RANKING-LIST\" data-da=\"container\" data-index=\"\" data-page=\"2\" style=\"display:none\">\\n\\n\\t<div class=\"list_theme_wrap\">\\n\\t\\t<ul class=\"list_theme\">\\n\\t\\t\\t\\n\\t\\t\\t\\t<li class=\"theme_item\" data-gdid=\"620b0ddde2a0218b2e002472\" data-da-position=\"true\">\\n\\t\\t\\t\\t\\t<a href=\"https://m.blog.naver.com/PostView.naver?blogId=ik0726&amp;logNo=222643533196&amp;proxyReferer=\" class=\"theme_thumb\" data-clk=\"tcc_bty.list4cont1\" target=\"_blank\">\\n\\t\\t\\t\\t\\t\\t<img alt=\"헤라 오토 펜슬 브로우\" width=\"170\" height=\"114\" onerror=\"this.outerHTML=\\'<span class=\\\\\\'pm_noimg\\\\\\'><span class=\\\\\\'noimg_text\\\\\\'>이미지 준비중</span></span>\\'\" loading=\"lazy\" src=\"https://s.pstatic.net/dthumb.phinf/?src=%22https%3A%2F%2Fs.pstatic.net%2Fshop.phinf%2F20220215_99%2F16448916663327WeCl_JPEG%2F1-3.jpg%3Ftype%3Df342_342%22&amp;type=nf340_228\">\\n\\t\\t\\t\\t\\t\\t<span class=\"thumb_bd\"></span>\\n                        \\n\\t\\t\\t\\t\\t</a>\\n\\t\\t\\t\\t\\t<a href=\"https://m.blog.naver.com/PostView.naver?blogId=ik0726&amp;logNo=222643533196&amp;proxyReferer=\" class=\"theme_info\" data-clk=\"tcc_bty.list4cont1\" target=\"_blank\">\\n\\t\\t\\t\\t\\t\\t<em class=\"theme_category\"> 패션뷰티</em>\\n\\t\\t\\t\\t\\t\\t<strong class=\"title elss\">헤라 오토 펜슬 브로우</strong>\\n                        <p class=\"desc\">안녕하세요. : ) 민슨이에요. 저는 솔!!! 직!! 히!! 눈썹 그리기가 가장 어렵더라고요. 아이라인은 뭐 섀도우로 대충~ 요 라인대로 가이드를 그리고 나서 쭉~ 그어주면 되지만! 이상하게 요 눈썹은 굉장히 어렵더라고요. 아마도 내 얼굴에 맞는 눈썹인지, 그리고 또 대칭은 맞는지, 이것저것 신경을 쓰다 보니 더 그리기가 망설여지고 어쩜 이렇게 내 머리색과</p>\\n\\t\\t\\t\\t\\t\\t<div class=\"source_box\">\\n\\t\\t\\t\\t\\t\\t\\t<span class=\"date\">2주일 전</span>\\n\\t\\t\\t\\t\\t\\t\\t<span class=\"source\">\\n                                \\n                                <span class=\"source_inner\">뷰스타 민슨</span>\\n                            </span>\\n\\t\\t\\t\\t\\t\\t</div>\\n\\t\\t\\t\\t\\t</a>\\n\\t\\t\\t\\t</li>\\n\\t\\t\\t\\n\\t\\t\\t\\t<li class=\"theme_item\" data-gdid=\"620b0ddde2a0218b2e002473\" data-da-position=\"true\">\\n\\t\\t\\t\\t\\t<a href=\"https://m.blog.naver.com/PostView.naver?blogId=bambi_showpu&amp;logNo=222643248232&amp;proxyReferer=\" class=\"theme_thumb\" data-clk=\"tcc_bty.list4cont2\" target=\"_blank\">\\n\\t\\t\\t\\t\\t\\t<img alt=\"뮤드 섀도 팔레트\" width=\"170\" height=\"114\" onerror=\"this.outerHTML=\\'<span class=\\\\\\'pm_noimg\\\\\\'><span class=\\\\\\'noimg_text\\\\\\'>이미지 준비중</span></span>\\'\" loading=\"lazy\" src=\"https://s.pstatic.net/dthumb.phinf/?src=%22https%3A%2F%2Fs.pstatic.net%2Fshop.phinf%2F20220215_205%2F1644891669800jzeQw_JPEG%2F1-4.jpg%3Ftype%3Df342_342%22&amp;type=nf340_228\">\\n\\t\\t\\t\\t\\t\\t<span class=\"thumb_bd\"></span>\\n                        \\n\\t\\t\\t\\t\\t</a>\\n\\t\\t\\t\\t\\t<a href=\"https://m.blog.naver.com/PostView.naver?blogId=bambi_showpu&amp;logNo=222643248232&amp;proxyReferer=\" class=\"theme_info\" data-clk=\"tcc_bty.list4cont2\" target=\"_blank\">\\n\\t\\t\\t\\t\\t\\t<em class=\"theme_category\"> 패션뷰티</em>\\n\\t\\t\\t\\t\\t\\t<strong class=\"title elss\">뮤드 섀도 팔레트</strong>\\n                        <p class=\"desc\">마스크 때문에 메이크업이 전체적으로 간단해졌어도 놓칠 수 없는 건 바로 눈화장인데요 이번엔 데일리는 물론 포인트 메이크업까지 한 번에 가능한 섀도우 팔레트 추천템! 뮤드 숄 모먼트 아이섀도우 팔레트 후기를 가져왔어요 01호 웜 메모리, 02호 뮤즈 모먼트 이렇게 두 가지 제품으로 웜톤, 쿨톤 &amp; 뮤트톤에 어울리는 눈화장하는법을 알려드릴게요 뮤드 숄 모먼트 </p>\\n\\t\\t\\t\\t\\t\\t<div class=\"source_box\">\\n\\t\\t\\t\\t\\t\\t\\t<span class=\"date\">2주일 전</span>\\n\\t\\t\\t\\t\\t\\t\\t<span class=\"source\">\\n                                \\n                                <span class=\"source_inner\">Hello Bambi</span>\\n                            </span>\\n\\t\\t\\t\\t\\t\\t</div>\\n\\t\\t\\t\\t\\t</a>\\n\\t\\t\\t\\t</li>\\n\\t\\t\\t\\n\\t\\t\\t\\t<li class=\"theme_item\" data-gdid=\"05b70892-9c2c-4128-a2b3-c1b8cd0cd08d\" data-da-position=\"true\">\\n\\t\\t\\t\\t\\t<a href=\"https://blog.naver.com/qlsnddl2/222644897051\" class=\"theme_thumb\" data-clk=\"tcc_bty.list4cont3\" target=\"_blank\">\\n\\t\\t\\t\\t\\t\\t<img alt=\"메이크업포에버 신상 파데 후기\" width=\"170\" height=\"114\" onerror=\"this.outerHTML=\\'<span class=\\\\\\'pm_noimg\\\\\\'><span class=\\\\\\'noimg_text\\\\\\'>이미지 준비중</span></span>\\'\" loading=\"lazy\" src=\"https://s.pstatic.net/dthumb.phinf/?src=%22https%3A%2F%2Fs.pstatic.net%2Fshop.phinf%2F20220217_234%2F1645096823685BRxph_JPEG%2FKUT.jpg%3Ftype%3Df342_264%22&amp;type=nf340_228\">\\n\\t\\t\\t\\t\\t\\t<span class=\"thumb_bd\"></span>\\n                        \\n\\t\\t\\t\\t\\t</a>\\n\\t\\t\\t\\t\\t<a href=\"https://blog.naver.com/qlsnddl2/222644897051\" class=\"theme_info\" data-clk=\"tcc_bty.list4cont3\" target=\"_blank\">\\n\\t\\t\\t\\t\\t\\t<em class=\"theme_category\"> 패션뷰티</em>\\n\\t\\t\\t\\t\\t\\t<strong class=\"title elss\">메이크업포에버 신상 파데 후기</strong>\\n                        <p class=\"desc\">메이크업포에버 HD SKIN 언디텍터블 스테이-트루 파운데이션 ( 14 shades | 64,000 원대 ) #파데맛집 하면 가장 먼저 떠오르는 #메이크업포에버 에서 이번에 #HDSKIN #파운데이션 을 새롭게 선보인답니다🖤 메이크업포에버 신상 파데는 출시될 때마다 항상 설레이는데, 이번 HD SKIN 파운데이션은 진짜 역대급이라 호다닥 리뷰를 가져와봤어</p>\\n\\t\\t\\t\\t\\t\\t<div class=\"source_box\">\\n\\t\\t\\t\\t\\t\\t\\t<span class=\"date\">1주일 전</span>\\n\\t\\t\\t\\t\\t\\t\\t<span class=\"source\">\\n                                \\n                                <span class=\"source_inner\">의율</span>\\n                            </span>\\n\\t\\t\\t\\t\\t\\t</div>\\n\\t\\t\\t\\t\\t</a>\\n\\t\\t\\t\\t</li>\\n\\t\\t\\t\\n\\t\\t\\t\\t<li class=\"theme_item\" data-gdid=\"620b0b03a6768d8b35c8ba2d\" data-da-position=\"true\">\\n\\t\\t\\t\\t\\t<a href=\"https://m.blog.naver.com/PostView.naver?blogId=pigmongyy&amp;logNo=222632234662&amp;proxyReferer=\" class=\"theme_thumb\" data-clk=\"tcc_bty.list4cont4\" target=\"_blank\">\\n\\t\\t\\t\\t\\t\\t<img alt=\"MOS 아이 팔레트\" width=\"170\" height=\"114\" onerror=\"this.outerHTML=\\'<span class=\\\\\\'pm_noimg\\\\\\'><span class=\\\\\\'noimg_text\\\\\\'>이미지 준비중</span></span>\\'\" loading=\"lazy\" src=\"https://s.pstatic.net/dthumb.phinf/?src=%22https%3A%2F%2Fs.pstatic.net%2Fshop.phinf%2F20220215_209%2F16448909035071Skyr_JPEG%2F1-1.jpg%3Ftype%3Df342_342%22&amp;type=nf340_228\">\\n\\t\\t\\t\\t\\t\\t<span class=\"thumb_bd\"></span>\\n                        \\n\\t\\t\\t\\t\\t</a>\\n\\t\\t\\t\\t\\t<a href=\"https://m.blog.naver.com/PostView.naver?blogId=pigmongyy&amp;logNo=222632234662&amp;proxyReferer=\" class=\"theme_info\" data-clk=\"tcc_bty.list4cont4\" target=\"_blank\">\\n\\t\\t\\t\\t\\t\\t<em class=\"theme_category\"> 패션뷰티</em>\\n\\t\\t\\t\\t\\t\\t<strong class=\"title elss\">MOS 아이 팔레트</strong>\\n                        <p class=\"desc\">안녕하세요 늘보입니당~ 오랜만에 블로그로 찾아뵙네요ㅎㅎ 오늘은 요즘 핫한 코스메틱 브랜드인 MOS 모스의 신상을 들고 왔어요. 기존의 립제품들도 제품력이 너무 좋아서 아직까지 잘 쓰고 있었는데 이번에 아이컬렉션이 출시되었다고 해요ㅜㅜ 행복... 오늘은 요 아이컬렉션을 이용한 메이크업룩 3가지를 보여드릴거에요. 이번 모스 컬러리웨이 컬렉션은 아이섀도우팔레트 </p>\\n\\t\\t\\t\\t\\t\\t<div class=\"source_box\">\\n\\t\\t\\t\\t\\t\\t\\t<span class=\"date\">4주일 전</span>\\n\\t\\t\\t\\t\\t\\t\\t<span class=\"source\">\\n                                \\n                                <span class=\"source_inner\">늘보</span>\\n                            </span>\\n\\t\\t\\t\\t\\t\\t</div>\\n\\t\\t\\t\\t\\t</a>\\n\\t\\t\\t\\t</li>\\n\\t\\t\\t\\n\\t\\t\\t\\t<li class=\"theme_item\" data-gdid=\"620b0b03a6768d8b35c8ba2e\" data-da-position=\"true\">\\n\\t\\t\\t\\t\\t<a href=\"https://m.blog.naver.com/PostView.naver?blogId=bbeyeliner&amp;logNo=222615424405&amp;proxyReferer=\" class=\"theme_thumb\" data-clk=\"tcc_bty.list4cont5\" target=\"_blank\">\\n\\t\\t\\t\\t\\t\\t<img alt=\"톰포드 비터피치 컬렉션\" width=\"170\" height=\"114\" onerror=\"this.outerHTML=\\'<span class=\\\\\\'pm_noimg\\\\\\'><span class=\\\\\\'noimg_text\\\\\\'>이미지 준비중</span></span>\\'\" loading=\"lazy\" src=\"https://s.pstatic.net/dthumb.phinf/?src=%22https%3A%2F%2Fs.pstatic.net%2Fshop.phinf%2F20220215_217%2F1644890906599BWAzO_JPEG%2F1-2.jpg%3Ftype%3Df342_342%22&amp;type=nf340_228\">\\n\\t\\t\\t\\t\\t\\t<span class=\"thumb_bd\"></span>\\n                        \\n\\t\\t\\t\\t\\t</a>\\n\\t\\t\\t\\t\\t<a href=\"https://m.blog.naver.com/PostView.naver?blogId=bbeyeliner&amp;logNo=222615424405&amp;proxyReferer=\" class=\"theme_info\" data-clk=\"tcc_bty.list4cont5\" target=\"_blank\">\\n\\t\\t\\t\\t\\t\\t<em class=\"theme_category\"> 패션뷰티</em>\\n\\t\\t\\t\\t\\t\\t<strong class=\"title elss\">톰포드 비터피치 컬렉션</strong>\\n                        <p class=\"desc\">안녕하세요 비비아라입니다! 오늘 포스팅 할 제품은 인스타그램으론 먼저 보여드린 톰포드 뷰티의 \\'비터 피치\\' 컬렉션 입니다! 왜 블로그는 이제서야 포스팅하냐구요? 왜냐면 오늘이 바로 비터 피치의 공식출시일이거든여!!!!!!!! 이번 비터 피치 컬렉션은 기존에 제가 갖고있던 톰포드의 올드한 이미지가 아닌 영한 느낌이었는데요 원래는 향수 애호가들을 위해 만든 .</p>\\n\\t\\t\\t\\t\\t\\t<div class=\"source_box\">\\n\\t\\t\\t\\t\\t\\t\\t<span class=\"date\">1개월 전</span>\\n\\t\\t\\t\\t\\t\\t\\t<span class=\"source\">\\n                                \\n                                <span class=\"source_inner\">비비아라</span>\\n                            </span>\\n\\t\\t\\t\\t\\t\\t</div>\\n\\t\\t\\t\\t\\t</a>\\n\\t\\t\\t\\t</li>\\n\\t\\t\\t\\n\\t\\t</ul>\\n\\t</div>\\n</div>\\n<div class=\"group_theme\" data-block-id=\"\" data-block-code=\"PC-THEME-BEAUTY-MOBILE-RANKING-VIDEO-3\" data-block-type=\"MATERIALS\" data-template-code=\"MOBILE-RANKING-VIDEO-LIST\" data-index=\"\" data-page=\"2\" style=\"display:none\">\\n\\n\\t<div class=\"media_view_wrap type_column\">\\n\\t\\t<div class=\"media_view\">\\n\\t\\t\\t\\n\\t\\t\\t\\t<a href=\"https://tv.naver.com/v/24178843\" class=\"media_area\" data-gdid=\"c2ee6630-8f5a-4f72-9809-e48c3ebc3b69\" data-clk=\"tcc_bty.video4cont1\" target=\"_blank\">\\n\\t\\t\\t\\t\\t<div class=\"media_thumb\">\\n\\t\\t\\t\\t\\t\\t<img alt=\"코트 입을 때 흔히 하는 실수\" width=\"232\" height=\"130\" onerror=\"this.outerHTML=\\'<span class=\\\\\\'pm_noimg\\\\\\'><span class=\\\\\\'noimg_text\\\\\\'>이미지 준비중</span></span>\\'\" loading=\"lazy\" src=\"https://s.pstatic.net/dthumb.phinf/?src=%22https%3A%2F%2Fs.pstatic.net%2Fshop.phinf%2F20211224_91%2F1640337619470281o9_JPEG%2F1640057008189.jpg%3Ftype%3Df342_264%22&amp;type=nf464_260\">\\n\\t\\t\\t\\t\\t\\t<span class=\"thumb_dim\"></span>\\n\\t\\t\\t\\t\\t\\t<span class=\"thumb_bd\"></span>\\n\\t\\t\\t\\t\\t\\t<i class=\"pm_ico_play\"><span class=\"blind\">재생</span></i>\\n\\t\\t\\t\\t\\t\\t<span class=\"theme_runtime\"><span class=\"runtime_bg\">재생시간</span><em class=\"time\">05:10</em></span>\\n\\t\\t\\t\\t\\t</div>\\n\\t\\t\\t\\t\\t<div class=\"media_info\">\\n\\t\\t\\t\\t\\t\\t<div class=\"info_box\">\\n\\t\\t\\t\\t\\t\\t\\t<strong class=\"title\">코트 입을 때 흔히 하는 실수</strong>\\n\\t\\t\\t\\t\\t\\t\\t<div class=\"source_wrap\">\\n\\t\\t\\t\\t\\t\\t\\t\\t<span class=\"date\">2개월 전</span>\\n\\t\\t\\t\\t\\t\\t\\t\\t<span class=\"source\">\\n                                    \\n                                    <span class=\"source_inner\">옆집언니 최실장</span>\\n                                </span>\\n\\t\\t\\t\\t\\t\\t\\t</div>\\n\\t\\t\\t\\t\\t\\t</div>\\n\\t\\t\\t\\t\\t</div>\\n\\t\\t\\t\\t</a>\\n\\t\\t\\t\\n\\t\\t\\t\\t<a href=\"https://tv.naver.com/v/23922663\" class=\"media_area\" data-gdid=\"81fd7f11-5073-4d3b-83c8-6290f559797f\" data-clk=\"tcc_bty.video4cont2\" target=\"_blank\">\\n\\t\\t\\t\\t\\t<div class=\"media_thumb\">\\n\\t\\t\\t\\t\\t\\t<img alt=\"한 끗 차이로 다른 부츠 코디\" width=\"232\" height=\"130\" onerror=\"this.outerHTML=\\'<span class=\\\\\\'pm_noimg\\\\\\'><span class=\\\\\\'noimg_text\\\\\\'>이미지 준비중</span></span>\\'\" loading=\"lazy\" src=\"https://s.pstatic.net/dthumb.phinf/?src=%22https%3A%2F%2Fs.pstatic.net%2Fshop.phinf%2F20211223_266%2F1640256398641zcuWF_JPEG%2F1640056844546.jpg%3Ftype%3Df342_264%22&amp;type=nf464_260\">\\n\\t\\t\\t\\t\\t\\t<span class=\"thumb_dim\"></span>\\n\\t\\t\\t\\t\\t\\t<span class=\"thumb_bd\"></span>\\n\\t\\t\\t\\t\\t\\t<i class=\"pm_ico_play\"><span class=\"blind\">재생</span></i>\\n\\t\\t\\t\\t\\t\\t<span class=\"theme_runtime\"><span class=\"runtime_bg\">재생시간</span><em class=\"time\">10:48</em></span>\\n\\t\\t\\t\\t\\t</div>\\n\\t\\t\\t\\t\\t<div class=\"media_info\">\\n\\t\\t\\t\\t\\t\\t<div class=\"info_box\">\\n\\t\\t\\t\\t\\t\\t\\t<strong class=\"title\">한 끗 차이로 다른 부츠 코디</strong>\\n\\t\\t\\t\\t\\t\\t\\t<div class=\"source_wrap\">\\n\\t\\t\\t\\t\\t\\t\\t\\t<span class=\"date\">2개월 전</span>\\n\\t\\t\\t\\t\\t\\t\\t\\t<span class=\"source\">\\n                                    \\n                                    <span class=\"source_inner\">옆집언니 최실장</span>\\n                                </span>\\n\\t\\t\\t\\t\\t\\t\\t</div>\\n\\t\\t\\t\\t\\t\\t</div>\\n\\t\\t\\t\\t\\t</div>\\n\\t\\t\\t\\t</a>\\n\\t\\t\\t\\n\\t\\t\\t\\t<a href=\"https://tv.naver.com/v/23888584\" class=\"media_area\" data-gdid=\"b722cfbb-1f28-4647-a0f4-17939dd18c4c\" data-clk=\"tcc_bty.video4cont3\" target=\"_blank\">\\n\\t\\t\\t\\t\\t<div class=\"media_thumb\">\\n\\t\\t\\t\\t\\t\\t<img alt=\"기은세의 여행을 위한 패딩 룩\" width=\"232\" height=\"130\" onerror=\"this.outerHTML=\\'<span class=\\\\\\'pm_noimg\\\\\\'><span class=\\\\\\'noimg_text\\\\\\'>이미지 준비중</span></span>\\'\" loading=\"lazy\" src=\"https://s.pstatic.net/dthumb.phinf/?src=%22https%3A%2F%2Fs.pstatic.net%2Fshop.phinf%2F20211220_279%2F1639994184599mp2HA_JPEG%2F1638524039731.jpg%3Ftype%3Df342_264%22&amp;type=nf464_260\">\\n\\t\\t\\t\\t\\t\\t<span class=\"thumb_dim\"></span>\\n\\t\\t\\t\\t\\t\\t<span class=\"thumb_bd\"></span>\\n\\t\\t\\t\\t\\t\\t<i class=\"pm_ico_play\"><span class=\"blind\">재생</span></i>\\n\\t\\t\\t\\t\\t\\t<span class=\"theme_runtime\"><span class=\"runtime_bg\">재생시간</span><em class=\"time\">06:52</em></span>\\n\\t\\t\\t\\t\\t</div>\\n\\t\\t\\t\\t\\t<div class=\"media_info\">\\n\\t\\t\\t\\t\\t\\t<div class=\"info_box\">\\n\\t\\t\\t\\t\\t\\t\\t<strong class=\"title\">기은세의 여행을 위한 패딩 룩</strong>\\n\\t\\t\\t\\t\\t\\t\\t<div class=\"source_wrap\">\\n\\t\\t\\t\\t\\t\\t\\t\\t<span class=\"date\">2개월 전</span>\\n\\t\\t\\t\\t\\t\\t\\t\\t<span class=\"source\">\\n                                    \\n                                    <span class=\"source_inner\">기은세 (Ki EunSe)</span>\\n                                </span>\\n\\t\\t\\t\\t\\t\\t\\t</div>\\n\\t\\t\\t\\t\\t\\t</div>\\n\\t\\t\\t\\t\\t</div>\\n\\t\\t\\t\\t</a>\\n\\t\\t\\t\\n\\t\\t</div>\\n\\t</div>\\n</div>\\n<div class=\"group_theme\" data-block-id=\"\" data-block-code=\"PC-THEME-BEAUTY-MOBILE-RANKING-DEFAULT-4\" data-block-type=\"MATERIALS\" data-template-code=\"MOBILE-RANKING-LIST\" data-da=\"container\" data-index=\"\" data-page=\"3\" style=\"display:none\">\\n\\n\\t<div class=\"list_theme_wrap\">\\n\\t\\t<ul class=\"list_theme\">\\n\\t\\t\\t\\n\\t\\t\\t\\t<li class=\"theme_item\" data-gdid=\"620b0b03a6768d8b35c8ba2f\" data-da-position=\"true\">\\n\\t\\t\\t\\t\\t<a href=\"https://m.blog.naver.com/PostView.naver?blogId=y940124&amp;logNo=222518875849&amp;proxyReferer=\" class=\"theme_thumb\" data-clk=\"tcc_bty.list5cont1\" target=\"_blank\">\\n\\t\\t\\t\\t\\t\\t<img alt=\"베리썸 비건 블러셔\" width=\"170\" height=\"114\" onerror=\"this.outerHTML=\\'<span class=\\\\\\'pm_noimg\\\\\\'><span class=\\\\\\'noimg_text\\\\\\'>이미지 준비중</span></span>\\'\" loading=\"lazy\" src=\"https://s.pstatic.net/dthumb.phinf/?src=%22https%3A%2F%2Fs.pstatic.net%2Fshop.phinf%2F20220215_63%2F1644890937083pK40G_JPEG%2F1-3.jpg%3Ftype%3Df342_342%22&amp;type=nf340_228\">\\n\\t\\t\\t\\t\\t\\t<span class=\"thumb_bd\"></span>\\n                        \\n\\t\\t\\t\\t\\t</a>\\n\\t\\t\\t\\t\\t<a href=\"https://m.blog.naver.com/PostView.naver?blogId=y940124&amp;logNo=222518875849&amp;proxyReferer=\" class=\"theme_info\" data-clk=\"tcc_bty.list5cont1\" target=\"_blank\">\\n\\t\\t\\t\\t\\t\\t<em class=\"theme_category\"> 패션뷰티</em>\\n\\t\\t\\t\\t\\t\\t<strong class=\"title elss\">베리썸 비건 블러셔</strong>\\n                        <p class=\"desc\">안냥 여러분들 뷰티템 너무나 사랑하고 좋아하는 뷰티 크리에이터 코코입니둥! 오늘은 비건 뷰티 아이템 정말 좋아하는 제가 요 근래에 구매해서 발색도 너무 좋았고 만족하면서 사용을 해서 블로그에 빨리 소개해 드리고 싶은 마음에 이렇게 빨리 촬영을 마치고 왔어용 바로 시작해 볼게융!! 고공 베리썸 워터 컬러 블러셔 5.2g / 11,000원 01로즈버드 / 02</p>\\n\\t\\t\\t\\t\\t\\t<div class=\"source_box\">\\n\\t\\t\\t\\t\\t\\t\\t<span class=\"date\">4개월 전</span>\\n\\t\\t\\t\\t\\t\\t\\t<span class=\"source\">\\n                                \\n                                <span class=\"source_inner\">COCO 코코</span>\\n                            </span>\\n\\t\\t\\t\\t\\t\\t</div>\\n\\t\\t\\t\\t\\t</a>\\n\\t\\t\\t\\t</li>\\n\\t\\t\\t\\n\\t\\t\\t\\t<li class=\"theme_item\" data-gdid=\"620b0b03a6768d8b35c8ba30\" data-da-position=\"true\">\\n\\t\\t\\t\\t\\t<a href=\"https://m.blog.naver.com/PostView.naver?blogId=castqueen&amp;logNo=222638312905&amp;proxyReferer=\" class=\"theme_thumb\" data-clk=\"tcc_bty.list5cont2\" target=\"_blank\">\\n\\t\\t\\t\\t\\t\\t<img alt=\"모델란트 TX BB크림\" width=\"170\" height=\"114\" onerror=\"this.outerHTML=\\'<span class=\\\\\\'pm_noimg\\\\\\'><span class=\\\\\\'noimg_text\\\\\\'>이미지 준비중</span></span>\\'\" loading=\"lazy\" src=\"https://s.pstatic.net/dthumb.phinf/?src=%22https%3A%2F%2Fs.pstatic.net%2Fshop.phinf%2F20220215_48%2F164489094000033Uon_JPEG%2F1-4.jpg%3Ftype%3Df342_342%22&amp;type=nf340_228\">\\n\\t\\t\\t\\t\\t\\t<span class=\"thumb_bd\"></span>\\n                        \\n\\t\\t\\t\\t\\t</a>\\n\\t\\t\\t\\t\\t<a href=\"https://m.blog.naver.com/PostView.naver?blogId=castqueen&amp;logNo=222638312905&amp;proxyReferer=\" class=\"theme_info\" data-clk=\"tcc_bty.list5cont2\" target=\"_blank\">\\n\\t\\t\\t\\t\\t\\t<em class=\"theme_category\"> 패션뷰티</em>\\n\\t\\t\\t\\t\\t\\t<strong class=\"title elss\">모델란트 TX BB크림</strong>\\n                        <p class=\"desc\">안녕하세요 뷰스타 주니비니입니다. 한때 붐이기도했던 비비크림은 단순히 파운데이션같이 페이스 메이크업을 위한 용도가 아니었다고해요. blemsh balm의 약자 인 BB크림으로 원래는 피부과에서 피부를 치료한 다음에 자외선이나 외부 자극으로부터 피부를 보호하는 용도로 사용되었다고하죠. 그래서 오늘 들고온 비비크림추천 제품은 본래의 의도를 잘 살린 에스테틱비비</p>\\n\\t\\t\\t\\t\\t\\t<div class=\"source_box\">\\n\\t\\t\\t\\t\\t\\t\\t<span class=\"date\">2주일 전</span>\\n\\t\\t\\t\\t\\t\\t\\t<span class=\"source\">\\n                                \\n                                <span class=\"source_inner\">주니비니</span>\\n                            </span>\\n\\t\\t\\t\\t\\t\\t</div>\\n\\t\\t\\t\\t\\t</a>\\n\\t\\t\\t\\t</li>\\n\\t\\t\\t\\n\\t\\t\\t\\t<li class=\"theme_item\" data-gdid=\"620a0e70612430be41b1df3f\" data-da-position=\"true\">\\n\\t\\t\\t\\t\\t<a href=\"https://m.blog.naver.com/PostView.naver?blogId=siehl&amp;logNo=222642258368&amp;proxyReferer=\" class=\"theme_thumb\" data-clk=\"tcc_bty.list5cont3\" target=\"_blank\">\\n\\t\\t\\t\\t\\t\\t<img alt=\"유이라 매트 립스틱\" width=\"170\" height=\"114\" onerror=\"this.outerHTML=\\'<span class=\\\\\\'pm_noimg\\\\\\'><span class=\\\\\\'noimg_text\\\\\\'>이미지 준비중</span></span>\\'\" loading=\"lazy\" src=\"https://s.pstatic.net/dthumb.phinf/?src=%22https%3A%2F%2Fs.pstatic.net%2Fshop.phinf%2F20220214_166%2F1644826263206tQASW_JPEG%2F1-1.jpg%3Ftype%3Df342_342%22&amp;type=nf340_228\">\\n\\t\\t\\t\\t\\t\\t<span class=\"thumb_bd\"></span>\\n                        \\n\\t\\t\\t\\t\\t</a>\\n\\t\\t\\t\\t\\t<a href=\"https://m.blog.naver.com/PostView.naver?blogId=siehl&amp;logNo=222642258368&amp;proxyReferer=\" class=\"theme_info\" data-clk=\"tcc_bty.list5cont3\" target=\"_blank\">\\n\\t\\t\\t\\t\\t\\t<em class=\"theme_category\"> 패션뷰티</em>\\n\\t\\t\\t\\t\\t\\t<strong class=\"title elss\">유이라 매트 립스틱</strong>\\n                        <p class=\"desc\">안녕하세요 뷰스타 다랑입니다 :) 오늘은 입술이 편안한 매트립스틱으로 유이라 크리미 매트 립스틱을 소개하려고 해요 겉은 매트하지만 속은 촉촉한 고발색의 립스틱이라서 잦은 수정을 하지 않아도 되고, 입술 상태가 나빠도 바를 수 있는 립스틱이었어요 그래서 수정하는걸 귀찮아하는 분들한테 딱이었는데 그게 바로 접니다 🙋♀️ㅋㅋㅋㅋ 어떤 립스틱인지 자세히 볼까요?</p>\\n\\t\\t\\t\\t\\t\\t<div class=\"source_box\">\\n\\t\\t\\t\\t\\t\\t\\t<span class=\"date\">1주일 전</span>\\n\\t\\t\\t\\t\\t\\t\\t<span class=\"source\">\\n                                \\n                                <span class=\"source_inner\">뷰스타 다랑</span>\\n                            </span>\\n\\t\\t\\t\\t\\t\\t</div>\\n\\t\\t\\t\\t\\t</a>\\n\\t\\t\\t\\t</li>\\n\\t\\t\\t\\n\\t\\t\\t\\t<li class=\"theme_item\" data-gdid=\"620a0e70612430be41b1df40\" data-da-position=\"true\">\\n\\t\\t\\t\\t\\t<a href=\"https://m.blog.naver.com/PostView.naver?blogId=lee130101&amp;logNo=222639520470&amp;proxyReferer=\" class=\"theme_thumb\" data-clk=\"tcc_bty.list5cont4\" target=\"_blank\">\\n\\t\\t\\t\\t\\t\\t<img alt=\"샬롯틸버리 파운데이션\" width=\"170\" height=\"114\" onerror=\"this.outerHTML=\\'<span class=\\\\\\'pm_noimg\\\\\\'><span class=\\\\\\'noimg_text\\\\\\'>이미지 준비중</span></span>\\'\" loading=\"lazy\" src=\"https://s.pstatic.net/dthumb.phinf/?src=%22https%3A%2F%2Fs.pstatic.net%2Fshop.phinf%2F20220214_4%2F1644826251233dVg8u_JPEG%2F1-2.jpg%3Ftype%3Df342_342%22&amp;type=nf340_228\">\\n\\t\\t\\t\\t\\t\\t<span class=\"thumb_bd\"></span>\\n                        \\n\\t\\t\\t\\t\\t</a>\\n\\t\\t\\t\\t\\t<a href=\"https://m.blog.naver.com/PostView.naver?blogId=lee130101&amp;logNo=222639520470&amp;proxyReferer=\" class=\"theme_info\" data-clk=\"tcc_bty.list5cont4\" target=\"_blank\">\\n\\t\\t\\t\\t\\t\\t<em class=\"theme_category\"> 패션뷰티</em>\\n\\t\\t\\t\\t\\t\\t<strong class=\"title elss\">샬롯틸버리 파운데이션</strong>\\n                        <p class=\"desc\">요즘 피부 엄청 민감해서 파운데이션 밑에 크림 좀 발랐다가 너무 두껍게 메이크업되어서 스트레스받은적 한두번아닌데 이번에 만나본 샬롯틸버리 샬롯츠 뷰티풀 스킨 파운데이션 이건 하나만 발라도 꿀잠잔것마냥 얼굴에 예쁜 엔젤링 생기는 파데네요? 저 이거 절대추천합니다 꼭 사용해보셨으면 싶은 마음에 포스팅 준비했어요 샬롯츠 뷰티풀 스킨 파운데이션 (60,000원/ </p>\\n\\t\\t\\t\\t\\t\\t<div class=\"source_box\">\\n\\t\\t\\t\\t\\t\\t\\t<span class=\"date\">2주일 전</span>\\n\\t\\t\\t\\t\\t\\t\\t<span class=\"source\">\\n                                \\n                                <span class=\"source_inner\">웅디니</span>\\n                            </span>\\n\\t\\t\\t\\t\\t\\t</div>\\n\\t\\t\\t\\t\\t</a>\\n\\t\\t\\t\\t</li>\\n\\t\\t\\t\\n\\t\\t\\t\\t<li class=\"theme_item\" data-gdid=\"620a0e70612430be41b1df41\" data-da-position=\"true\">\\n\\t\\t\\t\\t\\t<a href=\"https://m.blog.naver.com/PostView.naver?blogId=ghc0310&amp;logNo=222572040021&amp;proxyReferer=\" class=\"theme_thumb\" data-clk=\"tcc_bty.list5cont5\" target=\"_blank\">\\n\\t\\t\\t\\t\\t\\t<img alt=\"에크멀 브로우 펜슬\" width=\"170\" height=\"114\" onerror=\"this.outerHTML=\\'<span class=\\\\\\'pm_noimg\\\\\\'><span class=\\\\\\'noimg_text\\\\\\'>이미지 준비중</span></span>\\'\" loading=\"lazy\" src=\"https://s.pstatic.net/dthumb.phinf/?src=%22https%3A%2F%2Fs.pstatic.net%2Fshop.phinf%2F20220214_181%2F1644826255878drIJe_JPEG%2F1-3.jpg%3Ftype%3Df342_342%22&amp;type=nf340_228\">\\n\\t\\t\\t\\t\\t\\t<span class=\"thumb_bd\"></span>\\n                        \\n\\t\\t\\t\\t\\t</a>\\n\\t\\t\\t\\t\\t<a href=\"https://m.blog.naver.com/PostView.naver?blogId=ghc0310&amp;logNo=222572040021&amp;proxyReferer=\" class=\"theme_info\" data-clk=\"tcc_bty.list5cont5\" target=\"_blank\">\\n\\t\\t\\t\\t\\t\\t<em class=\"theme_category\"> 패션뷰티</em>\\n\\t\\t\\t\\t\\t\\t<strong class=\"title elss\">에크멀 브로우 펜슬</strong>\\n                        <p class=\"desc\">안냐세요 뷰스타경규입니다 :) 라뮤끄님이 유튜브에서도 언급을 하셨어서 출시까지 엄청 기다렸던 에크멀 아이브로우! 드디어 아이브로우와 브로우 텍스처라이저가 출시되었어요! 저처럼 눈썹 결살려서 그리고싶은데 아이브로우 그리기가 어려우셨던 분들이 사용하시면 넘나 좋을것가은 에크멀 라이브 브로우 :) 제가 이때까지 사용해본 아이브로우 중 가장 얇더라구요..! 1mm</p>\\n\\t\\t\\t\\t\\t\\t<div class=\"source_box\">\\n\\t\\t\\t\\t\\t\\t\\t<span class=\"date\">3개월 전</span>\\n\\t\\t\\t\\t\\t\\t\\t<span class=\"source\">\\n                                \\n                                <span class=\"source_inner\">뷰스타경규</span>\\n                            </span>\\n\\t\\t\\t\\t\\t\\t</div>\\n\\t\\t\\t\\t\\t</a>\\n\\t\\t\\t\\t</li>\\n\\t\\t\\t\\n\\t\\t</ul>\\n\\t</div>\\n</div>\\n<div class=\"group_theme\" data-block-id=\"\" data-block-code=\"PC-THEME-BEAUTY-MOBILE-RANKING-VIDEO-4\" data-block-type=\"MATERIALS\" data-template-code=\"MOBILE-RANKING-VIDEO-LIST\" data-index=\"\" data-page=\"3\" style=\"display:none\">\\n\\n\\t<div class=\"media_view_wrap type_column\">\\n\\t\\t<div class=\"media_view\">\\n\\t\\t\\t\\n\\t\\t\\t\\t<a href=\"https://tv.naver.com/v/23566406\" class=\"media_area\" data-gdid=\"57974d05-c7c2-4964-bdaf-56ff47022eb7\" data-clk=\"tcc_bty.video5cont1\" target=\"_blank\">\\n\\t\\t\\t\\t\\t<div class=\"media_thumb\">\\n\\t\\t\\t\\t\\t\\t<img alt=\"명품 안 부러운 인생 코트 10\" width=\"232\" height=\"130\" onerror=\"this.outerHTML=\\'<span class=\\\\\\'pm_noimg\\\\\\'><span class=\\\\\\'noimg_text\\\\\\'>이미지 준비중</span></span>\\'\" loading=\"lazy\" src=\"https://s.pstatic.net/dthumb.phinf/?src=%22https%3A%2F%2Fs.pstatic.net%2Fshop.phinf%2F20211203_229%2F1638526462481OS5t8_JPEG%2F1637286819699.jpg%3Ftype%3Df342_264%22&amp;type=nf464_260\">\\n\\t\\t\\t\\t\\t\\t<span class=\"thumb_dim\"></span>\\n\\t\\t\\t\\t\\t\\t<span class=\"thumb_bd\"></span>\\n\\t\\t\\t\\t\\t\\t<i class=\"pm_ico_play\"><span class=\"blind\">재생</span></i>\\n\\t\\t\\t\\t\\t\\t<span class=\"theme_runtime\"><span class=\"runtime_bg\">재생시간</span><em class=\"time\">15:52</em></span>\\n\\t\\t\\t\\t\\t</div>\\n\\t\\t\\t\\t\\t<div class=\"media_info\">\\n\\t\\t\\t\\t\\t\\t<div class=\"info_box\">\\n\\t\\t\\t\\t\\t\\t\\t<strong class=\"title\">명품 안 부러운 인생 코트 10</strong>\\n\\t\\t\\t\\t\\t\\t\\t<div class=\"source_wrap\">\\n\\t\\t\\t\\t\\t\\t\\t\\t<span class=\"date\">3개월 전</span>\\n\\t\\t\\t\\t\\t\\t\\t\\t<span class=\"source\">\\n                                    \\n                                    <span class=\"source_inner\">옆집언니 최실장</span>\\n                                </span>\\n\\t\\t\\t\\t\\t\\t\\t</div>\\n\\t\\t\\t\\t\\t\\t</div>\\n\\t\\t\\t\\t\\t</div>\\n\\t\\t\\t\\t</a>\\n\\t\\t\\t\\n\\t\\t\\t\\t<a href=\"https://tv.naver.com/v/23566132\" class=\"media_area\" data-gdid=\"4d667eb3-f14a-4bca-adc3-2e8dfcfcc5bb\" data-clk=\"tcc_bty.video5cont2\" target=\"_blank\">\\n\\t\\t\\t\\t\\t<div class=\"media_thumb\">\\n\\t\\t\\t\\t\\t\\t<img alt=\"예쁜 옷 고를 때 보는 포인트\" width=\"232\" height=\"130\" onerror=\"this.outerHTML=\\'<span class=\\\\\\'pm_noimg\\\\\\'><span class=\\\\\\'noimg_text\\\\\\'>이미지 준비중</span></span>\\'\" loading=\"lazy\" src=\"https://s.pstatic.net/dthumb.phinf/?src=%22https%3A%2F%2Fs.pstatic.net%2Fshop.phinf%2F20211201_44%2F163835376209215hR1_JPEG%2F1637286758465.jpg%3Ftype%3Df342_264%22&amp;type=nf464_260\">\\n\\t\\t\\t\\t\\t\\t<span class=\"thumb_dim\"></span>\\n\\t\\t\\t\\t\\t\\t<span class=\"thumb_bd\"></span>\\n\\t\\t\\t\\t\\t\\t<i class=\"pm_ico_play\"><span class=\"blind\">재생</span></i>\\n\\t\\t\\t\\t\\t\\t<span class=\"theme_runtime\"><span class=\"runtime_bg\">재생시간</span><em class=\"time\">11:51</em></span>\\n\\t\\t\\t\\t\\t</div>\\n\\t\\t\\t\\t\\t<div class=\"media_info\">\\n\\t\\t\\t\\t\\t\\t<div class=\"info_box\">\\n\\t\\t\\t\\t\\t\\t\\t<strong class=\"title\">예쁜 옷 고를 때 보는 포인트</strong>\\n\\t\\t\\t\\t\\t\\t\\t<div class=\"source_wrap\">\\n\\t\\t\\t\\t\\t\\t\\t\\t<span class=\"date\">3개월 전</span>\\n\\t\\t\\t\\t\\t\\t\\t\\t<span class=\"source\">\\n                                    \\n                                    <span class=\"source_inner\">옆집언니 최실장</span>\\n                                </span>\\n\\t\\t\\t\\t\\t\\t\\t</div>\\n\\t\\t\\t\\t\\t\\t</div>\\n\\t\\t\\t\\t\\t</div>\\n\\t\\t\\t\\t</a>\\n\\t\\t\\t\\n\\t\\t\\t\\t<a href=\"https://tv.naver.com/v/23761064\" class=\"media_area\" data-gdid=\"e2c1aab2-ac06-43f4-86e7-3ad233be0b64\" data-clk=\"tcc_bty.video5cont3\" target=\"_blank\">\\n\\t\\t\\t\\t\\t<div class=\"media_thumb\">\\n\\t\\t\\t\\t\\t\\t<img alt=\"채정안의 한겨울 아우터 추천\" width=\"232\" height=\"130\" onerror=\"this.outerHTML=\\'<span class=\\\\\\'pm_noimg\\\\\\'><span class=\\\\\\'noimg_text\\\\\\'>이미지 준비중</span></span>\\'\" loading=\"lazy\" src=\"https://s.pstatic.net/dthumb.phinf/?src=%22https%3A%2F%2Fs.pstatic.net%2Fshop.phinf%2F20211130_206%2F1638256315842XcePG_JPEG%2F1637910133166.jpg%3Ftype%3Df342_264%22&amp;type=nf464_260\">\\n\\t\\t\\t\\t\\t\\t<span class=\"thumb_dim\"></span>\\n\\t\\t\\t\\t\\t\\t<span class=\"thumb_bd\"></span>\\n\\t\\t\\t\\t\\t\\t<i class=\"pm_ico_play\"><span class=\"blind\">재생</span></i>\\n\\t\\t\\t\\t\\t\\t<span class=\"theme_runtime\"><span class=\"runtime_bg\">재생시간</span><em class=\"time\">08:38</em></span>\\n\\t\\t\\t\\t\\t</div>\\n\\t\\t\\t\\t\\t<div class=\"media_info\">\\n\\t\\t\\t\\t\\t\\t<div class=\"info_box\">\\n\\t\\t\\t\\t\\t\\t\\t<strong class=\"title\">채정안의 한겨울 아우터 추천</strong>\\n\\t\\t\\t\\t\\t\\t\\t<div class=\"source_wrap\">\\n\\t\\t\\t\\t\\t\\t\\t\\t<span class=\"date\">2개월 전</span>\\n\\t\\t\\t\\t\\t\\t\\t\\t<span class=\"source\">\\n                                    \\n                                    <span class=\"source_inner\">채정안TV</span>\\n                                </span>\\n\\t\\t\\t\\t\\t\\t\\t</div>\\n\\t\\t\\t\\t\\t\\t</div>\\n\\t\\t\\t\\t\\t</div>\\n\\t\\t\\t\\t</a>\\n\\t\\t\\t\\n\\t\\t</div>\\n\\t</div>\\n</div>\\n<div class=\"group_theme\" data-block-id=\"\" data-block-code=\"PC-THEME-BEAUTY-MOBILE-RANKING-DEFAULT-5\" data-block-type=\"MATERIALS\" data-template-code=\"MOBILE-RANKING-LIST\" data-da=\"container\" data-index=\"\" data-page=\"3\" style=\"display:none\">\\n\\n\\t<div class=\"list_theme_wrap\">\\n\\t\\t<ul class=\"list_theme\">\\n\\t\\t\\t\\n\\t\\t\\t\\t<li class=\"theme_item\" data-gdid=\"620a0e70612430be41b1df42\" data-da-position=\"true\">\\n\\t\\t\\t\\t\\t<a href=\"https://m.blog.naver.com/PostView.naver?blogId=apffhs12&amp;logNo=222642020964&amp;proxyReferer=\" class=\"theme_thumb\" data-clk=\"tcc_bty.list6cont1\" target=\"_blank\">\\n\\t\\t\\t\\t\\t\\t<img alt=\"입큰 아이 겔 패치\" width=\"170\" height=\"114\" onerror=\"this.outerHTML=\\'<span class=\\\\\\'pm_noimg\\\\\\'><span class=\\\\\\'noimg_text\\\\\\'>이미지 준비중</span></span>\\'\" loading=\"lazy\" src=\"https://s.pstatic.net/dthumb.phinf/?src=%22https%3A%2F%2Fs.pstatic.net%2Fshop.phinf%2F20220214_173%2F1644826259018V2yeu_JPEG%2F1-4.jpg%3Ftype%3Df342_342%22&amp;type=nf340_228\">\\n\\t\\t\\t\\t\\t\\t<span class=\"thumb_bd\"></span>\\n                        \\n\\t\\t\\t\\t\\t</a>\\n\\t\\t\\t\\t\\t<a href=\"https://m.blog.naver.com/PostView.naver?blogId=apffhs12&amp;logNo=222642020964&amp;proxyReferer=\" class=\"theme_info\" data-clk=\"tcc_bty.list6cont1\" target=\"_blank\">\\n\\t\\t\\t\\t\\t\\t<em class=\"theme_category\"> 패션뷰티</em>\\n\\t\\t\\t\\t\\t\\t<strong class=\"title elss\">입큰 아이 겔 패치</strong>\\n                        <p class=\"desc\">저 같은 경우는 프리랜서이다 보니 하루 종일 집에서 생얼 몰골로 16시간 컴퓨터만 부여 잡고 일을 해요. 그러다 보면 너무 피곤해서 다음 날 얼굴이 붓기도 하고, 탄력이 떨어져서 평소 보다 눈가 팔자주름 탄력이 떨어보이죠. 저도 좀 더 여유를 갖고 마스크팩도 붙이고 워시오프 타입의 팩도 해보고 싶은데 그렇지 못할 때가 더 많아진 것 같아요. 그래도 요즘 화</p>\\n\\t\\t\\t\\t\\t\\t<div class=\"source_box\">\\n\\t\\t\\t\\t\\t\\t\\t<span class=\"date\">2주일 전</span>\\n\\t\\t\\t\\t\\t\\t\\t<span class=\"source\">\\n                                \\n                                <span class=\"source_inner\">뷰스타 쇼용이</span>\\n                            </span>\\n\\t\\t\\t\\t\\t\\t</div>\\n\\t\\t\\t\\t\\t</a>\\n\\t\\t\\t\\t</li>\\n\\t\\t\\t\\n\\t\\t\\t\\t<li class=\"theme_item\" data-gdid=\"6209a554612430be41b1c8f5\" data-da-position=\"true\">\\n\\t\\t\\t\\t\\t<a href=\"https://m.blog.naver.com/PostView.naver?blogId=lqud&amp;logNo=222636587065&amp;navType=by\" class=\"theme_thumb\" data-clk=\"tcc_bty.list6cont2\" target=\"_blank\">\\n\\t\\t\\t\\t\\t\\t<img alt=\"트윙클팝 글리터 팔레트\" width=\"170\" height=\"114\" onerror=\"this.outerHTML=\\'<span class=\\\\\\'pm_noimg\\\\\\'><span class=\\\\\\'noimg_text\\\\\\'>이미지 준비중</span></span>\\'\" loading=\"lazy\" src=\"https://s.pstatic.net/dthumb.phinf/?src=%22https%3A%2F%2Fs.pstatic.net%2Fshop.phinf%2F20220214_22%2F1644799332317tamEY_JPEG%2F1-1.jpg%3Ftype%3Df342_342%22&amp;type=nf340_228\">\\n\\t\\t\\t\\t\\t\\t<span class=\"thumb_bd\"></span>\\n                        \\n\\t\\t\\t\\t\\t</a>\\n\\t\\t\\t\\t\\t<a href=\"https://m.blog.naver.com/PostView.naver?blogId=lqud&amp;logNo=222636587065&amp;navType=by\" class=\"theme_info\" data-clk=\"tcc_bty.list6cont2\" target=\"_blank\">\\n\\t\\t\\t\\t\\t\\t<em class=\"theme_category\"> 패션뷰티</em>\\n\\t\\t\\t\\t\\t\\t<strong class=\"title elss\">트윙클팝 글리터 팔레트</strong>\\n                        <p class=\"desc\">트윙클팝 펄플렉스 글리터 아이 팔레트 #4 헤이, 핑크 4.5g / 9,900원 [ 내돈내산, 제돈제산 ] 얼마 남지 않은 설 연휴.. 잘 보내고 계시나요!! 저는 컨디션이 안 좋아서 계속 골골대다 이제야 좀 괜찮아져서 컴퓨터 앞에 앉아봤어요 ㅋㅋ 그 김에 예전에 리뷰하려고 찍어놓았던 트윙클팝 펄플렉스 글리터 아이 팔레트가 떠올라서 급하게 후기 가져왔습니당</p>\\n\\t\\t\\t\\t\\t\\t<div class=\"source_box\">\\n\\t\\t\\t\\t\\t\\t\\t<span class=\"date\">3주일 전</span>\\n\\t\\t\\t\\t\\t\\t\\t<span class=\"source\">\\n                                \\n                                <span class=\"source_inner\">제제</span>\\n                            </span>\\n\\t\\t\\t\\t\\t\\t</div>\\n\\t\\t\\t\\t\\t</a>\\n\\t\\t\\t\\t</li>\\n\\t\\t\\t\\n\\t\\t\\t\\t<li class=\"theme_item\" data-gdid=\"6209a554612430be41b1c8f6\" data-da-position=\"true\">\\n\\t\\t\\t\\t\\t<a href=\"https://m.blog.naver.com/PostView.naver?blogId=hyun8042&amp;logNo=222628666991&amp;proxyReferer=\" class=\"theme_thumb\" data-clk=\"tcc_bty.list6cont3\" target=\"_blank\">\\n\\t\\t\\t\\t\\t\\t<img alt=\"투페이스드 하트 블러셔\" width=\"170\" height=\"114\" onerror=\"this.outerHTML=\\'<span class=\\\\\\'pm_noimg\\\\\\'><span class=\\\\\\'noimg_text\\\\\\'>이미지 준비중</span></span>\\'\" loading=\"lazy\" src=\"https://s.pstatic.net/dthumb.phinf/?src=%22https%3A%2F%2Fs.pstatic.net%2Fshop.phinf%2F20220214_271%2F1644799335152XL5FK_JPEG%2F1-2.jpg%3Ftype%3Df342_342%22&amp;type=nf340_228\">\\n\\t\\t\\t\\t\\t\\t<span class=\"thumb_bd\"></span>\\n                        \\n\\t\\t\\t\\t\\t</a>\\n\\t\\t\\t\\t\\t<a href=\"https://m.blog.naver.com/PostView.naver?blogId=hyun8042&amp;logNo=222628666991&amp;proxyReferer=\" class=\"theme_info\" data-clk=\"tcc_bty.list6cont3\" target=\"_blank\">\\n\\t\\t\\t\\t\\t\\t<em class=\"theme_category\"> 패션뷰티</em>\\n\\t\\t\\t\\t\\t\\t<strong class=\"title elss\">투페이스드 하트 블러셔</strong>\\n                        <p class=\"desc\">러블리함의 극치를 보여주는 투페이스드! 제가 이전에 레이디 볼드 틴팅 립스틱 소개해 드리면서 쨍한 발색과 아이코닉한 디자인 때문에 이건 무조건 겟 하셔야 한다고 말씀드렸었는데요..! 오늘 소개해 드리는 블러셔는.... 진짜 진짜 겟 하셔야 해요 왜냐하면 각인 서비스가 있어서 소장 가치가 장난 아니거든요 마치 사랑에 빠진 것처럼 발그레하게 두 뺨을 물들고 러</p>\\n\\t\\t\\t\\t\\t\\t<div class=\"source_box\">\\n\\t\\t\\t\\t\\t\\t\\t<span class=\"date\">1개월 전</span>\\n\\t\\t\\t\\t\\t\\t\\t<span class=\"source\">\\n                                \\n                                <span class=\"source_inner\">꼬소</span>\\n                            </span>\\n\\t\\t\\t\\t\\t\\t</div>\\n\\t\\t\\t\\t\\t</a>\\n\\t\\t\\t\\t</li>\\n\\t\\t\\t\\n\\t\\t\\t\\t<li class=\"theme_item\" data-gdid=\"6209a554612430be41b1c8f7\" data-da-position=\"true\">\\n\\t\\t\\t\\t\\t<a href=\"https://m.blog.naver.com/PostView.naver?blogId=dlcmalsis&amp;logNo=222643255124&amp;proxyReferer=\" class=\"theme_thumb\" data-clk=\"tcc_bty.list6cont4\" target=\"_blank\">\\n\\t\\t\\t\\t\\t\\t<img alt=\"자트인사이트 벨벳 틴트\" width=\"170\" height=\"114\" onerror=\"this.outerHTML=\\'<span class=\\\\\\'pm_noimg\\\\\\'><span class=\\\\\\'noimg_text\\\\\\'>이미지 준비중</span></span>\\'\" loading=\"lazy\" src=\"https://s.pstatic.net/dthumb.phinf/?src=%22https%3A%2F%2Fs.pstatic.net%2Fshop.phinf%2F20220214_275%2F16447993607916ima7_JPEG%2F1-3.jpg%3Ftype%3Df342_342%22&amp;type=nf340_228\">\\n\\t\\t\\t\\t\\t\\t<span class=\"thumb_bd\"></span>\\n                        \\n\\t\\t\\t\\t\\t</a>\\n\\t\\t\\t\\t\\t<a href=\"https://m.blog.naver.com/PostView.naver?blogId=dlcmalsis&amp;logNo=222643255124&amp;proxyReferer=\" class=\"theme_info\" data-clk=\"tcc_bty.list6cont4\" target=\"_blank\">\\n\\t\\t\\t\\t\\t\\t<em class=\"theme_category\"> 패션뷰티</em>\\n\\t\\t\\t\\t\\t\\t<strong class=\"title elss\">자트인사이트 벨벳 틴트</strong>\\n                        <p class=\"desc\">포근 그 자체! 오늘은 #자트인사이트 의 올타임 무드 벨벳 틴트 전색상을 데려왔어요 ㅎ_ㅎ 자트인사이트는 메이크업 픽서로 유명한 브랜드인데요, 틴트 역시 픽서처럼 입술에 착! 붙어서 오랜시간 지속되어 수정 메이이크업의 번거로움이 없는 제품이고요 벨벳 틴트추천 제품이라서 촉촉하지만 보송하게 마무리되는 #벨벳틴트 찾는 분들께 추천드린답니다! 자트인사이트 올타임</p>\\n\\t\\t\\t\\t\\t\\t<div class=\"source_box\">\\n\\t\\t\\t\\t\\t\\t\\t<span class=\"date\">2주일 전</span>\\n\\t\\t\\t\\t\\t\\t\\t<span class=\"source\">\\n                                \\n                                <span class=\"source_inner\">홍차</span>\\n                            </span>\\n\\t\\t\\t\\t\\t\\t</div>\\n\\t\\t\\t\\t\\t</a>\\n\\t\\t\\t\\t</li>\\n\\t\\t\\t\\n\\t\\t\\t\\t<li class=\"theme_item\" data-gdid=\"6209a554612430be41b1c8f8\" data-da-position=\"true\">\\n\\t\\t\\t\\t\\t<a href=\"https://m.blog.naver.com/PostView.naver?blogId=hyejeong0724&amp;logNo=222591423840&amp;proxyReferer=\" class=\"theme_thumb\" data-clk=\"tcc_bty.list6cont5\" target=\"_blank\">\\n\\t\\t\\t\\t\\t\\t<img alt=\"레스파라 쿠션 파데\" width=\"170\" height=\"114\" onerror=\"this.outerHTML=\\'<span class=\\\\\\'pm_noimg\\\\\\'><span class=\\\\\\'noimg_text\\\\\\'>이미지 준비중</span></span>\\'\" loading=\"lazy\" src=\"https://s.pstatic.net/dthumb.phinf/?src=%22https%3A%2F%2Fs.pstatic.net%2Fshop.phinf%2F20220214_225%2F1644799363755Fpt7V_JPEG%2F1-4.jpg%3Ftype%3Df342_342%22&amp;type=nf340_228\">\\n\\t\\t\\t\\t\\t\\t<span class=\"thumb_bd\"></span>\\n                        \\n\\t\\t\\t\\t\\t</a>\\n\\t\\t\\t\\t\\t<a href=\"https://m.blog.naver.com/PostView.naver?blogId=hyejeong0724&amp;logNo=222591423840&amp;proxyReferer=\" class=\"theme_info\" data-clk=\"tcc_bty.list6cont5\" target=\"_blank\">\\n\\t\\t\\t\\t\\t\\t<em class=\"theme_category\"> 패션뷰티</em>\\n\\t\\t\\t\\t\\t\\t<strong class=\"title elss\">레스파라 쿠션 파데</strong>\\n                        <p class=\"desc\">안녕하세요! 패션뷰티블로거 뷰스타 혜또에요 :) 겨울이 되니까 여름에 잘 맞았던 베이스 제품도 건조해서 들뜨고 저만 그러는거 아니죠?😂 전 악건성이라 그런지 쿠션 잘못쓰면 피부에 지진난 것 마냥 더럽게 갈라져섴ㅋㅋㅋㅋㅋ 진짜 꼴보기 싫더라구요 ㅠㅠ 그래서 오늘은 한겨울 칼바람에도 절대 갈라지지 않는 촉촉하고도 편안한 역대급 파운데이션쿠션을 소개해볼까 해요</p>\\n\\t\\t\\t\\t\\t\\t<div class=\"source_box\">\\n\\t\\t\\t\\t\\t\\t\\t<span class=\"date\">2개월 전</span>\\n\\t\\t\\t\\t\\t\\t\\t<span class=\"source\">\\n                                \\n                                <span class=\"source_inner\">뷰스타 혜또</span>\\n                            </span>\\n\\t\\t\\t\\t\\t\\t</div>\\n\\t\\t\\t\\t\\t</a>\\n\\t\\t\\t\\t</li>\\n\\t\\t\\t\\n\\t\\t</ul>\\n\\t</div>\\n</div>\\n<div class=\"group_theme\" data-block-id=\"\" data-block-code=\"PC-THEME-BEAUTY-MOBILE-RANKING-VIDEO-5\" data-block-type=\"MATERIALS\" data-template-code=\"MOBILE-RANKING-VIDEO-LIST\" data-index=\"\" data-page=\"3\" style=\"display:none\">\\n\\n\\t<div class=\"media_view_wrap type_column\">\\n\\t\\t<div class=\"media_view\">\\n\\t\\t\\t\\n\\t\\t\\t\\t<a href=\"https://tv.naver.com/v/23466853\" class=\"media_area\" data-gdid=\"c8858ec0-32ed-4314-acc2-2efce316d15a\" data-clk=\"tcc_bty.video6cont1\" target=\"_blank\">\\n\\t\\t\\t\\t\\t<div class=\"media_thumb\">\\n\\t\\t\\t\\t\\t\\t<img alt=\"피지 제거, 세정력 꼼꼼 비교\" width=\"232\" height=\"130\" onerror=\"this.outerHTML=\\'<span class=\\\\\\'pm_noimg\\\\\\'><span class=\\\\\\'noimg_text\\\\\\'>이미지 준비중</span></span>\\'\" loading=\"lazy\" src=\"https://s.pstatic.net/dthumb.phinf/?src=%22https%3A%2F%2Fs.pstatic.net%2Fshop.phinf%2F20211112_203%2F1636710914109mSA0U_JPEG%2F1636601393876.jpg%3Ftype%3Df342_264%22&amp;type=nf464_260\">\\n\\t\\t\\t\\t\\t\\t<span class=\"thumb_dim\"></span>\\n\\t\\t\\t\\t\\t\\t<span class=\"thumb_bd\"></span>\\n\\t\\t\\t\\t\\t\\t<i class=\"pm_ico_play\"><span class=\"blind\">재생</span></i>\\n\\t\\t\\t\\t\\t\\t<span class=\"theme_runtime\"><span class=\"runtime_bg\">재생시간</span><em class=\"time\">20:53</em></span>\\n\\t\\t\\t\\t\\t</div>\\n\\t\\t\\t\\t\\t<div class=\"media_info\">\\n\\t\\t\\t\\t\\t\\t<div class=\"info_box\">\\n\\t\\t\\t\\t\\t\\t\\t<strong class=\"title\">피지 제거, 세정력 꼼꼼 비교</strong>\\n\\t\\t\\t\\t\\t\\t\\t<div class=\"source_wrap\">\\n\\t\\t\\t\\t\\t\\t\\t\\t<span class=\"date\">3개월 전</span>\\n\\t\\t\\t\\t\\t\\t\\t\\t<span class=\"source\">\\n                                    \\n                                    <span class=\"source_inner\">디렉터파이</span>\\n                                </span>\\n\\t\\t\\t\\t\\t\\t\\t</div>\\n\\t\\t\\t\\t\\t\\t</div>\\n\\t\\t\\t\\t\\t</div>\\n\\t\\t\\t\\t</a>\\n\\t\\t\\t\\n\\t\\t\\t\\t<a href=\"https://tv.naver.com/v/23408593\" class=\"media_area\" data-gdid=\"8a20aa20-336a-4dcb-9fe3-df40f9b14dbc\" data-clk=\"tcc_bty.video6cont2\" target=\"_blank\">\\n\\t\\t\\t\\t\\t<div class=\"media_thumb\">\\n\\t\\t\\t\\t\\t\\t<img alt=\"채정안의 바디케어 꿀조합은?\" width=\"232\" height=\"130\" onerror=\"this.outerHTML=\\'<span class=\\\\\\'pm_noimg\\\\\\'><span class=\\\\\\'noimg_text\\\\\\'>이미지 준비중</span></span>\\'\" loading=\"lazy\" src=\"https://s.pstatic.net/dthumb.phinf/?src=%22https%3A%2F%2Fs.pstatic.net%2Fshop.phinf%2F20211112_258%2F1636710644861Nv3bA_JPEG%2F1636358456340.jpg%3Ftype%3Df342_264%22&amp;type=nf464_260\">\\n\\t\\t\\t\\t\\t\\t<span class=\"thumb_dim\"></span>\\n\\t\\t\\t\\t\\t\\t<span class=\"thumb_bd\"></span>\\n\\t\\t\\t\\t\\t\\t<i class=\"pm_ico_play\"><span class=\"blind\">재생</span></i>\\n\\t\\t\\t\\t\\t\\t<span class=\"theme_runtime\"><span class=\"runtime_bg\">재생시간</span><em class=\"time\">08:39</em></span>\\n\\t\\t\\t\\t\\t</div>\\n\\t\\t\\t\\t\\t<div class=\"media_info\">\\n\\t\\t\\t\\t\\t\\t<div class=\"info_box\">\\n\\t\\t\\t\\t\\t\\t\\t<strong class=\"title\">채정안의 바디케어 꿀조합은?</strong>\\n\\t\\t\\t\\t\\t\\t\\t<div class=\"source_wrap\">\\n\\t\\t\\t\\t\\t\\t\\t\\t<span class=\"date\">3개월 전</span>\\n\\t\\t\\t\\t\\t\\t\\t\\t<span class=\"source\">\\n                                    \\n                                    <span class=\"source_inner\">채정안TV</span>\\n                                </span>\\n\\t\\t\\t\\t\\t\\t\\t</div>\\n\\t\\t\\t\\t\\t\\t</div>\\n\\t\\t\\t\\t\\t</div>\\n\\t\\t\\t\\t</a>\\n\\t\\t\\t\\n\\t\\t\\t\\t<a href=\"https://tv.naver.com/v/23274518\" class=\"media_area\" data-gdid=\"6183b3ecf61e58e7b39ba758\" data-clk=\"tcc_bty.video6cont3\" target=\"_blank\">\\n\\t\\t\\t\\t\\t<div class=\"media_thumb\">\\n\\t\\t\\t\\t\\t\\t<img alt=\"여배우의 마사지 비법 대공개\" width=\"232\" height=\"130\" onerror=\"this.outerHTML=\\'<span class=\\\\\\'pm_noimg\\\\\\'><span class=\\\\\\'noimg_text\\\\\\'>이미지 준비중</span></span>\\'\" loading=\"lazy\" src=\"https://s.pstatic.net/dthumb.phinf/?src=%22https%3A%2F%2Fs.pstatic.net%2Fshop.phinf%2F20211105_59%2F1636102836897JDiWN_JPEG%2F1635742520424.jpg%3Ftype%3Df342_264%22&amp;type=nf464_260\">\\n\\t\\t\\t\\t\\t\\t<span class=\"thumb_dim\"></span>\\n\\t\\t\\t\\t\\t\\t<span class=\"thumb_bd\"></span>\\n\\t\\t\\t\\t\\t\\t<i class=\"pm_ico_play\"><span class=\"blind\">재생</span></i>\\n\\t\\t\\t\\t\\t\\t<span class=\"theme_runtime\"><span class=\"runtime_bg\">재생시간</span><em class=\"time\">07:56</em></span>\\n\\t\\t\\t\\t\\t</div>\\n\\t\\t\\t\\t\\t<div class=\"media_info\">\\n\\t\\t\\t\\t\\t\\t<div class=\"info_box\">\\n\\t\\t\\t\\t\\t\\t\\t<strong class=\"title\">여배우의 마사지 비법 대공개</strong>\\n\\t\\t\\t\\t\\t\\t\\t<div class=\"source_wrap\">\\n\\t\\t\\t\\t\\t\\t\\t\\t<span class=\"date\">3개월 전</span>\\n\\t\\t\\t\\t\\t\\t\\t\\t<span class=\"source\">\\n                                    \\n                                    <span class=\"source_inner\">채정안TV</span>\\n                                </span>\\n\\t\\t\\t\\t\\t\\t\\t</div>\\n\\t\\t\\t\\t\\t\\t</div>\\n\\t\\t\\t\\t\\t</div>\\n\\t\\t\\t\\t</a>\\n\\t\\t\\t\\n\\t\\t</div>\\n\\t</div>\\n</div>\\n<div class=\"group_theme\" data-block-id=\"\" data-block-code=\"PC-THEME-BEAUTY-MOBILE-RANKING-DEFAULT-6\" data-block-type=\"MATERIALS\" data-template-code=\"MOBILE-RANKING-LIST\" data-da=\"container\" data-index=\"\" data-page=\"4\" style=\"display:none\">\\n\\n\\t<div class=\"list_theme_wrap\">\\n\\t\\t<ul class=\"list_theme\">\\n\\t\\t\\t\\n\\t\\t\\t\\t<li class=\"theme_item\" data-gdid=\"6206195b612430be41b1bf81\" data-da-position=\"true\">\\n\\t\\t\\t\\t\\t<a href=\"https://m.blog.naver.com/PostView.naver?blogId=wlgysnl23&amp;logNo=222636470530&amp;proxyReferer=\" class=\"theme_thumb\" data-clk=\"tcc_bty.list7cont1\" target=\"_blank\">\\n\\t\\t\\t\\t\\t\\t<img alt=\"스와니코코 물광 쿠션\" width=\"170\" height=\"114\" onerror=\"this.outerHTML=\\'<span class=\\\\\\'pm_noimg\\\\\\'><span class=\\\\\\'noimg_text\\\\\\'>이미지 준비중</span></span>\\'\" loading=\"lazy\" src=\"https://s.pstatic.net/dthumb.phinf/?src=%22https%3A%2F%2Fs.pstatic.net%2Fshop.phinf%2F20220211_6%2F1644566898624gvIpE_JPEG%2F1-1.jpg%3Ftype%3Df342_342%22&amp;type=nf340_228\">\\n\\t\\t\\t\\t\\t\\t<span class=\"thumb_bd\"></span>\\n                        \\n\\t\\t\\t\\t\\t</a>\\n\\t\\t\\t\\t\\t<a href=\"https://m.blog.naver.com/PostView.naver?blogId=wlgysnl23&amp;logNo=222636470530&amp;proxyReferer=\" class=\"theme_info\" data-clk=\"tcc_bty.list7cont1\" target=\"_blank\">\\n\\t\\t\\t\\t\\t\\t<em class=\"theme_category\"> 패션뷰티</em>\\n\\t\\t\\t\\t\\t\\t<strong class=\"title elss\">스와니코코 물광 쿠션</strong>\\n                        <p class=\"desc\">안녕하세요! 뷰티크리에이터 배지타입니다 마스크속에서 자꾸만 칙칙해져가는 피부..! 푸석푸석 광채없는 메이크업이 마음에 들지않으셨다면? 자연스럽게 피부광을 살려주는 스와니코코 백조크림글로우팩트로 물광 메이크업 완성해보세요 :) [NEW] 백조 크림 글로우 팩트 - 본품 텁텁하고 답답하게 가려버리는것이 아니라 처음 광 그대로 예쁜 광채를 지속시켜주는 물광쿠션이</p>\\n\\t\\t\\t\\t\\t\\t<div class=\"source_box\">\\n\\t\\t\\t\\t\\t\\t\\t<span class=\"date\">3주일 전</span>\\n\\t\\t\\t\\t\\t\\t\\t<span class=\"source\">\\n                                \\n                                <span class=\"source_inner\">배지타</span>\\n                            </span>\\n\\t\\t\\t\\t\\t\\t</div>\\n\\t\\t\\t\\t\\t</a>\\n\\t\\t\\t\\t</li>\\n\\t\\t\\t\\n\\t\\t\\t\\t<li class=\"theme_item\" data-gdid=\"6206195b612430be41b1bf82\" data-da-position=\"true\">\\n\\t\\t\\t\\t\\t<a href=\"https://m.blog.naver.com/PostView.naver?blogId=ana00421&amp;logNo=222642085308&amp;proxyReferer=\" class=\"theme_thumb\" data-clk=\"tcc_bty.list7cont2\" target=\"_blank\">\\n\\t\\t\\t\\t\\t\\t<img alt=\"어뮤즈 슈벨벳 틴트\" width=\"170\" height=\"114\" onerror=\"this.outerHTML=\\'<span class=\\\\\\'pm_noimg\\\\\\'><span class=\\\\\\'noimg_text\\\\\\'>이미지 준비중</span></span>\\'\" loading=\"lazy\" src=\"https://s.pstatic.net/dthumb.phinf/?src=%22https%3A%2F%2Fs.pstatic.net%2Fshop.phinf%2F20220211_229%2F1644566900964apXwL_JPEG%2F1-2.jpg%3Ftype%3Df342_342%22&amp;type=nf340_228\">\\n\\t\\t\\t\\t\\t\\t<span class=\"thumb_bd\"></span>\\n                        \\n\\t\\t\\t\\t\\t</a>\\n\\t\\t\\t\\t\\t<a href=\"https://m.blog.naver.com/PostView.naver?blogId=ana00421&amp;logNo=222642085308&amp;proxyReferer=\" class=\"theme_info\" data-clk=\"tcc_bty.list7cont2\" target=\"_blank\">\\n\\t\\t\\t\\t\\t\\t<em class=\"theme_category\"> 패션뷰티</em>\\n\\t\\t\\t\\t\\t\\t<strong class=\"title elss\">어뮤즈 슈벨벳 틴트</strong>\\n                        <p class=\"desc\">어뮤즈 슈벨벳 전색상 발색, 컴포트픽싱으로 묻어남 ZERO 안녕하세요! 뷰스타 안하입니다 :-) 이번 포스팅에서는 기분 좋은 신상 소식과 존예립들을 소개해드리고자 왔어요♥ 믿쓰하는 #비건뷰티 브랜드, #어뮤즈 에서 묻어나지 않는 #컴포트픽싱 #비건틴트 #슈벨벳 8가지 컬러를 선보였는데요! 보드라운 발림성으로 건조함 없이 묻어나지 않는 신개념 픽싱 #벨벳틴트</p>\\n\\t\\t\\t\\t\\t\\t<div class=\"source_box\">\\n\\t\\t\\t\\t\\t\\t\\t<span class=\"date\">2주일 전</span>\\n\\t\\t\\t\\t\\t\\t\\t<span class=\"source\">\\n                                \\n                                <span class=\"source_inner\">뷰스타 안하</span>\\n                            </span>\\n\\t\\t\\t\\t\\t\\t</div>\\n\\t\\t\\t\\t\\t</a>\\n\\t\\t\\t\\t</li>\\n\\t\\t\\t\\n\\t\\t\\t\\t<li class=\"theme_item\" data-gdid=\"6206195b612430be41b1bf83\" data-da-position=\"true\">\\n\\t\\t\\t\\t\\t<a href=\"https://m.blog.naver.com/PostView.naver?blogId=arafatare&amp;logNo=222642993316&amp;categoryNo=58&amp;proxyReferer=\" class=\"theme_thumb\" data-clk=\"tcc_bty.list7cont3\" target=\"_blank\">\\n\\t\\t\\t\\t\\t\\t<img alt=\"헤라 선크림&amp;톤업\" width=\"170\" height=\"114\" onerror=\"this.outerHTML=\\'<span class=\\\\\\'pm_noimg\\\\\\'><span class=\\\\\\'noimg_text\\\\\\'>이미지 준비중</span></span>\\'\" loading=\"lazy\" src=\"https://s.pstatic.net/dthumb.phinf/?src=%22https%3A%2F%2Fs.pstatic.net%2Fshop.phinf%2F20220211_19%2F16445669173757V9Lp_JPEG%2F1-3.jpg%3Ftype%3Df342_342%22&amp;type=nf340_228\">\\n\\t\\t\\t\\t\\t\\t<span class=\"thumb_bd\"></span>\\n                        \\n\\t\\t\\t\\t\\t</a>\\n\\t\\t\\t\\t\\t<a href=\"https://m.blog.naver.com/PostView.naver?blogId=arafatare&amp;logNo=222642993316&amp;categoryNo=58&amp;proxyReferer=\" class=\"theme_info\" data-clk=\"tcc_bty.list7cont3\" target=\"_blank\">\\n\\t\\t\\t\\t\\t\\t<em class=\"theme_category\"> 패션뷰티</em>\\n\\t\\t\\t\\t\\t\\t<strong class=\"title elss\">헤라 선크림&amp;톤업</strong>\\n                        <p class=\"desc\">브랜드 #헤라 로부터 소정의 원고료와 제품을 제공받아 작성된 글입니다. 안녕하세요! 뷰티 크리에이터 디아나씨에요 : ) 오늘은 헤라 NEW 선크림 vs 톤업크림을 비교 및 추천하는 시간을 가져보려 해요. 30년 넘게 연구해오며 독자적 기술과 노하우로 16년간 연속 국내 선케어 1위*를 지켜온 헤라가 선크림 장인인거 아시나요? 이전에도 유분기 없는 차분한 톤</p>\\n\\t\\t\\t\\t\\t\\t<div class=\"source_box\">\\n\\t\\t\\t\\t\\t\\t\\t<span class=\"date\">2주일 전</span>\\n\\t\\t\\t\\t\\t\\t\\t<span class=\"source\">\\n                                \\n                                <span class=\"source_inner\">Diana</span>\\n                            </span>\\n\\t\\t\\t\\t\\t\\t</div>\\n\\t\\t\\t\\t\\t</a>\\n\\t\\t\\t\\t</li>\\n\\t\\t\\t\\n\\t\\t\\t\\t<li class=\"theme_item\" data-gdid=\"6206195b612430be41b1bf84\" data-da-position=\"true\">\\n\\t\\t\\t\\t\\t<a href=\"https://m.blog.naver.com/PostView.naver?blogId=a_kim33&amp;logNo=222644082700&amp;proxyReferer=\" class=\"theme_thumb\" data-clk=\"tcc_bty.list7cont4\" target=\"_blank\">\\n\\t\\t\\t\\t\\t\\t<img alt=\"토니모리 드로잉 펜슬\" width=\"170\" height=\"114\" onerror=\"this.outerHTML=\\'<span class=\\\\\\'pm_noimg\\\\\\'><span class=\\\\\\'noimg_text\\\\\\'>이미지 준비중</span></span>\\'\" loading=\"lazy\" src=\"https://s.pstatic.net/dthumb.phinf/?src=%22https%3A%2F%2Fs.pstatic.net%2Fshop.phinf%2F20220211_228%2F16445669200439oj6Q_JPEG%2F1-4.jpg%3Ftype%3Df342_342%22&amp;type=nf340_228\">\\n\\t\\t\\t\\t\\t\\t<span class=\"thumb_bd\"></span>\\n                        \\n\\t\\t\\t\\t\\t</a>\\n\\t\\t\\t\\t\\t<a href=\"https://m.blog.naver.com/PostView.naver?blogId=a_kim33&amp;logNo=222644082700&amp;proxyReferer=\" class=\"theme_info\" data-clk=\"tcc_bty.list7cont4\" target=\"_blank\">\\n\\t\\t\\t\\t\\t\\t<em class=\"theme_category\"> 패션뷰티</em>\\n\\t\\t\\t\\t\\t\\t<strong class=\"title elss\">토니모리 드로잉 펜슬</strong>\\n                        <p class=\"desc\">안녕하세요, 아킴입니다 :) 없어요, 아니 그냥 없어요, 원래 없어요, 없어요, 그냥 태생이 애교와는 거리가 먼 사람 그게 바로 접니다. 그러나, 뭐 생긴 대로 산다는 말 다 옛말 아닙니까? 후천적인 노오력도 그 공이 크다면 인정해 줘야 된다고 생각합니다! 애교,,?? 그까짓 거 만들게쒀,,,!! 토니모리에서 작정하고 애교살 라인이 나왔어요! 이 친구들만 </p>\\n\\t\\t\\t\\t\\t\\t<div class=\"source_box\">\\n\\t\\t\\t\\t\\t\\t\\t<span class=\"date\">1주일 전</span>\\n\\t\\t\\t\\t\\t\\t\\t<span class=\"source\">\\n                                \\n                                <span class=\"source_inner\">아킴</span>\\n                            </span>\\n\\t\\t\\t\\t\\t\\t</div>\\n\\t\\t\\t\\t\\t</a>\\n\\t\\t\\t\\t</li>\\n\\t\\t\\t\\n\\t\\t\\t\\t<li class=\"theme_item\" data-gdid=\"6204aeb1a52712be3a96b302\" data-da-position=\"true\">\\n\\t\\t\\t\\t\\t<a href=\"https://m.blog.naver.com/PostView.naver?blogId=cchokkong&amp;logNo=222637686651&amp;proxyReferer=\" class=\"theme_thumb\" data-clk=\"tcc_bty.list7cont5\" target=\"_blank\">\\n\\t\\t\\t\\t\\t\\t<img alt=\"아르마니 프라이머\" width=\"170\" height=\"114\" onerror=\"this.outerHTML=\\'<span class=\\\\\\'pm_noimg\\\\\\'><span class=\\\\\\'noimg_text\\\\\\'>이미지 준비중</span></span>\\'\" loading=\"lazy\" src=\"https://s.pstatic.net/dthumb.phinf/?src=%22https%3A%2F%2Fs.pstatic.net%2Fshop.phinf%2F20220210_83%2F1644474047373fNSRL_JPEG%2F1-1.jpg%3Ftype%3Df342_342%22&amp;type=nf340_228\">\\n\\t\\t\\t\\t\\t\\t<span class=\"thumb_bd\"></span>\\n                        \\n\\t\\t\\t\\t\\t</a>\\n\\t\\t\\t\\t\\t<a href=\"https://m.blog.naver.com/PostView.naver?blogId=cchokkong&amp;logNo=222637686651&amp;proxyReferer=\" class=\"theme_info\" data-clk=\"tcc_bty.list7cont5\" target=\"_blank\">\\n\\t\\t\\t\\t\\t\\t<em class=\"theme_category\"> 패션뷰티</em>\\n\\t\\t\\t\\t\\t\\t<strong class=\"title elss\">아르마니 프라이머</strong>\\n                        <p class=\"desc\">파데 컬러 안맞았던 경험 다들 한 번 씩은 있죠? 요즘은 그래도 컬러가 많이 다양해졌지만.. 너무 노랗고 과한 핑크빛 때문에 떠보이는 느낌이 들 때도 많았거든요. 그래서 제가 더욱더 아끼는 파데 추천 ! 피부표현이 깔끔하고 컬러가 예쁘기로 소문난 아르마니 디자이너 리프트 파운데이션 입니닷. 아르마니 디자이너 리프트 파운데이션 30ml / \\\\89,000 깔끔</p>\\n\\t\\t\\t\\t\\t\\t<div class=\"source_box\">\\n\\t\\t\\t\\t\\t\\t\\t<span class=\"date\">3주일 전</span>\\n\\t\\t\\t\\t\\t\\t\\t<span class=\"source\">\\n                                \\n                                <span class=\"source_inner\">쵸콩</span>\\n                            </span>\\n\\t\\t\\t\\t\\t\\t</div>\\n\\t\\t\\t\\t\\t</a>\\n\\t\\t\\t\\t</li>\\n\\t\\t\\t\\n\\t\\t</ul>\\n\\t</div>\\n</div>\\n<div class=\"group_theme\" data-block-id=\"\" data-block-code=\"PC-THEME-BEAUTY-MOBILE-RANKING-VIDEO-6\" data-block-type=\"MATERIALS\" data-template-code=\"MOBILE-RANKING-VIDEO-LIST\" data-index=\"\" data-page=\"4\" style=\"display:none\">\\n\\n\\t<div class=\"media_view_wrap type_column\">\\n\\t\\t<div class=\"media_view\">\\n\\t\\t\\t\\n\\t\\t\\t\\t<a href=\"https://tv.naver.com/v/22384831\" class=\"media_area\" data-gdid=\"1242e6be-702e-4b82-a198-41cf61b97ea6\" data-clk=\"tcc_bty.video7cont1\" target=\"_blank\">\\n\\t\\t\\t\\t\\t<div class=\"media_thumb\">\\n\\t\\t\\t\\t\\t\\t<img alt=\"워커부터 로퍼, 첼시부츠까지\" width=\"232\" height=\"130\" onerror=\"this.outerHTML=\\'<span class=\\\\\\'pm_noimg\\\\\\'><span class=\\\\\\'noimg_text\\\\\\'>이미지 준비중</span></span>\\'\" loading=\"lazy\" src=\"https://s.pstatic.net/dthumb.phinf/?src=%22https%3A%2F%2Fs.pstatic.net%2Fshop.phinf%2F20211007_295%2F1633596470719RyEAp_JPEG%2F1632979602172.jpg%3Ftype%3Df342_264%22&amp;type=nf464_260\">\\n\\t\\t\\t\\t\\t\\t<span class=\"thumb_dim\"></span>\\n\\t\\t\\t\\t\\t\\t<span class=\"thumb_bd\"></span>\\n\\t\\t\\t\\t\\t\\t<i class=\"pm_ico_play\"><span class=\"blind\">재생</span></i>\\n\\t\\t\\t\\t\\t\\t<span class=\"theme_runtime\"><span class=\"runtime_bg\">재생시간</span><em class=\"time\">11:01</em></span>\\n\\t\\t\\t\\t\\t</div>\\n\\t\\t\\t\\t\\t<div class=\"media_info\">\\n\\t\\t\\t\\t\\t\\t<div class=\"info_box\">\\n\\t\\t\\t\\t\\t\\t\\t<strong class=\"title\">워커부터 로퍼, 첼시부츠까지</strong>\\n\\t\\t\\t\\t\\t\\t\\t<div class=\"source_wrap\">\\n\\t\\t\\t\\t\\t\\t\\t\\t<span class=\"date\">5개월 전</span>\\n\\t\\t\\t\\t\\t\\t\\t\\t<span class=\"source\">\\n                                    \\n                                    <span class=\"source_inner\">옆집언니 최실장</span>\\n                                </span>\\n\\t\\t\\t\\t\\t\\t\\t</div>\\n\\t\\t\\t\\t\\t\\t</div>\\n\\t\\t\\t\\t\\t</div>\\n\\t\\t\\t\\t</a>\\n\\t\\t\\t\\n\\t\\t\\t\\t<a href=\"https://tv.naver.com/v/22820633\" class=\"media_area\" data-gdid=\"42b9dd65-46d9-4ca9-b012-b03b17f4a5cf\" data-clk=\"tcc_bty.video7cont2\" target=\"_blank\">\\n\\t\\t\\t\\t\\t<div class=\"media_thumb\">\\n\\t\\t\\t\\t\\t\\t<img alt=\"스우파 스타일 메이크업 도전\" width=\"232\" height=\"130\" onerror=\"this.outerHTML=\\'<span class=\\\\\\'pm_noimg\\\\\\'><span class=\\\\\\'noimg_text\\\\\\'>이미지 준비중</span></span>\\'\" loading=\"lazy\" src=\"https://s.pstatic.net/dthumb.phinf/?src=%22https%3A%2F%2Fs.pstatic.net%2Fshop.phinf%2F20211007_74%2F1633596157560ltzvx_JPEG%2F1633513266503.jpg%3Ftype%3Df342_264%22&amp;type=nf464_260\">\\n\\t\\t\\t\\t\\t\\t<span class=\"thumb_dim\"></span>\\n\\t\\t\\t\\t\\t\\t<span class=\"thumb_bd\"></span>\\n\\t\\t\\t\\t\\t\\t<i class=\"pm_ico_play\"><span class=\"blind\">재생</span></i>\\n\\t\\t\\t\\t\\t\\t<span class=\"theme_runtime\"><span class=\"runtime_bg\">재생시간</span><em class=\"time\">08:44</em></span>\\n\\t\\t\\t\\t\\t</div>\\n\\t\\t\\t\\t\\t<div class=\"media_info\">\\n\\t\\t\\t\\t\\t\\t<div class=\"info_box\">\\n\\t\\t\\t\\t\\t\\t\\t<strong class=\"title\">스우파 스타일 메이크업 도전</strong>\\n\\t\\t\\t\\t\\t\\t\\t<div class=\"source_wrap\">\\n\\t\\t\\t\\t\\t\\t\\t\\t<span class=\"date\">4개월 전</span>\\n\\t\\t\\t\\t\\t\\t\\t\\t<span class=\"source\">\\n                                    \\n                                    <span class=\"source_inner\">백지수의 미미백</span>\\n                                </span>\\n\\t\\t\\t\\t\\t\\t\\t</div>\\n\\t\\t\\t\\t\\t\\t</div>\\n\\t\\t\\t\\t\\t</div>\\n\\t\\t\\t\\t</a>\\n\\t\\t\\t\\n\\t\\t\\t\\t<a href=\"https://tv.naver.com/v/22666153\" class=\"media_area\" data-gdid=\"1d320090-d12f-4ac5-a65f-bdaf164eaf43\" data-clk=\"tcc_bty.video7cont3\" target=\"_blank\">\\n\\t\\t\\t\\t\\t<div class=\"media_thumb\">\\n\\t\\t\\t\\t\\t\\t<img alt=\"딱 하나만 제대로 사야한다면\" width=\"232\" height=\"130\" onerror=\"this.outerHTML=\\'<span class=\\\\\\'pm_noimg\\\\\\'><span class=\\\\\\'noimg_text\\\\\\'>이미지 준비중</span></span>\\'\" loading=\"lazy\" src=\"https://s.pstatic.net/dthumb.phinf/?src=%22https%3A%2F%2Fs.pstatic.net%2Fshop.phinf%2F20211005_180%2F1633421677693sh9bC_JPEG%2F1632979687664.jpg%3Ftype%3Df342_264%22&amp;type=nf464_260\">\\n\\t\\t\\t\\t\\t\\t<span class=\"thumb_dim\"></span>\\n\\t\\t\\t\\t\\t\\t<span class=\"thumb_bd\"></span>\\n\\t\\t\\t\\t\\t\\t<i class=\"pm_ico_play\"><span class=\"blind\">재생</span></i>\\n\\t\\t\\t\\t\\t\\t<span class=\"theme_runtime\"><span class=\"runtime_bg\">재생시간</span><em class=\"time\">10:31</em></span>\\n\\t\\t\\t\\t\\t</div>\\n\\t\\t\\t\\t\\t<div class=\"media_info\">\\n\\t\\t\\t\\t\\t\\t<div class=\"info_box\">\\n\\t\\t\\t\\t\\t\\t\\t<strong class=\"title\">딱 하나만 제대로 사야한다면</strong>\\n\\t\\t\\t\\t\\t\\t\\t<div class=\"source_wrap\">\\n\\t\\t\\t\\t\\t\\t\\t\\t<span class=\"date\">4개월 전</span>\\n\\t\\t\\t\\t\\t\\t\\t\\t<span class=\"source\">\\n                                    \\n                                    <span class=\"source_inner\">옆집언니 최실장</span>\\n                                </span>\\n\\t\\t\\t\\t\\t\\t\\t</div>\\n\\t\\t\\t\\t\\t\\t</div>\\n\\t\\t\\t\\t\\t</div>\\n\\t\\t\\t\\t</a>\\n\\t\\t\\t\\n\\t\\t</div>\\n\\t</div>\\n</div>\\n<div class=\"group_theme\" data-block-id=\"\" data-block-code=\"PC-THEME-BEAUTY-MOBILE-RANKING-DEFAULT-7\" data-block-type=\"MATERIALS\" data-template-code=\"MOBILE-RANKING-LIST\" data-da=\"container\" data-index=\"\" data-page=\"4\" style=\"display:none\">\\n\\n\\t<div class=\"list_theme_wrap\">\\n\\t\\t<ul class=\"list_theme\">\\n\\t\\t\\t\\n\\t\\t\\t\\t<li class=\"theme_item\" data-gdid=\"6204aeb1a52712be3a96b303\" data-da-position=\"true\">\\n\\t\\t\\t\\t\\t<a href=\"https://m.blog.naver.com/PostView.naver?blogId=rmsep37&amp;logNo=222641508845&amp;proxyReferer=\" class=\"theme_thumb\" data-clk=\"tcc_bty.list8cont1\" target=\"_blank\">\\n\\t\\t\\t\\t\\t\\t<img alt=\"투페이스드 립스틱\" width=\"170\" height=\"114\" onerror=\"this.outerHTML=\\'<span class=\\\\\\'pm_noimg\\\\\\'><span class=\\\\\\'noimg_text\\\\\\'>이미지 준비중</span></span>\\'\" loading=\"lazy\" src=\"https://s.pstatic.net/dthumb.phinf/?src=%22https%3A%2F%2Fs.pstatic.net%2Fshop.phinf%2F20220210_239%2F1644474050086SB8ip_JPEG%2F1-2.jpg%3Ftype%3Df342_342%22&amp;type=nf340_228\">\\n\\t\\t\\t\\t\\t\\t<span class=\"thumb_bd\"></span>\\n                        \\n\\t\\t\\t\\t\\t</a>\\n\\t\\t\\t\\t\\t<a href=\"https://m.blog.naver.com/PostView.naver?blogId=rmsep37&amp;logNo=222641508845&amp;proxyReferer=\" class=\"theme_info\" data-clk=\"tcc_bty.list8cont1\" target=\"_blank\">\\n\\t\\t\\t\\t\\t\\t<em class=\"theme_category\"> 패션뷰티</em>\\n\\t\\t\\t\\t\\t\\t<strong class=\"title elss\">투페이스드 립스틱</strong>\\n                        <p class=\"desc\">한번만 발라도 보이는 컬러 그대로 볼드하게 발색되는 투페이스드 레이디볼드 틴팅 립스틱 ! 요것도 인스타 리뷰용으로 제공 받고 블로그 리뷰 의무는 없었으나,, 패키지가 넘 귀여워서 함 올려봅니닷 👀 투페이스드 레이디 볼드 틴팅 립스틱 4g / 32,000원 러블리한 하트모양의 팁에 아이코닉한 투페이스드의 로고가 새겨져 있는데 패키지 디자인 너무 귀엽죠,,,</p>\\n\\t\\t\\t\\t\\t\\t<div class=\"source_box\">\\n\\t\\t\\t\\t\\t\\t\\t<span class=\"date\">2주일 전</span>\\n\\t\\t\\t\\t\\t\\t\\t<span class=\"source\">\\n                                \\n                                <span class=\"source_inner\">유주</span>\\n                            </span>\\n\\t\\t\\t\\t\\t\\t</div>\\n\\t\\t\\t\\t\\t</a>\\n\\t\\t\\t\\t</li>\\n\\t\\t\\t\\n\\t\\t\\t\\t<li class=\"theme_item\" data-gdid=\"6204aeb1a52712be3a96b304\" data-da-position=\"true\">\\n\\t\\t\\t\\t\\t<a href=\"https://m.blog.naver.com/PostView.naver?blogId=euimok&amp;logNo=222634672747&amp;proxyReferer=\" class=\"theme_thumb\" data-clk=\"tcc_bty.list8cont2\" target=\"_blank\">\\n\\t\\t\\t\\t\\t\\t<img alt=\"클리오 킬커버 픽서쿠션\" width=\"170\" height=\"114\" onerror=\"this.outerHTML=\\'<span class=\\\\\\'pm_noimg\\\\\\'><span class=\\\\\\'noimg_text\\\\\\'>이미지 준비중</span></span>\\'\" loading=\"lazy\" src=\"https://s.pstatic.net/dthumb.phinf/?src=%22https%3A%2F%2Fs.pstatic.net%2Fshop.phinf%2F20220210_100%2F1644474064835LgSIP_JPEG%2F1-3.jpg%3Ftype%3Df342_342%22&amp;type=nf340_228\">\\n\\t\\t\\t\\t\\t\\t<span class=\"thumb_bd\"></span>\\n                        \\n\\t\\t\\t\\t\\t</a>\\n\\t\\t\\t\\t\\t<a href=\"https://m.blog.naver.com/PostView.naver?blogId=euimok&amp;logNo=222634672747&amp;proxyReferer=\" class=\"theme_info\" data-clk=\"tcc_bty.list8cont2\" target=\"_blank\">\\n\\t\\t\\t\\t\\t\\t<em class=\"theme_category\"> 패션뷰티</em>\\n\\t\\t\\t\\t\\t\\t<strong class=\"title elss\">클리오 킬커버 픽서쿠션</strong>\\n                        <p class=\"desc\">안녕하세요 여러분!!! 뷰스타 한이 인사드려요..!!! 인스타로 저를 보시는 분들은 아시겠지만 제가 새해 맞이 운동을 시작해서 센터를 정말 자주 가서 운동하고 있어요! 생얼로 가면 좋겠지만,, 약간의 메이크업을 살짝쿵 해주고 가는 편인데요, 이렇게 운동 다니다가 저도 모르게 쿠션의 묻어남과 지속력 테스트를 자연스럽게 해보게 되더라구요 ㅋㅋㅋㅋ 러닝 뛰면서 </p>\\n\\t\\t\\t\\t\\t\\t<div class=\"source_box\">\\n\\t\\t\\t\\t\\t\\t\\t<span class=\"date\">3주일 전</span>\\n\\t\\t\\t\\t\\t\\t\\t<span class=\"source\">\\n                                \\n                                <span class=\"source_inner\">한이</span>\\n                            </span>\\n\\t\\t\\t\\t\\t\\t</div>\\n\\t\\t\\t\\t\\t</a>\\n\\t\\t\\t\\t</li>\\n\\t\\t\\t\\n\\t\\t\\t\\t<li class=\"theme_item\" data-gdid=\"6204aeb1a52712be3a96b305\" data-da-position=\"true\">\\n\\t\\t\\t\\t\\t<a href=\"https://m.blog.naver.com/PostView.naver?blogId=maize210&amp;logNo=222642255206&amp;proxyReferer=\" class=\"theme_thumb\" data-clk=\"tcc_bty.list8cont3\" target=\"_blank\">\\n\\t\\t\\t\\t\\t\\t<img alt=\"에뛰드 아이 팔레트\" width=\"170\" height=\"114\" onerror=\"this.outerHTML=\\'<span class=\\\\\\'pm_noimg\\\\\\'><span class=\\\\\\'noimg_text\\\\\\'>이미지 준비중</span></span>\\'\" loading=\"lazy\" src=\"https://s.pstatic.net/dthumb.phinf/?src=%22https%3A%2F%2Fs.pstatic.net%2Fshop.phinf%2F20220210_62%2F1644474067373NTyYL_JPEG%2F1-4.jpg%3Ftype%3Df342_342%22&amp;type=nf340_228\">\\n\\t\\t\\t\\t\\t\\t<span class=\"thumb_bd\"></span>\\n                        \\n\\t\\t\\t\\t\\t</a>\\n\\t\\t\\t\\t\\t<a href=\"https://m.blog.naver.com/PostView.naver?blogId=maize210&amp;logNo=222642255206&amp;proxyReferer=\" class=\"theme_info\" data-clk=\"tcc_bty.list8cont3\" target=\"_blank\">\\n\\t\\t\\t\\t\\t\\t<em class=\"theme_category\"> 패션뷰티</em>\\n\\t\\t\\t\\t\\t\\t<strong class=\"title elss\">에뛰드 아이 팔레트</strong>\\n                        <p class=\"desc\">안녕하세요! 뷰스타 살구입니다💖 오늘은 에뛰드 신상 플레이톤 아이팔레트와 픽싱틴트 S/S컬러 스모키체리, 로즈블렌딩, 살몬브릭 전색상 발색을 리뷰해보려고 해요💖💖 에뛰드 플레이톤 아이팔레트는 아이섀도우와 멀티치크로 구성되어 있는 톤생조합 팔레트에요💖 누구나 쉽게 사용할 수 있는 컬러구성 + 다양한 텍스쳐로 원하는 무드에 맞게 본인 톤에 꼭 맞는 메.</p>\\n\\t\\t\\t\\t\\t\\t<div class=\"source_box\">\\n\\t\\t\\t\\t\\t\\t\\t<span class=\"date\">2주일 전</span>\\n\\t\\t\\t\\t\\t\\t\\t<span class=\"source\">\\n                                \\n                                <span class=\"source_inner\">살구</span>\\n                            </span>\\n\\t\\t\\t\\t\\t\\t</div>\\n\\t\\t\\t\\t\\t</a>\\n\\t\\t\\t\\t</li>\\n\\t\\t\\t\\n\\t\\t\\t\\t<li class=\"theme_item\" data-gdid=\"620315cc0daf04c0eaee5b13\" data-da-position=\"true\">\\n\\t\\t\\t\\t\\t<a href=\"https://m.blog.naver.com/PostView.naver?blogId=dbtl0705&amp;logNo=222636879109&amp;proxyReferer=\" class=\"theme_thumb\" data-clk=\"tcc_bty.list8cont4\" target=\"_blank\">\\n\\t\\t\\t\\t\\t\\t<img alt=\"맥X카카오프렌즈 립밤\" width=\"170\" height=\"114\" onerror=\"this.outerHTML=\\'<span class=\\\\\\'pm_noimg\\\\\\'><span class=\\\\\\'noimg_text\\\\\\'>이미지 준비중</span></span>\\'\" loading=\"lazy\" src=\"https://s.pstatic.net/dthumb.phinf/?src=%22https%3A%2F%2Fs.pstatic.net%2Fshop.phinf%2F20220209_169%2F164436937059453zVf_JPEG%2F1-1.jpg%3Ftype%3Df342_342%22&amp;type=nf340_228\">\\n\\t\\t\\t\\t\\t\\t<span class=\"thumb_bd\"></span>\\n                        \\n\\t\\t\\t\\t\\t</a>\\n\\t\\t\\t\\t\\t<a href=\"https://m.blog.naver.com/PostView.naver?blogId=dbtl0705&amp;logNo=222636879109&amp;proxyReferer=\" class=\"theme_info\" data-clk=\"tcc_bty.list8cont4\" target=\"_blank\">\\n\\t\\t\\t\\t\\t\\t<em class=\"theme_category\"> 패션뷰티</em>\\n\\t\\t\\t\\t\\t\\t<strong class=\"title elss\">맥X카카오프렌즈 립밤</strong>\\n                        <p class=\"desc\">이번에 맥 MAC과 카카오프렌즈가 3번째 컬래버레이션으로 라이언립밤을 출시했어요! 홀로그램 라이언이 그려져있는 글로우플레이립밤 카카오톡 선물하기에서 만나보아요 ㅎㅎㅎ KaKaO Friends X MAC glow play lip-balm 안녕하세요! #뷰티인플루언서 #뷰티크리에이터 #뷰스타 포롱이에용 ㅎㅎㅎㅎ 포롱이가 평소에 정말 잘 사용하고 있는 립밤이 바</p>\\n\\t\\t\\t\\t\\t\\t<div class=\"source_box\">\\n\\t\\t\\t\\t\\t\\t\\t<span class=\"date\">3주일 전</span>\\n\\t\\t\\t\\t\\t\\t\\t<span class=\"source\">\\n                                \\n                                <span class=\"source_inner\">뷰스타 포롱</span>\\n                            </span>\\n\\t\\t\\t\\t\\t\\t</div>\\n\\t\\t\\t\\t\\t</a>\\n\\t\\t\\t\\t</li>\\n\\t\\t\\t\\n\\t\\t\\t\\t<li class=\"theme_item\" data-gdid=\"620315cc0daf04c0eaee5b14\" data-da-position=\"true\">\\n\\t\\t\\t\\t\\t<a href=\"https://m.blog.naver.com/PostView.naver?blogId=sh_theme&amp;logNo=222639189515&amp;proxyReferer=\" class=\"theme_thumb\" data-clk=\"tcc_bty.list8cont5\" target=\"_blank\">\\n\\t\\t\\t\\t\\t\\t<img alt=\"비디비치 톤업 크림\" width=\"170\" height=\"114\" onerror=\"this.outerHTML=\\'<span class=\\\\\\'pm_noimg\\\\\\'><span class=\\\\\\'noimg_text\\\\\\'>이미지 준비중</span></span>\\'\" loading=\"lazy\" src=\"https://s.pstatic.net/dthumb.phinf/?src=%22https%3A%2F%2Fs.pstatic.net%2Fshop.phinf%2F20220209_68%2F1644369373767Oz6YP_JPEG%2F1-2.jpg%3Ftype%3Df342_342%22&amp;type=nf340_228\">\\n\\t\\t\\t\\t\\t\\t<span class=\"thumb_bd\"></span>\\n                        \\n\\t\\t\\t\\t\\t</a>\\n\\t\\t\\t\\t\\t<a href=\"https://m.blog.naver.com/PostView.naver?blogId=sh_theme&amp;logNo=222639189515&amp;proxyReferer=\" class=\"theme_info\" data-clk=\"tcc_bty.list8cont5\" target=\"_blank\">\\n\\t\\t\\t\\t\\t\\t<em class=\"theme_category\"> 패션뷰티</em>\\n\\t\\t\\t\\t\\t\\t<strong class=\"title elss\">비디비치 톤업 크림</strong>\\n                        <p class=\"desc\">요즘 가장 핫한 여자 예능인 미주! 오늘은 미주 화장품인 비디비치 스킨 일루미네이션을 소개할게요 피부는 자연스럽게 톤-업 해주면서 피부에 고급스럽게 광채감이 더해져 내 피부 원래 이렇게 좋았나?싶게 예뻐 집 앞 1-Mille 메이크업템 추천 한다는고 :) 요즘 대세 미주와 함께 핑순이 취향 저격하는 핑크패키지가 눈에 쾅! 비디비치는 아시아 대표 글로벌 뷰티</p>\\n\\t\\t\\t\\t\\t\\t<div class=\"source_box\">\\n\\t\\t\\t\\t\\t\\t\\t<span class=\"date\">2주일 전</span>\\n\\t\\t\\t\\t\\t\\t\\t<span class=\"source\">\\n                                \\n                                <span class=\"source_inner\">쎌리</span>\\n                            </span>\\n\\t\\t\\t\\t\\t\\t</div>\\n\\t\\t\\t\\t\\t</a>\\n\\t\\t\\t\\t</li>\\n\\t\\t\\t\\n\\t\\t</ul>\\n\\t</div>\\n</div>\\n<div class=\"group_theme\" data-block-id=\"\" data-block-code=\"PC-THEME-BEAUTY-MOBILE-RANKING-VIDEO-7\" data-block-type=\"MATERIALS\" data-template-code=\"MOBILE-RANKING-VIDEO-LIST\" data-index=\"\" data-page=\"4\" style=\"display:none\">\\n\\n\\t<div class=\"media_view_wrap type_column\">\\n\\t\\t<div class=\"media_view\">\\n\\t\\t\\t\\n\\t\\t\\t\\t<a href=\"https://tv.naver.com/v/22576204\" class=\"media_area\" data-gdid=\"6e5aa017-6f2f-46eb-9c47-6c2df549a3c3\" data-clk=\"tcc_bty.video8cont1\" target=\"_blank\">\\n\\t\\t\\t\\t\\t<div class=\"media_thumb\">\\n\\t\\t\\t\\t\\t\\t<img alt=\"갓성비 탄력 앰플 &amp; 크림 추천\" width=\"232\" height=\"130\" onerror=\"this.outerHTML=\\'<span class=\\\\\\'pm_noimg\\\\\\'><span class=\\\\\\'noimg_text\\\\\\'>이미지 준비중</span></span>\\'\" loading=\"lazy\" src=\"https://s.pstatic.net/dthumb.phinf/?src=%22https%3A%2F%2Fs.pstatic.net%2Fshop.phinf%2F20211005_76%2F1633420418481JOT5v_JPEG%2F1632381010451.jpg%3Ftype%3Df342_264%22&amp;type=nf464_260\">\\n\\t\\t\\t\\t\\t\\t<span class=\"thumb_dim\"></span>\\n\\t\\t\\t\\t\\t\\t<span class=\"thumb_bd\"></span>\\n\\t\\t\\t\\t\\t\\t<i class=\"pm_ico_play\"><span class=\"blind\">재생</span></i>\\n\\t\\t\\t\\t\\t\\t<span class=\"theme_runtime\"><span class=\"runtime_bg\">재생시간</span><em class=\"time\">08:51</em></span>\\n\\t\\t\\t\\t\\t</div>\\n\\t\\t\\t\\t\\t<div class=\"media_info\">\\n\\t\\t\\t\\t\\t\\t<div class=\"info_box\">\\n\\t\\t\\t\\t\\t\\t\\t<strong class=\"title\">갓성비 탄력 앰플 &amp; 크림 추천</strong>\\n\\t\\t\\t\\t\\t\\t\\t<div class=\"source_wrap\">\\n\\t\\t\\t\\t\\t\\t\\t\\t<span class=\"date\">5개월 전</span>\\n\\t\\t\\t\\t\\t\\t\\t\\t<span class=\"source\">\\n                                    \\n                                    <span class=\"source_inner\">채정안TV</span>\\n                                </span>\\n\\t\\t\\t\\t\\t\\t\\t</div>\\n\\t\\t\\t\\t\\t\\t</div>\\n\\t\\t\\t\\t\\t</div>\\n\\t\\t\\t\\t</a>\\n\\t\\t\\t\\n\\t\\t\\t\\t<a href=\"https://tv.naver.com/v/22683016\" class=\"media_area\" data-gdid=\"5c658a8e-f559-4eaf-9ef1-128adf4f19b0\" data-clk=\"tcc_bty.video8cont2\" target=\"_blank\">\\n\\t\\t\\t\\t\\t<div class=\"media_thumb\">\\n\\t\\t\\t\\t\\t\\t<img alt=\"자라 하반기 잇템 리스트 체크\" width=\"232\" height=\"130\" onerror=\"this.outerHTML=\\'<span class=\\\\\\'pm_noimg\\\\\\'><span class=\\\\\\'noimg_text\\\\\\'>이미지 준비중</span></span>\\'\" loading=\"lazy\" src=\"https://s.pstatic.net/dthumb.phinf/?src=%22https%3A%2F%2Fs.pstatic.net%2Fshop.phinf%2F20211005_141%2F1633420926640NyaSV_JPEG%2F1632900585344.jpg%3Ftype%3Df342_264%22&amp;type=nf464_260\">\\n\\t\\t\\t\\t\\t\\t<span class=\"thumb_dim\"></span>\\n\\t\\t\\t\\t\\t\\t<span class=\"thumb_bd\"></span>\\n\\t\\t\\t\\t\\t\\t<i class=\"pm_ico_play\"><span class=\"blind\">재생</span></i>\\n\\t\\t\\t\\t\\t\\t<span class=\"theme_runtime\"><span class=\"runtime_bg\">재생시간</span><em class=\"time\">08:00</em></span>\\n\\t\\t\\t\\t\\t</div>\\n\\t\\t\\t\\t\\t<div class=\"media_info\">\\n\\t\\t\\t\\t\\t\\t<div class=\"info_box\">\\n\\t\\t\\t\\t\\t\\t\\t<strong class=\"title\">자라 하반기 잇템 리스트 체크</strong>\\n\\t\\t\\t\\t\\t\\t\\t<div class=\"source_wrap\">\\n\\t\\t\\t\\t\\t\\t\\t\\t<span class=\"date\">4개월 전</span>\\n\\t\\t\\t\\t\\t\\t\\t\\t<span class=\"source\">\\n                                    \\n                                    <span class=\"source_inner\">채정안TV</span>\\n                                </span>\\n\\t\\t\\t\\t\\t\\t\\t</div>\\n\\t\\t\\t\\t\\t\\t</div>\\n\\t\\t\\t\\t\\t</div>\\n\\t\\t\\t\\t</a>\\n\\t\\t\\t\\n\\t\\t\\t\\t<a href=\"https://tv.naver.com/v/22665506\" class=\"media_area\" data-gdid=\"6156ddd3509e8a6ac31c8769\" data-clk=\"tcc_bty.video8cont3\" target=\"_blank\">\\n\\t\\t\\t\\t\\t<div class=\"media_thumb\">\\n\\t\\t\\t\\t\\t\\t<img alt=\"편안하면서 고급스러운 필수템\" width=\"232\" height=\"130\" onerror=\"this.outerHTML=\\'<span class=\\\\\\'pm_noimg\\\\\\'><span class=\\\\\\'noimg_text\\\\\\'>이미지 준비중</span></span>\\'\" loading=\"lazy\" src=\"https://s.pstatic.net/dthumb.phinf/?src=%22https%3A%2F%2Fs.pstatic.net%2Fshop.phinf%2F20211001_246%2F16330827301517yOel_JPEG%2F1632825076479.jpg%3Ftype%3Df342_264%22&amp;type=nf464_260\">\\n\\t\\t\\t\\t\\t\\t<span class=\"thumb_dim\"></span>\\n\\t\\t\\t\\t\\t\\t<span class=\"thumb_bd\"></span>\\n\\t\\t\\t\\t\\t\\t<i class=\"pm_ico_play\"><span class=\"blind\">재생</span></i>\\n\\t\\t\\t\\t\\t\\t<span class=\"theme_runtime\"><span class=\"runtime_bg\">재생시간</span><em class=\"time\">07:49</em></span>\\n\\t\\t\\t\\t\\t</div>\\n\\t\\t\\t\\t\\t<div class=\"media_info\">\\n\\t\\t\\t\\t\\t\\t<div class=\"info_box\">\\n\\t\\t\\t\\t\\t\\t\\t<strong class=\"title\">편안하면서 고급스러운 필수템</strong>\\n\\t\\t\\t\\t\\t\\t\\t<div class=\"source_wrap\">\\n\\t\\t\\t\\t\\t\\t\\t\\t<span class=\"date\">4개월 전</span>\\n\\t\\t\\t\\t\\t\\t\\t\\t<span class=\"source\">\\n                                    \\n                                    <span class=\"source_inner\">기은세 (Ki EunSe)</span>\\n                                </span>\\n\\t\\t\\t\\t\\t\\t\\t</div>\\n\\t\\t\\t\\t\\t\\t</div>\\n\\t\\t\\t\\t\\t</div>\\n\\t\\t\\t\\t</a>\\n\\t\\t\\t\\n\\t\\t</div>\\n\\t</div>\\n</div>\\n<div class=\"group_theme\" data-block-id=\"\" data-block-code=\"PC-THEME-BEAUTY-MOBILE-RANKING-DEFAULT-8\" data-block-type=\"MATERIALS\" data-template-code=\"MOBILE-RANKING-LIST\" data-da=\"container\" data-index=\"\" data-page=\"5\" style=\"display:none\">\\n\\n\\t<div class=\"list_theme_wrap\">\\n\\t\\t<ul class=\"list_theme\">\\n\\t\\t\\t\\n\\t\\t\\t\\t<li class=\"theme_item\" data-gdid=\"620315cc0daf04c0eaee5b15\" data-da-position=\"true\">\\n\\t\\t\\t\\t\\t<a href=\"https://m.blog.naver.com/PostView.naver?blogId=bbamue&amp;logNo=222620856356&amp;navType=by\" class=\"theme_thumb\" data-clk=\"tcc_bty.list9cont1\" target=\"_blank\">\\n\\t\\t\\t\\t\\t\\t<img alt=\"삐아 네버다이 마스카라\" width=\"170\" height=\"114\" onerror=\"this.outerHTML=\\'<span class=\\\\\\'pm_noimg\\\\\\'><span class=\\\\\\'noimg_text\\\\\\'>이미지 준비중</span></span>\\'\" loading=\"lazy\" src=\"https://s.pstatic.net/dthumb.phinf/?src=%22https%3A%2F%2Fs.pstatic.net%2Fshop.phinf%2F20220209_85%2F1644369400838nxCet_JPEG%2F1-3.jpg%3Ftype%3Df342_342%22&amp;type=nf340_228\">\\n\\t\\t\\t\\t\\t\\t<span class=\"thumb_bd\"></span>\\n                        \\n\\t\\t\\t\\t\\t</a>\\n\\t\\t\\t\\t\\t<a href=\"https://m.blog.naver.com/PostView.naver?blogId=bbamue&amp;logNo=222620856356&amp;navType=by\" class=\"theme_info\" data-clk=\"tcc_bty.list9cont1\" target=\"_blank\">\\n\\t\\t\\t\\t\\t\\t<em class=\"theme_category\"> 패션뷰티</em>\\n\\t\\t\\t\\t\\t\\t<strong class=\"title elss\">삐아 네버다이 마스카라</strong>\\n                        <p class=\"desc\">안번지고 컬링 오래가는 마스카라추천 삐아 네버다이 마스카라 블랙 사용해봤습니당 댬하! 뷰스타 버댜미예용 :-) 애기낳고나서 속눈썹 와장창 다 빠지고 난 뒤로 눈화장 할때 가장 신경쓰게 된 마스카라 ㅠㅠ 최근에는 그냥 다 비슷비슷하게 다 좋은 느낌이라 마스카라 추천 포스팅은 따로 거의 하지 않았는데 선물로 들어왔던거 하나둘씩 꺼내 쓰다가 너무너무 마음에 드는</p>\\n\\t\\t\\t\\t\\t\\t<div class=\"source_box\">\\n\\t\\t\\t\\t\\t\\t\\t<span class=\"date\">1개월 전</span>\\n\\t\\t\\t\\t\\t\\t\\t<span class=\"source\">\\n                                \\n                                <span class=\"source_inner\">버댜미</span>\\n                            </span>\\n\\t\\t\\t\\t\\t\\t</div>\\n\\t\\t\\t\\t\\t</a>\\n\\t\\t\\t\\t</li>\\n\\t\\t\\t\\n\\t\\t\\t\\t<li class=\"theme_item\" data-gdid=\"620315cc0daf04c0eaee5b16\" data-da-position=\"true\">\\n\\t\\t\\t\\t\\t<a href=\"https://m.blog.naver.com/PostView.naver?blogId=hjch1229&amp;logNo=222629344181&amp;proxyReferer=\" class=\"theme_thumb\" data-clk=\"tcc_bty.list9cont2\" target=\"_blank\">\\n\\t\\t\\t\\t\\t\\t<img alt=\"타르트 섀도 팔레트\" width=\"170\" height=\"114\" onerror=\"this.outerHTML=\\'<span class=\\\\\\'pm_noimg\\\\\\'><span class=\\\\\\'noimg_text\\\\\\'>이미지 준비중</span></span>\\'\" loading=\"lazy\" src=\"https://s.pstatic.net/dthumb.phinf/?src=%22https%3A%2F%2Fs.pstatic.net%2Fshop.phinf%2F20220209_206%2F1644369403379VNR5M_JPEG%2F1-4.jpg%3Ftype%3Df342_342%22&amp;type=nf340_228\">\\n\\t\\t\\t\\t\\t\\t<span class=\"thumb_bd\"></span>\\n                        \\n\\t\\t\\t\\t\\t</a>\\n\\t\\t\\t\\t\\t<a href=\"https://m.blog.naver.com/PostView.naver?blogId=hjch1229&amp;logNo=222629344181&amp;proxyReferer=\" class=\"theme_info\" data-clk=\"tcc_bty.list9cont2\" target=\"_blank\">\\n\\t\\t\\t\\t\\t\\t<em class=\"theme_category\"> 패션뷰티</em>\\n\\t\\t\\t\\t\\t\\t<strong class=\"title elss\">타르트 섀도 팔레트</strong>\\n                        <p class=\"desc\">안녕하세요. 뷰스타 배티입니다! :) 오늘은 큼직한 패키지에 다양한 컬러로 만나는 타르트 신상 섀도우팔레트 타르트레트 풀 블룸 아마조니안 클레어 팔레트 후기를 가져왔어요! 저 같은 경우,, 화장품 구매 시... 직구와는 거리가 먼 사람이기도 하고 요즘은 로드샵도 워낙 잘 나오니 궁금해도 구매까지 이어지지는 않았는데 빡쎈 발색의 타르트 제품을 드디어 사용해 </p>\\n\\t\\t\\t\\t\\t\\t<div class=\"source_box\">\\n\\t\\t\\t\\t\\t\\t\\t<span class=\"date\">1개월 전</span>\\n\\t\\t\\t\\t\\t\\t\\t<span class=\"source\">\\n                                \\n                                <span class=\"source_inner\">배티</span>\\n                            </span>\\n\\t\\t\\t\\t\\t\\t</div>\\n\\t\\t\\t\\t\\t</a>\\n\\t\\t\\t\\t</li>\\n\\t\\t\\t\\n\\t\\t\\t\\t<li class=\"theme_item\" data-gdid=\"bc0013ba-658a-4a81-b3c2-e9355a1b19bf\" data-da-position=\"true\">\\n\\t\\t\\t\\t\\t<a href=\"https://blog.naver.com/0226orange/222610754438\" class=\"theme_thumb\" data-clk=\"tcc_bty.list9cont3\" target=\"_blank\">\\n\\t\\t\\t\\t\\t\\t<img alt=\"본연의 피부 같은 밀착력\" width=\"170\" height=\"114\" onerror=\"this.outerHTML=\\'<span class=\\\\\\'pm_noimg\\\\\\'><span class=\\\\\\'noimg_text\\\\\\'>이미지 준비중</span></span>\\'\" loading=\"lazy\" src=\"https://s.pstatic.net/dthumb.phinf/?src=%22https%3A%2F%2Fs.pstatic.net%2Fshop.phinf%2F20220211_43%2F16445658282812u5i0_JPEG%2F2%25BF%25F913%25C0%25CF_%25C6%25D0%25BC%25C7%25BA%25E4%25C6%25BC%25C6%25C7_2%25B6%25F3%25C0%25CE_1%25B9%25F8%25BF%25B5%25BF%25AA.jpg%3Ftype%3Df342_264%22&amp;type=nf340_228\">\\n\\t\\t\\t\\t\\t\\t<span class=\"thumb_bd\"></span>\\n                        \\n\\t\\t\\t\\t\\t</a>\\n\\t\\t\\t\\t\\t<a href=\"https://blog.naver.com/0226orange/222610754438\" class=\"theme_info\" data-clk=\"tcc_bty.list9cont3\" target=\"_blank\">\\n\\t\\t\\t\\t\\t\\t<em class=\"theme_category\"> 패션뷰티</em>\\n\\t\\t\\t\\t\\t\\t<strong class=\"title elss\">본연의 피부 같은 밀착력</strong>\\n                        <p class=\"desc\">솔직히 이 정도일 줄은 몰랐어요. #설화수퍼펙팅쿠션 피부표현 촉촉하니 결광돌면서 예쁘게 잘 된다고 얘기는 들었습니다만- 커버력이 약할까봐 선뜻 마음을 정하진 못하고 있었거든요. 저는 가뜩이나 모공부자 &amp; 잡티부자라 가리는 것도 중요한 사람이라는 거.... 다들 아시잖아요. 암튼 오늘은! 칙칙하고 까칠한 피부에 새생명을 불어 넣어주는 쿠션이라고 칭찬이 자자한</p>\\n\\t\\t\\t\\t\\t\\t<div class=\"source_box\">\\n\\t\\t\\t\\t\\t\\t\\t<span class=\"date\">1개월 전</span>\\n\\t\\t\\t\\t\\t\\t\\t<span class=\"source\">\\n                                \\n                                <span class=\"source_inner\">금귤</span>\\n                            </span>\\n\\t\\t\\t\\t\\t\\t</div>\\n\\t\\t\\t\\t\\t</a>\\n\\t\\t\\t\\t</li>\\n\\t\\t\\t\\n\\t\\t\\t\\t<li class=\"theme_item\" data-gdid=\"0e1957d5-712b-4711-875a-0586cd309bd8\" data-da-position=\"true\">\\n\\t\\t\\t\\t\\t<a href=\"https://blog.naver.com/yseslly/222631302842\" class=\"theme_thumb\" data-clk=\"tcc_bty.list9cont4\" target=\"_blank\">\\n\\t\\t\\t\\t\\t\\t<img alt=\"푸짐한 사은품까지 증정\" width=\"170\" height=\"114\" onerror=\"this.outerHTML=\\'<span class=\\\\\\'pm_noimg\\\\\\'><span class=\\\\\\'noimg_text\\\\\\'>이미지 준비중</span></span>\\'\" loading=\"lazy\" src=\"https://s.pstatic.net/dthumb.phinf/?src=%22https%3A%2F%2Fs.pstatic.net%2Fshop.phinf%2F20220211_122%2F1644565830593588fQ_JPEG%2F2%25BF%25F913%25C0%25CF_%25C6%25D0%25BC%25C7%25BA%25E4%25C6%25BC%25C6%25C7_2%25B6%25F3%25C0%25CE_2%25B9%25F8%25BF%25B5%25BF%25AA.jpg%3Ftype%3Df342_264%22&amp;type=nf340_228\">\\n\\t\\t\\t\\t\\t\\t<span class=\"thumb_bd\"></span>\\n                        \\n\\t\\t\\t\\t\\t</a>\\n\\t\\t\\t\\t\\t<a href=\"https://blog.naver.com/yseslly/222631302842\" class=\"theme_info\" data-clk=\"tcc_bty.list9cont4\" target=\"_blank\">\\n\\t\\t\\t\\t\\t\\t<em class=\"theme_category\"> 패션뷰티</em>\\n\\t\\t\\t\\t\\t\\t<strong class=\"title elss\">푸짐한 사은품까지 증정</strong>\\n                        <p class=\"desc\">안녕하세요~~~ 곧 밝아올 따스한 봄을 기다리는 저... 얼음이 녹는 날을 살금살금한 발걸음으로 설레하는 듕 팔랑팔랑 달력을 넘겨보니... 슬슬 봄기운이 피어날 날짜가 맞으니까 (??) 저는 상큼한 컬러를 양손에 하나씩, 꾸욱 잡고 두근거리며 고대하고 있을래요 그런데 혹시 립 메이크업할 때의 취향을 물어보면 어떻습니꺄 저는 물먹 반짝반짝이 좋은 촉촉파예요 </p>\\n\\t\\t\\t\\t\\t\\t<div class=\"source_box\">\\n\\t\\t\\t\\t\\t\\t\\t<span class=\"date\">4주일 전</span>\\n\\t\\t\\t\\t\\t\\t\\t<span class=\"source\">\\n                                \\n                                <span class=\"source_inner\">es</span>\\n                            </span>\\n\\t\\t\\t\\t\\t\\t</div>\\n\\t\\t\\t\\t\\t</a>\\n\\t\\t\\t\\t</li>\\n\\t\\t\\t\\n\\t\\t\\t\\t<li class=\"theme_item\" data-gdid=\"6203092ebe84f12c66c65cc7\" data-da-position=\"true\">\\n\\t\\t\\t\\t\\t<a href=\"https://m.blog.naver.com/PostView.naver?blogId=hyejeong0724&amp;logNo=222632600567&amp;proxyReferer=\" class=\"theme_thumb\" data-clk=\"tcc_bty.list9cont5\" target=\"_blank\">\\n\\t\\t\\t\\t\\t\\t<img alt=\"나스 블러셔 팔레트\" width=\"170\" height=\"114\" onerror=\"this.outerHTML=\\'<span class=\\\\\\'pm_noimg\\\\\\'><span class=\\\\\\'noimg_text\\\\\\'>이미지 준비중</span></span>\\'\" loading=\"lazy\" src=\"https://s.pstatic.net/dthumb.phinf/?src=%22https%3A%2F%2Fs.pstatic.net%2Fshop.phinf%2F20220209_229%2F1644366140155qU4QG_JPEG%2F1-1.jpg%3Ftype%3Df342_342%22&amp;type=nf340_228\">\\n\\t\\t\\t\\t\\t\\t<span class=\"thumb_bd\"></span>\\n                        \\n\\t\\t\\t\\t\\t</a>\\n\\t\\t\\t\\t\\t<a href=\"https://m.blog.naver.com/PostView.naver?blogId=hyejeong0724&amp;logNo=222632600567&amp;proxyReferer=\" class=\"theme_info\" data-clk=\"tcc_bty.list9cont5\" target=\"_blank\">\\n\\t\\t\\t\\t\\t\\t<em class=\"theme_category\"> 패션뷰티</em>\\n\\t\\t\\t\\t\\t\\t<strong class=\"title elss\">나스 블러셔 팔레트</strong>\\n                        <p class=\"desc\">안녕하세요! 뷰스타 혜또에요 :) 1월말이라서 그런지 전보다 날씨도 따뜻해지구 두달만 지나면 봄이라니,,, 벚꽃 볼 생각에 벌써 설레는 요즘이에요 ! 다가오는 봄에 하고다니면 찰떡인 나스의 따끈따끈한 신제품들 보여드릴게요 &gt;_&lt; 리뷰를 시작하기에 앞서 메이크업룩 슬쩍 보여드리기ㅎㅎㅎ 벌써부터 너무 예쁘지 않나요? 자, 그럼 제가 어떤 제품들을 사용했는지 지</p>\\n\\t\\t\\t\\t\\t\\t<div class=\"source_box\">\\n\\t\\t\\t\\t\\t\\t\\t<span class=\"date\">4주일 전</span>\\n\\t\\t\\t\\t\\t\\t\\t<span class=\"source\">\\n                                \\n                                <span class=\"source_inner\">뷰스타 혜또</span>\\n                            </span>\\n\\t\\t\\t\\t\\t\\t</div>\\n\\t\\t\\t\\t\\t</a>\\n\\t\\t\\t\\t</li>\\n\\t\\t\\t\\n\\t\\t</ul>\\n\\t</div>\\n</div>\\n<div class=\"group_theme\" data-block-id=\"\" data-block-code=\"PC-THEME-BEAUTY-MOBILE-RANKING-VIDEO-8\" data-block-type=\"MATERIALS\" data-template-code=\"MOBILE-RANKING-VIDEO-LIST\" data-index=\"\" data-page=\"5\" style=\"display:none\">\\n\\n\\t<div class=\"media_view_wrap type_column\">\\n\\t\\t<div class=\"media_view\">\\n\\t\\t\\t\\n\\t\\t\\t\\t<a href=\"https://tv.naver.com/v/22574263\" class=\"media_area\" data-gdid=\"7cde047d-bbb1-4381-9627-d6abae03e75a\" data-clk=\"tcc_bty.video9cont1\" target=\"_blank\">\\n\\t\\t\\t\\t\\t<div class=\"media_thumb\">\\n\\t\\t\\t\\t\\t\\t<img alt=\"메이크업 픽서 TOP of TOP 대결\" width=\"232\" height=\"130\" onerror=\"this.outerHTML=\\'<span class=\\\\\\'pm_noimg\\\\\\'><span class=\\\\\\'noimg_text\\\\\\'>이미지 준비중</span></span>\\'\" loading=\"lazy\" src=\"https://s.pstatic.net/dthumb.phinf/?src=%22https%3A%2F%2Fs.pstatic.net%2Fshop.phinf%2F20211001_300%2F1633081965574dveip_JPEG%2F1632368275846.jpg%3Ftype%3Df342_264%22&amp;type=nf464_260\">\\n\\t\\t\\t\\t\\t\\t<span class=\"thumb_dim\"></span>\\n\\t\\t\\t\\t\\t\\t<span class=\"thumb_bd\"></span>\\n\\t\\t\\t\\t\\t\\t<i class=\"pm_ico_play\"><span class=\"blind\">재생</span></i>\\n\\t\\t\\t\\t\\t\\t<span class=\"theme_runtime\"><span class=\"runtime_bg\">재생시간</span><em class=\"time\">22:26</em></span>\\n\\t\\t\\t\\t\\t</div>\\n\\t\\t\\t\\t\\t<div class=\"media_info\">\\n\\t\\t\\t\\t\\t\\t<div class=\"info_box\">\\n\\t\\t\\t\\t\\t\\t\\t<strong class=\"title\">메이크업 픽서 TOP of TOP 대결</strong>\\n\\t\\t\\t\\t\\t\\t\\t<div class=\"source_wrap\">\\n\\t\\t\\t\\t\\t\\t\\t\\t<span class=\"date\">5개월 전</span>\\n\\t\\t\\t\\t\\t\\t\\t\\t<span class=\"source\">\\n                                    \\n                                    <span class=\"source_inner\">디렉터파이</span>\\n                                </span>\\n\\t\\t\\t\\t\\t\\t\\t</div>\\n\\t\\t\\t\\t\\t\\t</div>\\n\\t\\t\\t\\t\\t</div>\\n\\t\\t\\t\\t</a>\\n\\t\\t\\t\\n\\t\\t\\t\\t<a href=\"https://tv.naver.com/v/22287847\" class=\"media_area\" data-gdid=\"831c7b3c-edbe-4755-9277-5e72730d9be9\" data-clk=\"tcc_bty.video9cont2\" target=\"_blank\">\\n\\t\\t\\t\\t\\t<div class=\"media_thumb\">\\n\\t\\t\\t\\t\\t\\t<img alt=\"FW 새롭게 뜨는 패션 트렌드\" width=\"232\" height=\"130\" onerror=\"this.outerHTML=\\'<span class=\\\\\\'pm_noimg\\\\\\'><span class=\\\\\\'noimg_text\\\\\\'>이미지 준비중</span></span>\\'\" loading=\"lazy\" src=\"https://s.pstatic.net/dthumb.phinf/?src=%22https%3A%2F%2Fs.pstatic.net%2Fshop.phinf%2F20211001_42%2F1633082249949lvugR_JPEG%2F1632967120093.jpg%3Ftype%3Df342_264%22&amp;type=nf464_260\">\\n\\t\\t\\t\\t\\t\\t<span class=\"thumb_dim\"></span>\\n\\t\\t\\t\\t\\t\\t<span class=\"thumb_bd\"></span>\\n\\t\\t\\t\\t\\t\\t<i class=\"pm_ico_play\"><span class=\"blind\">재생</span></i>\\n\\t\\t\\t\\t\\t\\t<span class=\"theme_runtime\"><span class=\"runtime_bg\">재생시간</span><em class=\"time\">13:33</em></span>\\n\\t\\t\\t\\t\\t</div>\\n\\t\\t\\t\\t\\t<div class=\"media_info\">\\n\\t\\t\\t\\t\\t\\t<div class=\"info_box\">\\n\\t\\t\\t\\t\\t\\t\\t<strong class=\"title\">FW 새롭게 뜨는 패션 트렌드</strong>\\n\\t\\t\\t\\t\\t\\t\\t<div class=\"source_wrap\">\\n\\t\\t\\t\\t\\t\\t\\t\\t<span class=\"date\">5개월 전</span>\\n\\t\\t\\t\\t\\t\\t\\t\\t<span class=\"source\">\\n                                    \\n                                    <span class=\"source_inner\">옆집언니 최실장</span>\\n                                </span>\\n\\t\\t\\t\\t\\t\\t\\t</div>\\n\\t\\t\\t\\t\\t\\t</div>\\n\\t\\t\\t\\t\\t</div>\\n\\t\\t\\t\\t</a>\\n\\t\\t\\t\\n\\t\\t\\t\\t<a href=\"https://tv.naver.com/v/22498026\" class=\"media_area\" data-gdid=\"c13d4126-3297-44e9-ba59-8e33ef031d91\" data-clk=\"tcc_bty.video9cont3\" target=\"_blank\">\\n\\t\\t\\t\\t\\t<div class=\"media_thumb\">\\n\\t\\t\\t\\t\\t\\t<img alt=\"여드름 피부를 위한 트러블 케어\" width=\"232\" height=\"130\" onerror=\"this.outerHTML=\\'<span class=\\\\\\'pm_noimg\\\\\\'><span class=\\\\\\'noimg_text\\\\\\'>이미지 준비중</span></span>\\'\" loading=\"lazy\" src=\"https://s.pstatic.net/dthumb.phinf/?src=%22https%3A%2F%2Fs.pstatic.net%2Fshop.phinf%2F20210930_107%2F16329973720887ikkC_JPEG%2F%25BF%25C0%25B4%25C3%25C0%25C7%25BA%25E4%25C6%25BC_10%25BF%25F95%25C0%25CF_2.jpg%3Ftype%3Df342_264%22&amp;type=nf464_260\">\\n\\t\\t\\t\\t\\t\\t<span class=\"thumb_dim\"></span>\\n\\t\\t\\t\\t\\t\\t<span class=\"thumb_bd\"></span>\\n\\t\\t\\t\\t\\t\\t<i class=\"pm_ico_play\"><span class=\"blind\">재생</span></i>\\n\\t\\t\\t\\t\\t\\t<span class=\"theme_runtime\"><span class=\"runtime_bg\">재생시간</span><em class=\"time\">00:33</em></span>\\n\\t\\t\\t\\t\\t</div>\\n\\t\\t\\t\\t\\t<div class=\"media_info\">\\n\\t\\t\\t\\t\\t\\t<div class=\"info_box\">\\n\\t\\t\\t\\t\\t\\t\\t<strong class=\"title\">여드름 피부를 위한 트러블 케어</strong>\\n\\t\\t\\t\\t\\t\\t\\t<div class=\"source_wrap\">\\n\\t\\t\\t\\t\\t\\t\\t\\t<span class=\"date\">5개월 전</span>\\n\\t\\t\\t\\t\\t\\t\\t\\t<span class=\"source\">\\n                                    \\n                                    <span class=\"source_inner\">갓신상</span>\\n                                </span>\\n\\t\\t\\t\\t\\t\\t\\t</div>\\n\\t\\t\\t\\t\\t\\t</div>\\n\\t\\t\\t\\t\\t</div>\\n\\t\\t\\t\\t</a>\\n\\t\\t\\t\\n\\t\\t</div>\\n\\t</div>\\n</div>\\n<div class=\"group_theme\" data-block-id=\"\" data-block-code=\"PC-THEME-BEAUTY-MOBILE-RANKING-DEFAULT-9\" data-block-type=\"MATERIALS\" data-template-code=\"MOBILE-RANKING-LIST\" data-da=\"container\" data-index=\"\" data-page=\"5\" style=\"display:none\">\\n\\n\\t<div class=\"list_theme_wrap\">\\n\\t\\t<ul class=\"list_theme\">\\n\\t\\t\\t\\n\\t\\t\\t\\t<li class=\"theme_item\" data-gdid=\"6203092ebe84f12c66c65cc8\" data-da-position=\"true\">\\n\\t\\t\\t\\t\\t<a href=\"https://m.blog.naver.com/PostView.naver?blogId=bn_design&amp;logNo=222624900167&amp;proxyReferer=\" class=\"theme_thumb\" data-clk=\"tcc_bty.list10cont1\" target=\"_blank\">\\n\\t\\t\\t\\t\\t\\t<img alt=\"루즈 디올 999 벨벳\" width=\"170\" height=\"114\" onerror=\"this.outerHTML=\\'<span class=\\\\\\'pm_noimg\\\\\\'><span class=\\\\\\'noimg_text\\\\\\'>이미지 준비중</span></span>\\'\" loading=\"lazy\" src=\"https://s.pstatic.net/dthumb.phinf/?src=%22https%3A%2F%2Fs.pstatic.net%2Fshop.phinf%2F20220209_50%2F1644366142883tpt5n_JPEG%2F1-2.jpg%3Ftype%3Df342_342%22&amp;type=nf340_228\">\\n\\t\\t\\t\\t\\t\\t<span class=\"thumb_bd\"></span>\\n                        \\n\\t\\t\\t\\t\\t</a>\\n\\t\\t\\t\\t\\t<a href=\"https://m.blog.naver.com/PostView.naver?blogId=bn_design&amp;logNo=222624900167&amp;proxyReferer=\" class=\"theme_info\" data-clk=\"tcc_bty.list10cont1\" target=\"_blank\">\\n\\t\\t\\t\\t\\t\\t<em class=\"theme_category\"> 패션뷰티</em>\\n\\t\\t\\t\\t\\t\\t<strong class=\"title elss\">루즈 디올 999 벨벳</strong>\\n                        <p class=\"desc\">안녕하세요오 은빈이에요 ♡ฅ(ᐤˊ꒳ฅˋᐤ♪) 저 요번에 이하늬님 화보보다가 깜짝놀라서 다시 가져온 립이 있어요. 바로 루즈 디올 999 벨벳인데 은근히 웜한 레드립이라 웜톤 얼굴색 확 밝혀주는 형광등 레드립스틱 찾으시는 분들께 추천해드리려고 가져왔습니다 ( ღ\\'ᴗ\\'ღ )V 그럼 바로 보여드릴게요! NEW 루즈 디올 999 벨벳 48,000원 먼저 루즈 디올</p>\\n\\t\\t\\t\\t\\t\\t<div class=\"source_box\">\\n\\t\\t\\t\\t\\t\\t\\t<span class=\"date\">1개월 전</span>\\n\\t\\t\\t\\t\\t\\t\\t<span class=\"source\">\\n                                \\n                                <span class=\"source_inner\">뷰스타 은빈</span>\\n                            </span>\\n\\t\\t\\t\\t\\t\\t</div>\\n\\t\\t\\t\\t\\t</a>\\n\\t\\t\\t\\t</li>\\n\\t\\t\\t\\n\\t\\t\\t\\t<li class=\"theme_item\" data-gdid=\"6203092ebe84f12c66c65cc9\" data-da-position=\"true\">\\n\\t\\t\\t\\t\\t<a href=\"https://m.blog.naver.com/PostView.naver?blogId=dbtl0705&amp;logNo=222604621886&amp;proxyReferer=\" class=\"theme_thumb\" data-clk=\"tcc_bty.list10cont2\" target=\"_blank\">\\n\\t\\t\\t\\t\\t\\t<img alt=\"토니모리 쇼킹라이너\" width=\"170\" height=\"114\" onerror=\"this.outerHTML=\\'<span class=\\\\\\'pm_noimg\\\\\\'><span class=\\\\\\'noimg_text\\\\\\'>이미지 준비중</span></span>\\'\" loading=\"lazy\" src=\"https://s.pstatic.net/dthumb.phinf/?src=%22https%3A%2F%2Fs.pstatic.net%2Fshop.phinf%2F20220209_187%2F16443661648454Oed1_JPEG%2F1-3.jpg%3Ftype%3Df342_342%22&amp;type=nf340_228\">\\n\\t\\t\\t\\t\\t\\t<span class=\"thumb_bd\"></span>\\n                        \\n\\t\\t\\t\\t\\t</a>\\n\\t\\t\\t\\t\\t<a href=\"https://m.blog.naver.com/PostView.naver?blogId=dbtl0705&amp;logNo=222604621886&amp;proxyReferer=\" class=\"theme_info\" data-clk=\"tcc_bty.list10cont2\" target=\"_blank\">\\n\\t\\t\\t\\t\\t\\t<em class=\"theme_category\"> 패션뷰티</em>\\n\\t\\t\\t\\t\\t\\t<strong class=\"title elss\">토니모리 쇼킹라이너</strong>\\n                        <p class=\"desc\">비건 화장품들은 약하거나 잘 번진다? NO!!!! 이제 선입견은 그만! 워터프루프로 수분, 유분에 매우 강한 토니모리 쇼킹라이너 🌟 크레이지프루프 경험해보세요 안녕하세요!! #뷰티인플루언서 #뷰티크리에이터 #뷰스타 포롱이에용 ㅎㅎㅎㅎ 제가 요즘 고민을 하고 있는 것이 있는데, 아이라인이 너무 잘 지워진다는 점이에요. 요즘 눈두덩이에 유분기가 올라오는지,,</p>\\n\\t\\t\\t\\t\\t\\t<div class=\"source_box\">\\n\\t\\t\\t\\t\\t\\t\\t<span class=\"date\">1개월 전</span>\\n\\t\\t\\t\\t\\t\\t\\t<span class=\"source\">\\n                                \\n                                <span class=\"source_inner\">뷰스타 포롱</span>\\n                            </span>\\n\\t\\t\\t\\t\\t\\t</div>\\n\\t\\t\\t\\t\\t</a>\\n\\t\\t\\t\\t</li>\\n\\t\\t\\t\\n\\t\\t\\t\\t<li class=\"theme_item\" data-gdid=\"6203092ebe84f12c66c65cca\" data-da-position=\"true\">\\n\\t\\t\\t\\t\\t<a href=\"https://m.blog.naver.com/PostView.naver?blogId=xhxhdhkalvl&amp;logNo=222640370387&amp;proxyReferer=\" class=\"theme_thumb\" data-clk=\"tcc_bty.list10cont3\" target=\"_blank\">\\n\\t\\t\\t\\t\\t\\t<img alt=\"로레알파리 선크림\" width=\"170\" height=\"114\" onerror=\"this.outerHTML=\\'<span class=\\\\\\'pm_noimg\\\\\\'><span class=\\\\\\'noimg_text\\\\\\'>이미지 준비중</span></span>\\'\" loading=\"lazy\" src=\"https://s.pstatic.net/dthumb.phinf/?src=%22https%3A%2F%2Fs.pstatic.net%2Fshop.phinf%2F20220209_161%2F1644366167241B3lGB_JPEG%2F1-4.jpg%3Ftype%3Df342_342%22&amp;type=nf340_228\">\\n\\t\\t\\t\\t\\t\\t<span class=\"thumb_bd\"></span>\\n                        \\n\\t\\t\\t\\t\\t</a>\\n\\t\\t\\t\\t\\t<a href=\"https://m.blog.naver.com/PostView.naver?blogId=xhxhdhkalvl&amp;logNo=222640370387&amp;proxyReferer=\" class=\"theme_info\" data-clk=\"tcc_bty.list10cont3\" target=\"_blank\">\\n\\t\\t\\t\\t\\t\\t<em class=\"theme_category\"> 패션뷰티</em>\\n\\t\\t\\t\\t\\t\\t<strong class=\"title elss\">로레알파리 선크림</strong>\\n                        <p class=\"desc\">로레알파리 데일리선크림 코렉트&amp;프로텍트 산뜻한 톤보정 다른 건 몰라도 사계절 필수라고 생각되는 건 역시 선크림인데..! 지금같은 추운 겨울이든 곧 다가올 봄이든 자외선 차단은 매우 중요함! 로레알파리 선크림은 예전 청록색(?) 버전부터 계속 써 왔었는데 이번에도 사용감과 피부별로도 출시가 되어서 나에게 맞는 걸로 골라쓸 수 있음! 매트&amp;프레쉬 / 코렉트&amp;.</p>\\n\\t\\t\\t\\t\\t\\t<div class=\"source_box\">\\n\\t\\t\\t\\t\\t\\t\\t<span class=\"date\">2주일 전</span>\\n\\t\\t\\t\\t\\t\\t\\t<span class=\"source\">\\n                                \\n                                <span class=\"source_inner\">팡</span>\\n                            </span>\\n\\t\\t\\t\\t\\t\\t</div>\\n\\t\\t\\t\\t\\t</a>\\n\\t\\t\\t\\t</li>\\n\\t\\t\\t\\n\\t\\t\\t\\t<li class=\"theme_item\" data-gdid=\"6201c24f24d98e2c5bb6ff51\" data-da-position=\"true\">\\n\\t\\t\\t\\t\\t<a href=\"https://m.blog.naver.com/PostView.naver?blogId=maize210&amp;logNo=222628932942&amp;proxyReferer=\" class=\"theme_thumb\" data-clk=\"tcc_bty.list10cont4\" target=\"_blank\">\\n\\t\\t\\t\\t\\t\\t<img alt=\"입생로랑 꾸뛰르 팔레트\" width=\"170\" height=\"114\" onerror=\"this.outerHTML=\\'<span class=\\\\\\'pm_noimg\\\\\\'><span class=\\\\\\'noimg_text\\\\\\'>이미지 준비중</span></span>\\'\" loading=\"lazy\" src=\"https://s.pstatic.net/dthumb.phinf/?src=%22https%3A%2F%2Fs.pstatic.net%2Fshop.phinf%2F20220208_156%2F1644282462650Rggyv_JPEG%2F1-1.jpg%3Ftype%3Df342_342%22&amp;type=nf340_228\">\\n\\t\\t\\t\\t\\t\\t<span class=\"thumb_bd\"></span>\\n                        \\n\\t\\t\\t\\t\\t</a>\\n\\t\\t\\t\\t\\t<a href=\"https://m.blog.naver.com/PostView.naver?blogId=maize210&amp;logNo=222628932942&amp;proxyReferer=\" class=\"theme_info\" data-clk=\"tcc_bty.list10cont4\" target=\"_blank\">\\n\\t\\t\\t\\t\\t\\t<em class=\"theme_category\"> 패션뷰티</em>\\n\\t\\t\\t\\t\\t\\t<strong class=\"title elss\">입생로랑 꾸뛰르 팔레트</strong>\\n                        <p class=\"desc\">안녕하세요! 뷰스타 살구입니다💖 오늘은 그냥 오랜만에 눈화장 기록을 가지고 와봤어요💖 평소에 눈화장 하고 사진찍을 때도 많은데 뭔가 찍고나면 마음에 안들고 귀찮고 해서 ㅋㅋㅋ그냥 지운것도 많았거든요?! 근데 요 메이크업은 뭔가 마음에 들어서 제품사진도 찍고 인스타에도 올렸는데 역시 저는 붉붉하면서 글리터 잔뜩 올린 아이메이크업을 좋아하는 것 같아요 ㅋㅋ</p>\\n\\t\\t\\t\\t\\t\\t<div class=\"source_box\">\\n\\t\\t\\t\\t\\t\\t\\t<span class=\"date\">1개월 전</span>\\n\\t\\t\\t\\t\\t\\t\\t<span class=\"source\">\\n                                \\n                                <span class=\"source_inner\">살구</span>\\n                            </span>\\n\\t\\t\\t\\t\\t\\t</div>\\n\\t\\t\\t\\t\\t</a>\\n\\t\\t\\t\\t</li>\\n\\t\\t\\t\\n\\t\\t\\t\\t<li class=\"theme_item\" data-gdid=\"6201c24f24d98e2c5bb6ff52\" data-da-position=\"true\">\\n\\t\\t\\t\\t\\t<a href=\"https://m.blog.naver.com/PostView.naver?blogId=hwhj0604&amp;logNo=222633786939&amp;proxyReferer=\" class=\"theme_thumb\" data-clk=\"tcc_bty.list10cont5\" target=\"_blank\">\\n\\t\\t\\t\\t\\t\\t<img alt=\"베네피트 아이브로우\" width=\"170\" height=\"114\" onerror=\"this.outerHTML=\\'<span class=\\\\\\'pm_noimg\\\\\\'><span class=\\\\\\'noimg_text\\\\\\'>이미지 준비중</span></span>\\'\" loading=\"lazy\" src=\"https://s.pstatic.net/dthumb.phinf/?src=%22https%3A%2F%2Fs.pstatic.net%2Fshop.phinf%2F20220208_55%2F1644282465286oAsa5_JPEG%2F1-2.jpg%3Ftype%3Df342_342%22&amp;type=nf340_228\">\\n\\t\\t\\t\\t\\t\\t<span class=\"thumb_bd\"></span>\\n                        \\n\\t\\t\\t\\t\\t</a>\\n\\t\\t\\t\\t\\t<a href=\"https://m.blog.naver.com/PostView.naver?blogId=hwhj0604&amp;logNo=222633786939&amp;proxyReferer=\" class=\"theme_info\" data-clk=\"tcc_bty.list10cont5\" target=\"_blank\">\\n\\t\\t\\t\\t\\t\\t<em class=\"theme_category\"> 패션뷰티</em>\\n\\t\\t\\t\\t\\t\\t<strong class=\"title elss\">베네피트 아이브로우</strong>\\n                        <p class=\"desc\">안뇽 원이에요 :) 오늘은 no.1 브로우 브랜드 베네피트의 best 브로우인 프리사이슬리 마이 브로우 펜슬 과 함께 김미 브로우+ 2가지 연출 룩 가져왔어욥. 김미 브로우+ 와 함께 24아워 브로우 세터도 같이 사용해봤는데 같이 보여드릴게용 ! 이제는 정말 프리사이슬리 브로우는 없어서는 안될 존재랄까요 .. 제 눈썹 땜빵 채우기에는 딱이거등요 ! 눈썹 결</p>\\n\\t\\t\\t\\t\\t\\t<div class=\"source_box\">\\n\\t\\t\\t\\t\\t\\t\\t<span class=\"date\">3주일 전</span>\\n\\t\\t\\t\\t\\t\\t\\t<span class=\"source\">\\n                                \\n                                <span class=\"source_inner\">원이도리</span>\\n                            </span>\\n\\t\\t\\t\\t\\t\\t</div>\\n\\t\\t\\t\\t\\t</a>\\n\\t\\t\\t\\t</li>\\n\\t\\t\\t\\n\\t\\t</ul>\\n\\t</div>\\n</div>\\n<div class=\"group_theme\" data-block-id=\"\" data-block-code=\"PC-THEME-BEAUTY-MOBILE-RANKING-VIDEO-9\" data-block-type=\"MATERIALS\" data-template-code=\"MOBILE-RANKING-VIDEO-LIST\" data-index=\"\" data-page=\"5\" style=\"display:none\">\\n\\n\\t<div class=\"media_view_wrap type_column\">\\n\\t\\t<div class=\"media_view\">\\n\\t\\t\\t\\n\\t\\t\\t\\t<a href=\"https://tv.naver.com/v/22504770\" class=\"media_area\" data-gdid=\"f06ba78a-cb6a-404e-a236-6e3e88350b73\" data-clk=\"tcc_bty.video10cont1\" target=\"_blank\">\\n\\t\\t\\t\\t\\t<div class=\"media_thumb\">\\n\\t\\t\\t\\t\\t\\t<img alt=\"스스로 선물한 명품 시계 언박싱\" width=\"232\" height=\"130\" onerror=\"this.outerHTML=\\'<span class=\\\\\\'pm_noimg\\\\\\'><span class=\\\\\\'noimg_text\\\\\\'>이미지 준비중</span></span>\\'\" loading=\"lazy\" src=\"https://s.pstatic.net/dthumb.phinf/?src=%22https%3A%2F%2Fs.pstatic.net%2Fshop.phinf%2F20210930_43%2F1632997682303Wr9H9_JPEG%2F1631847476979.jpg%3Ftype%3Df342_264%22&amp;type=nf464_260\">\\n\\t\\t\\t\\t\\t\\t<span class=\"thumb_dim\"></span>\\n\\t\\t\\t\\t\\t\\t<span class=\"thumb_bd\"></span>\\n\\t\\t\\t\\t\\t\\t<i class=\"pm_ico_play\"><span class=\"blind\">재생</span></i>\\n\\t\\t\\t\\t\\t\\t<span class=\"theme_runtime\"><span class=\"runtime_bg\">재생시간</span><em class=\"time\">06:42</em></span>\\n\\t\\t\\t\\t\\t</div>\\n\\t\\t\\t\\t\\t<div class=\"media_info\">\\n\\t\\t\\t\\t\\t\\t<div class=\"info_box\">\\n\\t\\t\\t\\t\\t\\t\\t<strong class=\"title\">스스로 선물한 명품 시계 언박싱</strong>\\n\\t\\t\\t\\t\\t\\t\\t<div class=\"source_wrap\">\\n\\t\\t\\t\\t\\t\\t\\t\\t<span class=\"date\">5개월 전</span>\\n\\t\\t\\t\\t\\t\\t\\t\\t<span class=\"source\">\\n                                    \\n                                    <span class=\"source_inner\">채정안TV</span>\\n                                </span>\\n\\t\\t\\t\\t\\t\\t\\t</div>\\n\\t\\t\\t\\t\\t\\t</div>\\n\\t\\t\\t\\t\\t</div>\\n\\t\\t\\t\\t</a>\\n\\t\\t\\t\\n\\t\\t\\t\\t<a href=\"https://tv.naver.com/v/22497993\" class=\"media_area\" data-gdid=\"61545aa5ed257d2befa2e9fb\" data-clk=\"tcc_bty.video10cont2\" target=\"_blank\">\\n\\t\\t\\t\\t\\t<div class=\"media_thumb\">\\n\\t\\t\\t\\t\\t\\t<img alt=\"bye od-td, 평생 내돈내산할 제품\" width=\"232\" height=\"130\" onerror=\"this.outerHTML=\\'<span class=\\\\\\'pm_noimg\\\\\\'><span class=\\\\\\'noimg_text\\\\\\'>이미지 준비중</span></span>\\'\" loading=\"lazy\" src=\"https://s.pstatic.net/dthumb.phinf/?src=%22https%3A%2F%2Fs.pstatic.net%2Fshop.phinf%2F20210929_233%2F1632918146584BTsxu_JPEG%2F%25BF%25C0%25B4%25C3%25C0%25C7%25BA%25EA%25B7%25A3%25B5%25E5%25BC%25D2%25BD%25C4_10%25BF%25F93%25C0%25CF.jpg%3Ftype%3Df342_264%22&amp;type=nf464_260\">\\n\\t\\t\\t\\t\\t\\t<span class=\"thumb_dim\"></span>\\n\\t\\t\\t\\t\\t\\t<span class=\"thumb_bd\"></span>\\n\\t\\t\\t\\t\\t\\t<i class=\"pm_ico_play\"><span class=\"blind\">재생</span></i>\\n\\t\\t\\t\\t\\t\\t<span class=\"theme_runtime\"><span class=\"runtime_bg\">재생시간</span><em class=\"time\">01:02</em></span>\\n\\t\\t\\t\\t\\t</div>\\n\\t\\t\\t\\t\\t<div class=\"media_info\">\\n\\t\\t\\t\\t\\t\\t<div class=\"info_box\">\\n\\t\\t\\t\\t\\t\\t\\t<strong class=\"title\">bye od-td, 평생 내돈내산할 제품</strong>\\n\\t\\t\\t\\t\\t\\t\\t<div class=\"source_wrap\">\\n\\t\\t\\t\\t\\t\\t\\t\\t<span class=\"date\">5개월 전</span>\\n\\t\\t\\t\\t\\t\\t\\t\\t<span class=\"source\">\\n                                    \\n                                    <span class=\"source_inner\">갓신상</span>\\n                                </span>\\n\\t\\t\\t\\t\\t\\t\\t</div>\\n\\t\\t\\t\\t\\t\\t</div>\\n\\t\\t\\t\\t\\t</div>\\n\\t\\t\\t\\t</a>\\n\\t\\t\\t\\n\\t\\t\\t\\t<a href=\"https://tv.naver.com/v/22592342\" class=\"media_area\" data-gdid=\"6152e4006e94b80955ef02aa-d54b1413-8797-4ca4-b9fa-aea9e64f3374\" data-clk=\"tcc_bty.video10cont3\" target=\"_blank\">\\n\\t\\t\\t\\t\\t<div class=\"media_thumb\">\\n\\t\\t\\t\\t\\t\\t<img alt=\"화보 찍기 전 날 나이트 루틴\" width=\"232\" height=\"130\" onerror=\"this.outerHTML=\\'<span class=\\\\\\'pm_noimg\\\\\\'><span class=\\\\\\'noimg_text\\\\\\'>이미지 준비중</span></span>\\'\" loading=\"lazy\" src=\"https://s.pstatic.net/dthumb.phinf/?src=%22https%3A%2F%2Fs.pstatic.net%2Fshop.phinf%2F20210929_173%2F1632885678062w6qHw_JPEG%2FKakaoTalk_20210929_115422275.jpg%3Ftype%3Df342_264%22&amp;type=nf464_260\">\\n\\t\\t\\t\\t\\t\\t<span class=\"thumb_dim\"></span>\\n\\t\\t\\t\\t\\t\\t<span class=\"thumb_bd\"></span>\\n\\t\\t\\t\\t\\t\\t<i class=\"pm_ico_play\"><span class=\"blind\">재생</span></i>\\n\\t\\t\\t\\t\\t\\t<span class=\"theme_runtime\"><span class=\"runtime_bg\">재생시간</span><em class=\"time\">09:01</em></span>\\n\\t\\t\\t\\t\\t</div>\\n\\t\\t\\t\\t\\t<div class=\"media_info\">\\n\\t\\t\\t\\t\\t\\t<div class=\"info_box\">\\n\\t\\t\\t\\t\\t\\t\\t<strong class=\"title\">화보 찍기 전 날 나이트 루틴</strong>\\n\\t\\t\\t\\t\\t\\t\\t<div class=\"source_wrap\">\\n\\t\\t\\t\\t\\t\\t\\t\\t<span class=\"date\">5개월 전</span>\\n\\t\\t\\t\\t\\t\\t\\t\\t<span class=\"source\">\\n                                    \\n                                    <span class=\"source_inner\">채정안TV</span>\\n                                </span>\\n\\t\\t\\t\\t\\t\\t\\t</div>\\n\\t\\t\\t\\t\\t\\t</div>\\n\\t\\t\\t\\t\\t</div>\\n\\t\\t\\t\\t</a>\\n\\t\\t\\t\\n\\t\\t</div>\\n\\t</div>\\n</div>\\n<div class=\"group_theme\" data-block-id=\"\" data-block-code=\"PC-THEME-BEAUTY-MOBILE-RANKING-DEFAULT-10\" data-block-type=\"MATERIALS\" data-template-code=\"MOBILE-RANKING-LIST\" data-da=\"container\" data-index=\"\" data-page=\"6\" style=\"display:none\">\\n\\n\\t<div class=\"list_theme_wrap\">\\n\\t\\t<ul class=\"list_theme\">\\n\\t\\t\\t\\n\\t\\t\\t\\t<li class=\"theme_item\" data-gdid=\"6201c24f24d98e2c5bb6ff53\" data-da-position=\"true\">\\n\\t\\t\\t\\t\\t<a href=\"https://m.blog.naver.com/PostView.naver?blogId=sobongg&amp;logNo=222638734321&amp;navType=by\" class=\"theme_thumb\" data-clk=\"tcc_bty.list11cont1\" target=\"_blank\">\\n\\t\\t\\t\\t\\t\\t<img alt=\"더샘 트루핏 쿠션\" width=\"170\" height=\"114\" onerror=\"this.outerHTML=\\'<span class=\\\\\\'pm_noimg\\\\\\'><span class=\\\\\\'noimg_text\\\\\\'>이미지 준비중</span></span>\\'\" loading=\"lazy\" src=\"https://s.pstatic.net/dthumb.phinf/?src=%22https%3A%2F%2Fs.pstatic.net%2Fshop.phinf%2F20220208_279%2F16442824694012RSvu_JPEG%2F1-3.jpg%3Ftype%3Df342_342%22&amp;type=nf340_228\">\\n\\t\\t\\t\\t\\t\\t<span class=\"thumb_bd\"></span>\\n                        \\n\\t\\t\\t\\t\\t</a>\\n\\t\\t\\t\\t\\t<a href=\"https://m.blog.naver.com/PostView.naver?blogId=sobongg&amp;logNo=222638734321&amp;navType=by\" class=\"theme_info\" data-clk=\"tcc_bty.list11cont1\" target=\"_blank\">\\n\\t\\t\\t\\t\\t\\t<em class=\"theme_category\"> 패션뷰티</em>\\n\\t\\t\\t\\t\\t\\t<strong class=\"title elss\">더샘 트루핏 쿠션</strong>\\n                        <p class=\"desc\">해당 포스팅은 더샘으로부터 제품과 소정의 원고료를 지원받아 소봉이 제작했습니다. 마스크에 묻어남 적은 쿠션팩트 추천 뷰티 유튜버 유트루 Pick!! 더샘 트루 핏 픽서 쿠션 후기 안녕하세요. 뷰스타 소봉입니다 😊 매일 아침 공들여 메이크업을 하고 난 뒤 마스크를 써야만 하는 게 너무 아깝죠 ? ㅠㅠ 그렇다고 밥을 먹거나 커피를 마셔야 할 땐 마스크를 벗어</p>\\n\\t\\t\\t\\t\\t\\t<div class=\"source_box\">\\n\\t\\t\\t\\t\\t\\t\\t<span class=\"date\">2주일 전</span>\\n\\t\\t\\t\\t\\t\\t\\t<span class=\"source\">\\n                                \\n                                <span class=\"source_inner\">소봉</span>\\n                            </span>\\n\\t\\t\\t\\t\\t\\t</div>\\n\\t\\t\\t\\t\\t</a>\\n\\t\\t\\t\\t</li>\\n\\t\\t\\t\\n\\t\\t\\t\\t<li class=\"theme_item\" data-gdid=\"6201c24f24d98e2c5bb6ff54\" data-da-position=\"true\">\\n\\t\\t\\t\\t\\t<a href=\"https://m.blog.naver.com/PostView.naver?blogId=joaeng&amp;logNo=222637425738&amp;proxyReferer=\" class=\"theme_thumb\" data-clk=\"tcc_bty.list11cont2\" target=\"_blank\">\\n\\t\\t\\t\\t\\t\\t<img alt=\"비디비치 밀레니얼 틴트\" width=\"170\" height=\"114\" onerror=\"this.outerHTML=\\'<span class=\\\\\\'pm_noimg\\\\\\'><span class=\\\\\\'noimg_text\\\\\\'>이미지 준비중</span></span>\\'\" loading=\"lazy\" src=\"https://s.pstatic.net/dthumb.phinf/?src=%22https%3A%2F%2Fs.pstatic.net%2Fshop.phinf%2F20220208_237%2F1644282471929ja8vY_JPEG%2F1-4.jpg%3Ftype%3Df342_342%22&amp;type=nf340_228\">\\n\\t\\t\\t\\t\\t\\t<span class=\"thumb_bd\"></span>\\n                        \\n\\t\\t\\t\\t\\t</a>\\n\\t\\t\\t\\t\\t<a href=\"https://m.blog.naver.com/PostView.naver?blogId=joaeng&amp;logNo=222637425738&amp;proxyReferer=\" class=\"theme_info\" data-clk=\"tcc_bty.list11cont2\" target=\"_blank\">\\n\\t\\t\\t\\t\\t\\t<em class=\"theme_category\"> 패션뷰티</em>\\n\\t\\t\\t\\t\\t\\t<strong class=\"title elss\">비디비치 밀레니얼 틴트</strong>\\n                        <p class=\"desc\">VIDIVICI MILLENNIAL TINT GLIT 촉촉하고 지속력 좋은 틴트추천 안녕! 뷰티블로거 뚜이입니다 😊 즐거운 명절 보내셨나요?! 제가 이번에 써보고 완전 반해버린 제품이 있는데 바로 비디비치 밀레니얼 틴트 글리치 탱글탱글 워터젤리 텍스처로 촉촉하면서 지속력까지 좋더라고요 👍🏻 설날에는 따로 수정화장 할 시간도 없었고 밥도 먹고 하루종..</p>\\n\\t\\t\\t\\t\\t\\t<div class=\"source_box\">\\n\\t\\t\\t\\t\\t\\t\\t<span class=\"date\">3주일 전</span>\\n\\t\\t\\t\\t\\t\\t\\t<span class=\"source\">\\n                                \\n                                <span class=\"source_inner\">뚜이</span>\\n                            </span>\\n\\t\\t\\t\\t\\t\\t</div>\\n\\t\\t\\t\\t\\t</a>\\n\\t\\t\\t\\t</li>\\n\\t\\t\\t\\n\\t\\t\\t\\t<li class=\"theme_item\" data-gdid=\"6201c13f24d98e2c5bb6ff29\" data-da-position=\"true\">\\n\\t\\t\\t\\t\\t<a href=\"https://m.blog.naver.com/PostView.naver?blogId=babyhailey&amp;logNo=222629965381&amp;proxyReferer=\" class=\"theme_thumb\" data-clk=\"tcc_bty.list11cont3\" target=\"_blank\">\\n\\t\\t\\t\\t\\t\\t<img alt=\"헤라 루즈홀릭 쉬어 매트\" width=\"170\" height=\"114\" onerror=\"this.outerHTML=\\'<span class=\\\\\\'pm_noimg\\\\\\'><span class=\\\\\\'noimg_text\\\\\\'>이미지 준비중</span></span>\\'\" loading=\"lazy\" src=\"https://s.pstatic.net/dthumb.phinf/?src=%22https%3A%2F%2Fs.pstatic.net%2Fshop.phinf%2F20220208_112%2F1644282201323UnkU0_JPEG%2F1-1.jpg%3Ftype%3Df342_342%22&amp;type=nf340_228\">\\n\\t\\t\\t\\t\\t\\t<span class=\"thumb_bd\"></span>\\n                        \\n\\t\\t\\t\\t\\t</a>\\n\\t\\t\\t\\t\\t<a href=\"https://m.blog.naver.com/PostView.naver?blogId=babyhailey&amp;logNo=222629965381&amp;proxyReferer=\" class=\"theme_info\" data-clk=\"tcc_bty.list11cont3\" target=\"_blank\">\\n\\t\\t\\t\\t\\t\\t<em class=\"theme_category\"> 패션뷰티</em>\\n\\t\\t\\t\\t\\t\\t<strong class=\"title elss\">헤라 루즈홀릭 쉬어 매트</strong>\\n                        <p class=\"desc\">모던매트룩 치트키 헤라 루즈홀릭 쉬어 매트 전색상 발색 안녕하세욤~~~ 뷰스타 헤일리쟝입니다~~ 제가 너무나도 사랑하는 헤라~~에서 립스틱 신제품이 출시되었어요!!! 아주 부드럽게 발리면서 입술에 착! 지속력까지 넘 좋은 매트 타입에 오묘하면서도 웨어러블한 컬러들로 바르는 순간 심플 모던한 메이크업 룩 완성! 루즈홀릭 쉬어 매트 전색상을 소개합니다 헤라 루</p>\\n\\t\\t\\t\\t\\t\\t<div class=\"source_box\">\\n\\t\\t\\t\\t\\t\\t\\t<span class=\"date\">4주일 전</span>\\n\\t\\t\\t\\t\\t\\t\\t<span class=\"source\">\\n                                \\n                                <span class=\"source_inner\">헤일리</span>\\n                            </span>\\n\\t\\t\\t\\t\\t\\t</div>\\n\\t\\t\\t\\t\\t</a>\\n\\t\\t\\t\\t</li>\\n\\t\\t\\t\\n\\t\\t\\t\\t<li class=\"theme_item\" data-gdid=\"6201c13f24d98e2c5bb6ff2a\" data-da-position=\"true\">\\n\\t\\t\\t\\t\\t<a href=\"https://m.blog.naver.com/PostView.naver?blogId=cutekjy0&amp;logNo=222632973680&amp;proxyReferer=\" class=\"theme_thumb\" data-clk=\"tcc_bty.list11cont4\" target=\"_blank\">\\n\\t\\t\\t\\t\\t\\t<img alt=\"데이지크 섀도 팔레트\" width=\"170\" height=\"114\" onerror=\"this.outerHTML=\\'<span class=\\\\\\'pm_noimg\\\\\\'><span class=\\\\\\'noimg_text\\\\\\'>이미지 준비중</span></span>\\'\" loading=\"lazy\" src=\"https://s.pstatic.net/dthumb.phinf/?src=%22https%3A%2F%2Fs.pstatic.net%2Fshop.phinf%2F20220208_74%2F1644282202975IEmXY_JPEG%2F1-2.jpg%3Ftype%3Df342_342%22&amp;type=nf340_228\">\\n\\t\\t\\t\\t\\t\\t<span class=\"thumb_bd\"></span>\\n                        \\n\\t\\t\\t\\t\\t</a>\\n\\t\\t\\t\\t\\t<a href=\"https://m.blog.naver.com/PostView.naver?blogId=cutekjy0&amp;logNo=222632973680&amp;proxyReferer=\" class=\"theme_info\" data-clk=\"tcc_bty.list11cont4\" target=\"_blank\">\\n\\t\\t\\t\\t\\t\\t<em class=\"theme_category\"> 패션뷰티</em>\\n\\t\\t\\t\\t\\t\\t<strong class=\"title elss\">데이지크 섀도 팔레트</strong>\\n                        <p class=\"desc\">안녕하세요 네이버 인플루언서 나날뷰티 입니다 :) 데이지크에서 대박적인 신상 팔레트를 출시했어요 바로 데이지크 초콜릿 퍼지 섀도우 팔레트!!! 정말이지 .. 패키지부터 진짜 초콜릿 같은 패키지라.. 많은 코덕들 심장을 움직이게 하고 있쥬 ㅎㅎ 패키지 때문인지 벌써 발렌타인데이 선물로도 많이들 추천하더라구요~ 저는 감사하게도 데이지크에서 진짜 초콜릿 박스와 </p>\\n\\t\\t\\t\\t\\t\\t<div class=\"source_box\">\\n\\t\\t\\t\\t\\t\\t\\t<span class=\"date\">3주일 전</span>\\n\\t\\t\\t\\t\\t\\t\\t<span class=\"source\">\\n                                \\n                                <span class=\"source_inner\">나날</span>\\n                            </span>\\n\\t\\t\\t\\t\\t\\t</div>\\n\\t\\t\\t\\t\\t</a>\\n\\t\\t\\t\\t</li>\\n\\t\\t\\t\\n\\t\\t\\t\\t<li class=\"theme_item\" data-gdid=\"6201c13f24d98e2c5bb6ff2b\" data-da-position=\"true\">\\n\\t\\t\\t\\t\\t<a href=\"https://m.blog.naver.com/PostView.naver?blogId=asolution999&amp;logNo=222637287919&amp;proxyReferer=\" class=\"theme_thumb\" data-clk=\"tcc_bty.list11cont5\" target=\"_blank\">\\n\\t\\t\\t\\t\\t\\t<img alt=\"맥 로즈 톤업 베이스\" width=\"170\" height=\"114\" onerror=\"this.outerHTML=\\'<span class=\\\\\\'pm_noimg\\\\\\'><span class=\\\\\\'noimg_text\\\\\\'>이미지 준비중</span></span>\\'\" loading=\"lazy\" src=\"https://s.pstatic.net/dthumb.phinf/?src=%22https%3A%2F%2Fs.pstatic.net%2Fshop.phinf%2F20220208_217%2F16442822061617vnaf_JPEG%2F1-3.jpg%3Ftype%3Df342_342%22&amp;type=nf340_228\">\\n\\t\\t\\t\\t\\t\\t<span class=\"thumb_bd\"></span>\\n                        \\n\\t\\t\\t\\t\\t</a>\\n\\t\\t\\t\\t\\t<a href=\"https://m.blog.naver.com/PostView.naver?blogId=asolution999&amp;logNo=222637287919&amp;proxyReferer=\" class=\"theme_info\" data-clk=\"tcc_bty.list11cont5\" target=\"_blank\">\\n\\t\\t\\t\\t\\t\\t<em class=\"theme_category\"> 패션뷰티</em>\\n\\t\\t\\t\\t\\t\\t<strong class=\"title elss\">맥 로즈 톤업 베이스</strong>\\n                        <p class=\"desc\">맥 라이트풀 C3 사용해보고 깜짝 놀랐잖아요. 여기 색조 메이크업 제품들만 잘 만드는게 아니었네요..? 항상 백화점 맥 매장 구경가면 립스틱이나 아이섀도우쪽만 구경하기 바빴는데 이번에 스킨케어 사용해보고 여기는 스킨케어도 참 잘 만드는구나~ 역시는 역시구나~ 생각 했어요 ㅋㅋㅋ 패키지도 올블랙 시커먼스였는데 점점 여성스럽고 예쁘게 진화해가는 MAC 특히 쿠</p>\\n\\t\\t\\t\\t\\t\\t<div class=\"source_box\">\\n\\t\\t\\t\\t\\t\\t\\t<span class=\"date\">3주일 전</span>\\n\\t\\t\\t\\t\\t\\t\\t<span class=\"source\">\\n                                \\n                                <span class=\"source_inner\">문뽕</span>\\n                            </span>\\n\\t\\t\\t\\t\\t\\t</div>\\n\\t\\t\\t\\t\\t</a>\\n\\t\\t\\t\\t</li>\\n\\t\\t\\t\\n\\t\\t</ul>\\n\\t</div>\\n</div>\\n<div class=\"group_theme\" data-block-id=\"\" data-block-code=\"PC-THEME-BEAUTY-MOBILE-RANKING-VIDEO-10\" data-block-type=\"MATERIALS\" data-template-code=\"MOBILE-RANKING-VIDEO-LIST\" data-index=\"\" data-page=\"6\" style=\"display:none\">\\n\\n\\t<div class=\"media_view_wrap type_column\">\\n\\t\\t<div class=\"media_view\">\\n\\t\\t\\t\\n\\t\\t\\t\\t<a href=\"https://tv.naver.com/v/22489886\" class=\"media_area\" data-gdid=\"614458d6ed257d2befa1d24a\" data-clk=\"tcc_bty.video11cont1\" target=\"_blank\">\\n\\t\\t\\t\\t\\t<div class=\"media_thumb\">\\n\\t\\t\\t\\t\\t\\t<img alt=\"F/W 트레이닝복 브랜드 모음\" width=\"232\" height=\"130\" onerror=\"this.outerHTML=\\'<span class=\\\\\\'pm_noimg\\\\\\'><span class=\\\\\\'noimg_text\\\\\\'>이미지 준비중</span></span>\\'\" loading=\"lazy\" src=\"https://s.pstatic.net/dthumb.phinf/?src=%22https%3A%2F%2Fs.pstatic.net%2Fshop.phinf%2F20210917_14%2F16318689326717EsU3_JPEG%2F1631779148409.jpg%3Ftype%3Df342_264%22&amp;type=nf464_260\">\\n\\t\\t\\t\\t\\t\\t<span class=\"thumb_dim\"></span>\\n\\t\\t\\t\\t\\t\\t<span class=\"thumb_bd\"></span>\\n\\t\\t\\t\\t\\t\\t<i class=\"pm_ico_play\"><span class=\"blind\">재생</span></i>\\n\\t\\t\\t\\t\\t\\t<span class=\"theme_runtime\"><span class=\"runtime_bg\">재생시간</span><em class=\"time\">09:07</em></span>\\n\\t\\t\\t\\t\\t</div>\\n\\t\\t\\t\\t\\t<div class=\"media_info\">\\n\\t\\t\\t\\t\\t\\t<div class=\"info_box\">\\n\\t\\t\\t\\t\\t\\t\\t<strong class=\"title\">F/W 트레이닝복 브랜드 모음</strong>\\n\\t\\t\\t\\t\\t\\t\\t<div class=\"source_wrap\">\\n\\t\\t\\t\\t\\t\\t\\t\\t<span class=\"date\">5개월 전</span>\\n\\t\\t\\t\\t\\t\\t\\t\\t<span class=\"source\">\\n                                    \\n                                    <span class=\"source_inner\">누엘</span>\\n                                </span>\\n\\t\\t\\t\\t\\t\\t\\t</div>\\n\\t\\t\\t\\t\\t\\t</div>\\n\\t\\t\\t\\t\\t</div>\\n\\t\\t\\t\\t</a>\\n\\t\\t\\t\\n\\t\\t\\t\\t<a href=\"https://tv.naver.com/v/22449677\" class=\"media_area\" data-gdid=\"614069141aed886be13ddf25\" data-clk=\"tcc_bty.video11cont2\" target=\"_blank\">\\n\\t\\t\\t\\t\\t<div class=\"media_thumb\">\\n\\t\\t\\t\\t\\t\\t<img alt=\"쟁여놓고 써야하는 올영 잇템 8\" width=\"232\" height=\"130\" onerror=\"this.outerHTML=\\'<span class=\\\\\\'pm_noimg\\\\\\'><span class=\\\\\\'noimg_text\\\\\\'>이미지 준비중</span></span>\\'\" loading=\"lazy\" src=\"https://s.pstatic.net/dthumb.phinf/?src=%22https%3A%2F%2Fs.pstatic.net%2Fshop.phinf%2F20210915_89%2F1631709951208DrtdH_JPEG%2F1631615122828.jpg%3Ftype%3Df342_264%22&amp;type=nf464_260\">\\n\\t\\t\\t\\t\\t\\t<span class=\"thumb_dim\"></span>\\n\\t\\t\\t\\t\\t\\t<span class=\"thumb_bd\"></span>\\n\\t\\t\\t\\t\\t\\t<i class=\"pm_ico_play\"><span class=\"blind\">재생</span></i>\\n\\t\\t\\t\\t\\t\\t<span class=\"theme_runtime\"><span class=\"runtime_bg\">재생시간</span><em class=\"time\">08:10</em></span>\\n\\t\\t\\t\\t\\t</div>\\n\\t\\t\\t\\t\\t<div class=\"media_info\">\\n\\t\\t\\t\\t\\t\\t<div class=\"info_box\">\\n\\t\\t\\t\\t\\t\\t\\t<strong class=\"title\">쟁여놓고 써야하는 올영 잇템 8</strong>\\n\\t\\t\\t\\t\\t\\t\\t<div class=\"source_wrap\">\\n\\t\\t\\t\\t\\t\\t\\t\\t<span class=\"date\">5개월 전</span>\\n\\t\\t\\t\\t\\t\\t\\t\\t<span class=\"source\">\\n                                    \\n                                    <span class=\"source_inner\">블럼 메이크업</span>\\n                                </span>\\n\\t\\t\\t\\t\\t\\t\\t</div>\\n\\t\\t\\t\\t\\t\\t</div>\\n\\t\\t\\t\\t\\t</div>\\n\\t\\t\\t\\t</a>\\n\\t\\t\\t\\n\\t\\t\\t\\t<a href=\"https://tv.naver.com/v/22420954\" class=\"media_area\" data-gdid=\"6141eacb06569de4c71631dc\" data-clk=\"tcc_bty.video11cont3\" target=\"_blank\">\\n\\t\\t\\t\\t\\t<div class=\"media_thumb\">\\n\\t\\t\\t\\t\\t\\t<img alt=\"아무리 발라도 건조한 당신에게\" width=\"232\" height=\"130\" onerror=\"this.outerHTML=\\'<span class=\\\\\\'pm_noimg\\\\\\'><span class=\\\\\\'noimg_text\\\\\\'>이미지 준비중</span></span>\\'\" loading=\"lazy\" src=\"https://s.pstatic.net/dthumb.phinf/?src=%22https%3A%2F%2Fs.pstatic.net%2Fshop.phinf%2F20210916_193%2F1631791861563odWcf_JPEG%2F1631526723559.jpg%3Ftype%3Df342_264%22&amp;type=nf464_260\">\\n\\t\\t\\t\\t\\t\\t<span class=\"thumb_dim\"></span>\\n\\t\\t\\t\\t\\t\\t<span class=\"thumb_bd\"></span>\\n\\t\\t\\t\\t\\t\\t<i class=\"pm_ico_play\"><span class=\"blind\">재생</span></i>\\n\\t\\t\\t\\t\\t\\t<span class=\"theme_runtime\"><span class=\"runtime_bg\">재생시간</span><em class=\"time\">09:09</em></span>\\n\\t\\t\\t\\t\\t</div>\\n\\t\\t\\t\\t\\t<div class=\"media_info\">\\n\\t\\t\\t\\t\\t\\t<div class=\"info_box\">\\n\\t\\t\\t\\t\\t\\t\\t<strong class=\"title\">아무리 발라도 건조한 당신에게</strong>\\n\\t\\t\\t\\t\\t\\t\\t<div class=\"source_wrap\">\\n\\t\\t\\t\\t\\t\\t\\t\\t<span class=\"date\">5개월 전</span>\\n\\t\\t\\t\\t\\t\\t\\t\\t<span class=\"source\">\\n                                    \\n                                    <span class=\"source_inner\">채정안TV</span>\\n                                </span>\\n\\t\\t\\t\\t\\t\\t\\t</div>\\n\\t\\t\\t\\t\\t\\t</div>\\n\\t\\t\\t\\t\\t</div>\\n\\t\\t\\t\\t</a>\\n\\t\\t\\t\\n\\t\\t</div>\\n\\t</div>\\n</div>\\n<div class=\"group_theme\" data-block-id=\"\" data-block-code=\"PC-THEME-BEAUTY-MOBILE-RANKING-DEFAULT-11\" data-block-type=\"MATERIALS\" data-template-code=\"MOBILE-RANKING-LIST\" data-da=\"container\" data-index=\"\" data-page=\"6\" style=\"display:none\">\\n\\n\\t<div class=\"list_theme_wrap\">\\n\\t\\t<ul class=\"list_theme\">\\n\\t\\t\\t\\n\\t\\t\\t\\t<li class=\"theme_item\" data-gdid=\"6201c13f24d98e2c5bb6ff2c\" data-da-position=\"true\">\\n\\t\\t\\t\\t\\t<a href=\"https://m.blog.naver.com/PostView.naver?blogId=r_ryun&amp;logNo=222635357904&amp;proxyReferer=\" class=\"theme_thumb\" data-clk=\"tcc_bty.list12cont1\" target=\"_blank\">\\n\\t\\t\\t\\t\\t\\t<img alt=\"3CE 리퀴드 글리터\" width=\"170\" height=\"114\" onerror=\"this.outerHTML=\\'<span class=\\\\\\'pm_noimg\\\\\\'><span class=\\\\\\'noimg_text\\\\\\'>이미지 준비중</span></span>\\'\" loading=\"lazy\" src=\"https://s.pstatic.net/dthumb.phinf/?src=%22https%3A%2F%2Fs.pstatic.net%2Fshop.phinf%2F20220208_28%2F1644282208511BpL93_JPEG%2F1-4.jpg%3Ftype%3Df342_342%22&amp;type=nf340_228\">\\n\\t\\t\\t\\t\\t\\t<span class=\"thumb_bd\"></span>\\n                        \\n\\t\\t\\t\\t\\t</a>\\n\\t\\t\\t\\t\\t<a href=\"https://m.blog.naver.com/PostView.naver?blogId=r_ryun&amp;logNo=222635357904&amp;proxyReferer=\" class=\"theme_info\" data-clk=\"tcc_bty.list12cont1\" target=\"_blank\">\\n\\t\\t\\t\\t\\t\\t<em class=\"theme_category\"> 패션뷰티</em>\\n\\t\\t\\t\\t\\t\\t<strong class=\"title elss\">3CE 리퀴드 글리터</strong>\\n                        <p class=\"desc\">안녕하세요 헮입니다!! 요즘 #내돈내산 #화장품지름 엄청 하고 있어요 ㅋㅋㅋㅋㅋㅋ 유튜브 보신분들은 아시겠쥐만,, 아직도 업로드해야하는 1월 신상들이 한 가 득 남아있다는거! 그 중에서도 유튜 커뮤니티 투표 승! #3CE #오로지모브 #오토포커스 #섀도우팔레트로 한 #쿨톤메이크업 가지고 왔어요! https://www.youtube.com/watch?v=O7</p>\\n\\t\\t\\t\\t\\t\\t<div class=\"source_box\">\\n\\t\\t\\t\\t\\t\\t\\t<span class=\"date\">3주일 전</span>\\n\\t\\t\\t\\t\\t\\t\\t<span class=\"source\">\\n                                \\n                                <span class=\"source_inner\">헮</span>\\n                            </span>\\n\\t\\t\\t\\t\\t\\t</div>\\n\\t\\t\\t\\t\\t</a>\\n\\t\\t\\t\\t</li>\\n\\t\\t\\t\\n\\t\\t\\t\\t<li class=\"theme_item\" data-gdid=\"62039c52a52712be3a96963c\" data-da-position=\"true\">\\n\\t\\t\\t\\t\\t<a href=\"https://blog.naver.com/dlcmalsis/222633230008\" class=\"theme_thumb\" data-clk=\"tcc_bty.list12cont2\" target=\"_blank\">\\n\\t\\t\\t\\t\\t\\t<img alt=\"에스쁘아 핑크 컬렉션 발색\" width=\"170\" height=\"114\" onerror=\"this.outerHTML=\\'<span class=\\\\\\'pm_noimg\\\\\\'><span class=\\\\\\'noimg_text\\\\\\'>이미지 준비중</span></span>\\'\" loading=\"lazy\" src=\"https://s.pstatic.net/dthumb.phinf/?src=%22https%3A%2F%2Fs.pstatic.net%2Fshop.phinf%2F20220209_226%2F1644403713875rQ30P_JPEG%2Fh.jpg%3Ftype%3Df342_264%22&amp;type=nf340_228\">\\n\\t\\t\\t\\t\\t\\t<span class=\"thumb_bd\"></span>\\n                        \\n\\t\\t\\t\\t\\t</a>\\n\\t\\t\\t\\t\\t<a href=\"https://blog.naver.com/dlcmalsis/222633230008\" class=\"theme_info\" data-clk=\"tcc_bty.list12cont2\" target=\"_blank\">\\n\\t\\t\\t\\t\\t\\t<em class=\"theme_category\"> 패션뷰티</em>\\n\\t\\t\\t\\t\\t\\t<strong class=\"title elss\">에스쁘아 핑크 컬렉션 발색</strong>\\n                        <p class=\"desc\">안녕하세요 \\'3\\' 홍차임댜 ~_~ 이번에 #에스쁘아립스틱 신상 컬러들을 만나봤는데요 요즘 #레트로 키워드가 되게 핫하자나유..? 언젠가부터 자꾸 옛날 감성이 묻은 소품, 옷, 그리고 컬러까지도 유행하기 시작했는데 저도 ... 어느샌가 레트로에 물들고 있더라구요 ㅋㅋㅋㅋ 막 괜히 흔치 않은 빈티지한 컬러감의 색조 보면 사고싶고..? 이런 요즘 피플들의 니즈를</p>\\n\\t\\t\\t\\t\\t\\t<div class=\"source_box\">\\n\\t\\t\\t\\t\\t\\t\\t<span class=\"date\">3주일 전</span>\\n\\t\\t\\t\\t\\t\\t\\t<span class=\"source\">\\n                                \\n                                <span class=\"source_inner\">홍차</span>\\n                            </span>\\n\\t\\t\\t\\t\\t\\t</div>\\n\\t\\t\\t\\t\\t</a>\\n\\t\\t\\t\\t</li>\\n\\t\\t\\t\\n\\t\\t\\t\\t<li class=\"theme_item\" data-gdid=\"3052b390-6a8d-44ec-802f-f2ee2afab040\" data-da-position=\"true\">\\n\\t\\t\\t\\t\\t<a href=\"https://blog.naver.com/siehl/222631279560\" class=\"theme_thumb\" data-clk=\"tcc_bty.list12cont3\" target=\"_blank\">\\n\\t\\t\\t\\t\\t\\t<img alt=\"워시드 핑크 직접 발라보니\" width=\"170\" height=\"114\" onerror=\"this.outerHTML=\\'<span class=\\\\\\'pm_noimg\\\\\\'><span class=\\\\\\'noimg_text\\\\\\'>이미지 준비중</span></span>\\'\" loading=\"lazy\" src=\"https://s.pstatic.net/dthumb.phinf/?src=%22https%3A%2F%2Fs.pstatic.net%2Fshop.phinf%2F20220204_140%2F1643969247323GTqRv_JPEG%2FJR.jpg%3Ftype%3Df342_264%22&amp;type=nf340_228\">\\n\\t\\t\\t\\t\\t\\t<span class=\"thumb_bd\"></span>\\n                        \\n\\t\\t\\t\\t\\t</a>\\n\\t\\t\\t\\t\\t<a href=\"https://blog.naver.com/siehl/222631279560\" class=\"theme_info\" data-clk=\"tcc_bty.list12cont3\" target=\"_blank\">\\n\\t\\t\\t\\t\\t\\t<em class=\"theme_category\"> 패션뷰티</em>\\n\\t\\t\\t\\t\\t\\t<strong class=\"title elss\">워시드 핑크 직접 발라보니</strong>\\n                        <p class=\"desc\">안녕하세요 뷰스타 다랑입니다 :) 오늘은 에스쁘아 신제품, 워시드 핑크 컬렉션을 소개하려고 해요 요즘 애들의 옛날 감성, 레트로 재질 뉴트럴 핑크 컬렉션으로 #물빠진핑크 #뉴트럴핑크 로 이루어져 있어요 그래서 처음에는 뭔 소리야 했는데 발라보니까 오호 하고 이해가 되더라구요 확실히 예전에 유행하던 지금은 소화하기 어려운 핑크가 아닌 물이 빠져서 자연스럽게 </p>\\n\\t\\t\\t\\t\\t\\t<div class=\"source_box\">\\n\\t\\t\\t\\t\\t\\t\\t<span class=\"date\">3주일 전</span>\\n\\t\\t\\t\\t\\t\\t\\t<span class=\"source\">\\n                                \\n                                <span class=\"source_inner\">뷰스타 다랑</span>\\n                            </span>\\n\\t\\t\\t\\t\\t\\t</div>\\n\\t\\t\\t\\t\\t</a>\\n\\t\\t\\t\\t</li>\\n\\t\\t\\t\\n\\t\\t\\t\\t<li class=\"theme_item\" data-gdid=\"4002fbfa-0f42-4604-868f-1c46721db95c\" data-da-position=\"true\">\\n\\t\\t\\t\\t\\t<a href=\"https://m.post.naver.com/viewer/postView.naver?volumeNo=33205206&amp;memberNo=47342959\" class=\"theme_thumb\" data-clk=\"tcc_bty.list12cont4\" target=\"_blank\">\\n\\t\\t\\t\\t\\t\\t<img alt=\"피부는 건강! 스킨케어는 즐겁게!\" width=\"170\" height=\"114\" onerror=\"this.outerHTML=\\'<span class=\\\\\\'pm_noimg\\\\\\'><span class=\\\\\\'noimg_text\\\\\\'>이미지 준비중</span></span>\\'\" loading=\"lazy\" src=\"https://s.pstatic.net/dthumb.phinf/?src=%22https%3A%2F%2Fs.pstatic.net%2Fshop.phinf%2F20220204_233%2F1643968984218HEeVV_JPEG%2FIMG_342x264__%25BD%25BA%25C5%25B2%25C4%25C9%25BE%25EE1.jpg%3Ftype%3Df342_264%22&amp;type=nf340_228\">\\n\\t\\t\\t\\t\\t\\t<span class=\"thumb_bd\"></span>\\n                        \\n\\t\\t\\t\\t\\t</a>\\n\\t\\t\\t\\t\\t<a href=\"https://m.post.naver.com/viewer/postView.naver?volumeNo=33205206&amp;memberNo=47342959\" class=\"theme_info\" data-clk=\"tcc_bty.list12cont4\" target=\"_blank\">\\n\\t\\t\\t\\t\\t\\t<em class=\"theme_category\"> 패션뷰티</em>\\n\\t\\t\\t\\t\\t\\t<strong class=\"title elss\">피부는 건강! 스킨케어는 즐겁게!</strong>\\n                        <p class=\"desc\">피부는 건강하게! 스킨케어는 즐겁게! “드렁크엘리펀트”지긋 지긋한 피부고민을 해결해주고 귀찮기만했던 스킨케어 시간을 즐겁게 만들어 주는 바이오컴패티블 스킨케어 브랜드 “드렁크엘리펀트” 알록달록 귀여운 패키지에 한 번, 그 속에 담긴 성분에 대한 진심에 다시 한 번! 알면 알수록 그 매력에 흠뻑 취하게 되는 브랜드랍</p>\\n\\t\\t\\t\\t\\t\\t<div class=\"source_box\">\\n\\t\\t\\t\\t\\t\\t\\t<span class=\"date\">3주일 전</span>\\n\\t\\t\\t\\t\\t\\t\\t<span class=\"source\">\\n                                \\n                                <span class=\"source_inner\">세포라</span>\\n                            </span>\\n\\t\\t\\t\\t\\t\\t</div>\\n\\t\\t\\t\\t\\t</a>\\n\\t\\t\\t\\t</li>\\n\\t\\t\\t\\n\\t\\t\\t\\t<li class=\"theme_item\" data-gdid=\"556062f7-6433-4db2-8501-a986d3861102\" data-da-position=\"true\">\\n\\t\\t\\t\\t\\t<a href=\"https://m.post.naver.com/viewer/postView.naver?volumeNo=33205278&amp;memberNo=47342959\" class=\"theme_thumb\" data-clk=\"tcc_bty.list12cont5\" target=\"_blank\">\\n\\t\\t\\t\\t\\t\\t<img alt=\"드렁크엘리펀트 라라 레트로 휩 크림\" width=\"170\" height=\"114\" onerror=\"this.outerHTML=\\'<span class=\\\\\\'pm_noimg\\\\\\'><span class=\\\\\\'noimg_text\\\\\\'>이미지 준비중</span></span>\\'\" loading=\"lazy\" src=\"https://s.pstatic.net/dthumb.phinf/?src=%22https%3A%2F%2Fs.pstatic.net%2Fshop.phinf%2F20220204_82%2F1643968799350TsSOl_JPEG%2FIMG_342x264_%25BD%25BA%25B9%25AB%25B5%25F02.jpg%3Ftype%3Df342_264%22&amp;type=nf340_228\">\\n\\t\\t\\t\\t\\t\\t<span class=\"thumb_bd\"></span>\\n                        \\n\\t\\t\\t\\t\\t</a>\\n\\t\\t\\t\\t\\t<a href=\"https://m.post.naver.com/viewer/postView.naver?volumeNo=33205278&amp;memberNo=47342959\" class=\"theme_info\" data-clk=\"tcc_bty.list12cont5\" target=\"_blank\">\\n\\t\\t\\t\\t\\t\\t<em class=\"theme_category\"> 패션뷰티</em>\\n\\t\\t\\t\\t\\t\\t<strong class=\"title elss\">드렁크엘리펀트 라라 레트로 휩 크림</strong>\\n                        <p class=\"desc\">겨울 건조 해결템 #보습크림 드렁크엘리펀트 “라라 레트로 휩 크림”겨울철 바깥에서는 칼바람, 실내에서는 히터 바람에 끊임없이 반복되는 피부 건조함으로 지긋지긋 하다면? 새로운 겨울철 피부 건조 해결템 “드렁크엘리펀트 라라 레트로 휩 크림” 소개해드릴게요!피부 본연의 건강을 찾을 수 있게 도와주는 바이오컴패티블 스킨</p>\\n\\t\\t\\t\\t\\t\\t<div class=\"source_box\">\\n\\t\\t\\t\\t\\t\\t\\t<span class=\"date\">3주일 전</span>\\n\\t\\t\\t\\t\\t\\t\\t<span class=\"source\">\\n                                \\n                                <span class=\"source_inner\">세포라</span>\\n                            </span>\\n\\t\\t\\t\\t\\t\\t</div>\\n\\t\\t\\t\\t\\t</a>\\n\\t\\t\\t\\t</li>\\n\\t\\t\\t\\n\\t\\t</ul>\\n\\t</div>\\n</div>\\n<div class=\"group_theme\" data-block-id=\"\" data-block-code=\"PC-THEME-BEAUTY-MOBILE-RANKING-VIDEO-11\" data-block-type=\"MATERIALS\" data-template-code=\"MOBILE-RANKING-VIDEO-LIST\" data-index=\"\" data-page=\"6\" style=\"display:none\">\\n\\n\\t<div class=\"media_view_wrap type_column\">\\n\\t\\t<div class=\"media_view\">\\n\\t\\t\\t\\n\\t\\t\\t\\t<a href=\"https://tv.naver.com/v/22359900\" class=\"media_area\" data-gdid=\"613f1b491aed886be13d9c3f\" data-clk=\"tcc_bty.video12cont1\" target=\"_blank\">\\n\\t\\t\\t\\t\\t<div class=\"media_thumb\">\\n\\t\\t\\t\\t\\t\\t<img alt=\"초/간/단 블랙헤드 제거 루틴\" width=\"232\" height=\"130\" onerror=\"this.outerHTML=\\'<span class=\\\\\\'pm_noimg\\\\\\'><span class=\\\\\\'noimg_text\\\\\\'>이미지 준비중</span></span>\\'\" loading=\"lazy\" src=\"https://s.pstatic.net/dthumb.phinf/?src=%22https%3A%2F%2Fs.pstatic.net%2Fshop.phinf%2F20210913_205%2F1631525624869gyyHB_JPEG%2F1631172180493.jpg%3Ftype%3Df342_264%22&amp;type=nf464_260\">\\n\\t\\t\\t\\t\\t\\t<span class=\"thumb_dim\"></span>\\n\\t\\t\\t\\t\\t\\t<span class=\"thumb_bd\"></span>\\n\\t\\t\\t\\t\\t\\t<i class=\"pm_ico_play\"><span class=\"blind\">재생</span></i>\\n\\t\\t\\t\\t\\t\\t<span class=\"theme_runtime\"><span class=\"runtime_bg\">재생시간</span><em class=\"time\">12:34</em></span>\\n\\t\\t\\t\\t\\t</div>\\n\\t\\t\\t\\t\\t<div class=\"media_info\">\\n\\t\\t\\t\\t\\t\\t<div class=\"info_box\">\\n\\t\\t\\t\\t\\t\\t\\t<strong class=\"title\">초/간/단 블랙헤드 제거 루틴</strong>\\n\\t\\t\\t\\t\\t\\t\\t<div class=\"source_wrap\">\\n\\t\\t\\t\\t\\t\\t\\t\\t<span class=\"date\">5개월 전</span>\\n\\t\\t\\t\\t\\t\\t\\t\\t<span class=\"source\">\\n                                    \\n                                    <span class=\"source_inner\">디렉터파이</span>\\n                                </span>\\n\\t\\t\\t\\t\\t\\t\\t</div>\\n\\t\\t\\t\\t\\t\\t</div>\\n\\t\\t\\t\\t\\t</div>\\n\\t\\t\\t\\t</a>\\n\\t\\t\\t\\n\\t\\t\\t\\t<a href=\"https://tv.naver.com/v/22241297\" class=\"media_area\" data-gdid=\"614062bce14ccde4d9a6195b\" data-clk=\"tcc_bty.video12cont2\" target=\"_blank\">\\n\\t\\t\\t\\t\\t<div class=\"media_thumb\">\\n\\t\\t\\t\\t\\t\\t<img alt=\"여드름 민감 피부 필수템 하울\" width=\"232\" height=\"130\" onerror=\"this.outerHTML=\\'<span class=\\\\\\'pm_noimg\\\\\\'><span class=\\\\\\'noimg_text\\\\\\'>이미지 준비중</span></span>\\'\" loading=\"lazy\" src=\"https://s.pstatic.net/dthumb.phinf/?src=%22https%3A%2F%2Fs.pstatic.net%2Fshop.phinf%2F20210913_79%2F1631524866355DoJlH_JPEG%2F1630659604700.jpg%3Ftype%3Df342_264%22&amp;type=nf464_260\">\\n\\t\\t\\t\\t\\t\\t<span class=\"thumb_dim\"></span>\\n\\t\\t\\t\\t\\t\\t<span class=\"thumb_bd\"></span>\\n\\t\\t\\t\\t\\t\\t<i class=\"pm_ico_play\"><span class=\"blind\">재생</span></i>\\n\\t\\t\\t\\t\\t\\t<span class=\"theme_runtime\"><span class=\"runtime_bg\">재생시간</span><em class=\"time\">17:32</em></span>\\n\\t\\t\\t\\t\\t</div>\\n\\t\\t\\t\\t\\t<div class=\"media_info\">\\n\\t\\t\\t\\t\\t\\t<div class=\"info_box\">\\n\\t\\t\\t\\t\\t\\t\\t<strong class=\"title\">여드름 민감 피부 필수템 하울</strong>\\n\\t\\t\\t\\t\\t\\t\\t<div class=\"source_wrap\">\\n\\t\\t\\t\\t\\t\\t\\t\\t<span class=\"date\">5개월 전</span>\\n\\t\\t\\t\\t\\t\\t\\t\\t<span class=\"source\">\\n                                    \\n                                    <span class=\"source_inner\">디렉터파이</span>\\n                                </span>\\n\\t\\t\\t\\t\\t\\t\\t</div>\\n\\t\\t\\t\\t\\t\\t</div>\\n\\t\\t\\t\\t\\t</div>\\n\\t\\t\\t\\t</a>\\n\\t\\t\\t\\n\\t\\t\\t\\t<a href=\"https://tv.naver.com/v/22493127\" class=\"media_area\" data-gdid=\"613f1f1295a69e6bec592593\" data-clk=\"tcc_bty.video12cont3\" target=\"_blank\">\\n\\t\\t\\t\\t\\t<div class=\"media_thumb\">\\n\\t\\t\\t\\t\\t\\t<img alt=\"기은세가 픽한 가성비 데일리백\" width=\"232\" height=\"130\" onerror=\"this.outerHTML=\\'<span class=\\\\\\'pm_noimg\\\\\\'><span class=\\\\\\'noimg_text\\\\\\'>이미지 준비중</span></span>\\'\" loading=\"lazy\" src=\"https://s.pstatic.net/dthumb.phinf/?src=%22https%3A%2F%2Fs.pstatic.net%2Fshop.phinf%2F20210913_188%2F1631526494683kRU0G_JPEG%2F%25B1%25E2%25C0%25BA%25BC%25BC_%25B7%25CE%25BB%25E7%25C4%25C9%25C0%25CC_%25C0%25CC%25B9%25CC%25C1%25F61_%25281%2529.jpg%3Ftype%3Df342_264%22&amp;type=nf464_260\">\\n\\t\\t\\t\\t\\t\\t<span class=\"thumb_dim\"></span>\\n\\t\\t\\t\\t\\t\\t<span class=\"thumb_bd\"></span>\\n\\t\\t\\t\\t\\t\\t<i class=\"pm_ico_play\"><span class=\"blind\">재생</span></i>\\n\\t\\t\\t\\t\\t\\t<span class=\"theme_runtime\"><span class=\"runtime_bg\">재생시간</span><em class=\"time\">07:34</em></span>\\n\\t\\t\\t\\t\\t</div>\\n\\t\\t\\t\\t\\t<div class=\"media_info\">\\n\\t\\t\\t\\t\\t\\t<div class=\"info_box\">\\n\\t\\t\\t\\t\\t\\t\\t<strong class=\"title\">기은세가 픽한 가성비 데일리백</strong>\\n\\t\\t\\t\\t\\t\\t\\t<div class=\"source_wrap\">\\n\\t\\t\\t\\t\\t\\t\\t\\t<span class=\"date\">5개월 전</span>\\n\\t\\t\\t\\t\\t\\t\\t\\t<span class=\"source\">\\n                                    \\n                                    <span class=\"source_inner\">기은세 (Ki EunSe)</span>\\n                                </span>\\n\\t\\t\\t\\t\\t\\t\\t</div>\\n\\t\\t\\t\\t\\t\\t</div>\\n\\t\\t\\t\\t\\t</div>\\n\\t\\t\\t\\t</a>\\n\\t\\t\\t\\n\\t\\t</div>\\n\\t</div>\\n</div>\\n\\n\\n\\n\\n\\t<div class=\"btn_more_wrap\">\\n\\t\\t<button type=\"button\" class=\"btn_more\" data-clk-custom=\"tcc_bty.more\" data-next-page=\"2\"><i class=\"ico_more\"></i>새로운 글 더보기</button>\\n\\t</div>\\n\\n\\n\\n\\n\\t</div>\\n</div>\\n </div> </div> <div id=\"NM_INT_RIGHT\" class=\"column_right\"> <div class=\"column_fix_wrap\"> <div id=\"da_brand\" style=\"position: absolute; width: 350px; height: 200px; right: 0px; top: 208px; z-index: 1;\"><div class=\"rollingboard_player\" data-role=\"rollingPlayer\" style=\"width:350px;height:200px;\"><div class=\"rollingboard_player_inner over\" data-role=\"innerVideoArea\"><a href=\"https://siape.veta.naver.com/fxclick?eu=EU10041892&amp;calp=-&amp;oj=ZagUyei1lShkXJSjnaRScDdqYZwRzWqZgpIi6o%2F4yHObGDclMCJWWhl1m0iA9tnJxHkrHblzLm22juH6f6h%2FqNEWGwmK1A49G86swR4n0tRtonaOyZyAMXQDCWXx89CC0znqFliqvPUfcQtbFWz2txvqdGg54ypz%2BkNN4GyDuwFPUgDUZwGrb8K8udq%2F8uW1v5v10faZlSXFMeQpZYMUWZdrBuKN7QK3RLyF9K0sJKU&amp;ac=8516894&amp;src=5688203&amp;br=3786527&amp;evtcd=P901&amp;x_ti=1316&amp;tb=&amp;oid=&amp;sid1=&amp;sid2=&amp;rk=21ac2176e2b64ca76f69c2150b3fe491&amp;eltts=r2PBtLl9llKt5VwItqz6AA%3D%3D&amp;lu=&amp;brs=Y&amp;\" class=\"rbp_player_wrap_link\" target=\"_blank\" aria-label=\"[광고]온라인 공연 3월 3일 오후 8시 네이버 온스테이지\"><video class=\"rbp_video\" data-role=\"innerVideo\" width=\"350\" height=\"200\" poster=\"https://ssl.pstatic.net/tveta/libs/1381/1381409/ee0df90a12ddaf344741_20220223110409489.jpg\"><source class=\"rbp_video_source\" src=\"https://tvetamovie.pstatic.net/libs/1381/1381409/829dea06bc877c15686e_20220222161312287.mp4-pHIGH-v0-f156876-20220222161744011.mp4\" type=\"video/mp4\"></video></a><div class=\"rbp_player_controls\"><div class=\"rbp_pc_progress\" data-role=\"movieinnerSeekingArea\"><div class=\"rbp_pc_loaded\" data-role=\"innerLoadingBar\" tabindex=\"0\" role=\"progressbar\" aria-label=\"영상 로딩 상태\" aria-valuemin=\"0\" aria-valuemax=\"200\" aria-valuenow=\"160\" style=\"width: 100%;\"></div><div class=\"rbp_pc_played\" data-role=\"innerProgressBar\" role=\"slider\" tabindex=\"0\" aria-valuemin=\"0\" aria-valuemax=\"200\" aria-valuenow=\"10\" aria-valuetext=\"00분 0초\" style=\"width: 0%;\"><div class=\"rbp_pc_handle\" data-role=\"innerSeekBar\"></div></div></div><div class=\"rbp_pc_section_left\"><div class=\"rbp_pc_btns\"><button class=\"rbp_pc_btn-play\" data-role=\"innerVideoPlayPauseBtn\" aria-label=\"일시정지\"></button></div><div class=\"rbp_pc_timer\" tabindex=\"0\" role=\"timer\" aria-label=\"영상 재생 시간\"><span class=\"rbp_pt_current\" data-role=\"innerCurTimeLabel\" aria-label=\"현재 재생 시간\">00:00</span><span class=\"rbp_pt_duration\" data-role=\"innerTotalTimeLabel\" aria-label=\"총 재생 시간\">00:40</span></div></div><div class=\"rbp_pc_section_right\"><div class=\"rbp_pc_volume\" data-role=\"innerVolumeArea\"><button class=\"rbp_pv_btn-volume is_muted\" data-role=\"innerVolumeBtn\" aria-label=\"음소거\"></button><span class=\"rbp_pv_bar\" data-role=\"innerVolumeSeekingArea\"><span class=\"rbp_pv_current_volume\" data-role=\"innerTrack\" role=\"slider\" tabindex=\"0\" aria-label=\"볼륨 조절\" aria-valuemin=\"0\" aria-valuemax=\"100\" aria-valuenow=\"50\" aria-valuetext=\"50%\" style=\"width: 0%;\"><span class=\"rbp_pv_handle\" data-role=\"innerVolumeBar\" style=\"display: none;\"></span></span></span></div></div></div><div class=\"rbp_pc_gauge_area\" aria-haspopup=\"true\"><div class=\"rbp_gauge_wrap is_hidden\" data-role=\"gaugeWrap\"></div><button class=\"rbp_pc_btn-fullsize\" data-role=\"fullsizeBtn\" aria-label=\"크게 보기\"></button></div></div><div class=\"rbp_pc_text\" data-role=\"rollingEventArea\" tabindex=\"0\"><p class=\"rbp_pt_client fadeout\"><strong class=\"rbp_pt_keyword\">마우스</strong>를 올려<br>동영상을</p><p class=\"rbp_pt_fixed fadein\"><strong class=\"rbp_pt_keyword\">HD고화질</strong>로<br>감상하세요</p></div></div></div> \\n\\n\\n\\n\\n<div id=\"account\" class=\"sc_login\">\\n<h2 class=\"blind\">로그인</h2>\\n<p class=\"login_msg\">네이버를 더 안전하고 편리하게 이용하세요</p>\\n<a href=\"https://nid.naver.com/nidlogin.login?mode=form&amp;url=https%3A%2F%2Fwww.naver.com\" class=\"link_login\" data-clk=\"log_off.login\"><i class=\"ico_naver\"><span class=\"blind\">네이버</span></i>로그인</a>\\n<div class=\"sub_area\">\\n<div class=\"look_box\">\\n<a href=\"https://nid.naver.com/user/help.nhn?todo=idinquiry\" class=\"link_look\" data-clk=\"log_off.searchid\">아이디</a>\\n<a href=\"https://nid.naver.com/nidreminder.form\" class=\"link_look\" data-clk=\"log_off.searchpass\">비밀번호찾기</a>\\n</div>\\n<a href=\"https://nid.naver.com/nidregister.form?url=https%3A%2F%2Fwww.naver.com\" class=\"link_join\" data-clk=\"log_off.registration\">회원가입</a>\\n</div>\\n</div>\\n\\n\\n\\n <div id=\"timesquare\" class=\"sc_timesquare\"> <h2 class=\"blind\">타임스퀘어</h2> <div class=\"card_wrap\">\\n<div class=\"card_nav\">\\n<a href=\"#\" role=\"button\" class=\"btn_nav btn_prev\" data-clk=\"squ.pre\"><span class=\"blind\">이전</span></a>\\n<a href=\"#\" role=\"button\" class=\"btn_nav btn_next\" data-clk=\"squ.next\"><span class=\"blind\">다음</span></a>\\n</div>\\n<div id=\"NM_TS_ROLLING_WRAP\" style=\"height: 100%;\" data-nm-ui=\"rolling\">\\n\\n\\n\\n\\n\\n<div class=\"eg-flick-viewport\" style=\"position: relative; z-index: 0; overflow: hidden; min-height: 100%; width: 100%; touch-action: pan-y; user-select: none; -webkit-user-drag: none; height: 47px;\"><div class=\"eg-flick-camera\" style=\"width: 100%; height: 100%; will-change: transform; transform: translate3d(0px, 0px, 0px);\"><div style=\"width: 281px; position: absolute; left: 0px;\" class=\"eg-flick-panel\">\\n<a href=\"https://campaign.naver.com/collect_v2/?target=https%3A%2F%2Fcampaign.naver.com%2Fnaverapp%2Fqrpass&amp;pcode=Naver_loginbottom_1&amp;event_id=qr\" class=\"card_notice\" data-clk=\"squ.covidqrcheckin\"><span class=\"notice\"><i class=\"ico_qrcode\"></i><strong>쉬운 방역패스</strong>를 위한 <strong>바로가기 설치</strong> 안내</span></a>\\n</div></div></div></div>\\n</div> <!-- EMPTY --> </div> <div id=\"veta_branding\"> <div id=\"veta_branding_inner\" style=\"width:350px;height:200px\"><div style=\"width: 350px; height: 200px; margin: 0px auto; position: relative;\"><iframe id=\"veta_branding_inner_tgtLREC\" frameborder=\"no\" scrolling=\"no\" tabindex=\"-1\" name=\"\" style=\"width: 350px; height: 200px; visibility: inherit; border: 0px; vertical-align: bottom; position: absolute;\"></iframe></div></div> <span class=\"veta_bd_t\"></span> <span class=\"veta_bd_b\"></span> <span class=\"veta_bd_l\"></span> <span class=\"veta_bd_r\"></span> </div> <div id=\"shopcast\" class=\"sc_shopcast\"> <iframe id=\"shopcast_iframe\" title=\"쇼핑캐스트\" width=\"350\" height=\"1539\" marginheight=\"0\" marginwidth=\"0\" scrolling=\"no\" frameborder=\"0\" src=\"/shoppingbox/shoppingboxnew/main.nhn?domain=N\"></iframe> </div> </div> </div> <a id=\"NM_scroll_top_btn\" href=\"#wrap\" class=\"content_top\"><span class=\"blind\">TOP</span></a> <button id=\"NM_darkmode_btn\" type=\"button\" role=\"button\" class=\"btn_theme\" aria-pressed=\"false\"> <span class=\"blind\">라이트 모드로 보기</span> </button> </div> <div id=\"footer\" role=\"contentinfo\"> <div class=\"footer_inner\"> <div id=\"NM-FOOTER-AD\" class=\"banner_area\"> <div class=\"da_box_wrap\"> <div id=\"da_public_left\"> <div style=\"width: 350px; height: 86px; border: 0pt none;\"><iframe id=\"da_public_left_tgtLREC\" width=\"350\" height=\"86\" frameborder=\"no\" scrolling=\"no\" tabindex=\"-1\" style=\"border: 0px; vertical-align: bottom;\" src=\"https://siape.veta.naver.com/fxshow?su=SU10641&amp;nrefreshx=0#frameId=da_public_left_tgtLREC&amp;origin=https%3A%2F%2Fwww.naver.com&amp;msgToken=1679580320.5881875&amp;isFluid=false&amp;runtime=NDPSDK\"></iframe></div></div> <div id=\"da_public_right\"> <div style=\"width: 350px; height: 86px; border: 0pt none;\"><iframe id=\"da_public_right_tgtLREC\" width=\"350\" height=\"86\" frameborder=\"no\" scrolling=\"no\" tabindex=\"-1\" style=\"border: 0px; vertical-align: bottom;\" src=\"https://siape.veta.naver.com/fxshow?su=SU10642&amp;nrefreshx=0#frameId=da_public_right_tgtLREC&amp;origin=https%3A%2F%2Fwww.naver.com&amp;msgToken=2871989567.1207967&amp;isFluid=false&amp;runtime=NDPSDK\"></iframe></div></div> <div id=\"veta_time2\"> <div style=\"width: 350px; height: 86px; border: 0pt none;\"><iframe id=\"veta_time2_tgtLREC\" width=\"350\" height=\"86\" frameborder=\"no\" scrolling=\"no\" tabindex=\"-1\" style=\"border: 0px; vertical-align: bottom;\" src=\"https://siape.veta.naver.com/fxshow?su=SU10640&amp;nrefreshx=0#frameId=veta_time2_tgtLREC&amp;origin=https%3A%2F%2Fwww.naver.com&amp;msgToken=2417225703.194912&amp;isFluid=false&amp;runtime=NDPSDK\"></iframe></div></div> </div> </div> <div class=\"notice_area\" data-clk-prefix=\"ntc\"> <div class=\"notice_box\"> <h3 class=\"title\"><a href=\"https://www.naver.com/NOTICE\">공지사항</a> </h3> <!-- EMPTY --> </div> <a href=\"more.html\" class=\"link_all\" data-clk=\"svcmap\">서비스 전체보기</a> </div> <div class=\"aside_area\"> <div class=\"partner_box_wrap\"> <div class=\"partner_box\" data-clk-prefix=\"crt\"> <h3 class=\"title\">Creators</h3> <a href=\"https://www.navercorp.com/service/creators\" class=\"link_partner\" data-clk=\"creator\">크리에이터</a> <a href=\"https://www.navercorp.com/service/business\" class=\"link_partner\" data-clk=\"smbusiness\">스몰비즈니스</a> </div> <div class=\"partner_box\" data-clk-prefix=\"crt\"> <h3 class=\"title\">Partners</h3> <a href=\"https://campaign.naver.com/smefullcare/online/\" class=\"link_partner\" data-clk=\"sme\">SME 풀케어 시스템</a> <a href=\"https://business.naver.com/service.html\" class=\"link_partner\" data-clk=\"service\">비즈니스 · 광고</a> <a href=\"https://sell.storefarm.naver.com/#/home/about\" class=\"link_partner\" data-clk=\"store\">스토어 개설</a> <a href=\"https://smartplace.naver.com\" class=\"link_partner\" data-clk=\"place\">지역업체 등록</a> <a href=\"https://expert.naver.com/expert/introduction?tab=guide#join\" class=\"link_partner\" data-clk=\"expert\">엑스퍼트 등록</a> </div> <div class=\"partner_box\" data-clk-prefix=\"crt\"> <h3 class=\"title\">Developers</h3> <a href=\"https://developers.naver.com\" class=\"link_partner\" data-clk=\"center\">네이버 개발자 센터</a> <a href=\"https://developers.naver.com/docs/common/openapiguide/#/apilist.md\" class=\"link_partner\" data-clk=\"openapi\">오픈 API</a> <a href=\"https://naver.github.io\" class=\"link_partner\" data-clk=\"opensource\">오픈소스</a> <a href=\"https://d2.naver.com\" class=\"link_partner\" data-clk=\"d2\">네이버 D2</a> <a href=\"http://d2startup.com\" class=\"link_partner\" data-clk=\"naverD2SF\">네이버 D2SF</a> <a href=\"https://www.naverlabs.com\" class=\"link_partner\" data-clk=\"labs\">네이버 랩스</a> </div> </div> <div class=\"service_box_wrap\"> <div class=\"service_box\" data-clk-prefix=\"wbd\"> <a href=\"http://whale.naver.com/\" class=\"service_logo\" data-clk=\"bt\"> <img src=\"data:image/png;base64,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\" alt=\"웨일\" width=\"48\" height=\"48\"> </a> <div class=\"service_info\"> <strong class=\"title\">웨일 브라우저</strong> <a href=\"http://whale.naver.com/\" class=\"dsc\" data-clk=\"bt\">다운받기</a> </div> </div> <div class=\"service_box\" data-clk-prefix=\"prj\"> <a href=\"https://search.naver.com/search.naver?where=nexearch&amp;sm=top_hty&amp;fbm=1&amp;ie=utf8&amp;query=%ED%94%84%EB%A1%9C%EC%A0%9D%ED%8A%B8%EA%BD%83\" class=\"service_logo\" data-clk=\"link\"> <img src=\"data:image/png;base64,iVBORw0KGgoAAAANSUhEUgAAAF4AAABkCAMAAAA47XeXAAAAgVBMVEUAAADN5PdGm99Gm99Gm99Gm99Gm95Gm99Gm99Gm99Gm99Gm99Gm99Gm99Gm99Gm99Gm99Gm99Gm99Gm99Gm99Gm99Gm99Gmt9Gm99Gm99Gm99Gm95Gm99Gm99Gm95Gm99Hm99Gm99Gm9/////3+/5cp+LO5PfR5/fO5fdcp+P7/f/zv5GhAAAAInRSTlMA/v7vH9u5qJNgGwb6l8a9uqF9WFUyLxYMCtbVmLCwe4OCj8gzEgAAA0NJREFUaN7NmmFz4iAQhkkwMTHGWrWtWvWuq8mF+/8/8Ey2nb0OhSwQZnw+MHQ7pbjAy2s2gsuiLPJMLpcyy4tyISZltnmHbxw3MzEVr/MUNNL5q5iCt2ccXCN9fhPB7CQYkTsRRlWDlboSAexzGCHfC28OKxhldfDOzBMwePLNTw0sauHFFphshQcLCUwkaQRfXYBPSkrEUBdv3jezcXXhw1ciUhc+fCUidQlH7qzqEk5d2dQlnHxvU5dwVgdXdSGclaiGyamt6hLO1qIu4ZASzcFE092SBprk1jagulvXAAw/qb5N7m176xQYmOPoLymYaK/X65/PNhlagE6LGUhfRM8FjNzuf/73//bHmInzoJEpjMyeWpp9RzGz/PT6+QvMNO2Q+67PPeYZY5h7jDVg5OM+/BGikd13JfDAj/Ad1WLMyEyUwKPT00ypN1GKAljQJtFiFgqRe86eYhbWIvPPPR5d+9pKiIgUwKNJdHXBvW9jyRye1EWLWYfnJcd141Byspizz7gbUyWDuqiW0v15D9g3ZgF86JwyKUgUHJaATUmS5rsEdkkTZLjZS8Alw+skFr8Nl6H6uosShaKOp3Zo+/jgFTDe+wcSfv0yFGfQaLX7tDO0reXOPRuMCG4Q11Y3IiYblWgzS7R+h31qdRtlGB7zikeUckz+AB3a8FuMqD7Cd2nhUHLOEIkLubQIkEuLxIdwEwUy3HyXxsbgPMJcGuGox+TSIugxuTQ+KHIaAS5N92eIIuMT5tJoPfHy5q9yKoXLelLuKRri0mjMQdhwTPw6Sv8pzKXhFyhNilEwkSCXRrnAnaPnJdyl0UrqXircpeHVglnv+62K4NJo3lFcGmWd79KO7OQoXAE8XNO6tIQGxj7fpfHTwk8RubQLWEGvgTNGKzj01fixunCMCCYcvSSlaFwUyKVx86J3bczpUR3zimq1LqdosAUbJF54ar+uk5Gju436mPTk8ZAXFdO93HRYTesUVgf3B+y0XdxLfdVputmfKp/iBtNjyl3c0kzUwtJIWewIPvAL9LOyWLsV9WAps3VRzh6hJBm3oOqsRKfHLGYzS/GP+iLBuBKdqkd+iWPkFZTHf4Em4us/uhI5qss/6zK5u8+AXpwAAAAASUVORK5CYII=\" alt=\"꽃\" width=\"47\" height=\"50\"> </a> <div class=\"service_info\"> <strong class=\"title\">프로젝트 꽃</strong> <a href=\"https://search.naver.com/search.naver?where=nexearch&amp;sm=top_hty&amp;fbm=1&amp;ie=utf8&amp;query=%ED%94%84%EB%A1%9C%EC%A0%9D%ED%8A%B8%EA%BD%83\" class=\"dsc\" data-clk=\"link\">바로가기</a> </div> </div> </div> </div> <div class=\"corp_area\" data-clk-prefix=\"plc\"> <h3 class=\"blind\">네이버 정책 및 약관</h3> <ul class=\"list_corp\"> <li class=\"corp_item\"><a href=\"https://www.navercorp.com\" data-clk=\"intronhn\">회사소개</a></li> <li class=\"corp_item\"><a href=\"https://recruit.navercorp.com/naver/recruitMain\" data-clk=\"recruit\">인재채용</a></li> <li class=\"corp_item\"><a href=\"https://www.navercorp.com/naver/proposalGuide\" data-clk=\"contact\">제휴제안</a></li> <li class=\"corp_item\"><a href=\"/policy/service.html\" data-clk=\"service\">이용약관</a></li> <li class=\"corp_item\"><a href=\"/policy/privacy.html\" data-clk=\"privacy\"><strong>개인정보처리방침</strong></a></li> <li class=\"corp_item\"><a href=\"/policy/youthpolicy.html\" data-clk=\"youth\">청소년보호정책</a></li> <li class=\"corp_item\"><a href=\"/policy/spamcheck.html\" data-clk=\"policy\">네이버 정책</a></li> <li class=\"corp_item\"><a href=\"https://help.naver.com/\" data-clk=\"helpcenter\">고객센터</a></li> </ul> <address class=\"addr\"><a href=\"https://www.navercorp.com\" target=\"_blank\" data-clk=\"nhn\">ⓒ NAVER Corp.</a></address> </div> </div> </div> </div> <div id=\"adscript\" style=\"display:none\"></div>  \\n</body></html>'"
      ]
     },
     "execution_count": 75,
     "metadata": {},
     "output_type": "execute_result"
    }
   ],
>>>>>>> 94677759afae943ac4282fb427e20b22d1464f2a
   "source": [
    "html = driver.page_source"
   ]
  },
  {
   "cell_type": "code",
<<<<<<< HEAD
   "execution_count": 38,
=======
   "execution_count": 76,
>>>>>>> 94677759afae943ac4282fb427e20b22d1464f2a
   "id": "7cbbd0e6",
   "metadata": {},
   "outputs": [],
   "source": [
    "html = '''\n",
    "<html>\n",
    "    <head>\n",
    "    </head>\n",
    "    <body>\n",
    "        <h1> 우리동네시장</h1>\n",
    "            <div class = 'sale'>\n",
    "                <p id='fruits1' class='fruits'>\n",
    "                    <span class = 'name'> 바나나 </span>\n",
    "                    <span class = 'price'> 3000원 </span>\n",
    "                    <span class = 'inventory'> 500개 </span>\n",
    "                    <span class = 'store'> 가나다상회 </span>\n",
    "                    <a href = 'http://bit.ly/forPlaywithData' > 홈페이지 </a>\n",
    "                </p>\n",
    "            </div>\n",
    "            <div class = 'prepare'>\n",
    "                <p id='fruits2' class='fruits'>\n",
    "                    <span class ='name'> 파인애플 </span>\n",
    "                </p>\n",
    "            </div>\n",
    "    </body>\n",
    "</html>\n",
    "\n",
    "'''"
   ]
  },
  {
   "cell_type": "code",
<<<<<<< HEAD
   "execution_count": 39,
=======
   "execution_count": 77,
>>>>>>> 94677759afae943ac4282fb427e20b22d1464f2a
   "id": "b094e515",
   "metadata": {},
   "outputs": [],
   "source": [
    "from bs4 import BeautifulSoup"
   ]
  },
  {
   "cell_type": "code",
<<<<<<< HEAD
   "execution_count": 40,
=======
   "execution_count": 78,
>>>>>>> 94677759afae943ac4282fb427e20b22d1464f2a
   "id": "0b99e853",
   "metadata": {},
   "outputs": [],
   "source": [
    "soup = BeautifulSoup(html, 'html.parser' )"
   ]
  },
  {
   "cell_type": "code",
<<<<<<< HEAD
   "execution_count": 41,
=======
   "execution_count": 84,
>>>>>>> 94677759afae943ac4282fb427e20b22d1464f2a
   "id": "c342464d",
   "metadata": {},
   "outputs": [
    {
     "data": {
      "text/plain": [
       "[<p class=\"fruits\" id=\"fruits1\">\n",
       " <span class=\"name\"> 바나나 </span>\n",
       " <span class=\"price\"> 3000원 </span>\n",
       " <span class=\"inventory\"> 500개 </span>\n",
       " <span class=\"store\"> 가나다상회 </span>\n",
       " <a href=\"http://bit.ly/forPlaywithData\"> 홈페이지 </a>\n",
       " </p>,\n",
       " <p class=\"fruits\" id=\"fruits2\">\n",
       " <span class=\"name\"> 파인애플 </span>\n",
       " </p>]"
      ]
     },
<<<<<<< HEAD
     "execution_count": 41,
=======
     "execution_count": 84,
>>>>>>> 94677759afae943ac4282fb427e20b22d1464f2a
     "metadata": {},
     "output_type": "execute_result"
    }
   ],
   "source": [
    "tags_span = soup.select('span')\n",
    "# tags_span\n",
    "tags_p = soup.select('p')\n",
    "tags_p"
   ]
  },
  {
   "cell_type": "code",
<<<<<<< HEAD
   "execution_count": 42,
=======
   "execution_count": 86,
>>>>>>> 94677759afae943ac4282fb427e20b22d1464f2a
   "id": "373707b5",
   "metadata": {},
   "outputs": [
    {
     "data": {
      "text/plain": [
       "[<p class=\"fruits\" id=\"fruits1\">\n",
       " <span class=\"name\"> 바나나 </span>\n",
       " <span class=\"price\"> 3000원 </span>\n",
       " <span class=\"inventory\"> 500개 </span>\n",
       " <span class=\"store\"> 가나다상회 </span>\n",
       " <a href=\"http://bit.ly/forPlaywithData\"> 홈페이지 </a>\n",
       " </p>]"
      ]
     },
<<<<<<< HEAD
     "execution_count": 42,
=======
     "execution_count": 86,
>>>>>>> 94677759afae943ac4282fb427e20b22d1464f2a
     "metadata": {},
     "output_type": "execute_result"
    }
   ],
   "source": [
    "ids_fruits1 = soup.select('#fruits1')\n",
    "ids_fruits1"
   ]
  },
  {
   "cell_type": "code",
<<<<<<< HEAD
   "execution_count": 43,
=======
   "execution_count": 88,
>>>>>>> 94677759afae943ac4282fb427e20b22d1464f2a
   "id": "4a066b31",
   "metadata": {},
   "outputs": [
    {
     "data": {
      "text/plain": [
       "[<span class=\"price\"> 3000원 </span>]"
      ]
     },
<<<<<<< HEAD
     "execution_count": 43,
=======
     "execution_count": 88,
>>>>>>> 94677759afae943ac4282fb427e20b22d1464f2a
     "metadata": {},
     "output_type": "execute_result"
    }
   ],
   "source": [
    "class_price = soup.select('.price')\n",
    "class_price"
   ]
  },
  {
   "cell_type": "code",
<<<<<<< HEAD
   "execution_count": 44,
=======
   "execution_count": 89,
>>>>>>> 94677759afae943ac4282fb427e20b22d1464f2a
   "id": "59e7f2e2",
   "metadata": {},
   "outputs": [
    {
     "data": {
      "text/plain": [
       "[<span class=\"price\"> 3000원 </span>]"
      ]
     },
<<<<<<< HEAD
     "execution_count": 44,
=======
     "execution_count": 89,
>>>>>>> 94677759afae943ac4282fb427e20b22d1464f2a
     "metadata": {},
     "output_type": "execute_result"
    }
   ],
   "source": [
    "tags_span_class_price = soup.select('span.price')\n",
    "tags_span_class_price"
   ]
  },
  {
   "cell_type": "code",
<<<<<<< HEAD
   "execution_count": 45,
=======
   "execution_count": 90,
>>>>>>> 94677759afae943ac4282fb427e20b22d1464f2a
   "id": "3e4025d0",
   "metadata": {},
   "outputs": [
    {
     "name": "stdout",
     "output_type": "stream",
     "text": [
      "[<span class=\"name\"> 바나나 </span>, <span class=\"name\"> 파인애플 </span>]\n"
     ]
    }
   ],
   "source": [
    "tags_name = soup.select('span.name')\n",
    "print(tags_name)"
   ]
  },
  {
   "cell_type": "code",
<<<<<<< HEAD
   "execution_count": 46,
=======
   "execution_count": 96,
>>>>>>> 94677759afae943ac4282fb427e20b22d1464f2a
   "id": "59abb8cb",
   "metadata": {},
   "outputs": [
    {
     "data": {
      "text/plain": [
       "[<span class=\"name\"> 바나나 </span>]"
      ]
     },
<<<<<<< HEAD
     "execution_count": 46,
=======
     "execution_count": 96,
>>>>>>> 94677759afae943ac4282fb427e20b22d1464f2a
     "metadata": {},
     "output_type": "execute_result"
    }
   ],
   "source": [
    "tags_banana = soup.select('#fruits1 .name')\n",
    "tags_banana"
   ]
  },
  {
   "cell_type": "code",
<<<<<<< HEAD
   "execution_count": 47,
=======
   "execution_count": 102,
>>>>>>> 94677759afae943ac4282fb427e20b22d1464f2a
   "id": "d35e71d9",
   "metadata": {},
   "outputs": [
    {
     "data": {
      "text/plain": [
       "[<span class=\"name\"> 바나나 </span>]"
      ]
     },
<<<<<<< HEAD
     "execution_count": 47,
=======
     "execution_count": 102,
>>>>>>> 94677759afae943ac4282fb427e20b22d1464f2a
     "metadata": {},
     "output_type": "execute_result"
    }
   ],
   "source": [
    "tags_banana = soup.select('.sale > #fruits1 > .name')\n",
    "tags_banana"
   ]
  },
  {
   "cell_type": "code",
<<<<<<< HEAD
   "execution_count": 48,
=======
   "execution_count": 110,
>>>>>>> 94677759afae943ac4282fb427e20b22d1464f2a
   "id": "40c69c2c",
   "metadata": {},
   "outputs": [
    {
     "data": {
      "text/plain": [
       "<span class=\"name\"> 바나나 </span>"
      ]
     },
<<<<<<< HEAD
     "execution_count": 48,
=======
     "execution_count": 110,
>>>>>>> 94677759afae943ac4282fb427e20b22d1464f2a
     "metadata": {},
     "output_type": "execute_result"
    }
   ],
   "source": [
    "tags = soup.select('span.name')\n",
    "tag_1 = tags[0]\n",
    "tag_1"
   ]
  },
  {
   "cell_type": "code",
<<<<<<< HEAD
   "execution_count": 49,
=======
   "execution_count": 116,
>>>>>>> 94677759afae943ac4282fb427e20b22d1464f2a
   "id": "9536a92e",
   "metadata": {},
   "outputs": [
    {
     "name": "stdout",
     "output_type": "stream",
     "text": [
      "<span class=\"name\"> 바나나 </span>\n",
      "<span class=\"name\"> 파인애플 </span>\n"
     ]
    }
   ],
   "source": [
    "tags = soup.select('span.name')\n",
    "\n",
    "for tag in tags:\n",
    "    print(tag)"
   ]
  },
  {
   "cell_type": "code",
<<<<<<< HEAD
   "execution_count": 50,
=======
   "execution_count": 119,
>>>>>>> 94677759afae943ac4282fb427e20b22d1464f2a
   "id": "c17c1af5",
   "metadata": {},
   "outputs": [
    {
     "name": "stdout",
     "output_type": "stream",
     "text": [
      " 홈페이지 \n"
     ]
    }
   ],
   "source": [
    "tags = soup.select('a')\n",
    "tag = tags[0]\n",
    "content = tag.text\n",
    "print(content)"
   ]
  },
  {
   "cell_type": "code",
<<<<<<< HEAD
   "execution_count": 51,
=======
   "execution_count": 121,
>>>>>>> 94677759afae943ac4282fb427e20b22d1464f2a
   "id": "c6813502",
   "metadata": {
    "scrolled": true
   },
   "outputs": [
    {
     "data": {
      "text/plain": [
       "'http://bit.ly/forPlaywithData'"
      ]
     },
<<<<<<< HEAD
     "execution_count": 51,
=======
     "execution_count": 121,
>>>>>>> 94677759afae943ac4282fb427e20b22d1464f2a
     "metadata": {},
     "output_type": "execute_result"
    }
   ],
   "source": [
    "link = tag['href']\n",
    "link"
   ]
  },
  {
   "cell_type": "code",
<<<<<<< HEAD
   "execution_count": 52,
=======
   "execution_count": 124,
>>>>>>> 94677759afae943ac4282fb427e20b22d1464f2a
   "id": "5aab21b3",
   "metadata": {},
   "outputs": [],
   "source": [
    "url = \"http://www.melon.com/chart/index.htm\"\n",
    "driver.get(url)"
   ]
  },
  {
   "cell_type": "code",
<<<<<<< HEAD
   "execution_count": 53,
=======
   "execution_count": 126,
>>>>>>> 94677759afae943ac4282fb427e20b22d1464f2a
   "id": "1bbdc02b",
   "metadata": {},
   "outputs": [],
   "source": [
    "html = driver.page_source\n",
    "soup = BeautifulSoup(html,'html.parser')"
   ]
  },
  {
   "cell_type": "code",
<<<<<<< HEAD
   "execution_count": 54,
=======
   "execution_count": 154,
>>>>>>> 94677759afae943ac4282fb427e20b22d1464f2a
   "id": "5b50ae2c",
   "metadata": {},
   "outputs": [
    {
     "name": "stdout",
     "output_type": "stream",
     "text": [
      "101\n"
     ]
    }
   ],
   "source": [
    "songs = soup.select('tr')\n",
    "print(len(songs))"
   ]
  },
  {
   "cell_type": "code",
<<<<<<< HEAD
   "execution_count": 55,
=======
   "execution_count": 155,
>>>>>>> 94677759afae943ac4282fb427e20b22d1464f2a
   "id": "ab29996c",
   "metadata": {},
   "outputs": [
    {
     "name": "stdout",
     "output_type": "stream",
     "text": [
      "<tr>\n",
      "<th scope=\"col\">\n",
      "<div class=\"wrap t_right\"><input class=\"input_check d_checkall\" title=\"곡 목록 전체 선택\" type=\"checkbox\"/></div>\n",
      "</th>\n",
      "<th scope=\"col\">\n",
      "<div class=\"wrap t_center\"><span class=\"rank\">순위</span></div>\n",
      "</th>\n",
      "<th scope=\"col\">\n",
      "<div class=\"wrap none\">순위등락</div>\n",
      "</th>\n",
      "<th scope=\"col\">\n",
      "<div class=\"wrap none\">앨범이미지</div>\n",
      "</th>\n",
      "<th scope=\"col\">\n",
      "<div class=\"wrap none\">곡 상세가기</div>\n",
      "</th>\n",
      "<th scope=\"col\">\n",
      "<div class=\"wrap pd_l_12\">곡정보</div>\n",
      "</th>\n",
      "<th scope=\"col\">\n",
      "<div class=\"wrap pd_l_12\">앨범</div>\n",
      "</th>\n",
      "<th scope=\"col\">\n",
      "<div class=\"wrap pd_l_30\">좋아요</div>\n",
      "</th>\n",
      "<th scope=\"col\">\n",
      "<div class=\"wrap t_center\">듣기</div>\n",
      "</th>\n",
      "<th scope=\"col\">\n",
      "<div class=\"wrap t_center\">담기</div>\n",
      "</th>\n",
      "<th scope=\"col\">\n",
      "<div class=\"wrap t_center\">다운</div>\n",
      "</th>\n",
      "<th scope=\"col\">\n",
      "<div class=\"wrap t_center\">뮤비</div>\n",
      "</th>\n",
      "</tr>\n"
     ]
<<<<<<< HEAD
    }
   ],
   "source": [
    "print(songs[0])\n"
   ]
  },
  {
   "cell_type": "code",
   "execution_count": 56,
   "id": "38d6785b",
   "metadata": {},
   "outputs": [
    {
     "name": "stdout",
     "output_type": "stream",
     "text": [
      "100\n"
     ]
=======
>>>>>>> 94677759afae943ac4282fb427e20b22d1464f2a
    },
    {
     "data": {
      "text/plain": [
       "<tr class=\"lst50\" data-song-no=\"34061322\" id=\"lst50\">\n",
       "<td><div class=\"wrap t_right\"><input class=\"input_check\" name=\"input_check\" title=\"사랑은 늘 도망가 곡 선택\" type=\"checkbox\" value=\"34061322\"/></div></td>\n",
       "<td><div class=\"wrap t_center\"><span class=\"rank\">2</span><span class=\"none\">위</span></div></td>\n",
       "<!-- 차트순위 추가 -->\n",
       "<td><div class=\"wrap\">\n",
<<<<<<< HEAD
       "<span class=\"rank_wrap\" title=\"1단계 하락\">\n",
       "<span class=\"bullet_icons rank_down\"><span class=\"none\">단계 하락</span></span>\n",
       "<span class=\"down\">1</span>\n",
=======
       "<span class=\"rank_wrap\" title=\"순위 동일\">\n",
       "<span class=\"bullet_icons rank_static\"><span class=\"none\">순위 동일</span></span>\n",
       "<span class=\"none\">0</span>\n",
>>>>>>> 94677759afae943ac4282fb427e20b22d1464f2a
       "</span>\n",
       "</div></td>\n",
       "<td><div class=\"wrap\">\n",
       "<a class=\"image_typeAll\" href=\"javascript:melon.link.goAlbumDetail('10735654');\" title=\"신사와 아가씨 OST Part.2\">\n",
       "<img alt=\"신사와 아가씨 OST Part.2 - 페이지 이동\" height=\"60\" onerror=\"WEBPOCIMG.defaultAlbumImg(this);\" src=\"https://cdnimg.melon.co.kr/cm2/album/images/107/35/654/10735654_20211008114339_500.jpg/melon/resize/120/quality/80/optimize\" width=\"60\"/>\n",
       "<span class=\"bg_album_frame\"></span>\n",
       "</a>\n",
       "</div></td>\n",
       "<td><div class=\"wrap\">\n",
       "<a class=\"btn button_icons type03 song_info\" href=\"javascript:melon.link.goSongDetail('34061322');\" title=\"사랑은 늘 도망가 곡정보\"><span class=\"none\">곡정보</span></a>\n",
       "</div></td>\n",
       "<td><div class=\"wrap\">\n",
       "<div class=\"wrap_song_info\">\n",
       "<div class=\"ellipsis rank01\"><span>\n",
       "<a href=\"javascript:melon.play.playSong('1000002721',34061322);\" title=\"사랑은 늘 도망가 재생\">사랑은 늘 도망가</a>\n",
       "</span></div><br/>\n",
       "<div class=\"ellipsis rank02\">\n",
       "<a href=\"javascript:melon.link.goArtistDetail('994944');\" title=\"임영웅 - 페이지 이동\">임영웅</a><span class=\"checkEllipsis\" style=\"display: none;\"><a href=\"javascript:melon.link.goArtistDetail('994944');\" title=\"임영웅 - 페이지 이동\">임영웅</a></span>\n",
       "</div>\n",
       "</div>\n",
       "</div></td>\n",
       "<td><div class=\"wrap\">\n",
       "<div class=\"wrap_song_info\">\n",
       "<div class=\"ellipsis rank03\">\n",
       "<a href=\"javascript:melon.link.goAlbumDetail('10735654');\" title=\"신사와 아가씨 OST Part.2 - 페이지 이동\">신사와 아가씨 OST Part.2</a>\n",
       "</div>\n",
       "</div>\n",
       "</div></td>\n",
       "<td><div class=\"wrap\">\n",
       "<button class=\"button_etc like\" data-song-menuid=\"1000002721\" data-song-no=\"34061322\" title=\"사랑은 늘 도망가 좋아요\" type=\"button\"><span class=\"odd_span\">좋아요</span>\n",
       "<span class=\"cnt\">\n",
       "<span class=\"none\">총건수</span>\n",
<<<<<<< HEAD
       "131,675</span></button>\n",
=======
       "131,423</span></button>\n",
>>>>>>> 94677759afae943ac4282fb427e20b22d1464f2a
       "</div></td>\n",
       "<td><div class=\"wrap t_center\">\n",
       "<button class=\"button_icons play\" onclick=\"melon.play.playSong('1000002721',34061322);\" title=\"듣기\" type=\"button\"><span class=\"none\">듣기</span></button>\n",
       "</div></td>\n",
       "<td><div class=\"wrap t_center\">\n",
       "<button class=\"button_icons scrap\" onclick=\"melon.play.addPlayList('34061322');\" title=\"담기\" type=\"button\"><span class=\"none\">담기</span></button>\n",
       "</div></td>\n",
       "<td><div class=\"wrap t_center\">\n",
       "<button class=\"button_icons download\" onclick=\"melon.buy.goBuyProduct('frm', '34061322', '3C0001', '','0', '1000002721');\" title=\"다운로드\" type=\"button\"><span class=\"none\">다운로드</span></button>\n",
       "</div></td>\n",
       "<td><div class=\"wrap t_center\">\n",
       "<button class=\"button_icons video\" onclick=\"melon.link.goMvDetail('1000002721', '34061322','song');\" title=\"뮤직비디오\" type=\"button\"><span class=\"none\">뮤직비디오</span></button>\n",
       "</div></td>\n",
       "</tr>"
      ]
     },
<<<<<<< HEAD
     "execution_count": 56,
=======
     "execution_count": 155,
     "metadata": {},
     "output_type": "execute_result"
    }
   ],
   "source": [
    "print(songs[0])\n"
   ]
  },
  {
   "cell_type": "code",
   "execution_count": 157,
   "id": "38d6785b",
   "metadata": {},
   "outputs": [
    {
     "name": "stdout",
     "output_type": "stream",
     "text": [
      "100\n"
     ]
    },
    {
     "data": {
      "text/plain": [
       "<tr class=\"lst50\" data-song-no=\"34061322\" id=\"lst50\">\n",
       "<td><div class=\"wrap t_right\"><input class=\"input_check\" name=\"input_check\" title=\"사랑은 늘 도망가 곡 선택\" type=\"checkbox\" value=\"34061322\"/></div></td>\n",
       "<td><div class=\"wrap t_center\"><span class=\"rank\">2</span><span class=\"none\">위</span></div></td>\n",
       "<!-- 차트순위 추가 -->\n",
       "<td><div class=\"wrap\">\n",
       "<span class=\"rank_wrap\" title=\"순위 동일\">\n",
       "<span class=\"bullet_icons rank_static\"><span class=\"none\">순위 동일</span></span>\n",
       "<span class=\"none\">0</span>\n",
       "</span>\n",
       "</div></td>\n",
       "<td><div class=\"wrap\">\n",
       "<a class=\"image_typeAll\" href=\"javascript:melon.link.goAlbumDetail('10735654');\" title=\"신사와 아가씨 OST Part.2\">\n",
       "<img alt=\"신사와 아가씨 OST Part.2 - 페이지 이동\" height=\"60\" onerror=\"WEBPOCIMG.defaultAlbumImg(this);\" src=\"https://cdnimg.melon.co.kr/cm2/album/images/107/35/654/10735654_20211008114339_500.jpg/melon/resize/120/quality/80/optimize\" width=\"60\"/>\n",
       "<span class=\"bg_album_frame\"></span>\n",
       "</a>\n",
       "</div></td>\n",
       "<td><div class=\"wrap\">\n",
       "<a class=\"btn button_icons type03 song_info\" href=\"javascript:melon.link.goSongDetail('34061322');\" title=\"사랑은 늘 도망가 곡정보\"><span class=\"none\">곡정보</span></a>\n",
       "</div></td>\n",
       "<td><div class=\"wrap\">\n",
       "<div class=\"wrap_song_info\">\n",
       "<div class=\"ellipsis rank01\"><span>\n",
       "<a href=\"javascript:melon.play.playSong('1000002721',34061322);\" title=\"사랑은 늘 도망가 재생\">사랑은 늘 도망가</a>\n",
       "</span></div><br/>\n",
       "<div class=\"ellipsis rank02\">\n",
       "<a href=\"javascript:melon.link.goArtistDetail('994944');\" title=\"임영웅 - 페이지 이동\">임영웅</a><span class=\"checkEllipsis\" style=\"display: none;\"><a href=\"javascript:melon.link.goArtistDetail('994944');\" title=\"임영웅 - 페이지 이동\">임영웅</a></span>\n",
       "</div>\n",
       "</div>\n",
       "</div></td>\n",
       "<td><div class=\"wrap\">\n",
       "<div class=\"wrap_song_info\">\n",
       "<div class=\"ellipsis rank03\">\n",
       "<a href=\"javascript:melon.link.goAlbumDetail('10735654');\" title=\"신사와 아가씨 OST Part.2 - 페이지 이동\">신사와 아가씨 OST Part.2</a>\n",
       "</div>\n",
       "</div>\n",
       "</div></td>\n",
       "<td><div class=\"wrap\">\n",
       "<button class=\"button_etc like\" data-song-menuid=\"1000002721\" data-song-no=\"34061322\" title=\"사랑은 늘 도망가 좋아요\" type=\"button\"><span class=\"odd_span\">좋아요</span>\n",
       "<span class=\"cnt\">\n",
       "<span class=\"none\">총건수</span>\n",
       "131,423</span></button>\n",
       "</div></td>\n",
       "<td><div class=\"wrap t_center\">\n",
       "<button class=\"button_icons play\" onclick=\"melon.play.playSong('1000002721',34061322);\" title=\"듣기\" type=\"button\"><span class=\"none\">듣기</span></button>\n",
       "</div></td>\n",
       "<td><div class=\"wrap t_center\">\n",
       "<button class=\"button_icons scrap\" onclick=\"melon.play.addPlayList('34061322');\" title=\"담기\" type=\"button\"><span class=\"none\">담기</span></button>\n",
       "</div></td>\n",
       "<td><div class=\"wrap t_center\">\n",
       "<button class=\"button_icons download\" onclick=\"melon.buy.goBuyProduct('frm', '34061322', '3C0001', '','0', '1000002721');\" title=\"다운로드\" type=\"button\"><span class=\"none\">다운로드</span></button>\n",
       "</div></td>\n",
       "<td><div class=\"wrap t_center\">\n",
       "<button class=\"button_icons video\" onclick=\"melon.link.goMvDetail('1000002721', '34061322','song');\" title=\"뮤직비디오\" type=\"button\"><span class=\"none\">뮤직비디오</span></button>\n",
       "</div></td>\n",
       "</tr>"
      ]
     },
     "execution_count": 157,
>>>>>>> 94677759afae943ac4282fb427e20b22d1464f2a
     "metadata": {},
     "output_type": "execute_result"
    }
   ],
   "source": [
    "songs = soup.select('tr')[1:]\n",
    "print(len(songs))\n",
    "\n",
    "songs[1]\n"
   ]
  },
  {
   "cell_type": "code",
<<<<<<< HEAD
   "execution_count": 57,
=======
   "execution_count": 135,
>>>>>>> 94677759afae943ac4282fb427e20b22d1464f2a
   "id": "9aef32e3",
   "metadata": {
    "scrolled": true
   },
   "outputs": [
    {
     "name": "stdout",
     "output_type": "stream",
     "text": [
      "<tr class=\"lst50\" data-song-no=\"34626109\" id=\"lst50\">\n",
      "<td><div class=\"wrap t_right\"><input class=\"input_check\" name=\"input_check\" title=\"INVU 곡 선택\" type=\"checkbox\" value=\"34626109\"/></div></td>\n",
      "<td><div class=\"wrap t_center\"><span class=\"rank\">1</span><span class=\"none\">위</span></div></td>\n",
      "<!-- 차트순위 추가 -->\n",
      "<td><div class=\"wrap\">\n",
<<<<<<< HEAD
      "<span class=\"rank_wrap\" title=\"1단계 상승\">\n",
      "<span class=\"bullet_icons rank_up\"><span class=\"none\">단계 상승</span></span>\n",
      "<span class=\"up\">1</span>\n",
=======
      "<span class=\"rank_wrap\" title=\"순위 동일\">\n",
      "<span class=\"bullet_icons rank_static\"><span class=\"none\">순위 동일</span></span>\n",
      "<span class=\"none\">0</span>\n",
>>>>>>> 94677759afae943ac4282fb427e20b22d1464f2a
      "</span>\n",
      "</div></td>\n",
      "<td><div class=\"wrap\">\n",
      "<a class=\"image_typeAll\" href=\"javascript:melon.link.goAlbumDetail('10863559');\" title=\"INVU - The 3rd Album\">\n",
      "<img alt=\"INVU - The 3rd Album - 페이지 이동\" height=\"60\" onerror=\"WEBPOCIMG.defaultAlbumImg(this);\" src=\"https://cdnimg.melon.co.kr/cm2/album/images/108/63/559/10863559_20220214160739_500.jpg/melon/resize/120/quality/80/optimize\" width=\"60\"/>\n",
      "<span class=\"bg_album_frame\"></span>\n",
      "</a>\n",
      "</div></td>\n",
      "<td><div class=\"wrap\">\n",
      "<a class=\"btn button_icons type03 song_info\" href=\"javascript:melon.link.goSongDetail('34626109');\" title=\"INVU 곡정보\"><span class=\"none\">곡정보</span></a>\n",
      "</div></td>\n",
      "<td><div class=\"wrap\">\n",
      "<div class=\"wrap_song_info\">\n",
      "<div class=\"ellipsis rank01\"><span>\n",
      "<a href=\"javascript:melon.play.playSong('1000002721',34626109);\" title=\"INVU 재생\">INVU</a>\n",
      "</span></div><br/>\n",
      "<div class=\"ellipsis rank02\">\n",
      "<a href=\"javascript:melon.link.goArtistDetail('236797');\" title=\"태연 (TAEYEON) - 페이지 이동\">태연 (TAEYEON)</a><span class=\"checkEllipsis\" style=\"display: none;\"><a href=\"javascript:melon.link.goArtistDetail('236797');\" title=\"태연 (TAEYEON) - 페이지 이동\">태연 (TAEYEON)</a></span>\n",
      "</div>\n",
      "</div>\n",
      "</div></td>\n",
      "<td><div class=\"wrap\">\n",
      "<div class=\"wrap_song_info\">\n",
      "<div class=\"ellipsis rank03\">\n",
      "<a href=\"javascript:melon.link.goAlbumDetail('10863559');\" title=\"INVU - The 3rd Album - 페이지 이동\">INVU - The 3rd Album</a>\n",
      "</div>\n",
      "</div>\n",
      "</div></td>\n",
      "<td><div class=\"wrap\">\n",
      "<button class=\"button_etc like\" data-song-menuid=\"1000002721\" data-song-no=\"34626109\" title=\"INVU 좋아요\" type=\"button\"><span class=\"odd_span\">좋아요</span>\n",
      "<span class=\"cnt\">\n",
      "<span class=\"none\">총건수</span>\n",
<<<<<<< HEAD
      "55,015</span></button>\n",
=======
      "53,408</span></button>\n",
>>>>>>> 94677759afae943ac4282fb427e20b22d1464f2a
      "</div></td>\n",
      "<td><div class=\"wrap t_center\">\n",
      "<button class=\"button_icons play\" onclick=\"melon.play.playSong('1000002721',34626109);\" title=\"듣기\" type=\"button\"><span class=\"none\">듣기</span></button>\n",
      "</div></td>\n",
      "<td><div class=\"wrap t_center\">\n",
      "<button class=\"button_icons scrap\" onclick=\"melon.play.addPlayList('34626109');\" title=\"담기\" type=\"button\"><span class=\"none\">담기</span></button>\n",
      "</div></td>\n",
      "<td><div class=\"wrap t_center\">\n",
      "<button class=\"button_icons download\" onclick=\"melon.buy.goBuyProduct('frm', '34626109', '3C0001', '','0', '1000002721');\" title=\"다운로드\" type=\"button\"><span class=\"none\">다운로드</span></button>\n",
      "</div></td>\n",
      "<td><div class=\"wrap t_center\">\n",
      "<button class=\"button_icons video\" onclick=\"melon.link.goMvDetail('1000002721', '34626109','song');\" title=\"뮤직비디오\" type=\"button\"><span class=\"none\">뮤직비디오</span></button>\n",
      "</div></td>\n",
      "</tr>\n"
     ]
    }
   ],
   "source": [
    "print(songs[0])"
   ]
  },
  {
   "cell_type": "code",
<<<<<<< HEAD
   "execution_count": 58,
=======
   "execution_count": 136,
>>>>>>> 94677759afae943ac4282fb427e20b22d1464f2a
   "id": "774c4b91",
   "metadata": {},
   "outputs": [],
   "source": [
    "song = songs[0]"
   ]
  },
  {
   "cell_type": "code",
<<<<<<< HEAD
   "execution_count": 59,
=======
   "execution_count": 137,
>>>>>>> 94677759afae943ac4282fb427e20b22d1464f2a
   "id": "c1e1c7c4",
   "metadata": {},
   "outputs": [
    {
     "data": {
      "text/plain": [
       "6"
      ]
     },
<<<<<<< HEAD
     "execution_count": 59,
=======
     "execution_count": 137,
>>>>>>> 94677759afae943ac4282fb427e20b22d1464f2a
     "metadata": {},
     "output_type": "execute_result"
    }
   ],
   "source": [
    "title = song.select('a')\n",
    "len(title)"
   ]
  },
  {
   "cell_type": "code",
<<<<<<< HEAD
   "execution_count": 60,
=======
   "execution_count": 138,
>>>>>>> 94677759afae943ac4282fb427e20b22d1464f2a
   "id": "e5cf02be",
   "metadata": {},
   "outputs": [
    {
     "data": {
      "text/plain": [
       "2"
      ]
     },
<<<<<<< HEAD
     "execution_count": 60,
=======
     "execution_count": 138,
>>>>>>> 94677759afae943ac4282fb427e20b22d1464f2a
     "metadata": {},
     "output_type": "execute_result"
    }
   ],
   "source": [
    "title = song.select('span > a')\n",
    "len(title)"
   ]
  },
  {
   "cell_type": "code",
<<<<<<< HEAD
   "execution_count": 61,
=======
   "execution_count": 144,
>>>>>>> 94677759afae943ac4282fb427e20b22d1464f2a
   "id": "c9444835",
   "metadata": {},
   "outputs": [
    {
     "data": {
      "text/plain": [
       "[<a href=\"javascript:melon.play.playSong('1000002721',34626109);\" title=\"INVU 재생\">INVU</a>]"
      ]
     },
<<<<<<< HEAD
     "execution_count": 61,
=======
     "execution_count": 144,
>>>>>>> 94677759afae943ac4282fb427e20b22d1464f2a
     "metadata": {},
     "output_type": "execute_result"
    }
   ],
   "source": [
    "title = song.select('div.ellipsis.rank01 > span > a')\n",
    "len(title)\n",
    "title"
   ]
  },
  {
   "cell_type": "code",
<<<<<<< HEAD
   "execution_count": 62,
=======
   "execution_count": 148,
>>>>>>> 94677759afae943ac4282fb427e20b22d1464f2a
   "id": "88cc27db",
   "metadata": {},
   "outputs": [
    {
     "name": "stdout",
     "output_type": "stream",
     "text": [
      "INVU\n"
     ]
    }
   ],
   "source": [
    "title = song.select('div.ellipsis.rank01 > span > a')[0].text\n",
    "print(title)"
   ]
  },
  {
   "cell_type": "code",
<<<<<<< HEAD
   "execution_count": 63,
=======
   "execution_count": 161,
>>>>>>> 94677759afae943ac4282fb427e20b22d1464f2a
   "id": "7d94d114",
   "metadata": {},
   "outputs": [
    {
     "name": "stdout",
     "output_type": "stream",
     "text": [
      "태연 (TAEYEON)\n"
     ]
    },
    {
     "data": {
      "text/plain": [
       "[<a href=\"javascript:melon.play.playSong('1000002721',34431086);\" title=\"취중고백 재생\">취중고백</a>]"
      ]
     },
<<<<<<< HEAD
     "execution_count": 63,
=======
     "execution_count": 161,
>>>>>>> 94677759afae943ac4282fb427e20b22d1464f2a
     "metadata": {},
     "output_type": "execute_result"
    }
   ],
   "source": [
    "title = song.select('div.ellipsis.rank02 > span > a')[0].text\n",
    "print(title)\n",
    "songs[2].select('div.ellipsis.rank01 > span > a')"
   ]
  },
  {
   "cell_type": "code",
<<<<<<< HEAD
   "execution_count": 64,
=======
   "execution_count": 179,
>>>>>>> 94677759afae943ac4282fb427e20b22d1464f2a
   "id": "aadabad7",
   "metadata": {},
   "outputs": [
    {
     "name": "stdout",
     "output_type": "stream",
     "text": [
      "1 위:  INVU | 태연 (TAEYEON)\n",
      "2 위:  사랑은 늘 도망가 | 임영웅\n",
      "3 위:  취중고백 | 김민석 (멜로망스)\n",
      "4 위:  언제나 사랑해 | 케이시 (Kassy)\n",
      "5 위:  ELEVEN | IVE (아이브)\n",
      "6 위:  Step Back | GOT the beat\n",
      "7 위:  회전목마 (Feat. Zion.T, 원슈타인) (Prod. Slom) | sokodomo\n",
<<<<<<< HEAD
      "8 위:  호랑수월가 | 탑현\n",
      "9 위:  이제 나만 믿어요 | 임영웅\n",
      "10 위:  SMILEY (Feat. BIBI) | YENA (최예나)\n",
      "11 위:  다정히 내 이름을 부르면 | 경서예지\n",
      "12 위:  리무진 (Feat. MINO) (Prod. GRAY) | BE'O (비오)\n",
      "13 위:  abcdefu | GAYLE\n",
      "14 위:  너, 너 (N번째 연애 X 휘인 (Whee In)) | 휘인 (Whee In)\n",
      "15 위:  눈이 오잖아(Feat.헤이즈) | 이무진\n",
      "16 위:  Counting Stars (Feat. Beenzino) | BE'O (비오)\n",
      "17 위:  다시 사랑한다면 (김필 Ver.) | 임영웅\n",
      "18 위:  별빛 같은 나의 사랑아 | 임영웅\n",
      "19 위:  Dreams Come True | aespa\n",
      "20 위:  그대라는 사치 | 임영웅\n",
      "21 위:  잊을 수 있을까 | 노을\n",
      "22 위:  STAY | The Kid LAROI\n",
      "23 위:  신호등 | 이무진\n",
      "24 위:  Can't Control Myself | 태연 (TAEYEON)\n",
      "25 위:  잊었니 | 임영웅\n",
      "26 위:  HERO | 임영웅\n",
      "27 위:  Next Level | aespa\n",
      "28 위:  strawberry moon | 아이유\n",
      "29 위:  겨울잠 | 아이유\n",
      "30 위:  끝사랑 | 임영웅\n",
      "31 위:  너 아니면 안돼 | 먼데이 키즈 (Monday Kiz)\n",
      "32 위:  노래 (The Song) | 비투비\n",
      "33 위:  Bk Love | 임영웅\n",
      "34 위:  Butter | 방탄소년단\n",
      "35 위:  Savage | aespa\n",
      "36 위:  만남은 쉽고 이별은 어려워 (Feat. Leellamarz) (Prod. TOIL) | 베이식 (Basick)\n",
      "37 위:  RUN2U | STAYC(스테이씨)\n",
      "38 위:  드라마 | 아이유\n",
      "39 위:  Dynamite | 방탄소년단\n",
      "40 위:  Christmas Tree | V\n",
      "41 위:  Weekend | 태연 (TAEYEON)\n",
      "42 위:  그래서 그래 (Feat. 윤하) | 에픽하이 (EPIK HIGH)\n",
      "43 위:  너를 생각해 | 주시크 (Joosiq)\n",
      "44 위:  Permission to Dance | 방탄소년단\n",
      "45 위:  계단말고 엘리베이터 | 임영웅\n",
      "46 위:  OHAYO MY NIGHT | 디핵 (D-Hack)\n",
      "47 위:  서랍 | 10CM\n",
      "48 위:  바라만 본다 | MSG워너비(M.O.M)\n",
      "49 위:  우리가 헤어져야 했던 이유 | 비비 (BIBI)\n",
      "50 위:  My Universe | Coldplay\n",
      "51 위:  언덕나무 | 이승윤\n",
      "52 위:  흰눈 | 먼데이 키즈 (Monday Kiz)\n",
      "53 위:  사랑인가 봐 | 멜로망스\n",
      "54 위:  문득 | BE'O (비오)\n",
      "55 위:  Celebrity | 아이유\n",
      "56 위:  라일락 | 아이유\n",
      "57 위:  대낮에 한 이별 | 선예\n",
      "58 위:  낙하 (with 아이유) | AKMU (악뮤)\n",
      "59 위:  밤하늘의 별을(2020) | 경서\n",
      "60 위:  헤픈 우연 | 헤이즈 (Heize)\n",
      "61 위:  네가 없는 밤 (Feat. ASH ISLAND) (Prod. GRAY) | BE'O (비오)\n",
      "62 위:  사이렌 Remix (Feat. UNEDUCATED KID, Paul Blanco) | 호미들\n",
      "63 위:  Bad Habits | Ed Sheeran\n",
      "64 위:  너의 모든 순간 | 성시경\n",
      "65 위:  찰나가 영원이 될 때 (The Eternal Moment) | 마크툽 (MAKTUB)\n",
      "66 위:  그런 밤 (Some Nights) | 태연 (TAEYEON)\n",
      "67 위:  불협화음 (Feat. AKMU) (Prod. GRAY) | Mudd the student\n",
      "68 위:  모든 날, 모든 순간 (Every day, Every Moment) | 폴킴\n",
      "69 위:  강변북로 | 황인욱\n",
      "70 위:  사랑이 아니었다고 말하지 마요 | 이예준\n",
      "71 위:  봄날 | 방탄소년단\n",
      "72 위:  어떻게 이별까지 사랑하겠어, 널 사랑하는 거지 | AKMU (악뮤)\n",
      "73 위:  내 손을 잡아 | 아이유\n",
      "74 위:  쉬어 (Feat. MINO) (Prod. GRAY) | 아넌딜라이트(Anandelight)\n",
      "75 위:  그게 더 편할 것 같아 (N번째 연애 X 멜로망스) | 멜로망스\n",
      "76 위:  롤린 (Rollin') | 브레이브걸스\n",
      "77 위:  Dilemma | Apink (에이핑크)\n",
      "78 위:  Wake Up (Prod. 코드 쿤스트) | 개코\n",
      "79 위:  Off My Face | Justin Bieber\n",
      "80 위:  고백 | 멜로망스\n",
      "81 위:  Blueming | 아이유\n",
      "82 위:  작은 것들을 위한 시 (Boy With Luv) (Feat. Halsey) | 방탄소년단\n",
      "83 위:  Good Night (Feat. BE'O) | 쿠기 (Coogie)\n",
      "84 위:  겨울..그다음 봄 | 로시 (Rothy)\n",
      "85 위:  Dun Dun Dance | 오마이걸 (OH MY GIRL)\n",
      "86 위:  Stay Alive (Prod. SUGA of BTS) | 정국\n",
      "87 위:  추억은 만남보다 이별에 남아 | 정동하\n",
      "88 위:  오늘도 빛나는 너에게 (To You My Light) (Feat.이라온) | 마크툽 (MAKTUB)\n",
      "89 위:  밝게 빛나는 별이 되어 비춰줄게 | 송이한\n",
      "90 위:  취기를 빌려 (취향저격 그녀 X 산들) | 산들\n",
      "91 위:  Savage Love (Laxed - Siren Beat) (BTS Remix) | Jawsh 685\n",
      "92 위:  DM | 프로미스나인\n",
      "93 위:  그날에 나는 맘이 편했을까 | 이예준\n",
      "94 위:  시간을 거슬러 (낮에 뜨는 달 X 케이윌) | 케이윌\n",
      "95 위:  이별후회 | 김나영\n",
      "96 위:  Life Goes On | 방탄소년단\n",
      "97 위:  비가 오는 날엔 (2021) | 헤이즈 (Heize)\n",
      "98 위:  Because | ASH ISLAND\n",
      "99 위:  봄이 피어나 | 비투비\n",
      "100 위:  여름비 | 샘김 (Sam Kim)\n"
=======
      "8 위:  SMILEY (Feat. BIBI) | YENA (최예나)\n",
      "9 위:  호랑수월가 | 탑현\n",
      "10 위:  리무진 (Feat. MINO) (Prod. GRAY) | BE'O (비오)\n",
      "11 위:  다정히 내 이름을 부르면 | 경서예지\n",
      "12 위:  abcdefu | GAYLE\n",
      "13 위:  이제 나만 믿어요 | 임영웅\n",
      "14 위:  눈이 오잖아(Feat.헤이즈) | 이무진\n",
      "15 위:  Counting Stars (Feat. Beenzino) | BE'O (비오)\n",
      "16 위:  너, 너 (N번째 연애 X 휘인 (Whee In)) | 휘인 (Whee In)\n",
      "17 위:  Dreams Come True | aespa\n",
      "18 위:  STAY | The Kid LAROI\n",
      "19 위:  Can't Control Myself | 태연 (TAEYEON)\n",
      "20 위:  다시 사랑한다면 (김필 Ver.) | 임영웅\n",
      "21 위:  신호등 | 이무진\n",
      "22 위:  Next Level | aespa\n",
      "23 위:  strawberry moon | 아이유\n",
      "24 위:  그대라는 사치 | 임영웅\n",
      "25 위:  겨울잠 | 아이유\n",
      "26 위:  잊을 수 있을까 | 노을\n",
      "27 위:  별빛 같은 나의 사랑아 | 임영웅\n",
      "28 위:  잊었니 | 임영웅\n",
      "29 위:  Butter | 방탄소년단\n",
      "30 위:  Savage | aespa\n",
      "31 위:  Weekend | 태연 (TAEYEON)\n",
      "32 위:  너 아니면 안돼 | 먼데이 키즈 (Monday Kiz)\n",
      "33 위:  만남은 쉽고 이별은 어려워 (Feat. Leellamarz) (Prod. TOIL) | 베이식 (Basick)\n",
      "34 위:  HERO | 임영웅\n",
      "35 위:  드라마 | 아이유\n",
      "36 위:  끝사랑 | 임영웅\n",
      "37 위:  Dynamite | 방탄소년단\n",
      "38 위:  너를 생각해 | 주시크 (Joosiq)\n",
      "39 위:  Christmas Tree | V\n",
      "40 위:  RUN2U | STAYC(스테이씨)\n",
      "41 위:  Permission to Dance | 방탄소년단\n",
      "42 위:  노래 (The Song) | 비투비\n",
      "43 위:  OHAYO MY NIGHT | 디핵 (D-Hack)\n",
      "44 위:  서랍 | 10CM\n",
      "45 위:  My Universe | Coldplay\n",
      "46 위:  우리가 헤어져야 했던 이유 | 비비 (BIBI)\n",
      "47 위:  문득 | BE'O (비오)\n",
      "48 위:  Bk Love | 임영웅\n",
      "49 위:  바라만 본다 | MSG워너비(M.O.M)\n",
      "50 위:  흰눈 | 먼데이 키즈 (Monday Kiz)\n",
      "51 위:  언덕나무 | 이승윤\n",
      "52 위:  Celebrity | 아이유\n",
      "53 위:  라일락 | 아이유\n",
      "54 위:  낙하 (with 아이유) | AKMU (악뮤)\n",
      "55 위:  네가 없는 밤 (Feat. ASH ISLAND) (Prod. GRAY) | BE'O (비오)\n",
      "56 위:  밤하늘의 별을(2020) | 경서\n",
      "57 위:  Bad Habits | Ed Sheeran\n",
      "58 위:  사이렌 Remix (Feat. UNEDUCATED KID, Paul Blanco) | 호미들\n",
      "59 위:  그래서 그래 (Feat. 윤하) | 에픽하이 (EPIK HIGH)\n",
      "60 위:  헤픈 우연 | 헤이즈 (Heize)\n",
      "61 위:  불협화음 (Feat. AKMU) (Prod. GRAY) | Mudd the student\n",
      "62 위:  찰나가 영원이 될 때 (The Eternal Moment) | 마크툽 (MAKTUB)\n",
      "63 위:  계단말고 엘리베이터 | 임영웅\n",
      "64 위:  모든 날, 모든 순간 (Every day, Every Moment) | 폴킴\n",
      "65 위:  너의 모든 순간 | 성시경\n",
      "66 위:  쉬어 (Feat. MINO) (Prod. GRAY) | 아넌딜라이트(Anandelight)\n",
      "67 위:  어떻게 이별까지 사랑하겠어, 널 사랑하는 거지 | AKMU (악뮤)\n",
      "68 위:  Wake Up (Prod. 코드 쿤스트) | 개코\n",
      "69 위:  대낮에 한 이별 | 선예\n",
      "70 위:  내 손을 잡아 | 아이유\n",
      "71 위:  사랑이 아니었다고 말하지 마요 | 이예준\n",
      "72 위:  Off My Face | Justin Bieber\n",
      "73 위:  그게 더 편할 것 같아 (N번째 연애 X 멜로망스) | 멜로망스\n",
      "74 위:  고백 | 멜로망스\n",
      "75 위:  봄날 | 방탄소년단\n",
      "76 위:  Good Night (Feat. BE'O) | 쿠기 (Coogie)\n",
      "77 위:  강변북로 | 황인욱\n",
      "78 위:  사랑인가 봐 | 멜로망스\n",
      "79 위:  롤린 (Rollin') | 브레이브걸스\n",
      "80 위:  Blueming | 아이유\n",
      "81 위:  추억은 만남보다 이별에 남아 | 정동하\n",
      "82 위:  작은 것들을 위한 시 (Boy With Luv) (Feat. Halsey) | 방탄소년단\n",
      "83 위:  그런 밤 (Some Nights) | 태연 (TAEYEON)\n",
      "84 위:  Dun Dun Dance | 오마이걸 (OH MY GIRL)\n",
      "85 위:  밝게 빛나는 별이 되어 비춰줄게 | 송이한\n",
      "86 위:  오늘도 빛나는 너에게 (To You My Light) (Feat.이라온) | 마크툽 (MAKTUB)\n",
      "87 위:  취기를 빌려 (취향저격 그녀 X 산들) | 산들\n",
      "88 위:  Savage Love (Laxed - Siren Beat) (BTS Remix) | Jawsh 685\n",
      "89 위:  이별후회 | 김나영\n",
      "90 위:  Stay Alive (Prod. SUGA of BTS) | 정국\n",
      "91 위:  DM | 프로미스나인\n",
      "92 위:  Dilemma | Apink (에이핑크)\n",
      "93 위:  시간을 거슬러 (낮에 뜨는 달 X 케이윌) | 케이윌\n",
      "94 위:  Because | ASH ISLAND\n",
      "95 위:  그날에 나는 맘이 편했을까 | 이예준\n",
      "96 위:  비가 오는 날엔 (2021) | 헤이즈 (Heize)\n",
      "97 위:  Life Goes On | 방탄소년단\n",
      "98 위:  안녕 우린 헤어져야만 해 | 전상근\n",
      "99 위:  여름비 | 샘김 (Sam Kim)\n",
      "100 위:  멜로디 | ASH ISLAND\n"
>>>>>>> 94677759afae943ac4282fb427e20b22d1464f2a
     ]
    }
   ],
   "source": [
    "songs = soup.select('tr')[1:]\n",
    "\n",
    "i = int(0)\n",
    "for tag in songs:\n",
    "  \n",
    "    title = songs[i].select('div.ellipsis.rank01 > span > a')[0].text\n",
    "    singer = songs[i].select('div.ellipsis.rank02 > span > a')[0].text\n",
    "    print(i+1,\"위: \",title ,\"|\", singer)\n",
    "    i = i+1"
   ]
  },
  {
   "cell_type": "code",
<<<<<<< HEAD
   "execution_count": 65,
=======
   "execution_count": 181,
>>>>>>> 94677759afae943ac4282fb427e20b22d1464f2a
   "id": "6496082e",
   "metadata": {},
   "outputs": [
    {
     "data": {
      "text/plain": [
       "[['Melon', 1, 'INVU', '태연 (TAEYEON)'],\n",
       " ['Melon', 2, '사랑은 늘 도망가', '임영웅'],\n",
       " ['Melon', 3, '취중고백', '김민석 (멜로망스)'],\n",
       " ['Melon', 4, '언제나 사랑해', '케이시 (Kassy)'],\n",
       " ['Melon', 5, 'ELEVEN', 'IVE (아이브)'],\n",
       " ['Melon', 6, 'Step Back', 'GOT the beat'],\n",
       " ['Melon', 7, '회전목마 (Feat. Zion.T, 원슈타인) (Prod. Slom)', 'sokodomo'],\n",
<<<<<<< HEAD
       " ['Melon', 8, '호랑수월가', '탑현'],\n",
       " ['Melon', 9, '이제 나만 믿어요', '임영웅'],\n",
       " ['Melon', 10, 'SMILEY (Feat. BIBI)', 'YENA (최예나)'],\n",
       " ['Melon', 11, '다정히 내 이름을 부르면', '경서예지'],\n",
       " ['Melon', 12, '리무진 (Feat. MINO) (Prod. GRAY)', \"BE'O (비오)\"],\n",
       " ['Melon', 13, 'abcdefu', 'GAYLE'],\n",
       " ['Melon', 14, '너, 너 (N번째 연애 X 휘인 (Whee In))', '휘인 (Whee In)'],\n",
       " ['Melon', 15, '눈이 오잖아(Feat.헤이즈)', '이무진'],\n",
       " ['Melon', 16, 'Counting Stars (Feat. Beenzino)', \"BE'O (비오)\"],\n",
       " ['Melon', 17, '다시 사랑한다면 (김필 Ver.)', '임영웅'],\n",
       " ['Melon', 18, '별빛 같은 나의 사랑아', '임영웅'],\n",
       " ['Melon', 19, 'Dreams Come True', 'aespa'],\n",
       " ['Melon', 20, '그대라는 사치', '임영웅'],\n",
       " ['Melon', 21, '잊을 수 있을까', '노을'],\n",
       " ['Melon', 22, 'STAY', 'The Kid LAROI'],\n",
       " ['Melon', 23, '신호등', '이무진'],\n",
       " ['Melon', 24, \"Can't Control Myself\", '태연 (TAEYEON)'],\n",
       " ['Melon', 25, '잊었니', '임영웅'],\n",
       " ['Melon', 26, 'HERO', '임영웅'],\n",
       " ['Melon', 27, 'Next Level', 'aespa'],\n",
       " ['Melon', 28, 'strawberry moon', '아이유'],\n",
       " ['Melon', 29, '겨울잠', '아이유'],\n",
       " ['Melon', 30, '끝사랑', '임영웅'],\n",
       " ['Melon', 31, '너 아니면 안돼', '먼데이 키즈 (Monday Kiz)'],\n",
       " ['Melon', 32, '노래 (The Song)', '비투비'],\n",
       " ['Melon', 33, 'Bk Love', '임영웅'],\n",
       " ['Melon', 34, 'Butter', '방탄소년단'],\n",
       " ['Melon', 35, 'Savage', 'aespa'],\n",
       " ['Melon',\n",
       "  36,\n",
       "  '만남은 쉽고 이별은 어려워 (Feat. Leellamarz) (Prod. TOIL)',\n",
       "  '베이식 (Basick)'],\n",
       " ['Melon', 37, 'RUN2U', 'STAYC(스테이씨)'],\n",
       " ['Melon', 38, '드라마', '아이유'],\n",
       " ['Melon', 39, 'Dynamite', '방탄소년단'],\n",
       " ['Melon', 40, 'Christmas Tree', 'V'],\n",
       " ['Melon', 41, 'Weekend', '태연 (TAEYEON)'],\n",
       " ['Melon', 42, '그래서 그래 (Feat. 윤하)', '에픽하이 (EPIK HIGH)'],\n",
       " ['Melon', 43, '너를 생각해', '주시크 (Joosiq)'],\n",
       " ['Melon', 44, 'Permission to Dance', '방탄소년단'],\n",
       " ['Melon', 45, '계단말고 엘리베이터', '임영웅'],\n",
       " ['Melon', 46, 'OHAYO MY NIGHT', '디핵 (D-Hack)'],\n",
       " ['Melon', 47, '서랍', '10CM'],\n",
       " ['Melon', 48, '바라만 본다', 'MSG워너비(M.O.M)'],\n",
       " ['Melon', 49, '우리가 헤어져야 했던 이유', '비비 (BIBI)'],\n",
       " ['Melon', 50, 'My Universe', 'Coldplay'],\n",
       " ['Melon', 51, '언덕나무', '이승윤'],\n",
       " ['Melon', 52, '흰눈', '먼데이 키즈 (Monday Kiz)'],\n",
       " ['Melon', 53, '사랑인가 봐', '멜로망스'],\n",
       " ['Melon', 54, '문득', \"BE'O (비오)\"],\n",
       " ['Melon', 55, 'Celebrity', '아이유'],\n",
       " ['Melon', 56, '라일락', '아이유'],\n",
       " ['Melon', 57, '대낮에 한 이별', '선예'],\n",
       " ['Melon', 58, '낙하 (with 아이유)', 'AKMU (악뮤)'],\n",
       " ['Melon', 59, '밤하늘의 별을(2020)', '경서'],\n",
       " ['Melon', 60, '헤픈 우연', '헤이즈 (Heize)'],\n",
       " ['Melon', 61, '네가 없는 밤 (Feat. ASH ISLAND) (Prod. GRAY)', \"BE'O (비오)\"],\n",
       " ['Melon', 62, '사이렌 Remix (Feat. UNEDUCATED KID, Paul Blanco)', '호미들'],\n",
       " ['Melon', 63, 'Bad Habits', 'Ed Sheeran'],\n",
       " ['Melon', 64, '너의 모든 순간', '성시경'],\n",
       " ['Melon', 65, '찰나가 영원이 될 때 (The Eternal Moment)', '마크툽 (MAKTUB)'],\n",
       " ['Melon', 66, '그런 밤 (Some Nights)', '태연 (TAEYEON)'],\n",
       " ['Melon', 67, '불협화음 (Feat. AKMU) (Prod. GRAY)', 'Mudd the student'],\n",
       " ['Melon', 68, '모든 날, 모든 순간 (Every day, Every Moment)', '폴킴'],\n",
       " ['Melon', 69, '강변북로', '황인욱'],\n",
       " ['Melon', 70, '사랑이 아니었다고 말하지 마요', '이예준'],\n",
       " ['Melon', 71, '봄날', '방탄소년단'],\n",
       " ['Melon', 72, '어떻게 이별까지 사랑하겠어, 널 사랑하는 거지', 'AKMU (악뮤)'],\n",
       " ['Melon', 73, '내 손을 잡아', '아이유'],\n",
       " ['Melon', 74, '쉬어 (Feat. MINO) (Prod. GRAY)', '아넌딜라이트(Anandelight)'],\n",
       " ['Melon', 75, '그게 더 편할 것 같아 (N번째 연애 X 멜로망스)', '멜로망스'],\n",
       " ['Melon', 76, \"롤린 (Rollin')\", '브레이브걸스'],\n",
       " ['Melon', 77, 'Dilemma', 'Apink (에이핑크)'],\n",
       " ['Melon', 78, 'Wake Up (Prod. 코드 쿤스트)', '개코'],\n",
       " ['Melon', 79, 'Off My Face', 'Justin Bieber'],\n",
       " ['Melon', 80, '고백', '멜로망스'],\n",
       " ['Melon', 81, 'Blueming', '아이유'],\n",
       " ['Melon', 82, '작은 것들을 위한 시 (Boy With Luv) (Feat. Halsey)', '방탄소년단'],\n",
       " ['Melon', 83, \"Good Night (Feat. BE'O)\", '쿠기 (Coogie)'],\n",
       " ['Melon', 84, '겨울..그다음 봄', '로시 (Rothy)'],\n",
       " ['Melon', 85, 'Dun Dun Dance', '오마이걸 (OH MY GIRL)'],\n",
       " ['Melon', 86, 'Stay Alive (Prod. SUGA of BTS)', '정국'],\n",
       " ['Melon', 87, '추억은 만남보다 이별에 남아', '정동하'],\n",
       " ['Melon', 88, '오늘도 빛나는 너에게 (To You My Light) (Feat.이라온)', '마크툽 (MAKTUB)'],\n",
       " ['Melon', 89, '밝게 빛나는 별이 되어 비춰줄게', '송이한'],\n",
       " ['Melon', 90, '취기를 빌려 (취향저격 그녀 X 산들)', '산들'],\n",
       " ['Melon', 91, 'Savage Love (Laxed - Siren Beat) (BTS Remix)', 'Jawsh 685'],\n",
       " ['Melon', 92, 'DM', '프로미스나인'],\n",
       " ['Melon', 93, '그날에 나는 맘이 편했을까', '이예준'],\n",
       " ['Melon', 94, '시간을 거슬러 (낮에 뜨는 달 X 케이윌)', '케이윌'],\n",
       " ['Melon', 95, '이별후회', '김나영'],\n",
       " ['Melon', 96, 'Life Goes On', '방탄소년단'],\n",
       " ['Melon', 97, '비가 오는 날엔 (2021)', '헤이즈 (Heize)'],\n",
       " ['Melon', 98, 'Because', 'ASH ISLAND'],\n",
       " ['Melon', 99, '봄이 피어나', '비투비'],\n",
       " ['Melon', 100, '여름비', '샘김 (Sam Kim)']]"
      ]
     },
     "execution_count": 65,
=======
       " ['Melon', 8, 'SMILEY (Feat. BIBI)', 'YENA (최예나)'],\n",
       " ['Melon', 9, '호랑수월가', '탑현'],\n",
       " ['Melon', 10, '리무진 (Feat. MINO) (Prod. GRAY)', \"BE'O (비오)\"],\n",
       " ['Melon', 11, '다정히 내 이름을 부르면', '경서예지'],\n",
       " ['Melon', 12, 'abcdefu', 'GAYLE'],\n",
       " ['Melon', 13, '이제 나만 믿어요', '임영웅'],\n",
       " ['Melon', 14, '눈이 오잖아(Feat.헤이즈)', '이무진'],\n",
       " ['Melon', 15, 'Counting Stars (Feat. Beenzino)', \"BE'O (비오)\"],\n",
       " ['Melon', 16, '너, 너 (N번째 연애 X 휘인 (Whee In))', '휘인 (Whee In)'],\n",
       " ['Melon', 17, 'Dreams Come True', 'aespa'],\n",
       " ['Melon', 18, 'STAY', 'The Kid LAROI'],\n",
       " ['Melon', 19, \"Can't Control Myself\", '태연 (TAEYEON)'],\n",
       " ['Melon', 20, '다시 사랑한다면 (김필 Ver.)', '임영웅'],\n",
       " ['Melon', 21, '신호등', '이무진'],\n",
       " ['Melon', 22, 'Next Level', 'aespa'],\n",
       " ['Melon', 23, 'strawberry moon', '아이유'],\n",
       " ['Melon', 24, '그대라는 사치', '임영웅'],\n",
       " ['Melon', 25, '겨울잠', '아이유'],\n",
       " ['Melon', 26, '잊을 수 있을까', '노을'],\n",
       " ['Melon', 27, '별빛 같은 나의 사랑아', '임영웅'],\n",
       " ['Melon', 28, '잊었니', '임영웅'],\n",
       " ['Melon', 29, 'Butter', '방탄소년단'],\n",
       " ['Melon', 30, 'Savage', 'aespa'],\n",
       " ['Melon', 31, 'Weekend', '태연 (TAEYEON)'],\n",
       " ['Melon', 32, '너 아니면 안돼', '먼데이 키즈 (Monday Kiz)'],\n",
       " ['Melon',\n",
       "  33,\n",
       "  '만남은 쉽고 이별은 어려워 (Feat. Leellamarz) (Prod. TOIL)',\n",
       "  '베이식 (Basick)'],\n",
       " ['Melon', 34, 'HERO', '임영웅'],\n",
       " ['Melon', 35, '드라마', '아이유'],\n",
       " ['Melon', 36, '끝사랑', '임영웅'],\n",
       " ['Melon', 37, 'Dynamite', '방탄소년단'],\n",
       " ['Melon', 38, '너를 생각해', '주시크 (Joosiq)'],\n",
       " ['Melon', 39, 'Christmas Tree', 'V'],\n",
       " ['Melon', 40, 'RUN2U', 'STAYC(스테이씨)'],\n",
       " ['Melon', 41, 'Permission to Dance', '방탄소년단'],\n",
       " ['Melon', 42, '노래 (The Song)', '비투비'],\n",
       " ['Melon', 43, 'OHAYO MY NIGHT', '디핵 (D-Hack)'],\n",
       " ['Melon', 44, '서랍', '10CM'],\n",
       " ['Melon', 45, 'My Universe', 'Coldplay'],\n",
       " ['Melon', 46, '우리가 헤어져야 했던 이유', '비비 (BIBI)'],\n",
       " ['Melon', 47, '문득', \"BE'O (비오)\"],\n",
       " ['Melon', 48, 'Bk Love', '임영웅'],\n",
       " ['Melon', 49, '바라만 본다', 'MSG워너비(M.O.M)'],\n",
       " ['Melon', 50, '흰눈', '먼데이 키즈 (Monday Kiz)'],\n",
       " ['Melon', 51, '언덕나무', '이승윤'],\n",
       " ['Melon', 52, 'Celebrity', '아이유'],\n",
       " ['Melon', 53, '라일락', '아이유'],\n",
       " ['Melon', 54, '낙하 (with 아이유)', 'AKMU (악뮤)'],\n",
       " ['Melon', 55, '네가 없는 밤 (Feat. ASH ISLAND) (Prod. GRAY)', \"BE'O (비오)\"],\n",
       " ['Melon', 56, '밤하늘의 별을(2020)', '경서'],\n",
       " ['Melon', 57, 'Bad Habits', 'Ed Sheeran'],\n",
       " ['Melon', 58, '사이렌 Remix (Feat. UNEDUCATED KID, Paul Blanco)', '호미들'],\n",
       " ['Melon', 59, '그래서 그래 (Feat. 윤하)', '에픽하이 (EPIK HIGH)'],\n",
       " ['Melon', 60, '헤픈 우연', '헤이즈 (Heize)'],\n",
       " ['Melon', 61, '불협화음 (Feat. AKMU) (Prod. GRAY)', 'Mudd the student'],\n",
       " ['Melon', 62, '찰나가 영원이 될 때 (The Eternal Moment)', '마크툽 (MAKTUB)'],\n",
       " ['Melon', 63, '계단말고 엘리베이터', '임영웅'],\n",
       " ['Melon', 64, '모든 날, 모든 순간 (Every day, Every Moment)', '폴킴'],\n",
       " ['Melon', 65, '너의 모든 순간', '성시경'],\n",
       " ['Melon', 66, '쉬어 (Feat. MINO) (Prod. GRAY)', '아넌딜라이트(Anandelight)'],\n",
       " ['Melon', 67, '어떻게 이별까지 사랑하겠어, 널 사랑하는 거지', 'AKMU (악뮤)'],\n",
       " ['Melon', 68, 'Wake Up (Prod. 코드 쿤스트)', '개코'],\n",
       " ['Melon', 69, '대낮에 한 이별', '선예'],\n",
       " ['Melon', 70, '내 손을 잡아', '아이유'],\n",
       " ['Melon', 71, '사랑이 아니었다고 말하지 마요', '이예준'],\n",
       " ['Melon', 72, 'Off My Face', 'Justin Bieber'],\n",
       " ['Melon', 73, '그게 더 편할 것 같아 (N번째 연애 X 멜로망스)', '멜로망스'],\n",
       " ['Melon', 74, '고백', '멜로망스'],\n",
       " ['Melon', 75, '봄날', '방탄소년단'],\n",
       " ['Melon', 76, \"Good Night (Feat. BE'O)\", '쿠기 (Coogie)'],\n",
       " ['Melon', 77, '강변북로', '황인욱'],\n",
       " ['Melon', 78, '사랑인가 봐', '멜로망스'],\n",
       " ['Melon', 79, \"롤린 (Rollin')\", '브레이브걸스'],\n",
       " ['Melon', 80, 'Blueming', '아이유'],\n",
       " ['Melon', 81, '추억은 만남보다 이별에 남아', '정동하'],\n",
       " ['Melon', 82, '작은 것들을 위한 시 (Boy With Luv) (Feat. Halsey)', '방탄소년단'],\n",
       " ['Melon', 83, '그런 밤 (Some Nights)', '태연 (TAEYEON)'],\n",
       " ['Melon', 84, 'Dun Dun Dance', '오마이걸 (OH MY GIRL)'],\n",
       " ['Melon', 85, '밝게 빛나는 별이 되어 비춰줄게', '송이한'],\n",
       " ['Melon', 86, '오늘도 빛나는 너에게 (To You My Light) (Feat.이라온)', '마크툽 (MAKTUB)'],\n",
       " ['Melon', 87, '취기를 빌려 (취향저격 그녀 X 산들)', '산들'],\n",
       " ['Melon', 88, 'Savage Love (Laxed - Siren Beat) (BTS Remix)', 'Jawsh 685'],\n",
       " ['Melon', 89, '이별후회', '김나영'],\n",
       " ['Melon', 90, 'Stay Alive (Prod. SUGA of BTS)', '정국'],\n",
       " ['Melon', 91, 'DM', '프로미스나인'],\n",
       " ['Melon', 92, 'Dilemma', 'Apink (에이핑크)'],\n",
       " ['Melon', 93, '시간을 거슬러 (낮에 뜨는 달 X 케이윌)', '케이윌'],\n",
       " ['Melon', 94, 'Because', 'ASH ISLAND'],\n",
       " ['Melon', 95, '그날에 나는 맘이 편했을까', '이예준'],\n",
       " ['Melon', 96, '비가 오는 날엔 (2021)', '헤이즈 (Heize)'],\n",
       " ['Melon', 97, 'Life Goes On', '방탄소년단'],\n",
       " ['Melon', 98, '안녕 우린 헤어져야만 해', '전상근'],\n",
       " ['Melon', 99, '여름비', '샘김 (Sam Kim)'],\n",
       " ['Melon', 100, '멜로디', 'ASH ISLAND']]"
      ]
     },
     "execution_count": 181,
>>>>>>> 94677759afae943ac4282fb427e20b22d1464f2a
     "metadata": {},
     "output_type": "execute_result"
    }
   ],
   "source": [
    "song_data = []\n",
    "rank = 1\n",
    "songs = soup.select('table > tbody > tr')\n",
    "for song in songs:\n",
    "    title = song.select('div.ellipsis.rank01 > span > a')[0].text\n",
    "    singer = song.select('div.ellipsis.rank02 > span > a')[0].text\n",
    "    song_data.append([\"Melon\",rank,title,singer])\n",
    "    rank = rank + 1\n",
    "song_data"
   ]
  },
  {
   "cell_type": "code",
<<<<<<< HEAD
   "execution_count": 66,
=======
   "execution_count": 183,
>>>>>>> 94677759afae943ac4282fb427e20b22d1464f2a
   "id": "46e38f02",
   "metadata": {},
   "outputs": [
    {
     "data": {
      "text/html": [
       "<div>\n",
       "<style scoped>\n",
       "    .dataframe tbody tr th:only-of-type {\n",
       "        vertical-align: middle;\n",
       "    }\n",
       "\n",
       "    .dataframe tbody tr th {\n",
       "        vertical-align: top;\n",
       "    }\n",
       "\n",
       "    .dataframe thead th {\n",
       "        text-align: right;\n",
       "    }\n",
       "</style>\n",
       "<table border=\"1\" class=\"dataframe\">\n",
       "  <thead>\n",
       "    <tr style=\"text-align: right;\">\n",
       "      <th></th>\n",
       "      <th>서비스</th>\n",
       "      <th>순위</th>\n",
       "      <th>타이틀</th>\n",
       "      <th>가수</th>\n",
       "    </tr>\n",
       "  </thead>\n",
       "  <tbody>\n",
       "    <tr>\n",
       "      <th>0</th>\n",
       "      <td>Melon</td>\n",
       "      <td>1</td>\n",
       "      <td>INVU</td>\n",
       "      <td>태연 (TAEYEON)</td>\n",
       "    </tr>\n",
       "    <tr>\n",
       "      <th>1</th>\n",
       "      <td>Melon</td>\n",
       "      <td>2</td>\n",
       "      <td>사랑은 늘 도망가</td>\n",
       "      <td>임영웅</td>\n",
       "    </tr>\n",
       "    <tr>\n",
       "      <th>2</th>\n",
       "      <td>Melon</td>\n",
       "      <td>3</td>\n",
       "      <td>취중고백</td>\n",
       "      <td>김민석 (멜로망스)</td>\n",
       "    </tr>\n",
       "    <tr>\n",
       "      <th>3</th>\n",
       "      <td>Melon</td>\n",
       "      <td>4</td>\n",
       "      <td>언제나 사랑해</td>\n",
       "      <td>케이시 (Kassy)</td>\n",
       "    </tr>\n",
       "    <tr>\n",
       "      <th>4</th>\n",
       "      <td>Melon</td>\n",
       "      <td>5</td>\n",
       "      <td>ELEVEN</td>\n",
       "      <td>IVE (아이브)</td>\n",
       "    </tr>\n",
       "  </tbody>\n",
       "</table>\n",
       "</div>"
      ],
      "text/plain": [
       "     서비스  순위        타이틀            가수\n",
       "0  Melon   1       INVU  태연 (TAEYEON)\n",
       "1  Melon   2  사랑은 늘 도망가           임영웅\n",
       "2  Melon   3       취중고백    김민석 (멜로망스)\n",
       "3  Melon   4    언제나 사랑해   케이시 (Kassy)\n",
       "4  Melon   5     ELEVEN     IVE (아이브)"
      ]
     },
<<<<<<< HEAD
     "execution_count": 66,
=======
     "execution_count": 183,
>>>>>>> 94677759afae943ac4282fb427e20b22d1464f2a
     "metadata": {},
     "output_type": "execute_result"
    }
   ],
   "source": [
    "columns = ['서비스','순위','타이틀','가수']\n",
    "pd_data = pd.DataFrame(song_data,columns = columns)\n",
    "pd_data.head()"
   ]
  },
  {
   "cell_type": "code",
<<<<<<< HEAD
   "execution_count": 67,
=======
   "execution_count": 184,
>>>>>>> 94677759afae943ac4282fb427e20b22d1464f2a
   "id": "0b59abc0",
   "metadata": {},
   "outputs": [],
   "source": [
    "pd_data.to_excel('./files/melon.xlsx', index=False)"
   ]
  },
  {
   "cell_type": "code",
<<<<<<< HEAD
   "execution_count": 68,
=======
   "execution_count": 185,
>>>>>>> 94677759afae943ac4282fb427e20b22d1464f2a
   "id": "ae981980",
   "metadata": {},
   "outputs": [],
   "source": [
    "url = \"https://music.bugs.co.kr/chart\"\n",
    "driver.get(url)"
   ]
  },
  {
   "cell_type": "code",
<<<<<<< HEAD
   "execution_count": 69,
=======
   "execution_count": 331,
>>>>>>> 94677759afae943ac4282fb427e20b22d1464f2a
   "id": "3dc6eb85",
   "metadata": {},
   "outputs": [],
   "source": [
    "html = driver.page_source\n",
    "soup = BeautifulSoup(html, 'html.parser')"
   ]
  },
  {
   "cell_type": "code",
<<<<<<< HEAD
   "execution_count": 70,
=======
   "execution_count": 334,
>>>>>>> 94677759afae943ac4282fb427e20b22d1464f2a
   "id": "202518c5",
   "metadata": {
    "scrolled": true
   },
   "outputs": [
    {
     "name": "stdout",
     "output_type": "stream",
     "text": [
<<<<<<< HEAD
      "103\n"
     ]
    }
   ],
   "source": [
    "songs = soup.select('tbody tr')\n",
    "print(len(songs))"
   ]
  },
  {
   "cell_type": "code",
   "execution_count": 71,
   "id": "b7b5e6f2",
   "metadata": {},
   "outputs": [
    {
     "name": "stdout",
     "output_type": "stream",
     "text": [
      "100\n"
     ]
    }
   ],
   "source": [
    "songs = soup.select('table.list.trackList.byChart > tbody tr')\n",
    "print(len(songs))"
   ]
  },
  {
   "cell_type": "code",
   "execution_count": 72,
   "id": "bbf5f3d3",
   "metadata": {
    "scrolled": true
   },
   "outputs": [
    {
     "data": {
      "text/plain": [
       "<tr albumid=\"4071446\" artistid=\"80123427\" multiartist=\"N\" mvid=\"606410\" rowtype=\"track\" trackid=\"6147824\">\n",
       "<input name=\"_isStream\" type=\"hidden\" value=\"6147824\"/>\n",
       "<input name=\"_isDown\" type=\"hidden\" value=\"6147824\"/>\n",
       "<td class=\"check\"><input buyminquality=\"T\" disc_id=\"1\" name=\"check\" title=\"노래 (The Song)\" type=\"checkbox\" value=\"6147824\"/></td>\n",
       "<td>\n",
       "<div class=\"ranking\">\n",
       "<strong>1</strong>\n",
       "<p class=\"change none\"><em>0</em><span>변동없음</span></p>\n",
       "</div>\n",
       "</td>\n",
       "<td>\n",
       "<a class=\"thumbnail\" href=\"https://music.bugs.co.kr/album/4071446?wl_ref=list_tr_07_chart\" onclick=\"\n",
       "\">\n",
       "<span class=\"mask\"></span>\n",
       "<img alt=\"Be Together 대표이미지\" onerror=\"bugs.utils.imgError(this);\" src=\"https://image.bugsm.co.kr/album/images/50/40714/4071446.jpg?version=20220222063712.0\"/>\n",
       "</a>\n",
       "</td>\n",
       "<td>\n",
       "<a class=\"trackInfo\" href=\"https://music.bugs.co.kr/track/6147824?wl_ref=list_tr_08_chart\" onclick=\"\n",
       "\">곡정보</a>\n",
       "</td>\n",
       "<th scope=\"row\">\n",
       "<p adult_yn=\"N\" class=\"title\">\n",
       "<a adultcheckval=\"1\" aria-label=\"새창\" href=\"javascript:;\" onclick=\"bugs.wiselog.area('list_tr_09_chart');bugs.music.listen('6147824',true);\n",
       "\" title=\"노래 (The Song)\">노래 (The Song)</a>\n",
       "</p>\n",
       "</th>\n",
       "<td class=\"left\">\n",
       "<p class=\"artist\">\n",
       "<a href=\"https://music.bugs.co.kr/artist/80123427?wl_ref=list_tr_10_chart\" onclick=\"\n",
       "\" title=\"비투비\">비투비</a>\n",
       "</p>\n",
       "</td>\n",
       "<td class=\"left\">\n",
       "<a class=\"album\" href=\"https://music.bugs.co.kr/album/4071446?wl_ref=list_tr_11_chart\" onclick=\"\n",
       "\" title=\"Be Together\">Be Together</a>\n",
       "</td>\n",
       "<td>\n",
       "<a adultcheckval=\"1\" aria-label=\"새창\" class=\"btn play\" href=\"javascript:;\" onclick=\"bugs.wiselog.area('list_tr_12_chart');bugs.music.listen('6147824',true);\n",
       "\">듣기</a>\n",
       "</td>\n",
       "<td>\n",
       "<a adultcheckval=\"1\" aria-label=\"새창\" class=\"btn addPlaylist\" href=\"javascript:;\" onclick=\"bugs.wiselog.area('list_tr_13_chart');bugs.music.listen('6147824');\n",
       "\">재생목록에 추가</a>\n",
       "</td>\n",
       "<td>\n",
       "<a class=\"btn addAlbum\" href=\"javascript:;\" onclick=\"bugs.wiselog.area('list_tr_14_chart');bugs.music.addTrackToMyAlbum(this,'6147824');\n",
       "\" track_title=\"노래 (The Song)\">내 앨범에 담기</a>\n",
       "</td>\n",
       "<td>\n",
       "<a adultcheckval=\"1\" aria-label=\"새창\" class=\"btn download flac\" href=\"javascript:;\" onclick=\"bugs.wiselog.area('list_tr_15_chart');bugs.layermenu.down(this,'6147824','true','true','44.1','true','96', null );\n",
       "\"><em class=\"flac\">flac </em>다운로드</a>\n",
       "</td>\n",
       "<td>\n",
       "<a aria-label=\"새창\" class=\"btn viewMV\" href=\"javascript:;\" onclick=\"bugs.wiselog.area('list_tr_16_chart');\n",
       "bugs.layermenu.mv(this,6147824, 606410, 'Y', 'Y', 'Y', 'Y', 6147824, 'N','ALL', 'Y');\n",
       "\">영상 재생</a>\n",
       "</td>\n",
       "<td>\n",
       "<a artist_disp_nm=\"비투비\" artist_id=\"80123427\" class=\"btnActions\" href=\"javascript:;\" layer_type=\"CHART\" layerpositiontarget=\"td\" onclick=\"bugs.wiselog.area('list_tr_17_chart');\n",
       "bugs.layermenu.trackMoreAction(this,'6147824','0','4071446','bugs.music.listenRadioFromSeed(\\'6147824\\',\\'track\\');','N', 'Y', '_chart');\n",
       "\" track_title=\"노래 (The Song)\">기타 기능</a>\n",
       "</td>\n",
       "</tr>"
      ]
     },
     "execution_count": 72,
     "metadata": {},
     "output_type": "execute_result"
    }
   ],
   "source": [
    "songs[0]"
   ]
  },
  {
   "cell_type": "code",
   "execution_count": 73,
   "id": "a6b3668b",
   "metadata": {},
   "outputs": [
    {
     "data": {
      "text/plain": [
       "<tr albumid=\"4071446\" artistid=\"80123427\" multiartist=\"N\" mvid=\"606410\" rowtype=\"track\" trackid=\"6147824\">\n",
       "<input name=\"_isStream\" type=\"hidden\" value=\"6147824\"/>\n",
       "<input name=\"_isDown\" type=\"hidden\" value=\"6147824\"/>\n",
       "<td class=\"check\"><input buyminquality=\"T\" disc_id=\"1\" name=\"check\" title=\"노래 (The Song)\" type=\"checkbox\" value=\"6147824\"/></td>\n",
       "<td>\n",
       "<div class=\"ranking\">\n",
       "<strong>1</strong>\n",
       "<p class=\"change none\"><em>0</em><span>변동없음</span></p>\n",
       "</div>\n",
       "</td>\n",
       "<td>\n",
       "<a class=\"thumbnail\" href=\"https://music.bugs.co.kr/album/4071446?wl_ref=list_tr_07_chart\" onclick=\"\n",
       "\">\n",
       "<span class=\"mask\"></span>\n",
       "<img alt=\"Be Together 대표이미지\" onerror=\"bugs.utils.imgError(this);\" src=\"https://image.bugsm.co.kr/album/images/50/40714/4071446.jpg?version=20220222063712.0\"/>\n",
       "</a>\n",
       "</td>\n",
       "<td>\n",
       "<a class=\"trackInfo\" href=\"https://music.bugs.co.kr/track/6147824?wl_ref=list_tr_08_chart\" onclick=\"\n",
       "\">곡정보</a>\n",
       "</td>\n",
       "<th scope=\"row\">\n",
       "<p adult_yn=\"N\" class=\"title\">\n",
       "<a adultcheckval=\"1\" aria-label=\"새창\" href=\"javascript:;\" onclick=\"bugs.wiselog.area('list_tr_09_chart');bugs.music.listen('6147824',true);\n",
       "\" title=\"노래 (The Song)\">노래 (The Song)</a>\n",
       "</p>\n",
       "</th>\n",
       "<td class=\"left\">\n",
       "<p class=\"artist\">\n",
       "<a href=\"https://music.bugs.co.kr/artist/80123427?wl_ref=list_tr_10_chart\" onclick=\"\n",
       "\" title=\"비투비\">비투비</a>\n",
       "</p>\n",
       "</td>\n",
       "<td class=\"left\">\n",
       "<a class=\"album\" href=\"https://music.bugs.co.kr/album/4071446?wl_ref=list_tr_11_chart\" onclick=\"\n",
       "\" title=\"Be Together\">Be Together</a>\n",
       "</td>\n",
       "<td>\n",
       "<a adultcheckval=\"1\" aria-label=\"새창\" class=\"btn play\" href=\"javascript:;\" onclick=\"bugs.wiselog.area('list_tr_12_chart');bugs.music.listen('6147824',true);\n",
       "\">듣기</a>\n",
       "</td>\n",
       "<td>\n",
       "<a adultcheckval=\"1\" aria-label=\"새창\" class=\"btn addPlaylist\" href=\"javascript:;\" onclick=\"bugs.wiselog.area('list_tr_13_chart');bugs.music.listen('6147824');\n",
       "\">재생목록에 추가</a>\n",
       "</td>\n",
       "<td>\n",
       "<a class=\"btn addAlbum\" href=\"javascript:;\" onclick=\"bugs.wiselog.area('list_tr_14_chart');bugs.music.addTrackToMyAlbum(this,'6147824');\n",
       "\" track_title=\"노래 (The Song)\">내 앨범에 담기</a>\n",
       "</td>\n",
       "<td>\n",
       "<a adultcheckval=\"1\" aria-label=\"새창\" class=\"btn download flac\" href=\"javascript:;\" onclick=\"bugs.wiselog.area('list_tr_15_chart');bugs.layermenu.down(this,'6147824','true','true','44.1','true','96', null );\n",
       "\"><em class=\"flac\">flac </em>다운로드</a>\n",
       "</td>\n",
       "<td>\n",
       "<a aria-label=\"새창\" class=\"btn viewMV\" href=\"javascript:;\" onclick=\"bugs.wiselog.area('list_tr_16_chart');\n",
       "bugs.layermenu.mv(this,6147824, 606410, 'Y', 'Y', 'Y', 'Y', 6147824, 'N','ALL', 'Y');\n",
       "\">영상 재생</a>\n",
       "</td>\n",
       "<td>\n",
       "<a artist_disp_nm=\"비투비\" artist_id=\"80123427\" class=\"btnActions\" href=\"javascript:;\" layer_type=\"CHART\" layerpositiontarget=\"td\" onclick=\"bugs.wiselog.area('list_tr_17_chart');\n",
       "bugs.layermenu.trackMoreAction(this,'6147824','0','4071446','bugs.music.listenRadioFromSeed(\\'6147824\\',\\'track\\');','N', 'Y', '_chart');\n",
       "\" track_title=\"노래 (The Song)\">기타 기능</a>\n",
       "</td>\n",
       "</tr>"
      ]
     },
     "execution_count": 73,
     "metadata": {},
     "output_type": "execute_result"
    }
   ],
   "source": [
    "song = songs[0]\n",
    "song"
   ]
  },
  {
   "cell_type": "code",
   "execution_count": 75,
   "id": "0af2f39e",
   "metadata": {},
   "outputs": [
    {
     "data": {
      "text/plain": [
       "'노래 (The Song)'"
      ]
     },
     "execution_count": 75,
     "metadata": {},
     "output_type": "execute_result"
    }
   ],
   "source": [
    "title = song.select('p.title > a')[0].text\n",
    "title\n"
   ]
  },
  {
   "cell_type": "code",
   "execution_count": 76,
   "id": "68002e1f",
   "metadata": {},
   "outputs": [
    {
     "data": {
      "text/plain": [
       "'비투비'"
      ]
     },
     "execution_count": 76,
     "metadata": {},
     "output_type": "execute_result"
    }
   ],
   "source": [
    "singer = song.select('p.artist > a')[0].text.strip()\n",
    "singer"
   ]
  },
  {
   "cell_type": "code",
   "execution_count": 77,
   "id": "f878d084",
   "metadata": {},
   "outputs": [
    {
     "name": "stdout",
     "output_type": "stream",
     "text": [
      "노래 (The Song)  |  비투비\n",
      "봄이 피어나  |  비투비\n",
      "우리 (Be Together)  |  비투비\n",
      "Thank You  |  비투비\n",
      "춤 (Dance With Me)  |  비투비\n",
      "INVU  |  태연 (TAEYEON)\n",
      "RUN2U  |  STAYC(스테이씨)\n",
      "직진 (JIKJIN)  |  TREASURE(트레저)\n",
      "U  |  TREASURE(트레저)\n",
      "다라리 (DARARI)  |  TREASURE(트레저)\n",
      "Stronger (What Doesn't Kill You)  |  Kelly Clarkson(켈리 클락슨)\n",
      "겨울..그다음 봄  |  로시(Rothy)\n",
      "괜찮아질 거야 (IT'S OKAY)  |  TREASURE(트레저)\n",
      "ELEVEN  |  IVE (아이브)\n",
      "SMILEY (Feat. BIBI)  |  YENA (최예나)\n",
      "그래서 그래 (Feat. 윤하)  |  에픽하이 (EPIK HIGH)\n",
      "나랑 있자 (BE WITH ME)  |  TREASURE(트레저)\n",
      "abcdefu  |  GAYLE\n",
      "Can't Control Myself  |  태연 (TAEYEON)\n",
      "그런 밤 (Some Nights)  |  태연 (TAEYEON)\n",
      "Step Back  |  GOT the beat\n",
      "취중고백  |  김민석 (멜로망스)\n",
      "사랑은 늘 도망가  |  임영웅\n",
      "언제나 사랑해  |  케이시\n",
      "드라마  |  아이유(IU)\n",
      "Dreams Come True  |  aespa\n",
      "눈이 오잖아(Feat.헤이즈)  |  이무진\n",
      "어른아이 (Toddler)  |  태연 (TAEYEON)\n",
      "서랍  |  10CM\n",
      "STAY  |  The Kid LAROI\n",
      "신호등  |  이무진\n",
      "strawberry moon  |  아이유(IU)\n",
      "Next Level  |  aespa\n",
      "회전목마 (Feat. Zion.T, 원슈타인) (Prod. Slom)  |  sokodomo\n",
      "겨울잠  |  아이유(IU)\n",
      "BOP BOP!  |  VIVIZ (비비지)\n",
      "우리가 헤어져야 했던 이유  |  비비(BIBI)\n",
      "그날들  |  김기태\n",
      "Weekend  |  태연 (TAEYEON)\n",
      "Dynamite  |  방탄소년단\n",
      "Set Myself On Fire  |  태연 (TAEYEON)\n",
      "다정히 내 이름을 부르면  |  경서예지\n",
      "잊을 수 있을까  |  노을\n",
      "Light Switch  |  Charlie Puth(찰리 푸스)\n",
      "DM  |  프로미스나인\n",
      "Siren  |  태연 (TAEYEON)\n",
      "대낮에 한 이별  |  선예\n",
      "Timeless  |  태연 (TAEYEON)\n",
      "낙하 (with 아이유)  |  AKMU(악뮤)\n",
      "Savage  |  aespa\n",
      "Counting Stars (Feat. Beenzino)  |  BE'O (비오)\n",
      "Butter  |  방탄소년단\n",
      "너무 아픈 사랑은 사랑이 아니었음을  |  김기태\n",
      "WA DA DA  |  Kep1er (케플러)\n",
      "호랑수월가  |  탑현\n",
      "바라만 본다  |  MSG워너비(M.O.M)\n",
      "너 아니면 안돼  |  먼데이 키즈(Monday Kiz)\n",
      "Permission to Dance  |  방탄소년단\n",
      "Christmas Tree  |  V\n",
      "O.O  |  NMIXX\n",
      "아무렇지 않은 척  |  빅마마(Big Mama)\n",
      "Dilemma  |  Apink (에이핑크)\n",
      "여름비  |  샘김(Sam Kim)\n",
      "문득  |  BE'O (비오)\n",
      "라일락  |  아이유(IU)\n",
      "Celebrity  |  아이유(IU)\n",
      "리무진 (Feat. MINO) (Prod. GRAY)  |  BE'O (비오)\n",
      "You Better Not  |  태연 (TAEYEON)\n",
      "Cold As Hell  |  태연 (TAEYEON)\n",
      "너, 너 (N번째 연애 X 휘인 (Whee In))  |  휘인(Whee In)\n",
      "My Universe  |  Coldplay(콜드플레이)\n",
      "만남은 쉽고 이별은 어려워 (Feat. Leellamarz) (Prod. TOIL)  |  베이식(Basick)\n",
      "Peaches (feat. Daniel Caesar, Giveon)  |  Justin Bieber(저스틴 비버)\n",
      "품 (Heart)  |  태연 (TAEYEON)\n",
      "No Love Again  |  태연 (TAEYEON)\n",
      "너의 모든 순간  |  성시경\n",
      "사랑인가 봐  |  멜로망스(MeloMance)\n",
      "습관  |  WH3N(웬)\n",
      "Tiny Riot  |  Sam Ryder\n",
      "너를 생각해  |  주시크 (Joosiq)\n",
      "Bad Habits  |  Ed Sheeran(에드 시런)\n",
      "라일락이 질 때  |  이주혁\n",
      "OHAYO MY NIGHT  |  디핵(D-Hack)\n",
      "별빛 같은 나의 사랑아  |  임영웅\n",
      "ASAP  |  STAYC(스테이씨)\n",
      "Off My Face  |  Justin Bieber(저스틴 비버)\n",
      "헤픈 우연  |  헤이즈(Heize)\n",
      "모든 날, 모든 순간 (Every day, Every Moment)  |  폴킴(Paul Kim)\n",
      "흰눈  |  먼데이 키즈(Monday Kiz)\n",
      "이제 나만 믿어요  |  임영웅\n",
      "고백  |  멜로망스(MeloMance)\n",
      "Still I Love You  |  토요태\n",
      "이별후회  |  김나영\n",
      "Ending Credits  |  태연 (TAEYEON)\n",
      "Satellite  |  수지\n",
      "아주, 천천히  |  비비(BIBI)\n",
      "흔들리는 꽃들 속에서 네 샴푸향이 느껴진거야  |  장범준\n",
      "Queendom  |  Red Velvet (레드벨벳)\n",
      "Polaroid Love  |  ENHYPEN\n",
      "Blueming  |  아이유(IU)\n"
     ]
    },
    {
     "data": {
      "text/plain": [
       "[['Bugs', 1, '노래 (The Song)', '비투비'],\n",
       " ['Bugs', 2, '봄이 피어나', '비투비'],\n",
       " ['Bugs', 3, '우리 (Be Together)', '비투비'],\n",
       " ['Bugs', 4, 'Thank You', '비투비'],\n",
       " ['Bugs', 5, '춤 (Dance With Me)', '비투비'],\n",
       " ['Bugs', 6, 'INVU', '태연 (TAEYEON)'],\n",
       " ['Bugs', 7, 'RUN2U', 'STAYC(스테이씨)'],\n",
       " ['Bugs', 8, '직진 (JIKJIN)', 'TREASURE(트레저)'],\n",
       " ['Bugs', 9, 'U', 'TREASURE(트레저)'],\n",
       " ['Bugs', 10, '다라리 (DARARI)', 'TREASURE(트레저)'],\n",
       " ['Bugs', 11, \"Stronger (What Doesn't Kill You)\", 'Kelly Clarkson(켈리 클락슨)'],\n",
       " ['Bugs', 12, '겨울..그다음 봄', '로시(Rothy)'],\n",
       " ['Bugs', 13, \"괜찮아질 거야 (IT'S OKAY)\", 'TREASURE(트레저)'],\n",
       " ['Bugs', 14, 'ELEVEN', 'IVE (아이브)'],\n",
       " ['Bugs', 15, 'SMILEY (Feat. BIBI)', 'YENA (최예나)'],\n",
       " ['Bugs', 16, '그래서 그래 (Feat. 윤하)', '에픽하이 (EPIK HIGH)'],\n",
       " ['Bugs', 17, '나랑 있자 (BE WITH ME)', 'TREASURE(트레저)'],\n",
       " ['Bugs', 18, 'abcdefu', 'GAYLE'],\n",
       " ['Bugs', 19, \"Can't Control Myself\", '태연 (TAEYEON)'],\n",
       " ['Bugs', 20, '그런 밤 (Some Nights)', '태연 (TAEYEON)'],\n",
       " ['Bugs', 21, 'Step Back', 'GOT the beat'],\n",
       " ['Bugs', 22, '취중고백', '김민석 (멜로망스)'],\n",
       " ['Bugs', 23, '사랑은 늘 도망가', '임영웅'],\n",
       " ['Bugs', 24, '언제나 사랑해', '케이시'],\n",
       " ['Bugs', 25, '드라마', '아이유(IU)'],\n",
       " ['Bugs', 26, 'Dreams Come True', 'aespa'],\n",
       " ['Bugs', 27, '눈이 오잖아(Feat.헤이즈)', '이무진'],\n",
       " ['Bugs', 28, '어른아이 (Toddler)', '태연 (TAEYEON)'],\n",
       " ['Bugs', 29, '서랍', '10CM'],\n",
       " ['Bugs', 30, 'STAY', 'The Kid LAROI'],\n",
       " ['Bugs', 31, '신호등', '이무진'],\n",
       " ['Bugs', 32, 'strawberry moon', '아이유(IU)'],\n",
       " ['Bugs', 33, 'Next Level', 'aespa'],\n",
       " ['Bugs', 34, '회전목마 (Feat. Zion.T, 원슈타인) (Prod. Slom)', 'sokodomo'],\n",
       " ['Bugs', 35, '겨울잠', '아이유(IU)'],\n",
       " ['Bugs', 36, 'BOP BOP!', 'VIVIZ (비비지)'],\n",
       " ['Bugs', 37, '우리가 헤어져야 했던 이유', '비비(BIBI)'],\n",
       " ['Bugs', 38, '그날들', '김기태'],\n",
       " ['Bugs', 39, 'Weekend', '태연 (TAEYEON)'],\n",
       " ['Bugs', 40, 'Dynamite', '방탄소년단'],\n",
       " ['Bugs', 41, 'Set Myself On Fire', '태연 (TAEYEON)'],\n",
       " ['Bugs', 42, '다정히 내 이름을 부르면', '경서예지'],\n",
       " ['Bugs', 43, '잊을 수 있을까', '노을'],\n",
       " ['Bugs', 44, 'Light Switch', 'Charlie Puth(찰리 푸스)'],\n",
       " ['Bugs', 45, 'DM', '프로미스나인'],\n",
       " ['Bugs', 46, 'Siren', '태연 (TAEYEON)'],\n",
       " ['Bugs', 47, '대낮에 한 이별', '선예'],\n",
       " ['Bugs', 48, 'Timeless', '태연 (TAEYEON)'],\n",
       " ['Bugs', 49, '낙하 (with 아이유)', 'AKMU(악뮤)'],\n",
       " ['Bugs', 50, 'Savage', 'aespa'],\n",
       " ['Bugs', 51, 'Counting Stars (Feat. Beenzino)', \"BE'O (비오)\"],\n",
       " ['Bugs', 52, 'Butter', '방탄소년단'],\n",
       " ['Bugs', 53, '너무 아픈 사랑은 사랑이 아니었음을', '김기태'],\n",
       " ['Bugs', 54, 'WA DA DA', 'Kep1er (케플러)'],\n",
       " ['Bugs', 55, '호랑수월가', '탑현'],\n",
       " ['Bugs', 56, '바라만 본다', 'MSG워너비(M.O.M)'],\n",
       " ['Bugs', 57, '너 아니면 안돼', '먼데이 키즈(Monday Kiz)'],\n",
       " ['Bugs', 58, 'Permission to Dance', '방탄소년단'],\n",
       " ['Bugs', 59, 'Christmas Tree', 'V'],\n",
       " ['Bugs', 60, 'O.O', 'NMIXX'],\n",
       " ['Bugs', 61, '아무렇지 않은 척', '빅마마(Big Mama)'],\n",
       " ['Bugs', 62, 'Dilemma', 'Apink (에이핑크)'],\n",
       " ['Bugs', 63, '여름비', '샘김(Sam Kim)'],\n",
       " ['Bugs', 64, '문득', \"BE'O (비오)\"],\n",
       " ['Bugs', 65, '라일락', '아이유(IU)'],\n",
       " ['Bugs', 66, 'Celebrity', '아이유(IU)'],\n",
       " ['Bugs', 67, '리무진 (Feat. MINO) (Prod. GRAY)', \"BE'O (비오)\"],\n",
       " ['Bugs', 68, 'You Better Not', '태연 (TAEYEON)'],\n",
       " ['Bugs', 69, 'Cold As Hell', '태연 (TAEYEON)'],\n",
       " ['Bugs', 70, '너, 너 (N번째 연애 X 휘인 (Whee In))', '휘인(Whee In)'],\n",
       " ['Bugs', 71, 'My Universe', 'Coldplay(콜드플레이)'],\n",
       " ['Bugs', 72, '만남은 쉽고 이별은 어려워 (Feat. Leellamarz) (Prod. TOIL)', '베이식(Basick)'],\n",
       " ['Bugs',\n",
       "  73,\n",
       "  'Peaches (feat. Daniel Caesar, Giveon)',\n",
       "  'Justin Bieber(저스틴 비버)'],\n",
       " ['Bugs', 74, '품 (Heart)', '태연 (TAEYEON)'],\n",
       " ['Bugs', 75, 'No Love Again', '태연 (TAEYEON)'],\n",
       " ['Bugs', 76, '너의 모든 순간', '성시경'],\n",
       " ['Bugs', 77, '사랑인가 봐', '멜로망스(MeloMance)'],\n",
       " ['Bugs', 78, '습관', 'WH3N(웬)'],\n",
       " ['Bugs', 79, 'Tiny Riot', 'Sam Ryder'],\n",
       " ['Bugs', 80, '너를 생각해', '주시크 (Joosiq)'],\n",
       " ['Bugs', 81, 'Bad Habits', 'Ed Sheeran(에드 시런)'],\n",
       " ['Bugs', 82, '라일락이 질 때', '이주혁'],\n",
       " ['Bugs', 83, 'OHAYO MY NIGHT', '디핵(D-Hack)'],\n",
       " ['Bugs', 84, '별빛 같은 나의 사랑아', '임영웅'],\n",
       " ['Bugs', 85, 'ASAP', 'STAYC(스테이씨)'],\n",
       " ['Bugs', 86, 'Off My Face', 'Justin Bieber(저스틴 비버)'],\n",
       " ['Bugs', 87, '헤픈 우연', '헤이즈(Heize)'],\n",
       " ['Bugs', 88, '모든 날, 모든 순간 (Every day, Every Moment)', '폴킴(Paul Kim)'],\n",
       " ['Bugs', 89, '흰눈', '먼데이 키즈(Monday Kiz)'],\n",
       " ['Bugs', 90, '이제 나만 믿어요', '임영웅'],\n",
       " ['Bugs', 91, '고백', '멜로망스(MeloMance)'],\n",
       " ['Bugs', 92, 'Still I Love You', '토요태'],\n",
       " ['Bugs', 93, '이별후회', '김나영'],\n",
       " ['Bugs', 94, 'Ending Credits', '태연 (TAEYEON)'],\n",
       " ['Bugs', 95, 'Satellite', '수지'],\n",
       " ['Bugs', 96, '아주, 천천히', '비비(BIBI)'],\n",
       " ['Bugs', 97, '흔들리는 꽃들 속에서 네 샴푸향이 느껴진거야', '장범준'],\n",
       " ['Bugs', 98, 'Queendom', 'Red Velvet (레드벨벳)'],\n",
       " ['Bugs', 99, 'Polaroid Love', 'ENHYPEN'],\n",
       " ['Bugs', 100, 'Blueming', '아이유(IU)']]"
      ]
     },
     "execution_count": 77,
     "metadata": {},
     "output_type": "execute_result"
    }
   ],
   "source": [
    "song_data = []\n",
    "rank = 1\n",
    "songs = soup.select('table.list.trackList.byChart > tbody tr')\n",
    "for song in songs:\n",
    "    title = song.select('p.title > a')[0].text\n",
    "    singer = song.select('p.artist > a')[0].text\n",
    "    print(title,\" | \",singer)\n",
    "    song_data.append([\"Bugs\",rank,title,singer])\n",
    "    rank = rank + 1\n",
    "song_data"
   ]
  },
  {
   "cell_type": "code",
   "execution_count": 80,
   "id": "e1b196e2",
   "metadata": {},
   "outputs": [
    {
     "data": {
      "text/html": [
       "<div>\n",
       "<style scoped>\n",
       "    .dataframe tbody tr th:only-of-type {\n",
       "        vertical-align: middle;\n",
       "    }\n",
       "\n",
       "    .dataframe tbody tr th {\n",
       "        vertical-align: top;\n",
       "    }\n",
       "\n",
       "    .dataframe thead th {\n",
       "        text-align: right;\n",
       "    }\n",
       "</style>\n",
       "<table border=\"1\" class=\"dataframe\">\n",
       "  <thead>\n",
       "    <tr style=\"text-align: right;\">\n",
       "      <th></th>\n",
       "      <th>서비스</th>\n",
       "      <th>순위</th>\n",
       "      <th>타이틀</th>\n",
       "      <th>가수</th>\n",
       "    </tr>\n",
       "  </thead>\n",
       "  <tbody>\n",
       "    <tr>\n",
       "      <th>0</th>\n",
       "      <td>Bugs</td>\n",
       "      <td>1</td>\n",
       "      <td>노래 (The Song)</td>\n",
       "      <td>비투비</td>\n",
       "    </tr>\n",
       "    <tr>\n",
       "      <th>1</th>\n",
       "      <td>Bugs</td>\n",
       "      <td>2</td>\n",
       "      <td>봄이 피어나</td>\n",
       "      <td>비투비</td>\n",
       "    </tr>\n",
       "    <tr>\n",
       "      <th>2</th>\n",
       "      <td>Bugs</td>\n",
       "      <td>3</td>\n",
       "      <td>우리 (Be Together)</td>\n",
       "      <td>비투비</td>\n",
       "    </tr>\n",
       "    <tr>\n",
       "      <th>3</th>\n",
       "      <td>Bugs</td>\n",
       "      <td>4</td>\n",
       "      <td>Thank You</td>\n",
       "      <td>비투비</td>\n",
       "    </tr>\n",
       "    <tr>\n",
       "      <th>4</th>\n",
       "      <td>Bugs</td>\n",
       "      <td>5</td>\n",
       "      <td>춤 (Dance With Me)</td>\n",
       "      <td>비투비</td>\n",
       "    </tr>\n",
       "  </tbody>\n",
       "</table>\n",
       "</div>"
      ],
      "text/plain": [
       "    서비스  순위                타이틀   가수\n",
       "0  Bugs   1      노래 (The Song)  비투비\n",
       "1  Bugs   2             봄이 피어나  비투비\n",
       "2  Bugs   3   우리 (Be Together)  비투비\n",
       "3  Bugs   4          Thank You  비투비\n",
       "4  Bugs   5  춤 (Dance With Me)  비투비"
      ]
     },
     "execution_count": 80,
     "metadata": {},
     "output_type": "execute_result"
    }
   ],
   "source": [
    "columns = ['서비스','순위','타이틀','가수']\n",
    "pd_data = pd.DataFrame(song_data,columns = columns)\n",
    "pd_data.head()"
   ]
  },
  {
   "cell_type": "code",
   "execution_count": 81,
   "id": "eb681980",
   "metadata": {},
   "outputs": [],
   "source": [
    "pd_data.to_excel('./files/bugs.xlsx',index=False)"
   ]
  },
  {
   "cell_type": "code",
   "execution_count": 82,
   "id": "5324ff32",
   "metadata": {},
   "outputs": [],
   "source": [
    "url = \"https://www.genie.co.kr/chart/top200\"\n",
    "driver.get(url)"
   ]
  },
  {
   "cell_type": "code",
   "execution_count": 83,
   "id": "224e87af",
   "metadata": {},
   "outputs": [],
   "source": [
    "html = driver.page_source\n",
    "soup = BeautifulSoup(html, 'html.parser')"
   ]
  },
  {
   "cell_type": "code",
   "execution_count": 84,
   "id": "2365c59c",
   "metadata": {},
   "outputs": [
    {
     "name": "stdout",
     "output_type": "stream",
     "text": [
=======
>>>>>>> 94677759afae943ac4282fb427e20b22d1464f2a
      "50\n"
     ]
    }
   ],
   "source": [
<<<<<<< HEAD
    "songs = soup.select('table.list-wrap > tbody > tr')\n",
=======
    "songs = soup.select('tbody tr')\n",
>>>>>>> 94677759afae943ac4282fb427e20b22d1464f2a
    "print(len(songs))"
   ]
  },
  {
   "cell_type": "code",
<<<<<<< HEAD
   "execution_count": 85,
   "id": "bd918a42",
   "metadata": {},
   "outputs": [
    {
=======
   "execution_count": 333,
   "id": "b7b5e6f2",
   "metadata": {},
   "outputs": [
    {
     "name": "stdout",
     "output_type": "stream",
     "text": [
      "0\n"
     ]
    }
   ],
   "source": [
    "songs = soup.select('table.list.trackList.byChart > tbody tr')\n",
    "print(len(songs))"
   ]
  },
  {
   "cell_type": "code",
   "execution_count": 335,
   "id": "bbf5f3d3",
   "metadata": {
    "scrolled": true
   },
   "outputs": [
    {
>>>>>>> 94677759afae943ac4282fb427e20b22d1464f2a
     "data": {
      "text/plain": [
       "<tr class=\"list\" songid=\"95990155\">\n",
       "<td class=\"check\"><input class=\"select-check\" title=\"INVU\" type=\"checkbox\"/></td>\n",
       "<td class=\"number\">1\n",
       "                                        \n",
       "                                    <span class=\"rank\">\n",
<<<<<<< HEAD
       "<span class=\"rank\"><span class=\"rank-up\">1<span class=\"hide\">상승</span></span></span>\n",
=======
       "<span class=\"rank\"><span class=\"rank-none\"><span class=\"hide\">유지</span></span></span>\n",
>>>>>>> 94677759afae943ac4282fb427e20b22d1464f2a
       "</span>\n",
       "</td>\n",
       "<td><a class=\"cover\" href=\"#\" onclick=\"fnViewAlbumLayer('82529386');return false;\"><span class=\"mask\"></span><img alt=\"INVU - The 3rd Album\" onerror=\"this.src='//image.genie.co.kr/imageg/web/common/blank_68.gif';\" src=\"//image.genie.co.kr/Y/IMAGE/IMG_ALBUM/082/529/386/82529386_1644820151763_1_140x140.JPG/dims/resize/Q_80,0\"/></a></td>\n",
       "<td class=\"link\"><a class=\"btn-basic btn-info\" href=\"#\" onclick=\"fnViewSongInfo('95990155');return false;\">곡 제목 정보 페이지</a></td>\n",
       "<td class=\"info\">\n",
       "<a class=\"title ellipsis\" href=\"#\" onclick=\"fnPlaySong('95990155','1');return false;\" title=\"재생\">\n",
       "                                        \n",
       "                                            \n",
       "                                        \n",
       "                                        \n",
       "                                        \n",
       "                                        \n",
       "                                            \n",
       "                                                INVU</a>\n",
       "<a class=\"artist ellipsis\" href=\"#\" onclick=\"fnViewArtist('56069675');return false;\">태연 (TAEYEON)</a>\n",
       "<div class=\"toggle-button-box\">\n",
       "<button class=\"btn artist-etc\" onclick=\"fnRelationArtistList('95990155');\" type=\"button\">외</button>\n",
       "<ul class=\"list\" id=\"RelationArtist_95990155\"></ul>\n",
       "</div>\n",
       "<i class=\"bar\">|</i>\n",
       "<a class=\"albumtitle ellipsis\" href=\"#\" onclick=\"fnViewAlbumLayer('82529386');return false;\">INVU - The 3rd Album</a>\n",
       "</td>\n",
       "<td class=\"btns\"><a class=\"btn-basic btn-listen\" href=\"#\" onclick=\"fnPlaySong('95990155;' ,'1'); return false;\" title=\"재생\">듣기</a></td>\n",
       "<td class=\"btns\"><a class=\"btn-basic btn-add\" href=\"#\" onclick=\"fnPlaySong('95990155;' ,'3'); return false;\" title=\"추가\">재생목록에 추가</a></td>\n",
       "<td class=\"btns\"><button class=\"btn-basic btn-album\" id=\"add_my_album_95990155\" onclick=\"fnAddMyAlbumForm('#add_my_album_95990155' , '95990155' ,10, 10);return false;\" songid=\"95990155\" type=\"button\">플레이리스트에 담기</button></td>\n",
       "<td class=\"btns\"><a class=\"btn-basic btn-down\" href=\"#\" onclick=\"fnDownSong('95990155');return false;\" title=\"다운\">다운로드</a></td>\n",
       "<td class=\"btns\">\n",
       "<div class=\"toggle-button-box lyr-mv\" id=\"list-mv_95990155\">\n",
       "<a alt=\"INVU\" class=\"btn btn-basic btn-mv\" href=\"#\" onclick=\"fnPlayMv('95990155','3'); return false;\" title=\"뮤비\">뮤직비디오 보기</a>\n",
       "</div>\n",
       "</td>\n",
       "<td class=\"more\">\n",
       "<div class=\"toggle-button-box\">\n",
       "<button class=\"btn btn-basic btn-more\" type=\"button\">더보기</button>\n",
       "<ul class=\"list\">\n",
       "<li><a class=\"item\" href=\"#\" onclick=\"shareDo('95990155');return false;\" title=\"공유\">공유하기/음악나누기</a></li>\n",
       "<li><a class=\"item\" href=\"#\" onclick=\"fnGiftSong('95990155');return false;\" title=\"선물\">선물하기</a></li>\n",
       "</ul>\n",
       "</div>\n",
       "</td>\n",
       "</tr>"
      ]
     },
<<<<<<< HEAD
     "execution_count": 85,
=======
     "execution_count": 335,
     "metadata": {},
     "output_type": "execute_result"
    }
   ],
   "source": [
    "songs[0]"
   ]
  },
  {
   "cell_type": "code",
   "execution_count": 336,
   "id": "a6b3668b",
   "metadata": {},
   "outputs": [
    {
     "data": {
      "text/plain": [
       "<tr class=\"list\" songid=\"95990155\">\n",
       "<td class=\"check\"><input class=\"select-check\" title=\"INVU\" type=\"checkbox\"/></td>\n",
       "<td class=\"number\">1\n",
       "                                        \n",
       "                                    <span class=\"rank\">\n",
       "<span class=\"rank\"><span class=\"rank-none\"><span class=\"hide\">유지</span></span></span>\n",
       "</span>\n",
       "</td>\n",
       "<td><a class=\"cover\" href=\"#\" onclick=\"fnViewAlbumLayer('82529386');return false;\"><span class=\"mask\"></span><img alt=\"INVU - The 3rd Album\" onerror=\"this.src='//image.genie.co.kr/imageg/web/common/blank_68.gif';\" src=\"//image.genie.co.kr/Y/IMAGE/IMG_ALBUM/082/529/386/82529386_1644820151763_1_140x140.JPG/dims/resize/Q_80,0\"/></a></td>\n",
       "<td class=\"link\"><a class=\"btn-basic btn-info\" href=\"#\" onclick=\"fnViewSongInfo('95990155');return false;\">곡 제목 정보 페이지</a></td>\n",
       "<td class=\"info\">\n",
       "<a class=\"title ellipsis\" href=\"#\" onclick=\"fnPlaySong('95990155','1');return false;\" title=\"재생\">\n",
       "                                        \n",
       "                                            \n",
       "                                        \n",
       "                                        \n",
       "                                        \n",
       "                                        \n",
       "                                            \n",
       "                                                INVU</a>\n",
       "<a class=\"artist ellipsis\" href=\"#\" onclick=\"fnViewArtist('56069675');return false;\">태연 (TAEYEON)</a>\n",
       "<div class=\"toggle-button-box\">\n",
       "<button class=\"btn artist-etc\" onclick=\"fnRelationArtistList('95990155');\" type=\"button\">외</button>\n",
       "<ul class=\"list\" id=\"RelationArtist_95990155\"></ul>\n",
       "</div>\n",
       "<i class=\"bar\">|</i>\n",
       "<a class=\"albumtitle ellipsis\" href=\"#\" onclick=\"fnViewAlbumLayer('82529386');return false;\">INVU - The 3rd Album</a>\n",
       "</td>\n",
       "<td class=\"btns\"><a class=\"btn-basic btn-listen\" href=\"#\" onclick=\"fnPlaySong('95990155;' ,'1'); return false;\" title=\"재생\">듣기</a></td>\n",
       "<td class=\"btns\"><a class=\"btn-basic btn-add\" href=\"#\" onclick=\"fnPlaySong('95990155;' ,'3'); return false;\" title=\"추가\">재생목록에 추가</a></td>\n",
       "<td class=\"btns\"><button class=\"btn-basic btn-album\" id=\"add_my_album_95990155\" onclick=\"fnAddMyAlbumForm('#add_my_album_95990155' , '95990155' ,10, 10);return false;\" songid=\"95990155\" type=\"button\">플레이리스트에 담기</button></td>\n",
       "<td class=\"btns\"><a class=\"btn-basic btn-down\" href=\"#\" onclick=\"fnDownSong('95990155');return false;\" title=\"다운\">다운로드</a></td>\n",
       "<td class=\"btns\">\n",
       "<div class=\"toggle-button-box lyr-mv\" id=\"list-mv_95990155\">\n",
       "<a alt=\"INVU\" class=\"btn btn-basic btn-mv\" href=\"#\" onclick=\"fnPlayMv('95990155','3'); return false;\" title=\"뮤비\">뮤직비디오 보기</a>\n",
       "</div>\n",
       "</td>\n",
       "<td class=\"more\">\n",
       "<div class=\"toggle-button-box\">\n",
       "<button class=\"btn btn-basic btn-more\" type=\"button\">더보기</button>\n",
       "<ul class=\"list\">\n",
       "<li><a class=\"item\" href=\"#\" onclick=\"shareDo('95990155');return false;\" title=\"공유\">공유하기/음악나누기</a></li>\n",
       "<li><a class=\"item\" href=\"#\" onclick=\"fnGiftSong('95990155');return false;\" title=\"선물\">선물하기</a></li>\n",
       "</ul>\n",
       "</div>\n",
       "</td>\n",
       "</tr>"
      ]
     },
     "execution_count": 336,
>>>>>>> 94677759afae943ac4282fb427e20b22d1464f2a
     "metadata": {},
     "output_type": "execute_result"
    }
   ],
   "source": [
    "song = songs[0]\n",
    "song"
   ]
  },
  {
   "cell_type": "code",
<<<<<<< HEAD
   "execution_count": 86,
=======
   "execution_count": 337,
   "id": "0af2f39e",
   "metadata": {},
   "outputs": [
    {
     "ename": "IndexError",
     "evalue": "list index out of range",
     "output_type": "error",
     "traceback": [
      "\u001b[1;31m---------------------------------------------------------------------------\u001b[0m",
      "\u001b[1;31mIndexError\u001b[0m                                Traceback (most recent call last)",
      "\u001b[1;32m~\\AppData\\Local\\Temp/ipykernel_19948/1050390466.py\u001b[0m in \u001b[0;36m<module>\u001b[1;34m\u001b[0m\n\u001b[1;32m----> 1\u001b[1;33m \u001b[0mtitle\u001b[0m \u001b[1;33m=\u001b[0m \u001b[0msong\u001b[0m\u001b[1;33m.\u001b[0m\u001b[0mselect\u001b[0m\u001b[1;33m(\u001b[0m\u001b[1;34m'p.title > a'\u001b[0m\u001b[1;33m)\u001b[0m\u001b[1;33m[\u001b[0m\u001b[1;36m2\u001b[0m\u001b[1;33m]\u001b[0m\u001b[1;33m.\u001b[0m\u001b[0mtext\u001b[0m\u001b[1;33m\u001b[0m\u001b[1;33m\u001b[0m\u001b[0m\n\u001b[0m\u001b[0;32m      2\u001b[0m \u001b[0mtitle\u001b[0m\u001b[1;33m\u001b[0m\u001b[1;33m\u001b[0m\u001b[0m\n",
      "\u001b[1;31mIndexError\u001b[0m: list index out of range"
     ]
    }
   ],
   "source": [
    "title = song.select('p.title > a')[2].text\n",
    "title\n"
   ]
  },
  {
   "cell_type": "code",
   "execution_count": 241,
   "id": "68002e1f",
   "metadata": {},
   "outputs": [
    {
     "data": {
      "text/plain": [
       "'TREASURE(트레저)'"
      ]
     },
     "execution_count": 241,
     "metadata": {},
     "output_type": "execute_result"
    }
   ],
   "source": [
    "singer = song.select('p.artist > a')[0].text.strip()\n",
    "singer"
   ]
  },
  {
   "cell_type": "code",
   "execution_count": 250,
   "id": "f878d084",
   "metadata": {},
   "outputs": [
    {
     "name": "stdout",
     "output_type": "stream",
     "text": [
      "직진 (JIKJIN)  |  TREASURE(트레저)\n",
      "다라리 (DARARI)  |  TREASURE(트레저)\n",
      "괜찮아질 거야 (IT'S OKAY)  |  TREASURE(트레저)\n",
      "U  |  TREASURE(트레저)\n",
      "B.L.T (BLING LIKE THIS)  |  TREASURE(트레저)\n",
      "노래 (The Song)  |  비투비\n",
      "봄이 피어나  |  비투비\n",
      "우리 (Be Together)  |  비투비\n",
      "INVU  |  태연 (TAEYEON)\n",
      "Thank You  |  비투비\n",
      "춤 (Dance With Me)  |  비투비\n",
      "SMILEY (Feat. BIBI)  |  YENA (최예나)\n",
      "RUN2U  |  STAYC(스테이씨)\n",
      "abcdefu  |  GAYLE\n",
      "ELEVEN  |  IVE (아이브)\n",
      "드라마  |  아이유(IU)\n",
      "취중고백  |  김민석 (멜로망스)\n",
      "Stronger (What Doesn't Kill You)  |  Kelly Clarkson(켈리 클락슨)\n",
      "그래서 그래 (Feat. 윤하)  |  에픽하이 (EPIK HIGH)\n",
      "오필리아(Ophelia)  |  포르테 디 콰트로\n",
      "사랑은 늘 도망가  |  임영웅\n",
      "Step Back  |  GOT the beat\n",
      "Can't Control Myself  |  태연 (TAEYEON)\n",
      "언제나 사랑해  |  케이시\n",
      "호랑수월가  |  탑현\n",
      "Weekend  |  태연 (TAEYEON)\n",
      "strawberry moon  |  아이유(IU)\n",
      "Next Level  |  aespa\n",
      "Dreams Come True  |  aespa\n",
      "회전목마 (Feat. Zion.T, 원슈타인) (Prod. Slom)  |  sokodomo\n",
      "우리가 헤어져야 했던 이유  |  비비(BIBI)\n",
      "STAY  |  The Kid LAROI\n",
      "그런 밤 (Some Nights)  |  태연 (TAEYEON)\n",
      "My Universe  |  Coldplay(콜드플레이)\n",
      "Off My Face  |  Justin Bieber(저스틴 비버)\n",
      "만남은 쉽고 이별은 어려워 (Feat. Leellamarz) (Prod. TOIL)  |  베이식(Basick)\n",
      "겨울잠  |  아이유(IU)\n",
      "서랍  |  10CM\n",
      "다정히 내 이름을 부르면  |  경서예지\n",
      "눈이 오잖아(Feat.헤이즈)  |  이무진\n",
      "낙하 (with 아이유)  |  AKMU(악뮤)\n",
      "흰눈  |  먼데이 키즈(Monday Kiz)\n",
      "라일락  |  아이유(IU)\n",
      "너의 모든 순간  |  성시경\n",
      "DM  |  프로미스나인\n",
      "Counting Stars (Feat. Beenzino)  |  BE'O (비오)\n",
      "리무진 (Feat. MINO) (Prod. GRAY)  |  BE'O (비오)\n",
      "Savage  |  aespa\n",
      "Tiny Riot  |  Sam Ryder\n",
      "WA DA DA  |  Kep1er (케플러)\n",
      "Light Switch  |  Charlie Puth(찰리 푸스)\n",
      "너를 생각해  |  주시크 (Joosiq)\n",
      "잊을 수 있을까  |  노을\n",
      "어른아이 (Toddler)  |  태연 (TAEYEON)\n",
      "너무 아픈 사랑은 사랑이 아니었음을  |  김기태\n",
      "신호등  |  이무진\n",
      "문득  |  BE'O (비오)\n",
      "Christmas Tree  |  V\n",
      "모든 날, 모든 순간 (Every day, Every Moment)  |  폴킴(Paul Kim)\n",
      "OHAYO MY NIGHT  |  디핵(D-Hack)\n",
      "Celebrity  |  아이유(IU)\n",
      "Butter  |  방탄소년단\n",
      "Dynamite  |  방탄소년단\n",
      "사랑인가 봐  |  멜로망스(MeloMance)\n",
      "너 아니면 안돼  |  먼데이 키즈(Monday Kiz)\n",
      "여름비  |  샘김(Sam Kim)\n",
      "이별후회  |  김나영\n",
      "Permission to Dance  |  방탄소년단\n",
      "Peaches (feat. Daniel Caesar, Giveon)  |  Justin Bieber(저스틴 비버)\n",
      "그날들  |  김기태\n",
      "Bad Habits  |  Ed Sheeran(에드 시런)\n",
      "Set Myself On Fire  |  태연 (TAEYEON)\n",
      "라일락이 질 때  |  이주혁\n",
      "대낮에 한 이별  |  선예\n",
      "너, 너 (N번째 연애 X 휘인 (Whee In))  |  휘인(Whee In)\n",
      "BOP BOP!  |  VIVIZ (비비지)\n",
      "바라만 본다  |  MSG워너비(M.O.M)\n",
      "어떻게 이별까지 사랑하겠어, 널 사랑하는 거지  |  AKMU(악뮤)\n",
      "Siren  |  태연 (TAEYEON)\n",
      "Winter Lullaby  |  포르테 디 콰트로\n",
      "아무렇지 않은 척  |  빅마마(Big Mama)\n",
      "Timeless  |  태연 (TAEYEON)\n",
      "Polaroid Love  |  ENHYPEN\n",
      "Queendom  |  Red Velvet (레드벨벳)\n",
      "미소를 띄우며 나를 보낸 그 모습처럼  |  김소연\n",
      "Blueming  |  아이유(IU)\n",
      "언덕나무  |  이승윤\n",
      "Starlight  |  태일 (TAEIL)\n",
      "정거장  |  아이유(IU)\n",
      "헤픈 우연  |  헤이즈(Heize)\n",
      "Satellite  |  수지\n",
      "Shivers  |  Ed Sheeran(에드 시런)\n",
      "You Better Not  |  태연 (TAEYEON)\n",
      "Black Mamba  |  aespa\n",
      "너  |  아이유(IU)\n",
      "러브레터  |  아이유(IU)\n",
      "별빛 같은 나의 사랑아  |  임영웅\n",
      "First Rollie (feat. Seori)  |  도끼(Dok2)\n",
      "얼음요새  |  디어클라우드(Dear Cloud)\n",
      "Dilemma  |  Apink (에이핑크)\n"
     ]
    },
    {
     "data": {
      "text/plain": [
       "[['Bugs', 1, '직진 (JIKJIN)', 'TREASURE(트레저)'],\n",
       " ['Bugs', 2, '다라리 (DARARI)', 'TREASURE(트레저)'],\n",
       " ['Bugs', 3, \"괜찮아질 거야 (IT'S OKAY)\", 'TREASURE(트레저)'],\n",
       " ['Bugs', 4, 'U', 'TREASURE(트레저)'],\n",
       " ['Bugs', 5, 'B.L.T (BLING LIKE THIS)', 'TREASURE(트레저)'],\n",
       " ['Bugs', 6, '노래 (The Song)', '비투비'],\n",
       " ['Bugs', 7, '봄이 피어나', '비투비'],\n",
       " ['Bugs', 8, '우리 (Be Together)', '비투비'],\n",
       " ['Bugs', 9, 'INVU', '태연 (TAEYEON)'],\n",
       " ['Bugs', 10, 'Thank You', '비투비'],\n",
       " ['Bugs', 11, '춤 (Dance With Me)', '비투비'],\n",
       " ['Bugs', 12, 'SMILEY (Feat. BIBI)', 'YENA (최예나)'],\n",
       " ['Bugs', 13, 'RUN2U', 'STAYC(스테이씨)'],\n",
       " ['Bugs', 14, 'abcdefu', 'GAYLE'],\n",
       " ['Bugs', 15, 'ELEVEN', 'IVE (아이브)'],\n",
       " ['Bugs', 16, '드라마', '아이유(IU)'],\n",
       " ['Bugs', 17, '취중고백', '김민석 (멜로망스)'],\n",
       " ['Bugs', 18, \"Stronger (What Doesn't Kill You)\", 'Kelly Clarkson(켈리 클락슨)'],\n",
       " ['Bugs', 19, '그래서 그래 (Feat. 윤하)', '에픽하이 (EPIK HIGH)'],\n",
       " ['Bugs', 20, '오필리아(Ophelia)', '포르테 디 콰트로'],\n",
       " ['Bugs', 21, '사랑은 늘 도망가', '임영웅'],\n",
       " ['Bugs', 22, 'Step Back', 'GOT the beat'],\n",
       " ['Bugs', 23, \"Can't Control Myself\", '태연 (TAEYEON)'],\n",
       " ['Bugs', 24, '언제나 사랑해', '케이시'],\n",
       " ['Bugs', 25, '호랑수월가', '탑현'],\n",
       " ['Bugs', 26, 'Weekend', '태연 (TAEYEON)'],\n",
       " ['Bugs', 27, 'strawberry moon', '아이유(IU)'],\n",
       " ['Bugs', 28, 'Next Level', 'aespa'],\n",
       " ['Bugs', 29, 'Dreams Come True', 'aespa'],\n",
       " ['Bugs', 30, '회전목마 (Feat. Zion.T, 원슈타인) (Prod. Slom)', 'sokodomo'],\n",
       " ['Bugs', 31, '우리가 헤어져야 했던 이유', '비비(BIBI)'],\n",
       " ['Bugs', 32, 'STAY', 'The Kid LAROI'],\n",
       " ['Bugs', 33, '그런 밤 (Some Nights)', '태연 (TAEYEON)'],\n",
       " ['Bugs', 34, 'My Universe', 'Coldplay(콜드플레이)'],\n",
       " ['Bugs', 35, 'Off My Face', 'Justin Bieber(저스틴 비버)'],\n",
       " ['Bugs', 36, '만남은 쉽고 이별은 어려워 (Feat. Leellamarz) (Prod. TOIL)', '베이식(Basick)'],\n",
       " ['Bugs', 37, '겨울잠', '아이유(IU)'],\n",
       " ['Bugs', 38, '서랍', '10CM'],\n",
       " ['Bugs', 39, '다정히 내 이름을 부르면', '경서예지'],\n",
       " ['Bugs', 40, '눈이 오잖아(Feat.헤이즈)', '이무진'],\n",
       " ['Bugs', 41, '낙하 (with 아이유)', 'AKMU(악뮤)'],\n",
       " ['Bugs', 42, '흰눈', '먼데이 키즈(Monday Kiz)'],\n",
       " ['Bugs', 43, '라일락', '아이유(IU)'],\n",
       " ['Bugs', 44, '너의 모든 순간', '성시경'],\n",
       " ['Bugs', 45, 'DM', '프로미스나인'],\n",
       " ['Bugs', 46, 'Counting Stars (Feat. Beenzino)', \"BE'O (비오)\"],\n",
       " ['Bugs', 47, '리무진 (Feat. MINO) (Prod. GRAY)', \"BE'O (비오)\"],\n",
       " ['Bugs', 48, 'Savage', 'aespa'],\n",
       " ['Bugs', 49, 'Tiny Riot', 'Sam Ryder'],\n",
       " ['Bugs', 50, 'WA DA DA', 'Kep1er (케플러)'],\n",
       " ['Bugs', 51, 'Light Switch', 'Charlie Puth(찰리 푸스)'],\n",
       " ['Bugs', 52, '너를 생각해', '주시크 (Joosiq)'],\n",
       " ['Bugs', 53, '잊을 수 있을까', '노을'],\n",
       " ['Bugs', 54, '어른아이 (Toddler)', '태연 (TAEYEON)'],\n",
       " ['Bugs', 55, '너무 아픈 사랑은 사랑이 아니었음을', '김기태'],\n",
       " ['Bugs', 56, '신호등', '이무진'],\n",
       " ['Bugs', 57, '문득', \"BE'O (비오)\"],\n",
       " ['Bugs', 58, 'Christmas Tree', 'V'],\n",
       " ['Bugs', 59, '모든 날, 모든 순간 (Every day, Every Moment)', '폴킴(Paul Kim)'],\n",
       " ['Bugs', 60, 'OHAYO MY NIGHT', '디핵(D-Hack)'],\n",
       " ['Bugs', 61, 'Celebrity', '아이유(IU)'],\n",
       " ['Bugs', 62, 'Butter', '방탄소년단'],\n",
       " ['Bugs', 63, 'Dynamite', '방탄소년단'],\n",
       " ['Bugs', 64, '사랑인가 봐', '멜로망스(MeloMance)'],\n",
       " ['Bugs', 65, '너 아니면 안돼', '먼데이 키즈(Monday Kiz)'],\n",
       " ['Bugs', 66, '여름비', '샘김(Sam Kim)'],\n",
       " ['Bugs', 67, '이별후회', '김나영'],\n",
       " ['Bugs', 68, 'Permission to Dance', '방탄소년단'],\n",
       " ['Bugs',\n",
       "  69,\n",
       "  'Peaches (feat. Daniel Caesar, Giveon)',\n",
       "  'Justin Bieber(저스틴 비버)'],\n",
       " ['Bugs', 70, '그날들', '김기태'],\n",
       " ['Bugs', 71, 'Bad Habits', 'Ed Sheeran(에드 시런)'],\n",
       " ['Bugs', 72, 'Set Myself On Fire', '태연 (TAEYEON)'],\n",
       " ['Bugs', 73, '라일락이 질 때', '이주혁'],\n",
       " ['Bugs', 74, '대낮에 한 이별', '선예'],\n",
       " ['Bugs', 75, '너, 너 (N번째 연애 X 휘인 (Whee In))', '휘인(Whee In)'],\n",
       " ['Bugs', 76, 'BOP BOP!', 'VIVIZ (비비지)'],\n",
       " ['Bugs', 77, '바라만 본다', 'MSG워너비(M.O.M)'],\n",
       " ['Bugs', 78, '어떻게 이별까지 사랑하겠어, 널 사랑하는 거지', 'AKMU(악뮤)'],\n",
       " ['Bugs', 79, 'Siren', '태연 (TAEYEON)'],\n",
       " ['Bugs', 80, 'Winter Lullaby', '포르테 디 콰트로'],\n",
       " ['Bugs', 81, '아무렇지 않은 척', '빅마마(Big Mama)'],\n",
       " ['Bugs', 82, 'Timeless', '태연 (TAEYEON)'],\n",
       " ['Bugs', 83, 'Polaroid Love', 'ENHYPEN'],\n",
       " ['Bugs', 84, 'Queendom', 'Red Velvet (레드벨벳)'],\n",
       " ['Bugs', 85, '미소를 띄우며 나를 보낸 그 모습처럼', '김소연'],\n",
       " ['Bugs', 86, 'Blueming', '아이유(IU)'],\n",
       " ['Bugs', 87, '언덕나무', '이승윤'],\n",
       " ['Bugs', 88, 'Starlight', '태일 (TAEIL)'],\n",
       " ['Bugs', 89, '정거장', '아이유(IU)'],\n",
       " ['Bugs', 90, '헤픈 우연', '헤이즈(Heize)'],\n",
       " ['Bugs', 91, 'Satellite', '수지'],\n",
       " ['Bugs', 92, 'Shivers', 'Ed Sheeran(에드 시런)'],\n",
       " ['Bugs', 93, 'You Better Not', '태연 (TAEYEON)'],\n",
       " ['Bugs', 94, 'Black Mamba', 'aespa'],\n",
       " ['Bugs', 95, '너', '아이유(IU)'],\n",
       " ['Bugs', 96, '러브레터', '아이유(IU)'],\n",
       " ['Bugs', 97, '별빛 같은 나의 사랑아', '임영웅'],\n",
       " ['Bugs', 98, 'First Rollie (feat. Seori)', '도끼(Dok2)'],\n",
       " ['Bugs', 99, '얼음요새', '디어클라우드(Dear Cloud)'],\n",
       " ['Bugs', 100, 'Dilemma', 'Apink (에이핑크)']]"
      ]
     },
     "execution_count": 250,
     "metadata": {},
     "output_type": "execute_result"
    }
   ],
   "source": [
    "song_data = []\n",
    "rank = 1\n",
    "songs = soup.select('table.list.trackList.byChart > tbody tr')\n",
    "for song in songs:\n",
    "    title = song.select('p.title > a')[0].text\n",
    "    singer = song.select('p.artist > a')[0].text\n",
    "    print(title,\" | \",singer)\n",
    "    song_data.append([\"Bugs\",rank,title,singer])\n",
    "    rank = rank + 1\n",
    "song_data"
   ]
  },
  {
   "cell_type": "code",
   "execution_count": 251,
   "id": "e1b196e2",
   "metadata": {},
   "outputs": [
    {
     "data": {
      "text/html": [
       "<div>\n",
       "<style scoped>\n",
       "    .dataframe tbody tr th:only-of-type {\n",
       "        vertical-align: middle;\n",
       "    }\n",
       "\n",
       "    .dataframe tbody tr th {\n",
       "        vertical-align: top;\n",
       "    }\n",
       "\n",
       "    .dataframe thead th {\n",
       "        text-align: right;\n",
       "    }\n",
       "</style>\n",
       "<table border=\"1\" class=\"dataframe\">\n",
       "  <thead>\n",
       "    <tr style=\"text-align: right;\">\n",
       "      <th></th>\n",
       "      <th>서비스</th>\n",
       "      <th>순위</th>\n",
       "      <th>타이틀</th>\n",
       "      <th>가수</th>\n",
       "    </tr>\n",
       "  </thead>\n",
       "  <tbody>\n",
       "    <tr>\n",
       "      <th>0</th>\n",
       "      <td>Bugs</td>\n",
       "      <td>1</td>\n",
       "      <td>직진 (JIKJIN)</td>\n",
       "      <td>TREASURE(트레저)</td>\n",
       "    </tr>\n",
       "    <tr>\n",
       "      <th>1</th>\n",
       "      <td>Bugs</td>\n",
       "      <td>2</td>\n",
       "      <td>다라리 (DARARI)</td>\n",
       "      <td>TREASURE(트레저)</td>\n",
       "    </tr>\n",
       "    <tr>\n",
       "      <th>2</th>\n",
       "      <td>Bugs</td>\n",
       "      <td>3</td>\n",
       "      <td>괜찮아질 거야 (IT'S OKAY)</td>\n",
       "      <td>TREASURE(트레저)</td>\n",
       "    </tr>\n",
       "    <tr>\n",
       "      <th>3</th>\n",
       "      <td>Bugs</td>\n",
       "      <td>4</td>\n",
       "      <td>U</td>\n",
       "      <td>TREASURE(트레저)</td>\n",
       "    </tr>\n",
       "    <tr>\n",
       "      <th>4</th>\n",
       "      <td>Bugs</td>\n",
       "      <td>5</td>\n",
       "      <td>B.L.T (BLING LIKE THIS)</td>\n",
       "      <td>TREASURE(트레저)</td>\n",
       "    </tr>\n",
       "  </tbody>\n",
       "</table>\n",
       "</div>"
      ],
      "text/plain": [
       "    서비스  순위                      타이틀             가수\n",
       "0  Bugs   1              직진 (JIKJIN)  TREASURE(트레저)\n",
       "1  Bugs   2             다라리 (DARARI)  TREASURE(트레저)\n",
       "2  Bugs   3      괜찮아질 거야 (IT'S OKAY)  TREASURE(트레저)\n",
       "3  Bugs   4                        U  TREASURE(트레저)\n",
       "4  Bugs   5  B.L.T (BLING LIKE THIS)  TREASURE(트레저)"
      ]
     },
     "execution_count": 251,
     "metadata": {},
     "output_type": "execute_result"
    }
   ],
   "source": [
    "columns = ['서비스','순위','타이틀','가수']\n",
    "pd_data = pd.DataFrame(song_data,columns = columns)\n",
    "pd_data.head()"
   ]
  },
  {
   "cell_type": "code",
   "execution_count": 252,
   "id": "eb681980",
   "metadata": {},
   "outputs": [],
   "source": [
    "pd_data.to_excel('./files/bugs.xlsx',index=False)"
   ]
  },
  {
   "cell_type": "code",
   "execution_count": 254,
   "id": "5324ff32",
   "metadata": {},
   "outputs": [],
   "source": [
    "url = \"https://www.genie.co.kr/chart/top200\"\n",
    "driver.get(url)"
   ]
  },
  {
   "cell_type": "code",
   "execution_count": 345,
   "id": "224e87af",
   "metadata": {},
   "outputs": [],
   "source": [
    "html = driver.page_source\n",
    "soup = BeautifulSoup(html, 'html.parser')"
   ]
  },
  {
   "cell_type": "code",
   "execution_count": 346,
   "id": "2365c59c",
   "metadata": {},
   "outputs": [
    {
     "name": "stdout",
     "output_type": "stream",
     "text": [
      "50\n"
     ]
    }
   ],
   "source": [
    "songs = soup.select('table.list-wrap > tbody > tr')\n",
    "print(len(songs))"
   ]
  },
  {
   "cell_type": "code",
   "execution_count": 347,
   "id": "bd918a42",
   "metadata": {},
   "outputs": [
    {
     "data": {
      "text/plain": [
       "<tr class=\"list\" songid=\"92749701\">\n",
       "<td class=\"check\"><input class=\"select-check\" title=\"라일락\" type=\"checkbox\"/></td>\n",
       "<td class=\"number\">51\n",
       "                                        \n",
       "                                    <span class=\"rank\">\n",
       "<span class=\"rank\"><span class=\"rank-up\">1<span class=\"hide\">상승</span></span></span>\n",
       "</span>\n",
       "</td>\n",
       "<td><a class=\"cover\" href=\"#\" onclick=\"fnViewAlbumLayer('81867444');return false;\"><span class=\"mask\"></span><img alt=\"IU 5th Album 'LILAC'\" onerror=\"this.src='//image.genie.co.kr/imageg/web/common/blank_68.gif';\" src=\"//image.genie.co.kr/Y/IMAGE/IMG_ALBUM/081/867/444/81867444_1616662460652_1_140x140.JPG/dims/resize/Q_80,0\"/></a></td>\n",
       "<td class=\"link\"><a class=\"btn-basic btn-info\" href=\"#\" onclick=\"fnViewSongInfo('92749701');return false;\">곡 제목 정보 페이지</a></td>\n",
       "<td class=\"info\">\n",
       "<a class=\"title ellipsis\" href=\"#\" onclick=\"fnPlaySong('92749701','1');return false;\" title=\"재생\">\n",
       "                                        \n",
       "                                            \n",
       "                                        \n",
       "                                        \n",
       "                                        \n",
       "                                        \n",
       "                                            \n",
       "                                                라일락</a>\n",
       "<a class=\"artist ellipsis\" href=\"#\" onclick=\"fnViewArtist('67872918');return false;\">아이유 (IU)</a>\n",
       "<div class=\"toggle-button-box\">\n",
       "<button class=\"btn artist-etc\" onclick=\"fnRelationArtistList('92749701');\" type=\"button\">외</button>\n",
       "<ul class=\"list\" id=\"RelationArtist_92749701\"></ul>\n",
       "</div>\n",
       "<i class=\"bar\">|</i>\n",
       "<a class=\"albumtitle ellipsis\" href=\"#\" onclick=\"fnViewAlbumLayer('81867444');return false;\">IU 5th Album 'LILAC'</a>\n",
       "</td>\n",
       "<td class=\"btns\"><a class=\"btn-basic btn-listen\" href=\"#\" onclick=\"fnPlaySong('92749701;' ,'1'); return false;\" title=\"재생\">듣기</a></td>\n",
       "<td class=\"btns\"><a class=\"btn-basic btn-add\" href=\"#\" onclick=\"fnPlaySong('92749701;' ,'3'); return false;\" title=\"추가\">재생목록에 추가</a></td>\n",
       "<td class=\"btns\"><button class=\"btn-basic btn-album\" id=\"add_my_album_92749701\" onclick=\"fnAddMyAlbumForm('#add_my_album_92749701' , '92749701' ,10, 10);return false;\" songid=\"92749701\" type=\"button\">플레이리스트에 담기</button></td>\n",
       "<td class=\"btns\"><a class=\"btn-basic btn-down\" href=\"#\" onclick=\"fnDownSong('92749701');return false;\" title=\"다운\">다운로드</a></td>\n",
       "<td class=\"btns\">\n",
       "<div class=\"toggle-button-box lyr-mv\" id=\"list-mv_92749701\">\n",
       "<a alt=\"라일락\" class=\"btn btn-basic btn-mv\" href=\"#\" onclick=\"fnPlayMv('92749701','3'); return false;\" title=\"뮤비\">뮤직비디오 보기</a>\n",
       "</div>\n",
       "</td>\n",
       "<td class=\"more\">\n",
       "<div class=\"toggle-button-box\">\n",
       "<button class=\"btn btn-basic btn-more\" type=\"button\">더보기</button>\n",
       "<ul class=\"list\">\n",
       "<li><a class=\"item\" href=\"#\" onclick=\"shareDo('92749701');return false;\" title=\"공유\">공유하기/음악나누기</a></li>\n",
       "<li><a class=\"item\" href=\"#\" onclick=\"fnGiftSong('92749701');return false;\" title=\"선물\">선물하기</a></li>\n",
       "</ul>\n",
       "</div>\n",
       "</td>\n",
       "</tr>"
      ]
     },
     "execution_count": 347,
     "metadata": {},
     "output_type": "execute_result"
    }
   ],
   "source": [
    "song = songs[0]\n",
    "song"
   ]
  },
  {
   "cell_type": "code",
   "execution_count": 348,
>>>>>>> 94677759afae943ac4282fb427e20b22d1464f2a
   "id": "f76f7595",
   "metadata": {},
   "outputs": [
    {
     "data": {
      "text/plain": [
<<<<<<< HEAD
       "'INVU'"
      ]
     },
     "execution_count": 86,
=======
       "'라일락'"
      ]
     },
     "execution_count": 348,
>>>>>>> 94677759afae943ac4282fb427e20b22d1464f2a
     "metadata": {},
     "output_type": "execute_result"
    }
   ],
   "source": [
    "title = song.select('td.info > a.ellipsis')[0].text\n",
    "title = title.replace('\\n',\"\")\n",
    "title = title.replace(' ',\"\")\n",
    "title\n"
   ]
  },
  {
   "cell_type": "code",
<<<<<<< HEAD
   "execution_count": 87,
=======
   "execution_count": 349,
>>>>>>> 94677759afae943ac4282fb427e20b22d1464f2a
   "id": "d6ff61a3",
   "metadata": {},
   "outputs": [
    {
     "data": {
      "text/plain": [
<<<<<<< HEAD
       "'태연 (TAEYEON)'"
      ]
     },
     "execution_count": 87,
=======
       "'아이유 (IU)'"
      ]
     },
     "execution_count": 349,
>>>>>>> 94677759afae943ac4282fb427e20b22d1464f2a
     "metadata": {},
     "output_type": "execute_result"
    }
   ],
   "source": [
    "singer = song.select('td.info > a.artist')[0].text\n",
    "singer"
   ]
  },
  {
   "cell_type": "code",
<<<<<<< HEAD
   "execution_count": 88,
=======
   "execution_count": 344,
>>>>>>> 94677759afae943ac4282fb427e20b22d1464f2a
   "id": "c9c0af98",
   "metadata": {},
   "outputs": [
    {
     "name": "stdout",
     "output_type": "stream",
     "text": [
      "INVU  |  태연 (TAEYEON)\n",
<<<<<<< HEAD
      "노래(TheSong)  |  비투비\n",
      "취중고백  |  김민석 (멜로망스)\n",
      "abcdefu  |  GAYLE\n",
      "사랑은늘도망가  |  임영웅\n",
      "그래서그래(Feat.윤하)  |  에픽하이 (EPIK HIGH)\n",
      "다정히내이름을부르면  |  경서예지 & 전건호\n",
      "호랑수월가  |  탑현\n",
      "회전목마(Feat.Zion.T&원슈타인)(Prod.bySlom)  |  sokodomo\n",
      "ELEVEN  |  IVE (아이브)\n",
      "잊을수있을까  |  노을\n",
      "언제나사랑해  |  케이시 (Kassy)\n",
      "이제나만믿어요  |  임영웅\n",
      "StepBack  |  GOT the beat\n",
      "다시사랑한다면(김필Ver.)  |  임영웅\n",
      "리무진(Feat.MINO)(Prod.byGRAY)  |  BE'O (비오)\n",
      "서랍  |  10CM\n",
      "눈이오잖아(Feat.헤이즈)  |  이무진\n",
      "Stay  |  The Kid LAROI & Justin Bieber\n",
      "신호등  |  이무진\n",
      "CountingStars(Feat.Beenzino)  |  BE'O (비오)\n",
      "strawberrymoon  |  아이유 (IU)\n",
      "NextLevel  |  aespa\n",
      "겨울잠  |  아이유 (IU)\n",
      "별빛같은나의사랑아  |  임영웅\n",
      "Can'tControlMyself  |  태연 (TAEYEON)\n",
      "그대라는사치  |  임영웅\n",
      "끝사랑  |  임영웅\n",
      "Weekend  |  태연 (TAEYEON)\n",
      "잊었니  |  임영웅\n",
      "겨울..그다음봄  |  로시 (Rothy)\n",
      "HERO  |  임영웅\n",
      "너,너(N번째연애X휘인(WheeIn))  |  휘인 (Whee In)\n",
      "BadHabits  |  Ed Sheeran\n",
      "OHAYOMYNIGHT  |  디핵 (D-Hack) & PATEKO\n",
      "BkLove  |  임영웅\n",
      "문득  |  BE'O (비오)\n",
      "TinyRiot  |  Sam Ryder\n",
      "만남은쉽고이별은어려워(Feat.Leellamarz)(Prod.byTOIL)  |  베이식\n",
      "SMILEY(Feat.BIBI)  |  YENA (최예나)\n",
      "흰눈  |  먼데이 키즈 (Monday Kiz)\n",
      "바라만본다  |  MSG워너비 (M.O.M)\n",
      "Stronger(WhatDoesn'tKillYou)  |  Kelly Clarkson\n",
      "봄이피어나  |  비투비\n",
      "DreamsComeTrue  |  aespa\n",
      "드라마  |  아이유 (IU)\n",
      "우리가헤어져야했던이유  |  비비 (BIBI)\n",
      "너를생각해  |  주시크 (Joosiq)\n",
      "라일락  |  아이유 (IU)\n",
      "PermissiontoDance  |  방탄소년단\n"
=======
      "취중고백  |  김민석 (멜로망스)\n",
      "노래(TheSong)  |  비투비\n",
      "abcdefu  |  GAYLE\n",
      "사랑은늘도망가  |  임영웅\n",
      "회전목마(Feat.Zion.T&원슈타인)(Prod.bySlom)  |  sokodomo\n",
      "다정히내이름을부르면  |  경서예지 & 전건호\n",
      "ELEVEN  |  IVE (아이브)\n",
      "호랑수월가  |  탑현\n",
      "그래서그래(Feat.윤하)  |  에픽하이 (EPIK HIGH)\n",
      "리무진(Feat.MINO)(Prod.byGRAY)  |  BE'O (비오)\n",
      "StepBack  |  GOT the beat\n",
      "Stay  |  The Kid LAROI & Justin Bieber\n",
      "잊을수있을까  |  노을\n",
      "언제나사랑해  |  케이시 (Kassy)\n",
      "CountingStars(Feat.Beenzino)  |  BE'O (비오)\n",
      "서랍  |  10CM\n",
      "눈이오잖아(Feat.헤이즈)  |  이무진\n",
      "신호등  |  이무진\n",
      "strawberrymoon  |  아이유 (IU)\n",
      "NextLevel  |  aespa\n",
      "흰눈  |  먼데이 키즈 (Monday Kiz)\n",
      "이제나만믿어요  |  임영웅\n",
      "Can'tControlMyself  |  태연 (TAEYEON)\n",
      "바라만본다  |  MSG워너비 (M.O.M)\n",
      "겨울잠  |  아이유 (IU)\n",
      "문득  |  BE'O (비오)\n",
      "Weekend  |  태연 (TAEYEON)\n",
      "다시사랑한다면(김필Ver.)  |  임영웅\n",
      "SMILEY(Feat.BIBI)  |  YENA (최예나)\n",
      "만남은쉽고이별은어려워(Feat.Leellamarz)(Prod.byTOIL)  |  베이식\n",
      "BadHabits  |  Ed Sheeran\n",
      "너의모든순간  |  성시경\n",
      "OHAYOMYNIGHT  |  디핵 (D-Hack) & PATEKO\n",
      "DreamsComeTrue  |  aespa\n",
      "TinyRiot  |  Sam Ryder\n",
      "드라마  |  아이유 (IU)\n",
      "너를생각해  |  주시크 (Joosiq)\n",
      "Dynamite  |  방탄소년단\n",
      "우리가헤어져야했던이유  |  비비 (BIBI)\n",
      "별빛같은나의사랑아  |  임영웅\n",
      "MyUniverse  |  Coldplay & 방탄소년단\n",
      "Savage  |  aespa\n",
      "Butter  |  방탄소년단\n",
      "너,너(N번째연애X휘인(WheeIn))  |  휘인 (Whee In)\n",
      "Celebrity  |  아이유 (IU)\n",
      "잊었니  |  임영웅\n",
      "Stronger(WhatDoesn'tKillYou)  |  Kelly Clarkson\n",
      "그대라는사치  |  임영웅\n",
      "낙하(With아이유)  |  AKMU (악뮤)\n"
>>>>>>> 94677759afae943ac4282fb427e20b22d1464f2a
     ]
    },
    {
     "data": {
      "text/plain": [
       "[['Genie', 1, 'INVU', '태연 (TAEYEON)'],\n",
<<<<<<< HEAD
       " ['Genie', 2, '노래(TheSong)', '비투비'],\n",
       " ['Genie', 3, '취중고백', '김민석 (멜로망스)'],\n",
       " ['Genie', 4, 'abcdefu', 'GAYLE'],\n",
       " ['Genie', 5, '사랑은늘도망가', '임영웅'],\n",
       " ['Genie', 6, '그래서그래(Feat.윤하)', '에픽하이 (EPIK HIGH)'],\n",
       " ['Genie', 7, '다정히내이름을부르면', '경서예지 & 전건호'],\n",
       " ['Genie', 8, '호랑수월가', '탑현'],\n",
       " ['Genie', 9, '회전목마(Feat.Zion.T&원슈타인)(Prod.bySlom)', 'sokodomo'],\n",
       " ['Genie', 10, 'ELEVEN', 'IVE (아이브)'],\n",
       " ['Genie', 11, '잊을수있을까', '노을'],\n",
       " ['Genie', 12, '언제나사랑해', '케이시 (Kassy)'],\n",
       " ['Genie', 13, '이제나만믿어요', '임영웅'],\n",
       " ['Genie', 14, 'StepBack', 'GOT the beat'],\n",
       " ['Genie', 15, '다시사랑한다면(김필Ver.)', '임영웅'],\n",
       " ['Genie', 16, '리무진(Feat.MINO)(Prod.byGRAY)', \"BE'O (비오)\"],\n",
       " ['Genie', 17, '서랍', '10CM'],\n",
       " ['Genie', 18, '눈이오잖아(Feat.헤이즈)', '이무진'],\n",
       " ['Genie', 19, 'Stay', 'The Kid LAROI & Justin Bieber'],\n",
       " ['Genie', 20, '신호등', '이무진'],\n",
       " ['Genie', 21, 'CountingStars(Feat.Beenzino)', \"BE'O (비오)\"],\n",
       " ['Genie', 22, 'strawberrymoon', '아이유 (IU)'],\n",
       " ['Genie', 23, 'NextLevel', 'aespa'],\n",
       " ['Genie', 24, '겨울잠', '아이유 (IU)'],\n",
       " ['Genie', 25, '별빛같은나의사랑아', '임영웅'],\n",
       " ['Genie', 26, \"Can'tControlMyself\", '태연 (TAEYEON)'],\n",
       " ['Genie', 27, '그대라는사치', '임영웅'],\n",
       " ['Genie', 28, '끝사랑', '임영웅'],\n",
       " ['Genie', 29, 'Weekend', '태연 (TAEYEON)'],\n",
       " ['Genie', 30, '잊었니', '임영웅'],\n",
       " ['Genie', 31, '겨울..그다음봄', '로시 (Rothy)'],\n",
       " ['Genie', 32, 'HERO', '임영웅'],\n",
       " ['Genie', 33, '너,너(N번째연애X휘인(WheeIn))', '휘인 (Whee In)'],\n",
       " ['Genie', 34, 'BadHabits', 'Ed Sheeran'],\n",
       " ['Genie', 35, 'OHAYOMYNIGHT', '디핵 (D-Hack) & PATEKO'],\n",
       " ['Genie', 36, 'BkLove', '임영웅'],\n",
       " ['Genie', 37, '문득', \"BE'O (비오)\"],\n",
       " ['Genie', 38, 'TinyRiot', 'Sam Ryder'],\n",
       " ['Genie', 39, '만남은쉽고이별은어려워(Feat.Leellamarz)(Prod.byTOIL)', '베이식'],\n",
       " ['Genie', 40, 'SMILEY(Feat.BIBI)', 'YENA (최예나)'],\n",
       " ['Genie', 41, '흰눈', '먼데이 키즈 (Monday Kiz)'],\n",
       " ['Genie', 42, '바라만본다', 'MSG워너비 (M.O.M)'],\n",
       " ['Genie', 43, \"Stronger(WhatDoesn'tKillYou)\", 'Kelly Clarkson'],\n",
       " ['Genie', 44, '봄이피어나', '비투비'],\n",
       " ['Genie', 45, 'DreamsComeTrue', 'aespa'],\n",
       " ['Genie', 46, '드라마', '아이유 (IU)'],\n",
       " ['Genie', 47, '우리가헤어져야했던이유', '비비 (BIBI)'],\n",
       " ['Genie', 48, '너를생각해', '주시크 (Joosiq)'],\n",
       " ['Genie', 49, '라일락', '아이유 (IU)'],\n",
       " ['Genie', 50, 'PermissiontoDance', '방탄소년단']]"
      ]
     },
     "execution_count": 88,
=======
       " ['Genie', 2, '취중고백', '김민석 (멜로망스)'],\n",
       " ['Genie', 3, '노래(TheSong)', '비투비'],\n",
       " ['Genie', 4, 'abcdefu', 'GAYLE'],\n",
       " ['Genie', 5, '사랑은늘도망가', '임영웅'],\n",
       " ['Genie', 6, '회전목마(Feat.Zion.T&원슈타인)(Prod.bySlom)', 'sokodomo'],\n",
       " ['Genie', 7, '다정히내이름을부르면', '경서예지 & 전건호'],\n",
       " ['Genie', 8, 'ELEVEN', 'IVE (아이브)'],\n",
       " ['Genie', 9, '호랑수월가', '탑현'],\n",
       " ['Genie', 10, '그래서그래(Feat.윤하)', '에픽하이 (EPIK HIGH)'],\n",
       " ['Genie', 11, '리무진(Feat.MINO)(Prod.byGRAY)', \"BE'O (비오)\"],\n",
       " ['Genie', 12, 'StepBack', 'GOT the beat'],\n",
       " ['Genie', 13, 'Stay', 'The Kid LAROI & Justin Bieber'],\n",
       " ['Genie', 14, '잊을수있을까', '노을'],\n",
       " ['Genie', 15, '언제나사랑해', '케이시 (Kassy)'],\n",
       " ['Genie', 16, 'CountingStars(Feat.Beenzino)', \"BE'O (비오)\"],\n",
       " ['Genie', 17, '서랍', '10CM'],\n",
       " ['Genie', 18, '눈이오잖아(Feat.헤이즈)', '이무진'],\n",
       " ['Genie', 19, '신호등', '이무진'],\n",
       " ['Genie', 20, 'strawberrymoon', '아이유 (IU)'],\n",
       " ['Genie', 21, 'NextLevel', 'aespa'],\n",
       " ['Genie', 22, '흰눈', '먼데이 키즈 (Monday Kiz)'],\n",
       " ['Genie', 23, '이제나만믿어요', '임영웅'],\n",
       " ['Genie', 24, \"Can'tControlMyself\", '태연 (TAEYEON)'],\n",
       " ['Genie', 25, '바라만본다', 'MSG워너비 (M.O.M)'],\n",
       " ['Genie', 26, '겨울잠', '아이유 (IU)'],\n",
       " ['Genie', 27, '문득', \"BE'O (비오)\"],\n",
       " ['Genie', 28, 'Weekend', '태연 (TAEYEON)'],\n",
       " ['Genie', 29, '다시사랑한다면(김필Ver.)', '임영웅'],\n",
       " ['Genie', 30, 'SMILEY(Feat.BIBI)', 'YENA (최예나)'],\n",
       " ['Genie', 31, '만남은쉽고이별은어려워(Feat.Leellamarz)(Prod.byTOIL)', '베이식'],\n",
       " ['Genie', 32, 'BadHabits', 'Ed Sheeran'],\n",
       " ['Genie', 33, '너의모든순간', '성시경'],\n",
       " ['Genie', 34, 'OHAYOMYNIGHT', '디핵 (D-Hack) & PATEKO'],\n",
       " ['Genie', 35, 'DreamsComeTrue', 'aespa'],\n",
       " ['Genie', 36, 'TinyRiot', 'Sam Ryder'],\n",
       " ['Genie', 37, '드라마', '아이유 (IU)'],\n",
       " ['Genie', 38, '너를생각해', '주시크 (Joosiq)'],\n",
       " ['Genie', 39, 'Dynamite', '방탄소년단'],\n",
       " ['Genie', 40, '우리가헤어져야했던이유', '비비 (BIBI)'],\n",
       " ['Genie', 41, '별빛같은나의사랑아', '임영웅'],\n",
       " ['Genie', 42, 'MyUniverse', 'Coldplay & 방탄소년단'],\n",
       " ['Genie', 43, 'Savage', 'aespa'],\n",
       " ['Genie', 44, 'Butter', '방탄소년단'],\n",
       " ['Genie', 45, '너,너(N번째연애X휘인(WheeIn))', '휘인 (Whee In)'],\n",
       " ['Genie', 46, 'Celebrity', '아이유 (IU)'],\n",
       " ['Genie', 47, '잊었니', '임영웅'],\n",
       " ['Genie', 48, \"Stronger(WhatDoesn'tKillYou)\", 'Kelly Clarkson'],\n",
       " ['Genie', 49, '그대라는사치', '임영웅'],\n",
       " ['Genie', 50, '낙하(With아이유)', 'AKMU (악뮤)']]"
      ]
     },
     "execution_count": 344,
>>>>>>> 94677759afae943ac4282fb427e20b22d1464f2a
     "metadata": {},
     "output_type": "execute_result"
    }
   ],
   "source": [
    "song_data = []\n",
    "rank = 1\n",
    "songs = soup.select('table.list-wrap > tbody > tr')\n",
    "for song in songs:\n",
    "    title = song.select('td.info > a.ellipsis')[0].text\n",
    "    title = title.replace('\\n',\"\")\n",
    "    title = title.replace(' ',\"\")\n",
    "    singer = song.select('td.info > a.artist')[0].text\n",
    "    print(title,\" | \",singer)\n",
    "    song_data.append([\"Genie\",rank,title,singer])\n",
    "    rank = rank + 1\n",
    "song_data"
   ]
  },
  {
   "cell_type": "code",
<<<<<<< HEAD
   "execution_count": 89,
=======
   "execution_count": 351,
>>>>>>> 94677759afae943ac4282fb427e20b22d1464f2a
   "id": "4ae4aec7",
   "metadata": {},
   "outputs": [
    {
     "data": {
      "text/html": [
       "<div>\n",
       "<style scoped>\n",
       "    .dataframe tbody tr th:only-of-type {\n",
       "        vertical-align: middle;\n",
       "    }\n",
       "\n",
       "    .dataframe tbody tr th {\n",
       "        vertical-align: top;\n",
       "    }\n",
       "\n",
       "    .dataframe thead th {\n",
       "        text-align: right;\n",
       "    }\n",
       "</style>\n",
       "<table border=\"1\" class=\"dataframe\">\n",
       "  <thead>\n",
       "    <tr style=\"text-align: right;\">\n",
       "      <th></th>\n",
       "      <th>서비스</th>\n",
       "      <th>순위</th>\n",
       "      <th>타이틀</th>\n",
       "      <th>가수</th>\n",
       "    </tr>\n",
       "  </thead>\n",
       "  <tbody>\n",
       "    <tr>\n",
       "      <th>0</th>\n",
       "      <td>Genie</td>\n",
       "      <td>1</td>\n",
       "      <td>INVU</td>\n",
       "      <td>태연 (TAEYEON)</td>\n",
       "    </tr>\n",
       "    <tr>\n",
       "      <th>1</th>\n",
       "      <td>Genie</td>\n",
       "      <td>2</td>\n",
<<<<<<< HEAD
       "      <td>노래(TheSong)</td>\n",
       "      <td>비투비</td>\n",
=======
       "      <td>취중고백</td>\n",
       "      <td>김민석 (멜로망스)</td>\n",
>>>>>>> 94677759afae943ac4282fb427e20b22d1464f2a
       "    </tr>\n",
       "    <tr>\n",
       "      <th>2</th>\n",
       "      <td>Genie</td>\n",
       "      <td>3</td>\n",
<<<<<<< HEAD
       "      <td>취중고백</td>\n",
       "      <td>김민석 (멜로망스)</td>\n",
=======
       "      <td>노래(TheSong)</td>\n",
       "      <td>비투비</td>\n",
>>>>>>> 94677759afae943ac4282fb427e20b22d1464f2a
       "    </tr>\n",
       "    <tr>\n",
       "      <th>3</th>\n",
       "      <td>Genie</td>\n",
       "      <td>4</td>\n",
       "      <td>abcdefu</td>\n",
       "      <td>GAYLE</td>\n",
       "    </tr>\n",
       "    <tr>\n",
       "      <th>4</th>\n",
       "      <td>Genie</td>\n",
       "      <td>5</td>\n",
       "      <td>사랑은늘도망가</td>\n",
       "      <td>임영웅</td>\n",
       "    </tr>\n",
       "  </tbody>\n",
       "</table>\n",
       "</div>"
      ],
      "text/plain": [
       "     서비스  순위          타이틀            가수\n",
       "0  Genie   1         INVU  태연 (TAEYEON)\n",
<<<<<<< HEAD
       "1  Genie   2  노래(TheSong)           비투비\n",
       "2  Genie   3         취중고백    김민석 (멜로망스)\n",
=======
       "1  Genie   2         취중고백    김민석 (멜로망스)\n",
       "2  Genie   3  노래(TheSong)           비투비\n",
>>>>>>> 94677759afae943ac4282fb427e20b22d1464f2a
       "3  Genie   4      abcdefu         GAYLE\n",
       "4  Genie   5      사랑은늘도망가           임영웅"
      ]
     },
<<<<<<< HEAD
     "execution_count": 89,
=======
     "execution_count": 351,
>>>>>>> 94677759afae943ac4282fb427e20b22d1464f2a
     "metadata": {},
     "output_type": "execute_result"
    }
   ],
   "source": [
    "columns = ['서비스','순위','타이틀','가수']\n",
    "pd_data = pd.DataFrame(song_data,columns = columns)\n",
    "pd_data.head()"
   ]
  },
  {
   "cell_type": "code",
<<<<<<< HEAD
   "execution_count": 90,
=======
   "execution_count": 353,
>>>>>>> 94677759afae943ac4282fb427e20b22d1464f2a
   "id": "a2b1b72d",
   "metadata": {},
   "outputs": [],
   "source": [
    "pd_data.to_excel('./files/genie.xlsx',index=False)"
   ]
  },
  {
   "cell_type": "code",
<<<<<<< HEAD
   "execution_count": 91,
=======
   "execution_count": 350,
>>>>>>> 94677759afae943ac4282fb427e20b22d1464f2a
   "id": "cef3762f",
   "metadata": {},
   "outputs": [
    {
     "name": "stdout",
     "output_type": "stream",
     "text": [
<<<<<<< HEAD
      "INVU  |  태연 (TAEYEON)\n",
      "노래(TheSong)  |  비투비\n",
      "취중고백  |  김민석 (멜로망스)\n",
      "abcdefu  |  GAYLE\n",
      "사랑은늘도망가  |  임영웅\n",
      "그래서그래(Feat.윤하)  |  에픽하이 (EPIK HIGH)\n",
      "다정히내이름을부르면  |  경서예지 & 전건호\n",
      "호랑수월가  |  탑현\n",
      "회전목마(Feat.Zion.T&원슈타인)(Prod.bySlom)  |  sokodomo\n",
      "ELEVEN  |  IVE (아이브)\n",
      "잊을수있을까  |  노을\n",
      "언제나사랑해  |  케이시 (Kassy)\n",
      "이제나만믿어요  |  임영웅\n",
      "StepBack  |  GOT the beat\n",
      "다시사랑한다면(김필Ver.)  |  임영웅\n",
      "리무진(Feat.MINO)(Prod.byGRAY)  |  BE'O (비오)\n",
      "서랍  |  10CM\n",
      "눈이오잖아(Feat.헤이즈)  |  이무진\n",
      "Stay  |  The Kid LAROI & Justin Bieber\n",
      "신호등  |  이무진\n",
      "CountingStars(Feat.Beenzino)  |  BE'O (비오)\n",
      "strawberrymoon  |  아이유 (IU)\n",
      "NextLevel  |  aespa\n",
      "겨울잠  |  아이유 (IU)\n",
      "별빛같은나의사랑아  |  임영웅\n",
      "Can'tControlMyself  |  태연 (TAEYEON)\n",
      "그대라는사치  |  임영웅\n",
      "끝사랑  |  임영웅\n",
      "Weekend  |  태연 (TAEYEON)\n",
      "잊었니  |  임영웅\n",
      "겨울..그다음봄  |  로시 (Rothy)\n",
      "HERO  |  임영웅\n",
      "너,너(N번째연애X휘인(WheeIn))  |  휘인 (Whee In)\n",
      "BadHabits  |  Ed Sheeran\n",
      "OHAYOMYNIGHT  |  디핵 (D-Hack) & PATEKO\n",
      "BkLove  |  임영웅\n",
      "문득  |  BE'O (비오)\n",
      "TinyRiot  |  Sam Ryder\n",
      "만남은쉽고이별은어려워(Feat.Leellamarz)(Prod.byTOIL)  |  베이식\n",
      "SMILEY(Feat.BIBI)  |  YENA (최예나)\n",
      "흰눈  |  먼데이 키즈 (Monday Kiz)\n",
      "바라만본다  |  MSG워너비 (M.O.M)\n",
      "Stronger(WhatDoesn'tKillYou)  |  Kelly Clarkson\n",
      "봄이피어나  |  비투비\n",
      "DreamsComeTrue  |  aespa\n",
      "드라마  |  아이유 (IU)\n",
      "우리가헤어져야했던이유  |  비비 (BIBI)\n",
      "너를생각해  |  주시크 (Joosiq)\n",
      "라일락  |  아이유 (IU)\n",
      "PermissiontoDance  |  방탄소년단\n"
=======
      "라일락  |  아이유 (IU)\n",
      "끝사랑  |  임영웅\n",
      "밤하늘의별을(2020)  |  경서\n",
      "HERO  |  임영웅\n",
      "RUN2U  |  STAYC (스테이씨)\n",
      "PermissiontoDance  |  방탄소년단\n",
      "모든날,모든순간(Everyday,EveryMoment)  |  폴킴\n",
      "찰나가영원이될때(TheEternalMoment)  |  마크툽 (Maktub)\n",
      "BkLove  |  임영웅\n",
      "HeyMama(Feat.NickiMinaj&BebeRexha&Afrojack)  |  David Guetta\n",
      "ChristmasTree  |  V\n",
      "고백  |  멜로망스 (MeloMance)\n",
      "OffMyFace  |  Justin Bieber\n",
      "헤픈우연  |  헤이즈 (Heize)\n",
      "쉬어(Feat.MINO)(Prod.byGRAY)  |  아넌딜라이트 (Anandelight) & Unofficialboyy & BE'O (비오) & 지구인 & Mudd The Student\n",
      "내손을잡아  |  아이유 (IU)\n",
      "사이렌Remix(Feat.UNEDUCATEDKID&PaulBlanco)  |  호미들\n",
      "그게더편할것같아(N번째연애X멜로망스)  |  멜로망스 (MeloMance)\n",
      "2002  |  Anne-Marie\n",
      "직진(JIKJIN)  |  TREASURE (트레저)\n",
      "SavageLove(Laxed-SirenBeat)(BTSRemix)  |  Jawsh 685 & Jason Derulo & 방탄소년단\n",
      "오늘도빛나는너에게(ToYouMyLight)(Feat.이라온)  |  마크툽 (Maktub)\n",
      "WakeUp(Prod.by코드쿤스트)  |  개코 & 아우릴고트 (OUREALGOAT) & SINCE & 안병웅 & Tabber & 조광일\n",
      "불협화음(Feat.AKMU)(Prod.byGRAY)  |  Mudd the student\n",
      "롤린(Rollin')  |  브레이브걸스 (Brave girls)\n",
      "AtMyWorst  |  Pink Sweat$\n",
      "늦은밤너의집앞골목길에서  |  노을\n",
      "밝게빛나는별이되어비춰줄게  |  송이한\n",
      "계단말고엘리베이터  |  임영웅\n",
      "Blueming  |  아이유 (IU)\n",
      "시간을거슬러(낮에뜨는달X케이윌)  |  케이윌 (K.Will)\n",
      "어떻게이별까지사랑하겠어,널사랑하는거지  |  AKMU (악뮤)\n",
      "흔들리는꽃들속에서네샴푸향이느껴진거야  |  장범준\n",
      "봄이피어나  |  비투비\n",
      "이별후회  |  김나영\n",
      "네가없는밤(Feat.ASHISLAND)(Prod.byGRAY)  |  BE'O (비오)\n",
      "19금Peaches(Feat.DanielCaesar&Giveon)  |  Justin Bieber\n",
      "비와당신  |  이무진\n",
      "추억은만남보다이별에남아  |  정동하\n",
      "대낮에한이별  |  선예 & 임슬옹\n",
      "에잇(Prod.&Feat.SUGAofBTS)  |  아이유 (IU)\n",
      "첫눈처럼너에게가겠다  |  에일리 (Ailee)\n",
      "12:45(Stripped)  |  etham\n",
      "DunDunDance  |  오마이걸 (OH MY GIRL)\n",
      "작은것들을위한시(BoyWithLuv)(Feat.Halsey)  |  방탄소년단\n",
      "언덕나무  |  이승윤\n",
      "우리(BeTogether)  |  비투비\n",
      "오래된노래  |  Standing Egg (스탠딩 에그)\n",
      "거리에서  |  성시경\n",
      "Bad  |  Christopher\n"
>>>>>>> 94677759afae943ac4282fb427e20b22d1464f2a
     ]
    },
    {
     "data": {
      "text/plain": [
       "[['Genie', 1, 'INVU', '태연 (TAEYEON)'],\n",
<<<<<<< HEAD
       " ['Genie', 2, '노래(TheSong)', '비투비'],\n",
       " ['Genie', 3, '취중고백', '김민석 (멜로망스)'],\n",
       " ['Genie', 4, 'abcdefu', 'GAYLE'],\n",
       " ['Genie', 5, '사랑은늘도망가', '임영웅'],\n",
       " ['Genie', 6, '그래서그래(Feat.윤하)', '에픽하이 (EPIK HIGH)'],\n",
       " ['Genie', 7, '다정히내이름을부르면', '경서예지 & 전건호'],\n",
       " ['Genie', 8, '호랑수월가', '탑현'],\n",
       " ['Genie', 9, '회전목마(Feat.Zion.T&원슈타인)(Prod.bySlom)', 'sokodomo'],\n",
       " ['Genie', 10, 'ELEVEN', 'IVE (아이브)'],\n",
       " ['Genie', 11, '잊을수있을까', '노을'],\n",
       " ['Genie', 12, '언제나사랑해', '케이시 (Kassy)'],\n",
       " ['Genie', 13, '이제나만믿어요', '임영웅'],\n",
       " ['Genie', 14, 'StepBack', 'GOT the beat'],\n",
       " ['Genie', 15, '다시사랑한다면(김필Ver.)', '임영웅'],\n",
       " ['Genie', 16, '리무진(Feat.MINO)(Prod.byGRAY)', \"BE'O (비오)\"],\n",
       " ['Genie', 17, '서랍', '10CM'],\n",
       " ['Genie', 18, '눈이오잖아(Feat.헤이즈)', '이무진'],\n",
       " ['Genie', 19, 'Stay', 'The Kid LAROI & Justin Bieber'],\n",
       " ['Genie', 20, '신호등', '이무진'],\n",
       " ['Genie', 21, 'CountingStars(Feat.Beenzino)', \"BE'O (비오)\"],\n",
       " ['Genie', 22, 'strawberrymoon', '아이유 (IU)'],\n",
       " ['Genie', 23, 'NextLevel', 'aespa'],\n",
       " ['Genie', 24, '겨울잠', '아이유 (IU)'],\n",
       " ['Genie', 25, '별빛같은나의사랑아', '임영웅'],\n",
       " ['Genie', 26, \"Can'tControlMyself\", '태연 (TAEYEON)'],\n",
       " ['Genie', 27, '그대라는사치', '임영웅'],\n",
       " ['Genie', 28, '끝사랑', '임영웅'],\n",
       " ['Genie', 29, 'Weekend', '태연 (TAEYEON)'],\n",
       " ['Genie', 30, '잊었니', '임영웅'],\n",
       " ['Genie', 31, '겨울..그다음봄', '로시 (Rothy)'],\n",
       " ['Genie', 32, 'HERO', '임영웅'],\n",
       " ['Genie', 33, '너,너(N번째연애X휘인(WheeIn))', '휘인 (Whee In)'],\n",
       " ['Genie', 34, 'BadHabits', 'Ed Sheeran'],\n",
       " ['Genie', 35, 'OHAYOMYNIGHT', '디핵 (D-Hack) & PATEKO'],\n",
       " ['Genie', 36, 'BkLove', '임영웅'],\n",
       " ['Genie', 37, '문득', \"BE'O (비오)\"],\n",
       " ['Genie', 38, 'TinyRiot', 'Sam Ryder'],\n",
       " ['Genie', 39, '만남은쉽고이별은어려워(Feat.Leellamarz)(Prod.byTOIL)', '베이식'],\n",
       " ['Genie', 40, 'SMILEY(Feat.BIBI)', 'YENA (최예나)'],\n",
       " ['Genie', 41, '흰눈', '먼데이 키즈 (Monday Kiz)'],\n",
       " ['Genie', 42, '바라만본다', 'MSG워너비 (M.O.M)'],\n",
       " ['Genie', 43, \"Stronger(WhatDoesn'tKillYou)\", 'Kelly Clarkson'],\n",
       " ['Genie', 44, '봄이피어나', '비투비'],\n",
       " ['Genie', 45, 'DreamsComeTrue', 'aespa'],\n",
       " ['Genie', 46, '드라마', '아이유 (IU)'],\n",
       " ['Genie', 47, '우리가헤어져야했던이유', '비비 (BIBI)'],\n",
       " ['Genie', 48, '너를생각해', '주시크 (Joosiq)'],\n",
       " ['Genie', 49, '라일락', '아이유 (IU)'],\n",
       " ['Genie', 50, 'PermissiontoDance', '방탄소년단'],\n",
       " ['Genie', 51, 'INVU', '태연 (TAEYEON)'],\n",
       " ['Genie', 52, '노래(TheSong)', '비투비'],\n",
       " ['Genie', 53, '취중고백', '김민석 (멜로망스)'],\n",
       " ['Genie', 54, 'abcdefu', 'GAYLE'],\n",
       " ['Genie', 55, '사랑은늘도망가', '임영웅'],\n",
       " ['Genie', 56, '그래서그래(Feat.윤하)', '에픽하이 (EPIK HIGH)'],\n",
       " ['Genie', 57, '다정히내이름을부르면', '경서예지 & 전건호'],\n",
       " ['Genie', 58, '호랑수월가', '탑현'],\n",
       " ['Genie', 59, '회전목마(Feat.Zion.T&원슈타인)(Prod.bySlom)', 'sokodomo'],\n",
       " ['Genie', 60, 'ELEVEN', 'IVE (아이브)'],\n",
       " ['Genie', 61, '잊을수있을까', '노을'],\n",
       " ['Genie', 62, '언제나사랑해', '케이시 (Kassy)'],\n",
       " ['Genie', 63, '이제나만믿어요', '임영웅'],\n",
       " ['Genie', 64, 'StepBack', 'GOT the beat'],\n",
       " ['Genie', 65, '다시사랑한다면(김필Ver.)', '임영웅'],\n",
       " ['Genie', 66, '리무진(Feat.MINO)(Prod.byGRAY)', \"BE'O (비오)\"],\n",
       " ['Genie', 67, '서랍', '10CM'],\n",
       " ['Genie', 68, '눈이오잖아(Feat.헤이즈)', '이무진'],\n",
       " ['Genie', 69, 'Stay', 'The Kid LAROI & Justin Bieber'],\n",
       " ['Genie', 70, '신호등', '이무진'],\n",
       " ['Genie', 71, 'CountingStars(Feat.Beenzino)', \"BE'O (비오)\"],\n",
       " ['Genie', 72, 'strawberrymoon', '아이유 (IU)'],\n",
       " ['Genie', 73, 'NextLevel', 'aespa'],\n",
       " ['Genie', 74, '겨울잠', '아이유 (IU)'],\n",
       " ['Genie', 75, '별빛같은나의사랑아', '임영웅'],\n",
       " ['Genie', 76, \"Can'tControlMyself\", '태연 (TAEYEON)'],\n",
       " ['Genie', 77, '그대라는사치', '임영웅'],\n",
       " ['Genie', 78, '끝사랑', '임영웅'],\n",
       " ['Genie', 79, 'Weekend', '태연 (TAEYEON)'],\n",
       " ['Genie', 80, '잊었니', '임영웅'],\n",
       " ['Genie', 81, '겨울..그다음봄', '로시 (Rothy)'],\n",
       " ['Genie', 82, 'HERO', '임영웅'],\n",
       " ['Genie', 83, '너,너(N번째연애X휘인(WheeIn))', '휘인 (Whee In)'],\n",
       " ['Genie', 84, 'BadHabits', 'Ed Sheeran'],\n",
       " ['Genie', 85, 'OHAYOMYNIGHT', '디핵 (D-Hack) & PATEKO'],\n",
       " ['Genie', 86, 'BkLove', '임영웅'],\n",
       " ['Genie', 87, '문득', \"BE'O (비오)\"],\n",
       " ['Genie', 88, 'TinyRiot', 'Sam Ryder'],\n",
       " ['Genie', 89, '만남은쉽고이별은어려워(Feat.Leellamarz)(Prod.byTOIL)', '베이식'],\n",
       " ['Genie', 90, 'SMILEY(Feat.BIBI)', 'YENA (최예나)'],\n",
       " ['Genie', 91, '흰눈', '먼데이 키즈 (Monday Kiz)'],\n",
       " ['Genie', 92, '바라만본다', 'MSG워너비 (M.O.M)'],\n",
       " ['Genie', 93, \"Stronger(WhatDoesn'tKillYou)\", 'Kelly Clarkson'],\n",
       " ['Genie', 94, '봄이피어나', '비투비'],\n",
       " ['Genie', 95, 'DreamsComeTrue', 'aespa'],\n",
       " ['Genie', 96, '드라마', '아이유 (IU)'],\n",
       " ['Genie', 97, '우리가헤어져야했던이유', '비비 (BIBI)'],\n",
       " ['Genie', 98, '너를생각해', '주시크 (Joosiq)'],\n",
       " ['Genie', 99, '라일락', '아이유 (IU)'],\n",
       " ['Genie', 100, 'PermissiontoDance', '방탄소년단']]"
      ]
     },
     "execution_count": 91,
=======
       " ['Genie', 2, '취중고백', '김민석 (멜로망스)'],\n",
       " ['Genie', 3, '노래(TheSong)', '비투비'],\n",
       " ['Genie', 4, 'abcdefu', 'GAYLE'],\n",
       " ['Genie', 5, '사랑은늘도망가', '임영웅'],\n",
       " ['Genie', 6, '회전목마(Feat.Zion.T&원슈타인)(Prod.bySlom)', 'sokodomo'],\n",
       " ['Genie', 7, '다정히내이름을부르면', '경서예지 & 전건호'],\n",
       " ['Genie', 8, 'ELEVEN', 'IVE (아이브)'],\n",
       " ['Genie', 9, '호랑수월가', '탑현'],\n",
       " ['Genie', 10, '그래서그래(Feat.윤하)', '에픽하이 (EPIK HIGH)'],\n",
       " ['Genie', 11, '리무진(Feat.MINO)(Prod.byGRAY)', \"BE'O (비오)\"],\n",
       " ['Genie', 12, 'StepBack', 'GOT the beat'],\n",
       " ['Genie', 13, 'Stay', 'The Kid LAROI & Justin Bieber'],\n",
       " ['Genie', 14, '잊을수있을까', '노을'],\n",
       " ['Genie', 15, '언제나사랑해', '케이시 (Kassy)'],\n",
       " ['Genie', 16, 'CountingStars(Feat.Beenzino)', \"BE'O (비오)\"],\n",
       " ['Genie', 17, '서랍', '10CM'],\n",
       " ['Genie', 18, '눈이오잖아(Feat.헤이즈)', '이무진'],\n",
       " ['Genie', 19, '신호등', '이무진'],\n",
       " ['Genie', 20, 'strawberrymoon', '아이유 (IU)'],\n",
       " ['Genie', 21, 'NextLevel', 'aespa'],\n",
       " ['Genie', 22, '흰눈', '먼데이 키즈 (Monday Kiz)'],\n",
       " ['Genie', 23, '이제나만믿어요', '임영웅'],\n",
       " ['Genie', 24, \"Can'tControlMyself\", '태연 (TAEYEON)'],\n",
       " ['Genie', 25, '바라만본다', 'MSG워너비 (M.O.M)'],\n",
       " ['Genie', 26, '겨울잠', '아이유 (IU)'],\n",
       " ['Genie', 27, '문득', \"BE'O (비오)\"],\n",
       " ['Genie', 28, 'Weekend', '태연 (TAEYEON)'],\n",
       " ['Genie', 29, '다시사랑한다면(김필Ver.)', '임영웅'],\n",
       " ['Genie', 30, 'SMILEY(Feat.BIBI)', 'YENA (최예나)'],\n",
       " ['Genie', 31, '만남은쉽고이별은어려워(Feat.Leellamarz)(Prod.byTOIL)', '베이식'],\n",
       " ['Genie', 32, 'BadHabits', 'Ed Sheeran'],\n",
       " ['Genie', 33, '너의모든순간', '성시경'],\n",
       " ['Genie', 34, 'OHAYOMYNIGHT', '디핵 (D-Hack) & PATEKO'],\n",
       " ['Genie', 35, 'DreamsComeTrue', 'aespa'],\n",
       " ['Genie', 36, 'TinyRiot', 'Sam Ryder'],\n",
       " ['Genie', 37, '드라마', '아이유 (IU)'],\n",
       " ['Genie', 38, '너를생각해', '주시크 (Joosiq)'],\n",
       " ['Genie', 39, 'Dynamite', '방탄소년단'],\n",
       " ['Genie', 40, '우리가헤어져야했던이유', '비비 (BIBI)'],\n",
       " ['Genie', 41, '별빛같은나의사랑아', '임영웅'],\n",
       " ['Genie', 42, 'MyUniverse', 'Coldplay & 방탄소년단'],\n",
       " ['Genie', 43, 'Savage', 'aespa'],\n",
       " ['Genie', 44, 'Butter', '방탄소년단'],\n",
       " ['Genie', 45, '너,너(N번째연애X휘인(WheeIn))', '휘인 (Whee In)'],\n",
       " ['Genie', 46, 'Celebrity', '아이유 (IU)'],\n",
       " ['Genie', 47, '잊었니', '임영웅'],\n",
       " ['Genie', 48, \"Stronger(WhatDoesn'tKillYou)\", 'Kelly Clarkson'],\n",
       " ['Genie', 49, '그대라는사치', '임영웅'],\n",
       " ['Genie', 50, '낙하(With아이유)', 'AKMU (악뮤)'],\n",
       " ['Genie', 51, '라일락', '아이유 (IU)'],\n",
       " ['Genie', 52, '끝사랑', '임영웅'],\n",
       " ['Genie', 53, '밤하늘의별을(2020)', '경서'],\n",
       " ['Genie', 54, 'HERO', '임영웅'],\n",
       " ['Genie', 55, 'RUN2U', 'STAYC (스테이씨)'],\n",
       " ['Genie', 56, 'PermissiontoDance', '방탄소년단'],\n",
       " ['Genie', 57, '모든날,모든순간(Everyday,EveryMoment)', '폴킴'],\n",
       " ['Genie', 58, '찰나가영원이될때(TheEternalMoment)', '마크툽 (Maktub)'],\n",
       " ['Genie', 59, 'BkLove', '임영웅'],\n",
       " ['Genie', 60, 'HeyMama(Feat.NickiMinaj&BebeRexha&Afrojack)', 'David Guetta'],\n",
       " ['Genie', 61, 'ChristmasTree', 'V'],\n",
       " ['Genie', 62, '고백', '멜로망스 (MeloMance)'],\n",
       " ['Genie', 63, 'OffMyFace', 'Justin Bieber'],\n",
       " ['Genie', 64, '헤픈우연', '헤이즈 (Heize)'],\n",
       " ['Genie',\n",
       "  65,\n",
       "  '쉬어(Feat.MINO)(Prod.byGRAY)',\n",
       "  \"아넌딜라이트 (Anandelight) & Unofficialboyy & BE'O (비오) & 지구인 & Mudd The Student\"],\n",
       " ['Genie', 66, '내손을잡아', '아이유 (IU)'],\n",
       " ['Genie', 67, '사이렌Remix(Feat.UNEDUCATEDKID&PaulBlanco)', '호미들'],\n",
       " ['Genie', 68, '그게더편할것같아(N번째연애X멜로망스)', '멜로망스 (MeloMance)'],\n",
       " ['Genie', 69, '2002', 'Anne-Marie'],\n",
       " ['Genie', 70, '직진(JIKJIN)', 'TREASURE (트레저)'],\n",
       " ['Genie',\n",
       "  71,\n",
       "  'SavageLove(Laxed-SirenBeat)(BTSRemix)',\n",
       "  'Jawsh 685 & Jason Derulo & 방탄소년단'],\n",
       " ['Genie', 72, '오늘도빛나는너에게(ToYouMyLight)(Feat.이라온)', '마크툽 (Maktub)'],\n",
       " ['Genie',\n",
       "  73,\n",
       "  'WakeUp(Prod.by코드쿤스트)',\n",
       "  '개코 & 아우릴고트 (OUREALGOAT) & SINCE & 안병웅 & Tabber & 조광일'],\n",
       " ['Genie', 74, '불협화음(Feat.AKMU)(Prod.byGRAY)', 'Mudd the student'],\n",
       " ['Genie', 75, \"롤린(Rollin')\", '브레이브걸스 (Brave girls)'],\n",
       " ['Genie', 76, 'AtMyWorst', 'Pink Sweat$'],\n",
       " ['Genie', 77, '늦은밤너의집앞골목길에서', '노을'],\n",
       " ['Genie', 78, '밝게빛나는별이되어비춰줄게', '송이한'],\n",
       " ['Genie', 79, '계단말고엘리베이터', '임영웅'],\n",
       " ['Genie', 80, 'Blueming', '아이유 (IU)'],\n",
       " ['Genie', 81, '시간을거슬러(낮에뜨는달X케이윌)', '케이윌 (K.Will)'],\n",
       " ['Genie', 82, '어떻게이별까지사랑하겠어,널사랑하는거지', 'AKMU (악뮤)'],\n",
       " ['Genie', 83, '흔들리는꽃들속에서네샴푸향이느껴진거야', '장범준'],\n",
       " ['Genie', 84, '봄이피어나', '비투비'],\n",
       " ['Genie', 85, '이별후회', '김나영'],\n",
       " ['Genie', 86, '네가없는밤(Feat.ASHISLAND)(Prod.byGRAY)', \"BE'O (비오)\"],\n",
       " ['Genie', 87, '19금Peaches(Feat.DanielCaesar&Giveon)', 'Justin Bieber'],\n",
       " ['Genie', 88, '비와당신', '이무진'],\n",
       " ['Genie', 89, '추억은만남보다이별에남아', '정동하'],\n",
       " ['Genie', 90, '대낮에한이별', '선예 & 임슬옹'],\n",
       " ['Genie', 91, '에잇(Prod.&Feat.SUGAofBTS)', '아이유 (IU)'],\n",
       " ['Genie', 92, '첫눈처럼너에게가겠다', '에일리 (Ailee)'],\n",
       " ['Genie', 93, '12:45(Stripped)', 'etham'],\n",
       " ['Genie', 94, 'DunDunDance', '오마이걸 (OH MY GIRL)'],\n",
       " ['Genie', 95, '작은것들을위한시(BoyWithLuv)(Feat.Halsey)', '방탄소년단'],\n",
       " ['Genie', 96, '언덕나무', '이승윤'],\n",
       " ['Genie', 97, '우리(BeTogether)', '비투비'],\n",
       " ['Genie', 98, '오래된노래', 'Standing Egg (스탠딩 에그)'],\n",
       " ['Genie', 99, '거리에서', '성시경'],\n",
       " ['Genie', 100, 'Bad', 'Christopher']]"
      ]
     },
     "execution_count": 350,
>>>>>>> 94677759afae943ac4282fb427e20b22d1464f2a
     "metadata": {},
     "output_type": "execute_result"
    }
   ],
   "source": [
    "rank = 51\n",
    "songs = soup.select('table.list-wrap > tbody > tr')\n",
    "for song in songs:\n",
    "    title = song.select('td.info > a.ellipsis')[0].text\n",
    "    title = title.replace('\\n',\"\")\n",
    "    title = title.replace(' ',\"\")\n",
    "    singer = song.select('td.info > a.artist')[0].text\n",
    "    print(title,\" | \",singer)\n",
    "    song_data.append([\"Genie\",rank,title,singer])\n",
    "    rank = rank + 1\n",
    "song_data"
   ]
<<<<<<< HEAD
  },
  {
   "cell_type": "code",
   "execution_count": 93,
   "id": "738f5a13",
   "metadata": {},
   "outputs": [
    {
     "ename": "FileNotFoundError",
     "evalue": "[Errno 2] No such file or directory: '.files/bugs.xlsx'",
     "output_type": "error",
     "traceback": [
      "\u001b[1;31m---------------------------------------------------------------------------\u001b[0m",
      "\u001b[1;31mFileNotFoundError\u001b[0m                         Traceback (most recent call last)",
      "\u001b[1;32mC:\\Users\\SINDON~1\\AppData\\Local\\Temp/ipykernel_17852/3080235092.py\u001b[0m in \u001b[0;36m<module>\u001b[1;34m\u001b[0m\n\u001b[0;32m      3\u001b[0m \u001b[1;33m\u001b[0m\u001b[0m\n\u001b[0;32m      4\u001b[0m \u001b[1;32mfor\u001b[0m \u001b[0mname\u001b[0m \u001b[1;32min\u001b[0m \u001b[0mexcel_names\u001b[0m\u001b[1;33m:\u001b[0m\u001b[1;33m\u001b[0m\u001b[1;33m\u001b[0m\u001b[0m\n\u001b[1;32m----> 5\u001b[1;33m     \u001b[0mpd_data\u001b[0m \u001b[1;33m=\u001b[0m \u001b[0mpd\u001b[0m\u001b[1;33m.\u001b[0m\u001b[0mread_excel\u001b[0m\u001b[1;33m(\u001b[0m\u001b[0mname\u001b[0m\u001b[1;33m)\u001b[0m\u001b[1;33m\u001b[0m\u001b[1;33m\u001b[0m\u001b[0m\n\u001b[0m\u001b[0;32m      6\u001b[0m     \u001b[0mappended_data\u001b[0m \u001b[1;33m=\u001b[0m \u001b[0mappended_data\u001b[0m\u001b[1;33m.\u001b[0m\u001b[0mappend\u001b[0m\u001b[1;33m(\u001b[0m\u001b[0mpd_data\u001b[0m\u001b[1;33m)\u001b[0m\u001b[1;33m\u001b[0m\u001b[1;33m\u001b[0m\u001b[0m\n",
      "\u001b[1;32mC:\\ProgramData\\Anaconda3\\lib\\site-packages\\pandas\\util\\_decorators.py\u001b[0m in \u001b[0;36mwrapper\u001b[1;34m(*args, **kwargs)\u001b[0m\n\u001b[0;32m    309\u001b[0m                     \u001b[0mstacklevel\u001b[0m\u001b[1;33m=\u001b[0m\u001b[0mstacklevel\u001b[0m\u001b[1;33m,\u001b[0m\u001b[1;33m\u001b[0m\u001b[1;33m\u001b[0m\u001b[0m\n\u001b[0;32m    310\u001b[0m                 )\n\u001b[1;32m--> 311\u001b[1;33m             \u001b[1;32mreturn\u001b[0m \u001b[0mfunc\u001b[0m\u001b[1;33m(\u001b[0m\u001b[1;33m*\u001b[0m\u001b[0margs\u001b[0m\u001b[1;33m,\u001b[0m \u001b[1;33m**\u001b[0m\u001b[0mkwargs\u001b[0m\u001b[1;33m)\u001b[0m\u001b[1;33m\u001b[0m\u001b[1;33m\u001b[0m\u001b[0m\n\u001b[0m\u001b[0;32m    312\u001b[0m \u001b[1;33m\u001b[0m\u001b[0m\n\u001b[0;32m    313\u001b[0m         \u001b[1;32mreturn\u001b[0m \u001b[0mwrapper\u001b[0m\u001b[1;33m\u001b[0m\u001b[1;33m\u001b[0m\u001b[0m\n",
      "\u001b[1;32mC:\\ProgramData\\Anaconda3\\lib\\site-packages\\pandas\\io\\excel\\_base.py\u001b[0m in \u001b[0;36mread_excel\u001b[1;34m(io, sheet_name, header, names, index_col, usecols, squeeze, dtype, engine, converters, true_values, false_values, skiprows, nrows, na_values, keep_default_na, na_filter, verbose, parse_dates, date_parser, thousands, comment, skipfooter, convert_float, mangle_dupe_cols, storage_options)\u001b[0m\n\u001b[0;32m    362\u001b[0m     \u001b[1;32mif\u001b[0m \u001b[1;32mnot\u001b[0m \u001b[0misinstance\u001b[0m\u001b[1;33m(\u001b[0m\u001b[0mio\u001b[0m\u001b[1;33m,\u001b[0m \u001b[0mExcelFile\u001b[0m\u001b[1;33m)\u001b[0m\u001b[1;33m:\u001b[0m\u001b[1;33m\u001b[0m\u001b[1;33m\u001b[0m\u001b[0m\n\u001b[0;32m    363\u001b[0m         \u001b[0mshould_close\u001b[0m \u001b[1;33m=\u001b[0m \u001b[1;32mTrue\u001b[0m\u001b[1;33m\u001b[0m\u001b[1;33m\u001b[0m\u001b[0m\n\u001b[1;32m--> 364\u001b[1;33m         \u001b[0mio\u001b[0m \u001b[1;33m=\u001b[0m \u001b[0mExcelFile\u001b[0m\u001b[1;33m(\u001b[0m\u001b[0mio\u001b[0m\u001b[1;33m,\u001b[0m \u001b[0mstorage_options\u001b[0m\u001b[1;33m=\u001b[0m\u001b[0mstorage_options\u001b[0m\u001b[1;33m,\u001b[0m \u001b[0mengine\u001b[0m\u001b[1;33m=\u001b[0m\u001b[0mengine\u001b[0m\u001b[1;33m)\u001b[0m\u001b[1;33m\u001b[0m\u001b[1;33m\u001b[0m\u001b[0m\n\u001b[0m\u001b[0;32m    365\u001b[0m     \u001b[1;32melif\u001b[0m \u001b[0mengine\u001b[0m \u001b[1;32mand\u001b[0m \u001b[0mengine\u001b[0m \u001b[1;33m!=\u001b[0m \u001b[0mio\u001b[0m\u001b[1;33m.\u001b[0m\u001b[0mengine\u001b[0m\u001b[1;33m:\u001b[0m\u001b[1;33m\u001b[0m\u001b[1;33m\u001b[0m\u001b[0m\n\u001b[0;32m    366\u001b[0m         raise ValueError(\n",
      "\u001b[1;32mC:\\ProgramData\\Anaconda3\\lib\\site-packages\\pandas\\io\\excel\\_base.py\u001b[0m in \u001b[0;36m__init__\u001b[1;34m(self, path_or_buffer, engine, storage_options)\u001b[0m\n\u001b[0;32m   1189\u001b[0m                 \u001b[0mext\u001b[0m \u001b[1;33m=\u001b[0m \u001b[1;34m\"xls\"\u001b[0m\u001b[1;33m\u001b[0m\u001b[1;33m\u001b[0m\u001b[0m\n\u001b[0;32m   1190\u001b[0m             \u001b[1;32melse\u001b[0m\u001b[1;33m:\u001b[0m\u001b[1;33m\u001b[0m\u001b[1;33m\u001b[0m\u001b[0m\n\u001b[1;32m-> 1191\u001b[1;33m                 ext = inspect_excel_format(\n\u001b[0m\u001b[0;32m   1192\u001b[0m                     \u001b[0mcontent_or_path\u001b[0m\u001b[1;33m=\u001b[0m\u001b[0mpath_or_buffer\u001b[0m\u001b[1;33m,\u001b[0m \u001b[0mstorage_options\u001b[0m\u001b[1;33m=\u001b[0m\u001b[0mstorage_options\u001b[0m\u001b[1;33m\u001b[0m\u001b[1;33m\u001b[0m\u001b[0m\n\u001b[0;32m   1193\u001b[0m                 )\n",
      "\u001b[1;32mC:\\ProgramData\\Anaconda3\\lib\\site-packages\\pandas\\io\\excel\\_base.py\u001b[0m in \u001b[0;36minspect_excel_format\u001b[1;34m(content_or_path, storage_options)\u001b[0m\n\u001b[0;32m   1068\u001b[0m         \u001b[0mcontent_or_path\u001b[0m \u001b[1;33m=\u001b[0m \u001b[0mBytesIO\u001b[0m\u001b[1;33m(\u001b[0m\u001b[0mcontent_or_path\u001b[0m\u001b[1;33m)\u001b[0m\u001b[1;33m\u001b[0m\u001b[1;33m\u001b[0m\u001b[0m\n\u001b[0;32m   1069\u001b[0m \u001b[1;33m\u001b[0m\u001b[0m\n\u001b[1;32m-> 1070\u001b[1;33m     with get_handle(\n\u001b[0m\u001b[0;32m   1071\u001b[0m         \u001b[0mcontent_or_path\u001b[0m\u001b[1;33m,\u001b[0m \u001b[1;34m\"rb\"\u001b[0m\u001b[1;33m,\u001b[0m \u001b[0mstorage_options\u001b[0m\u001b[1;33m=\u001b[0m\u001b[0mstorage_options\u001b[0m\u001b[1;33m,\u001b[0m \u001b[0mis_text\u001b[0m\u001b[1;33m=\u001b[0m\u001b[1;32mFalse\u001b[0m\u001b[1;33m\u001b[0m\u001b[1;33m\u001b[0m\u001b[0m\n\u001b[0;32m   1072\u001b[0m     ) as handle:\n",
      "\u001b[1;32mC:\\ProgramData\\Anaconda3\\lib\\site-packages\\pandas\\io\\common.py\u001b[0m in \u001b[0;36mget_handle\u001b[1;34m(path_or_buf, mode, encoding, compression, memory_map, is_text, errors, storage_options)\u001b[0m\n\u001b[0;32m    709\u001b[0m         \u001b[1;32melse\u001b[0m\u001b[1;33m:\u001b[0m\u001b[1;33m\u001b[0m\u001b[1;33m\u001b[0m\u001b[0m\n\u001b[0;32m    710\u001b[0m             \u001b[1;31m# Binary mode\u001b[0m\u001b[1;33m\u001b[0m\u001b[1;33m\u001b[0m\u001b[0m\n\u001b[1;32m--> 711\u001b[1;33m             \u001b[0mhandle\u001b[0m \u001b[1;33m=\u001b[0m \u001b[0mopen\u001b[0m\u001b[1;33m(\u001b[0m\u001b[0mhandle\u001b[0m\u001b[1;33m,\u001b[0m \u001b[0mioargs\u001b[0m\u001b[1;33m.\u001b[0m\u001b[0mmode\u001b[0m\u001b[1;33m)\u001b[0m\u001b[1;33m\u001b[0m\u001b[1;33m\u001b[0m\u001b[0m\n\u001b[0m\u001b[0;32m    712\u001b[0m         \u001b[0mhandles\u001b[0m\u001b[1;33m.\u001b[0m\u001b[0mappend\u001b[0m\u001b[1;33m(\u001b[0m\u001b[0mhandle\u001b[0m\u001b[1;33m)\u001b[0m\u001b[1;33m\u001b[0m\u001b[1;33m\u001b[0m\u001b[0m\n\u001b[0;32m    713\u001b[0m \u001b[1;33m\u001b[0m\u001b[0m\n",
      "\u001b[1;31mFileNotFoundError\u001b[0m: [Errno 2] No such file or directory: '.files/bugs.xlsx'"
     ]
    }
   ],
   "source": [
    "excel_names = ['./files/melon.xlsx','.files/bugs.xlsx','./files/genie.xlsx']\n",
    "appended_data = pd.DataFrame()\n",
    "\n",
    "for name in excel_names:\n",
    "    pd_data = pd.read_excel(name)\n",
    "    appended_data = appended_data.append(pd_data)"
   ]
  },
  {
   "cell_type": "code",
   "execution_count": null,
   "id": "1b534013",
   "metadata": {},
   "outputs": [],
   "source": [
    "appended_data.info()"
   ]
  },
  {
   "cell_type": "code",
   "execution_count": null,
   "id": "d21a8d1c",
   "metadata": {},
   "outputs": [],
   "source": [
    "appended_data.to_excel('./files/total.xlsx',index=False)"
   ]
=======
>>>>>>> 94677759afae943ac4282fb427e20b22d1464f2a
  }
 ],
 "metadata": {
  "kernelspec": {
   "display_name": "Python 3 (ipykernel)",
   "language": "python",
   "name": "python3"
  },
  "language_info": {
   "codemirror_mode": {
    "name": "ipython",
    "version": 3
   },
   "file_extension": ".py",
   "mimetype": "text/x-python",
   "name": "python",
   "nbconvert_exporter": "python",
   "pygments_lexer": "ipython3",
   "version": "3.9.7"
  }
 },
 "nbformat": 4,
 "nbformat_minor": 5
}
