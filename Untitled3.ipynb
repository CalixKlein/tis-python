{
 "cells": [
  {
   "cell_type": "code",
   "execution_count": 1,
   "id": "6a57fd85",
   "metadata": {},
   "outputs": [],
   "source": [
    "import pandas as pd"
   ]
  },
  {
   "cell_type": "code",
   "execution_count": 2,
   "id": "7d5f373c",
   "metadata": {},
   "outputs": [
    {
     "data": {
      "text/html": [
       "<div>\n",
       "<style scoped>\n",
       "    .dataframe tbody tr th:only-of-type {\n",
       "        vertical-align: middle;\n",
       "    }\n",
       "\n",
       "    .dataframe tbody tr th {\n",
       "        vertical-align: top;\n",
       "    }\n",
       "\n",
       "    .dataframe thead th {\n",
       "        text-align: right;\n",
       "    }\n",
       "</style>\n",
       "<table border=\"1\" class=\"dataframe\">\n",
       "  <thead>\n",
       "    <tr style=\"text-align: right;\">\n",
       "      <th></th>\n",
       "      <th>국적코드</th>\n",
       "      <th>성별</th>\n",
       "      <th>입국객수</th>\n",
       "    </tr>\n",
       "  </thead>\n",
       "  <tbody>\n",
       "    <tr>\n",
       "      <th>0</th>\n",
       "      <td>A01</td>\n",
       "      <td>남성</td>\n",
       "      <td>106320</td>\n",
       "    </tr>\n",
       "    <tr>\n",
       "      <th>1</th>\n",
       "      <td>A01</td>\n",
       "      <td>여성</td>\n",
       "      <td>191436</td>\n",
       "    </tr>\n",
       "    <tr>\n",
       "      <th>2</th>\n",
       "      <td>A31</td>\n",
       "      <td>남성</td>\n",
       "      <td>319</td>\n",
       "    </tr>\n",
       "  </tbody>\n",
       "</table>\n",
       "</div>"
      ],
      "text/plain": [
       "  국적코드  성별    입국객수\n",
       "0  A01  남성  106320\n",
       "1  A01  여성  191436\n",
       "2  A31  남성     319"
      ]
     },
     "execution_count": 2,
     "metadata": {},
     "output_type": "execute_result"
    }
   ],
   "source": [
    "sample_1 = pd.read_excel('./files/sample_1.xlsx',\n",
    "                         header=1, #위쪽 컬럼\n",
    "                        skipfooter = 2, #아래쪽 2줄 제외\n",
    "                        usecols = 'A:C') \n",
    "sample_1.head(3)"
   ]
  },
  {
   "cell_type": "code",
   "execution_count": 3,
   "id": "ed68c9ce",
   "metadata": {},
   "outputs": [
    {
     "data": {
      "text/html": [
       "<div>\n",
       "<style scoped>\n",
       "    .dataframe tbody tr th:only-of-type {\n",
       "        vertical-align: middle;\n",
       "    }\n",
       "\n",
       "    .dataframe tbody tr th {\n",
       "        vertical-align: top;\n",
       "    }\n",
       "\n",
       "    .dataframe thead th {\n",
       "        text-align: right;\n",
       "    }\n",
       "</style>\n",
       "<table border=\"1\" class=\"dataframe\">\n",
       "  <thead>\n",
       "    <tr style=\"text-align: right;\">\n",
       "      <th></th>\n",
       "      <th>국적코드</th>\n",
       "      <th>성별</th>\n",
       "      <th>입국객수</th>\n",
       "    </tr>\n",
       "  </thead>\n",
       "  <tbody>\n",
       "    <tr>\n",
       "      <th>3</th>\n",
       "      <td>A31</td>\n",
       "      <td>여성</td>\n",
       "      <td>42</td>\n",
       "    </tr>\n",
       "    <tr>\n",
       "      <th>4</th>\n",
       "      <td>A18</td>\n",
       "      <td>남성</td>\n",
       "      <td>158912</td>\n",
       "    </tr>\n",
       "    <tr>\n",
       "      <th>5</th>\n",
       "      <td>A18</td>\n",
       "      <td>여성</td>\n",
       "      <td>232943</td>\n",
       "    </tr>\n",
       "  </tbody>\n",
       "</table>\n",
       "</div>"
      ],
      "text/plain": [
       "  국적코드  성별    입국객수\n",
       "3  A31  여성      42\n",
       "4  A18  남성  158912\n",
       "5  A18  여성  232943"
      ]
     },
     "execution_count": 3,
     "metadata": {},
     "output_type": "execute_result"
    }
   ],
   "source": [
    "sample_1.tail(3)"
   ]
  },
  {
   "cell_type": "code",
   "execution_count": 4,
   "id": "562ca93f",
   "metadata": {},
   "outputs": [
    {
     "name": "stdout",
     "output_type": "stream",
     "text": [
      "<class 'pandas.core.frame.DataFrame'>\n",
      "RangeIndex: 6 entries, 0 to 5\n",
      "Data columns (total 3 columns):\n",
      " #   Column  Non-Null Count  Dtype \n",
      "---  ------  --------------  ----- \n",
      " 0   국적코드    6 non-null      object\n",
      " 1   성별      6 non-null      object\n",
      " 2   입국객수    6 non-null      int64 \n",
      "dtypes: int64(1), object(2)\n",
      "memory usage: 272.0+ bytes\n"
     ]
    }
   ],
   "source": [
    "sample_1.info()"
   ]
  },
  {
   "cell_type": "code",
   "execution_count": 5,
   "id": "d1466b0a",
   "metadata": {},
   "outputs": [
    {
     "data": {
      "text/html": [
       "<div>\n",
       "<style scoped>\n",
       "    .dataframe tbody tr th:only-of-type {\n",
       "        vertical-align: middle;\n",
       "    }\n",
       "\n",
       "    .dataframe tbody tr th {\n",
       "        vertical-align: top;\n",
       "    }\n",
       "\n",
       "    .dataframe thead th {\n",
       "        text-align: right;\n",
       "    }\n",
       "</style>\n",
       "<table border=\"1\" class=\"dataframe\">\n",
       "  <thead>\n",
       "    <tr style=\"text-align: right;\">\n",
       "      <th></th>\n",
       "      <th>입국객수</th>\n",
       "    </tr>\n",
       "  </thead>\n",
       "  <tbody>\n",
       "    <tr>\n",
       "      <th>count</th>\n",
       "      <td>6.000000</td>\n",
       "    </tr>\n",
       "    <tr>\n",
       "      <th>mean</th>\n",
       "      <td>114995.333333</td>\n",
       "    </tr>\n",
       "    <tr>\n",
       "      <th>std</th>\n",
       "      <td>98105.752006</td>\n",
       "    </tr>\n",
       "    <tr>\n",
       "      <th>min</th>\n",
       "      <td>42.000000</td>\n",
       "    </tr>\n",
       "    <tr>\n",
       "      <th>25%</th>\n",
       "      <td>26819.250000</td>\n",
       "    </tr>\n",
       "    <tr>\n",
       "      <th>50%</th>\n",
       "      <td>132616.000000</td>\n",
       "    </tr>\n",
       "    <tr>\n",
       "      <th>75%</th>\n",
       "      <td>183305.000000</td>\n",
       "    </tr>\n",
       "    <tr>\n",
       "      <th>max</th>\n",
       "      <td>232943.000000</td>\n",
       "    </tr>\n",
       "  </tbody>\n",
       "</table>\n",
       "</div>"
      ],
      "text/plain": [
       "                입국객수\n",
       "count       6.000000\n",
       "mean   114995.333333\n",
       "std     98105.752006\n",
       "min        42.000000\n",
       "25%     26819.250000\n",
       "50%    132616.000000\n",
       "75%    183305.000000\n",
       "max    232943.000000"
      ]
     },
     "execution_count": 5,
     "metadata": {},
     "output_type": "execute_result"
    }
   ],
   "source": [
    "sample_1.describe()"
   ]
  },
  {
   "cell_type": "code",
   "execution_count": 6,
   "id": "558cbfc9",
   "metadata": {},
   "outputs": [
    {
     "data": {
      "text/html": [
       "<div>\n",
       "<style scoped>\n",
       "    .dataframe tbody tr th:only-of-type {\n",
       "        vertical-align: middle;\n",
       "    }\n",
       "\n",
       "    .dataframe tbody tr th {\n",
       "        vertical-align: top;\n",
       "    }\n",
       "\n",
       "    .dataframe thead th {\n",
       "        text-align: right;\n",
       "    }\n",
       "</style>\n",
       "<table border=\"1\" class=\"dataframe\">\n",
       "  <thead>\n",
       "    <tr style=\"text-align: right;\">\n",
       "      <th></th>\n",
       "      <th>국적코드</th>\n",
       "      <th>성별</th>\n",
       "      <th>입국객수</th>\n",
       "    </tr>\n",
       "  </thead>\n",
       "  <tbody>\n",
       "    <tr>\n",
       "      <th>0</th>\n",
       "      <td>A01</td>\n",
       "      <td>남성</td>\n",
       "      <td>106320</td>\n",
       "    </tr>\n",
       "    <tr>\n",
       "      <th>1</th>\n",
       "      <td>A01</td>\n",
       "      <td>여성</td>\n",
       "      <td>191436</td>\n",
       "    </tr>\n",
       "    <tr>\n",
       "      <th>2</th>\n",
       "      <td>A31</td>\n",
       "      <td>남성</td>\n",
       "      <td>319</td>\n",
       "    </tr>\n",
       "    <tr>\n",
       "      <th>3</th>\n",
       "      <td>A31</td>\n",
       "      <td>여성</td>\n",
       "      <td>42</td>\n",
       "    </tr>\n",
       "    <tr>\n",
       "      <th>4</th>\n",
       "      <td>A18</td>\n",
       "      <td>남성</td>\n",
       "      <td>158912</td>\n",
       "    </tr>\n",
       "    <tr>\n",
       "      <th>5</th>\n",
       "      <td>A18</td>\n",
       "      <td>여성</td>\n",
       "      <td>232943</td>\n",
       "    </tr>\n",
       "  </tbody>\n",
       "</table>\n",
       "</div>"
      ],
      "text/plain": [
       "  국적코드  성별    입국객수\n",
       "0  A01  남성  106320\n",
       "1  A01  여성  191436\n",
       "2  A31  남성     319\n",
       "3  A31  여성      42\n",
       "4  A18  남성  158912\n",
       "5  A18  여성  232943"
      ]
     },
     "execution_count": 6,
     "metadata": {},
     "output_type": "execute_result"
    }
   ],
   "source": [
    "sample_1"
   ]
  },
  {
   "cell_type": "code",
   "execution_count": 7,
   "id": "6371afff",
   "metadata": {},
   "outputs": [
    {
     "data": {
      "text/html": [
       "<div>\n",
       "<style scoped>\n",
       "    .dataframe tbody tr th:only-of-type {\n",
       "        vertical-align: middle;\n",
       "    }\n",
       "\n",
       "    .dataframe tbody tr th {\n",
       "        vertical-align: top;\n",
       "    }\n",
       "\n",
       "    .dataframe thead th {\n",
       "        text-align: right;\n",
       "    }\n",
       "</style>\n",
       "<table border=\"1\" class=\"dataframe\">\n",
       "  <thead>\n",
       "    <tr style=\"text-align: right;\">\n",
       "      <th></th>\n",
       "      <th>국적코드</th>\n",
       "      <th>입국객수</th>\n",
       "    </tr>\n",
       "  </thead>\n",
       "  <tbody>\n",
       "    <tr>\n",
       "      <th>0</th>\n",
       "      <td>A01</td>\n",
       "      <td>106320</td>\n",
       "    </tr>\n",
       "    <tr>\n",
       "      <th>1</th>\n",
       "      <td>A01</td>\n",
       "      <td>191436</td>\n",
       "    </tr>\n",
       "    <tr>\n",
       "      <th>2</th>\n",
       "      <td>A31</td>\n",
       "      <td>319</td>\n",
       "    </tr>\n",
       "    <tr>\n",
       "      <th>3</th>\n",
       "      <td>A31</td>\n",
       "      <td>42</td>\n",
       "    </tr>\n",
       "    <tr>\n",
       "      <th>4</th>\n",
       "      <td>A18</td>\n",
       "      <td>158912</td>\n",
       "    </tr>\n",
       "    <tr>\n",
       "      <th>5</th>\n",
       "      <td>A18</td>\n",
       "      <td>232943</td>\n",
       "    </tr>\n",
       "  </tbody>\n",
       "</table>\n",
       "</div>"
      ],
      "text/plain": [
       "  국적코드    입국객수\n",
       "0  A01  106320\n",
       "1  A01  191436\n",
       "2  A31     319\n",
       "3  A31      42\n",
       "4  A18  158912\n",
       "5  A18  232943"
      ]
     },
     "execution_count": 7,
     "metadata": {},
     "output_type": "execute_result"
    }
   ],
   "source": [
    "sample_1[['국적코드','입국객수']]"
   ]
  },
  {
   "cell_type": "code",
   "execution_count": 8,
   "id": "152e633f",
   "metadata": {},
   "outputs": [],
   "source": [
    "sample_1['기준년월'] = '2019-11'"
   ]
  },
  {
   "cell_type": "code",
   "execution_count": 9,
   "id": "28607d8d",
   "metadata": {},
   "outputs": [
    {
     "data": {
      "text/html": [
       "<div>\n",
       "<style scoped>\n",
       "    .dataframe tbody tr th:only-of-type {\n",
       "        vertical-align: middle;\n",
       "    }\n",
       "\n",
       "    .dataframe tbody tr th {\n",
       "        vertical-align: top;\n",
       "    }\n",
       "\n",
       "    .dataframe thead th {\n",
       "        text-align: right;\n",
       "    }\n",
       "</style>\n",
       "<table border=\"1\" class=\"dataframe\">\n",
       "  <thead>\n",
       "    <tr style=\"text-align: right;\">\n",
       "      <th></th>\n",
       "      <th>국적코드</th>\n",
       "      <th>성별</th>\n",
       "      <th>입국객수</th>\n",
       "      <th>기준년월</th>\n",
       "    </tr>\n",
       "  </thead>\n",
       "  <tbody>\n",
       "    <tr>\n",
       "      <th>0</th>\n",
       "      <td>A01</td>\n",
       "      <td>남성</td>\n",
       "      <td>106320</td>\n",
       "      <td>2019-11</td>\n",
       "    </tr>\n",
       "    <tr>\n",
       "      <th>1</th>\n",
       "      <td>A01</td>\n",
       "      <td>여성</td>\n",
       "      <td>191436</td>\n",
       "      <td>2019-11</td>\n",
       "    </tr>\n",
       "    <tr>\n",
       "      <th>2</th>\n",
       "      <td>A31</td>\n",
       "      <td>남성</td>\n",
       "      <td>319</td>\n",
       "      <td>2019-11</td>\n",
       "    </tr>\n",
       "    <tr>\n",
       "      <th>3</th>\n",
       "      <td>A31</td>\n",
       "      <td>여성</td>\n",
       "      <td>42</td>\n",
       "      <td>2019-11</td>\n",
       "    </tr>\n",
       "    <tr>\n",
       "      <th>4</th>\n",
       "      <td>A18</td>\n",
       "      <td>남성</td>\n",
       "      <td>158912</td>\n",
       "      <td>2019-11</td>\n",
       "    </tr>\n",
       "    <tr>\n",
       "      <th>5</th>\n",
       "      <td>A18</td>\n",
       "      <td>여성</td>\n",
       "      <td>232943</td>\n",
       "      <td>2019-11</td>\n",
       "    </tr>\n",
       "  </tbody>\n",
       "</table>\n",
       "</div>"
      ],
      "text/plain": [
       "  국적코드  성별    입국객수     기준년월\n",
       "0  A01  남성  106320  2019-11\n",
       "1  A01  여성  191436  2019-11\n",
       "2  A31  남성     319  2019-11\n",
       "3  A31  여성      42  2019-11\n",
       "4  A18  남성  158912  2019-11\n",
       "5  A18  여성  232943  2019-11"
      ]
     },
     "execution_count": 9,
     "metadata": {},
     "output_type": "execute_result"
    }
   ],
   "source": [
    "sample_1"
   ]
  },
  {
   "cell_type": "code",
   "execution_count": 10,
   "id": "5ddc0552",
   "metadata": {},
   "outputs": [
    {
     "data": {
      "text/plain": [
       "0     True\n",
       "1    False\n",
       "2     True\n",
       "3    False\n",
       "4     True\n",
       "5    False\n",
       "Name: 성별, dtype: bool"
      ]
     },
     "execution_count": 10,
     "metadata": {},
     "output_type": "execute_result"
    }
   ],
   "source": [
    "condition = (sample_1['성별'] == '남성')\n",
    "condition"
   ]
  },
  {
   "cell_type": "code",
   "execution_count": 11,
   "id": "e722d8af",
   "metadata": {},
   "outputs": [],
   "source": [
    "#블리언 인덱싱"
   ]
  },
  {
   "cell_type": "code",
   "execution_count": 12,
   "id": "caaf4157",
   "metadata": {},
   "outputs": [
    {
     "data": {
      "text/html": [
       "<div>\n",
       "<style scoped>\n",
       "    .dataframe tbody tr th:only-of-type {\n",
       "        vertical-align: middle;\n",
       "    }\n",
       "\n",
       "    .dataframe tbody tr th {\n",
       "        vertical-align: top;\n",
       "    }\n",
       "\n",
       "    .dataframe thead th {\n",
       "        text-align: right;\n",
       "    }\n",
       "</style>\n",
       "<table border=\"1\" class=\"dataframe\">\n",
       "  <thead>\n",
       "    <tr style=\"text-align: right;\">\n",
       "      <th></th>\n",
       "      <th>국적코드</th>\n",
       "      <th>성별</th>\n",
       "      <th>입국객수</th>\n",
       "      <th>기준년월</th>\n",
       "    </tr>\n",
       "  </thead>\n",
       "  <tbody>\n",
       "    <tr>\n",
       "      <th>0</th>\n",
       "      <td>A01</td>\n",
       "      <td>남성</td>\n",
       "      <td>106320</td>\n",
       "      <td>2019-11</td>\n",
       "    </tr>\n",
       "    <tr>\n",
       "      <th>2</th>\n",
       "      <td>A31</td>\n",
       "      <td>남성</td>\n",
       "      <td>319</td>\n",
       "      <td>2019-11</td>\n",
       "    </tr>\n",
       "    <tr>\n",
       "      <th>4</th>\n",
       "      <td>A18</td>\n",
       "      <td>남성</td>\n",
       "      <td>158912</td>\n",
       "      <td>2019-11</td>\n",
       "    </tr>\n",
       "  </tbody>\n",
       "</table>\n",
       "</div>"
      ],
      "text/plain": [
       "  국적코드  성별    입국객수     기준년월\n",
       "0  A01  남성  106320  2019-11\n",
       "2  A31  남성     319  2019-11\n",
       "4  A18  남성  158912  2019-11"
      ]
     },
     "execution_count": 12,
     "metadata": {},
     "output_type": "execute_result"
    }
   ],
   "source": [
    "sample_1[condition]"
   ]
  },
  {
   "cell_type": "code",
   "execution_count": 13,
   "id": "d7d3f26f",
   "metadata": {},
   "outputs": [],
   "source": [
    "conditions = (sample_1['성별']=='남성') &(sample_1['입국객수'] >= 15000)"
   ]
  },
  {
   "cell_type": "code",
   "execution_count": 14,
   "id": "d7ca197d",
   "metadata": {},
   "outputs": [
    {
     "data": {
      "text/plain": [
       "0     True\n",
       "1    False\n",
       "2    False\n",
       "3    False\n",
       "4     True\n",
       "5    False\n",
       "dtype: bool"
      ]
     },
     "execution_count": 14,
     "metadata": {},
     "output_type": "execute_result"
    }
   ],
   "source": [
    "conditions "
   ]
  },
  {
   "cell_type": "code",
   "execution_count": 15,
   "id": "eb745256",
   "metadata": {},
   "outputs": [
    {
     "data": {
      "text/html": [
       "<div>\n",
       "<style scoped>\n",
       "    .dataframe tbody tr th:only-of-type {\n",
       "        vertical-align: middle;\n",
       "    }\n",
       "\n",
       "    .dataframe tbody tr th {\n",
       "        vertical-align: top;\n",
       "    }\n",
       "\n",
       "    .dataframe thead th {\n",
       "        text-align: right;\n",
       "    }\n",
       "</style>\n",
       "<table border=\"1\" class=\"dataframe\">\n",
       "  <thead>\n",
       "    <tr style=\"text-align: right;\">\n",
       "      <th></th>\n",
       "      <th>국적코드</th>\n",
       "      <th>성별</th>\n",
       "      <th>입국객수</th>\n",
       "      <th>기준년월</th>\n",
       "    </tr>\n",
       "  </thead>\n",
       "  <tbody>\n",
       "    <tr>\n",
       "      <th>0</th>\n",
       "      <td>A01</td>\n",
       "      <td>남성</td>\n",
       "      <td>106320</td>\n",
       "      <td>2019-11</td>\n",
       "    </tr>\n",
       "    <tr>\n",
       "      <th>4</th>\n",
       "      <td>A18</td>\n",
       "      <td>남성</td>\n",
       "      <td>158912</td>\n",
       "      <td>2019-11</td>\n",
       "    </tr>\n",
       "  </tbody>\n",
       "</table>\n",
       "</div>"
      ],
      "text/plain": [
       "  국적코드  성별    입국객수     기준년월\n",
       "0  A01  남성  106320  2019-11\n",
       "4  A18  남성  158912  2019-11"
      ]
     },
     "execution_count": 15,
     "metadata": {},
     "output_type": "execute_result"
    }
   ],
   "source": [
    "sample_1[conditions]"
   ]
  },
  {
   "cell_type": "code",
   "execution_count": 16,
   "id": "320dd4d1",
   "metadata": {},
   "outputs": [
    {
     "data": {
      "text/html": [
       "<div>\n",
       "<style scoped>\n",
       "    .dataframe tbody tr th:only-of-type {\n",
       "        vertical-align: middle;\n",
       "    }\n",
       "\n",
       "    .dataframe tbody tr th {\n",
       "        vertical-align: top;\n",
       "    }\n",
       "\n",
       "    .dataframe thead th {\n",
       "        text-align: right;\n",
       "    }\n",
       "</style>\n",
       "<table border=\"1\" class=\"dataframe\">\n",
       "  <thead>\n",
       "    <tr style=\"text-align: right;\">\n",
       "      <th></th>\n",
       "      <th>국적코드</th>\n",
       "      <th>성별</th>\n",
       "      <th>입국객수</th>\n",
       "      <th>기준년월</th>\n",
       "    </tr>\n",
       "  </thead>\n",
       "  <tbody>\n",
       "    <tr>\n",
       "      <th>0</th>\n",
       "      <td>A01</td>\n",
       "      <td>남성</td>\n",
       "      <td>106320</td>\n",
       "      <td>2019-11</td>\n",
       "    </tr>\n",
       "    <tr>\n",
       "      <th>1</th>\n",
       "      <td>A01</td>\n",
       "      <td>여성</td>\n",
       "      <td>191436</td>\n",
       "      <td>2019-11</td>\n",
       "    </tr>\n",
       "    <tr>\n",
       "      <th>4</th>\n",
       "      <td>A18</td>\n",
       "      <td>남성</td>\n",
       "      <td>158912</td>\n",
       "      <td>2019-11</td>\n",
       "    </tr>\n",
       "    <tr>\n",
       "      <th>5</th>\n",
       "      <td>A18</td>\n",
       "      <td>여성</td>\n",
       "      <td>232943</td>\n",
       "      <td>2019-11</td>\n",
       "    </tr>\n",
       "  </tbody>\n",
       "</table>\n",
       "</div>"
      ],
      "text/plain": [
       "  국적코드  성별    입국객수     기준년월\n",
       "0  A01  남성  106320  2019-11\n",
       "1  A01  여성  191436  2019-11\n",
       "4  A18  남성  158912  2019-11\n",
       "5  A18  여성  232943  2019-11"
      ]
     },
     "execution_count": 16,
     "metadata": {},
     "output_type": "execute_result"
    }
   ],
   "source": [
    "conditions = (sample_1['국적코드'] == 'A01') | (sample_1['국적코드']=='A18')\n",
    "sample_1[conditions]"
   ]
  },
  {
   "cell_type": "code",
   "execution_count": 17,
   "id": "7b450e3c",
   "metadata": {},
   "outputs": [
    {
     "data": {
      "text/plain": [
       "0     True\n",
       "1     True\n",
       "2    False\n",
       "3    False\n",
       "4     True\n",
       "5     True\n",
       "Name: 국적코드, dtype: bool"
      ]
     },
     "execution_count": 17,
     "metadata": {},
     "output_type": "execute_result"
    }
   ],
   "source": [
    "conditions = (sample_1['국적코드'].isin(['A01','A18']))\n",
    "conditions"
   ]
  },
  {
   "cell_type": "markdown",
   "id": "ce5b80dc",
   "metadata": {},
   "source": [
    "데이터 통합하기(옆으로 통합)"
   ]
  },
  {
   "cell_type": "code",
   "execution_count": 18,
   "id": "b9018f55",
   "metadata": {},
   "outputs": [
    {
     "data": {
      "text/html": [
       "<div>\n",
       "<style scoped>\n",
       "    .dataframe tbody tr th:only-of-type {\n",
       "        vertical-align: middle;\n",
       "    }\n",
       "\n",
       "    .dataframe tbody tr th {\n",
       "        vertical-align: top;\n",
       "    }\n",
       "\n",
       "    .dataframe thead th {\n",
       "        text-align: right;\n",
       "    }\n",
       "</style>\n",
       "<table border=\"1\" class=\"dataframe\">\n",
       "  <thead>\n",
       "    <tr style=\"text-align: right;\">\n",
       "      <th></th>\n",
       "      <th>국적코드</th>\n",
       "      <th>성별</th>\n",
       "      <th>입국객수</th>\n",
       "      <th>기준년월</th>\n",
       "    </tr>\n",
       "  </thead>\n",
       "  <tbody>\n",
       "    <tr>\n",
       "      <th>0</th>\n",
       "      <td>A01</td>\n",
       "      <td>남성</td>\n",
       "      <td>106320</td>\n",
       "      <td>2019-11</td>\n",
       "    </tr>\n",
       "    <tr>\n",
       "      <th>1</th>\n",
       "      <td>A01</td>\n",
       "      <td>여성</td>\n",
       "      <td>191436</td>\n",
       "      <td>2019-11</td>\n",
       "    </tr>\n",
       "    <tr>\n",
       "      <th>2</th>\n",
       "      <td>A31</td>\n",
       "      <td>남성</td>\n",
       "      <td>319</td>\n",
       "      <td>2019-11</td>\n",
       "    </tr>\n",
       "    <tr>\n",
       "      <th>3</th>\n",
       "      <td>A31</td>\n",
       "      <td>여성</td>\n",
       "      <td>42</td>\n",
       "      <td>2019-11</td>\n",
       "    </tr>\n",
       "    <tr>\n",
       "      <th>4</th>\n",
       "      <td>A18</td>\n",
       "      <td>남성</td>\n",
       "      <td>158912</td>\n",
       "      <td>2019-11</td>\n",
       "    </tr>\n",
       "    <tr>\n",
       "      <th>5</th>\n",
       "      <td>A18</td>\n",
       "      <td>여성</td>\n",
       "      <td>232943</td>\n",
       "      <td>2019-11</td>\n",
       "    </tr>\n",
       "  </tbody>\n",
       "</table>\n",
       "</div>"
      ],
      "text/plain": [
       "  국적코드  성별    입국객수     기준년월\n",
       "0  A01  남성  106320  2019-11\n",
       "1  A01  여성  191436  2019-11\n",
       "2  A31  남성     319  2019-11\n",
       "3  A31  여성      42  2019-11\n",
       "4  A18  남성  158912  2019-11\n",
       "5  A18  여성  232943  2019-11"
      ]
     },
     "execution_count": 18,
     "metadata": {},
     "output_type": "execute_result"
    }
   ],
   "source": [
    "sample_1"
   ]
  },
  {
   "cell_type": "code",
   "execution_count": 19,
   "id": "1fe5db12",
   "metadata": {},
   "outputs": [
    {
     "data": {
      "text/html": [
       "<div>\n",
       "<style scoped>\n",
       "    .dataframe tbody tr th:only-of-type {\n",
       "        vertical-align: middle;\n",
       "    }\n",
       "\n",
       "    .dataframe tbody tr th {\n",
       "        vertical-align: top;\n",
       "    }\n",
       "\n",
       "    .dataframe thead th {\n",
       "        text-align: right;\n",
       "    }\n",
       "</style>\n",
       "<table border=\"1\" class=\"dataframe\">\n",
       "  <thead>\n",
       "    <tr style=\"text-align: right;\">\n",
       "      <th></th>\n",
       "      <th>국적코드</th>\n",
       "      <th>국적명</th>\n",
       "    </tr>\n",
       "  </thead>\n",
       "  <tbody>\n",
       "    <tr>\n",
       "      <th>0</th>\n",
       "      <td>A01</td>\n",
       "      <td>일본</td>\n",
       "    </tr>\n",
       "    <tr>\n",
       "      <th>1</th>\n",
       "      <td>A02</td>\n",
       "      <td>대만</td>\n",
       "    </tr>\n",
       "    <tr>\n",
       "      <th>2</th>\n",
       "      <td>A03</td>\n",
       "      <td>홍콩</td>\n",
       "    </tr>\n",
       "    <tr>\n",
       "      <th>3</th>\n",
       "      <td>A18</td>\n",
       "      <td>중국</td>\n",
       "    </tr>\n",
       "    <tr>\n",
       "      <th>4</th>\n",
       "      <td>A19</td>\n",
       "      <td>이란</td>\n",
       "    </tr>\n",
       "    <tr>\n",
       "      <th>5</th>\n",
       "      <td>A22</td>\n",
       "      <td>우즈베키스탄</td>\n",
       "    </tr>\n",
       "    <tr>\n",
       "      <th>6</th>\n",
       "      <td>A23</td>\n",
       "      <td>카자흐스탄</td>\n",
       "    </tr>\n",
       "    <tr>\n",
       "      <th>7</th>\n",
       "      <td>A99</td>\n",
       "      <td>아시아 기타</td>\n",
       "    </tr>\n",
       "  </tbody>\n",
       "</table>\n",
       "</div>"
      ],
      "text/plain": [
       "  국적코드     국적명\n",
       "0  A01      일본\n",
       "1  A02      대만\n",
       "2  A03      홍콩\n",
       "3  A18      중국\n",
       "4  A19      이란\n",
       "5  A22  우즈베키스탄\n",
       "6  A23   카자흐스탄\n",
       "7  A99  아시아 기타"
      ]
     },
     "execution_count": 19,
     "metadata": {},
     "output_type": "execute_result"
    }
   ],
   "source": [
    "code_master = pd.read_excel('./files/sample_codemaster.xlsx')\n",
    "code_master"
   ]
  },
  {
   "cell_type": "code",
   "execution_count": 20,
   "id": "1f80fa27",
   "metadata": {},
   "outputs": [],
   "source": [
    "sample_1_code = pd.merge(left=sample_1,\n",
    "                        right = code_master,\n",
    "                        how = 'left',\n",
    "                        left_on='국적코드',\n",
    "                        right_on=\"국적코드\")"
   ]
  },
  {
   "cell_type": "code",
   "execution_count": 21,
   "id": "7d7e80d0",
   "metadata": {},
   "outputs": [
    {
     "data": {
      "text/html": [
       "<div>\n",
       "<style scoped>\n",
       "    .dataframe tbody tr th:only-of-type {\n",
       "        vertical-align: middle;\n",
       "    }\n",
       "\n",
       "    .dataframe tbody tr th {\n",
       "        vertical-align: top;\n",
       "    }\n",
       "\n",
       "    .dataframe thead th {\n",
       "        text-align: right;\n",
       "    }\n",
       "</style>\n",
       "<table border=\"1\" class=\"dataframe\">\n",
       "  <thead>\n",
       "    <tr style=\"text-align: right;\">\n",
       "      <th></th>\n",
       "      <th>국적코드</th>\n",
       "      <th>성별</th>\n",
       "      <th>입국객수</th>\n",
       "      <th>기준년월</th>\n",
       "      <th>국적명</th>\n",
       "    </tr>\n",
       "  </thead>\n",
       "  <tbody>\n",
       "    <tr>\n",
       "      <th>0</th>\n",
       "      <td>A01</td>\n",
       "      <td>남성</td>\n",
       "      <td>106320</td>\n",
       "      <td>2019-11</td>\n",
       "      <td>일본</td>\n",
       "    </tr>\n",
       "    <tr>\n",
       "      <th>1</th>\n",
       "      <td>A01</td>\n",
       "      <td>여성</td>\n",
       "      <td>191436</td>\n",
       "      <td>2019-11</td>\n",
       "      <td>일본</td>\n",
       "    </tr>\n",
       "    <tr>\n",
       "      <th>2</th>\n",
       "      <td>A31</td>\n",
       "      <td>남성</td>\n",
       "      <td>319</td>\n",
       "      <td>2019-11</td>\n",
       "      <td>NaN</td>\n",
       "    </tr>\n",
       "    <tr>\n",
       "      <th>3</th>\n",
       "      <td>A31</td>\n",
       "      <td>여성</td>\n",
       "      <td>42</td>\n",
       "      <td>2019-11</td>\n",
       "      <td>NaN</td>\n",
       "    </tr>\n",
       "    <tr>\n",
       "      <th>4</th>\n",
       "      <td>A18</td>\n",
       "      <td>남성</td>\n",
       "      <td>158912</td>\n",
       "      <td>2019-11</td>\n",
       "      <td>중국</td>\n",
       "    </tr>\n",
       "    <tr>\n",
       "      <th>5</th>\n",
       "      <td>A18</td>\n",
       "      <td>여성</td>\n",
       "      <td>232943</td>\n",
       "      <td>2019-11</td>\n",
       "      <td>중국</td>\n",
       "    </tr>\n",
       "  </tbody>\n",
       "</table>\n",
       "</div>"
      ],
      "text/plain": [
       "  국적코드  성별    입국객수     기준년월  국적명\n",
       "0  A01  남성  106320  2019-11   일본\n",
       "1  A01  여성  191436  2019-11   일본\n",
       "2  A31  남성     319  2019-11  NaN\n",
       "3  A31  여성      42  2019-11  NaN\n",
       "4  A18  남성  158912  2019-11   중국\n",
       "5  A18  여성  232943  2019-11   중국"
      ]
     },
     "execution_count": 21,
     "metadata": {},
     "output_type": "execute_result"
    }
   ],
   "source": [
    "sample_1_code"
   ]
  },
  {
   "cell_type": "code",
   "execution_count": 22,
   "id": "d9cc7cf0",
   "metadata": {},
   "outputs": [
    {
     "data": {
      "text/html": [
       "<div>\n",
       "<style scoped>\n",
       "    .dataframe tbody tr th:only-of-type {\n",
       "        vertical-align: middle;\n",
       "    }\n",
       "\n",
       "    .dataframe tbody tr th {\n",
       "        vertical-align: top;\n",
       "    }\n",
       "\n",
       "    .dataframe thead th {\n",
       "        text-align: right;\n",
       "    }\n",
       "</style>\n",
       "<table border=\"1\" class=\"dataframe\">\n",
       "  <thead>\n",
       "    <tr style=\"text-align: right;\">\n",
       "      <th></th>\n",
       "      <th>국적코드</th>\n",
       "      <th>성별</th>\n",
       "      <th>입국객수</th>\n",
       "      <th>기준년월</th>\n",
       "      <th>국적명</th>\n",
       "    </tr>\n",
       "  </thead>\n",
       "  <tbody>\n",
       "    <tr>\n",
       "      <th>0</th>\n",
       "      <td>A01</td>\n",
       "      <td>남성</td>\n",
       "      <td>106320</td>\n",
       "      <td>2019-11</td>\n",
       "      <td>일본</td>\n",
       "    </tr>\n",
       "    <tr>\n",
       "      <th>1</th>\n",
       "      <td>A01</td>\n",
       "      <td>여성</td>\n",
       "      <td>191436</td>\n",
       "      <td>2019-11</td>\n",
       "      <td>일본</td>\n",
       "    </tr>\n",
       "    <tr>\n",
       "      <th>2</th>\n",
       "      <td>A18</td>\n",
       "      <td>남성</td>\n",
       "      <td>158912</td>\n",
       "      <td>2019-11</td>\n",
       "      <td>중국</td>\n",
       "    </tr>\n",
       "    <tr>\n",
       "      <th>3</th>\n",
       "      <td>A18</td>\n",
       "      <td>여성</td>\n",
       "      <td>232943</td>\n",
       "      <td>2019-11</td>\n",
       "      <td>중국</td>\n",
       "    </tr>\n",
       "  </tbody>\n",
       "</table>\n",
       "</div>"
      ],
      "text/plain": [
       "  국적코드  성별    입국객수     기준년월 국적명\n",
       "0  A01  남성  106320  2019-11  일본\n",
       "1  A01  여성  191436  2019-11  일본\n",
       "2  A18  남성  158912  2019-11  중국\n",
       "3  A18  여성  232943  2019-11  중국"
      ]
     },
     "execution_count": 22,
     "metadata": {},
     "output_type": "execute_result"
    }
   ],
   "source": [
    "sample_1_inner = pd.merge(left=sample_1,\n",
    "                        right = code_master,\n",
    "                        how = 'inner',\n",
    "                        left_on='국적코드',\n",
    "                        right_on=\"국적코드\")\n",
    "sample_1_inner"
   ]
  },
  {
   "cell_type": "markdown",
   "id": "b6062912",
   "metadata": {},
   "source": [
    "데이터 통합하기 (아래로 통합)"
   ]
  },
  {
   "cell_type": "code",
   "execution_count": 23,
   "id": "ebc14dc9",
   "metadata": {},
   "outputs": [
    {
     "data": {
      "text/html": [
       "<div>\n",
       "<style scoped>\n",
       "    .dataframe tbody tr th:only-of-type {\n",
       "        vertical-align: middle;\n",
       "    }\n",
       "\n",
       "    .dataframe tbody tr th {\n",
       "        vertical-align: top;\n",
       "    }\n",
       "\n",
       "    .dataframe thead th {\n",
       "        text-align: right;\n",
       "    }\n",
       "</style>\n",
       "<table border=\"1\" class=\"dataframe\">\n",
       "  <thead>\n",
       "    <tr style=\"text-align: right;\">\n",
       "      <th></th>\n",
       "      <th>국적코드</th>\n",
       "      <th>성별</th>\n",
       "      <th>입국객수</th>\n",
       "    </tr>\n",
       "  </thead>\n",
       "  <tbody>\n",
       "    <tr>\n",
       "      <th>0</th>\n",
       "      <td>A01</td>\n",
       "      <td>남성</td>\n",
       "      <td>92556</td>\n",
       "    </tr>\n",
       "    <tr>\n",
       "      <th>1</th>\n",
       "      <td>A01</td>\n",
       "      <td>여성</td>\n",
       "      <td>163737</td>\n",
       "    </tr>\n",
       "    <tr>\n",
       "      <th>2</th>\n",
       "      <td>A18</td>\n",
       "      <td>남성</td>\n",
       "      <td>155540</td>\n",
       "    </tr>\n",
       "  </tbody>\n",
       "</table>\n",
       "</div>"
      ],
      "text/plain": [
       "  국적코드  성별    입국객수\n",
       "0  A01  남성   92556\n",
       "1  A01  여성  163737\n",
       "2  A18  남성  155540"
      ]
     },
     "execution_count": 23,
     "metadata": {},
     "output_type": "execute_result"
    }
   ],
   "source": [
    "sample_2 = pd.read_excel('./files/sample_2.xlsx',\n",
    "                         header=1, #위쪽 컬럼\n",
    "                        skipfooter = 2, #아래쪽 2줄 제외\n",
    "                        usecols = 'A:C') \n",
    "sample_2.head(3)"
   ]
  },
  {
   "cell_type": "code",
   "execution_count": 24,
   "id": "c76a7cfb",
   "metadata": {},
   "outputs": [],
   "source": [
    "sample_2['기준년월'] = '2019-12'"
   ]
  },
  {
   "cell_type": "code",
   "execution_count": 25,
   "id": "59afcdad",
   "metadata": {},
   "outputs": [
    {
     "data": {
      "text/html": [
       "<div>\n",
       "<style scoped>\n",
       "    .dataframe tbody tr th:only-of-type {\n",
       "        vertical-align: middle;\n",
       "    }\n",
       "\n",
       "    .dataframe tbody tr th {\n",
       "        vertical-align: top;\n",
       "    }\n",
       "\n",
       "    .dataframe thead th {\n",
       "        text-align: right;\n",
       "    }\n",
       "</style>\n",
       "<table border=\"1\" class=\"dataframe\">\n",
       "  <thead>\n",
       "    <tr style=\"text-align: right;\">\n",
       "      <th></th>\n",
       "      <th>국적코드</th>\n",
       "      <th>성별</th>\n",
       "      <th>입국객수</th>\n",
       "      <th>기준년월</th>\n",
       "      <th>국적명</th>\n",
       "    </tr>\n",
       "  </thead>\n",
       "  <tbody>\n",
       "    <tr>\n",
       "      <th>0</th>\n",
       "      <td>A01</td>\n",
       "      <td>남성</td>\n",
       "      <td>92556</td>\n",
       "      <td>2019-12</td>\n",
       "      <td>일본</td>\n",
       "    </tr>\n",
       "    <tr>\n",
       "      <th>1</th>\n",
       "      <td>A01</td>\n",
       "      <td>여성</td>\n",
       "      <td>163737</td>\n",
       "      <td>2019-12</td>\n",
       "      <td>일본</td>\n",
       "    </tr>\n",
       "    <tr>\n",
       "      <th>2</th>\n",
       "      <td>A18</td>\n",
       "      <td>남성</td>\n",
       "      <td>155540</td>\n",
       "      <td>2019-12</td>\n",
       "      <td>중국</td>\n",
       "    </tr>\n",
       "    <tr>\n",
       "      <th>3</th>\n",
       "      <td>A18</td>\n",
       "      <td>여성</td>\n",
       "      <td>249023</td>\n",
       "      <td>2019-12</td>\n",
       "      <td>중국</td>\n",
       "    </tr>\n",
       "  </tbody>\n",
       "</table>\n",
       "</div>"
      ],
      "text/plain": [
       "  국적코드  성별    입국객수     기준년월 국적명\n",
       "0  A01  남성   92556  2019-12  일본\n",
       "1  A01  여성  163737  2019-12  일본\n",
       "2  A18  남성  155540  2019-12  중국\n",
       "3  A18  여성  249023  2019-12  중국"
      ]
     },
     "execution_count": 25,
     "metadata": {},
     "output_type": "execute_result"
    }
   ],
   "source": [
    "sample_2_code = pd.merge(left=sample_2,\n",
    "                        right = code_master,\n",
    "                        how = 'left',\n",
    "                        left_on='국적코드',\n",
    "                        right_on=\"국적코드\")\n",
    "\n",
    "sample_2_code"
   ]
  },
  {
   "cell_type": "code",
   "execution_count": 26,
   "id": "8cecdf66",
   "metadata": {},
   "outputs": [
    {
     "data": {
      "text/html": [
       "<div>\n",
       "<style scoped>\n",
       "    .dataframe tbody tr th:only-of-type {\n",
       "        vertical-align: middle;\n",
       "    }\n",
       "\n",
       "    .dataframe tbody tr th {\n",
       "        vertical-align: top;\n",
       "    }\n",
       "\n",
       "    .dataframe thead th {\n",
       "        text-align: right;\n",
       "    }\n",
       "</style>\n",
       "<table border=\"1\" class=\"dataframe\">\n",
       "  <thead>\n",
       "    <tr style=\"text-align: right;\">\n",
       "      <th></th>\n",
       "      <th>국적코드</th>\n",
       "      <th>성별</th>\n",
       "      <th>입국객수</th>\n",
       "      <th>기준년월</th>\n",
       "      <th>국적명</th>\n",
       "    </tr>\n",
       "  </thead>\n",
       "  <tbody>\n",
       "    <tr>\n",
       "      <th>0</th>\n",
       "      <td>A01</td>\n",
       "      <td>남성</td>\n",
       "      <td>106320</td>\n",
       "      <td>2019-11</td>\n",
       "      <td>일본</td>\n",
       "    </tr>\n",
       "    <tr>\n",
       "      <th>1</th>\n",
       "      <td>A01</td>\n",
       "      <td>여성</td>\n",
       "      <td>191436</td>\n",
       "      <td>2019-11</td>\n",
       "      <td>일본</td>\n",
       "    </tr>\n",
       "    <tr>\n",
       "      <th>2</th>\n",
       "      <td>A31</td>\n",
       "      <td>남성</td>\n",
       "      <td>319</td>\n",
       "      <td>2019-11</td>\n",
       "      <td>NaN</td>\n",
       "    </tr>\n",
       "    <tr>\n",
       "      <th>3</th>\n",
       "      <td>A31</td>\n",
       "      <td>여성</td>\n",
       "      <td>42</td>\n",
       "      <td>2019-11</td>\n",
       "      <td>NaN</td>\n",
       "    </tr>\n",
       "    <tr>\n",
       "      <th>4</th>\n",
       "      <td>A18</td>\n",
       "      <td>남성</td>\n",
       "      <td>158912</td>\n",
       "      <td>2019-11</td>\n",
       "      <td>중국</td>\n",
       "    </tr>\n",
       "    <tr>\n",
       "      <th>5</th>\n",
       "      <td>A18</td>\n",
       "      <td>여성</td>\n",
       "      <td>232943</td>\n",
       "      <td>2019-11</td>\n",
       "      <td>중국</td>\n",
       "    </tr>\n",
       "    <tr>\n",
       "      <th>6</th>\n",
       "      <td>A01</td>\n",
       "      <td>남성</td>\n",
       "      <td>92556</td>\n",
       "      <td>2019-12</td>\n",
       "      <td>일본</td>\n",
       "    </tr>\n",
       "    <tr>\n",
       "      <th>7</th>\n",
       "      <td>A01</td>\n",
       "      <td>여성</td>\n",
       "      <td>163737</td>\n",
       "      <td>2019-12</td>\n",
       "      <td>일본</td>\n",
       "    </tr>\n",
       "    <tr>\n",
       "      <th>8</th>\n",
       "      <td>A18</td>\n",
       "      <td>남성</td>\n",
       "      <td>155540</td>\n",
       "      <td>2019-12</td>\n",
       "      <td>중국</td>\n",
       "    </tr>\n",
       "    <tr>\n",
       "      <th>9</th>\n",
       "      <td>A18</td>\n",
       "      <td>여성</td>\n",
       "      <td>249023</td>\n",
       "      <td>2019-12</td>\n",
       "      <td>중국</td>\n",
       "    </tr>\n",
       "  </tbody>\n",
       "</table>\n",
       "</div>"
      ],
      "text/plain": [
       "  국적코드  성별    입국객수     기준년월  국적명\n",
       "0  A01  남성  106320  2019-11   일본\n",
       "1  A01  여성  191436  2019-11   일본\n",
       "2  A31  남성     319  2019-11  NaN\n",
       "3  A31  여성      42  2019-11  NaN\n",
       "4  A18  남성  158912  2019-11   중국\n",
       "5  A18  여성  232943  2019-11   중국\n",
       "6  A01  남성   92556  2019-12   일본\n",
       "7  A01  여성  163737  2019-12   일본\n",
       "8  A18  남성  155540  2019-12   중국\n",
       "9  A18  여성  249023  2019-12   중국"
      ]
     },
     "execution_count": 26,
     "metadata": {},
     "output_type": "execute_result"
    }
   ],
   "source": [
    "sample = sample_1_code.append(sample_2_code, ignore_index=True)\n",
    "sample"
   ]
  },
  {
   "cell_type": "code",
   "execution_count": 27,
   "id": "2743f5af",
   "metadata": {},
   "outputs": [],
   "source": [
    "sample.to_excel('./files/sample_index_false.xlsx', index = False)"
   ]
  },
  {
   "cell_type": "code",
   "execution_count": 28,
   "id": "a111cf6e",
   "metadata": {},
   "outputs": [
    {
     "data": {
      "text/html": [
       "<div>\n",
       "<style scoped>\n",
       "    .dataframe tbody tr th:only-of-type {\n",
       "        vertical-align: middle;\n",
       "    }\n",
       "\n",
       "    .dataframe tbody tr th {\n",
       "        vertical-align: top;\n",
       "    }\n",
       "\n",
       "    .dataframe thead th {\n",
       "        text-align: right;\n",
       "    }\n",
       "</style>\n",
       "<table border=\"1\" class=\"dataframe\">\n",
       "  <thead>\n",
       "    <tr style=\"text-align: right;\">\n",
       "      <th>기준년월</th>\n",
       "      <th>2019-11</th>\n",
       "      <th>2019-12</th>\n",
       "    </tr>\n",
       "    <tr>\n",
       "      <th>국적명</th>\n",
       "      <th></th>\n",
       "      <th></th>\n",
       "    </tr>\n",
       "  </thead>\n",
       "  <tbody>\n",
       "    <tr>\n",
       "      <th>일본</th>\n",
       "      <td>148878.0</td>\n",
       "      <td>128146.5</td>\n",
       "    </tr>\n",
       "    <tr>\n",
       "      <th>중국</th>\n",
       "      <td>195927.5</td>\n",
       "      <td>202281.5</td>\n",
       "    </tr>\n",
       "  </tbody>\n",
       "</table>\n",
       "</div>"
      ],
      "text/plain": [
       "기준년월   2019-11   2019-12\n",
       "국적명                     \n",
       "일본    148878.0  128146.5\n",
       "중국    195927.5  202281.5"
      ]
     },
     "execution_count": 28,
     "metadata": {},
     "output_type": "execute_result"
    }
   ],
   "source": [
    "sample_pivot = sample.pivot_table(values = '입국객수',\n",
    "                                 index = '국적명',\n",
    "                                 columns = '기준년월',\n",
    "                                 aggfunc='mean')\n",
    "\n",
    "sample_pivot"
   ]
  },
  {
   "cell_type": "code",
   "execution_count": 29,
   "id": "b4f7f21a",
   "metadata": {},
   "outputs": [],
   "source": [
    "#v = 입국객수, i = 국적명, a = max"
   ]
  },
  {
   "cell_type": "code",
   "execution_count": 30,
   "id": "a20d7006",
   "metadata": {},
   "outputs": [
    {
     "data": {
      "text/html": [
       "<div>\n",
       "<style scoped>\n",
       "    .dataframe tbody tr th:only-of-type {\n",
       "        vertical-align: middle;\n",
       "    }\n",
       "\n",
       "    .dataframe tbody tr th {\n",
       "        vertical-align: top;\n",
       "    }\n",
       "\n",
       "    .dataframe thead th {\n",
       "        text-align: right;\n",
       "    }\n",
       "</style>\n",
       "<table border=\"1\" class=\"dataframe\">\n",
       "  <thead>\n",
       "    <tr style=\"text-align: right;\">\n",
       "      <th></th>\n",
       "      <th>입국객수</th>\n",
       "    </tr>\n",
       "    <tr>\n",
       "      <th>국적명</th>\n",
       "      <th></th>\n",
       "    </tr>\n",
       "  </thead>\n",
       "  <tbody>\n",
       "    <tr>\n",
       "      <th>일본</th>\n",
       "      <td>191436</td>\n",
       "    </tr>\n",
       "    <tr>\n",
       "      <th>중국</th>\n",
       "      <td>249023</td>\n",
       "    </tr>\n",
       "  </tbody>\n",
       "</table>\n",
       "</div>"
      ],
      "text/plain": [
       "       입국객수\n",
       "국적명        \n",
       "일본   191436\n",
       "중국   249023"
      ]
     },
     "execution_count": 30,
     "metadata": {},
     "output_type": "execute_result"
    }
   ],
   "source": [
    "sample_pivot_2 = sample.pivot_table(values = '입국객수',\n",
    "                                 index = '국적명',\n",
    "                                 aggfunc='max')\n",
    "\n",
    "sample_pivot_2"
   ]
  },
  {
   "cell_type": "markdown",
   "id": "b11bdc0a",
   "metadata": {},
   "source": [
    "selenium과 크롬드라이버 설치"
   ]
  },
  {
   "cell_type": "code",
   "execution_count": 31,
   "id": "f1233e2d",
   "metadata": {},
   "outputs": [
    {
     "name": "stdout",
     "output_type": "stream",
     "text": [
      "Requirement already satisfied: selenium in c:\\programdata\\anaconda3\\lib\\site-packages (4.1.2)\n",
      "Requirement already satisfied: trio~=0.17 in c:\\programdata\\anaconda3\\lib\\site-packages (from selenium) (0.20.0)\n",
      "Requirement already satisfied: trio-websocket~=0.9 in c:\\programdata\\anaconda3\\lib\\site-packages (from selenium) (0.9.2)\n",
      "Requirement already satisfied: urllib3[secure,socks]~=1.26 in c:\\programdata\\anaconda3\\lib\\site-packages (from selenium) (1.26.7)\n",
      "Requirement already satisfied: outcome in c:\\programdata\\anaconda3\\lib\\site-packages (from trio~=0.17->selenium) (1.1.0)\n",
      "Requirement already satisfied: async-generator>=1.9 in c:\\programdata\\anaconda3\\lib\\site-packages (from trio~=0.17->selenium) (1.10)\n",
      "Requirement already satisfied: sortedcontainers in c:\\programdata\\anaconda3\\lib\\site-packages (from trio~=0.17->selenium) (2.4.0)\n",
      "Requirement already satisfied: idna in c:\\programdata\\anaconda3\\lib\\site-packages (from trio~=0.17->selenium) (3.2)\n",
      "Requirement already satisfied: cffi>=1.14 in c:\\programdata\\anaconda3\\lib\\site-packages (from trio~=0.17->selenium) (1.14.6)\n",
      "Requirement already satisfied: attrs>=19.2.0 in c:\\programdata\\anaconda3\\lib\\site-packages (from trio~=0.17->selenium) (21.2.0)\n",
      "Requirement already satisfied: sniffio in c:\\programdata\\anaconda3\\lib\\site-packages (from trio~=0.17->selenium) (1.2.0)\n",
      "Requirement already satisfied: pycparser in c:\\programdata\\anaconda3\\lib\\site-packages (from cffi>=1.14->trio~=0.17->selenium) (2.20)\n",
      "Requirement already satisfied: wsproto>=0.14 in c:\\programdata\\anaconda3\\lib\\site-packages (from trio-websocket~=0.9->selenium) (1.0.0)\n",
      "Requirement already satisfied: pyOpenSSL>=0.14 in c:\\programdata\\anaconda3\\lib\\site-packages (from urllib3[secure,socks]~=1.26->selenium) (21.0.0)\n",
      "Requirement already satisfied: cryptography>=1.3.4 in c:\\programdata\\anaconda3\\lib\\site-packages (from urllib3[secure,socks]~=1.26->selenium) (3.4.8)\n",
      "Requirement already satisfied: certifi in c:\\programdata\\anaconda3\\lib\\site-packages (from urllib3[secure,socks]~=1.26->selenium) (2021.10.8)\n",
      "Requirement already satisfied: PySocks!=1.5.7,<2.0,>=1.5.6 in c:\\programdata\\anaconda3\\lib\\site-packages (from urllib3[secure,socks]~=1.26->selenium) (1.7.1)\n",
      "Requirement already satisfied: six>=1.5.2 in c:\\programdata\\anaconda3\\lib\\site-packages (from pyOpenSSL>=0.14->urllib3[secure,socks]~=1.26->selenium) (1.16.0)\n",
      "Requirement already satisfied: h11<1,>=0.9.0 in c:\\programdata\\anaconda3\\lib\\site-packages (from wsproto>=0.14->trio-websocket~=0.9->selenium) (0.13.0)\n"
     ]
    }
   ],
   "source": [
    "!pip install selenium"
   ]
  },
  {
   "cell_type": "code",
   "execution_count": 32,
   "id": "91cdf72d",
   "metadata": {},
   "outputs": [],
   "source": [
    "from selenium import webdriver"
   ]
  },
  {
   "cell_type": "code",
   "execution_count": 33,
   "id": "5d33194d",
   "metadata": {},
   "outputs": [
    {
     "name": "stdout",
     "output_type": "stream",
     "text": [
      "Requirement already satisfied: webdriver-manager in c:\\programdata\\anaconda3\\lib\\site-packages (3.5.3)\n",
      "Requirement already satisfied: crayons in c:\\programdata\\anaconda3\\lib\\site-packages (from webdriver-manager) (0.4.0)\n",
      "Requirement already satisfied: requests in c:\\programdata\\anaconda3\\lib\\site-packages (from webdriver-manager) (2.26.0)\n",
      "Requirement already satisfied: configparser in c:\\programdata\\anaconda3\\lib\\site-packages (from webdriver-manager) (5.2.0)\n",
      "Requirement already satisfied: colorama in c:\\programdata\\anaconda3\\lib\\site-packages (from crayons->webdriver-manager) (0.4.4)\n",
      "Requirement already satisfied: idna<4,>=2.5 in c:\\programdata\\anaconda3\\lib\\site-packages (from requests->webdriver-manager) (3.2)\n",
      "Requirement already satisfied: certifi>=2017.4.17 in c:\\programdata\\anaconda3\\lib\\site-packages (from requests->webdriver-manager) (2021.10.8)\n",
      "Requirement already satisfied: charset-normalizer~=2.0.0 in c:\\programdata\\anaconda3\\lib\\site-packages (from requests->webdriver-manager) (2.0.4)\n",
      "Requirement already satisfied: urllib3<1.27,>=1.21.1 in c:\\programdata\\anaconda3\\lib\\site-packages (from requests->webdriver-manager) (1.26.7)\n"
     ]
    }
   ],
   "source": [
    "!pip install webdriver-manager"
   ]
  },
  {
   "cell_type": "code",
   "execution_count": 34,
   "id": "5c1e5227",
   "metadata": {},
   "outputs": [],
   "source": [
    "from webdriver_manager.chrome import ChromeDriverManager"
   ]
  },
  {
   "cell_type": "code",
   "execution_count": 35,
   "id": "f7ab17d0",
   "metadata": {},
   "outputs": [
    {
     "name": "stderr",
     "output_type": "stream",
     "text": [
      "\n",
      "\n",
      "====== WebDriver manager ======\n",
      "Current google-chrome version is 98.0.4758\n",
      "Get LATEST chromedriver version for 98.0.4758 google-chrome\n",
      "Trying to download new driver from https://chromedriver.storage.googleapis.com/98.0.4758.102/chromedriver_win32.zip\n",
      "Driver has been saved in cache [C:\\Users\\SindongIn\\.wdm\\drivers\\chromedriver\\win32\\98.0.4758.102]\n",
      "C:\\Users\\SINDON~1\\AppData\\Local\\Temp/ipykernel_17852/1503906442.py:1: DeprecationWarning: executable_path has been deprecated, please pass in a Service object\n",
      "  driver = webdriver.Chrome(ChromeDriverManager().install())\n"
     ]
    }
   ],
   "source": [
    "driver = webdriver.Chrome(ChromeDriverManager().install())"
   ]
  },
  {
   "cell_type": "code",
   "execution_count": 36,
   "id": "89a4dbc0",
   "metadata": {},
   "outputs": [],
   "source": [
    "url = \"http://www.naver.com\"\n",
    "driver.get(url)"
   ]
  },
  {
   "cell_type": "code",
   "execution_count": 37,
   "id": "02b345cf",
   "metadata": {},
   "outputs": [],
   "source": [
    "html = driver.page_source"
   ]
  },
  {
   "cell_type": "code",
   "execution_count": 38,
   "id": "7cbbd0e6",
   "metadata": {},
   "outputs": [],
   "source": [
    "html = '''\n",
    "<html>\n",
    "    <head>\n",
    "    </head>\n",
    "    <body>\n",
    "        <h1> 우리동네시장</h1>\n",
    "            <div class = 'sale'>\n",
    "                <p id='fruits1' class='fruits'>\n",
    "                    <span class = 'name'> 바나나 </span>\n",
    "                    <span class = 'price'> 3000원 </span>\n",
    "                    <span class = 'inventory'> 500개 </span>\n",
    "                    <span class = 'store'> 가나다상회 </span>\n",
    "                    <a href = 'http://bit.ly/forPlaywithData' > 홈페이지 </a>\n",
    "                </p>\n",
    "            </div>\n",
    "            <div class = 'prepare'>\n",
    "                <p id='fruits2' class='fruits'>\n",
    "                    <span class ='name'> 파인애플 </span>\n",
    "                </p>\n",
    "            </div>\n",
    "    </body>\n",
    "</html>\n",
    "\n",
    "'''"
   ]
  },
  {
   "cell_type": "code",
   "execution_count": 39,
   "id": "b094e515",
   "metadata": {},
   "outputs": [],
   "source": [
    "from bs4 import BeautifulSoup"
   ]
  },
  {
   "cell_type": "code",
   "execution_count": 40,
   "id": "0b99e853",
   "metadata": {},
   "outputs": [],
   "source": [
    "soup = BeautifulSoup(html, 'html.parser' )"
   ]
  },
  {
   "cell_type": "code",
   "execution_count": 41,
   "id": "c342464d",
   "metadata": {},
   "outputs": [
    {
     "data": {
      "text/plain": [
       "[<p class=\"fruits\" id=\"fruits1\">\n",
       " <span class=\"name\"> 바나나 </span>\n",
       " <span class=\"price\"> 3000원 </span>\n",
       " <span class=\"inventory\"> 500개 </span>\n",
       " <span class=\"store\"> 가나다상회 </span>\n",
       " <a href=\"http://bit.ly/forPlaywithData\"> 홈페이지 </a>\n",
       " </p>,\n",
       " <p class=\"fruits\" id=\"fruits2\">\n",
       " <span class=\"name\"> 파인애플 </span>\n",
       " </p>]"
      ]
     },
     "execution_count": 41,
     "metadata": {},
     "output_type": "execute_result"
    }
   ],
   "source": [
    "tags_span = soup.select('span')\n",
    "# tags_span\n",
    "tags_p = soup.select('p')\n",
    "tags_p"
   ]
  },
  {
   "cell_type": "code",
   "execution_count": 42,
   "id": "373707b5",
   "metadata": {},
   "outputs": [
    {
     "data": {
      "text/plain": [
       "[<p class=\"fruits\" id=\"fruits1\">\n",
       " <span class=\"name\"> 바나나 </span>\n",
       " <span class=\"price\"> 3000원 </span>\n",
       " <span class=\"inventory\"> 500개 </span>\n",
       " <span class=\"store\"> 가나다상회 </span>\n",
       " <a href=\"http://bit.ly/forPlaywithData\"> 홈페이지 </a>\n",
       " </p>]"
      ]
     },
     "execution_count": 42,
     "metadata": {},
     "output_type": "execute_result"
    }
   ],
   "source": [
    "ids_fruits1 = soup.select('#fruits1')\n",
    "ids_fruits1"
   ]
  },
  {
   "cell_type": "code",
   "execution_count": 43,
   "id": "4a066b31",
   "metadata": {},
   "outputs": [
    {
     "data": {
      "text/plain": [
       "[<span class=\"price\"> 3000원 </span>]"
      ]
     },
     "execution_count": 43,
     "metadata": {},
     "output_type": "execute_result"
    }
   ],
   "source": [
    "class_price = soup.select('.price')\n",
    "class_price"
   ]
  },
  {
   "cell_type": "code",
   "execution_count": 44,
   "id": "59e7f2e2",
   "metadata": {},
   "outputs": [
    {
     "data": {
      "text/plain": [
       "[<span class=\"price\"> 3000원 </span>]"
      ]
     },
     "execution_count": 44,
     "metadata": {},
     "output_type": "execute_result"
    }
   ],
   "source": [
    "tags_span_class_price = soup.select('span.price')\n",
    "tags_span_class_price"
   ]
  },
  {
   "cell_type": "code",
   "execution_count": 45,
   "id": "3e4025d0",
   "metadata": {},
   "outputs": [
    {
     "name": "stdout",
     "output_type": "stream",
     "text": [
      "[<span class=\"name\"> 바나나 </span>, <span class=\"name\"> 파인애플 </span>]\n"
     ]
    }
   ],
   "source": [
    "tags_name = soup.select('span.name')\n",
    "print(tags_name)"
   ]
  },
  {
   "cell_type": "code",
   "execution_count": 46,
   "id": "59abb8cb",
   "metadata": {},
   "outputs": [
    {
     "data": {
      "text/plain": [
       "[<span class=\"name\"> 바나나 </span>]"
      ]
     },
     "execution_count": 46,
     "metadata": {},
     "output_type": "execute_result"
    }
   ],
   "source": [
    "tags_banana = soup.select('#fruits1 .name')\n",
    "tags_banana"
   ]
  },
  {
   "cell_type": "code",
   "execution_count": 47,
   "id": "d35e71d9",
   "metadata": {},
   "outputs": [
    {
     "data": {
      "text/plain": [
       "[<span class=\"name\"> 바나나 </span>]"
      ]
     },
     "execution_count": 47,
     "metadata": {},
     "output_type": "execute_result"
    }
   ],
   "source": [
    "tags_banana = soup.select('.sale > #fruits1 > .name')\n",
    "tags_banana"
   ]
  },
  {
   "cell_type": "code",
   "execution_count": 48,
   "id": "40c69c2c",
   "metadata": {},
   "outputs": [
    {
     "data": {
      "text/plain": [
       "<span class=\"name\"> 바나나 </span>"
      ]
     },
     "execution_count": 48,
     "metadata": {},
     "output_type": "execute_result"
    }
   ],
   "source": [
    "tags = soup.select('span.name')\n",
    "tag_1 = tags[0]\n",
    "tag_1"
   ]
  },
  {
   "cell_type": "code",
   "execution_count": 49,
   "id": "9536a92e",
   "metadata": {},
   "outputs": [
    {
     "name": "stdout",
     "output_type": "stream",
     "text": [
      "<span class=\"name\"> 바나나 </span>\n",
      "<span class=\"name\"> 파인애플 </span>\n"
     ]
    }
   ],
   "source": [
    "tags = soup.select('span.name')\n",
    "\n",
    "for tag in tags:\n",
    "    print(tag)"
   ]
  },
  {
   "cell_type": "code",
   "execution_count": 50,
   "id": "c17c1af5",
   "metadata": {},
   "outputs": [
    {
     "name": "stdout",
     "output_type": "stream",
     "text": [
      " 홈페이지 \n"
     ]
    }
   ],
   "source": [
    "tags = soup.select('a')\n",
    "tag = tags[0]\n",
    "content = tag.text\n",
    "print(content)"
   ]
  },
  {
   "cell_type": "code",
   "execution_count": 51,
   "id": "c6813502",
   "metadata": {
    "scrolled": true
   },
   "outputs": [
    {
     "data": {
      "text/plain": [
       "'http://bit.ly/forPlaywithData'"
      ]
     },
     "execution_count": 51,
     "metadata": {},
     "output_type": "execute_result"
    }
   ],
   "source": [
    "link = tag['href']\n",
    "link"
   ]
  },
  {
   "cell_type": "code",
   "execution_count": 52,
   "id": "5aab21b3",
   "metadata": {},
   "outputs": [],
   "source": [
    "url = \"http://www.melon.com/chart/index.htm\"\n",
    "driver.get(url)"
   ]
  },
  {
   "cell_type": "code",
   "execution_count": 53,
   "id": "1bbdc02b",
   "metadata": {},
   "outputs": [],
   "source": [
    "html = driver.page_source\n",
    "soup = BeautifulSoup(html,'html.parser')"
   ]
  },
  {
   "cell_type": "code",
   "execution_count": 54,
   "id": "5b50ae2c",
   "metadata": {},
   "outputs": [
    {
     "name": "stdout",
     "output_type": "stream",
     "text": [
      "101\n"
     ]
    }
   ],
   "source": [
    "songs = soup.select('tr')\n",
    "print(len(songs))"
   ]
  },
  {
   "cell_type": "code",
   "execution_count": 55,
   "id": "ab29996c",
   "metadata": {},
   "outputs": [
    {
     "name": "stdout",
     "output_type": "stream",
     "text": [
      "<tr>\n",
      "<th scope=\"col\">\n",
      "<div class=\"wrap t_right\"><input class=\"input_check d_checkall\" title=\"곡 목록 전체 선택\" type=\"checkbox\"/></div>\n",
      "</th>\n",
      "<th scope=\"col\">\n",
      "<div class=\"wrap t_center\"><span class=\"rank\">순위</span></div>\n",
      "</th>\n",
      "<th scope=\"col\">\n",
      "<div class=\"wrap none\">순위등락</div>\n",
      "</th>\n",
      "<th scope=\"col\">\n",
      "<div class=\"wrap none\">앨범이미지</div>\n",
      "</th>\n",
      "<th scope=\"col\">\n",
      "<div class=\"wrap none\">곡 상세가기</div>\n",
      "</th>\n",
      "<th scope=\"col\">\n",
      "<div class=\"wrap pd_l_12\">곡정보</div>\n",
      "</th>\n",
      "<th scope=\"col\">\n",
      "<div class=\"wrap pd_l_12\">앨범</div>\n",
      "</th>\n",
      "<th scope=\"col\">\n",
      "<div class=\"wrap pd_l_30\">좋아요</div>\n",
      "</th>\n",
      "<th scope=\"col\">\n",
      "<div class=\"wrap t_center\">듣기</div>\n",
      "</th>\n",
      "<th scope=\"col\">\n",
      "<div class=\"wrap t_center\">담기</div>\n",
      "</th>\n",
      "<th scope=\"col\">\n",
      "<div class=\"wrap t_center\">다운</div>\n",
      "</th>\n",
      "<th scope=\"col\">\n",
      "<div class=\"wrap t_center\">뮤비</div>\n",
      "</th>\n",
      "</tr>\n"
     ]
    }
   ],
   "source": [
    "print(songs[0])\n"
   ]
  },
  {
   "cell_type": "code",
   "execution_count": 56,
   "id": "38d6785b",
   "metadata": {},
   "outputs": [
    {
     "name": "stdout",
     "output_type": "stream",
     "text": [
      "100\n"
     ]
    },
    {
     "data": {
      "text/plain": [
       "<tr class=\"lst50\" data-song-no=\"34061322\" id=\"lst50\">\n",
       "<td><div class=\"wrap t_right\"><input class=\"input_check\" name=\"input_check\" title=\"사랑은 늘 도망가 곡 선택\" type=\"checkbox\" value=\"34061322\"/></div></td>\n",
       "<td><div class=\"wrap t_center\"><span class=\"rank\">2</span><span class=\"none\">위</span></div></td>\n",
       "<!-- 차트순위 추가 -->\n",
       "<td><div class=\"wrap\">\n",
       "<span class=\"rank_wrap\" title=\"1단계 하락\">\n",
       "<span class=\"bullet_icons rank_down\"><span class=\"none\">단계 하락</span></span>\n",
       "<span class=\"down\">1</span>\n",
       "</span>\n",
       "</div></td>\n",
       "<td><div class=\"wrap\">\n",
       "<a class=\"image_typeAll\" href=\"javascript:melon.link.goAlbumDetail('10735654');\" title=\"신사와 아가씨 OST Part.2\">\n",
       "<img alt=\"신사와 아가씨 OST Part.2 - 페이지 이동\" height=\"60\" onerror=\"WEBPOCIMG.defaultAlbumImg(this);\" src=\"https://cdnimg.melon.co.kr/cm2/album/images/107/35/654/10735654_20211008114339_500.jpg/melon/resize/120/quality/80/optimize\" width=\"60\"/>\n",
       "<span class=\"bg_album_frame\"></span>\n",
       "</a>\n",
       "</div></td>\n",
       "<td><div class=\"wrap\">\n",
       "<a class=\"btn button_icons type03 song_info\" href=\"javascript:melon.link.goSongDetail('34061322');\" title=\"사랑은 늘 도망가 곡정보\"><span class=\"none\">곡정보</span></a>\n",
       "</div></td>\n",
       "<td><div class=\"wrap\">\n",
       "<div class=\"wrap_song_info\">\n",
       "<div class=\"ellipsis rank01\"><span>\n",
       "<a href=\"javascript:melon.play.playSong('1000002721',34061322);\" title=\"사랑은 늘 도망가 재생\">사랑은 늘 도망가</a>\n",
       "</span></div><br/>\n",
       "<div class=\"ellipsis rank02\">\n",
       "<a href=\"javascript:melon.link.goArtistDetail('994944');\" title=\"임영웅 - 페이지 이동\">임영웅</a><span class=\"checkEllipsis\" style=\"display: none;\"><a href=\"javascript:melon.link.goArtistDetail('994944');\" title=\"임영웅 - 페이지 이동\">임영웅</a></span>\n",
       "</div>\n",
       "</div>\n",
       "</div></td>\n",
       "<td><div class=\"wrap\">\n",
       "<div class=\"wrap_song_info\">\n",
       "<div class=\"ellipsis rank03\">\n",
       "<a href=\"javascript:melon.link.goAlbumDetail('10735654');\" title=\"신사와 아가씨 OST Part.2 - 페이지 이동\">신사와 아가씨 OST Part.2</a>\n",
       "</div>\n",
       "</div>\n",
       "</div></td>\n",
       "<td><div class=\"wrap\">\n",
       "<button class=\"button_etc like\" data-song-menuid=\"1000002721\" data-song-no=\"34061322\" title=\"사랑은 늘 도망가 좋아요\" type=\"button\"><span class=\"odd_span\">좋아요</span>\n",
       "<span class=\"cnt\">\n",
       "<span class=\"none\">총건수</span>\n",
       "131,675</span></button>\n",
       "</div></td>\n",
       "<td><div class=\"wrap t_center\">\n",
       "<button class=\"button_icons play\" onclick=\"melon.play.playSong('1000002721',34061322);\" title=\"듣기\" type=\"button\"><span class=\"none\">듣기</span></button>\n",
       "</div></td>\n",
       "<td><div class=\"wrap t_center\">\n",
       "<button class=\"button_icons scrap\" onclick=\"melon.play.addPlayList('34061322');\" title=\"담기\" type=\"button\"><span class=\"none\">담기</span></button>\n",
       "</div></td>\n",
       "<td><div class=\"wrap t_center\">\n",
       "<button class=\"button_icons download\" onclick=\"melon.buy.goBuyProduct('frm', '34061322', '3C0001', '','0', '1000002721');\" title=\"다운로드\" type=\"button\"><span class=\"none\">다운로드</span></button>\n",
       "</div></td>\n",
       "<td><div class=\"wrap t_center\">\n",
       "<button class=\"button_icons video\" onclick=\"melon.link.goMvDetail('1000002721', '34061322','song');\" title=\"뮤직비디오\" type=\"button\"><span class=\"none\">뮤직비디오</span></button>\n",
       "</div></td>\n",
       "</tr>"
      ]
     },
     "execution_count": 56,
     "metadata": {},
     "output_type": "execute_result"
    }
   ],
   "source": [
    "songs = soup.select('tr')[1:]\n",
    "print(len(songs))\n",
    "\n",
    "songs[1]\n"
   ]
  },
  {
   "cell_type": "code",
   "execution_count": 57,
   "id": "9aef32e3",
   "metadata": {
    "scrolled": true
   },
   "outputs": [
    {
     "name": "stdout",
     "output_type": "stream",
     "text": [
      "<tr class=\"lst50\" data-song-no=\"34626109\" id=\"lst50\">\n",
      "<td><div class=\"wrap t_right\"><input class=\"input_check\" name=\"input_check\" title=\"INVU 곡 선택\" type=\"checkbox\" value=\"34626109\"/></div></td>\n",
      "<td><div class=\"wrap t_center\"><span class=\"rank\">1</span><span class=\"none\">위</span></div></td>\n",
      "<!-- 차트순위 추가 -->\n",
      "<td><div class=\"wrap\">\n",
      "<span class=\"rank_wrap\" title=\"1단계 상승\">\n",
      "<span class=\"bullet_icons rank_up\"><span class=\"none\">단계 상승</span></span>\n",
      "<span class=\"up\">1</span>\n",
      "</span>\n",
      "</div></td>\n",
      "<td><div class=\"wrap\">\n",
      "<a class=\"image_typeAll\" href=\"javascript:melon.link.goAlbumDetail('10863559');\" title=\"INVU - The 3rd Album\">\n",
      "<img alt=\"INVU - The 3rd Album - 페이지 이동\" height=\"60\" onerror=\"WEBPOCIMG.defaultAlbumImg(this);\" src=\"https://cdnimg.melon.co.kr/cm2/album/images/108/63/559/10863559_20220214160739_500.jpg/melon/resize/120/quality/80/optimize\" width=\"60\"/>\n",
      "<span class=\"bg_album_frame\"></span>\n",
      "</a>\n",
      "</div></td>\n",
      "<td><div class=\"wrap\">\n",
      "<a class=\"btn button_icons type03 song_info\" href=\"javascript:melon.link.goSongDetail('34626109');\" title=\"INVU 곡정보\"><span class=\"none\">곡정보</span></a>\n",
      "</div></td>\n",
      "<td><div class=\"wrap\">\n",
      "<div class=\"wrap_song_info\">\n",
      "<div class=\"ellipsis rank01\"><span>\n",
      "<a href=\"javascript:melon.play.playSong('1000002721',34626109);\" title=\"INVU 재생\">INVU</a>\n",
      "</span></div><br/>\n",
      "<div class=\"ellipsis rank02\">\n",
      "<a href=\"javascript:melon.link.goArtistDetail('236797');\" title=\"태연 (TAEYEON) - 페이지 이동\">태연 (TAEYEON)</a><span class=\"checkEllipsis\" style=\"display: none;\"><a href=\"javascript:melon.link.goArtistDetail('236797');\" title=\"태연 (TAEYEON) - 페이지 이동\">태연 (TAEYEON)</a></span>\n",
      "</div>\n",
      "</div>\n",
      "</div></td>\n",
      "<td><div class=\"wrap\">\n",
      "<div class=\"wrap_song_info\">\n",
      "<div class=\"ellipsis rank03\">\n",
      "<a href=\"javascript:melon.link.goAlbumDetail('10863559');\" title=\"INVU - The 3rd Album - 페이지 이동\">INVU - The 3rd Album</a>\n",
      "</div>\n",
      "</div>\n",
      "</div></td>\n",
      "<td><div class=\"wrap\">\n",
      "<button class=\"button_etc like\" data-song-menuid=\"1000002721\" data-song-no=\"34626109\" title=\"INVU 좋아요\" type=\"button\"><span class=\"odd_span\">좋아요</span>\n",
      "<span class=\"cnt\">\n",
      "<span class=\"none\">총건수</span>\n",
      "55,015</span></button>\n",
      "</div></td>\n",
      "<td><div class=\"wrap t_center\">\n",
      "<button class=\"button_icons play\" onclick=\"melon.play.playSong('1000002721',34626109);\" title=\"듣기\" type=\"button\"><span class=\"none\">듣기</span></button>\n",
      "</div></td>\n",
      "<td><div class=\"wrap t_center\">\n",
      "<button class=\"button_icons scrap\" onclick=\"melon.play.addPlayList('34626109');\" title=\"담기\" type=\"button\"><span class=\"none\">담기</span></button>\n",
      "</div></td>\n",
      "<td><div class=\"wrap t_center\">\n",
      "<button class=\"button_icons download\" onclick=\"melon.buy.goBuyProduct('frm', '34626109', '3C0001', '','0', '1000002721');\" title=\"다운로드\" type=\"button\"><span class=\"none\">다운로드</span></button>\n",
      "</div></td>\n",
      "<td><div class=\"wrap t_center\">\n",
      "<button class=\"button_icons video\" onclick=\"melon.link.goMvDetail('1000002721', '34626109','song');\" title=\"뮤직비디오\" type=\"button\"><span class=\"none\">뮤직비디오</span></button>\n",
      "</div></td>\n",
      "</tr>\n"
     ]
    }
   ],
   "source": [
    "print(songs[0])"
   ]
  },
  {
   "cell_type": "code",
   "execution_count": 58,
   "id": "774c4b91",
   "metadata": {},
   "outputs": [],
   "source": [
    "song = songs[0]"
   ]
  },
  {
   "cell_type": "code",
   "execution_count": 59,
   "id": "c1e1c7c4",
   "metadata": {},
   "outputs": [
    {
     "data": {
      "text/plain": [
       "6"
      ]
     },
     "execution_count": 59,
     "metadata": {},
     "output_type": "execute_result"
    }
   ],
   "source": [
    "title = song.select('a')\n",
    "len(title)"
   ]
  },
  {
   "cell_type": "code",
   "execution_count": 60,
   "id": "e5cf02be",
   "metadata": {},
   "outputs": [
    {
     "data": {
      "text/plain": [
       "2"
      ]
     },
     "execution_count": 60,
     "metadata": {},
     "output_type": "execute_result"
    }
   ],
   "source": [
    "title = song.select('span > a')\n",
    "len(title)"
   ]
  },
  {
   "cell_type": "code",
   "execution_count": 61,
   "id": "c9444835",
   "metadata": {},
   "outputs": [
    {
     "data": {
      "text/plain": [
       "[<a href=\"javascript:melon.play.playSong('1000002721',34626109);\" title=\"INVU 재생\">INVU</a>]"
      ]
     },
     "execution_count": 61,
     "metadata": {},
     "output_type": "execute_result"
    }
   ],
   "source": [
    "title = song.select('div.ellipsis.rank01 > span > a')\n",
    "len(title)\n",
    "title"
   ]
  },
  {
   "cell_type": "code",
   "execution_count": 62,
   "id": "88cc27db",
   "metadata": {},
   "outputs": [
    {
     "name": "stdout",
     "output_type": "stream",
     "text": [
      "INVU\n"
     ]
    }
   ],
   "source": [
    "title = song.select('div.ellipsis.rank01 > span > a')[0].text\n",
    "print(title)"
   ]
  },
  {
   "cell_type": "code",
   "execution_count": 63,
   "id": "7d94d114",
   "metadata": {},
   "outputs": [
    {
     "name": "stdout",
     "output_type": "stream",
     "text": [
      "태연 (TAEYEON)\n"
     ]
    },
    {
     "data": {
      "text/plain": [
       "[<a href=\"javascript:melon.play.playSong('1000002721',34431086);\" title=\"취중고백 재생\">취중고백</a>]"
      ]
     },
     "execution_count": 63,
     "metadata": {},
     "output_type": "execute_result"
    }
   ],
   "source": [
    "title = song.select('div.ellipsis.rank02 > span > a')[0].text\n",
    "print(title)\n",
    "songs[2].select('div.ellipsis.rank01 > span > a')"
   ]
  },
  {
   "cell_type": "code",
   "execution_count": 64,
   "id": "aadabad7",
   "metadata": {},
   "outputs": [
    {
     "name": "stdout",
     "output_type": "stream",
     "text": [
      "1 위:  INVU | 태연 (TAEYEON)\n",
      "2 위:  사랑은 늘 도망가 | 임영웅\n",
      "3 위:  취중고백 | 김민석 (멜로망스)\n",
      "4 위:  언제나 사랑해 | 케이시 (Kassy)\n",
      "5 위:  ELEVEN | IVE (아이브)\n",
      "6 위:  Step Back | GOT the beat\n",
      "7 위:  회전목마 (Feat. Zion.T, 원슈타인) (Prod. Slom) | sokodomo\n",
      "8 위:  호랑수월가 | 탑현\n",
      "9 위:  이제 나만 믿어요 | 임영웅\n",
      "10 위:  SMILEY (Feat. BIBI) | YENA (최예나)\n",
      "11 위:  다정히 내 이름을 부르면 | 경서예지\n",
      "12 위:  리무진 (Feat. MINO) (Prod. GRAY) | BE'O (비오)\n",
      "13 위:  abcdefu | GAYLE\n",
      "14 위:  너, 너 (N번째 연애 X 휘인 (Whee In)) | 휘인 (Whee In)\n",
      "15 위:  눈이 오잖아(Feat.헤이즈) | 이무진\n",
      "16 위:  Counting Stars (Feat. Beenzino) | BE'O (비오)\n",
      "17 위:  다시 사랑한다면 (김필 Ver.) | 임영웅\n",
      "18 위:  별빛 같은 나의 사랑아 | 임영웅\n",
      "19 위:  Dreams Come True | aespa\n",
      "20 위:  그대라는 사치 | 임영웅\n",
      "21 위:  잊을 수 있을까 | 노을\n",
      "22 위:  STAY | The Kid LAROI\n",
      "23 위:  신호등 | 이무진\n",
      "24 위:  Can't Control Myself | 태연 (TAEYEON)\n",
      "25 위:  잊었니 | 임영웅\n",
      "26 위:  HERO | 임영웅\n",
      "27 위:  Next Level | aespa\n",
      "28 위:  strawberry moon | 아이유\n",
      "29 위:  겨울잠 | 아이유\n",
      "30 위:  끝사랑 | 임영웅\n",
      "31 위:  너 아니면 안돼 | 먼데이 키즈 (Monday Kiz)\n",
      "32 위:  노래 (The Song) | 비투비\n",
      "33 위:  Bk Love | 임영웅\n",
      "34 위:  Butter | 방탄소년단\n",
      "35 위:  Savage | aespa\n",
      "36 위:  만남은 쉽고 이별은 어려워 (Feat. Leellamarz) (Prod. TOIL) | 베이식 (Basick)\n",
      "37 위:  RUN2U | STAYC(스테이씨)\n",
      "38 위:  드라마 | 아이유\n",
      "39 위:  Dynamite | 방탄소년단\n",
      "40 위:  Christmas Tree | V\n",
      "41 위:  Weekend | 태연 (TAEYEON)\n",
      "42 위:  그래서 그래 (Feat. 윤하) | 에픽하이 (EPIK HIGH)\n",
      "43 위:  너를 생각해 | 주시크 (Joosiq)\n",
      "44 위:  Permission to Dance | 방탄소년단\n",
      "45 위:  계단말고 엘리베이터 | 임영웅\n",
      "46 위:  OHAYO MY NIGHT | 디핵 (D-Hack)\n",
      "47 위:  서랍 | 10CM\n",
      "48 위:  바라만 본다 | MSG워너비(M.O.M)\n",
      "49 위:  우리가 헤어져야 했던 이유 | 비비 (BIBI)\n",
      "50 위:  My Universe | Coldplay\n",
      "51 위:  언덕나무 | 이승윤\n",
      "52 위:  흰눈 | 먼데이 키즈 (Monday Kiz)\n",
      "53 위:  사랑인가 봐 | 멜로망스\n",
      "54 위:  문득 | BE'O (비오)\n",
      "55 위:  Celebrity | 아이유\n",
      "56 위:  라일락 | 아이유\n",
      "57 위:  대낮에 한 이별 | 선예\n",
      "58 위:  낙하 (with 아이유) | AKMU (악뮤)\n",
      "59 위:  밤하늘의 별을(2020) | 경서\n",
      "60 위:  헤픈 우연 | 헤이즈 (Heize)\n",
      "61 위:  네가 없는 밤 (Feat. ASH ISLAND) (Prod. GRAY) | BE'O (비오)\n",
      "62 위:  사이렌 Remix (Feat. UNEDUCATED KID, Paul Blanco) | 호미들\n",
      "63 위:  Bad Habits | Ed Sheeran\n",
      "64 위:  너의 모든 순간 | 성시경\n",
      "65 위:  찰나가 영원이 될 때 (The Eternal Moment) | 마크툽 (MAKTUB)\n",
      "66 위:  그런 밤 (Some Nights) | 태연 (TAEYEON)\n",
      "67 위:  불협화음 (Feat. AKMU) (Prod. GRAY) | Mudd the student\n",
      "68 위:  모든 날, 모든 순간 (Every day, Every Moment) | 폴킴\n",
      "69 위:  강변북로 | 황인욱\n",
      "70 위:  사랑이 아니었다고 말하지 마요 | 이예준\n",
      "71 위:  봄날 | 방탄소년단\n",
      "72 위:  어떻게 이별까지 사랑하겠어, 널 사랑하는 거지 | AKMU (악뮤)\n",
      "73 위:  내 손을 잡아 | 아이유\n",
      "74 위:  쉬어 (Feat. MINO) (Prod. GRAY) | 아넌딜라이트(Anandelight)\n",
      "75 위:  그게 더 편할 것 같아 (N번째 연애 X 멜로망스) | 멜로망스\n",
      "76 위:  롤린 (Rollin') | 브레이브걸스\n",
      "77 위:  Dilemma | Apink (에이핑크)\n",
      "78 위:  Wake Up (Prod. 코드 쿤스트) | 개코\n",
      "79 위:  Off My Face | Justin Bieber\n",
      "80 위:  고백 | 멜로망스\n",
      "81 위:  Blueming | 아이유\n",
      "82 위:  작은 것들을 위한 시 (Boy With Luv) (Feat. Halsey) | 방탄소년단\n",
      "83 위:  Good Night (Feat. BE'O) | 쿠기 (Coogie)\n",
      "84 위:  겨울..그다음 봄 | 로시 (Rothy)\n",
      "85 위:  Dun Dun Dance | 오마이걸 (OH MY GIRL)\n",
      "86 위:  Stay Alive (Prod. SUGA of BTS) | 정국\n",
      "87 위:  추억은 만남보다 이별에 남아 | 정동하\n",
      "88 위:  오늘도 빛나는 너에게 (To You My Light) (Feat.이라온) | 마크툽 (MAKTUB)\n",
      "89 위:  밝게 빛나는 별이 되어 비춰줄게 | 송이한\n",
      "90 위:  취기를 빌려 (취향저격 그녀 X 산들) | 산들\n",
      "91 위:  Savage Love (Laxed - Siren Beat) (BTS Remix) | Jawsh 685\n",
      "92 위:  DM | 프로미스나인\n",
      "93 위:  그날에 나는 맘이 편했을까 | 이예준\n",
      "94 위:  시간을 거슬러 (낮에 뜨는 달 X 케이윌) | 케이윌\n",
      "95 위:  이별후회 | 김나영\n",
      "96 위:  Life Goes On | 방탄소년단\n",
      "97 위:  비가 오는 날엔 (2021) | 헤이즈 (Heize)\n",
      "98 위:  Because | ASH ISLAND\n",
      "99 위:  봄이 피어나 | 비투비\n",
      "100 위:  여름비 | 샘김 (Sam Kim)\n"
     ]
    }
   ],
   "source": [
    "songs = soup.select('tr')[1:]\n",
    "\n",
    "i = int(0)\n",
    "for tag in songs:\n",
    "  \n",
    "    title = songs[i].select('div.ellipsis.rank01 > span > a')[0].text\n",
    "    singer = songs[i].select('div.ellipsis.rank02 > span > a')[0].text\n",
    "    print(i+1,\"위: \",title ,\"|\", singer)\n",
    "    i = i+1"
   ]
  },
  {
   "cell_type": "code",
   "execution_count": 65,
   "id": "6496082e",
   "metadata": {},
   "outputs": [
    {
     "data": {
      "text/plain": [
       "[['Melon', 1, 'INVU', '태연 (TAEYEON)'],\n",
       " ['Melon', 2, '사랑은 늘 도망가', '임영웅'],\n",
       " ['Melon', 3, '취중고백', '김민석 (멜로망스)'],\n",
       " ['Melon', 4, '언제나 사랑해', '케이시 (Kassy)'],\n",
       " ['Melon', 5, 'ELEVEN', 'IVE (아이브)'],\n",
       " ['Melon', 6, 'Step Back', 'GOT the beat'],\n",
       " ['Melon', 7, '회전목마 (Feat. Zion.T, 원슈타인) (Prod. Slom)', 'sokodomo'],\n",
       " ['Melon', 8, '호랑수월가', '탑현'],\n",
       " ['Melon', 9, '이제 나만 믿어요', '임영웅'],\n",
       " ['Melon', 10, 'SMILEY (Feat. BIBI)', 'YENA (최예나)'],\n",
       " ['Melon', 11, '다정히 내 이름을 부르면', '경서예지'],\n",
       " ['Melon', 12, '리무진 (Feat. MINO) (Prod. GRAY)', \"BE'O (비오)\"],\n",
       " ['Melon', 13, 'abcdefu', 'GAYLE'],\n",
       " ['Melon', 14, '너, 너 (N번째 연애 X 휘인 (Whee In))', '휘인 (Whee In)'],\n",
       " ['Melon', 15, '눈이 오잖아(Feat.헤이즈)', '이무진'],\n",
       " ['Melon', 16, 'Counting Stars (Feat. Beenzino)', \"BE'O (비오)\"],\n",
       " ['Melon', 17, '다시 사랑한다면 (김필 Ver.)', '임영웅'],\n",
       " ['Melon', 18, '별빛 같은 나의 사랑아', '임영웅'],\n",
       " ['Melon', 19, 'Dreams Come True', 'aespa'],\n",
       " ['Melon', 20, '그대라는 사치', '임영웅'],\n",
       " ['Melon', 21, '잊을 수 있을까', '노을'],\n",
       " ['Melon', 22, 'STAY', 'The Kid LAROI'],\n",
       " ['Melon', 23, '신호등', '이무진'],\n",
       " ['Melon', 24, \"Can't Control Myself\", '태연 (TAEYEON)'],\n",
       " ['Melon', 25, '잊었니', '임영웅'],\n",
       " ['Melon', 26, 'HERO', '임영웅'],\n",
       " ['Melon', 27, 'Next Level', 'aespa'],\n",
       " ['Melon', 28, 'strawberry moon', '아이유'],\n",
       " ['Melon', 29, '겨울잠', '아이유'],\n",
       " ['Melon', 30, '끝사랑', '임영웅'],\n",
       " ['Melon', 31, '너 아니면 안돼', '먼데이 키즈 (Monday Kiz)'],\n",
       " ['Melon', 32, '노래 (The Song)', '비투비'],\n",
       " ['Melon', 33, 'Bk Love', '임영웅'],\n",
       " ['Melon', 34, 'Butter', '방탄소년단'],\n",
       " ['Melon', 35, 'Savage', 'aespa'],\n",
       " ['Melon',\n",
       "  36,\n",
       "  '만남은 쉽고 이별은 어려워 (Feat. Leellamarz) (Prod. TOIL)',\n",
       "  '베이식 (Basick)'],\n",
       " ['Melon', 37, 'RUN2U', 'STAYC(스테이씨)'],\n",
       " ['Melon', 38, '드라마', '아이유'],\n",
       " ['Melon', 39, 'Dynamite', '방탄소년단'],\n",
       " ['Melon', 40, 'Christmas Tree', 'V'],\n",
       " ['Melon', 41, 'Weekend', '태연 (TAEYEON)'],\n",
       " ['Melon', 42, '그래서 그래 (Feat. 윤하)', '에픽하이 (EPIK HIGH)'],\n",
       " ['Melon', 43, '너를 생각해', '주시크 (Joosiq)'],\n",
       " ['Melon', 44, 'Permission to Dance', '방탄소년단'],\n",
       " ['Melon', 45, '계단말고 엘리베이터', '임영웅'],\n",
       " ['Melon', 46, 'OHAYO MY NIGHT', '디핵 (D-Hack)'],\n",
       " ['Melon', 47, '서랍', '10CM'],\n",
       " ['Melon', 48, '바라만 본다', 'MSG워너비(M.O.M)'],\n",
       " ['Melon', 49, '우리가 헤어져야 했던 이유', '비비 (BIBI)'],\n",
       " ['Melon', 50, 'My Universe', 'Coldplay'],\n",
       " ['Melon', 51, '언덕나무', '이승윤'],\n",
       " ['Melon', 52, '흰눈', '먼데이 키즈 (Monday Kiz)'],\n",
       " ['Melon', 53, '사랑인가 봐', '멜로망스'],\n",
       " ['Melon', 54, '문득', \"BE'O (비오)\"],\n",
       " ['Melon', 55, 'Celebrity', '아이유'],\n",
       " ['Melon', 56, '라일락', '아이유'],\n",
       " ['Melon', 57, '대낮에 한 이별', '선예'],\n",
       " ['Melon', 58, '낙하 (with 아이유)', 'AKMU (악뮤)'],\n",
       " ['Melon', 59, '밤하늘의 별을(2020)', '경서'],\n",
       " ['Melon', 60, '헤픈 우연', '헤이즈 (Heize)'],\n",
       " ['Melon', 61, '네가 없는 밤 (Feat. ASH ISLAND) (Prod. GRAY)', \"BE'O (비오)\"],\n",
       " ['Melon', 62, '사이렌 Remix (Feat. UNEDUCATED KID, Paul Blanco)', '호미들'],\n",
       " ['Melon', 63, 'Bad Habits', 'Ed Sheeran'],\n",
       " ['Melon', 64, '너의 모든 순간', '성시경'],\n",
       " ['Melon', 65, '찰나가 영원이 될 때 (The Eternal Moment)', '마크툽 (MAKTUB)'],\n",
       " ['Melon', 66, '그런 밤 (Some Nights)', '태연 (TAEYEON)'],\n",
       " ['Melon', 67, '불협화음 (Feat. AKMU) (Prod. GRAY)', 'Mudd the student'],\n",
       " ['Melon', 68, '모든 날, 모든 순간 (Every day, Every Moment)', '폴킴'],\n",
       " ['Melon', 69, '강변북로', '황인욱'],\n",
       " ['Melon', 70, '사랑이 아니었다고 말하지 마요', '이예준'],\n",
       " ['Melon', 71, '봄날', '방탄소년단'],\n",
       " ['Melon', 72, '어떻게 이별까지 사랑하겠어, 널 사랑하는 거지', 'AKMU (악뮤)'],\n",
       " ['Melon', 73, '내 손을 잡아', '아이유'],\n",
       " ['Melon', 74, '쉬어 (Feat. MINO) (Prod. GRAY)', '아넌딜라이트(Anandelight)'],\n",
       " ['Melon', 75, '그게 더 편할 것 같아 (N번째 연애 X 멜로망스)', '멜로망스'],\n",
       " ['Melon', 76, \"롤린 (Rollin')\", '브레이브걸스'],\n",
       " ['Melon', 77, 'Dilemma', 'Apink (에이핑크)'],\n",
       " ['Melon', 78, 'Wake Up (Prod. 코드 쿤스트)', '개코'],\n",
       " ['Melon', 79, 'Off My Face', 'Justin Bieber'],\n",
       " ['Melon', 80, '고백', '멜로망스'],\n",
       " ['Melon', 81, 'Blueming', '아이유'],\n",
       " ['Melon', 82, '작은 것들을 위한 시 (Boy With Luv) (Feat. Halsey)', '방탄소년단'],\n",
       " ['Melon', 83, \"Good Night (Feat. BE'O)\", '쿠기 (Coogie)'],\n",
       " ['Melon', 84, '겨울..그다음 봄', '로시 (Rothy)'],\n",
       " ['Melon', 85, 'Dun Dun Dance', '오마이걸 (OH MY GIRL)'],\n",
       " ['Melon', 86, 'Stay Alive (Prod. SUGA of BTS)', '정국'],\n",
       " ['Melon', 87, '추억은 만남보다 이별에 남아', '정동하'],\n",
       " ['Melon', 88, '오늘도 빛나는 너에게 (To You My Light) (Feat.이라온)', '마크툽 (MAKTUB)'],\n",
       " ['Melon', 89, '밝게 빛나는 별이 되어 비춰줄게', '송이한'],\n",
       " ['Melon', 90, '취기를 빌려 (취향저격 그녀 X 산들)', '산들'],\n",
       " ['Melon', 91, 'Savage Love (Laxed - Siren Beat) (BTS Remix)', 'Jawsh 685'],\n",
       " ['Melon', 92, 'DM', '프로미스나인'],\n",
       " ['Melon', 93, '그날에 나는 맘이 편했을까', '이예준'],\n",
       " ['Melon', 94, '시간을 거슬러 (낮에 뜨는 달 X 케이윌)', '케이윌'],\n",
       " ['Melon', 95, '이별후회', '김나영'],\n",
       " ['Melon', 96, 'Life Goes On', '방탄소년단'],\n",
       " ['Melon', 97, '비가 오는 날엔 (2021)', '헤이즈 (Heize)'],\n",
       " ['Melon', 98, 'Because', 'ASH ISLAND'],\n",
       " ['Melon', 99, '봄이 피어나', '비투비'],\n",
       " ['Melon', 100, '여름비', '샘김 (Sam Kim)']]"
      ]
     },
     "execution_count": 65,
     "metadata": {},
     "output_type": "execute_result"
    }
   ],
   "source": [
    "song_data = []\n",
    "rank = 1\n",
    "songs = soup.select('table > tbody > tr')\n",
    "for song in songs:\n",
    "    title = song.select('div.ellipsis.rank01 > span > a')[0].text\n",
    "    singer = song.select('div.ellipsis.rank02 > span > a')[0].text\n",
    "    song_data.append([\"Melon\",rank,title,singer])\n",
    "    rank = rank + 1\n",
    "song_data"
   ]
  },
  {
   "cell_type": "code",
   "execution_count": 66,
   "id": "46e38f02",
   "metadata": {},
   "outputs": [
    {
     "data": {
      "text/html": [
       "<div>\n",
       "<style scoped>\n",
       "    .dataframe tbody tr th:only-of-type {\n",
       "        vertical-align: middle;\n",
       "    }\n",
       "\n",
       "    .dataframe tbody tr th {\n",
       "        vertical-align: top;\n",
       "    }\n",
       "\n",
       "    .dataframe thead th {\n",
       "        text-align: right;\n",
       "    }\n",
       "</style>\n",
       "<table border=\"1\" class=\"dataframe\">\n",
       "  <thead>\n",
       "    <tr style=\"text-align: right;\">\n",
       "      <th></th>\n",
       "      <th>서비스</th>\n",
       "      <th>순위</th>\n",
       "      <th>타이틀</th>\n",
       "      <th>가수</th>\n",
       "    </tr>\n",
       "  </thead>\n",
       "  <tbody>\n",
       "    <tr>\n",
       "      <th>0</th>\n",
       "      <td>Melon</td>\n",
       "      <td>1</td>\n",
       "      <td>INVU</td>\n",
       "      <td>태연 (TAEYEON)</td>\n",
       "    </tr>\n",
       "    <tr>\n",
       "      <th>1</th>\n",
       "      <td>Melon</td>\n",
       "      <td>2</td>\n",
       "      <td>사랑은 늘 도망가</td>\n",
       "      <td>임영웅</td>\n",
       "    </tr>\n",
       "    <tr>\n",
       "      <th>2</th>\n",
       "      <td>Melon</td>\n",
       "      <td>3</td>\n",
       "      <td>취중고백</td>\n",
       "      <td>김민석 (멜로망스)</td>\n",
       "    </tr>\n",
       "    <tr>\n",
       "      <th>3</th>\n",
       "      <td>Melon</td>\n",
       "      <td>4</td>\n",
       "      <td>언제나 사랑해</td>\n",
       "      <td>케이시 (Kassy)</td>\n",
       "    </tr>\n",
       "    <tr>\n",
       "      <th>4</th>\n",
       "      <td>Melon</td>\n",
       "      <td>5</td>\n",
       "      <td>ELEVEN</td>\n",
       "      <td>IVE (아이브)</td>\n",
       "    </tr>\n",
       "  </tbody>\n",
       "</table>\n",
       "</div>"
      ],
      "text/plain": [
       "     서비스  순위        타이틀            가수\n",
       "0  Melon   1       INVU  태연 (TAEYEON)\n",
       "1  Melon   2  사랑은 늘 도망가           임영웅\n",
       "2  Melon   3       취중고백    김민석 (멜로망스)\n",
       "3  Melon   4    언제나 사랑해   케이시 (Kassy)\n",
       "4  Melon   5     ELEVEN     IVE (아이브)"
      ]
     },
     "execution_count": 66,
     "metadata": {},
     "output_type": "execute_result"
    }
   ],
   "source": [
    "columns = ['서비스','순위','타이틀','가수']\n",
    "pd_data = pd.DataFrame(song_data,columns = columns)\n",
    "pd_data.head()"
   ]
  },
  {
   "cell_type": "code",
   "execution_count": 67,
   "id": "0b59abc0",
   "metadata": {},
   "outputs": [],
   "source": [
    "pd_data.to_excel('./files/melon.xlsx', index=False)"
   ]
  },
  {
   "cell_type": "code",
   "execution_count": 68,
   "id": "ae981980",
   "metadata": {},
   "outputs": [],
   "source": [
    "url = \"https://music.bugs.co.kr/chart\"\n",
    "driver.get(url)"
   ]
  },
  {
   "cell_type": "code",
   "execution_count": 69,
   "id": "3dc6eb85",
   "metadata": {},
   "outputs": [],
   "source": [
    "html = driver.page_source\n",
    "soup = BeautifulSoup(html, 'html.parser')"
   ]
  },
  {
   "cell_type": "code",
   "execution_count": 70,
   "id": "202518c5",
   "metadata": {
    "scrolled": true
   },
   "outputs": [
    {
     "name": "stdout",
     "output_type": "stream",
     "text": [
      "103\n"
     ]
    }
   ],
   "source": [
    "songs = soup.select('tbody tr')\n",
    "print(len(songs))"
   ]
  },
  {
   "cell_type": "code",
   "execution_count": 71,
   "id": "b7b5e6f2",
   "metadata": {},
   "outputs": [
    {
     "name": "stdout",
     "output_type": "stream",
     "text": [
      "100\n"
     ]
    }
   ],
   "source": [
    "songs = soup.select('table.list.trackList.byChart > tbody tr')\n",
    "print(len(songs))"
   ]
  },
  {
   "cell_type": "code",
   "execution_count": 72,
   "id": "bbf5f3d3",
   "metadata": {
    "scrolled": true
   },
   "outputs": [
    {
     "data": {
      "text/plain": [
       "<tr albumid=\"4071446\" artistid=\"80123427\" multiartist=\"N\" mvid=\"606410\" rowtype=\"track\" trackid=\"6147824\">\n",
       "<input name=\"_isStream\" type=\"hidden\" value=\"6147824\"/>\n",
       "<input name=\"_isDown\" type=\"hidden\" value=\"6147824\"/>\n",
       "<td class=\"check\"><input buyminquality=\"T\" disc_id=\"1\" name=\"check\" title=\"노래 (The Song)\" type=\"checkbox\" value=\"6147824\"/></td>\n",
       "<td>\n",
       "<div class=\"ranking\">\n",
       "<strong>1</strong>\n",
       "<p class=\"change none\"><em>0</em><span>변동없음</span></p>\n",
       "</div>\n",
       "</td>\n",
       "<td>\n",
       "<a class=\"thumbnail\" href=\"https://music.bugs.co.kr/album/4071446?wl_ref=list_tr_07_chart\" onclick=\"\n",
       "\">\n",
       "<span class=\"mask\"></span>\n",
       "<img alt=\"Be Together 대표이미지\" onerror=\"bugs.utils.imgError(this);\" src=\"https://image.bugsm.co.kr/album/images/50/40714/4071446.jpg?version=20220222063712.0\"/>\n",
       "</a>\n",
       "</td>\n",
       "<td>\n",
       "<a class=\"trackInfo\" href=\"https://music.bugs.co.kr/track/6147824?wl_ref=list_tr_08_chart\" onclick=\"\n",
       "\">곡정보</a>\n",
       "</td>\n",
       "<th scope=\"row\">\n",
       "<p adult_yn=\"N\" class=\"title\">\n",
       "<a adultcheckval=\"1\" aria-label=\"새창\" href=\"javascript:;\" onclick=\"bugs.wiselog.area('list_tr_09_chart');bugs.music.listen('6147824',true);\n",
       "\" title=\"노래 (The Song)\">노래 (The Song)</a>\n",
       "</p>\n",
       "</th>\n",
       "<td class=\"left\">\n",
       "<p class=\"artist\">\n",
       "<a href=\"https://music.bugs.co.kr/artist/80123427?wl_ref=list_tr_10_chart\" onclick=\"\n",
       "\" title=\"비투비\">비투비</a>\n",
       "</p>\n",
       "</td>\n",
       "<td class=\"left\">\n",
       "<a class=\"album\" href=\"https://music.bugs.co.kr/album/4071446?wl_ref=list_tr_11_chart\" onclick=\"\n",
       "\" title=\"Be Together\">Be Together</a>\n",
       "</td>\n",
       "<td>\n",
       "<a adultcheckval=\"1\" aria-label=\"새창\" class=\"btn play\" href=\"javascript:;\" onclick=\"bugs.wiselog.area('list_tr_12_chart');bugs.music.listen('6147824',true);\n",
       "\">듣기</a>\n",
       "</td>\n",
       "<td>\n",
       "<a adultcheckval=\"1\" aria-label=\"새창\" class=\"btn addPlaylist\" href=\"javascript:;\" onclick=\"bugs.wiselog.area('list_tr_13_chart');bugs.music.listen('6147824');\n",
       "\">재생목록에 추가</a>\n",
       "</td>\n",
       "<td>\n",
       "<a class=\"btn addAlbum\" href=\"javascript:;\" onclick=\"bugs.wiselog.area('list_tr_14_chart');bugs.music.addTrackToMyAlbum(this,'6147824');\n",
       "\" track_title=\"노래 (The Song)\">내 앨범에 담기</a>\n",
       "</td>\n",
       "<td>\n",
       "<a adultcheckval=\"1\" aria-label=\"새창\" class=\"btn download flac\" href=\"javascript:;\" onclick=\"bugs.wiselog.area('list_tr_15_chart');bugs.layermenu.down(this,'6147824','true','true','44.1','true','96', null );\n",
       "\"><em class=\"flac\">flac </em>다운로드</a>\n",
       "</td>\n",
       "<td>\n",
       "<a aria-label=\"새창\" class=\"btn viewMV\" href=\"javascript:;\" onclick=\"bugs.wiselog.area('list_tr_16_chart');\n",
       "bugs.layermenu.mv(this,6147824, 606410, 'Y', 'Y', 'Y', 'Y', 6147824, 'N','ALL', 'Y');\n",
       "\">영상 재생</a>\n",
       "</td>\n",
       "<td>\n",
       "<a artist_disp_nm=\"비투비\" artist_id=\"80123427\" class=\"btnActions\" href=\"javascript:;\" layer_type=\"CHART\" layerpositiontarget=\"td\" onclick=\"bugs.wiselog.area('list_tr_17_chart');\n",
       "bugs.layermenu.trackMoreAction(this,'6147824','0','4071446','bugs.music.listenRadioFromSeed(\\'6147824\\',\\'track\\');','N', 'Y', '_chart');\n",
       "\" track_title=\"노래 (The Song)\">기타 기능</a>\n",
       "</td>\n",
       "</tr>"
      ]
     },
     "execution_count": 72,
     "metadata": {},
     "output_type": "execute_result"
    }
   ],
   "source": [
    "songs[0]"
   ]
  },
  {
   "cell_type": "code",
   "execution_count": 73,
   "id": "a6b3668b",
   "metadata": {},
   "outputs": [
    {
     "data": {
      "text/plain": [
       "<tr albumid=\"4071446\" artistid=\"80123427\" multiartist=\"N\" mvid=\"606410\" rowtype=\"track\" trackid=\"6147824\">\n",
       "<input name=\"_isStream\" type=\"hidden\" value=\"6147824\"/>\n",
       "<input name=\"_isDown\" type=\"hidden\" value=\"6147824\"/>\n",
       "<td class=\"check\"><input buyminquality=\"T\" disc_id=\"1\" name=\"check\" title=\"노래 (The Song)\" type=\"checkbox\" value=\"6147824\"/></td>\n",
       "<td>\n",
       "<div class=\"ranking\">\n",
       "<strong>1</strong>\n",
       "<p class=\"change none\"><em>0</em><span>변동없음</span></p>\n",
       "</div>\n",
       "</td>\n",
       "<td>\n",
       "<a class=\"thumbnail\" href=\"https://music.bugs.co.kr/album/4071446?wl_ref=list_tr_07_chart\" onclick=\"\n",
       "\">\n",
       "<span class=\"mask\"></span>\n",
       "<img alt=\"Be Together 대표이미지\" onerror=\"bugs.utils.imgError(this);\" src=\"https://image.bugsm.co.kr/album/images/50/40714/4071446.jpg?version=20220222063712.0\"/>\n",
       "</a>\n",
       "</td>\n",
       "<td>\n",
       "<a class=\"trackInfo\" href=\"https://music.bugs.co.kr/track/6147824?wl_ref=list_tr_08_chart\" onclick=\"\n",
       "\">곡정보</a>\n",
       "</td>\n",
       "<th scope=\"row\">\n",
       "<p adult_yn=\"N\" class=\"title\">\n",
       "<a adultcheckval=\"1\" aria-label=\"새창\" href=\"javascript:;\" onclick=\"bugs.wiselog.area('list_tr_09_chart');bugs.music.listen('6147824',true);\n",
       "\" title=\"노래 (The Song)\">노래 (The Song)</a>\n",
       "</p>\n",
       "</th>\n",
       "<td class=\"left\">\n",
       "<p class=\"artist\">\n",
       "<a href=\"https://music.bugs.co.kr/artist/80123427?wl_ref=list_tr_10_chart\" onclick=\"\n",
       "\" title=\"비투비\">비투비</a>\n",
       "</p>\n",
       "</td>\n",
       "<td class=\"left\">\n",
       "<a class=\"album\" href=\"https://music.bugs.co.kr/album/4071446?wl_ref=list_tr_11_chart\" onclick=\"\n",
       "\" title=\"Be Together\">Be Together</a>\n",
       "</td>\n",
       "<td>\n",
       "<a adultcheckval=\"1\" aria-label=\"새창\" class=\"btn play\" href=\"javascript:;\" onclick=\"bugs.wiselog.area('list_tr_12_chart');bugs.music.listen('6147824',true);\n",
       "\">듣기</a>\n",
       "</td>\n",
       "<td>\n",
       "<a adultcheckval=\"1\" aria-label=\"새창\" class=\"btn addPlaylist\" href=\"javascript:;\" onclick=\"bugs.wiselog.area('list_tr_13_chart');bugs.music.listen('6147824');\n",
       "\">재생목록에 추가</a>\n",
       "</td>\n",
       "<td>\n",
       "<a class=\"btn addAlbum\" href=\"javascript:;\" onclick=\"bugs.wiselog.area('list_tr_14_chart');bugs.music.addTrackToMyAlbum(this,'6147824');\n",
       "\" track_title=\"노래 (The Song)\">내 앨범에 담기</a>\n",
       "</td>\n",
       "<td>\n",
       "<a adultcheckval=\"1\" aria-label=\"새창\" class=\"btn download flac\" href=\"javascript:;\" onclick=\"bugs.wiselog.area('list_tr_15_chart');bugs.layermenu.down(this,'6147824','true','true','44.1','true','96', null );\n",
       "\"><em class=\"flac\">flac </em>다운로드</a>\n",
       "</td>\n",
       "<td>\n",
       "<a aria-label=\"새창\" class=\"btn viewMV\" href=\"javascript:;\" onclick=\"bugs.wiselog.area('list_tr_16_chart');\n",
       "bugs.layermenu.mv(this,6147824, 606410, 'Y', 'Y', 'Y', 'Y', 6147824, 'N','ALL', 'Y');\n",
       "\">영상 재생</a>\n",
       "</td>\n",
       "<td>\n",
       "<a artist_disp_nm=\"비투비\" artist_id=\"80123427\" class=\"btnActions\" href=\"javascript:;\" layer_type=\"CHART\" layerpositiontarget=\"td\" onclick=\"bugs.wiselog.area('list_tr_17_chart');\n",
       "bugs.layermenu.trackMoreAction(this,'6147824','0','4071446','bugs.music.listenRadioFromSeed(\\'6147824\\',\\'track\\');','N', 'Y', '_chart');\n",
       "\" track_title=\"노래 (The Song)\">기타 기능</a>\n",
       "</td>\n",
       "</tr>"
      ]
     },
     "execution_count": 73,
     "metadata": {},
     "output_type": "execute_result"
    }
   ],
   "source": [
    "song = songs[0]\n",
    "song"
   ]
  },
  {
   "cell_type": "code",
   "execution_count": 75,
   "id": "0af2f39e",
   "metadata": {},
   "outputs": [
    {
     "data": {
      "text/plain": [
       "'노래 (The Song)'"
      ]
     },
     "execution_count": 75,
     "metadata": {},
     "output_type": "execute_result"
    }
   ],
   "source": [
    "title = song.select('p.title > a')[0].text\n",
    "title\n"
   ]
  },
  {
   "cell_type": "code",
   "execution_count": 76,
   "id": "68002e1f",
   "metadata": {},
   "outputs": [
    {
     "data": {
      "text/plain": [
       "'비투비'"
      ]
     },
     "execution_count": 76,
     "metadata": {},
     "output_type": "execute_result"
    }
   ],
   "source": [
    "singer = song.select('p.artist > a')[0].text.strip()\n",
    "singer"
   ]
  },
  {
   "cell_type": "code",
   "execution_count": 77,
   "id": "f878d084",
   "metadata": {},
   "outputs": [
    {
     "name": "stdout",
     "output_type": "stream",
     "text": [
      "노래 (The Song)  |  비투비\n",
      "봄이 피어나  |  비투비\n",
      "우리 (Be Together)  |  비투비\n",
      "Thank You  |  비투비\n",
      "춤 (Dance With Me)  |  비투비\n",
      "INVU  |  태연 (TAEYEON)\n",
      "RUN2U  |  STAYC(스테이씨)\n",
      "직진 (JIKJIN)  |  TREASURE(트레저)\n",
      "U  |  TREASURE(트레저)\n",
      "다라리 (DARARI)  |  TREASURE(트레저)\n",
      "Stronger (What Doesn't Kill You)  |  Kelly Clarkson(켈리 클락슨)\n",
      "겨울..그다음 봄  |  로시(Rothy)\n",
      "괜찮아질 거야 (IT'S OKAY)  |  TREASURE(트레저)\n",
      "ELEVEN  |  IVE (아이브)\n",
      "SMILEY (Feat. BIBI)  |  YENA (최예나)\n",
      "그래서 그래 (Feat. 윤하)  |  에픽하이 (EPIK HIGH)\n",
      "나랑 있자 (BE WITH ME)  |  TREASURE(트레저)\n",
      "abcdefu  |  GAYLE\n",
      "Can't Control Myself  |  태연 (TAEYEON)\n",
      "그런 밤 (Some Nights)  |  태연 (TAEYEON)\n",
      "Step Back  |  GOT the beat\n",
      "취중고백  |  김민석 (멜로망스)\n",
      "사랑은 늘 도망가  |  임영웅\n",
      "언제나 사랑해  |  케이시\n",
      "드라마  |  아이유(IU)\n",
      "Dreams Come True  |  aespa\n",
      "눈이 오잖아(Feat.헤이즈)  |  이무진\n",
      "어른아이 (Toddler)  |  태연 (TAEYEON)\n",
      "서랍  |  10CM\n",
      "STAY  |  The Kid LAROI\n",
      "신호등  |  이무진\n",
      "strawberry moon  |  아이유(IU)\n",
      "Next Level  |  aespa\n",
      "회전목마 (Feat. Zion.T, 원슈타인) (Prod. Slom)  |  sokodomo\n",
      "겨울잠  |  아이유(IU)\n",
      "BOP BOP!  |  VIVIZ (비비지)\n",
      "우리가 헤어져야 했던 이유  |  비비(BIBI)\n",
      "그날들  |  김기태\n",
      "Weekend  |  태연 (TAEYEON)\n",
      "Dynamite  |  방탄소년단\n",
      "Set Myself On Fire  |  태연 (TAEYEON)\n",
      "다정히 내 이름을 부르면  |  경서예지\n",
      "잊을 수 있을까  |  노을\n",
      "Light Switch  |  Charlie Puth(찰리 푸스)\n",
      "DM  |  프로미스나인\n",
      "Siren  |  태연 (TAEYEON)\n",
      "대낮에 한 이별  |  선예\n",
      "Timeless  |  태연 (TAEYEON)\n",
      "낙하 (with 아이유)  |  AKMU(악뮤)\n",
      "Savage  |  aespa\n",
      "Counting Stars (Feat. Beenzino)  |  BE'O (비오)\n",
      "Butter  |  방탄소년단\n",
      "너무 아픈 사랑은 사랑이 아니었음을  |  김기태\n",
      "WA DA DA  |  Kep1er (케플러)\n",
      "호랑수월가  |  탑현\n",
      "바라만 본다  |  MSG워너비(M.O.M)\n",
      "너 아니면 안돼  |  먼데이 키즈(Monday Kiz)\n",
      "Permission to Dance  |  방탄소년단\n",
      "Christmas Tree  |  V\n",
      "O.O  |  NMIXX\n",
      "아무렇지 않은 척  |  빅마마(Big Mama)\n",
      "Dilemma  |  Apink (에이핑크)\n",
      "여름비  |  샘김(Sam Kim)\n",
      "문득  |  BE'O (비오)\n",
      "라일락  |  아이유(IU)\n",
      "Celebrity  |  아이유(IU)\n",
      "리무진 (Feat. MINO) (Prod. GRAY)  |  BE'O (비오)\n",
      "You Better Not  |  태연 (TAEYEON)\n",
      "Cold As Hell  |  태연 (TAEYEON)\n",
      "너, 너 (N번째 연애 X 휘인 (Whee In))  |  휘인(Whee In)\n",
      "My Universe  |  Coldplay(콜드플레이)\n",
      "만남은 쉽고 이별은 어려워 (Feat. Leellamarz) (Prod. TOIL)  |  베이식(Basick)\n",
      "Peaches (feat. Daniel Caesar, Giveon)  |  Justin Bieber(저스틴 비버)\n",
      "품 (Heart)  |  태연 (TAEYEON)\n",
      "No Love Again  |  태연 (TAEYEON)\n",
      "너의 모든 순간  |  성시경\n",
      "사랑인가 봐  |  멜로망스(MeloMance)\n",
      "습관  |  WH3N(웬)\n",
      "Tiny Riot  |  Sam Ryder\n",
      "너를 생각해  |  주시크 (Joosiq)\n",
      "Bad Habits  |  Ed Sheeran(에드 시런)\n",
      "라일락이 질 때  |  이주혁\n",
      "OHAYO MY NIGHT  |  디핵(D-Hack)\n",
      "별빛 같은 나의 사랑아  |  임영웅\n",
      "ASAP  |  STAYC(스테이씨)\n",
      "Off My Face  |  Justin Bieber(저스틴 비버)\n",
      "헤픈 우연  |  헤이즈(Heize)\n",
      "모든 날, 모든 순간 (Every day, Every Moment)  |  폴킴(Paul Kim)\n",
      "흰눈  |  먼데이 키즈(Monday Kiz)\n",
      "이제 나만 믿어요  |  임영웅\n",
      "고백  |  멜로망스(MeloMance)\n",
      "Still I Love You  |  토요태\n",
      "이별후회  |  김나영\n",
      "Ending Credits  |  태연 (TAEYEON)\n",
      "Satellite  |  수지\n",
      "아주, 천천히  |  비비(BIBI)\n",
      "흔들리는 꽃들 속에서 네 샴푸향이 느껴진거야  |  장범준\n",
      "Queendom  |  Red Velvet (레드벨벳)\n",
      "Polaroid Love  |  ENHYPEN\n",
      "Blueming  |  아이유(IU)\n"
     ]
    },
    {
     "data": {
      "text/plain": [
       "[['Bugs', 1, '노래 (The Song)', '비투비'],\n",
       " ['Bugs', 2, '봄이 피어나', '비투비'],\n",
       " ['Bugs', 3, '우리 (Be Together)', '비투비'],\n",
       " ['Bugs', 4, 'Thank You', '비투비'],\n",
       " ['Bugs', 5, '춤 (Dance With Me)', '비투비'],\n",
       " ['Bugs', 6, 'INVU', '태연 (TAEYEON)'],\n",
       " ['Bugs', 7, 'RUN2U', 'STAYC(스테이씨)'],\n",
       " ['Bugs', 8, '직진 (JIKJIN)', 'TREASURE(트레저)'],\n",
       " ['Bugs', 9, 'U', 'TREASURE(트레저)'],\n",
       " ['Bugs', 10, '다라리 (DARARI)', 'TREASURE(트레저)'],\n",
       " ['Bugs', 11, \"Stronger (What Doesn't Kill You)\", 'Kelly Clarkson(켈리 클락슨)'],\n",
       " ['Bugs', 12, '겨울..그다음 봄', '로시(Rothy)'],\n",
       " ['Bugs', 13, \"괜찮아질 거야 (IT'S OKAY)\", 'TREASURE(트레저)'],\n",
       " ['Bugs', 14, 'ELEVEN', 'IVE (아이브)'],\n",
       " ['Bugs', 15, 'SMILEY (Feat. BIBI)', 'YENA (최예나)'],\n",
       " ['Bugs', 16, '그래서 그래 (Feat. 윤하)', '에픽하이 (EPIK HIGH)'],\n",
       " ['Bugs', 17, '나랑 있자 (BE WITH ME)', 'TREASURE(트레저)'],\n",
       " ['Bugs', 18, 'abcdefu', 'GAYLE'],\n",
       " ['Bugs', 19, \"Can't Control Myself\", '태연 (TAEYEON)'],\n",
       " ['Bugs', 20, '그런 밤 (Some Nights)', '태연 (TAEYEON)'],\n",
       " ['Bugs', 21, 'Step Back', 'GOT the beat'],\n",
       " ['Bugs', 22, '취중고백', '김민석 (멜로망스)'],\n",
       " ['Bugs', 23, '사랑은 늘 도망가', '임영웅'],\n",
       " ['Bugs', 24, '언제나 사랑해', '케이시'],\n",
       " ['Bugs', 25, '드라마', '아이유(IU)'],\n",
       " ['Bugs', 26, 'Dreams Come True', 'aespa'],\n",
       " ['Bugs', 27, '눈이 오잖아(Feat.헤이즈)', '이무진'],\n",
       " ['Bugs', 28, '어른아이 (Toddler)', '태연 (TAEYEON)'],\n",
       " ['Bugs', 29, '서랍', '10CM'],\n",
       " ['Bugs', 30, 'STAY', 'The Kid LAROI'],\n",
       " ['Bugs', 31, '신호등', '이무진'],\n",
       " ['Bugs', 32, 'strawberry moon', '아이유(IU)'],\n",
       " ['Bugs', 33, 'Next Level', 'aespa'],\n",
       " ['Bugs', 34, '회전목마 (Feat. Zion.T, 원슈타인) (Prod. Slom)', 'sokodomo'],\n",
       " ['Bugs', 35, '겨울잠', '아이유(IU)'],\n",
       " ['Bugs', 36, 'BOP BOP!', 'VIVIZ (비비지)'],\n",
       " ['Bugs', 37, '우리가 헤어져야 했던 이유', '비비(BIBI)'],\n",
       " ['Bugs', 38, '그날들', '김기태'],\n",
       " ['Bugs', 39, 'Weekend', '태연 (TAEYEON)'],\n",
       " ['Bugs', 40, 'Dynamite', '방탄소년단'],\n",
       " ['Bugs', 41, 'Set Myself On Fire', '태연 (TAEYEON)'],\n",
       " ['Bugs', 42, '다정히 내 이름을 부르면', '경서예지'],\n",
       " ['Bugs', 43, '잊을 수 있을까', '노을'],\n",
       " ['Bugs', 44, 'Light Switch', 'Charlie Puth(찰리 푸스)'],\n",
       " ['Bugs', 45, 'DM', '프로미스나인'],\n",
       " ['Bugs', 46, 'Siren', '태연 (TAEYEON)'],\n",
       " ['Bugs', 47, '대낮에 한 이별', '선예'],\n",
       " ['Bugs', 48, 'Timeless', '태연 (TAEYEON)'],\n",
       " ['Bugs', 49, '낙하 (with 아이유)', 'AKMU(악뮤)'],\n",
       " ['Bugs', 50, 'Savage', 'aespa'],\n",
       " ['Bugs', 51, 'Counting Stars (Feat. Beenzino)', \"BE'O (비오)\"],\n",
       " ['Bugs', 52, 'Butter', '방탄소년단'],\n",
       " ['Bugs', 53, '너무 아픈 사랑은 사랑이 아니었음을', '김기태'],\n",
       " ['Bugs', 54, 'WA DA DA', 'Kep1er (케플러)'],\n",
       " ['Bugs', 55, '호랑수월가', '탑현'],\n",
       " ['Bugs', 56, '바라만 본다', 'MSG워너비(M.O.M)'],\n",
       " ['Bugs', 57, '너 아니면 안돼', '먼데이 키즈(Monday Kiz)'],\n",
       " ['Bugs', 58, 'Permission to Dance', '방탄소년단'],\n",
       " ['Bugs', 59, 'Christmas Tree', 'V'],\n",
       " ['Bugs', 60, 'O.O', 'NMIXX'],\n",
       " ['Bugs', 61, '아무렇지 않은 척', '빅마마(Big Mama)'],\n",
       " ['Bugs', 62, 'Dilemma', 'Apink (에이핑크)'],\n",
       " ['Bugs', 63, '여름비', '샘김(Sam Kim)'],\n",
       " ['Bugs', 64, '문득', \"BE'O (비오)\"],\n",
       " ['Bugs', 65, '라일락', '아이유(IU)'],\n",
       " ['Bugs', 66, 'Celebrity', '아이유(IU)'],\n",
       " ['Bugs', 67, '리무진 (Feat. MINO) (Prod. GRAY)', \"BE'O (비오)\"],\n",
       " ['Bugs', 68, 'You Better Not', '태연 (TAEYEON)'],\n",
       " ['Bugs', 69, 'Cold As Hell', '태연 (TAEYEON)'],\n",
       " ['Bugs', 70, '너, 너 (N번째 연애 X 휘인 (Whee In))', '휘인(Whee In)'],\n",
       " ['Bugs', 71, 'My Universe', 'Coldplay(콜드플레이)'],\n",
       " ['Bugs', 72, '만남은 쉽고 이별은 어려워 (Feat. Leellamarz) (Prod. TOIL)', '베이식(Basick)'],\n",
       " ['Bugs',\n",
       "  73,\n",
       "  'Peaches (feat. Daniel Caesar, Giveon)',\n",
       "  'Justin Bieber(저스틴 비버)'],\n",
       " ['Bugs', 74, '품 (Heart)', '태연 (TAEYEON)'],\n",
       " ['Bugs', 75, 'No Love Again', '태연 (TAEYEON)'],\n",
       " ['Bugs', 76, '너의 모든 순간', '성시경'],\n",
       " ['Bugs', 77, '사랑인가 봐', '멜로망스(MeloMance)'],\n",
       " ['Bugs', 78, '습관', 'WH3N(웬)'],\n",
       " ['Bugs', 79, 'Tiny Riot', 'Sam Ryder'],\n",
       " ['Bugs', 80, '너를 생각해', '주시크 (Joosiq)'],\n",
       " ['Bugs', 81, 'Bad Habits', 'Ed Sheeran(에드 시런)'],\n",
       " ['Bugs', 82, '라일락이 질 때', '이주혁'],\n",
       " ['Bugs', 83, 'OHAYO MY NIGHT', '디핵(D-Hack)'],\n",
       " ['Bugs', 84, '별빛 같은 나의 사랑아', '임영웅'],\n",
       " ['Bugs', 85, 'ASAP', 'STAYC(스테이씨)'],\n",
       " ['Bugs', 86, 'Off My Face', 'Justin Bieber(저스틴 비버)'],\n",
       " ['Bugs', 87, '헤픈 우연', '헤이즈(Heize)'],\n",
       " ['Bugs', 88, '모든 날, 모든 순간 (Every day, Every Moment)', '폴킴(Paul Kim)'],\n",
       " ['Bugs', 89, '흰눈', '먼데이 키즈(Monday Kiz)'],\n",
       " ['Bugs', 90, '이제 나만 믿어요', '임영웅'],\n",
       " ['Bugs', 91, '고백', '멜로망스(MeloMance)'],\n",
       " ['Bugs', 92, 'Still I Love You', '토요태'],\n",
       " ['Bugs', 93, '이별후회', '김나영'],\n",
       " ['Bugs', 94, 'Ending Credits', '태연 (TAEYEON)'],\n",
       " ['Bugs', 95, 'Satellite', '수지'],\n",
       " ['Bugs', 96, '아주, 천천히', '비비(BIBI)'],\n",
       " ['Bugs', 97, '흔들리는 꽃들 속에서 네 샴푸향이 느껴진거야', '장범준'],\n",
       " ['Bugs', 98, 'Queendom', 'Red Velvet (레드벨벳)'],\n",
       " ['Bugs', 99, 'Polaroid Love', 'ENHYPEN'],\n",
       " ['Bugs', 100, 'Blueming', '아이유(IU)']]"
      ]
     },
     "execution_count": 77,
     "metadata": {},
     "output_type": "execute_result"
    }
   ],
   "source": [
    "song_data = []\n",
    "rank = 1\n",
    "songs = soup.select('table.list.trackList.byChart > tbody tr')\n",
    "for song in songs:\n",
    "    title = song.select('p.title > a')[0].text\n",
    "    singer = song.select('p.artist > a')[0].text\n",
    "    print(title,\" | \",singer)\n",
    "    song_data.append([\"Bugs\",rank,title,singer])\n",
    "    rank = rank + 1\n",
    "song_data"
   ]
  },
  {
   "cell_type": "code",
   "execution_count": 80,
   "id": "e1b196e2",
   "metadata": {},
   "outputs": [
    {
     "data": {
      "text/html": [
       "<div>\n",
       "<style scoped>\n",
       "    .dataframe tbody tr th:only-of-type {\n",
       "        vertical-align: middle;\n",
       "    }\n",
       "\n",
       "    .dataframe tbody tr th {\n",
       "        vertical-align: top;\n",
       "    }\n",
       "\n",
       "    .dataframe thead th {\n",
       "        text-align: right;\n",
       "    }\n",
       "</style>\n",
       "<table border=\"1\" class=\"dataframe\">\n",
       "  <thead>\n",
       "    <tr style=\"text-align: right;\">\n",
       "      <th></th>\n",
       "      <th>서비스</th>\n",
       "      <th>순위</th>\n",
       "      <th>타이틀</th>\n",
       "      <th>가수</th>\n",
       "    </tr>\n",
       "  </thead>\n",
       "  <tbody>\n",
       "    <tr>\n",
       "      <th>0</th>\n",
       "      <td>Bugs</td>\n",
       "      <td>1</td>\n",
       "      <td>노래 (The Song)</td>\n",
       "      <td>비투비</td>\n",
       "    </tr>\n",
       "    <tr>\n",
       "      <th>1</th>\n",
       "      <td>Bugs</td>\n",
       "      <td>2</td>\n",
       "      <td>봄이 피어나</td>\n",
       "      <td>비투비</td>\n",
       "    </tr>\n",
       "    <tr>\n",
       "      <th>2</th>\n",
       "      <td>Bugs</td>\n",
       "      <td>3</td>\n",
       "      <td>우리 (Be Together)</td>\n",
       "      <td>비투비</td>\n",
       "    </tr>\n",
       "    <tr>\n",
       "      <th>3</th>\n",
       "      <td>Bugs</td>\n",
       "      <td>4</td>\n",
       "      <td>Thank You</td>\n",
       "      <td>비투비</td>\n",
       "    </tr>\n",
       "    <tr>\n",
       "      <th>4</th>\n",
       "      <td>Bugs</td>\n",
       "      <td>5</td>\n",
       "      <td>춤 (Dance With Me)</td>\n",
       "      <td>비투비</td>\n",
       "    </tr>\n",
       "  </tbody>\n",
       "</table>\n",
       "</div>"
      ],
      "text/plain": [
       "    서비스  순위                타이틀   가수\n",
       "0  Bugs   1      노래 (The Song)  비투비\n",
       "1  Bugs   2             봄이 피어나  비투비\n",
       "2  Bugs   3   우리 (Be Together)  비투비\n",
       "3  Bugs   4          Thank You  비투비\n",
       "4  Bugs   5  춤 (Dance With Me)  비투비"
      ]
     },
     "execution_count": 80,
     "metadata": {},
     "output_type": "execute_result"
    }
   ],
   "source": [
    "columns = ['서비스','순위','타이틀','가수']\n",
    "pd_data = pd.DataFrame(song_data,columns = columns)\n",
    "pd_data.head()"
   ]
  },
  {
   "cell_type": "code",
   "execution_count": 81,
   "id": "eb681980",
   "metadata": {},
   "outputs": [],
   "source": [
    "pd_data.to_excel('./files/bugs.xlsx',index=False)"
   ]
  },
  {
   "cell_type": "code",
   "execution_count": 82,
   "id": "5324ff32",
   "metadata": {},
   "outputs": [],
   "source": [
    "url = \"https://www.genie.co.kr/chart/top200\"\n",
    "driver.get(url)"
   ]
  },
  {
   "cell_type": "code",
   "execution_count": 83,
   "id": "224e87af",
   "metadata": {},
   "outputs": [],
   "source": [
    "html = driver.page_source\n",
    "soup = BeautifulSoup(html, 'html.parser')"
   ]
  },
  {
   "cell_type": "code",
   "execution_count": 84,
   "id": "2365c59c",
   "metadata": {},
   "outputs": [
    {
     "name": "stdout",
     "output_type": "stream",
     "text": [
      "50\n"
     ]
    }
   ],
   "source": [
    "songs = soup.select('table.list-wrap > tbody > tr')\n",
    "print(len(songs))"
   ]
  },
  {
   "cell_type": "code",
   "execution_count": 85,
   "id": "bd918a42",
   "metadata": {},
   "outputs": [
    {
     "data": {
      "text/plain": [
       "<tr class=\"list\" songid=\"95990155\">\n",
       "<td class=\"check\"><input class=\"select-check\" title=\"INVU\" type=\"checkbox\"/></td>\n",
       "<td class=\"number\">1\n",
       "                                        \n",
       "                                    <span class=\"rank\">\n",
       "<span class=\"rank\"><span class=\"rank-up\">1<span class=\"hide\">상승</span></span></span>\n",
       "</span>\n",
       "</td>\n",
       "<td><a class=\"cover\" href=\"#\" onclick=\"fnViewAlbumLayer('82529386');return false;\"><span class=\"mask\"></span><img alt=\"INVU - The 3rd Album\" onerror=\"this.src='//image.genie.co.kr/imageg/web/common/blank_68.gif';\" src=\"//image.genie.co.kr/Y/IMAGE/IMG_ALBUM/082/529/386/82529386_1644820151763_1_140x140.JPG/dims/resize/Q_80,0\"/></a></td>\n",
       "<td class=\"link\"><a class=\"btn-basic btn-info\" href=\"#\" onclick=\"fnViewSongInfo('95990155');return false;\">곡 제목 정보 페이지</a></td>\n",
       "<td class=\"info\">\n",
       "<a class=\"title ellipsis\" href=\"#\" onclick=\"fnPlaySong('95990155','1');return false;\" title=\"재생\">\n",
       "                                        \n",
       "                                            \n",
       "                                        \n",
       "                                        \n",
       "                                        \n",
       "                                        \n",
       "                                            \n",
       "                                                INVU</a>\n",
       "<a class=\"artist ellipsis\" href=\"#\" onclick=\"fnViewArtist('56069675');return false;\">태연 (TAEYEON)</a>\n",
       "<div class=\"toggle-button-box\">\n",
       "<button class=\"btn artist-etc\" onclick=\"fnRelationArtistList('95990155');\" type=\"button\">외</button>\n",
       "<ul class=\"list\" id=\"RelationArtist_95990155\"></ul>\n",
       "</div>\n",
       "<i class=\"bar\">|</i>\n",
       "<a class=\"albumtitle ellipsis\" href=\"#\" onclick=\"fnViewAlbumLayer('82529386');return false;\">INVU - The 3rd Album</a>\n",
       "</td>\n",
       "<td class=\"btns\"><a class=\"btn-basic btn-listen\" href=\"#\" onclick=\"fnPlaySong('95990155;' ,'1'); return false;\" title=\"재생\">듣기</a></td>\n",
       "<td class=\"btns\"><a class=\"btn-basic btn-add\" href=\"#\" onclick=\"fnPlaySong('95990155;' ,'3'); return false;\" title=\"추가\">재생목록에 추가</a></td>\n",
       "<td class=\"btns\"><button class=\"btn-basic btn-album\" id=\"add_my_album_95990155\" onclick=\"fnAddMyAlbumForm('#add_my_album_95990155' , '95990155' ,10, 10);return false;\" songid=\"95990155\" type=\"button\">플레이리스트에 담기</button></td>\n",
       "<td class=\"btns\"><a class=\"btn-basic btn-down\" href=\"#\" onclick=\"fnDownSong('95990155');return false;\" title=\"다운\">다운로드</a></td>\n",
       "<td class=\"btns\">\n",
       "<div class=\"toggle-button-box lyr-mv\" id=\"list-mv_95990155\">\n",
       "<a alt=\"INVU\" class=\"btn btn-basic btn-mv\" href=\"#\" onclick=\"fnPlayMv('95990155','3'); return false;\" title=\"뮤비\">뮤직비디오 보기</a>\n",
       "</div>\n",
       "</td>\n",
       "<td class=\"more\">\n",
       "<div class=\"toggle-button-box\">\n",
       "<button class=\"btn btn-basic btn-more\" type=\"button\">더보기</button>\n",
       "<ul class=\"list\">\n",
       "<li><a class=\"item\" href=\"#\" onclick=\"shareDo('95990155');return false;\" title=\"공유\">공유하기/음악나누기</a></li>\n",
       "<li><a class=\"item\" href=\"#\" onclick=\"fnGiftSong('95990155');return false;\" title=\"선물\">선물하기</a></li>\n",
       "</ul>\n",
       "</div>\n",
       "</td>\n",
       "</tr>"
      ]
     },
     "execution_count": 85,
     "metadata": {},
     "output_type": "execute_result"
    }
   ],
   "source": [
    "song = songs[0]\n",
    "song"
   ]
  },
  {
   "cell_type": "code",
   "execution_count": 86,
   "id": "f76f7595",
   "metadata": {},
   "outputs": [
    {
     "data": {
      "text/plain": [
       "'INVU'"
      ]
     },
     "execution_count": 86,
     "metadata": {},
     "output_type": "execute_result"
    }
   ],
   "source": [
    "title = song.select('td.info > a.ellipsis')[0].text\n",
    "title = title.replace('\\n',\"\")\n",
    "title = title.replace(' ',\"\")\n",
    "title\n"
   ]
  },
  {
   "cell_type": "code",
   "execution_count": 87,
   "id": "d6ff61a3",
   "metadata": {},
   "outputs": [
    {
     "data": {
      "text/plain": [
       "'태연 (TAEYEON)'"
      ]
     },
     "execution_count": 87,
     "metadata": {},
     "output_type": "execute_result"
    }
   ],
   "source": [
    "singer = song.select('td.info > a.artist')[0].text\n",
    "singer"
   ]
  },
  {
   "cell_type": "code",
   "execution_count": 88,
   "id": "c9c0af98",
   "metadata": {},
   "outputs": [
    {
     "name": "stdout",
     "output_type": "stream",
     "text": [
      "INVU  |  태연 (TAEYEON)\n",
      "노래(TheSong)  |  비투비\n",
      "취중고백  |  김민석 (멜로망스)\n",
      "abcdefu  |  GAYLE\n",
      "사랑은늘도망가  |  임영웅\n",
      "그래서그래(Feat.윤하)  |  에픽하이 (EPIK HIGH)\n",
      "다정히내이름을부르면  |  경서예지 & 전건호\n",
      "호랑수월가  |  탑현\n",
      "회전목마(Feat.Zion.T&원슈타인)(Prod.bySlom)  |  sokodomo\n",
      "ELEVEN  |  IVE (아이브)\n",
      "잊을수있을까  |  노을\n",
      "언제나사랑해  |  케이시 (Kassy)\n",
      "이제나만믿어요  |  임영웅\n",
      "StepBack  |  GOT the beat\n",
      "다시사랑한다면(김필Ver.)  |  임영웅\n",
      "리무진(Feat.MINO)(Prod.byGRAY)  |  BE'O (비오)\n",
      "서랍  |  10CM\n",
      "눈이오잖아(Feat.헤이즈)  |  이무진\n",
      "Stay  |  The Kid LAROI & Justin Bieber\n",
      "신호등  |  이무진\n",
      "CountingStars(Feat.Beenzino)  |  BE'O (비오)\n",
      "strawberrymoon  |  아이유 (IU)\n",
      "NextLevel  |  aespa\n",
      "겨울잠  |  아이유 (IU)\n",
      "별빛같은나의사랑아  |  임영웅\n",
      "Can'tControlMyself  |  태연 (TAEYEON)\n",
      "그대라는사치  |  임영웅\n",
      "끝사랑  |  임영웅\n",
      "Weekend  |  태연 (TAEYEON)\n",
      "잊었니  |  임영웅\n",
      "겨울..그다음봄  |  로시 (Rothy)\n",
      "HERO  |  임영웅\n",
      "너,너(N번째연애X휘인(WheeIn))  |  휘인 (Whee In)\n",
      "BadHabits  |  Ed Sheeran\n",
      "OHAYOMYNIGHT  |  디핵 (D-Hack) & PATEKO\n",
      "BkLove  |  임영웅\n",
      "문득  |  BE'O (비오)\n",
      "TinyRiot  |  Sam Ryder\n",
      "만남은쉽고이별은어려워(Feat.Leellamarz)(Prod.byTOIL)  |  베이식\n",
      "SMILEY(Feat.BIBI)  |  YENA (최예나)\n",
      "흰눈  |  먼데이 키즈 (Monday Kiz)\n",
      "바라만본다  |  MSG워너비 (M.O.M)\n",
      "Stronger(WhatDoesn'tKillYou)  |  Kelly Clarkson\n",
      "봄이피어나  |  비투비\n",
      "DreamsComeTrue  |  aespa\n",
      "드라마  |  아이유 (IU)\n",
      "우리가헤어져야했던이유  |  비비 (BIBI)\n",
      "너를생각해  |  주시크 (Joosiq)\n",
      "라일락  |  아이유 (IU)\n",
      "PermissiontoDance  |  방탄소년단\n"
     ]
    },
    {
     "data": {
      "text/plain": [
       "[['Genie', 1, 'INVU', '태연 (TAEYEON)'],\n",
       " ['Genie', 2, '노래(TheSong)', '비투비'],\n",
       " ['Genie', 3, '취중고백', '김민석 (멜로망스)'],\n",
       " ['Genie', 4, 'abcdefu', 'GAYLE'],\n",
       " ['Genie', 5, '사랑은늘도망가', '임영웅'],\n",
       " ['Genie', 6, '그래서그래(Feat.윤하)', '에픽하이 (EPIK HIGH)'],\n",
       " ['Genie', 7, '다정히내이름을부르면', '경서예지 & 전건호'],\n",
       " ['Genie', 8, '호랑수월가', '탑현'],\n",
       " ['Genie', 9, '회전목마(Feat.Zion.T&원슈타인)(Prod.bySlom)', 'sokodomo'],\n",
       " ['Genie', 10, 'ELEVEN', 'IVE (아이브)'],\n",
       " ['Genie', 11, '잊을수있을까', '노을'],\n",
       " ['Genie', 12, '언제나사랑해', '케이시 (Kassy)'],\n",
       " ['Genie', 13, '이제나만믿어요', '임영웅'],\n",
       " ['Genie', 14, 'StepBack', 'GOT the beat'],\n",
       " ['Genie', 15, '다시사랑한다면(김필Ver.)', '임영웅'],\n",
       " ['Genie', 16, '리무진(Feat.MINO)(Prod.byGRAY)', \"BE'O (비오)\"],\n",
       " ['Genie', 17, '서랍', '10CM'],\n",
       " ['Genie', 18, '눈이오잖아(Feat.헤이즈)', '이무진'],\n",
       " ['Genie', 19, 'Stay', 'The Kid LAROI & Justin Bieber'],\n",
       " ['Genie', 20, '신호등', '이무진'],\n",
       " ['Genie', 21, 'CountingStars(Feat.Beenzino)', \"BE'O (비오)\"],\n",
       " ['Genie', 22, 'strawberrymoon', '아이유 (IU)'],\n",
       " ['Genie', 23, 'NextLevel', 'aespa'],\n",
       " ['Genie', 24, '겨울잠', '아이유 (IU)'],\n",
       " ['Genie', 25, '별빛같은나의사랑아', '임영웅'],\n",
       " ['Genie', 26, \"Can'tControlMyself\", '태연 (TAEYEON)'],\n",
       " ['Genie', 27, '그대라는사치', '임영웅'],\n",
       " ['Genie', 28, '끝사랑', '임영웅'],\n",
       " ['Genie', 29, 'Weekend', '태연 (TAEYEON)'],\n",
       " ['Genie', 30, '잊었니', '임영웅'],\n",
       " ['Genie', 31, '겨울..그다음봄', '로시 (Rothy)'],\n",
       " ['Genie', 32, 'HERO', '임영웅'],\n",
       " ['Genie', 33, '너,너(N번째연애X휘인(WheeIn))', '휘인 (Whee In)'],\n",
       " ['Genie', 34, 'BadHabits', 'Ed Sheeran'],\n",
       " ['Genie', 35, 'OHAYOMYNIGHT', '디핵 (D-Hack) & PATEKO'],\n",
       " ['Genie', 36, 'BkLove', '임영웅'],\n",
       " ['Genie', 37, '문득', \"BE'O (비오)\"],\n",
       " ['Genie', 38, 'TinyRiot', 'Sam Ryder'],\n",
       " ['Genie', 39, '만남은쉽고이별은어려워(Feat.Leellamarz)(Prod.byTOIL)', '베이식'],\n",
       " ['Genie', 40, 'SMILEY(Feat.BIBI)', 'YENA (최예나)'],\n",
       " ['Genie', 41, '흰눈', '먼데이 키즈 (Monday Kiz)'],\n",
       " ['Genie', 42, '바라만본다', 'MSG워너비 (M.O.M)'],\n",
       " ['Genie', 43, \"Stronger(WhatDoesn'tKillYou)\", 'Kelly Clarkson'],\n",
       " ['Genie', 44, '봄이피어나', '비투비'],\n",
       " ['Genie', 45, 'DreamsComeTrue', 'aespa'],\n",
       " ['Genie', 46, '드라마', '아이유 (IU)'],\n",
       " ['Genie', 47, '우리가헤어져야했던이유', '비비 (BIBI)'],\n",
       " ['Genie', 48, '너를생각해', '주시크 (Joosiq)'],\n",
       " ['Genie', 49, '라일락', '아이유 (IU)'],\n",
       " ['Genie', 50, 'PermissiontoDance', '방탄소년단']]"
      ]
     },
     "execution_count": 88,
     "metadata": {},
     "output_type": "execute_result"
    }
   ],
   "source": [
    "song_data = []\n",
    "rank = 1\n",
    "songs = soup.select('table.list-wrap > tbody > tr')\n",
    "for song in songs:\n",
    "    title = song.select('td.info > a.ellipsis')[0].text\n",
    "    title = title.replace('\\n',\"\")\n",
    "    title = title.replace(' ',\"\")\n",
    "    singer = song.select('td.info > a.artist')[0].text\n",
    "    print(title,\" | \",singer)\n",
    "    song_data.append([\"Genie\",rank,title,singer])\n",
    "    rank = rank + 1\n",
    "song_data"
   ]
  },
  {
   "cell_type": "code",
   "execution_count": 89,
   "id": "4ae4aec7",
   "metadata": {},
   "outputs": [
    {
     "data": {
      "text/html": [
       "<div>\n",
       "<style scoped>\n",
       "    .dataframe tbody tr th:only-of-type {\n",
       "        vertical-align: middle;\n",
       "    }\n",
       "\n",
       "    .dataframe tbody tr th {\n",
       "        vertical-align: top;\n",
       "    }\n",
       "\n",
       "    .dataframe thead th {\n",
       "        text-align: right;\n",
       "    }\n",
       "</style>\n",
       "<table border=\"1\" class=\"dataframe\">\n",
       "  <thead>\n",
       "    <tr style=\"text-align: right;\">\n",
       "      <th></th>\n",
       "      <th>서비스</th>\n",
       "      <th>순위</th>\n",
       "      <th>타이틀</th>\n",
       "      <th>가수</th>\n",
       "    </tr>\n",
       "  </thead>\n",
       "  <tbody>\n",
       "    <tr>\n",
       "      <th>0</th>\n",
       "      <td>Genie</td>\n",
       "      <td>1</td>\n",
       "      <td>INVU</td>\n",
       "      <td>태연 (TAEYEON)</td>\n",
       "    </tr>\n",
       "    <tr>\n",
       "      <th>1</th>\n",
       "      <td>Genie</td>\n",
       "      <td>2</td>\n",
       "      <td>노래(TheSong)</td>\n",
       "      <td>비투비</td>\n",
       "    </tr>\n",
       "    <tr>\n",
       "      <th>2</th>\n",
       "      <td>Genie</td>\n",
       "      <td>3</td>\n",
       "      <td>취중고백</td>\n",
       "      <td>김민석 (멜로망스)</td>\n",
       "    </tr>\n",
       "    <tr>\n",
       "      <th>3</th>\n",
       "      <td>Genie</td>\n",
       "      <td>4</td>\n",
       "      <td>abcdefu</td>\n",
       "      <td>GAYLE</td>\n",
       "    </tr>\n",
       "    <tr>\n",
       "      <th>4</th>\n",
       "      <td>Genie</td>\n",
       "      <td>5</td>\n",
       "      <td>사랑은늘도망가</td>\n",
       "      <td>임영웅</td>\n",
       "    </tr>\n",
       "  </tbody>\n",
       "</table>\n",
       "</div>"
      ],
      "text/plain": [
       "     서비스  순위          타이틀            가수\n",
       "0  Genie   1         INVU  태연 (TAEYEON)\n",
       "1  Genie   2  노래(TheSong)           비투비\n",
       "2  Genie   3         취중고백    김민석 (멜로망스)\n",
       "3  Genie   4      abcdefu         GAYLE\n",
       "4  Genie   5      사랑은늘도망가           임영웅"
      ]
     },
     "execution_count": 89,
     "metadata": {},
     "output_type": "execute_result"
    }
   ],
   "source": [
    "columns = ['서비스','순위','타이틀','가수']\n",
    "pd_data = pd.DataFrame(song_data,columns = columns)\n",
    "pd_data.head()"
   ]
  },
  {
   "cell_type": "code",
   "execution_count": 90,
   "id": "a2b1b72d",
   "metadata": {},
   "outputs": [],
   "source": [
    "pd_data.to_excel('./files/genie.xlsx',index=False)"
   ]
  },
  {
   "cell_type": "code",
   "execution_count": 91,
   "id": "cef3762f",
   "metadata": {},
   "outputs": [
    {
     "name": "stdout",
     "output_type": "stream",
     "text": [
      "INVU  |  태연 (TAEYEON)\n",
      "노래(TheSong)  |  비투비\n",
      "취중고백  |  김민석 (멜로망스)\n",
      "abcdefu  |  GAYLE\n",
      "사랑은늘도망가  |  임영웅\n",
      "그래서그래(Feat.윤하)  |  에픽하이 (EPIK HIGH)\n",
      "다정히내이름을부르면  |  경서예지 & 전건호\n",
      "호랑수월가  |  탑현\n",
      "회전목마(Feat.Zion.T&원슈타인)(Prod.bySlom)  |  sokodomo\n",
      "ELEVEN  |  IVE (아이브)\n",
      "잊을수있을까  |  노을\n",
      "언제나사랑해  |  케이시 (Kassy)\n",
      "이제나만믿어요  |  임영웅\n",
      "StepBack  |  GOT the beat\n",
      "다시사랑한다면(김필Ver.)  |  임영웅\n",
      "리무진(Feat.MINO)(Prod.byGRAY)  |  BE'O (비오)\n",
      "서랍  |  10CM\n",
      "눈이오잖아(Feat.헤이즈)  |  이무진\n",
      "Stay  |  The Kid LAROI & Justin Bieber\n",
      "신호등  |  이무진\n",
      "CountingStars(Feat.Beenzino)  |  BE'O (비오)\n",
      "strawberrymoon  |  아이유 (IU)\n",
      "NextLevel  |  aespa\n",
      "겨울잠  |  아이유 (IU)\n",
      "별빛같은나의사랑아  |  임영웅\n",
      "Can'tControlMyself  |  태연 (TAEYEON)\n",
      "그대라는사치  |  임영웅\n",
      "끝사랑  |  임영웅\n",
      "Weekend  |  태연 (TAEYEON)\n",
      "잊었니  |  임영웅\n",
      "겨울..그다음봄  |  로시 (Rothy)\n",
      "HERO  |  임영웅\n",
      "너,너(N번째연애X휘인(WheeIn))  |  휘인 (Whee In)\n",
      "BadHabits  |  Ed Sheeran\n",
      "OHAYOMYNIGHT  |  디핵 (D-Hack) & PATEKO\n",
      "BkLove  |  임영웅\n",
      "문득  |  BE'O (비오)\n",
      "TinyRiot  |  Sam Ryder\n",
      "만남은쉽고이별은어려워(Feat.Leellamarz)(Prod.byTOIL)  |  베이식\n",
      "SMILEY(Feat.BIBI)  |  YENA (최예나)\n",
      "흰눈  |  먼데이 키즈 (Monday Kiz)\n",
      "바라만본다  |  MSG워너비 (M.O.M)\n",
      "Stronger(WhatDoesn'tKillYou)  |  Kelly Clarkson\n",
      "봄이피어나  |  비투비\n",
      "DreamsComeTrue  |  aespa\n",
      "드라마  |  아이유 (IU)\n",
      "우리가헤어져야했던이유  |  비비 (BIBI)\n",
      "너를생각해  |  주시크 (Joosiq)\n",
      "라일락  |  아이유 (IU)\n",
      "PermissiontoDance  |  방탄소년단\n"
     ]
    },
    {
     "data": {
      "text/plain": [
       "[['Genie', 1, 'INVU', '태연 (TAEYEON)'],\n",
       " ['Genie', 2, '노래(TheSong)', '비투비'],\n",
       " ['Genie', 3, '취중고백', '김민석 (멜로망스)'],\n",
       " ['Genie', 4, 'abcdefu', 'GAYLE'],\n",
       " ['Genie', 5, '사랑은늘도망가', '임영웅'],\n",
       " ['Genie', 6, '그래서그래(Feat.윤하)', '에픽하이 (EPIK HIGH)'],\n",
       " ['Genie', 7, '다정히내이름을부르면', '경서예지 & 전건호'],\n",
       " ['Genie', 8, '호랑수월가', '탑현'],\n",
       " ['Genie', 9, '회전목마(Feat.Zion.T&원슈타인)(Prod.bySlom)', 'sokodomo'],\n",
       " ['Genie', 10, 'ELEVEN', 'IVE (아이브)'],\n",
       " ['Genie', 11, '잊을수있을까', '노을'],\n",
       " ['Genie', 12, '언제나사랑해', '케이시 (Kassy)'],\n",
       " ['Genie', 13, '이제나만믿어요', '임영웅'],\n",
       " ['Genie', 14, 'StepBack', 'GOT the beat'],\n",
       " ['Genie', 15, '다시사랑한다면(김필Ver.)', '임영웅'],\n",
       " ['Genie', 16, '리무진(Feat.MINO)(Prod.byGRAY)', \"BE'O (비오)\"],\n",
       " ['Genie', 17, '서랍', '10CM'],\n",
       " ['Genie', 18, '눈이오잖아(Feat.헤이즈)', '이무진'],\n",
       " ['Genie', 19, 'Stay', 'The Kid LAROI & Justin Bieber'],\n",
       " ['Genie', 20, '신호등', '이무진'],\n",
       " ['Genie', 21, 'CountingStars(Feat.Beenzino)', \"BE'O (비오)\"],\n",
       " ['Genie', 22, 'strawberrymoon', '아이유 (IU)'],\n",
       " ['Genie', 23, 'NextLevel', 'aespa'],\n",
       " ['Genie', 24, '겨울잠', '아이유 (IU)'],\n",
       " ['Genie', 25, '별빛같은나의사랑아', '임영웅'],\n",
       " ['Genie', 26, \"Can'tControlMyself\", '태연 (TAEYEON)'],\n",
       " ['Genie', 27, '그대라는사치', '임영웅'],\n",
       " ['Genie', 28, '끝사랑', '임영웅'],\n",
       " ['Genie', 29, 'Weekend', '태연 (TAEYEON)'],\n",
       " ['Genie', 30, '잊었니', '임영웅'],\n",
       " ['Genie', 31, '겨울..그다음봄', '로시 (Rothy)'],\n",
       " ['Genie', 32, 'HERO', '임영웅'],\n",
       " ['Genie', 33, '너,너(N번째연애X휘인(WheeIn))', '휘인 (Whee In)'],\n",
       " ['Genie', 34, 'BadHabits', 'Ed Sheeran'],\n",
       " ['Genie', 35, 'OHAYOMYNIGHT', '디핵 (D-Hack) & PATEKO'],\n",
       " ['Genie', 36, 'BkLove', '임영웅'],\n",
       " ['Genie', 37, '문득', \"BE'O (비오)\"],\n",
       " ['Genie', 38, 'TinyRiot', 'Sam Ryder'],\n",
       " ['Genie', 39, '만남은쉽고이별은어려워(Feat.Leellamarz)(Prod.byTOIL)', '베이식'],\n",
       " ['Genie', 40, 'SMILEY(Feat.BIBI)', 'YENA (최예나)'],\n",
       " ['Genie', 41, '흰눈', '먼데이 키즈 (Monday Kiz)'],\n",
       " ['Genie', 42, '바라만본다', 'MSG워너비 (M.O.M)'],\n",
       " ['Genie', 43, \"Stronger(WhatDoesn'tKillYou)\", 'Kelly Clarkson'],\n",
       " ['Genie', 44, '봄이피어나', '비투비'],\n",
       " ['Genie', 45, 'DreamsComeTrue', 'aespa'],\n",
       " ['Genie', 46, '드라마', '아이유 (IU)'],\n",
       " ['Genie', 47, '우리가헤어져야했던이유', '비비 (BIBI)'],\n",
       " ['Genie', 48, '너를생각해', '주시크 (Joosiq)'],\n",
       " ['Genie', 49, '라일락', '아이유 (IU)'],\n",
       " ['Genie', 50, 'PermissiontoDance', '방탄소년단'],\n",
       " ['Genie', 51, 'INVU', '태연 (TAEYEON)'],\n",
       " ['Genie', 52, '노래(TheSong)', '비투비'],\n",
       " ['Genie', 53, '취중고백', '김민석 (멜로망스)'],\n",
       " ['Genie', 54, 'abcdefu', 'GAYLE'],\n",
       " ['Genie', 55, '사랑은늘도망가', '임영웅'],\n",
       " ['Genie', 56, '그래서그래(Feat.윤하)', '에픽하이 (EPIK HIGH)'],\n",
       " ['Genie', 57, '다정히내이름을부르면', '경서예지 & 전건호'],\n",
       " ['Genie', 58, '호랑수월가', '탑현'],\n",
       " ['Genie', 59, '회전목마(Feat.Zion.T&원슈타인)(Prod.bySlom)', 'sokodomo'],\n",
       " ['Genie', 60, 'ELEVEN', 'IVE (아이브)'],\n",
       " ['Genie', 61, '잊을수있을까', '노을'],\n",
       " ['Genie', 62, '언제나사랑해', '케이시 (Kassy)'],\n",
       " ['Genie', 63, '이제나만믿어요', '임영웅'],\n",
       " ['Genie', 64, 'StepBack', 'GOT the beat'],\n",
       " ['Genie', 65, '다시사랑한다면(김필Ver.)', '임영웅'],\n",
       " ['Genie', 66, '리무진(Feat.MINO)(Prod.byGRAY)', \"BE'O (비오)\"],\n",
       " ['Genie', 67, '서랍', '10CM'],\n",
       " ['Genie', 68, '눈이오잖아(Feat.헤이즈)', '이무진'],\n",
       " ['Genie', 69, 'Stay', 'The Kid LAROI & Justin Bieber'],\n",
       " ['Genie', 70, '신호등', '이무진'],\n",
       " ['Genie', 71, 'CountingStars(Feat.Beenzino)', \"BE'O (비오)\"],\n",
       " ['Genie', 72, 'strawberrymoon', '아이유 (IU)'],\n",
       " ['Genie', 73, 'NextLevel', 'aespa'],\n",
       " ['Genie', 74, '겨울잠', '아이유 (IU)'],\n",
       " ['Genie', 75, '별빛같은나의사랑아', '임영웅'],\n",
       " ['Genie', 76, \"Can'tControlMyself\", '태연 (TAEYEON)'],\n",
       " ['Genie', 77, '그대라는사치', '임영웅'],\n",
       " ['Genie', 78, '끝사랑', '임영웅'],\n",
       " ['Genie', 79, 'Weekend', '태연 (TAEYEON)'],\n",
       " ['Genie', 80, '잊었니', '임영웅'],\n",
       " ['Genie', 81, '겨울..그다음봄', '로시 (Rothy)'],\n",
       " ['Genie', 82, 'HERO', '임영웅'],\n",
       " ['Genie', 83, '너,너(N번째연애X휘인(WheeIn))', '휘인 (Whee In)'],\n",
       " ['Genie', 84, 'BadHabits', 'Ed Sheeran'],\n",
       " ['Genie', 85, 'OHAYOMYNIGHT', '디핵 (D-Hack) & PATEKO'],\n",
       " ['Genie', 86, 'BkLove', '임영웅'],\n",
       " ['Genie', 87, '문득', \"BE'O (비오)\"],\n",
       " ['Genie', 88, 'TinyRiot', 'Sam Ryder'],\n",
       " ['Genie', 89, '만남은쉽고이별은어려워(Feat.Leellamarz)(Prod.byTOIL)', '베이식'],\n",
       " ['Genie', 90, 'SMILEY(Feat.BIBI)', 'YENA (최예나)'],\n",
       " ['Genie', 91, '흰눈', '먼데이 키즈 (Monday Kiz)'],\n",
       " ['Genie', 92, '바라만본다', 'MSG워너비 (M.O.M)'],\n",
       " ['Genie', 93, \"Stronger(WhatDoesn'tKillYou)\", 'Kelly Clarkson'],\n",
       " ['Genie', 94, '봄이피어나', '비투비'],\n",
       " ['Genie', 95, 'DreamsComeTrue', 'aespa'],\n",
       " ['Genie', 96, '드라마', '아이유 (IU)'],\n",
       " ['Genie', 97, '우리가헤어져야했던이유', '비비 (BIBI)'],\n",
       " ['Genie', 98, '너를생각해', '주시크 (Joosiq)'],\n",
       " ['Genie', 99, '라일락', '아이유 (IU)'],\n",
       " ['Genie', 100, 'PermissiontoDance', '방탄소년단']]"
      ]
     },
     "execution_count": 91,
     "metadata": {},
     "output_type": "execute_result"
    }
   ],
   "source": [
    "rank = 51\n",
    "songs = soup.select('table.list-wrap > tbody > tr')\n",
    "for song in songs:\n",
    "    title = song.select('td.info > a.ellipsis')[0].text\n",
    "    title = title.replace('\\n',\"\")\n",
    "    title = title.replace(' ',\"\")\n",
    "    singer = song.select('td.info > a.artist')[0].text\n",
    "    print(title,\" | \",singer)\n",
    "    song_data.append([\"Genie\",rank,title,singer])\n",
    "    rank = rank + 1\n",
    "song_data"
   ]
  },
  {
   "cell_type": "code",
   "execution_count": 93,
   "id": "738f5a13",
   "metadata": {},
   "outputs": [
    {
     "ename": "FileNotFoundError",
     "evalue": "[Errno 2] No such file or directory: '.files/bugs.xlsx'",
     "output_type": "error",
     "traceback": [
      "\u001b[1;31m---------------------------------------------------------------------------\u001b[0m",
      "\u001b[1;31mFileNotFoundError\u001b[0m                         Traceback (most recent call last)",
      "\u001b[1;32mC:\\Users\\SINDON~1\\AppData\\Local\\Temp/ipykernel_17852/3080235092.py\u001b[0m in \u001b[0;36m<module>\u001b[1;34m\u001b[0m\n\u001b[0;32m      3\u001b[0m \u001b[1;33m\u001b[0m\u001b[0m\n\u001b[0;32m      4\u001b[0m \u001b[1;32mfor\u001b[0m \u001b[0mname\u001b[0m \u001b[1;32min\u001b[0m \u001b[0mexcel_names\u001b[0m\u001b[1;33m:\u001b[0m\u001b[1;33m\u001b[0m\u001b[1;33m\u001b[0m\u001b[0m\n\u001b[1;32m----> 5\u001b[1;33m     \u001b[0mpd_data\u001b[0m \u001b[1;33m=\u001b[0m \u001b[0mpd\u001b[0m\u001b[1;33m.\u001b[0m\u001b[0mread_excel\u001b[0m\u001b[1;33m(\u001b[0m\u001b[0mname\u001b[0m\u001b[1;33m)\u001b[0m\u001b[1;33m\u001b[0m\u001b[1;33m\u001b[0m\u001b[0m\n\u001b[0m\u001b[0;32m      6\u001b[0m     \u001b[0mappended_data\u001b[0m \u001b[1;33m=\u001b[0m \u001b[0mappended_data\u001b[0m\u001b[1;33m.\u001b[0m\u001b[0mappend\u001b[0m\u001b[1;33m(\u001b[0m\u001b[0mpd_data\u001b[0m\u001b[1;33m)\u001b[0m\u001b[1;33m\u001b[0m\u001b[1;33m\u001b[0m\u001b[0m\n",
      "\u001b[1;32mC:\\ProgramData\\Anaconda3\\lib\\site-packages\\pandas\\util\\_decorators.py\u001b[0m in \u001b[0;36mwrapper\u001b[1;34m(*args, **kwargs)\u001b[0m\n\u001b[0;32m    309\u001b[0m                     \u001b[0mstacklevel\u001b[0m\u001b[1;33m=\u001b[0m\u001b[0mstacklevel\u001b[0m\u001b[1;33m,\u001b[0m\u001b[1;33m\u001b[0m\u001b[1;33m\u001b[0m\u001b[0m\n\u001b[0;32m    310\u001b[0m                 )\n\u001b[1;32m--> 311\u001b[1;33m             \u001b[1;32mreturn\u001b[0m \u001b[0mfunc\u001b[0m\u001b[1;33m(\u001b[0m\u001b[1;33m*\u001b[0m\u001b[0margs\u001b[0m\u001b[1;33m,\u001b[0m \u001b[1;33m**\u001b[0m\u001b[0mkwargs\u001b[0m\u001b[1;33m)\u001b[0m\u001b[1;33m\u001b[0m\u001b[1;33m\u001b[0m\u001b[0m\n\u001b[0m\u001b[0;32m    312\u001b[0m \u001b[1;33m\u001b[0m\u001b[0m\n\u001b[0;32m    313\u001b[0m         \u001b[1;32mreturn\u001b[0m \u001b[0mwrapper\u001b[0m\u001b[1;33m\u001b[0m\u001b[1;33m\u001b[0m\u001b[0m\n",
      "\u001b[1;32mC:\\ProgramData\\Anaconda3\\lib\\site-packages\\pandas\\io\\excel\\_base.py\u001b[0m in \u001b[0;36mread_excel\u001b[1;34m(io, sheet_name, header, names, index_col, usecols, squeeze, dtype, engine, converters, true_values, false_values, skiprows, nrows, na_values, keep_default_na, na_filter, verbose, parse_dates, date_parser, thousands, comment, skipfooter, convert_float, mangle_dupe_cols, storage_options)\u001b[0m\n\u001b[0;32m    362\u001b[0m     \u001b[1;32mif\u001b[0m \u001b[1;32mnot\u001b[0m \u001b[0misinstance\u001b[0m\u001b[1;33m(\u001b[0m\u001b[0mio\u001b[0m\u001b[1;33m,\u001b[0m \u001b[0mExcelFile\u001b[0m\u001b[1;33m)\u001b[0m\u001b[1;33m:\u001b[0m\u001b[1;33m\u001b[0m\u001b[1;33m\u001b[0m\u001b[0m\n\u001b[0;32m    363\u001b[0m         \u001b[0mshould_close\u001b[0m \u001b[1;33m=\u001b[0m \u001b[1;32mTrue\u001b[0m\u001b[1;33m\u001b[0m\u001b[1;33m\u001b[0m\u001b[0m\n\u001b[1;32m--> 364\u001b[1;33m         \u001b[0mio\u001b[0m \u001b[1;33m=\u001b[0m \u001b[0mExcelFile\u001b[0m\u001b[1;33m(\u001b[0m\u001b[0mio\u001b[0m\u001b[1;33m,\u001b[0m \u001b[0mstorage_options\u001b[0m\u001b[1;33m=\u001b[0m\u001b[0mstorage_options\u001b[0m\u001b[1;33m,\u001b[0m \u001b[0mengine\u001b[0m\u001b[1;33m=\u001b[0m\u001b[0mengine\u001b[0m\u001b[1;33m)\u001b[0m\u001b[1;33m\u001b[0m\u001b[1;33m\u001b[0m\u001b[0m\n\u001b[0m\u001b[0;32m    365\u001b[0m     \u001b[1;32melif\u001b[0m \u001b[0mengine\u001b[0m \u001b[1;32mand\u001b[0m \u001b[0mengine\u001b[0m \u001b[1;33m!=\u001b[0m \u001b[0mio\u001b[0m\u001b[1;33m.\u001b[0m\u001b[0mengine\u001b[0m\u001b[1;33m:\u001b[0m\u001b[1;33m\u001b[0m\u001b[1;33m\u001b[0m\u001b[0m\n\u001b[0;32m    366\u001b[0m         raise ValueError(\n",
      "\u001b[1;32mC:\\ProgramData\\Anaconda3\\lib\\site-packages\\pandas\\io\\excel\\_base.py\u001b[0m in \u001b[0;36m__init__\u001b[1;34m(self, path_or_buffer, engine, storage_options)\u001b[0m\n\u001b[0;32m   1189\u001b[0m                 \u001b[0mext\u001b[0m \u001b[1;33m=\u001b[0m \u001b[1;34m\"xls\"\u001b[0m\u001b[1;33m\u001b[0m\u001b[1;33m\u001b[0m\u001b[0m\n\u001b[0;32m   1190\u001b[0m             \u001b[1;32melse\u001b[0m\u001b[1;33m:\u001b[0m\u001b[1;33m\u001b[0m\u001b[1;33m\u001b[0m\u001b[0m\n\u001b[1;32m-> 1191\u001b[1;33m                 ext = inspect_excel_format(\n\u001b[0m\u001b[0;32m   1192\u001b[0m                     \u001b[0mcontent_or_path\u001b[0m\u001b[1;33m=\u001b[0m\u001b[0mpath_or_buffer\u001b[0m\u001b[1;33m,\u001b[0m \u001b[0mstorage_options\u001b[0m\u001b[1;33m=\u001b[0m\u001b[0mstorage_options\u001b[0m\u001b[1;33m\u001b[0m\u001b[1;33m\u001b[0m\u001b[0m\n\u001b[0;32m   1193\u001b[0m                 )\n",
      "\u001b[1;32mC:\\ProgramData\\Anaconda3\\lib\\site-packages\\pandas\\io\\excel\\_base.py\u001b[0m in \u001b[0;36minspect_excel_format\u001b[1;34m(content_or_path, storage_options)\u001b[0m\n\u001b[0;32m   1068\u001b[0m         \u001b[0mcontent_or_path\u001b[0m \u001b[1;33m=\u001b[0m \u001b[0mBytesIO\u001b[0m\u001b[1;33m(\u001b[0m\u001b[0mcontent_or_path\u001b[0m\u001b[1;33m)\u001b[0m\u001b[1;33m\u001b[0m\u001b[1;33m\u001b[0m\u001b[0m\n\u001b[0;32m   1069\u001b[0m \u001b[1;33m\u001b[0m\u001b[0m\n\u001b[1;32m-> 1070\u001b[1;33m     with get_handle(\n\u001b[0m\u001b[0;32m   1071\u001b[0m         \u001b[0mcontent_or_path\u001b[0m\u001b[1;33m,\u001b[0m \u001b[1;34m\"rb\"\u001b[0m\u001b[1;33m,\u001b[0m \u001b[0mstorage_options\u001b[0m\u001b[1;33m=\u001b[0m\u001b[0mstorage_options\u001b[0m\u001b[1;33m,\u001b[0m \u001b[0mis_text\u001b[0m\u001b[1;33m=\u001b[0m\u001b[1;32mFalse\u001b[0m\u001b[1;33m\u001b[0m\u001b[1;33m\u001b[0m\u001b[0m\n\u001b[0;32m   1072\u001b[0m     ) as handle:\n",
      "\u001b[1;32mC:\\ProgramData\\Anaconda3\\lib\\site-packages\\pandas\\io\\common.py\u001b[0m in \u001b[0;36mget_handle\u001b[1;34m(path_or_buf, mode, encoding, compression, memory_map, is_text, errors, storage_options)\u001b[0m\n\u001b[0;32m    709\u001b[0m         \u001b[1;32melse\u001b[0m\u001b[1;33m:\u001b[0m\u001b[1;33m\u001b[0m\u001b[1;33m\u001b[0m\u001b[0m\n\u001b[0;32m    710\u001b[0m             \u001b[1;31m# Binary mode\u001b[0m\u001b[1;33m\u001b[0m\u001b[1;33m\u001b[0m\u001b[0m\n\u001b[1;32m--> 711\u001b[1;33m             \u001b[0mhandle\u001b[0m \u001b[1;33m=\u001b[0m \u001b[0mopen\u001b[0m\u001b[1;33m(\u001b[0m\u001b[0mhandle\u001b[0m\u001b[1;33m,\u001b[0m \u001b[0mioargs\u001b[0m\u001b[1;33m.\u001b[0m\u001b[0mmode\u001b[0m\u001b[1;33m)\u001b[0m\u001b[1;33m\u001b[0m\u001b[1;33m\u001b[0m\u001b[0m\n\u001b[0m\u001b[0;32m    712\u001b[0m         \u001b[0mhandles\u001b[0m\u001b[1;33m.\u001b[0m\u001b[0mappend\u001b[0m\u001b[1;33m(\u001b[0m\u001b[0mhandle\u001b[0m\u001b[1;33m)\u001b[0m\u001b[1;33m\u001b[0m\u001b[1;33m\u001b[0m\u001b[0m\n\u001b[0;32m    713\u001b[0m \u001b[1;33m\u001b[0m\u001b[0m\n",
      "\u001b[1;31mFileNotFoundError\u001b[0m: [Errno 2] No such file or directory: '.files/bugs.xlsx'"
     ]
    }
   ],
   "source": [
    "excel_names = ['./files/melon.xlsx','.files/bugs.xlsx','./files/genie.xlsx']\n",
    "appended_data = pd.DataFrame()\n",
    "\n",
    "for name in excel_names:\n",
    "    pd_data = pd.read_excel(name)\n",
    "    appended_data = appended_data.append(pd_data)"
   ]
  },
  {
   "cell_type": "code",
   "execution_count": null,
   "id": "1b534013",
   "metadata": {},
   "outputs": [],
   "source": [
    "appended_data.info()"
   ]
  },
  {
   "cell_type": "code",
   "execution_count": null,
   "id": "d21a8d1c",
   "metadata": {},
   "outputs": [],
   "source": [
    "appended_data.to_excel('./files/total.xlsx',index=False)"
   ]
  }
 ],
 "metadata": {
  "kernelspec": {
   "display_name": "Python 3 (ipykernel)",
   "language": "python",
   "name": "python3"
  },
  "language_info": {
   "codemirror_mode": {
    "name": "ipython",
    "version": 3
   },
   "file_extension": ".py",
   "mimetype": "text/x-python",
   "name": "python",
   "nbconvert_exporter": "python",
   "pygments_lexer": "ipython3",
   "version": "3.9.7"
  }
 },
 "nbformat": 4,
 "nbformat_minor": 5
}
