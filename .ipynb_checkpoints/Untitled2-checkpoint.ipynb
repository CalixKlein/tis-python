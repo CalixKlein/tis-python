{
 "cells": [
  {
   "cell_type": "code",
   "execution_count": 2,
   "id": "d8cada1d",
   "metadata": {},
   "outputs": [
    {
     "name": "stdout",
     "output_type": "stream",
     "text": [
      "Requirement already satisfied: numpy in c:\\programdata\\anaconda3\\lib\\site-packages (1.20.3)\n"
     ]
    }
   ],
   "source": [
    "# !pip install numpy"
   ]
  },
  {
   "cell_type": "code",
   "execution_count": 3,
   "id": "31cc51b8",
   "metadata": {},
   "outputs": [],
   "source": [
    "import numpy as np"
   ]
  },
  {
   "cell_type": "code",
   "execution_count": 12,
   "id": "fe9aefc8",
   "metadata": {},
   "outputs": [],
   "source": [
    "narray = np.array([1,3,5,7,9])"
   ]
  },
  {
   "cell_type": "code",
   "execution_count": 8,
   "id": "02eed9ba",
   "metadata": {},
   "outputs": [
    {
     "name": "stdout",
     "output_type": "stream",
     "text": [
      "[1 3 5 7 9]\n"
     ]
    }
   ],
   "source": [
    "print(narray)"
   ]
  },
  {
   "cell_type": "code",
   "execution_count": 14,
   "id": "ff5d6719",
   "metadata": {},
   "outputs": [
    {
     "name": "stdout",
     "output_type": "stream",
     "text": [
      "(5,)\n"
     ]
    }
   ],
   "source": [
    "print(narray.shape)"
   ]
  },
  {
   "cell_type": "code",
   "execution_count": 17,
   "id": "fa7d7e66",
   "metadata": {},
   "outputs": [],
   "source": [
    "darray = np.array(([1,3,5,7,9],[2,4,6,8,10]))"
   ]
  },
  {
   "cell_type": "code",
   "execution_count": 19,
   "id": "932f1ec4",
   "metadata": {},
   "outputs": [
    {
     "name": "stdout",
     "output_type": "stream",
     "text": [
      "[[ 1  3  5  7  9]\n",
      " [ 2  4  6  8 10]]\n"
     ]
    }
   ],
   "source": [
    "print(darray)"
   ]
  },
  {
   "cell_type": "code",
   "execution_count": 22,
   "id": "a7ffebab",
   "metadata": {},
   "outputs": [
    {
     "name": "stdout",
     "output_type": "stream",
     "text": [
      "(2, 5)\n"
     ]
    }
   ],
   "source": [
    "print(darray.shape)"
   ]
  },
  {
   "cell_type": "code",
   "execution_count": 24,
   "id": "5f77faf2",
   "metadata": {},
   "outputs": [],
   "source": [
    "d52 = darray.reshape(5,2)"
   ]
  },
  {
   "cell_type": "code",
   "execution_count": 26,
   "id": "6c310217",
   "metadata": {},
   "outputs": [
    {
     "name": "stdout",
     "output_type": "stream",
     "text": [
      "[[ 1  3]\n",
      " [ 5  7]\n",
      " [ 9  2]\n",
      " [ 4  6]\n",
      " [ 8 10]]\n"
     ]
    }
   ],
   "source": [
    "print(d52)"
   ]
  },
  {
   "cell_type": "code",
   "execution_count": 27,
   "id": "cb577d2f",
   "metadata": {},
   "outputs": [
    {
     "name": "stdout",
     "output_type": "stream",
     "text": [
      "(5, 2)\n"
     ]
    }
   ],
   "source": [
    "print(d52.shape)"
   ]
  },
  {
   "cell_type": "code",
   "execution_count": 30,
   "id": "766b0ade",
   "metadata": {},
   "outputs": [],
   "source": [
    "d10 = darray.reshape(10,)"
   ]
  },
  {
   "cell_type": "code",
   "execution_count": 32,
   "id": "8a0944ef",
   "metadata": {},
   "outputs": [
    {
     "name": "stdout",
     "output_type": "stream",
     "text": [
      "[ 1  3  5  7  9  2  4  6  8 10] (10,)\n"
     ]
    }
   ],
   "source": [
    "print(d10,d10.shape)"
   ]
  },
  {
   "cell_type": "code",
   "execution_count": 34,
   "id": "99e98867",
   "metadata": {},
   "outputs": [],
   "source": [
    "zero = np.zeros((2,5))"
   ]
  },
  {
   "cell_type": "code",
   "execution_count": 36,
   "id": "4b106333",
   "metadata": {},
   "outputs": [
    {
     "name": "stdout",
     "output_type": "stream",
     "text": [
      "[[0. 0. 0. 0. 0.]\n",
      " [0. 0. 0. 0. 0.]] (2, 5)\n"
     ]
    }
   ],
   "source": [
    "print(zero, zero.shape)"
   ]
  },
  {
   "cell_type": "code",
   "execution_count": 38,
   "id": "c885e2a8",
   "metadata": {},
   "outputs": [],
   "source": [
    "one = np.ones((2,5))"
   ]
  },
  {
   "cell_type": "code",
   "execution_count": 41,
   "id": "21091d5a",
   "metadata": {},
   "outputs": [
    {
     "name": "stdout",
     "output_type": "stream",
     "text": [
      "[[1. 1. 1. 1. 1.]\n",
      " [1. 1. 1. 1. 1.]] (2, 5)\n"
     ]
    }
   ],
   "source": [
    "print(one,one.shape)"
   ]
  },
  {
   "cell_type": "code",
   "execution_count": 43,
   "id": "8fdc63da",
   "metadata": {},
   "outputs": [],
   "source": [
    "#rand() #값의 범위 0~1"
   ]
  },
  {
   "cell_type": "code",
   "execution_count": 71,
   "id": "b34b644f",
   "metadata": {},
   "outputs": [],
   "source": [
    "r = np.random.rand(3)"
   ]
  },
  {
   "cell_type": "code",
   "execution_count": 73,
   "id": "c0bcbf27",
   "metadata": {},
   "outputs": [
    {
     "name": "stdout",
     "output_type": "stream",
     "text": [
      "[0.537575  0.4669503 0.5134081]\n"
     ]
    }
   ],
   "source": [
    "print(r)"
   ]
  },
  {
   "cell_type": "code",
   "execution_count": 179,
   "id": "63f43e0b",
   "metadata": {},
   "outputs": [
    {
     "data": {
      "image/png": "[encoded data removed]",
      "text/plain": [
       "<Figure size 432x288 with 1 Axes>"
      ]
     },
     "metadata": {
      "needs_background": "light"
     },
     "output_type": "display_data"
    }
   ],
   "source": [
    "import matplotlib.pyplot as plt\n",
    "r1000 = np.random.rand(1000)\n",
    "plt.hist(r1000)\n",
    "plt.grid()"
   ]
  },
  {
   "cell_type": "code",
   "execution_count": 109,
   "id": "992ce065",
   "metadata": {},
   "outputs": [],
   "source": [
    "ni = np.random.randint(1,100,5)"
   ]
  },
  {
   "cell_type": "code",
   "execution_count": 111,
   "id": "fb7bb9f7",
   "metadata": {},
   "outputs": [
    {
     "name": "stdout",
     "output_type": "stream",
     "text": [
      "[17 95 19 21 51]\n"
     ]
    }
   ],
   "source": [
    "print(ni)"
   ]
  },
  {
   "cell_type": "code",
   "execution_count": 114,
   "id": "106b9d38",
   "metadata": {},
   "outputs": [
    {
     "name": "stdout",
     "output_type": "stream",
     "text": [
      "[37 22 30 38 28 30]\n"
     ]
    }
   ],
   "source": [
    "lt = np.random.randint(1,45,6)\n",
    "print(lt)"
   ]
  },
  {
   "cell_type": "code",
   "execution_count": 160,
   "id": "43b48deb",
   "metadata": {},
   "outputs": [
    {
     "name": "stdout",
     "output_type": "stream",
     "text": [
      "[0.28935335 0.14263531 0.56496119]\n",
      "[0.19970483 0.45490608 0.57020807]\n"
     ]
    }
   ],
   "source": [
    "print(np.random.rand(3))\n",
    "print(np.random.rand(3))\n"
   ]
  },
  {
   "cell_type": "code",
   "execution_count": 180,
   "id": "56991020",
   "metadata": {},
   "outputs": [
    {
     "name": "stdout",
     "output_type": "stream",
     "text": [
      "[0.19151945 0.62210877 0.43772774]\n",
      "[0.19151945 0.62210877 0.43772774]\n"
     ]
    }
   ],
   "source": [
    "np.random.seed(1234)\n",
    "print(np.random.rand(3))\n",
    "\n",
    "np.random.seed(1234)\n",
    "print(np.random.rand(3))"
   ]
  },
  {
   "cell_type": "code",
   "execution_count": null,
   "id": "29c0ca0b",
   "metadata": {},
   "outputs": [],
   "source": []
  }
 ],
 "metadata": {
  "kernelspec": {
   "display_name": "Python 3 (ipykernel)",
   "language": "python",
   "name": "python3"
  },
  "language_info": {
   "codemirror_mode": {
    "name": "ipython",
    "version": 3
   },
   "file_extension": ".py",
   "mimetype": "text/x-python",
   "name": "python",
   "nbconvert_exporter": "python",
   "pygments_lexer": "ipython3",
   "version": "3.9.7"
  }
 },
 "nbformat": 4,
 "nbformat_minor": 5
}
